{
 "cells": [
  {
   "cell_type": "markdown",
   "id": "067ea9cf-7261-43b4-b969-24f4aa10ce1c",
   "metadata": {},
   "source": [
    "# Introduction to `pandas`\n",
    "\n",
    "The `pandas` library (https://pandas.pydata.org) is one of the most used\n",
    "tool at the disposal of people working with data in `python` today.\n",
    "\n",
    "-   It allows to **crunch data** easily\n",
    "-   It mainly provides a `DataFrame` object (a **table of data**) with a\n",
    "    huge set of functionalities\n",
    "\n",
    "\n",
    "## Why ?\n",
    "\n",
    "Through `pandas`, you get acquainted with your data by **analyzing** it\n",
    "\n",
    "-   What’s the average, median, max, or min of each column?\n",
    "-   Does column A correlate with column B?\n",
    "-   What does the distribution of data in column C look like?\n",
    "\n",
    "## Why (con’t) ?\n",
    "\n",
    "you get acquainted with your data by **cleaning** and **transforming**\n",
    "it\n",
    "\n",
    "-   Removing missing values, filter rows or columns using some criteria\n",
    "-   Store the cleaned, transformed data back into virtually any format\n",
    "    or database\n",
    "-   Data visualization (when combined `matplotlib` or `seaborn` or\n",
    "    others)\n",
    "\n",
    "## Where ?\n",
    "\n",
    "`pandas` is a central component of the `python` “stack” for data science\n",
    "\n",
    "-   `pandas` is built on top of `numpy`\n",
    "-   often used in conjunction with other libraries\n",
    "-   a `DataFrame` is often fed to plotting functions or machine learning\n",
    "    algorithms (such as `scikit-learn`)\n",
    "-   Well-interfaced with `jupyter`, leading to a nice interactive\n",
    "    environment for data exploration and modeling\n",
    "\n",
    "## Core components of pandas\n",
    "\n",
    "The two primary components of pandas are the `Series` and `DataFrame`.\n",
    "\n",
    "-   A `Series` is essentially a column\n",
    "\n",
    "-   A `DataFrame` is a multi-dimensional table made up of a collection\n",
    "    of `Series` with equal length\n",
    "\n",
    "## Creating a `DataFrame` from scratch"
   ]
  },
  {
   "cell_type": "code",
   "execution_count": null,
   "id": "de77b613",
   "metadata": {},
   "outputs": [],
   "source": [
    "import pandas as pd\n",
    "\n",
    "fruits = {\n",
    "    \"apples\": [3, 2, 0, 1],\n",
    "    \"oranges\": [0, 3, 7, 2]\n",
    "}\n",
    "\n",
    "df_fruits = pd.DataFrame(fruits)\n",
    "df_fruits"
   ]
  },
  {
   "cell_type": "code",
   "execution_count": null,
   "id": "c6703aaf",
   "metadata": {},
   "outputs": [],
   "source": [
    "type(df_fruits)"
   ]
  },
  {
   "cell_type": "code",
   "execution_count": null,
   "id": "ab1cb2a3",
   "metadata": {},
   "outputs": [],
   "source": [
    "df_fruits[\"apples\"]"
   ]
  },
  {
   "cell_type": "code",
   "execution_count": null,
   "id": "3a867847",
   "metadata": {},
   "outputs": [],
   "source": [
    "type(df_fruits[\"apples\"])"
   ]
  },
  {
   "cell_type": "markdown",
   "id": "aee2e7b4-0148-4b47-871a-db11fbfef74c",
   "metadata": {},
   "source": [
    "## Indexing\n",
    "\n",
    "-   By default, a `DataFrame` uses a contiguous index\n",
    "-   But what if we want to say **who** buys the fruits ?"
   ]
  },
  {
   "cell_type": "code",
   "execution_count": null,
   "id": "b2a23bda",
   "metadata": {},
   "outputs": [],
   "source": [
    "df_fruits = pd.DataFrame(fruits, index=[\"Daniel\", \"Sean\", \"Pierce\", \"Roger\"])\n",
    "df_fruits"
   ]
  },
  {
   "cell_type": "markdown",
   "id": "83e5936f-ff71-4f41-ae66-8921436c5837",
   "metadata": {},
   "source": [
    "## `.loc` versus `.iloc`\n",
    "\n",
    "-   `.loc` **loc**ates by name\n",
    "-   `.iloc` **loc**ates by numerical **i**ndex"
   ]
  },
  {
   "cell_type": "code",
   "execution_count": null,
   "id": "0f67e765",
   "metadata": {},
   "outputs": [],
   "source": [
    "df_fruits"
   ]
  },
  {
   "cell_type": "code",
   "execution_count": null,
   "id": "26b36c21",
   "metadata": {},
   "outputs": [],
   "source": [
    "# What's in Sean's basket ?\n",
    "df_fruits.loc['Sean']"
   ]
  },
  {
   "cell_type": "code",
   "execution_count": null,
   "id": "cf272264",
   "metadata": {},
   "outputs": [],
   "source": [
    "# Who has oranges ?\n",
    "df_fruits.loc[:, 'oranges']"
   ]
  },
  {
   "cell_type": "code",
   "execution_count": null,
   "id": "5295ba60",
   "metadata": {},
   "outputs": [],
   "source": [
    "# How many apples in Pierce's basket ?\n",
    "df_fruits.loc['Pierce', 'apples']"
   ]
  },
  {
   "cell_type": "code",
   "execution_count": null,
   "id": "e2498e0a",
   "metadata": {},
   "outputs": [],
   "source": [
    "df_fruits"
   ]
  },
  {
   "cell_type": "code",
   "execution_count": null,
   "id": "44ef02b9",
   "metadata": {},
   "outputs": [],
   "source": [
    "df_fruits.iloc[2, 1]"
   ]
  },
  {
   "cell_type": "markdown",
   "id": "8041dfc8-c41a-4d10-9e76-f477a860ea89",
   "metadata": {},
   "source": [
    "## Main attributes and methods of a `DataFrame`\n",
    "\n",
    "A `DataFrame` has many **attributes**"
   ]
  },
  {
   "cell_type": "code",
   "execution_count": null,
   "id": "9d8d8d22",
   "metadata": {},
   "outputs": [],
   "source": [
    "df_fruits.columns"
   ]
  },
  {
   "cell_type": "code",
   "execution_count": null,
   "id": "f2dd64e5",
   "metadata": {},
   "outputs": [],
   "source": [
    "df_fruits.index"
   ]
  },
  {
   "cell_type": "code",
   "execution_count": null,
   "id": "b2e1c2fa",
   "metadata": {},
   "outputs": [],
   "source": [
    "df_fruits.dtypes"
   ]
  },
  {
   "cell_type": "markdown",
   "id": "98ba5581-2f7b-4855-99f6-d7bbd8034621",
   "metadata": {},
   "source": [
    "A `DataFrame` has many **methods**"
   ]
  },
  {
   "cell_type": "code",
   "execution_count": null,
   "id": "f8af9795",
   "metadata": {},
   "outputs": [],
   "source": [
    "df_fruits.info()"
   ]
  },
  {
   "cell_type": "code",
   "execution_count": null,
   "id": "f2533e28",
   "metadata": {},
   "outputs": [],
   "source": [
    "df_fruits.describe()"
   ]
  },
  {
   "cell_type": "markdown",
   "id": "0075561c-8ee4-4c30-9773-e89fc9891ba2",
   "metadata": {},
   "source": [
    "## Missing values\n",
    "\n",
    "What if we don’t know how many apples are in Sean’s basket ?"
   ]
  },
  {
   "cell_type": "code",
   "execution_count": null,
   "id": "cfd272e6",
   "metadata": {},
   "outputs": [],
   "source": [
    "df_fruits.loc['Sean', 'apples'] = None\n",
    "df_fruits"
   ]
  },
  {
   "cell_type": "code",
   "execution_count": null,
   "id": "691ef267",
   "metadata": {},
   "outputs": [],
   "source": [
    "df_fruits.describe()"
   ]
  },
  {
   "cell_type": "markdown",
   "id": "2bdb7167-8738-4978-91c3-024511a39012",
   "metadata": {},
   "source": [
    "Note that `count` is **3** for apples now, since we have 1 missing value\n",
    "among the 4\n",
    "\n",
    "> **Note**\n",
    ">\n",
    "> To review the members of objects of class `pandas.DataFrame`, `dir()`\n",
    "> and module `inspect` are convenient."
   ]
  },
  {
   "cell_type": "code",
   "execution_count": null,
   "id": "bb390bb1",
   "metadata": {},
   "outputs": [],
   "source": [
    "[x for x in dir(df_fruits) if not x.startswith('_') and not callable(x)]"
   ]
  },
  {
   "cell_type": "code",
   "execution_count": null,
   "id": "eaed0705",
   "metadata": {},
   "outputs": [],
   "source": [
    "import inspect\n",
    "\n",
    "# Get a list of methods\n",
    "membres = inspect.getmembers(df_fruits)\n",
    "\n",
    "method_names = [m[0] for m in membres \n",
    "    if callable(m[1]) and not m[0].startswith('_')]\n",
    "\n",
    "print(method_names)"
   ]
  },
  {
   "cell_type": "code",
   "execution_count": null,
   "id": "55b9e676",
   "metadata": {},
   "outputs": [],
   "source": [
    "others = [x for x in membres\n",
    "    if not callable(x[1])]\n",
    "\n",
    "[x[0] for x in others if not x[0].startswith('_')]"
   ]
  },
  {
   "cell_type": "markdown",
   "id": "d301e077-377c-4c99-b6e6-073953f54275",
   "metadata": {},
   "source": [
    "## Adding a column\n",
    "\n",
    "Ooooops, we forgot about the bananas !"
   ]
  },
  {
   "cell_type": "code",
   "execution_count": null,
   "id": "b828eb0e",
   "metadata": {},
   "outputs": [],
   "source": [
    "df_fruits[\"bananas\"] = [0, 2, 1, 6]\n",
    "df_fruits"
   ]
  },
  {
   "cell_type": "markdown",
   "id": "a86439c4-eebb-4721-8877-70cc10716e0b",
   "metadata": {},
   "source": [
    "## Adding a column with the date\n",
    "\n",
    "And we forgot the dates !"
   ]
  },
  {
   "cell_type": "code",
   "execution_count": null,
   "id": "5fc2b040",
   "metadata": {},
   "outputs": [],
   "source": [
    "df_fruits['time'] = [\n",
    "    \"2020/10/08 12:13\", \"2020/10/07 11:37\", \n",
    "    \"2020/10/10 14:07\", \"2020/10/09 10:51\"\n",
    "]\n",
    "df_fruits"
   ]
  },
  {
   "cell_type": "code",
   "execution_count": null,
   "id": "69a0f9b3",
   "metadata": {},
   "outputs": [],
   "source": [
    "df_fruits.dtypes"
   ]
  },
  {
   "cell_type": "code",
   "execution_count": null,
   "id": "befb1554",
   "metadata": {},
   "outputs": [],
   "source": [
    "type(df_fruits.loc[\"Roger\", \"time\"])"
   ]
  },
  {
   "cell_type": "markdown",
   "id": "09738500-d441-4a97-946b-aa1d7afe1048",
   "metadata": {},
   "source": [
    "It is not a date but a string (`str`) ! So we convert this column to\n",
    "something called `datetime`"
   ]
  },
  {
   "cell_type": "code",
   "execution_count": null,
   "id": "5af53a01",
   "metadata": {},
   "outputs": [],
   "source": [
    "df_fruits[\"time\"] = pd.to_datetime(df_fruits[\"time\"])\n",
    "df_fruits"
   ]
  },
  {
   "cell_type": "code",
   "execution_count": null,
   "id": "807d2788",
   "metadata": {},
   "outputs": [],
   "source": [
    "df_fruits.dtypes"
   ]
  },
  {
   "cell_type": "markdown",
   "id": "ad0c1064-5964-4a95-9d66-dc4568363e5e",
   "metadata": {},
   "source": [
    "> **Note**\n",
    ">\n",
    "> Every data science framework implements some `datetime` handling\n",
    "> scheme. For Python see [Python official documentation on `datetime`\n",
    "> module](https://docs.python.org/3/library/datetime.html#module-datetime)\n",
    "\n",
    "What if we want to keep only the baskets after (including) October, 9th\n",
    "?"
   ]
  },
  {
   "cell_type": "code",
   "execution_count": null,
   "id": "414f7949",
   "metadata": {},
   "outputs": [],
   "source": [
    "df_fruits.loc[df_fruits[\"time\"] >= pd.Timestamp(\"2020/10/09\")]"
   ]
  },
  {
   "cell_type": "markdown",
   "id": "10948bc3-c2c1-4088-bf35-960446b96e91",
   "metadata": {},
   "source": [
    "## Slices and subsets of rows or columns"
   ]
  },
  {
   "cell_type": "code",
   "execution_count": null,
   "id": "8d3fb796",
   "metadata": {},
   "outputs": [],
   "source": [
    "df_fruits"
   ]
  },
  {
   "cell_type": "code",
   "execution_count": null,
   "id": "354147a3",
   "metadata": {},
   "outputs": [],
   "source": [
    "df_fruits.loc[:, \"oranges\":\"time\"]"
   ]
  },
  {
   "cell_type": "code",
   "execution_count": null,
   "id": "294bbec3",
   "metadata": {},
   "outputs": [],
   "source": [
    "df_fruits.loc[\"Daniel\":\"Sean\", \"apples\":\"bananas\"]"
   ]
  },
  {
   "cell_type": "code",
   "execution_count": null,
   "id": "a7fc938e",
   "metadata": {},
   "outputs": [],
   "source": [
    "df_fruits[[\"apples\", \"time\"]]"
   ]
  },
  {
   "cell_type": "markdown",
   "id": "015c6eaa-bf90-4880-9c18-edf0063f5054",
   "metadata": {},
   "source": [
    "## Write our data to a CSV file\n",
    "\n",
    "What if we want to write the file ?"
   ]
  },
  {
   "cell_type": "code",
   "execution_count": null,
   "id": "dd70b252",
   "metadata": {},
   "outputs": [],
   "source": [
    "df_fruits"
   ]
  },
  {
   "cell_type": "code",
   "execution_count": null,
   "id": "f896b7bf",
   "metadata": {},
   "outputs": [],
   "source": [
    "df_fruits.to_csv(\"fruits.csv\")"
   ]
  },
  {
   "cell_type": "code",
   "execution_count": null,
   "id": "5c1259e8",
   "metadata": {},
   "outputs": [],
   "source": [
    "# Use !dir on windows\n",
    "!ls -alh | grep fru"
   ]
  },
  {
   "cell_type": "code",
   "execution_count": null,
   "id": "863d32b6",
   "metadata": {},
   "outputs": [],
   "source": [
    "!head -n 5 fruits.csv"
   ]
  },
  {
   "cell_type": "markdown",
   "id": "23bdee14-522e-4ea9-b37f-dc24eb490d5a",
   "metadata": {},
   "source": [
    "## Reading data and working with it\n",
    "\n",
    "> **Note**\n",
    ">\n",
    "> The `tips` dataset comes through\n",
    "> [Kaggle](https://www.kaggle.com/code/sanjanabasu/tips-dataset/input)\n",
    ">\n",
    "> > This dataset is a treasure trove of information from a collection of\n",
    "> > case studies for business statistics. Special thanks to Bryant and\n",
    "> > Smith for their diligent work:\n",
    ">\n",
    "> > Bryant, P. G. and Smith, M (1995) Practical Data Analysis: Case\n",
    "> > Studies in Business Statistics. Homewood, IL: Richard D. Irwin\n",
    "> > Publishing.\n",
    ">\n",
    "> > You can also access this dataset now through the Python package\n",
    "> > Seaborn.\n",
    "\n",
    "It contains data about a restaurant: the bill, tip and some informations\n",
    "about the customers.\n",
    "\n",
    "> **A toy extraction pattern**\n",
    ">\n",
    "> A data pipeline usually starts with Extraction, that is gathering data\n",
    "> from some source, possibly in a galaxy far, far awy. Here follows a\n",
    "> toy extraction pattern\n",
    ">\n",
    "> -   obtain the data from some `URL` using package `requests`\n",
    "> -   save the data on the hard drive\n",
    "> -   load the data using Pandas\n",
    ">\n",
    "> ``` python\n",
    "> import requests\n",
    "> import os\n",
    ">\n",
    "> # The path containing your notebook\n",
    "> path_data = './'\n",
    "> # The name of the file\n",
    "> filename = 'tips.csv'\n",
    ">\n",
    "> if os.path.exists(os.path.join(path_data, filename)):\n",
    ">     print('The file %s already exists.' % os.path.join(path_data, filename))\n",
    "> else:\n",
    ">     url = 'https://raw.githubusercontent.com/mwaskom/seaborn-data/refs/heads/master/tips.csv'\n",
    ">     r = requests.get(url)\n",
    ">     with open(os.path.join(path_data, filename), 'wb') as f:\n",
    ">         f.write(r.content)\n",
    ">     print('Downloaded file %s.' % os.path.join(path_data, filename))\n",
    "> ```\n",
    ">\n",
    "> ``` python\n",
    "> df = pd.read_csv(\"tips.csv\", \n",
    ">     delimiter=\",\"\n",
    "> )\n",
    "> ```\n",
    "\n",
    "The data can be obtained from package `seaborn`."
   ]
  },
  {
   "cell_type": "code",
   "execution_count": null,
   "id": "d409c5d5",
   "metadata": {},
   "outputs": [],
   "source": [
    "import seaborn as sns\n",
    "\n",
    "sns_ds = sns.get_dataset_names()\n",
    "\n",
    "'tips' in sns_ds\n",
    "\n",
    "df = sns.load_dataset('tips')"
   ]
  },
  {
   "cell_type": "code",
   "execution_count": null,
   "id": "5dc54677",
   "metadata": {},
   "outputs": [],
   "source": [
    "# `.head()` shows the first rows of the dataframe\n",
    "df.head(n=10)"
   ]
  },
  {
   "cell_type": "code",
   "execution_count": null,
   "id": "903450c5",
   "metadata": {},
   "outputs": [],
   "source": [
    "df.info()"
   ]
  },
  {
   "cell_type": "code",
   "execution_count": null,
   "id": "b2c11c08",
   "metadata": {},
   "outputs": [],
   "source": [
    "df.loc[42, \"day\"]"
   ]
  },
  {
   "cell_type": "code",
   "execution_count": null,
   "id": "85daa1a3",
   "metadata": {},
   "outputs": [],
   "source": [
    "type(df.loc[42, \"day\"])"
   ]
  },
  {
   "cell_type": "code",
   "execution_count": null,
   "id": "cd88710b-f0f3-4c64-a7e3-3123ef835e39",
   "metadata": {},
   "outputs": [],
   "source": [
    "df.to_csv('./tips.csv')"
   ]
  },
  {
   "cell_type": "markdown",
   "id": "eaeb24b8-fcf4-4641-a96f-dce2fdf8890d",
   "metadata": {},
   "source": [
    "By default, columns that are non-numerical contain strings (`str` type)\n",
    "\n",
    "## The `category` type\n",
    "\n",
    "An important type in `pandas` is `category` for variables that are\n",
    "**non-numerical**\n",
    "\n",
    "**Pro tip.** It’s always a good idea to tell `pandas` which columns\n",
    "should be imported as **categorical**\n",
    "\n",
    "So, let’s read again the file specifying some `dtype`s to the `read_csv`\n",
    "function"
   ]
  },
  {
   "cell_type": "code",
   "execution_count": null,
   "id": "99f858d6",
   "metadata": {},
   "outputs": [],
   "source": [
    "dtypes = {\n",
    "    \"sex\": \"category\",\n",
    "    \"smoker\": \"category\",\n",
    "    \"day\": \"category\",\n",
    "    \"time\": \"category\"\n",
    "} \n",
    "\n",
    "df = pd.read_csv(\"tips.csv\", dtype=dtypes)"
   ]
  },
  {
   "cell_type": "code",
   "execution_count": null,
   "id": "2d523eb2",
   "metadata": {},
   "outputs": [],
   "source": [
    "df.dtypes"
   ]
  },
  {
   "cell_type": "markdown",
   "id": "815659d9-eca5-4433-ab1b-3e1eb83f5fa4",
   "metadata": {},
   "source": [
    "## Computing statistics"
   ]
  },
  {
   "cell_type": "code",
   "execution_count": null,
   "id": "b76ef534",
   "metadata": {},
   "outputs": [],
   "source": [
    "# The describe method only shows statistics for the numerical columns by default\n",
    "df.describe()"
   ]
  },
  {
   "cell_type": "code",
   "execution_count": null,
   "id": "11781655",
   "metadata": {},
   "outputs": [],
   "source": [
    "# We use the include=\"all\" option to see everything\n",
    "df.describe(include=\"all\")"
   ]
  },
  {
   "cell_type": "code",
   "execution_count": null,
   "id": "5c9b1340",
   "metadata": {},
   "outputs": [],
   "source": [
    "# Correlation between the numerical columns\n",
    "df.corr(numeric_only = True)"
   ]
  },
  {
   "cell_type": "code",
   "execution_count": null,
   "id": "db352371",
   "metadata": {},
   "outputs": [],
   "source": [
    "?df.corr"
   ]
  },
  {
   "cell_type": "markdown",
   "id": "e1c739c9-2738-4e2b-aee2-f7092a2f253e",
   "metadata": {},
   "source": [
    "# Data visualization with `matplotlib` and `seaborn`\n",
    "\n",
    "Let’s show how we can use `matplotlib` and `seaborn` to visualize data\n",
    "contained in a `pandas` dataframe"
   ]
  },
  {
   "cell_type": "code",
   "execution_count": null,
   "id": "b8906c77",
   "metadata": {},
   "outputs": [],
   "source": [
    "import matplotlib.pyplot as plt"
   ]
  },
  {
   "cell_type": "markdown",
   "id": "7701f325-aec2-4000-a1cd-17c2be681214",
   "metadata": {},
   "source": [
    "## How do the tip depends on the total bill ?"
   ]
  },
  {
   "cell_type": "code",
   "execution_count": null,
   "id": "a130dc99",
   "metadata": {},
   "outputs": [],
   "source": [
    "sns.jointplot(x=\"total_bill\", y=\"tip\", data=df)"
   ]
  },
  {
   "cell_type": "markdown",
   "id": "1195c960-1895-4a6e-9b74-7fa18e8fc46a",
   "metadata": {},
   "source": [
    "## When do customers go to this restaurant ?"
   ]
  },
  {
   "cell_type": "code",
   "execution_count": null,
   "id": "bfa93fe4",
   "metadata": {},
   "outputs": [],
   "source": [
    "sns.countplot(x='day', hue=\"time\", data=df)"
   ]
  },
  {
   "cell_type": "markdown",
   "id": "db918e2f-78e0-42f0-bb11-4ccef9c59355",
   "metadata": {},
   "source": [
    "## When do customers spend the most ?"
   ]
  },
  {
   "cell_type": "code",
   "execution_count": null,
   "id": "e9cf2c0a",
   "metadata": {},
   "outputs": [],
   "source": [
    "plt.figure(figsize=(7, 5))\n",
    "sns.boxplot(x='day', y='total_bill', hue='time', data=df)\n",
    "plt.legend(loc=\"upper left\")"
   ]
  },
  {
   "cell_type": "code",
   "execution_count": null,
   "id": "f2366a04",
   "metadata": {},
   "outputs": [],
   "source": [
    "plt.figure(figsize=(7, 5))\n",
    "sns.violinplot(x='day', y='total_bill', hue='time', split=True, data=df)\n",
    "plt.legend(loc=\"upper left\")"
   ]
  },
  {
   "cell_type": "markdown",
   "id": "1684892c-0c99-48b7-81fb-8e69f4c29453",
   "metadata": {},
   "source": [
    "## Who spends the most ?"
   ]
  },
  {
   "cell_type": "code",
   "execution_count": null,
   "id": "478dc9bc",
   "metadata": {},
   "outputs": [],
   "source": [
    "sns.boxplot(x='sex', y='total_bill', hue='smoker', data=df)"
   ]
  },
  {
   "cell_type": "markdown",
   "id": "9cabdce9-c191-4d44-9d4e-8f622ec60eb1",
   "metadata": {},
   "source": [
    "## When should waiters want to work ?"
   ]
  },
  {
   "cell_type": "code",
   "execution_count": null,
   "id": "7d8fec27",
   "metadata": {},
   "outputs": [],
   "source": [
    "sns.boxplot(x='day', y='tip', hue='time', data=df)"
   ]
  },
  {
   "cell_type": "code",
   "execution_count": null,
   "id": "0a3ca306",
   "metadata": {},
   "outputs": [],
   "source": [
    "sns.violinplot(x='day', y='tip', hue='time', data=df)"
   ]
  },
  {
   "cell_type": "markdown",
   "id": "55b38baa-0f6a-4e24-b4a9-492f2e42c868",
   "metadata": {},
   "source": [
    "# Data processing with `pandas`\n",
    "\n",
    "Let us read again the `tips.csv` file"
   ]
  },
  {
   "cell_type": "code",
   "execution_count": null,
   "id": "92683aa4",
   "metadata": {},
   "outputs": [],
   "source": [
    "import pandas as pd\n",
    "\n",
    "dtypes = {\n",
    "    \"sex\": \"category\",\n",
    "    \"smoker\": \"category\",\n",
    "    \"day\": \"category\",\n",
    "    \"time\": \"category\"\n",
    "} \n",
    "\n",
    "df = pd.read_csv(\"tips.csv\", dtype=dtypes)\n",
    "df.head()"
   ]
  },
  {
   "cell_type": "markdown",
   "id": "1d041534-185f-4fe3-bc59-7bd944199dc7",
   "metadata": {},
   "source": [
    "## Computations using `pandas` : broadcasting\n",
    "\n",
    "Let’s add a column that contains the tip percentage"
   ]
  },
  {
   "cell_type": "code",
   "execution_count": null,
   "id": "4dd2f447",
   "metadata": {},
   "outputs": [],
   "source": [
    "df[\"tip_percentage\"] = df[\"tip\"] / df[\"total_bill\"]\n",
    "df.head()"
   ]
  },
  {
   "cell_type": "markdown",
   "id": "98e0515e-0d4c-4f5d-a014-732f488fccd5",
   "metadata": {},
   "source": [
    "The computation\n",
    "\n",
    "```` markdown\n",
    "```{python}\n",
    "df[\"tip\"] / df[\"total_bill\"]\n",
    "```\n",
    "````\n",
    "\n",
    "uses a **broadcast** rule.\n",
    "\n",
    "-   We can multiply, add, subtract, etc. together `numpy` arrays,\n",
    "    `Series` or `pandas` dataframes when the computation **makes sense**\n",
    "    in view of their respective **shape**\n",
    "\n",
    "This principle is called **broadcast** or **broadcasting**.\n",
    "\n",
    "> **Note**\n",
    ">\n",
    "> Broadcasting is a key feature of `numpy` `ndarray`, see\n",
    ">\n",
    "> -   [Numpy User’s\n",
    ">     guide](https://numpy.org/doc/stable/user/basics.broadcasting.html)\n",
    "> -   [Pandas\n",
    ">     book](https://wesmckinney.com/book/advanced-numpy.html#numpy_broadcasting)"
   ]
  },
  {
   "cell_type": "code",
   "execution_count": null,
   "id": "fe61ecf4",
   "metadata": {},
   "outputs": [],
   "source": [
    "df[\"tip\"].shape, df[\"total_bill\"].shape"
   ]
  },
  {
   "cell_type": "markdown",
   "id": "cfd8582f-6511-4fa6-bbf4-4ef1ecd0f061",
   "metadata": {},
   "source": [
    "The `tip` and `total_bill`columns have the same `shape`, so broadcasting\n",
    "performs **pairwise division**.\n",
    "\n",
    "This corresponds to the following “hand-crafted” approach with a `for`\n",
    "loop:"
   ]
  },
  {
   "cell_type": "code",
   "execution_count": null,
   "id": "c0a6fd2e",
   "metadata": {},
   "outputs": [],
   "source": [
    "for i in range(df.shape[0]):\n",
    "    df.loc[i, \"tip_percentage\"] = df.loc[i, \"tip\"] / df.loc[i, \"total_bill\"]"
   ]
  },
  {
   "cell_type": "markdown",
   "id": "4bab4d46-1f72-426f-a168-bfcf51ed0d0f",
   "metadata": {},
   "source": [
    "But using such a loop is:\n",
    "\n",
    "-   longer to write\n",
    "-   less readable\n",
    "-   prone to mistakes\n",
    "-   and *slower* :(\n",
    "\n",
    "*NEVER* use `Python` for-loops unless you need to !"
   ]
  },
  {
   "cell_type": "code",
   "execution_count": null,
   "id": "b8c3ba34",
   "metadata": {},
   "outputs": [],
   "source": [
    "%%timeit -n 10\n",
    "for i in range(df.shape[0]):\n",
    "    df.loc[i, \"tip_percentage\"] = df.loc[i, \"tip\"] / df.loc[i, \"total_bill\"]"
   ]
  },
  {
   "cell_type": "code",
   "execution_count": null,
   "id": "0040ea03",
   "metadata": {},
   "outputs": [],
   "source": [
    "%%timeit -n 10\n",
    "df[\"tip_percentage\"] = df[\"tip\"] / df[\"total_bill\"]"
   ]
  },
  {
   "cell_type": "markdown",
   "id": "776fb4d1-21db-4fb6-8f53-0f5ba0a12ab3",
   "metadata": {},
   "source": [
    "The `for` loop is $\\approx$ **100 times slower** ! (even worse on larger\n",
    "data)\n",
    "\n",
    "### Pitfall. Changing values in a `DataFrame`\n",
    "\n",
    "When you want to change a value in a `DataFrame`, never use\n",
    "\n",
    "``` python\n",
    "df[\"tip_percentage\"].loc[i] = 42\n",
    "```\n",
    "\n",
    "but use\n",
    "\n",
    "``` python\n",
    "df.loc[i, \"tip_percentage\"] = 42\n",
    "```\n",
    "\n",
    "> **Caution**\n",
    ">\n",
    "> Use a **single** `loc` or `iloc` statement. The first version **might\n",
    "> not work**: it might modify a copy of the column and not the dataframe\n",
    "> itself !\n",
    "\n",
    "Another example of broadcasting is:"
   ]
  },
  {
   "cell_type": "code",
   "execution_count": null,
   "id": "f0be19ad",
   "metadata": {},
   "outputs": [],
   "source": [
    "(100 * df[[\"tip_percentage\"]]).head()"
   ]
  },
  {
   "cell_type": "markdown",
   "id": "f5f2c420-b95f-419c-95fd-fb2a01fb366b",
   "metadata": {},
   "source": [
    "where we multiplied **each entry** of the `tip_percentage` column by\n",
    "100.\n",
    "\n",
    "> **Remark**\n",
    ">\n",
    "> Note the difference between\n",
    ">\n",
    "> ``` python\n",
    "> df[['tip_percentage']]\n",
    "> ```\n",
    ">\n",
    "> which returns a `DataFrame` containing only the `tip_percentage`\n",
    "> column and\n",
    ">\n",
    "> ``` python\n",
    "> df['tip_percentage']\n",
    "> ```\n",
    ">\n",
    "> which returns a `Series` containing the data of the `tip_percentage`\n",
    "> column\n",
    "\n",
    "## Some more plots\n",
    "\n",
    "### How do the tip percentages relates to the total bill ?"
   ]
  },
  {
   "cell_type": "code",
   "execution_count": null,
   "id": "2614ad12",
   "metadata": {},
   "outputs": [],
   "source": [
    "sns.jointplot(\n",
    "    x=\"total_bill\", \n",
    "    y=\"tip_percentage\", \n",
    "    data=df\n",
    ")"
   ]
  },
  {
   "cell_type": "markdown",
   "id": "9de026eb-6927-4294-8c40-41d245c9ca6e",
   "metadata": {},
   "source": [
    "### Who tips best ?"
   ]
  },
  {
   "cell_type": "code",
   "execution_count": null,
   "id": "249df16b",
   "metadata": {},
   "outputs": [],
   "source": [
    "sns.boxplot(\n",
    "    x='sex', \n",
    "    y='tip_percentage', \n",
    "    hue='smoker', \n",
    "    data=df\n",
    ")"
   ]
  },
  {
   "cell_type": "markdown",
   "id": "0e23c641-239c-4ff7-a802-3d903aa739fb",
   "metadata": {},
   "source": [
    "### Who tips best without the `tip_percentage` outliers ?"
   ]
  },
  {
   "cell_type": "code",
   "execution_count": null,
   "id": "a22167a3",
   "metadata": {},
   "outputs": [],
   "source": [
    "sns.boxplot(\n",
    "    x='sex', \n",
    "    y='tip_percentage', \n",
    "    hue='smoker', \n",
    "    data=df.loc[df[\"tip_percentage\"] <= 0.3]\n",
    ")"
   ]
  },
  {
   "cell_type": "markdown",
   "id": "f896f352-57d5-49b5-beb8-cee26997b053",
   "metadata": {},
   "source": [
    "Object identity"
   ]
  },
  {
   "cell_type": "code",
   "execution_count": null,
   "id": "127ff66c",
   "metadata": {},
   "outputs": [],
   "source": [
    "id(df)"
   ]
  },
  {
   "cell_type": "markdown",
   "id": "53eb9c64-5b75-41c5-afed-f4d5fa1c0edc",
   "metadata": {},
   "source": [
    "## The all-mighty `groupby` and `aggregate`\n",
    "\n",
    "Many computations can be formulated as a **groupby** followed by and\n",
    "**aggregation**.\n",
    "\n",
    "### What is the mean `tip` and `tip percentage` each day ?"
   ]
  },
  {
   "cell_type": "code",
   "execution_count": null,
   "id": "3b8de848",
   "metadata": {},
   "outputs": [],
   "source": [
    "df.head()"
   ]
  },
  {
   "cell_type": "code",
   "execution_count": null,
   "id": "cfe489d0",
   "metadata": {},
   "outputs": [],
   "source": [
    "try:\n",
    "\n",
    "    df.groupby(\"day\", observed=True).mean()\n",
    "except TypeError:\n",
    "    print('TypeError: category dtype does not support aggregation \"mean\"')"
   ]
  },
  {
   "cell_type": "markdown",
   "id": "ace975fd-acf2-4b93-a524-d2a0b59193c7",
   "metadata": {},
   "source": [
    "But we do not care about the `size` column here, so we can use instead"
   ]
  },
  {
   "cell_type": "code",
   "execution_count": null,
   "id": "a6f00112",
   "metadata": {},
   "outputs": [],
   "source": [
    "(\n",
    "    df[[\"total_bill\", \"tip\", \"tip_percentage\", \"day\"]]\n",
    "        .groupby(\"day\")\n",
    "        .mean()\n",
    ")"
   ]
  },
  {
   "cell_type": "markdown",
   "id": "50990360-7f8d-41e4-bd37-595782610409",
   "metadata": {},
   "source": [
    "If we want to be more precise, we can `groupby` using several columns"
   ]
  },
  {
   "cell_type": "code",
   "execution_count": null,
   "id": "8572d7b0",
   "metadata": {},
   "outputs": [],
   "source": [
    "(\n",
    "    df[[\"total_bill\", \"tip\", \"tip_percentage\", \"day\", \"time\"]]   # selection\n",
    "        .groupby([\"day\",\"time\"])                                # partition\n",
    "        .mean()                                                  # aggregation\n",
    ")"
   ]
  },
  {
   "cell_type": "markdown",
   "id": "6e66dc91-ee06-4805-ab9c-52e0746df3f4",
   "metadata": {},
   "source": [
    "> **Remarks**\n",
    ">\n",
    "> -   We obtain a `DataFrame` with a two-level indexing: on the `day`\n",
    ">     and the `time`\n",
    "> -   Groups must be homogeneous: we have `NaN` values for empty groups\n",
    ">     (e.g. `Sat`, `Lunch`)\n",
    "\n",
    "### Pro tip\n",
    "\n",
    "Sometimes, it is more convenient to get the groups as columns instead of\n",
    "a multi-level index.\n",
    "\n",
    "For this, use `reset_index`:"
   ]
  },
  {
   "cell_type": "code",
   "execution_count": null,
   "id": "74db4afd",
   "metadata": {},
   "outputs": [],
   "source": [
    "(\n",
    "    df[[\"total_bill\", \"tip\", \"tip_percentage\", \"day\", \"time\"]]   # selection\n",
    "        .groupby([\"day\", \"time\"])                                # partition\n",
    "        .mean() # aggregation\n",
    "        .reset_index()   # ako ungroup\n",
    ")"
   ]
  },
  {
   "cell_type": "markdown",
   "id": "f87a461e-ecbe-4000-a538-dd40285ea80b",
   "metadata": {},
   "source": [
    "### Another pro tip: care about code readers\n",
    "\n",
    "Computations with pandas can include many operations that are\n",
    "**pipelined** until the final computation.\n",
    "\n",
    "Pipelining many operations is good practice and perfectly normal, but in\n",
    "order to make the code readable you can put it between parenthesis\n",
    "(`python` expression) as follows:"
   ]
  },
  {
   "cell_type": "code",
   "execution_count": null,
   "id": "54317157",
   "metadata": {},
   "outputs": [],
   "source": [
    "(\n",
    "    df[[\"total_bill\", \"tip\", \"tip_percentage\", \"day\", \"time\"]]\n",
    "    .groupby([\"day\", \"time\"])\n",
    "    .mean()\n",
    "    .reset_index()\n",
    "    # and on top of all this we sort the dataframe with respect \n",
    "    # to the tip_percentage\n",
    "    .sort_values(\"tip_percentage\")\n",
    ")"
   ]
  },
  {
   "cell_type": "markdown",
   "id": "38e3daa1-e1af-4c72-9782-0ec08de8ff90",
   "metadata": {},
   "source": [
    "## Displaying a `DataFrame` with `style`\n",
    "\n",
    "Now, we can answer, with style, to the question: what are the average\n",
    "tip percentages along the week ?"
   ]
  },
  {
   "cell_type": "code",
   "execution_count": null,
   "id": "08b37b2d",
   "metadata": {},
   "outputs": [],
   "source": [
    "(\n",
    "    df[[\"tip_percentage\", \"day\", \"time\"]]\n",
    "    .groupby([\"day\", \"time\"])\n",
    "    .mean()\n",
    "    # At the end of the pipeline you can use .style\n",
    "    .style\n",
    "    # Print numerical values as percentages \n",
    "    .format(\"{:.2%}\")\n",
    "    .background_gradient()\n",
    ")"
   ]
  },
  {
   "cell_type": "markdown",
   "id": "bbcfbd50-c3fa-44f9-8750-7302b0d9ca7e",
   "metadata": {},
   "source": [
    "## Removing the `NaN` values\n",
    "\n",
    "But the `NaN` values are somewhat annoying. Let’s remove them"
   ]
  },
  {
   "cell_type": "code",
   "execution_count": null,
   "id": "65cffd96",
   "metadata": {},
   "outputs": [],
   "source": [
    "(\n",
    "    df[[\"tip_percentage\", \"day\", \"time\"]]\n",
    "    .groupby([\"day\", \"time\"])\n",
    "    .mean()\n",
    "    # We just add this from the previous pipeline\n",
    "    .dropna()\n",
    "    .style\n",
    "    .format(\"{:.2%}\")\n",
    "    .background_gradient()\n",
    ")"
   ]
  },
  {
   "cell_type": "markdown",
   "id": "d769d9b2-112a-435d-b337-63b74f9d6ca0",
   "metadata": {},
   "source": [
    "Now, we see when `tip_percentage` is maximal. But what about the\n",
    "standard deviation?\n",
    "\n",
    "-   We used only `.mean()` for now, but we can use several aggregating\n",
    "    function using `.agg()`"
   ]
  },
  {
   "cell_type": "code",
   "execution_count": null,
   "id": "b3ce1f53",
   "metadata": {},
   "outputs": [],
   "source": [
    "(\n",
    "    df[[\"tip_percentage\", \"day\", \"time\"]]\n",
    "    .groupby([\"day\", \"time\"])\n",
    "    .agg([\"mean\", \"std\"])   # we feed `agg`  with a list of names of callables \n",
    "    .dropna()\n",
    "    .style\n",
    "    .format(\"{:.2%}\")\n",
    "    .background_gradient()\n",
    ")"
   ]
  },
  {
   "cell_type": "markdown",
   "id": "aff1e949-23b2-4a36-9299-6732fb54999a",
   "metadata": {},
   "source": [
    "And we can use also `.describe()` as aggregation function. Moreover we -\n",
    "use the `subset` option to specify which column we want to style - we\n",
    "use `(\"tip_percentage\", \"count\")` to access multi-level index"
   ]
  },
  {
   "cell_type": "code",
   "execution_count": null,
   "id": "a0ed441a",
   "metadata": {},
   "outputs": [],
   "source": [
    "(\n",
    "    df[[\"tip_percentage\", \"day\", \"time\"]]\n",
    "    .groupby([\"day\", \"time\"])\n",
    "    .describe()    # all-purpose summarising function\n",
    ")"
   ]
  },
  {
   "cell_type": "code",
   "execution_count": null,
   "id": "7a59f3f6",
   "metadata": {},
   "outputs": [],
   "source": [
    "(\n",
    "    df[[\"tip_percentage\", \"day\", \"time\"]]\n",
    "    .groupby([\"day\", \"time\"])\n",
    "    .describe()\n",
    "    .dropna()\n",
    "    .style\n",
    "    .bar(subset=[(\"tip_percentage\", \"count\")])\n",
    "    .background_gradient(subset=[(\"tip_percentage\", \"50%\")])\n",
    ")"
   ]
  },
  {
   "cell_type": "markdown",
   "id": "cb7c68ed-cc5c-4254-87b0-77c7e5f285a3",
   "metadata": {},
   "source": [
    "## Supervised learning of `tip` based on the `total_bill`\n",
    "\n",
    "As an example of very simple **machine-learning** problem, let us try to\n",
    "understand how we can predict `tip` based on `total_bill`."
   ]
  },
  {
   "cell_type": "code",
   "execution_count": null,
   "id": "148cf422",
   "metadata": {},
   "outputs": [],
   "source": [
    "import numpy as np\n",
    "\n",
    "plt.scatter(df[\"total_bill\"], df[\"tip\"])\n",
    "plt.xlabel(\"total_bill\", fontsize=12)\n",
    "plt.ylabel(\"tip\", fontsize=12)"
   ]
  },
  {
   "cell_type": "markdown",
   "id": "3433d99d-ca60-40e8-a341-078047672925",
   "metadata": {},
   "source": [
    "There’s a rough **linear** dependence between the two. Let us try to\n",
    "find it by hand!<br> Namely, we look for numbers $b$ and $w$ such that\n",
    "\n",
    "    tip ≈ b + w × total_bill\n",
    "\n",
    "for all the examples of pairs of `(tip, total_bill)` we observe in the\n",
    "data.\n",
    "\n",
    "In **machine learning**, we say that this is a very simple example of a\n",
    "**supervised learning** problem (here it is a regression problem), where\n",
    "`tip` is the **label** and where `total_bill` is the (only) **feature**,\n",
    "for which we intend to use a **linear predictor**."
   ]
  },
  {
   "cell_type": "code",
   "execution_count": null,
   "id": "596d5a18",
   "metadata": {},
   "outputs": [],
   "source": [
    "plt.scatter(df[\"total_bill\"], df[\"tip\"])\n",
    "plt.xlabel(\"total_bill\", fontsize=12)\n",
    "plt.ylabel(\"tip\", fontsize=12)\n",
    "\n",
    "slope = 1.0\n",
    "intercept = 0.0\n",
    "\n",
    "x = np.linspace(0, 50, 1000)\n",
    "plt.plot(x, intercept + slope * x, color=\"red\")"
   ]
  },
  {
   "cell_type": "markdown",
   "id": "40a6d38a-c638-46ea-ba46-30bdeff87d7e",
   "metadata": {},
   "source": [
    "### A more interactive way\n",
    "\n",
    "This might require"
   ]
  },
  {
   "cell_type": "code",
   "execution_count": null,
   "id": "5c1d3881",
   "metadata": {},
   "outputs": [],
   "source": [
    "# !pip install ipympl"
   ]
  },
  {
   "cell_type": "code",
   "execution_count": null,
   "id": "5fc797fc",
   "metadata": {},
   "outputs": [],
   "source": [
    "import ipywidgets as widgets\n",
    "import matplotlib.pyplot as plt\n",
    "import numpy as np\n",
    "\n",
    "%matplotlib widget\n",
    "%matplotlib inline\n",
    "\n",
    "x = np.linspace(0, 50, 1000)\n",
    "\n",
    "@widgets.interact(intercept=(-5, 5, 1.), slope=(0, 1, .05))\n",
    "def update(intercept=0.0, slope=0.5):\n",
    "    plt.scatter(df[\"total_bill\"], df[\"tip\"])\n",
    "    plt.plot(x, intercept + slope * x, color=\"red\")\n",
    "    plt.xlim((0, 50))\n",
    "    plt.ylim((0, 10))\n",
    "    plt.xlabel(\"total_bill\", fontsize=12)\n",
    "    plt.ylabel(\"tip\", fontsize=12)"
   ]
  },
  {
   "cell_type": "markdown",
   "id": "e9348e3b-cd44-45c8-82c1-48fdc648d25a",
   "metadata": {},
   "source": [
    "This is kind of tedious to do this by hand… it would be nice to come up\n",
    "with an **automated** way of doing this. Moreover:\n",
    "\n",
    "-   We are using a **linear** function, while something more complicated\n",
    "    (such as a polynomial) might be better\n",
    "-   More importantly, we use **only** the `total_bill` column to predict\n",
    "    the `tip`, while we know about many other things"
   ]
  },
  {
   "cell_type": "code",
   "execution_count": null,
   "id": "c3b1bbc3",
   "metadata": {},
   "outputs": [],
   "source": [
    "df.head()"
   ]
  },
  {
   "cell_type": "markdown",
   "id": "195eeb22-8bdd-4ca4-81e2-c414fe06e193",
   "metadata": {},
   "source": [
    "## One-hot encoding of categorical variables\n",
    "\n",
    "We can’t perform computations (products and sums) with columns\n",
    "containing **categorical** variables. So, we can’t use them like this to\n",
    "predict the `tip`. We need to **convert** them to numbers somehow.\n",
    "\n",
    "The most classical approach for this is **one-hot encoding** (or “create\n",
    "dummies” or “binarize”) of the categorical variables, which can be\n",
    "easily achieved with `pandas.get_dummies`\n",
    "\n",
    "Why *one-hot* ? See [wikipedia](https://en.wikipedia.org/wiki/One-hot)\n",
    "for a plausible explanation"
   ]
  },
  {
   "cell_type": "code",
   "execution_count": null,
   "id": "14a2aaa4",
   "metadata": {},
   "outputs": [],
   "source": [
    "df_one_hot = pd.get_dummies(df, prefix_sep='#')\n",
    "df_one_hot.head(5)"
   ]
  },
  {
   "cell_type": "markdown",
   "id": "cf7f4afd-d8d9-45cf-a829-dde1b494ba87",
   "metadata": {},
   "source": [
    "Only the categorical columns have been one-hot encoded. For instance,\n",
    "the `\"day\"` column is replaced by 4 columns named `\"day#Thur\"`,\n",
    "`\"day#Fri\"`, `\"day#Sat\"`, `\"day#Sun\"`, since `\"day\"` has 4 modalities\n",
    "(see next line)."
   ]
  },
  {
   "cell_type": "code",
   "execution_count": null,
   "id": "1ddba47c",
   "metadata": {},
   "outputs": [],
   "source": [
    "df['day'].unique()"
   ]
  },
  {
   "cell_type": "code",
   "execution_count": null,
   "id": "f696d95c",
   "metadata": {},
   "outputs": [],
   "source": [
    "df_one_hot.dtypes"
   ]
  },
  {
   "cell_type": "markdown",
   "id": "5a9cfb76-fa5c-46e3-970e-53d8f00024ab",
   "metadata": {},
   "source": [
    "## Pitfall. Colinearities with one-hot encoding\n",
    "\n",
    "Sums over dummies for `sex`, `smoker`, `day`, `time` and `size` are all\n",
    "equal to one (by constrution of the one-hot encoded vectors).\n",
    "\n",
    "-   Leads to **colinearities** in the matrix of features\n",
    "-   It is **much harder** to train a linear regressor when the columns\n",
    "    of the features matrix has colinearities"
   ]
  },
  {
   "cell_type": "code",
   "execution_count": null,
   "id": "dd6d16d0",
   "metadata": {},
   "outputs": [],
   "source": [
    "day_cols = [col for col in df_one_hot.columns if col.startswith(\"day\")]\n",
    "df_one_hot[day_cols].head()\n",
    "df_one_hot[day_cols].sum(axis=1)"
   ]
  },
  {
   "cell_type": "code",
   "execution_count": null,
   "id": "4b520428",
   "metadata": {},
   "outputs": [],
   "source": [
    "all(df_one_hot[day_cols].sum(axis=1) == 1)"
   ]
  },
  {
   "cell_type": "markdown",
   "id": "71767655-4bcd-4902-a8cf-c54f9ddf1819",
   "metadata": {},
   "source": [
    "The most standard solution is to remove a modality (i.e. remove a\n",
    "one-hot encoding vector). Simply achieved by specifying\n",
    "`drop_first=True` in the `get_dummies` function."
   ]
  },
  {
   "cell_type": "code",
   "execution_count": null,
   "id": "e8dfed29",
   "metadata": {},
   "outputs": [],
   "source": [
    "df[\"day\"].unique()"
   ]
  },
  {
   "cell_type": "code",
   "execution_count": null,
   "id": "128badd0",
   "metadata": {},
   "outputs": [],
   "source": [
    "pd.get_dummies(df, prefix_sep='#', drop_first=True).head()"
   ]
  },
  {
   "cell_type": "markdown",
   "id": "366f3e20-99b1-460f-926f-87fc0d3e1644",
   "metadata": {},
   "source": [
    "Now, if a categorical feature has $K$ modalities, we use only $K-1$\n",
    "dummies. For instance, there is no more `sex#Female` binary column.\n",
    "\n",
    "**Question.** So, a linear regression won’t fit a weight for\n",
    "`sex#Female`. But, where do the model weights of the dropped binary\n",
    "columns go ?\n",
    "\n",
    "**Answer.** They just “go” to the **intercept**: interpretation of the\n",
    "population bias depends on the “dropped” one-hot encodings.\n",
    "\n",
    "So, we actually fit:\n",
    "\n",
    "$$\\begin{array}{rl} \\texttt{tip} \\approx b & + w_1 \\times \\texttt{total_bill} + w_2 \\times \\texttt{size} \\\\ & + w_3 \\times \\texttt{sex#Male} + w_4 \\times \\texttt{smoker#Yes} \\\\ & + w_5 \\times \\texttt{day#Sat} + w_6 \\times \\texttt{day#Sun} + w_7 \\times \\texttt{day#Thur} \\\\ & + w_8 \\times \\texttt{time#Lunch} \\end{array}$$"
   ]
  },
  {
   "cell_type": "code",
   "execution_count": null,
   "id": "2a7e862b-7f88-4b7f-9aeb-dbbfebd79ad3",
   "metadata": {},
   "outputs": [],
   "source": []
  }
 ],
 "metadata": {
  "kernelspec": {
   "display_name": "Python 3 (ipykernel)",
   "language": "python",
   "name": "python3"
  },
  "language_info": {
   "codemirror_mode": {
    "name": "ipython",
    "version": 3
   },
   "file_extension": ".py",
   "mimetype": "text/x-python",
   "name": "python",
   "nbconvert_exporter": "python",
   "pygments_lexer": "ipython3",
   "version": "3.12.3"
  }
 },
 "nbformat": 4,
 "nbformat_minor": 5
}
