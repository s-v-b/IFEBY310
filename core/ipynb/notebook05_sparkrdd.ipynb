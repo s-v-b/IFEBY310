{
  "cells": [
    {
      "cell_type": "markdown",
      "metadata": {},
      "source": [
        "# Introduction to `Spark` RDD"
      ],
      "id": "6bf20b4a-8e11-4eaa-82cf-e7f1014c881c"
    },
    {
      "cell_type": "code",
      "execution_count": 1,
      "metadata": {},
      "outputs": [],
      "source": [
        "import numpy as np"
      ],
      "id": "2b9ebd91"
    },
    {
      "cell_type": "code",
      "execution_count": 2,
      "metadata": {},
      "outputs": [],
      "source": [
        "import os\n",
        "import sys\n",
        "import inspect\n",
        "\n",
        "os.environ['PYSPARK_PYTHON'] = sys.executable\n",
        "os.environ['PYSPARK_DRIVER_PYTHON'] = sys.executable"
      ],
      "id": "547db32c"
    },
    {
      "cell_type": "code",
      "execution_count": 3,
      "metadata": {},
      "outputs": [],
      "source": [
        "from pyspark import SparkConf, SparkContext\n",
        "\n",
        "conf = SparkConf().setAppName(\"Spark RDD Course\")\n",
        "sc = SparkContext(conf=conf)"
      ],
      "id": "629f557d"
    },
    {
      "cell_type": "code",
      "execution_count": 4,
      "metadata": {},
      "outputs": [],
      "source": [
        "rdd = sc.parallelize(range(64))"
      ],
      "id": "2d7f98bb"
    },
    {
      "cell_type": "markdown",
      "metadata": {},
      "source": [
        "Note that `parallelize` takes an optional argument to choose the number\n",
        "of partitions"
      ],
      "id": "b53caa01-3194-4b56-bf3a-3ba73cc8d3d2"
    },
    {
      "cell_type": "code",
      "execution_count": 5,
      "metadata": {},
      "outputs": [],
      "source": [
        "rdd.getNumPartitions()"
      ],
      "id": "c5acd6de"
    },
    {
      "cell_type": "code",
      "execution_count": 6,
      "metadata": {},
      "outputs": [],
      "source": [
        "rdd = sc.parallelize(range(1000), 10)\n",
        "rdd.getNumPartitions()"
      ],
      "id": "f1aaab0f"
    },
    {
      "cell_type": "markdown",
      "metadata": {},
      "source": [
        "## Transformations\n",
        "\n",
        "### `map`"
      ],
      "id": "1d193851-62b3-482a-8a32-00fd37e0876c"
    },
    {
      "cell_type": "code",
      "execution_count": 7,
      "metadata": {},
      "outputs": [],
      "source": [
        "rdd = sc.parallelize([2, 3, 4])\n",
        "rdd = rdd.map(lambda x: list(range(1, x)))"
      ],
      "id": "a1030477"
    },
    {
      "cell_type": "code",
      "execution_count": 8,
      "metadata": {},
      "outputs": [],
      "source": [
        "rdd"
      ],
      "id": "98f4a93e"
    },
    {
      "cell_type": "code",
      "execution_count": 9,
      "metadata": {},
      "outputs": [],
      "source": [
        "(\n",
        "    sc.parallelize([2, 3, 4])\n",
        "      .map(lambda x: list(range(1, x)))\n",
        ")"
      ],
      "id": "1e03f3d7"
    },
    {
      "cell_type": "markdown",
      "metadata": {},
      "source": [
        "`map` is a *transformation*. It is *lazily* evaluated. Hence execution\n",
        "is delayed until an *action* is met in the DAG)."
      ],
      "id": "dae8b7e4-ffa2-401c-ba14-39d3306a3592"
    },
    {
      "cell_type": "code",
      "execution_count": 10,
      "metadata": {},
      "outputs": [],
      "source": [
        "rdd.collect()  # collect is an action "
      ],
      "id": "d272bae4"
    },
    {
      "cell_type": "code",
      "execution_count": 11,
      "metadata": {},
      "outputs": [],
      "source": [
        "(\n",
        "    sc.parallelize([2, 3, 4])\n",
        "      .map(lambda x: list(range(1, x)))\n",
        "      .collect()\n",
        ")"
      ],
      "id": "57afcd8f"
    },
    {
      "cell_type": "markdown",
      "metadata": {},
      "source": [
        "### Exercice: `map` with a method\n",
        "\n",
        "**Warning.** This example is a bad practice !!! Don’t do this at home"
      ],
      "id": "0282ecae-c53f-465c-b3ae-12295fac8a3a"
    },
    {
      "cell_type": "code",
      "execution_count": 12,
      "metadata": {},
      "outputs": [],
      "source": [
        "dbtel = {'arthur': 1234, 'riad': 4567, 'anatole': 3615}"
      ],
      "id": "bdc541ff"
    },
    {
      "cell_type": "code",
      "execution_count": 13,
      "metadata": {},
      "outputs": [],
      "source": [
        "class TelephoneDB(object):\n",
        "    \n",
        "    def __init__(self):\n",
        "        self.tel = {'arthur': 1234, 'riad': 4567, 'anatole': 3615}\n",
        "   \n",
        "    def add_tel(self, name):\n",
        "        return name, self.tel.get(name)"
      ],
      "id": "8ce8160a"
    },
    {
      "cell_type": "code",
      "execution_count": 14,
      "metadata": {},
      "outputs": [],
      "source": [
        "tel_db = TelephoneDB()\n",
        "names = ['arthur', 'riad']"
      ],
      "id": "e1ee22d3"
    },
    {
      "cell_type": "code",
      "execution_count": 15,
      "metadata": {},
      "outputs": [],
      "source": [
        "rdd = (\n",
        "    sc\n",
        "        .parallelize(names)\n",
        "        .map(tel_db.add_tel)\n",
        "        .collect()\n",
        ")\n",
        "\n",
        "rdd"
      ],
      "id": "8ca927bd"
    },
    {
      "cell_type": "markdown",
      "metadata": {},
      "source": [
        "-   Replace the `tel` dictionary by a `defaultdict` with default number\n",
        "    `999`\n",
        "-   Use it on a `rdd` containing names as above including an unknown\n",
        "    one, and try it"
      ],
      "id": "7a3af2a2-2c71-42a0-b701-07d895b5384b"
    },
    {
      "cell_type": "code",
      "execution_count": 16,
      "metadata": {},
      "outputs": [],
      "source": [
        "from collections import defaultdict\n",
        "\n",
        "class TelephoneDefaultDB(object):\n",
        "    \n",
        "    def __init__(self):\n",
        "        self.tel = defaultdict(lambda: 999, {'arthur': 1234, 'riad': 4567, 'anatole': 3615})\n",
        "    \n",
        "    def add_tel(self, name):\n",
        "        return name, self.tel[name]\n",
        "    \n",
        "    def add_tel_rdd(self, rdd):  \n",
        "        return rdd.map(self.add_tel)"
      ],
      "id": "af60032e"
    },
    {
      "cell_type": "code",
      "execution_count": 17,
      "metadata": {},
      "outputs": [],
      "source": [
        "tel_db = TelephoneDefaultDB()\n",
        "names = ['riad', 'anatole', 'yiyang']\n",
        "rdd = (\n",
        "    sc\n",
        "        .parallelize(names)\n",
        "        .map(tel_db.add_tel)\n",
        "        .collect()\n",
        ")\n",
        "rdd"
      ],
      "id": "118b6db5"
    },
    {
      "cell_type": "markdown",
      "metadata": {},
      "source": [
        "> **Caution**\n",
        ">\n",
        "> It is a bad idea to pass *methods* to spark’s `map`. Since `add_tel`\n",
        "> needs `self`, the whole object is serialized so that `spark` can use\n",
        "> it.\n",
        ">\n",
        "> This breaks if the `tel` is large, or if it is not serializable.\n",
        "\n",
        "### `flatMap`"
      ],
      "id": "352cd770-5a6a-4d78-8c24-fee709ae18a4"
    },
    {
      "cell_type": "code",
      "execution_count": 18,
      "metadata": {},
      "outputs": [],
      "source": [
        "rdd = sc.parallelize([2, 3, 4, 5])\n",
        "( \n",
        "    rdd\n",
        "        .flatMap(lambda x: range(1, x))\n",
        "        .collect()\n",
        ")"
      ],
      "id": "a109eb48"
    },
    {
      "cell_type": "markdown",
      "metadata": {},
      "source": [
        "### `filter`"
      ],
      "id": "a035175b-8477-4c85-bf5f-83ecee00bd24"
    },
    {
      "cell_type": "code",
      "execution_count": 19,
      "metadata": {},
      "outputs": [],
      "source": [
        "rdd = sc.parallelize(range(10))\n",
        "\n",
        "rdd\\\n",
        "    .filter(lambda x: x % 2 == 0)\\\n",
        "    .collect()"
      ],
      "id": "f77824d2"
    },
    {
      "cell_type": "markdown",
      "metadata": {},
      "source": [
        "### `distinct`"
      ],
      "id": "ce7f0809-7a23-418e-9de9-93bb7b05df6d"
    },
    {
      "cell_type": "code",
      "execution_count": 20,
      "metadata": {},
      "outputs": [],
      "source": [
        "rdd = sc.parallelize([1, 1, 4, 2, 1, 3, 3])\n",
        "rdd.distinct().collect()"
      ],
      "id": "32c3316f"
    },
    {
      "cell_type": "markdown",
      "metadata": {},
      "source": [
        "### “Pseudo-set” operations"
      ],
      "id": "4fb4a189-4db6-4645-b917-30b4a31f3efd"
    },
    {
      "cell_type": "code",
      "execution_count": 21,
      "metadata": {},
      "outputs": [],
      "source": [
        "rdd1 = sc.parallelize(range(5))\n",
        "rdd2 = sc.parallelize(range(3, 9))\n",
        "rdd3 = rdd1.union(rdd2)\n",
        "rdd3.collect()"
      ],
      "id": "c380a667"
    },
    {
      "cell_type": "code",
      "execution_count": 22,
      "metadata": {},
      "outputs": [],
      "source": [
        "rdd3.distinct().collect()"
      ],
      "id": "9190eb8d"
    },
    {
      "cell_type": "code",
      "execution_count": 23,
      "metadata": {},
      "outputs": [],
      "source": [
        "rdd1 = sc.parallelize([1, 2])\n",
        "rdd2 = sc.parallelize([\"a\", \"b\"])\n",
        "rdd1.cartesian(rdd2).collect()"
      ],
      "id": "7cf705a4"
    },
    {
      "cell_type": "markdown",
      "metadata": {},
      "source": [
        "## Actions\n",
        "\n",
        "`collect` is obviously an action…\n",
        "\n",
        "### `count`, `countByValue`"
      ],
      "id": "9c6c196c-035b-4ac9-8a25-8824cf0bfc21"
    },
    {
      "cell_type": "code",
      "execution_count": 24,
      "metadata": {},
      "outputs": [],
      "source": [
        "rdd = sc.parallelize([1, 3, 1, 2, 2, 2])\n",
        "rdd.count()"
      ],
      "id": "84094663"
    },
    {
      "cell_type": "code",
      "execution_count": 25,
      "metadata": {},
      "outputs": [],
      "source": [
        "rdd.countByValue()"
      ],
      "id": "b04d5984"
    },
    {
      "cell_type": "markdown",
      "metadata": {},
      "source": [
        "Why does `countByValue()` returns a dictionary?\n",
        "\n",
        "Are `count()` and `countByValue()` actions or transformations?"
      ],
      "id": "eb2a7650-871a-4409-87f4-acc27c7205f8"
    },
    {
      "cell_type": "code",
      "execution_count": 26,
      "metadata": {},
      "outputs": [],
      "source": [
        "u = np.int32((np.random.sample(100000) * 100000))  # 100000 random integers uniformly distributed on 0, ..., 100000\n",
        "\n",
        "p = (\n",
        "    sc.parallelize(u)\n",
        "    .countByValue()\n",
        ")\n",
        "\n",
        "q = sorted(\n",
        "    p.items(), \n",
        "    key = lambda x : x[1], \n",
        "    reverse=True\n",
        ")\n",
        "\n",
        "q[0:10]\n",
        "\n",
        "q[0], 1 + np.log(len(u))/ np.log(np.log(len(u))), len(q)"
      ],
      "id": "1ca32f20"
    },
    {
      "cell_type": "markdown",
      "metadata": {},
      "source": [
        "-   How many distinct values do you expect in `u` ?\n",
        "-   How large is the largest value in $q$ ?"
      ],
      "id": "3a0ba6ce-5852-4e0a-bf7b-caadedf77991"
    },
    {
      "cell_type": "code",
      "execution_count": 27,
      "metadata": {},
      "outputs": [],
      "source": [
        "from scipy.stats import poisson \n",
        "\n",
        "( \n",
        "    len(q), \n",
        "    (1-np.exp(-1)) * len(u),\n",
        "    poisson.ppf(1.-1./len(u), 1)\n",
        ")"
      ],
      "id": "a615a55f"
    },
    {
      "cell_type": "markdown",
      "metadata": {},
      "source": [
        "### `take`, `takeOrdered`"
      ],
      "id": "d0511668-65a5-4db4-9b42-af8b7ede55c1"
    },
    {
      "cell_type": "code",
      "execution_count": 28,
      "metadata": {},
      "outputs": [],
      "source": [
        "rdd = sc.parallelize([(3, 'a'), (1, 'b'), (2, 'd')])"
      ],
      "id": "568e9c2f"
    },
    {
      "cell_type": "code",
      "execution_count": 29,
      "metadata": {},
      "outputs": [],
      "source": [
        "(1, 'b') <=  (2, 'd') <= (3, 'a')"
      ],
      "id": "f42d4e98"
    },
    {
      "cell_type": "code",
      "execution_count": 30,
      "metadata": {},
      "outputs": [],
      "source": [
        "rdd.takeOrdered(2)"
      ],
      "id": "56fed290"
    },
    {
      "cell_type": "code",
      "execution_count": 31,
      "metadata": {},
      "outputs": [],
      "source": [
        "rdd.takeOrdered(2, key=lambda x: x[1])"
      ],
      "id": "b43c2d0d"
    },
    {
      "cell_type": "markdown",
      "metadata": {},
      "source": [
        "### `reduce`, `fold`"
      ],
      "id": "fb538522-36aa-4d35-bf86-981e186ff6b9"
    },
    {
      "cell_type": "code",
      "execution_count": 32,
      "metadata": {},
      "outputs": [],
      "source": [
        "rdd = sc.range(1, 4)\n",
        "rdd.reduce(lambda a, b: a + b)"
      ],
      "id": "8ace6399"
    },
    {
      "cell_type": "code",
      "execution_count": 33,
      "metadata": {},
      "outputs": [],
      "source": [
        "rdd = sc.range(1, 4, numSlices=7)\n",
        "rdd.reduce(lambda a, b: a + b)"
      ],
      "id": "500341df"
    },
    {
      "cell_type": "code",
      "execution_count": 34,
      "metadata": {},
      "outputs": [],
      "source": [
        "rdd = sc.parallelize(range(1,4), 3)\n",
        "rdd.reduce(lambda a, b: a + b)"
      ],
      "id": "3c5672f5"
    },
    {
      "cell_type": "code",
      "execution_count": 35,
      "metadata": {},
      "outputs": [],
      "source": [
        "( \n",
        "    sc.parallelize(range(1, 4), 2)\n",
        "      .fold(0, lambda a, b: a + b)\n",
        ")"
      ],
      "id": "680ca157"
    },
    {
      "cell_type": "code",
      "execution_count": 36,
      "metadata": {},
      "outputs": [],
      "source": [
        "( \n",
        "    sc.parallelize(range(1, 4), 1)\n",
        "      .fold(3, lambda a, b: a + b)\n",
        "),( \n",
        "    sc.parallelize(range(1, 4), 2)\n",
        "      .fold(2, lambda a, b: a + b)\n",
        ")"
      ],
      "id": "27015514"
    },
    {
      "cell_type": "code",
      "execution_count": 37,
      "metadata": {},
      "outputs": [],
      "source": [
        "rdd =  sc.parallelize(range(1, 4),3)\n",
        "( \n",
        "    rdd.fold(1, lambda a, b: a + b), \n",
        "    rdd.getNumPartitions()\n",
        ")"
      ],
      "id": "c601fca6"
    },
    {
      "cell_type": "code",
      "execution_count": 38,
      "metadata": {},
      "outputs": [],
      "source": [
        "rdd =  sc.parallelize(range(1, 4),4)\n",
        "\n",
        "(\n",
        "    rdd.fold(1, lambda a, b: a + b), \n",
        "    rdd.getNumPartitions()\n",
        ")"
      ],
      "id": "34f86fca"
    },
    {
      "cell_type": "code",
      "execution_count": 39,
      "metadata": {},
      "outputs": [],
      "source": [
        "rdd = sc.parallelize([1, 2, 4], 2)\n",
        "rdd.fold(2, lambda a, b: a + b)"
      ],
      "id": "4fa7eaab"
    },
    {
      "cell_type": "code",
      "execution_count": 40,
      "metadata": {},
      "outputs": [],
      "source": [
        "rdd = sc.parallelize([1, 2, 4], 3)\n",
        "rdd.fold(2, lambda a, b: a + b)"
      ],
      "id": "4ddb08ce"
    },
    {
      "cell_type": "code",
      "execution_count": 41,
      "metadata": {},
      "outputs": [],
      "source": [
        "rdd.getNumPartitions()"
      ],
      "id": "755c7ad3"
    },
    {
      "cell_type": "markdown",
      "metadata": {},
      "source": [
        "### `aggregate`"
      ],
      "id": "649daf36-ee97-4327-bb20-85508a0954f7"
    },
    {
      "cell_type": "code",
      "execution_count": 42,
      "metadata": {},
      "outputs": [],
      "source": [
        "seqOp = lambda x, y: (x[0] + y, x[1] + 1)\n",
        "combOp = lambda x, y: (x[0] + y[0], x[1] + y[1])\n",
        "\n",
        "rdd = sc.parallelize([1, 2, 3, 4], 8)\n",
        "(\n",
        "    rdd.aggregate((0, 0), seqOp, combOp), rdd.getNumPartitions()\n",
        ")"
      ],
      "id": "f80fc142"
    },
    {
      "cell_type": "code",
      "execution_count": 43,
      "metadata": {},
      "outputs": [],
      "source": [
        "op = lambda x, y: x+y\n",
        "rdd = sc.parallelize([1, 2, 3, 4], 4)\n",
        "(\n",
        "    rdd.aggregate(0, op, op),\n",
        "    rdd.getNumPartitions()\n",
        ")"
      ],
      "id": "246e733e"
    },
    {
      "cell_type": "markdown",
      "metadata": {},
      "source": [
        "### Exercice: sum of powers with `aggregate`\n",
        "\n",
        "-   Using `aggregate`, compute the sum, the sum of squares $x^2$ and the\n",
        "    sum of cubes $x^3$ for $x \\in \\{1, \\ldots, 10 \\}$.\n",
        "-   Check your computations using `numpy`"
      ],
      "id": "3bb4af64-5039-49b0-8c63-cc48e24f3332"
    },
    {
      "cell_type": "code",
      "execution_count": 44,
      "metadata": {},
      "outputs": [],
      "source": [
        "seqOp = lambda x, y: (x[0] + y, x[1] + y ** 2, x[2] + y ** 3)"
      ],
      "id": "f2e18267"
    },
    {
      "cell_type": "code",
      "execution_count": 45,
      "metadata": {},
      "outputs": [],
      "source": [
        "combOp = lambda x, y: (x[0] + y[0], x[1] + y[1], x[2] + y[2])"
      ],
      "id": "d24ddfed"
    },
    {
      "cell_type": "code",
      "execution_count": 46,
      "metadata": {},
      "outputs": [],
      "source": [
        "sc.range(5)"
      ],
      "id": "b47ffe56"
    },
    {
      "cell_type": "code",
      "execution_count": 47,
      "metadata": {},
      "outputs": [],
      "source": [
        "( \n",
        "    sc\n",
        "        .range(1, 11)\n",
        "        .aggregate((0, 0, 0), seqOp, combOp)\n",
        ")"
      ],
      "id": "625c1b62"
    },
    {
      "cell_type": "code",
      "execution_count": 48,
      "metadata": {},
      "outputs": [],
      "source": [
        "import numpy as np\n",
        "\n",
        "x = np.arange(1, 11)\n",
        "x"
      ],
      "id": "346c8123"
    },
    {
      "cell_type": "code",
      "execution_count": 49,
      "metadata": {},
      "outputs": [],
      "source": [
        "x.sum(), (x**2).sum(), (x**3).sum(), x.cumsum()"
      ],
      "id": "a41dcc6e"
    },
    {
      "cell_type": "markdown",
      "metadata": {},
      "source": [
        "### Computing an empirical variance with `aggregate`\n",
        "\n",
        "Assume a sample is stored as a RDD. Using `aggregate`, compute the\n",
        "sample variance $\\frac{1}{n}\\sum_{i=1}^n (x_i - \\overline{X}_n)^2$ where\n",
        "$\\overline{X}_n = \\frac{1}{n} \\sum_{i=1}^n x_i$\n",
        "\n",
        "# `PairRDD`"
      ],
      "id": "6bcb90b7-cfd9-4a74-9075-2554c2144119"
    },
    {
      "cell_type": "code",
      "execution_count": 50,
      "metadata": {},
      "outputs": [],
      "source": [
        "rdd = sc.parallelize([[1, \"a\", 7], [2, \"b\", 13], [2, \"c\", 17]])\n",
        "\n",
        "rdd.collect()  # not yet "
      ],
      "id": "0464b8e3"
    },
    {
      "cell_type": "code",
      "execution_count": 51,
      "metadata": {},
      "outputs": [],
      "source": [
        "rdd = rdd.map(lambda x: (x[0], x[1:]))\n",
        "\n",
        "rdd.collect()  # done "
      ],
      "id": "801436a6"
    },
    {
      "cell_type": "markdown",
      "metadata": {},
      "source": [
        "## Transformations\n",
        "\n",
        "### `keys`, `values`"
      ],
      "id": "3cb50ff3-26e8-4b16-b1d4-c31fef11d3f6"
    },
    {
      "cell_type": "code",
      "execution_count": 52,
      "metadata": {},
      "outputs": [],
      "source": [
        "rdd.keys().collect()"
      ],
      "id": "cbb3d9cb"
    },
    {
      "cell_type": "code",
      "execution_count": 53,
      "metadata": {},
      "outputs": [],
      "source": [
        "rdd.values().collect()"
      ],
      "id": "fc42a88b"
    },
    {
      "cell_type": "markdown",
      "metadata": {},
      "source": [
        "> **Warning**\n",
        ">\n",
        "> All elements must be tuples with two elements (key and value)"
      ],
      "id": "87663594-1d0a-4564-b7ac-e5056543d456"
    },
    {
      "cell_type": "code",
      "execution_count": 54,
      "metadata": {},
      "outputs": [],
      "source": [
        "rdd = sc.parallelize([[1, \"a\", 7], [2, \"b\", 13], [2, \"c\", 17]])\n",
        "rdd.keys().collect()"
      ],
      "id": "a7a2d6d7"
    },
    {
      "cell_type": "code",
      "execution_count": 55,
      "metadata": {},
      "outputs": [],
      "source": [
        "rdd.values().collect()"
      ],
      "id": "2567565d"
    },
    {
      "cell_type": "markdown",
      "metadata": {},
      "source": [
        "The values are *not* what we expected wrong… so we *must* do"
      ],
      "id": "eec67a40-373e-4e7b-ac55-6eebc146c422"
    },
    {
      "cell_type": "code",
      "execution_count": 56,
      "metadata": {},
      "outputs": [],
      "source": [
        "rdd = ( sc.parallelize([[1, \"a\", 7], [2, \"b\", 13], [2, \"c\", 17]])\n",
        "          .map(lambda x: (x[0], x[1:]))\n",
        "      )\n",
        "rdd.keys().collect()"
      ],
      "id": "22caf395"
    },
    {
      "cell_type": "code",
      "execution_count": 57,
      "metadata": {},
      "outputs": [],
      "source": [
        "rdd.values().collect()"
      ],
      "id": "0c155a53"
    },
    {
      "cell_type": "markdown",
      "metadata": {},
      "source": [
        "Now, the values are correct.\n",
        "\n",
        "### `mapValues`, `flatMapValues`"
      ],
      "id": "928f77b9-8db8-40fe-b623-02d7e13b3226"
    },
    {
      "cell_type": "code",
      "execution_count": 58,
      "metadata": {},
      "outputs": [],
      "source": [
        "rdd = sc.parallelize([(\"a\", \"x y z\"), (\"b\", \"p r\")])\n",
        "\n",
        "rdd.mapValues(lambda v: v.split(' ')).collect(), rdd.collect()"
      ],
      "id": "f92e3573"
    },
    {
      "cell_type": "code",
      "execution_count": 59,
      "metadata": {},
      "outputs": [],
      "source": [
        "rdd.flatMapValues(lambda v: v.split(' ')).collect()"
      ],
      "id": "b03d2d8c"
    },
    {
      "cell_type": "markdown",
      "metadata": {},
      "source": [
        "### `groupByKey`"
      ],
      "id": "f8c21b9d-fff2-4e25-808c-d1805c65ec6f"
    },
    {
      "cell_type": "code",
      "execution_count": 60,
      "metadata": {},
      "outputs": [],
      "source": [
        "rdd = sc.parallelize([(\"a\", 1), (\"b\", 1), (\"a\", 1), (\"b\", 3), (\"c\", 42)])\n",
        "( \n",
        "    rdd.groupByKey()\n",
        "       .mapValues(list)\n",
        "       .collect()\n",
        ")"
      ],
      "id": "edbc112a"
    },
    {
      "cell_type": "code",
      "execution_count": 61,
      "metadata": {},
      "outputs": [],
      "source": [
        "rdd.groupByKey().collect()"
      ],
      "id": "404367f1"
    },
    {
      "cell_type": "markdown",
      "metadata": {},
      "source": [
        "### `reduceByKey`"
      ],
      "id": "37e11d82-6108-4b39-a99d-ebb18b2151d4"
    },
    {
      "cell_type": "code",
      "execution_count": 62,
      "metadata": {},
      "outputs": [],
      "source": [
        "rdd = sc.parallelize([(\"a\", 1), (\"b\", 1), (\"a\", 1)])\n",
        "rdd.reduceByKey(lambda a, b: a + b).collect()"
      ],
      "id": "16f155ad"
    },
    {
      "cell_type": "markdown",
      "metadata": {},
      "source": [
        "### `combineByKey`"
      ],
      "id": "ca236de9-8dd5-4a8f-9c95-71b2961165e8"
    },
    {
      "cell_type": "code",
      "execution_count": 63,
      "metadata": {},
      "outputs": [],
      "source": [
        "rdd = sc.parallelize([('a', 1), ('b', 2), ('a', 13)])\n",
        "\n",
        "def add(a, b): \n",
        "    return a + str(b)\n",
        "\n",
        "rdd.combineByKey(str, add, add).collect()"
      ],
      "id": "254b0d0d"
    },
    {
      "cell_type": "markdown",
      "metadata": {},
      "source": [
        "### `join`, `rightOuterJoin`, `leftOuterJoin`"
      ],
      "id": "0921c826-0d63-489e-bcb0-4086cf969ea9"
    },
    {
      "cell_type": "code",
      "execution_count": 64,
      "metadata": {},
      "outputs": [],
      "source": [
        "employees = sc.parallelize([\n",
        "    (31, \"Rafferty\"),\n",
        "    (33, \"Jones\"),\n",
        "    (33, \"Heisenberg\"),\n",
        "    (34, \"Robinson\"),\n",
        "    (34, \"Smith\"),\n",
        "    (None, \"Williams\")\n",
        "])"
      ],
      "id": "2c83ce6f"
    },
    {
      "cell_type": "code",
      "execution_count": 65,
      "metadata": {},
      "outputs": [],
      "source": [
        "departments = sc.parallelize([\n",
        "    (31, \"Sales\"),\n",
        "    (33, \"Engineering\"),\n",
        "    (34, \"Clerical\"),\n",
        "    (35, \"Marketing\")\n",
        "])"
      ],
      "id": "01172570"
    },
    {
      "cell_type": "code",
      "execution_count": 66,
      "metadata": {},
      "outputs": [],
      "source": [
        "( \n",
        "    employees\n",
        "        .join(departments)\n",
        "        .sortByKey()\n",
        "        .collect()\n",
        ")"
      ],
      "id": "7be680f0"
    },
    {
      "cell_type": "code",
      "execution_count": 67,
      "metadata": {},
      "outputs": [],
      "source": [
        "( \n",
        "    employees\n",
        "        .rightOuterJoin(departments)\n",
        "        .sortByKey()\n",
        "        .collect()\n",
        ")"
      ],
      "id": "54c55764"
    },
    {
      "cell_type": "code",
      "execution_count": 68,
      "metadata": {},
      "outputs": [],
      "source": [
        "(\n",
        "    employees\n",
        "        .leftOuterJoin(departments)\n",
        "        .collect()\n",
        ")"
      ],
      "id": "227ec0c1"
    },
    {
      "cell_type": "markdown",
      "metadata": {},
      "source": [
        "## Actions"
      ],
      "id": "1272debf-e159-49b8-8730-195a8cce0bfd"
    },
    {
      "cell_type": "code",
      "execution_count": 69,
      "metadata": {},
      "outputs": [],
      "source": [
        "employees.countByKey()"
      ],
      "id": "c3ea7a35"
    },
    {
      "cell_type": "code",
      "execution_count": 70,
      "metadata": {},
      "outputs": [],
      "source": [
        "employees.lookup(33)"
      ],
      "id": "6111de83"
    },
    {
      "cell_type": "code",
      "execution_count": 71,
      "metadata": {},
      "outputs": [],
      "source": [
        "employees.lookup(None)"
      ],
      "id": "7b4df08e"
    },
    {
      "cell_type": "code",
      "execution_count": 72,
      "metadata": {},
      "outputs": [],
      "source": [
        "employees.collectAsMap()"
      ],
      "id": "34d3c9b6"
    },
    {
      "cell_type": "markdown",
      "metadata": {},
      "source": [
        "## References\n",
        "\n",
        "[Spark Core\n",
        "reference](https://spark.apache.org/docs/latest/rdd-programming-guide.html)"
      ],
      "id": "0916214d-ca8a-4708-bef5-cb1c1d784042"
    }
  ],
  "nbformat": 4,
  "nbformat_minor": 5,
  "metadata": {
    "kernelspec": {
      "name": "python3",
      "display_name": "Python 3 (ipykernel)",
      "language": "python",
      "path": "/usr/share/jupyter/kernels/python3"
    },
    "language_info": {
      "name": "python",
      "codemirror_mode": {
        "name": "ipython",
        "version": "3"
      },
      "file_extension": ".py",
      "mimetype": "text/x-python",
      "nbconvert_exporter": "python",
      "pygments_lexer": "ipython3",
      "version": "3.12.3"
    }
  }
}