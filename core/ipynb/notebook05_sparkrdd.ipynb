{
  "cells": [
    {
      "cell_type": "markdown",
      "metadata": {},
      "source": [
        "# Introduction to `Spark` RDD"
      ],
      "id": "5d7cbf8b-df6c-4436-bf8b-11c7c53316b5"
    },
    {
      "cell_type": "code",
      "execution_count": 1,
      "metadata": {},
      "outputs": [],
      "source": [
        "import numpy as np"
      ],
      "id": "e125357c"
    },
    {
      "cell_type": "code",
      "execution_count": 2,
      "metadata": {},
      "outputs": [],
      "source": [
        "import os\n",
        "import sys\n",
        "import inspect\n",
        "\n",
        "os.environ['PYSPARK_PYTHON'] = sys.executable\n",
        "os.environ['PYSPARK_DRIVER_PYTHON'] = sys.executable"
      ],
      "id": "18900557"
    },
    {
      "cell_type": "code",
      "execution_count": 3,
      "metadata": {},
      "outputs": [],
      "source": [
        "from pyspark import SparkConf, SparkContext\n",
        "\n",
        "conf = SparkConf().setAppName(\"Spark RDD Course\")\n",
        "sc = SparkContext(conf=conf)"
      ],
      "id": "c5926b08"
    },
    {
      "cell_type": "code",
      "execution_count": 4,
      "metadata": {},
      "outputs": [],
      "source": [
        "rdd = sc.parallelize(range(64))"
      ],
      "id": "b56c2ef1"
    },
    {
      "cell_type": "markdown",
      "metadata": {},
      "source": [
        "Note that `parallelize` takes an optional argument to choose the number\n",
        "of partitions"
      ],
      "id": "892abf38-ed5b-4755-b8f1-c47a3fb8ccda"
    },
    {
      "cell_type": "code",
      "execution_count": 5,
      "metadata": {},
      "outputs": [],
      "source": [
        "rdd.getNumPartitions()"
      ],
      "id": "dc84310a"
    },
    {
      "cell_type": "code",
      "execution_count": 6,
      "metadata": {},
      "outputs": [],
      "source": [
        "rdd = sc.parallelize(range(1000), 10)\n",
        "rdd.getNumPartitions()"
      ],
      "id": "e4b060e6"
    },
    {
      "cell_type": "markdown",
      "metadata": {},
      "source": [
        "## Transformations\n",
        "\n",
        "### `map`"
      ],
      "id": "d076467b-4b05-41a3-a170-dfa2cb2beac4"
    },
    {
      "cell_type": "code",
      "execution_count": 7,
      "metadata": {},
      "outputs": [],
      "source": [
        "rdd = sc.parallelize([2, 3, 4])\n",
        "rdd = rdd.map(lambda x: list(range(1, x)))"
      ],
      "id": "05d8238b"
    },
    {
      "cell_type": "code",
      "execution_count": 8,
      "metadata": {},
      "outputs": [],
      "source": [
        "rdd"
      ],
      "id": "50a876ce"
    },
    {
      "cell_type": "code",
      "execution_count": 9,
      "metadata": {},
      "outputs": [],
      "source": [
        "(\n",
        "    sc.parallelize([2, 3, 4])\n",
        "      .map(lambda x: list(range(1, x)))\n",
        ")"
      ],
      "id": "8ef7e966"
    },
    {
      "cell_type": "markdown",
      "metadata": {},
      "source": [
        "`map` is a *transformation*. It is *lazily* evaluated. Hence execution\n",
        "is delayed until an *action* is met in the DAG)."
      ],
      "id": "00e4dc05-5bd9-435c-ad0e-6f232302bbf0"
    },
    {
      "cell_type": "code",
      "execution_count": 10,
      "metadata": {},
      "outputs": [],
      "source": [
        "rdd.collect()  # collect is an action "
      ],
      "id": "6dd6d9b5"
    },
    {
      "cell_type": "code",
      "execution_count": 11,
      "metadata": {},
      "outputs": [],
      "source": [
        "(\n",
        "    sc.parallelize([2, 3, 4])\n",
        "      .map(lambda x: list(range(1, x)))\n",
        "      .collect()\n",
        ")"
      ],
      "id": "b99d3ecf"
    },
    {
      "cell_type": "markdown",
      "metadata": {},
      "source": [
        "### Exercice: `map` with a method\n",
        "\n",
        "**Warning.** This example is a bad practice !!! Don’t do this at home"
      ],
      "id": "a361fea4-8b51-45e7-848e-987f0038b0b5"
    },
    {
      "cell_type": "code",
      "execution_count": 12,
      "metadata": {},
      "outputs": [],
      "source": [
        "dbtel = {'arthur': 1234, 'riad': 4567, 'anatole': 3615}"
      ],
      "id": "0602ef2a"
    },
    {
      "cell_type": "code",
      "execution_count": 13,
      "metadata": {},
      "outputs": [],
      "source": [
        "class TelephoneDB(object):\n",
        "    \n",
        "    def __init__(self):\n",
        "        self.tel = {'arthur': 1234, 'riad': 4567, 'anatole': 3615}\n",
        "   \n",
        "    def add_tel(self, name):\n",
        "        return name, self.tel.get(name)"
      ],
      "id": "ffd5b616"
    },
    {
      "cell_type": "code",
      "execution_count": 14,
      "metadata": {},
      "outputs": [],
      "source": [
        "tel_db = TelephoneDB()\n",
        "names = ['arthur', 'riad']"
      ],
      "id": "5d421268"
    },
    {
      "cell_type": "code",
      "execution_count": 15,
      "metadata": {},
      "outputs": [],
      "source": [
        "rdd = (\n",
        "    sc\n",
        "        .parallelize(names)\n",
        "        .map(tel_db.add_tel)\n",
        "        .collect()\n",
        ")\n",
        "\n",
        "rdd"
      ],
      "id": "611249a4"
    },
    {
      "cell_type": "markdown",
      "metadata": {},
      "source": [
        "-   Replace the `tel` dictionary by a `defaultdict` with default number\n",
        "    `999`\n",
        "-   Use it on a `rdd` containing names as above including an unknown\n",
        "    one, and try it"
      ],
      "id": "31ee9e6d-3ac8-49b5-b49d-6033f81c8311"
    },
    {
      "cell_type": "code",
      "execution_count": 16,
      "metadata": {},
      "outputs": [],
      "source": [
        "from collections import defaultdict\n",
        "\n",
        "class TelephoneDefaultDB(object):\n",
        "    \n",
        "    def __init__(self):\n",
        "        self.tel = defaultdict(lambda: 999, {'arthur': 1234, 'riad': 4567, 'anatole': 3615})\n",
        "    \n",
        "    def add_tel(self, name):\n",
        "        return name, self.tel[name]\n",
        "    \n",
        "    def add_tel_rdd(self, rdd):  \n",
        "        return rdd.map(self.add_tel)"
      ],
      "id": "aea4ce33"
    },
    {
      "cell_type": "code",
      "execution_count": 17,
      "metadata": {},
      "outputs": [],
      "source": [
        "tel_db = TelephoneDefaultDB()\n",
        "names = ['riad', 'anatole', 'yiyang']\n",
        "rdd = (\n",
        "    sc\n",
        "        .parallelize(names)\n",
        "        .map(tel_db.add_tel)\n",
        "        .collect()\n",
        ")\n",
        "rdd"
      ],
      "id": "63b99c8a"
    },
    {
      "cell_type": "markdown",
      "metadata": {},
      "source": [
        "> **Caution**\n",
        ">\n",
        "> It is a bad idea to pass *methods* to spark’s `map`. Since `add_tel`\n",
        "> needs `self`, the whole object is serialized so that `spark` can use\n",
        "> it.\n",
        ">\n",
        "> This breaks if the `tel` is large, or if it is not serializable.\n",
        "\n",
        "### `flatMap`"
      ],
      "id": "15e0c40f-b117-463b-8bfe-4eaff111ddd2"
    },
    {
      "cell_type": "code",
      "execution_count": 18,
      "metadata": {},
      "outputs": [],
      "source": [
        "rdd = sc.parallelize([2, 3, 4, 5])\n",
        "( \n",
        "    rdd\n",
        "        .flatMap(lambda x: range(1, x))\n",
        "        .collect()\n",
        ")"
      ],
      "id": "dfee5b5d"
    },
    {
      "cell_type": "markdown",
      "metadata": {},
      "source": [
        "### `filter`"
      ],
      "id": "01a0c1a1-628a-4b96-8cdf-4e85cae4b62b"
    },
    {
      "cell_type": "code",
      "execution_count": 19,
      "metadata": {},
      "outputs": [],
      "source": [
        "rdd = sc.parallelize(range(10))\n",
        "\n",
        "rdd\\\n",
        "    .filter(lambda x: x % 2 == 0)\\\n",
        "    .collect()"
      ],
      "id": "460356d7"
    },
    {
      "cell_type": "markdown",
      "metadata": {},
      "source": [
        "### `distinct`"
      ],
      "id": "b7c29750-c773-4fbd-8cb0-1218586c6e19"
    },
    {
      "cell_type": "code",
      "execution_count": 20,
      "metadata": {},
      "outputs": [],
      "source": [
        "rdd = sc.parallelize([1, 1, 4, 2, 1, 3, 3])\n",
        "rdd.distinct().collect()"
      ],
      "id": "a54072e6"
    },
    {
      "cell_type": "markdown",
      "metadata": {},
      "source": [
        "### “Pseudo-set” operations"
      ],
      "id": "fd73ead2-c3ea-4ec6-a61b-38ca2b2efbb3"
    },
    {
      "cell_type": "code",
      "execution_count": 21,
      "metadata": {},
      "outputs": [],
      "source": [
        "rdd1 = sc.parallelize(range(5))\n",
        "rdd2 = sc.parallelize(range(3, 9))\n",
        "rdd3 = rdd1.union(rdd2)\n",
        "rdd3.collect()"
      ],
      "id": "ee655ddd"
    },
    {
      "cell_type": "code",
      "execution_count": 22,
      "metadata": {},
      "outputs": [],
      "source": [
        "rdd3.distinct().collect()"
      ],
      "id": "50079034"
    },
    {
      "cell_type": "code",
      "execution_count": 23,
      "metadata": {},
      "outputs": [],
      "source": [
        "rdd1 = sc.parallelize([1, 2])\n",
        "rdd2 = sc.parallelize([\"a\", \"b\"])\n",
        "rdd1.cartesian(rdd2).collect()"
      ],
      "id": "7b6b4f04"
    },
    {
      "cell_type": "markdown",
      "metadata": {},
      "source": [
        "## Actions\n",
        "\n",
        "`collect` is obviously an action…\n",
        "\n",
        "### `count`, `countByValue`"
      ],
      "id": "f3f42361-9f29-458d-95e2-bcb14471aa68"
    },
    {
      "cell_type": "code",
      "execution_count": 24,
      "metadata": {},
      "outputs": [],
      "source": [
        "rdd = sc.parallelize([1, 3, 1, 2, 2, 2])\n",
        "rdd.count()"
      ],
      "id": "2bd42477"
    },
    {
      "cell_type": "code",
      "execution_count": 25,
      "metadata": {},
      "outputs": [],
      "source": [
        "rdd.countByValue()"
      ],
      "id": "02f93b0c"
    },
    {
      "cell_type": "markdown",
      "metadata": {},
      "source": [
        "Why does `countByValue()` returns a dictionary?\n",
        "\n",
        "Are `count()` and `countByValue()` actions or transformations?"
      ],
      "id": "df14573c-b59b-496f-90bb-328cbb92b4b3"
    },
    {
      "cell_type": "code",
      "execution_count": 26,
      "metadata": {},
      "outputs": [],
      "source": [
        "u = np.int32((np.random.sample(100000) * 100000))  # 100000 random integers uniformly distributed on 0, ..., 100000\n",
        "\n",
        "p = (\n",
        "    sc.parallelize(u)\n",
        "    .countByValue()\n",
        ")\n",
        "\n",
        "q = sorted(\n",
        "    p.items(), \n",
        "    key = lambda x : x[1], \n",
        "    reverse=True\n",
        ")\n",
        "\n",
        "q[0:10]\n",
        "\n",
        "q[0], 1 + np.log(len(u))/ np.log(np.log(len(u))), len(q)"
      ],
      "id": "0a4a9823"
    },
    {
      "cell_type": "markdown",
      "metadata": {},
      "source": [
        "-   How many distinct values do you expect in `u` ?\n",
        "-   How large is the largest value in $q$ ?"
      ],
      "id": "02e38e16-5c89-49db-8774-dd7ee0b95593"
    },
    {
      "cell_type": "code",
      "execution_count": 27,
      "metadata": {},
      "outputs": [],
      "source": [
        "from scipy.stats import poisson \n",
        "\n",
        "( \n",
        "    len(q), \n",
        "    (1-np.exp(-1)) * len(u),\n",
        "    poisson.ppf(1.-1./len(u), 1)\n",
        ")"
      ],
      "id": "1c1bafa7"
    },
    {
      "cell_type": "markdown",
      "metadata": {},
      "source": [
        "### `take`, `takeOrdered`"
      ],
      "id": "bee60754-9479-425a-b881-4978132e1311"
    },
    {
      "cell_type": "code",
      "execution_count": 28,
      "metadata": {},
      "outputs": [],
      "source": [
        "rdd = sc.parallelize([(3, 'a'), (1, 'b'), (2, 'd')])"
      ],
      "id": "c2f4973b"
    },
    {
      "cell_type": "code",
      "execution_count": 29,
      "metadata": {},
      "outputs": [],
      "source": [
        "(1, 'b') <=  (2, 'd') <= (3, 'a')"
      ],
      "id": "0214c36f"
    },
    {
      "cell_type": "code",
      "execution_count": 30,
      "metadata": {},
      "outputs": [],
      "source": [
        "rdd.takeOrdered(2)"
      ],
      "id": "653f9b7f"
    },
    {
      "cell_type": "code",
      "execution_count": 31,
      "metadata": {},
      "outputs": [],
      "source": [
        "rdd.takeOrdered(2, key=lambda x: x[1])"
      ],
      "id": "de5a8ccb"
    },
    {
      "cell_type": "markdown",
      "metadata": {},
      "source": [
        "### `reduce`, `fold`"
      ],
      "id": "25385977-a1b4-4425-8038-0585414bfeec"
    },
    {
      "cell_type": "code",
      "execution_count": 32,
      "metadata": {},
      "outputs": [],
      "source": [
        "rdd = sc.range(1, 4)\n",
        "rdd.reduce(lambda a, b: a + b)"
      ],
      "id": "0d4c10d1"
    },
    {
      "cell_type": "code",
      "execution_count": 33,
      "metadata": {},
      "outputs": [],
      "source": [
        "rdd = sc.range(1, 4, numSlices=7)\n",
        "rdd.reduce(lambda a, b: a + b)"
      ],
      "id": "d2cd09f6"
    },
    {
      "cell_type": "code",
      "execution_count": 34,
      "metadata": {},
      "outputs": [],
      "source": [
        "rdd = sc.parallelize(range(1,4), 3)\n",
        "rdd.reduce(lambda a, b: a + b)"
      ],
      "id": "6821e106"
    },
    {
      "cell_type": "code",
      "execution_count": 35,
      "metadata": {},
      "outputs": [],
      "source": [
        "( \n",
        "    sc.parallelize(range(1, 4), 2)\n",
        "      .fold(0, lambda a, b: a + b)\n",
        ")"
      ],
      "id": "8ff254b9"
    },
    {
      "cell_type": "code",
      "execution_count": 36,
      "metadata": {},
      "outputs": [],
      "source": [
        "( \n",
        "    sc.parallelize(range(1, 4), 1)\n",
        "      .fold(3, lambda a, b: a + b)\n",
        "),( \n",
        "    sc.parallelize(range(1, 4), 2)\n",
        "      .fold(2, lambda a, b: a + b)\n",
        ")"
      ],
      "id": "139d52f9"
    },
    {
      "cell_type": "code",
      "execution_count": 37,
      "metadata": {},
      "outputs": [],
      "source": [
        "rdd =  sc.parallelize(range(1, 4),3)\n",
        "( \n",
        "    rdd.fold(1, lambda a, b: a + b), \n",
        "    rdd.getNumPartitions()\n",
        ")"
      ],
      "id": "1a3bfaed"
    },
    {
      "cell_type": "code",
      "execution_count": 38,
      "metadata": {},
      "outputs": [],
      "source": [
        "rdd =  sc.parallelize(range(1, 4),4)\n",
        "\n",
        "(\n",
        "    rdd.fold(1, lambda a, b: a + b), \n",
        "    rdd.getNumPartitions()\n",
        ")"
      ],
      "id": "a5f51b42"
    },
    {
      "cell_type": "code",
      "execution_count": 39,
      "metadata": {},
      "outputs": [],
      "source": [
        "rdd = sc.parallelize([1, 2, 4], 2)\n",
        "rdd.fold(2, lambda a, b: a + b)"
      ],
      "id": "a2a31f02"
    },
    {
      "cell_type": "code",
      "execution_count": 40,
      "metadata": {},
      "outputs": [],
      "source": [
        "rdd = sc.parallelize([1, 2, 4], 3)\n",
        "rdd.fold(2, lambda a, b: a + b)"
      ],
      "id": "42ee5d8d"
    },
    {
      "cell_type": "code",
      "execution_count": 41,
      "metadata": {},
      "outputs": [],
      "source": [
        "rdd.getNumPartitions()"
      ],
      "id": "a851b6ab"
    },
    {
      "cell_type": "markdown",
      "metadata": {},
      "source": [
        "### `aggregate`"
      ],
      "id": "62474546-23db-4b03-96e1-c5f43a04b16b"
    },
    {
      "cell_type": "code",
      "execution_count": 42,
      "metadata": {},
      "outputs": [],
      "source": [
        "seqOp = lambda x, y: (x[0] + y, x[1] + 1)\n",
        "combOp = lambda x, y: (x[0] + y[0], x[1] + y[1])\n",
        "\n",
        "rdd = sc.parallelize([1, 2, 3, 4], 8)\n",
        "(\n",
        "    rdd.aggregate((0, 0), seqOp, combOp), rdd.getNumPartitions()\n",
        ")"
      ],
      "id": "606d2bb7"
    },
    {
      "cell_type": "code",
      "execution_count": 43,
      "metadata": {},
      "outputs": [],
      "source": [
        "op = lambda x, y: x+y\n",
        "rdd = sc.parallelize([1, 2, 3, 4], 4)\n",
        "(\n",
        "    rdd.aggregate(0, op, op),\n",
        "    rdd.getNumPartitions()\n",
        ")"
      ],
      "id": "a016bdaf"
    },
    {
      "cell_type": "markdown",
      "metadata": {},
      "source": [
        "### Exercice: sum of powers with `aggregate`\n",
        "\n",
        "-   Using `aggregate`, compute the sum, the sum of squares $x^2$ and the\n",
        "    sum of cubes $x^3$ for $x \\in \\{1, \\ldots, 10 \\}$.\n",
        "-   Check your computations using `numpy`"
      ],
      "id": "3effb118-b6d0-489c-aed9-f3d47d0b4b09"
    },
    {
      "cell_type": "code",
      "execution_count": 44,
      "metadata": {},
      "outputs": [],
      "source": [
        "seqOp = lambda x, y: (x[0] + y, x[1] + y ** 2, x[2] + y ** 3)"
      ],
      "id": "3d821919"
    },
    {
      "cell_type": "code",
      "execution_count": 45,
      "metadata": {},
      "outputs": [],
      "source": [
        "combOp = lambda x, y: (x[0] + y[0], x[1] + y[1], x[2] + y[2])"
      ],
      "id": "4bb8c97e"
    },
    {
      "cell_type": "code",
      "execution_count": 46,
      "metadata": {},
      "outputs": [],
      "source": [
        "sc.range(5)"
      ],
      "id": "17e14ad7"
    },
    {
      "cell_type": "code",
      "execution_count": 47,
      "metadata": {},
      "outputs": [],
      "source": [
        "( \n",
        "    sc\n",
        "        .range(1, 11)\n",
        "        .aggregate((0, 0, 0), seqOp, combOp)\n",
        ")"
      ],
      "id": "751d893e"
    },
    {
      "cell_type": "code",
      "execution_count": 48,
      "metadata": {},
      "outputs": [],
      "source": [
        "import numpy as np\n",
        "\n",
        "x = np.arange(1, 11)\n",
        "x"
      ],
      "id": "312581bf"
    },
    {
      "cell_type": "code",
      "execution_count": 49,
      "metadata": {},
      "outputs": [],
      "source": [
        "x.sum(), (x**2).sum(), (x**3).sum(), x.cumsum()"
      ],
      "id": "59bf139c"
    },
    {
      "cell_type": "markdown",
      "metadata": {},
      "source": [
        "### Computing an empirical variance with `aggregate`\n",
        "\n",
        "Assume a sample is stored as a RDD. Using `aggregate`, compute the\n",
        "sample variance $\\frac{1}{n}\\sum_{i=1}^n (x_i - \\overline{X}_n)^2$ where\n",
        "$\\overline{X}_n = \\frac{1}{n} \\sum_{i=1}^n x_i$\n",
        "\n",
        "# `PairRDD`"
      ],
      "id": "85c0fe44-9b45-4237-a21e-6a46c841cb57"
    },
    {
      "cell_type": "code",
      "execution_count": 50,
      "metadata": {},
      "outputs": [],
      "source": [
        "rdd = sc.parallelize([[1, \"a\", 7], [2, \"b\", 13], [2, \"c\", 17]])\n",
        "\n",
        "rdd.collect()  # not yet "
      ],
      "id": "0bc884c3"
    },
    {
      "cell_type": "code",
      "execution_count": 51,
      "metadata": {},
      "outputs": [],
      "source": [
        "rdd = rdd.map(lambda x: (x[0], x[1:]))\n",
        "\n",
        "rdd.collect()  # done "
      ],
      "id": "04f118a7"
    },
    {
      "cell_type": "markdown",
      "metadata": {},
      "source": [
        "## Transformations\n",
        "\n",
        "### `keys`, `values`"
      ],
      "id": "901f56e8-c990-4c45-80de-f5b313f2ff25"
    },
    {
      "cell_type": "code",
      "execution_count": 52,
      "metadata": {},
      "outputs": [],
      "source": [
        "rdd.keys().collect()"
      ],
      "id": "0f153047"
    },
    {
      "cell_type": "code",
      "execution_count": 53,
      "metadata": {},
      "outputs": [],
      "source": [
        "rdd.values().collect()"
      ],
      "id": "2babf415"
    },
    {
      "cell_type": "markdown",
      "metadata": {},
      "source": [
        "> **Warning**\n",
        ">\n",
        "> All elements must be tuples with two elements (key and value)"
      ],
      "id": "7ad79165-e5da-4662-83b8-ca5631bdd4b5"
    },
    {
      "cell_type": "code",
      "execution_count": 54,
      "metadata": {},
      "outputs": [],
      "source": [
        "rdd = sc.parallelize([[1, \"a\", 7], [2, \"b\", 13], [2, \"c\", 17]])\n",
        "rdd.keys().collect()"
      ],
      "id": "7cffda53"
    },
    {
      "cell_type": "code",
      "execution_count": 55,
      "metadata": {},
      "outputs": [],
      "source": [
        "rdd.values().collect()"
      ],
      "id": "c6014308"
    },
    {
      "cell_type": "markdown",
      "metadata": {},
      "source": [
        "The values are *not* what we expected wrong… so we *must* do"
      ],
      "id": "fb3a1358-dda4-4aa1-9e49-27b8e3c80bda"
    },
    {
      "cell_type": "code",
      "execution_count": 56,
      "metadata": {},
      "outputs": [],
      "source": [
        "rdd = ( sc.parallelize([[1, \"a\", 7], [2, \"b\", 13], [2, \"c\", 17]])\n",
        "          .map(lambda x: (x[0], x[1:]))\n",
        "      )\n",
        "rdd.keys().collect()"
      ],
      "id": "65c1eeb3"
    },
    {
      "cell_type": "code",
      "execution_count": 57,
      "metadata": {},
      "outputs": [],
      "source": [
        "rdd.values().collect()"
      ],
      "id": "e7015d02"
    },
    {
      "cell_type": "markdown",
      "metadata": {},
      "source": [
        "Now, the values are correct.\n",
        "\n",
        "### `mapValues`, `flatMapValues`"
      ],
      "id": "be747dc9-b1c1-45cc-8fa2-31f99904e89c"
    },
    {
      "cell_type": "code",
      "execution_count": 58,
      "metadata": {},
      "outputs": [],
      "source": [
        "rdd = sc.parallelize([(\"a\", \"x y z\"), (\"b\", \"p r\")])\n",
        "\n",
        "rdd.mapValues(lambda v: v.split(' ')).collect(), rdd.collect()"
      ],
      "id": "2309aa8c"
    },
    {
      "cell_type": "code",
      "execution_count": 59,
      "metadata": {},
      "outputs": [],
      "source": [
        "rdd.flatMapValues(lambda v: v.split(' ')).collect()"
      ],
      "id": "cdf43f6a"
    },
    {
      "cell_type": "markdown",
      "metadata": {},
      "source": [
        "### `groupByKey`"
      ],
      "id": "63811e3d-5fdd-4b9c-b35e-7073c336b7e9"
    },
    {
      "cell_type": "code",
      "execution_count": 60,
      "metadata": {},
      "outputs": [],
      "source": [
        "rdd = sc.parallelize([(\"a\", 1), (\"b\", 1), (\"a\", 1), (\"b\", 3), (\"c\", 42)])\n",
        "( \n",
        "    rdd.groupByKey()\n",
        "       .mapValues(list)\n",
        "       .collect()\n",
        ")"
      ],
      "id": "1b022924"
    },
    {
      "cell_type": "code",
      "execution_count": 61,
      "metadata": {},
      "outputs": [],
      "source": [
        "rdd.groupByKey().collect()"
      ],
      "id": "77552f15"
    },
    {
      "cell_type": "markdown",
      "metadata": {},
      "source": [
        "### `reduceByKey`"
      ],
      "id": "57a40c7b-cdc0-49f6-8b28-85235160c4c0"
    },
    {
      "cell_type": "code",
      "execution_count": 62,
      "metadata": {},
      "outputs": [],
      "source": [
        "rdd = sc.parallelize([(\"a\", 1), (\"b\", 1), (\"a\", 1)])\n",
        "rdd.reduceByKey(lambda a, b: a + b).collect()"
      ],
      "id": "c30a654d"
    },
    {
      "cell_type": "markdown",
      "metadata": {},
      "source": [
        "### `combineByKey`"
      ],
      "id": "30ad9f55-589c-498e-aecb-fa5cbcf07268"
    },
    {
      "cell_type": "code",
      "execution_count": 63,
      "metadata": {},
      "outputs": [],
      "source": [
        "rdd = sc.parallelize([('a', 1), ('b', 2), ('a', 13)])\n",
        "\n",
        "def add(a, b): \n",
        "    return a + str(b)\n",
        "\n",
        "rdd.combineByKey(str, add, add).collect()"
      ],
      "id": "1d5be751"
    },
    {
      "cell_type": "markdown",
      "metadata": {},
      "source": [
        "### `join`, `rightOuterJoin`, `leftOuterJoin`"
      ],
      "id": "ac996576-4843-4175-8141-19d92c658b86"
    },
    {
      "cell_type": "code",
      "execution_count": 64,
      "metadata": {},
      "outputs": [],
      "source": [
        "employees = sc.parallelize([\n",
        "    (31, \"Rafferty\"),\n",
        "    (33, \"Jones\"),\n",
        "    (33, \"Heisenberg\"),\n",
        "    (34, \"Robinson\"),\n",
        "    (34, \"Smith\"),\n",
        "    (None, \"Williams\")\n",
        "])"
      ],
      "id": "d4c057b5"
    },
    {
      "cell_type": "code",
      "execution_count": 65,
      "metadata": {},
      "outputs": [],
      "source": [
        "departments = sc.parallelize([\n",
        "    (31, \"Sales\"),\n",
        "    (33, \"Engineering\"),\n",
        "    (34, \"Clerical\"),\n",
        "    (35, \"Marketing\")\n",
        "])"
      ],
      "id": "4058d842"
    },
    {
      "cell_type": "code",
      "execution_count": 66,
      "metadata": {},
      "outputs": [],
      "source": [
        "( \n",
        "    employees\n",
        "        .join(departments)\n",
        "        .sortByKey()\n",
        "        .collect()\n",
        ")"
      ],
      "id": "79e5f7ad"
    },
    {
      "cell_type": "code",
      "execution_count": 67,
      "metadata": {},
      "outputs": [],
      "source": [
        "( \n",
        "    employees\n",
        "        .rightOuterJoin(departments)\n",
        "        .sortByKey()\n",
        "        .collect()\n",
        ")"
      ],
      "id": "e3498380"
    },
    {
      "cell_type": "code",
      "execution_count": 68,
      "metadata": {},
      "outputs": [],
      "source": [
        "(\n",
        "    employees\n",
        "        .leftOuterJoin(departments)\n",
        "        .collect()\n",
        ")"
      ],
      "id": "89521a18"
    },
    {
      "cell_type": "markdown",
      "metadata": {},
      "source": [
        "## Actions"
      ],
      "id": "2c63be12-3a16-4e16-a2b7-822f86235683"
    },
    {
      "cell_type": "code",
      "execution_count": 69,
      "metadata": {},
      "outputs": [],
      "source": [
        "employees.countByKey()"
      ],
      "id": "a081f30f"
    },
    {
      "cell_type": "code",
      "execution_count": 70,
      "metadata": {},
      "outputs": [],
      "source": [
        "employees.lookup(33)"
      ],
      "id": "fff93787"
    },
    {
      "cell_type": "code",
      "execution_count": 71,
      "metadata": {},
      "outputs": [],
      "source": [
        "employees.lookup(None)"
      ],
      "id": "10adbf4f"
    },
    {
      "cell_type": "code",
      "execution_count": 72,
      "metadata": {},
      "outputs": [],
      "source": [
        "employees.collectAsMap()"
      ],
      "id": "7b8ff7ac"
    },
    {
      "cell_type": "markdown",
      "metadata": {},
      "source": [
        "## References\n",
        "\n",
        "[Spark Core\n",
        "reference](https://spark.apache.org/docs/latest/rdd-programming-guide.html)"
      ],
      "id": "97da83e2-f76c-426d-8469-785e37b52db7"
    }
  ],
  "nbformat": 4,
  "nbformat_minor": 5,
  "metadata": {
    "kernelspec": {
      "name": "python3",
      "display_name": "Python 3 (ipykernel)",
      "language": "python",
      "path": "/usr/share/jupyter/kernels/python3"
    },
    "language_info": {
      "name": "python",
      "codemirror_mode": {
        "name": "ipython",
        "version": "3"
      },
      "file_extension": ".py",
      "mimetype": "text/x-python",
      "nbconvert_exporter": "python",
      "pygments_lexer": "ipython3",
      "version": "3.12.3"
    }
  }
}