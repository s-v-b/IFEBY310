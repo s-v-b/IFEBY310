{
  "cells": [
    {
      "cell_type": "markdown",
      "metadata": {},
      "source": [
        "# Introduction to `Spark` RDD"
      ],
      "id": "b002d5ff-476f-4dd9-9a55-c7c23c3d3d59"
    },
    {
      "cell_type": "code",
      "execution_count": 1,
      "metadata": {},
      "outputs": [],
      "source": [
        "import numpy as np"
      ],
      "id": "0d232e6a"
    },
    {
      "cell_type": "code",
      "execution_count": 2,
      "metadata": {},
      "outputs": [],
      "source": [
        "import os\n",
        "import sys\n",
        "import inspect\n",
        "\n",
        "os.environ['PYSPARK_PYTHON'] = sys.executable\n",
        "os.environ['PYSPARK_DRIVER_PYTHON'] = sys.executable"
      ],
      "id": "5eb9d887"
    },
    {
      "cell_type": "code",
      "execution_count": 3,
      "metadata": {},
      "outputs": [],
      "source": [
        "from pyspark import SparkConf, SparkContext\n",
        "\n",
        "conf = SparkConf().setAppName(\"Spark RDD Course\")\n",
        "sc = SparkContext(conf=conf)"
      ],
      "id": "9fed7318"
    },
    {
      "cell_type": "code",
      "execution_count": 4,
      "metadata": {},
      "outputs": [],
      "source": [
        "rdd = sc.parallelize(range(64))"
      ],
      "id": "2ac013ce"
    },
    {
      "cell_type": "markdown",
      "metadata": {},
      "source": [
        "Note that `parallelize` takes an optional argument to choose the number\n",
        "of partitions"
      ],
      "id": "f6ee8ab4-619a-439a-9aa1-6314cfdd1083"
    },
    {
      "cell_type": "code",
      "execution_count": 5,
      "metadata": {},
      "outputs": [],
      "source": [
        "rdd.getNumPartitions()"
      ],
      "id": "614b924b"
    },
    {
      "cell_type": "code",
      "execution_count": 6,
      "metadata": {},
      "outputs": [],
      "source": [
        "rdd = sc.parallelize(range(1000), 10)\n",
        "rdd.getNumPartitions()"
      ],
      "id": "6547c921"
    },
    {
      "cell_type": "markdown",
      "metadata": {},
      "source": [
        "## Transformations\n",
        "\n",
        "### `map`"
      ],
      "id": "2f3dd109-ce69-4ab9-8956-60e300bd7dfe"
    },
    {
      "cell_type": "code",
      "execution_count": 7,
      "metadata": {},
      "outputs": [],
      "source": [
        "rdd = sc.parallelize([2, 3, 4])\n",
        "rdd = rdd.map(lambda x: list(range(1, x)))"
      ],
      "id": "97731e5d"
    },
    {
      "cell_type": "code",
      "execution_count": 8,
      "metadata": {},
      "outputs": [],
      "source": [
        "rdd"
      ],
      "id": "abd5dafd"
    },
    {
      "cell_type": "code",
      "execution_count": 9,
      "metadata": {},
      "outputs": [],
      "source": [
        "(\n",
        "    sc.parallelize([2, 3, 4])\n",
        "      .map(lambda x: list(range(1, x)))\n",
        ")"
      ],
      "id": "7fc875f1"
    },
    {
      "cell_type": "markdown",
      "metadata": {},
      "source": [
        "`map` is a *transformation*. It is *lazily* evaluated. Hence execution\n",
        "is delayed until an *action* is met in the DAG)."
      ],
      "id": "3366e9f0-bcd0-4723-98c2-23ec3893af46"
    },
    {
      "cell_type": "code",
      "execution_count": 10,
      "metadata": {},
      "outputs": [],
      "source": [
        "rdd.collect()  # collect is an action "
      ],
      "id": "d90c6ec0"
    },
    {
      "cell_type": "code",
      "execution_count": 11,
      "metadata": {},
      "outputs": [],
      "source": [
        "(\n",
        "    sc.parallelize([2, 3, 4])\n",
        "      .map(lambda x: list(range(1, x)))\n",
        "      .collect()\n",
        ")"
      ],
      "id": "f12fb6a1"
    },
    {
      "cell_type": "markdown",
      "metadata": {},
      "source": [
        "### Exercice: `map` with a method\n",
        "\n",
        "**Warning.** This example is a bad practice !!! Don’t do this at home"
      ],
      "id": "86d99026-ee70-4550-b8b7-208c2f8649df"
    },
    {
      "cell_type": "code",
      "execution_count": 12,
      "metadata": {},
      "outputs": [],
      "source": [
        "dbtel = {'arthur': 1234, 'riad': 4567, 'anatole': 3615}"
      ],
      "id": "00b07807"
    },
    {
      "cell_type": "code",
      "execution_count": 13,
      "metadata": {},
      "outputs": [],
      "source": [
        "class TelephoneDB(object):\n",
        "    \n",
        "    def __init__(self):\n",
        "        self.tel = {'arthur': 1234, 'riad': 4567, 'anatole': 3615}\n",
        "   \n",
        "    def add_tel(self, name):\n",
        "        return name, self.tel.get(name)"
      ],
      "id": "2bfd8097"
    },
    {
      "cell_type": "code",
      "execution_count": 14,
      "metadata": {},
      "outputs": [],
      "source": [
        "tel_db = TelephoneDB()\n",
        "names = ['arthur', 'riad']"
      ],
      "id": "0353c179"
    },
    {
      "cell_type": "code",
      "execution_count": 15,
      "metadata": {},
      "outputs": [],
      "source": [
        "rdd = (\n",
        "    sc\n",
        "        .parallelize(names)\n",
        "        .map(tel_db.add_tel)\n",
        "        .collect()\n",
        ")\n",
        "\n",
        "rdd"
      ],
      "id": "894436e6"
    },
    {
      "cell_type": "markdown",
      "metadata": {},
      "source": [
        "-   Replace the `tel` dictionary by a `defaultdict` with default number\n",
        "    `999`\n",
        "-   Use it on a `rdd` containing names as above including an unknown\n",
        "    one, and try it"
      ],
      "id": "3f5067fc-8a24-4e06-9784-b8c1b034fc5f"
    },
    {
      "cell_type": "code",
      "execution_count": 16,
      "metadata": {},
      "outputs": [],
      "source": [
        "from collections import defaultdict\n",
        "\n",
        "class TelephoneDefaultDB(object):\n",
        "    \n",
        "    def __init__(self):\n",
        "        self.tel = defaultdict(lambda: 999, {'arthur': 1234, 'riad': 4567, 'anatole': 3615})\n",
        "    \n",
        "    def add_tel(self, name):\n",
        "        return name, self.tel[name]\n",
        "    \n",
        "    def add_tel_rdd(self, rdd):  \n",
        "        return rdd.map(self.add_tel)"
      ],
      "id": "70e3dace"
    },
    {
      "cell_type": "code",
      "execution_count": 17,
      "metadata": {},
      "outputs": [],
      "source": [
        "tel_db = TelephoneDefaultDB()\n",
        "names = ['riad', 'anatole', 'yiyang']\n",
        "rdd = (\n",
        "    sc\n",
        "        .parallelize(names)\n",
        "        .map(tel_db.add_tel)\n",
        "        .collect()\n",
        ")\n",
        "rdd"
      ],
      "id": "992ae88d"
    },
    {
      "cell_type": "markdown",
      "metadata": {},
      "source": [
        "> **Caution**\n",
        ">\n",
        "> It is a bad idea to pass *methods* to spark’s `map`. Since `add_tel`\n",
        "> needs `self`, the whole object is serialized so that `spark` can use\n",
        "> it.\n",
        ">\n",
        "> This breaks if the `tel` is large, or if it is not serializable.\n",
        "\n",
        "### `flatMap`"
      ],
      "id": "0338bcb0-f603-4320-b1cd-8c53df2ad7ba"
    },
    {
      "cell_type": "code",
      "execution_count": 18,
      "metadata": {},
      "outputs": [],
      "source": [
        "rdd = sc.parallelize([2, 3, 4, 5])\n",
        "( \n",
        "    rdd\n",
        "        .flatMap(lambda x: range(1, x))\n",
        "        .collect()\n",
        ")"
      ],
      "id": "56aa00dd"
    },
    {
      "cell_type": "markdown",
      "metadata": {},
      "source": [
        "### `filter`"
      ],
      "id": "61c8ab78-f63c-420e-a158-b5bea303852a"
    },
    {
      "cell_type": "code",
      "execution_count": 19,
      "metadata": {},
      "outputs": [],
      "source": [
        "rdd = sc.parallelize(range(10))\n",
        "\n",
        "rdd\\\n",
        "    .filter(lambda x: x % 2 == 0)\\\n",
        "    .collect()"
      ],
      "id": "af285040"
    },
    {
      "cell_type": "markdown",
      "metadata": {},
      "source": [
        "### `distinct`"
      ],
      "id": "d1e6fdae-3359-470f-beed-b71f5125c37e"
    },
    {
      "cell_type": "code",
      "execution_count": 20,
      "metadata": {},
      "outputs": [],
      "source": [
        "rdd = sc.parallelize([1, 1, 4, 2, 1, 3, 3])\n",
        "rdd.distinct().collect()"
      ],
      "id": "90ac0c8c"
    },
    {
      "cell_type": "markdown",
      "metadata": {},
      "source": [
        "### “Pseudo-set” operations"
      ],
      "id": "0c9e5f56-3937-49ec-bd43-3ff4c0ded969"
    },
    {
      "cell_type": "code",
      "execution_count": 21,
      "metadata": {},
      "outputs": [],
      "source": [
        "rdd1 = sc.parallelize(range(5))\n",
        "rdd2 = sc.parallelize(range(3, 9))\n",
        "rdd3 = rdd1.union(rdd2)\n",
        "rdd3.collect()"
      ],
      "id": "504122c7"
    },
    {
      "cell_type": "code",
      "execution_count": 22,
      "metadata": {},
      "outputs": [],
      "source": [
        "rdd3.distinct().collect()"
      ],
      "id": "5ac98961"
    },
    {
      "cell_type": "code",
      "execution_count": 23,
      "metadata": {},
      "outputs": [],
      "source": [
        "rdd1 = sc.parallelize([1, 2])\n",
        "rdd2 = sc.parallelize([\"a\", \"b\"])\n",
        "rdd1.cartesian(rdd2).collect()"
      ],
      "id": "5d46f4ec"
    },
    {
      "cell_type": "markdown",
      "metadata": {},
      "source": [
        "## Actions\n",
        "\n",
        "`collect` is obviously an action…\n",
        "\n",
        "### `count`, `countByValue`"
      ],
      "id": "499ef3db-b93d-411f-ad8c-502a010c7f55"
    },
    {
      "cell_type": "code",
      "execution_count": 24,
      "metadata": {},
      "outputs": [],
      "source": [
        "rdd = sc.parallelize([1, 3, 1, 2, 2, 2])\n",
        "rdd.count()"
      ],
      "id": "4a1e3193"
    },
    {
      "cell_type": "code",
      "execution_count": 25,
      "metadata": {},
      "outputs": [],
      "source": [
        "rdd.countByValue()"
      ],
      "id": "70a47d93"
    },
    {
      "cell_type": "markdown",
      "metadata": {},
      "source": [
        "Why does `countByValue()` returns a dictionary?\n",
        "\n",
        "Are `count()` and `countByValue()` actions or transformations?"
      ],
      "id": "921029cd-3400-4a44-b1a0-289b5bfeddf6"
    },
    {
      "cell_type": "code",
      "execution_count": 26,
      "metadata": {},
      "outputs": [],
      "source": [
        "u = np.int32((np.random.sample(100000) * 100000))  # 100000 random integers uniformly distributed on 0, ..., 100000\n",
        "\n",
        "p = (\n",
        "    sc.parallelize(u)\n",
        "    .countByValue()\n",
        ")\n",
        "\n",
        "q = sorted(\n",
        "    p.items(), \n",
        "    key = lambda x : x[1], \n",
        "    reverse=True\n",
        ")\n",
        "\n",
        "q[0:10]\n",
        "\n",
        "q[0], 1 + np.log(len(u))/ np.log(np.log(len(u))), len(q)"
      ],
      "id": "0dd335c3"
    },
    {
      "cell_type": "markdown",
      "metadata": {},
      "source": [
        "-   How many distinct values do you expect in `u` ?\n",
        "-   How large is the largest value in $q$ ?"
      ],
      "id": "5af220cc-2a86-404d-a584-005015d876f0"
    },
    {
      "cell_type": "code",
      "execution_count": 27,
      "metadata": {},
      "outputs": [],
      "source": [
        "from scipy.stats import poisson \n",
        "\n",
        "( \n",
        "    len(q), \n",
        "    (1-np.exp(-1)) * len(u),\n",
        "    poisson.ppf(1.-1./len(u), 1)\n",
        ")"
      ],
      "id": "391b02d6"
    },
    {
      "cell_type": "markdown",
      "metadata": {},
      "source": [
        "### `take`, `takeOrdered`"
      ],
      "id": "804a6c54-a66a-428b-929d-14ce3e98e533"
    },
    {
      "cell_type": "code",
      "execution_count": 28,
      "metadata": {},
      "outputs": [],
      "source": [
        "rdd = sc.parallelize([(3, 'a'), (1, 'b'), (2, 'd')])"
      ],
      "id": "1f9de941"
    },
    {
      "cell_type": "code",
      "execution_count": 29,
      "metadata": {},
      "outputs": [],
      "source": [
        "(1, 'b') <=  (2, 'd') <= (3, 'a')"
      ],
      "id": "eaf989f1"
    },
    {
      "cell_type": "code",
      "execution_count": 30,
      "metadata": {},
      "outputs": [],
      "source": [
        "rdd.takeOrdered(2)"
      ],
      "id": "f1594ab0"
    },
    {
      "cell_type": "code",
      "execution_count": 31,
      "metadata": {},
      "outputs": [],
      "source": [
        "rdd.takeOrdered(2, key=lambda x: x[1])"
      ],
      "id": "809d83c0"
    },
    {
      "cell_type": "markdown",
      "metadata": {},
      "source": [
        "### `reduce`, `fold`"
      ],
      "id": "ffe0f6ea-fca9-4250-9812-378e7c47f70b"
    },
    {
      "cell_type": "code",
      "execution_count": 32,
      "metadata": {},
      "outputs": [],
      "source": [
        "rdd = sc.range(1, 4)\n",
        "rdd.reduce(lambda a, b: a + b)"
      ],
      "id": "2402febe"
    },
    {
      "cell_type": "code",
      "execution_count": 33,
      "metadata": {},
      "outputs": [],
      "source": [
        "rdd = sc.range(1, 4, numSlices=7)\n",
        "rdd.reduce(lambda a, b: a + b)"
      ],
      "id": "3a76fe6e"
    },
    {
      "cell_type": "code",
      "execution_count": 34,
      "metadata": {},
      "outputs": [],
      "source": [
        "rdd = sc.parallelize(range(1,4), 3)\n",
        "rdd.reduce(lambda a, b: a + b)"
      ],
      "id": "d181345f"
    },
    {
      "cell_type": "code",
      "execution_count": 35,
      "metadata": {},
      "outputs": [],
      "source": [
        "( \n",
        "    sc.parallelize(range(1, 4), 2)\n",
        "      .fold(0, lambda a, b: a + b)\n",
        ")"
      ],
      "id": "a78b29ea"
    },
    {
      "cell_type": "code",
      "execution_count": 36,
      "metadata": {},
      "outputs": [],
      "source": [
        "( \n",
        "    sc.parallelize(range(1, 4), 1)\n",
        "      .fold(3, lambda a, b: a + b)\n",
        "),( \n",
        "    sc.parallelize(range(1, 4), 2)\n",
        "      .fold(2, lambda a, b: a + b)\n",
        ")"
      ],
      "id": "7bb25ee6"
    },
    {
      "cell_type": "code",
      "execution_count": 37,
      "metadata": {},
      "outputs": [],
      "source": [
        "rdd =  sc.parallelize(range(1, 4),3)\n",
        "( \n",
        "    rdd.fold(1, lambda a, b: a + b), \n",
        "    rdd.getNumPartitions()\n",
        ")"
      ],
      "id": "652e7ae5"
    },
    {
      "cell_type": "code",
      "execution_count": 38,
      "metadata": {},
      "outputs": [],
      "source": [
        "rdd =  sc.parallelize(range(1, 4),4)\n",
        "\n",
        "(\n",
        "    rdd.fold(1, lambda a, b: a + b), \n",
        "    rdd.getNumPartitions()\n",
        ")"
      ],
      "id": "9fd4dcb6"
    },
    {
      "cell_type": "code",
      "execution_count": 39,
      "metadata": {},
      "outputs": [],
      "source": [
        "rdd = sc.parallelize([1, 2, 4], 2)\n",
        "rdd.fold(2, lambda a, b: a + b)"
      ],
      "id": "c99d1eb3"
    },
    {
      "cell_type": "code",
      "execution_count": 40,
      "metadata": {},
      "outputs": [],
      "source": [
        "rdd = sc.parallelize([1, 2, 4], 3)\n",
        "rdd.fold(2, lambda a, b: a + b)"
      ],
      "id": "24add61d"
    },
    {
      "cell_type": "code",
      "execution_count": 41,
      "metadata": {},
      "outputs": [],
      "source": [
        "rdd.getNumPartitions()"
      ],
      "id": "fcf4a94e"
    },
    {
      "cell_type": "markdown",
      "metadata": {},
      "source": [
        "### `aggregate`"
      ],
      "id": "9a0051d3-55e1-4d29-8f18-de5cd4417d12"
    },
    {
      "cell_type": "code",
      "execution_count": 42,
      "metadata": {},
      "outputs": [],
      "source": [
        "seqOp = lambda x, y: (x[0] + y, x[1] + 1)\n",
        "combOp = lambda x, y: (x[0] + y[0], x[1] + y[1])\n",
        "\n",
        "rdd = sc.parallelize([1, 2, 3, 4], 8)\n",
        "(\n",
        "    rdd.aggregate((0, 0), seqOp, combOp), rdd.getNumPartitions()\n",
        ")"
      ],
      "id": "7c0c1581"
    },
    {
      "cell_type": "code",
      "execution_count": 43,
      "metadata": {},
      "outputs": [],
      "source": [
        "op = lambda x, y: x+y\n",
        "rdd = sc.parallelize([1, 2, 3, 4], 4)\n",
        "(\n",
        "    rdd.aggregate(0, op, op),\n",
        "    rdd.getNumPartitions()\n",
        ")"
      ],
      "id": "b20f6e51"
    },
    {
      "cell_type": "markdown",
      "metadata": {},
      "source": [
        "### Exercice: sum of powers with `aggregate`\n",
        "\n",
        "-   Using `aggregate`, compute the sum, the sum of squares $x^2$ and the\n",
        "    sum of cubes $x^3$ for $x \\in \\{1, \\ldots, 10 \\}$.\n",
        "-   Check your computations using `numpy`"
      ],
      "id": "7168f2e2-4c02-4d7f-bd2c-dbd17f16c400"
    },
    {
      "cell_type": "code",
      "execution_count": 44,
      "metadata": {},
      "outputs": [],
      "source": [
        "seqOp = lambda x, y: (x[0] + y, x[1] + y ** 2, x[2] + y ** 3)"
      ],
      "id": "7190011d"
    },
    {
      "cell_type": "code",
      "execution_count": 45,
      "metadata": {},
      "outputs": [],
      "source": [
        "combOp = lambda x, y: (x[0] + y[0], x[1] + y[1], x[2] + y[2])"
      ],
      "id": "b9bb9b4c"
    },
    {
      "cell_type": "code",
      "execution_count": 46,
      "metadata": {},
      "outputs": [],
      "source": [
        "sc.range(5)"
      ],
      "id": "d9e079a5"
    },
    {
      "cell_type": "code",
      "execution_count": 47,
      "metadata": {},
      "outputs": [],
      "source": [
        "( \n",
        "    sc\n",
        "        .range(1, 11)\n",
        "        .aggregate((0, 0, 0), seqOp, combOp)\n",
        ")"
      ],
      "id": "e8586b0e"
    },
    {
      "cell_type": "code",
      "execution_count": 48,
      "metadata": {},
      "outputs": [],
      "source": [
        "import numpy as np\n",
        "\n",
        "x = np.arange(1, 11)\n",
        "x"
      ],
      "id": "f759225b"
    },
    {
      "cell_type": "code",
      "execution_count": 49,
      "metadata": {},
      "outputs": [],
      "source": [
        "x.sum(), (x**2).sum(), (x**3).sum(), x.cumsum()"
      ],
      "id": "2eb007f0"
    },
    {
      "cell_type": "markdown",
      "metadata": {},
      "source": [
        "### Computing an empirical variance with `aggregate`\n",
        "\n",
        "Assume a sample is stored as a RDD. Using `aggregate`, compute the\n",
        "sample variance $\\frac{1}{n}\\sum_{i=1}^n (x_i - \\overline{X}_n)^2$ where\n",
        "$\\overline{X}_n = \\frac{1}{n} \\sum_{i=1}^n x_i$\n",
        "\n",
        "# `PairRDD`"
      ],
      "id": "e08fb1be-865d-4630-93df-64fdcba3f0da"
    },
    {
      "cell_type": "code",
      "execution_count": 50,
      "metadata": {},
      "outputs": [],
      "source": [
        "rdd = sc.parallelize([[1, \"a\", 7], [2, \"b\", 13], [2, \"c\", 17]])\n",
        "\n",
        "rdd.collect()  # not yet "
      ],
      "id": "fa0ba295"
    },
    {
      "cell_type": "code",
      "execution_count": 51,
      "metadata": {},
      "outputs": [],
      "source": [
        "rdd = rdd.map(lambda x: (x[0], x[1:]))\n",
        "\n",
        "rdd.collect()  # done "
      ],
      "id": "d1250f01"
    },
    {
      "cell_type": "markdown",
      "metadata": {},
      "source": [
        "## Transformations\n",
        "\n",
        "### `keys`, `values`"
      ],
      "id": "efade5af-7b0e-4bdc-9289-87746e37c1e4"
    },
    {
      "cell_type": "code",
      "execution_count": 52,
      "metadata": {},
      "outputs": [],
      "source": [
        "rdd.keys().collect()"
      ],
      "id": "dd4f854e"
    },
    {
      "cell_type": "code",
      "execution_count": 53,
      "metadata": {},
      "outputs": [],
      "source": [
        "rdd.values().collect()"
      ],
      "id": "75c3c556"
    },
    {
      "cell_type": "markdown",
      "metadata": {},
      "source": [
        "> **Warning**\n",
        ">\n",
        "> All elements must be tuples with two elements (key and value)"
      ],
      "id": "6d374a54-a494-4e90-9755-d0ec8b7f5a0e"
    },
    {
      "cell_type": "code",
      "execution_count": 54,
      "metadata": {},
      "outputs": [],
      "source": [
        "rdd = sc.parallelize([[1, \"a\", 7], [2, \"b\", 13], [2, \"c\", 17]])\n",
        "rdd.keys().collect()"
      ],
      "id": "0ac9d86f"
    },
    {
      "cell_type": "code",
      "execution_count": 55,
      "metadata": {},
      "outputs": [],
      "source": [
        "rdd.values().collect()"
      ],
      "id": "58a3e2da"
    },
    {
      "cell_type": "markdown",
      "metadata": {},
      "source": [
        "The values are *not* what we expected wrong… so we *must* do"
      ],
      "id": "bf6c724e-7969-4781-a7a8-cf41ae381b39"
    },
    {
      "cell_type": "code",
      "execution_count": 56,
      "metadata": {},
      "outputs": [],
      "source": [
        "rdd = ( sc.parallelize([[1, \"a\", 7], [2, \"b\", 13], [2, \"c\", 17]])\n",
        "          .map(lambda x: (x[0], x[1:]))\n",
        "      )\n",
        "rdd.keys().collect()"
      ],
      "id": "797f9b52"
    },
    {
      "cell_type": "code",
      "execution_count": 57,
      "metadata": {},
      "outputs": [],
      "source": [
        "rdd.values().collect()"
      ],
      "id": "ec141059"
    },
    {
      "cell_type": "markdown",
      "metadata": {},
      "source": [
        "Now, the values are correct.\n",
        "\n",
        "### `mapValues`, `flatMapValues`"
      ],
      "id": "44fa83cf-fc7f-4c0c-957b-a39345a8ae15"
    },
    {
      "cell_type": "code",
      "execution_count": 58,
      "metadata": {},
      "outputs": [],
      "source": [
        "rdd = sc.parallelize([(\"a\", \"x y z\"), (\"b\", \"p r\")])\n",
        "\n",
        "rdd.mapValues(lambda v: v.split(' ')).collect(), rdd.collect()"
      ],
      "id": "cdfb27c8"
    },
    {
      "cell_type": "code",
      "execution_count": 59,
      "metadata": {},
      "outputs": [],
      "source": [
        "rdd.flatMapValues(lambda v: v.split(' ')).collect()"
      ],
      "id": "241d5600"
    },
    {
      "cell_type": "markdown",
      "metadata": {},
      "source": [
        "### `groupByKey`"
      ],
      "id": "cde4940e-8177-44fb-ab9b-fd6f3a69205e"
    },
    {
      "cell_type": "code",
      "execution_count": 60,
      "metadata": {},
      "outputs": [],
      "source": [
        "rdd = sc.parallelize([(\"a\", 1), (\"b\", 1), (\"a\", 1), (\"b\", 3), (\"c\", 42)])\n",
        "( \n",
        "    rdd.groupByKey()\n",
        "       .mapValues(list)\n",
        "       .collect()\n",
        ")"
      ],
      "id": "6324fcc3"
    },
    {
      "cell_type": "code",
      "execution_count": 61,
      "metadata": {},
      "outputs": [],
      "source": [
        "rdd.groupByKey().collect()"
      ],
      "id": "e50c9e11"
    },
    {
      "cell_type": "markdown",
      "metadata": {},
      "source": [
        "### `reduceByKey`"
      ],
      "id": "11367252-0ce6-4151-aeca-d7cfc5c1eedb"
    },
    {
      "cell_type": "code",
      "execution_count": 62,
      "metadata": {},
      "outputs": [],
      "source": [
        "rdd = sc.parallelize([(\"a\", 1), (\"b\", 1), (\"a\", 1)])\n",
        "rdd.reduceByKey(lambda a, b: a + b).collect()"
      ],
      "id": "81739ecb"
    },
    {
      "cell_type": "markdown",
      "metadata": {},
      "source": [
        "### `combineByKey`"
      ],
      "id": "6c85b7b1-f441-4b3e-87b8-b5bae55e11b3"
    },
    {
      "cell_type": "code",
      "execution_count": 63,
      "metadata": {},
      "outputs": [],
      "source": [
        "rdd = sc.parallelize([('a', 1), ('b', 2), ('a', 13)])\n",
        "\n",
        "def add(a, b): \n",
        "    return a + str(b)\n",
        "\n",
        "rdd.combineByKey(str, add, add).collect()"
      ],
      "id": "09b74a27"
    },
    {
      "cell_type": "markdown",
      "metadata": {},
      "source": [
        "### `join`, `rightOuterJoin`, `leftOuterJoin`"
      ],
      "id": "94565ce5-c959-4988-85a5-df25949eda81"
    },
    {
      "cell_type": "code",
      "execution_count": 64,
      "metadata": {},
      "outputs": [],
      "source": [
        "employees = sc.parallelize([\n",
        "    (31, \"Rafferty\"),\n",
        "    (33, \"Jones\"),\n",
        "    (33, \"Heisenberg\"),\n",
        "    (34, \"Robinson\"),\n",
        "    (34, \"Smith\"),\n",
        "    (None, \"Williams\")\n",
        "])"
      ],
      "id": "c68d00ce"
    },
    {
      "cell_type": "code",
      "execution_count": 65,
      "metadata": {},
      "outputs": [],
      "source": [
        "departments = sc.parallelize([\n",
        "    (31, \"Sales\"),\n",
        "    (33, \"Engineering\"),\n",
        "    (34, \"Clerical\"),\n",
        "    (35, \"Marketing\")\n",
        "])"
      ],
      "id": "7e3b1fa3"
    },
    {
      "cell_type": "code",
      "execution_count": 66,
      "metadata": {},
      "outputs": [],
      "source": [
        "( \n",
        "    employees\n",
        "        .join(departments)\n",
        "        .sortByKey()\n",
        "        .collect()\n",
        ")"
      ],
      "id": "c9fefbd5"
    },
    {
      "cell_type": "code",
      "execution_count": 67,
      "metadata": {},
      "outputs": [],
      "source": [
        "( \n",
        "    employees\n",
        "        .rightOuterJoin(departments)\n",
        "        .sortByKey()\n",
        "        .collect()\n",
        ")"
      ],
      "id": "ff87c9aa"
    },
    {
      "cell_type": "code",
      "execution_count": 68,
      "metadata": {},
      "outputs": [],
      "source": [
        "(\n",
        "    employees\n",
        "        .leftOuterJoin(departments)\n",
        "        .collect()\n",
        ")"
      ],
      "id": "3cd85bfc"
    },
    {
      "cell_type": "markdown",
      "metadata": {},
      "source": [
        "## Actions"
      ],
      "id": "79c81593-85e9-4ba3-9e31-0eb63ff11cf0"
    },
    {
      "cell_type": "code",
      "execution_count": 69,
      "metadata": {},
      "outputs": [],
      "source": [
        "employees.countByKey()"
      ],
      "id": "3dbfbf2b"
    },
    {
      "cell_type": "code",
      "execution_count": 70,
      "metadata": {},
      "outputs": [],
      "source": [
        "employees.lookup(33)"
      ],
      "id": "7e07c990"
    },
    {
      "cell_type": "code",
      "execution_count": 71,
      "metadata": {},
      "outputs": [],
      "source": [
        "employees.lookup(None)"
      ],
      "id": "ba86ad5b"
    },
    {
      "cell_type": "code",
      "execution_count": 72,
      "metadata": {},
      "outputs": [],
      "source": [
        "employees.collectAsMap()"
      ],
      "id": "2e835a3a"
    },
    {
      "cell_type": "markdown",
      "metadata": {},
      "source": [
        "## References\n",
        "\n",
        "[Spark Core\n",
        "reference](https://spark.apache.org/docs/latest/rdd-programming-guide.html)"
      ],
      "id": "7f6cbe45-0bb0-4615-ac69-893c384ae444"
    }
  ],
  "nbformat": 4,
  "nbformat_minor": 5,
  "metadata": {
    "kernelspec": {
      "name": "python3",
      "display_name": "Python 3 (ipykernel)",
      "language": "python",
      "path": "/usr/share/jupyter/kernels/python3"
    },
    "language_info": {
      "name": "python",
      "codemirror_mode": {
        "name": "ipython",
        "version": "3"
      },
      "file_extension": ".py",
      "mimetype": "text/x-python",
      "nbconvert_exporter": "python",
      "pygments_lexer": "ipython3",
      "version": "3.12.3"
    }
  }
}