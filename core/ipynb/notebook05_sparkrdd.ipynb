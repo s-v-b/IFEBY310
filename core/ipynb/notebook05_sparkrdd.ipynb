{
  "cells": [
    {
      "cell_type": "markdown",
      "metadata": {},
      "source": [
        "# Introduction to `Spark` RDD"
      ],
      "id": "131bdbee-1607-4b91-851b-a0688a508e1c"
    },
    {
      "cell_type": "code",
      "execution_count": 1,
      "metadata": {},
      "outputs": [],
      "source": [
        "import numpy as np"
      ],
      "id": "d7c80dd1"
    },
    {
      "cell_type": "code",
      "execution_count": 2,
      "metadata": {},
      "outputs": [],
      "source": [
        "import os\n",
        "import sys\n",
        "import inspect\n",
        "\n",
        "os.environ['PYSPARK_PYTHON'] = sys.executable\n",
        "os.environ['PYSPARK_DRIVER_PYTHON'] = sys.executable"
      ],
      "id": "1eb43b4a"
    },
    {
      "cell_type": "code",
      "execution_count": 3,
      "metadata": {},
      "outputs": [],
      "source": [
        "from pyspark import SparkConf, SparkContext\n",
        "\n",
        "conf = SparkConf().setAppName(\"Spark RDD Course\")\n",
        "sc = SparkContext(conf=conf)"
      ],
      "id": "44d68a33"
    },
    {
      "cell_type": "code",
      "execution_count": 4,
      "metadata": {},
      "outputs": [],
      "source": [
        "rdd = sc.parallelize(range(64))"
      ],
      "id": "b5066b50"
    },
    {
      "cell_type": "markdown",
      "metadata": {},
      "source": [
        "Note that `parallelize` takes an optional argument to choose the number\n",
        "of partitions"
      ],
      "id": "9e25aaf2-4376-40c7-9c9f-6c548fe66d08"
    },
    {
      "cell_type": "code",
      "execution_count": 5,
      "metadata": {},
      "outputs": [],
      "source": [
        "rdd.getNumPartitions()"
      ],
      "id": "86a5fa0e"
    },
    {
      "cell_type": "code",
      "execution_count": 6,
      "metadata": {},
      "outputs": [],
      "source": [
        "rdd = sc.parallelize(range(1000), 10)\n",
        "rdd.getNumPartitions()"
      ],
      "id": "be63d9db"
    },
    {
      "cell_type": "markdown",
      "metadata": {},
      "source": [
        "## Transformations\n",
        "\n",
        "### `map`"
      ],
      "id": "a456741d-8758-43bc-8f86-3dee6957cca1"
    },
    {
      "cell_type": "code",
      "execution_count": 7,
      "metadata": {},
      "outputs": [],
      "source": [
        "rdd = sc.parallelize([2, 3, 4])\n",
        "rdd = rdd.map(lambda x: list(range(1, x)))"
      ],
      "id": "5e7e7497"
    },
    {
      "cell_type": "code",
      "execution_count": 8,
      "metadata": {},
      "outputs": [],
      "source": [
        "rdd"
      ],
      "id": "aa8d2dbe"
    },
    {
      "cell_type": "code",
      "execution_count": 9,
      "metadata": {},
      "outputs": [],
      "source": [
        "(\n",
        "    sc.parallelize([2, 3, 4])\n",
        "      .map(lambda x: list(range(1, x)))\n",
        ")"
      ],
      "id": "215f651d"
    },
    {
      "cell_type": "markdown",
      "metadata": {},
      "source": [
        "`map` is a *transformation*. It is *lazily* evaluated. Hence execution\n",
        "is delayed until an *action* is met in the DAG)."
      ],
      "id": "60320004-2700-4b2e-99a5-4e7cee35c288"
    },
    {
      "cell_type": "code",
      "execution_count": 10,
      "metadata": {},
      "outputs": [],
      "source": [
        "rdd.collect()  # collect is an action "
      ],
      "id": "2261d750"
    },
    {
      "cell_type": "code",
      "execution_count": 11,
      "metadata": {},
      "outputs": [],
      "source": [
        "(\n",
        "    sc.parallelize([2, 3, 4])\n",
        "      .map(lambda x: list(range(1, x)))\n",
        "      .collect()\n",
        ")"
      ],
      "id": "39b55151"
    },
    {
      "cell_type": "markdown",
      "metadata": {},
      "source": [
        "### Exercice: `map` with a method\n",
        "\n",
        "**Warning.** This example is a bad practice !!! Don’t do this at home"
      ],
      "id": "b4a0c03b-f04d-4d6a-b975-591bec08045c"
    },
    {
      "cell_type": "code",
      "execution_count": 12,
      "metadata": {},
      "outputs": [],
      "source": [
        "dbtel = {'arthur': 1234, 'riad': 4567, 'anatole': 3615}"
      ],
      "id": "7af03762"
    },
    {
      "cell_type": "code",
      "execution_count": 13,
      "metadata": {},
      "outputs": [],
      "source": [
        "class TelephoneDB(object):\n",
        "    \n",
        "    def __init__(self):\n",
        "        self.tel = {'arthur': 1234, 'riad': 4567, 'anatole': 3615}\n",
        "   \n",
        "    def add_tel(self, name):\n",
        "        return name, self.tel.get(name)"
      ],
      "id": "3c1c4c87"
    },
    {
      "cell_type": "code",
      "execution_count": 14,
      "metadata": {},
      "outputs": [],
      "source": [
        "tel_db = TelephoneDB()\n",
        "names = ['arthur', 'riad']"
      ],
      "id": "4507aa0f"
    },
    {
      "cell_type": "code",
      "execution_count": 15,
      "metadata": {},
      "outputs": [],
      "source": [
        "rdd = (\n",
        "    sc\n",
        "        .parallelize(names)\n",
        "        .map(tel_db.add_tel)\n",
        "        .collect()\n",
        ")\n",
        "\n",
        "rdd"
      ],
      "id": "353bbea8"
    },
    {
      "cell_type": "markdown",
      "metadata": {},
      "source": [
        "-   Replace the `tel` dictionary by a `defaultdict` with default number\n",
        "    `999`\n",
        "-   Use it on a `rdd` containing names as above including an unknown\n",
        "    one, and try it"
      ],
      "id": "c81b12ca-e3ac-48ad-b0d4-56c8d84f3ac0"
    },
    {
      "cell_type": "code",
      "execution_count": 16,
      "metadata": {},
      "outputs": [],
      "source": [
        "from collections import defaultdict\n",
        "\n",
        "class TelephoneDefaultDB(object):\n",
        "    \n",
        "    def __init__(self):\n",
        "        self.tel = defaultdict(lambda: 999, {'arthur': 1234, 'riad': 4567, 'anatole': 3615})\n",
        "    \n",
        "    def add_tel(self, name):\n",
        "        return name, self.tel[name]\n",
        "    \n",
        "    def add_tel_rdd(self, rdd):  \n",
        "        return rdd.map(self.add_tel)"
      ],
      "id": "59633f15"
    },
    {
      "cell_type": "code",
      "execution_count": 17,
      "metadata": {},
      "outputs": [],
      "source": [
        "tel_db = TelephoneDefaultDB()\n",
        "names = ['riad', 'anatole', 'yiyang']\n",
        "rdd = (\n",
        "    sc\n",
        "        .parallelize(names)\n",
        "        .map(tel_db.add_tel)\n",
        "        .collect()\n",
        ")\n",
        "rdd"
      ],
      "id": "ebfd4315"
    },
    {
      "cell_type": "markdown",
      "metadata": {},
      "source": [
        "> **Caution**\n",
        ">\n",
        "> It is a bad idea to pass *methods* to spark’s `map`. Since `add_tel`\n",
        "> needs `self`, the whole object is serialized so that `spark` can use\n",
        "> it.\n",
        ">\n",
        "> This breaks if the `tel` is large, or if it is not serializable.\n",
        "\n",
        "### `flatMap`"
      ],
      "id": "8464a90f-9235-4ead-a94f-5421d91e1bde"
    },
    {
      "cell_type": "code",
      "execution_count": 18,
      "metadata": {},
      "outputs": [],
      "source": [
        "rdd = sc.parallelize([2, 3, 4, 5])\n",
        "( \n",
        "    rdd\n",
        "        .flatMap(lambda x: range(1, x))\n",
        "        .collect()\n",
        ")"
      ],
      "id": "db1873fd"
    },
    {
      "cell_type": "markdown",
      "metadata": {},
      "source": [
        "### `filter`"
      ],
      "id": "99b36164-c78a-4b6c-bc45-b782ccf28737"
    },
    {
      "cell_type": "code",
      "execution_count": 19,
      "metadata": {},
      "outputs": [],
      "source": [
        "rdd = sc.parallelize(range(10))\n",
        "\n",
        "rdd\\\n",
        "    .filter(lambda x: x % 2 == 0)\\\n",
        "    .collect()"
      ],
      "id": "6f20fe97"
    },
    {
      "cell_type": "markdown",
      "metadata": {},
      "source": [
        "### `distinct`"
      ],
      "id": "cde24000-4f8e-4d0a-ac56-812a8e51c512"
    },
    {
      "cell_type": "code",
      "execution_count": 20,
      "metadata": {},
      "outputs": [],
      "source": [
        "rdd = sc.parallelize([1, 1, 4, 2, 1, 3, 3])\n",
        "rdd.distinct().collect()"
      ],
      "id": "ffd286b1"
    },
    {
      "cell_type": "markdown",
      "metadata": {},
      "source": [
        "### “Pseudo-set” operations"
      ],
      "id": "521d0c46-856b-419b-90c6-355461ee8f78"
    },
    {
      "cell_type": "code",
      "execution_count": 21,
      "metadata": {},
      "outputs": [],
      "source": [
        "rdd1 = sc.parallelize(range(5))\n",
        "rdd2 = sc.parallelize(range(3, 9))\n",
        "rdd3 = rdd1.union(rdd2)\n",
        "rdd3.collect()"
      ],
      "id": "a128ccdb"
    },
    {
      "cell_type": "code",
      "execution_count": 22,
      "metadata": {},
      "outputs": [],
      "source": [
        "rdd3.distinct().collect()"
      ],
      "id": "a8805937"
    },
    {
      "cell_type": "code",
      "execution_count": 23,
      "metadata": {},
      "outputs": [],
      "source": [
        "rdd1 = sc.parallelize([1, 2])\n",
        "rdd2 = sc.parallelize([\"a\", \"b\"])\n",
        "rdd1.cartesian(rdd2).collect()"
      ],
      "id": "9e840993"
    },
    {
      "cell_type": "markdown",
      "metadata": {},
      "source": [
        "## Actions\n",
        "\n",
        "`collect` is obviously an action…\n",
        "\n",
        "### `count`, `countByValue`"
      ],
      "id": "40b4fc24-d1ef-490d-9f85-a97a6489ab82"
    },
    {
      "cell_type": "code",
      "execution_count": 24,
      "metadata": {},
      "outputs": [],
      "source": [
        "rdd = sc.parallelize([1, 3, 1, 2, 2, 2])\n",
        "rdd.count()"
      ],
      "id": "d2bb8fe3"
    },
    {
      "cell_type": "code",
      "execution_count": 25,
      "metadata": {},
      "outputs": [],
      "source": [
        "rdd.countByValue()"
      ],
      "id": "724a1c97"
    },
    {
      "cell_type": "markdown",
      "metadata": {},
      "source": [
        "Why does `countByValue()` returns a dictionary?\n",
        "\n",
        "Are `count()` and `countByValue()` actions or transformations?"
      ],
      "id": "29d73312-c155-4b98-b398-d1df9a1ea7b0"
    },
    {
      "cell_type": "code",
      "execution_count": 26,
      "metadata": {},
      "outputs": [],
      "source": [
        "u = np.int32((np.random.sample(100000) * 100000))  # 100000 random integers uniformly distributed on 0, ..., 100000\n",
        "\n",
        "p = (\n",
        "    sc.parallelize(u)\n",
        "    .countByValue()\n",
        ")\n",
        "\n",
        "q = sorted(\n",
        "    p.items(), \n",
        "    key = lambda x : x[1], \n",
        "    reverse=True\n",
        ")\n",
        "\n",
        "q[0:10]\n",
        "\n",
        "q[0], 1 + np.log(len(u))/ np.log(np.log(len(u))), len(q)"
      ],
      "id": "d1e664d6"
    },
    {
      "cell_type": "markdown",
      "metadata": {},
      "source": [
        "-   How many distinct values do you expect in `u` ?\n",
        "-   How large is the largest value in $q$ ?"
      ],
      "id": "7238f33a-5949-4233-bc48-e7d814dc7b2d"
    },
    {
      "cell_type": "code",
      "execution_count": 27,
      "metadata": {},
      "outputs": [],
      "source": [
        "from scipy.stats import poisson \n",
        "\n",
        "( \n",
        "    len(q), \n",
        "    (1-np.exp(-1)) * len(u),\n",
        "    poisson.ppf(1.-1./len(u), 1)\n",
        ")"
      ],
      "id": "9dde9f38"
    },
    {
      "cell_type": "markdown",
      "metadata": {},
      "source": [
        "### `take`, `takeOrdered`"
      ],
      "id": "53ce8bcb-6902-4769-9ae5-2f7a962b0d5d"
    },
    {
      "cell_type": "code",
      "execution_count": 28,
      "metadata": {},
      "outputs": [],
      "source": [
        "rdd = sc.parallelize([(3, 'a'), (1, 'b'), (2, 'd')])"
      ],
      "id": "944b8345"
    },
    {
      "cell_type": "code",
      "execution_count": 29,
      "metadata": {},
      "outputs": [],
      "source": [
        "(1, 'b') <=  (2, 'd') <= (3, 'a')"
      ],
      "id": "875fa104"
    },
    {
      "cell_type": "code",
      "execution_count": 30,
      "metadata": {},
      "outputs": [],
      "source": [
        "rdd.takeOrdered(2)"
      ],
      "id": "10d94ff8"
    },
    {
      "cell_type": "code",
      "execution_count": 31,
      "metadata": {},
      "outputs": [],
      "source": [
        "rdd.takeOrdered(2, key=lambda x: x[1])"
      ],
      "id": "5dfec805"
    },
    {
      "cell_type": "markdown",
      "metadata": {},
      "source": [
        "### `reduce`, `fold`"
      ],
      "id": "f9f85d31-751a-4791-a48f-e10f7eb3bcec"
    },
    {
      "cell_type": "code",
      "execution_count": 32,
      "metadata": {},
      "outputs": [],
      "source": [
        "rdd = sc.range(1, 4)\n",
        "rdd.reduce(lambda a, b: a + b)"
      ],
      "id": "d01d8519"
    },
    {
      "cell_type": "code",
      "execution_count": 33,
      "metadata": {},
      "outputs": [],
      "source": [
        "rdd = sc.range(1, 4, numSlices=7)\n",
        "rdd.reduce(lambda a, b: a + b)"
      ],
      "id": "d43b3d77"
    },
    {
      "cell_type": "code",
      "execution_count": 34,
      "metadata": {},
      "outputs": [],
      "source": [
        "rdd = sc.parallelize(range(1,4), 3)\n",
        "rdd.reduce(lambda a, b: a + b)"
      ],
      "id": "63f1b4b7"
    },
    {
      "cell_type": "code",
      "execution_count": 35,
      "metadata": {},
      "outputs": [],
      "source": [
        "( \n",
        "    sc.parallelize(range(1, 4), 2)\n",
        "      .fold(0, lambda a, b: a + b)\n",
        ")"
      ],
      "id": "8bdfec5e"
    },
    {
      "cell_type": "code",
      "execution_count": 36,
      "metadata": {},
      "outputs": [],
      "source": [
        "( \n",
        "    sc.parallelize(range(1, 4), 1)\n",
        "      .fold(3, lambda a, b: a + b)\n",
        "),( \n",
        "    sc.parallelize(range(1, 4), 2)\n",
        "      .fold(2, lambda a, b: a + b)\n",
        ")"
      ],
      "id": "febd0fa8"
    },
    {
      "cell_type": "code",
      "execution_count": 37,
      "metadata": {},
      "outputs": [],
      "source": [
        "rdd =  sc.parallelize(range(1, 4),3)\n",
        "( \n",
        "    rdd.fold(1, lambda a, b: a + b), \n",
        "    rdd.getNumPartitions()\n",
        ")"
      ],
      "id": "b05e54dc"
    },
    {
      "cell_type": "code",
      "execution_count": 38,
      "metadata": {},
      "outputs": [],
      "source": [
        "rdd =  sc.parallelize(range(1, 4),4)\n",
        "\n",
        "(\n",
        "    rdd.fold(1, lambda a, b: a + b), \n",
        "    rdd.getNumPartitions()\n",
        ")"
      ],
      "id": "183e946b"
    },
    {
      "cell_type": "code",
      "execution_count": 39,
      "metadata": {},
      "outputs": [],
      "source": [
        "rdd = sc.parallelize([1, 2, 4], 2)\n",
        "rdd.fold(2, lambda a, b: a + b)"
      ],
      "id": "a9fc7046"
    },
    {
      "cell_type": "code",
      "execution_count": 40,
      "metadata": {},
      "outputs": [],
      "source": [
        "rdd = sc.parallelize([1, 2, 4], 3)\n",
        "rdd.fold(2, lambda a, b: a + b)"
      ],
      "id": "441e0a31"
    },
    {
      "cell_type": "code",
      "execution_count": 41,
      "metadata": {},
      "outputs": [],
      "source": [
        "rdd.getNumPartitions()"
      ],
      "id": "b8781bf5"
    },
    {
      "cell_type": "markdown",
      "metadata": {},
      "source": [
        "### `aggregate`"
      ],
      "id": "51d17467-2906-4288-9a33-7cb834b135fb"
    },
    {
      "cell_type": "code",
      "execution_count": 42,
      "metadata": {},
      "outputs": [],
      "source": [
        "seqOp = lambda x, y: (x[0] + y, x[1] + 1)\n",
        "combOp = lambda x, y: (x[0] + y[0], x[1] + y[1])\n",
        "\n",
        "rdd = sc.parallelize([1, 2, 3, 4], 8)\n",
        "(\n",
        "    rdd.aggregate((0, 0), seqOp, combOp), rdd.getNumPartitions()\n",
        ")"
      ],
      "id": "5bd8f439"
    },
    {
      "cell_type": "code",
      "execution_count": 43,
      "metadata": {},
      "outputs": [],
      "source": [
        "op = lambda x, y: x+y\n",
        "rdd = sc.parallelize([1, 2, 3, 4], 4)\n",
        "(\n",
        "    rdd.aggregate(0, op, op),\n",
        "    rdd.getNumPartitions()\n",
        ")"
      ],
      "id": "a6dc925c"
    },
    {
      "cell_type": "markdown",
      "metadata": {},
      "source": [
        "### Exercice: sum of powers with `aggregate`\n",
        "\n",
        "-   Using `aggregate`, compute the sum, the sum of squares $x^2$ and the\n",
        "    sum of cubes $x^3$ for $x \\in \\{1, \\ldots, 10 \\}$.\n",
        "-   Check your computations using `numpy`"
      ],
      "id": "c7d9e4da-54de-45cd-a0dd-05ffbd9cd3ab"
    },
    {
      "cell_type": "code",
      "execution_count": 44,
      "metadata": {},
      "outputs": [],
      "source": [
        "seqOp = lambda x, y: (x[0] + y, x[1] + y ** 2, x[2] + y ** 3)"
      ],
      "id": "d534129a"
    },
    {
      "cell_type": "code",
      "execution_count": 45,
      "metadata": {},
      "outputs": [],
      "source": [
        "combOp = lambda x, y: (x[0] + y[0], x[1] + y[1], x[2] + y[2])"
      ],
      "id": "253570cb"
    },
    {
      "cell_type": "code",
      "execution_count": 46,
      "metadata": {},
      "outputs": [],
      "source": [
        "sc.range(5)"
      ],
      "id": "5cd760f0"
    },
    {
      "cell_type": "code",
      "execution_count": 47,
      "metadata": {},
      "outputs": [],
      "source": [
        "( \n",
        "    sc\n",
        "        .range(1, 11)\n",
        "        .aggregate((0, 0, 0), seqOp, combOp)\n",
        ")"
      ],
      "id": "f913c73f"
    },
    {
      "cell_type": "code",
      "execution_count": 48,
      "metadata": {},
      "outputs": [],
      "source": [
        "import numpy as np\n",
        "\n",
        "x = np.arange(1, 11)\n",
        "x"
      ],
      "id": "228022a4"
    },
    {
      "cell_type": "code",
      "execution_count": 49,
      "metadata": {},
      "outputs": [],
      "source": [
        "x.sum(), (x**2).sum(), (x**3).sum(), x.cumsum()"
      ],
      "id": "812fd833"
    },
    {
      "cell_type": "markdown",
      "metadata": {},
      "source": [
        "### Computing an empirical variance with `aggregate`\n",
        "\n",
        "Assume a sample is stored as a RDD. Using `aggregate`, compute the\n",
        "sample variance $\\frac{1}{n}\\sum_{i=1}^n (x_i - \\overline{X}_n)^2$ where\n",
        "$\\overline{X}_n = \\frac{1}{n} \\sum_{i=1}^n x_i$\n",
        "\n",
        "# `PairRDD`"
      ],
      "id": "4c728d8b-55df-4482-b306-394a013fd368"
    },
    {
      "cell_type": "code",
      "execution_count": 50,
      "metadata": {},
      "outputs": [],
      "source": [
        "rdd = sc.parallelize([[1, \"a\", 7], [2, \"b\", 13], [2, \"c\", 17]])\n",
        "\n",
        "rdd.collect()  # not yet "
      ],
      "id": "c748f879"
    },
    {
      "cell_type": "code",
      "execution_count": 51,
      "metadata": {},
      "outputs": [],
      "source": [
        "rdd = rdd.map(lambda x: (x[0], x[1:]))\n",
        "\n",
        "rdd.collect()  # done "
      ],
      "id": "46429bb8"
    },
    {
      "cell_type": "markdown",
      "metadata": {},
      "source": [
        "## Transformations\n",
        "\n",
        "### `keys`, `values`"
      ],
      "id": "f8a20ecc-8838-4b27-a716-643e820b7c2e"
    },
    {
      "cell_type": "code",
      "execution_count": 52,
      "metadata": {},
      "outputs": [],
      "source": [
        "rdd.keys().collect()"
      ],
      "id": "6391cfb9"
    },
    {
      "cell_type": "code",
      "execution_count": 53,
      "metadata": {},
      "outputs": [],
      "source": [
        "rdd.values().collect()"
      ],
      "id": "d59a2a5c"
    },
    {
      "cell_type": "markdown",
      "metadata": {},
      "source": [
        "> **Warning**\n",
        ">\n",
        "> All elements must be tuples with two elements (key and value)"
      ],
      "id": "45b32684-57a0-4534-a095-187fccc6c484"
    },
    {
      "cell_type": "code",
      "execution_count": 54,
      "metadata": {},
      "outputs": [],
      "source": [
        "rdd = sc.parallelize([[1, \"a\", 7], [2, \"b\", 13], [2, \"c\", 17]])\n",
        "rdd.keys().collect()"
      ],
      "id": "570803a7"
    },
    {
      "cell_type": "code",
      "execution_count": 55,
      "metadata": {},
      "outputs": [],
      "source": [
        "rdd.values().collect()"
      ],
      "id": "0efe8861"
    },
    {
      "cell_type": "markdown",
      "metadata": {},
      "source": [
        "The values are *not* what we expected wrong… so we *must* do"
      ],
      "id": "d1159851-e8e1-4138-b844-5b01ae76d625"
    },
    {
      "cell_type": "code",
      "execution_count": 56,
      "metadata": {},
      "outputs": [],
      "source": [
        "rdd = ( sc.parallelize([[1, \"a\", 7], [2, \"b\", 13], [2, \"c\", 17]])\n",
        "          .map(lambda x: (x[0], x[1:]))\n",
        "      )\n",
        "rdd.keys().collect()"
      ],
      "id": "bd1b719c"
    },
    {
      "cell_type": "code",
      "execution_count": 57,
      "metadata": {},
      "outputs": [],
      "source": [
        "rdd.values().collect()"
      ],
      "id": "9a2c8f38"
    },
    {
      "cell_type": "markdown",
      "metadata": {},
      "source": [
        "Now, the values are correct.\n",
        "\n",
        "### `mapValues`, `flatMapValues`"
      ],
      "id": "da3e8a74-f3cb-4652-8f0b-6e47177a5694"
    },
    {
      "cell_type": "code",
      "execution_count": 58,
      "metadata": {},
      "outputs": [],
      "source": [
        "rdd = sc.parallelize([(\"a\", \"x y z\"), (\"b\", \"p r\")])\n",
        "\n",
        "rdd.mapValues(lambda v: v.split(' ')).collect(), rdd.collect()"
      ],
      "id": "ae3ff95f"
    },
    {
      "cell_type": "code",
      "execution_count": 59,
      "metadata": {},
      "outputs": [],
      "source": [
        "rdd.flatMapValues(lambda v: v.split(' ')).collect()"
      ],
      "id": "a436188e"
    },
    {
      "cell_type": "markdown",
      "metadata": {},
      "source": [
        "### `groupByKey`"
      ],
      "id": "6403e269-e40f-41d0-af75-9cf5b521a3a1"
    },
    {
      "cell_type": "code",
      "execution_count": 60,
      "metadata": {},
      "outputs": [],
      "source": [
        "rdd = sc.parallelize([(\"a\", 1), (\"b\", 1), (\"a\", 1), (\"b\", 3), (\"c\", 42)])\n",
        "( \n",
        "    rdd.groupByKey()\n",
        "       .mapValues(list)\n",
        "       .collect()\n",
        ")"
      ],
      "id": "de467f7b"
    },
    {
      "cell_type": "code",
      "execution_count": 61,
      "metadata": {},
      "outputs": [],
      "source": [
        "rdd.groupByKey().collect()"
      ],
      "id": "b8f0abdb"
    },
    {
      "cell_type": "markdown",
      "metadata": {},
      "source": [
        "### `reduceByKey`"
      ],
      "id": "f45c181e-0725-4444-91c2-c0fcf9dc59c8"
    },
    {
      "cell_type": "code",
      "execution_count": 62,
      "metadata": {},
      "outputs": [],
      "source": [
        "rdd = sc.parallelize([(\"a\", 1), (\"b\", 1), (\"a\", 1)])\n",
        "rdd.reduceByKey(lambda a, b: a + b).collect()"
      ],
      "id": "d2df90e4"
    },
    {
      "cell_type": "markdown",
      "metadata": {},
      "source": [
        "### `combineByKey`"
      ],
      "id": "83a53bb1-be8e-4033-b82a-2f20fdcb51c8"
    },
    {
      "cell_type": "code",
      "execution_count": 63,
      "metadata": {},
      "outputs": [],
      "source": [
        "rdd = sc.parallelize([('a', 1), ('b', 2), ('a', 13)])\n",
        "\n",
        "def add(a, b): \n",
        "    return a + str(b)\n",
        "\n",
        "rdd.combineByKey(str, add, add).collect()"
      ],
      "id": "b5f25a4f"
    },
    {
      "cell_type": "markdown",
      "metadata": {},
      "source": [
        "### `join`, `rightOuterJoin`, `leftOuterJoin`"
      ],
      "id": "a7747b6a-1729-468d-820d-6a6570cefb39"
    },
    {
      "cell_type": "code",
      "execution_count": 64,
      "metadata": {},
      "outputs": [],
      "source": [
        "employees = sc.parallelize([\n",
        "    (31, \"Rafferty\"),\n",
        "    (33, \"Jones\"),\n",
        "    (33, \"Heisenberg\"),\n",
        "    (34, \"Robinson\"),\n",
        "    (34, \"Smith\"),\n",
        "    (None, \"Williams\")\n",
        "])"
      ],
      "id": "d850edd2"
    },
    {
      "cell_type": "code",
      "execution_count": 65,
      "metadata": {},
      "outputs": [],
      "source": [
        "departments = sc.parallelize([\n",
        "    (31, \"Sales\"),\n",
        "    (33, \"Engineering\"),\n",
        "    (34, \"Clerical\"),\n",
        "    (35, \"Marketing\")\n",
        "])"
      ],
      "id": "9331bf01"
    },
    {
      "cell_type": "code",
      "execution_count": 66,
      "metadata": {},
      "outputs": [],
      "source": [
        "( \n",
        "    employees\n",
        "        .join(departments)\n",
        "        .sortByKey()\n",
        "        .collect()\n",
        ")"
      ],
      "id": "e886b39c"
    },
    {
      "cell_type": "code",
      "execution_count": 67,
      "metadata": {},
      "outputs": [],
      "source": [
        "( \n",
        "    employees\n",
        "        .rightOuterJoin(departments)\n",
        "        .sortByKey()\n",
        "        .collect()\n",
        ")"
      ],
      "id": "3468daee"
    },
    {
      "cell_type": "code",
      "execution_count": 68,
      "metadata": {},
      "outputs": [],
      "source": [
        "(\n",
        "    employees\n",
        "        .leftOuterJoin(departments)\n",
        "        .collect()\n",
        ")"
      ],
      "id": "26baf9de"
    },
    {
      "cell_type": "markdown",
      "metadata": {},
      "source": [
        "## Actions"
      ],
      "id": "faac1c28-7a0b-4447-bc56-fd84f9434975"
    },
    {
      "cell_type": "code",
      "execution_count": 69,
      "metadata": {},
      "outputs": [],
      "source": [
        "employees.countByKey()"
      ],
      "id": "fb7ee769"
    },
    {
      "cell_type": "code",
      "execution_count": 70,
      "metadata": {},
      "outputs": [],
      "source": [
        "employees.lookup(33)"
      ],
      "id": "e267fd5b"
    },
    {
      "cell_type": "code",
      "execution_count": 71,
      "metadata": {},
      "outputs": [],
      "source": [
        "employees.lookup(None)"
      ],
      "id": "01399ffa"
    },
    {
      "cell_type": "code",
      "execution_count": 72,
      "metadata": {},
      "outputs": [],
      "source": [
        "employees.collectAsMap()"
      ],
      "id": "64ebdc75"
    },
    {
      "cell_type": "markdown",
      "metadata": {},
      "source": [
        "## References\n",
        "\n",
        "[Spark Core\n",
        "reference](https://spark.apache.org/docs/latest/rdd-programming-guide.html)"
      ],
      "id": "057b9648-444c-4524-8051-2a672946de49"
    }
  ],
  "nbformat": 4,
  "nbformat_minor": 5,
  "metadata": {
    "kernelspec": {
      "name": "python3",
      "display_name": "Python 3 (ipykernel)",
      "language": "python",
      "path": "/usr/share/jupyter/kernels/python3"
    },
    "language_info": {
      "name": "python",
      "codemirror_mode": {
        "name": "ipython",
        "version": "3"
      },
      "file_extension": ".py",
      "mimetype": "text/x-python",
      "nbconvert_exporter": "python",
      "pygments_lexer": "ipython3",
      "version": "3.12.3"
    }
  }
}