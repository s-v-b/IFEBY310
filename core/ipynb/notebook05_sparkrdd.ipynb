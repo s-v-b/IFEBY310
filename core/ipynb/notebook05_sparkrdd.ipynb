{
  "cells": [
    {
      "cell_type": "markdown",
      "metadata": {},
      "source": [
        "# Introduction to `Spark` RDD"
      ],
      "id": "b37fe0f0-8eb2-4e3d-9e2e-ebc6e84bf00e"
    },
    {
      "cell_type": "code",
      "execution_count": 1,
      "metadata": {},
      "outputs": [],
      "source": [
        "import numpy as np"
      ],
      "id": "f6b60fa2"
    },
    {
      "cell_type": "code",
      "execution_count": 2,
      "metadata": {},
      "outputs": [],
      "source": [
        "import os\n",
        "import sys\n",
        "import inspect\n",
        "\n",
        "os.environ['PYSPARK_PYTHON'] = sys.executable\n",
        "os.environ['PYSPARK_DRIVER_PYTHON'] = sys.executable"
      ],
      "id": "eec62e97"
    },
    {
      "cell_type": "code",
      "execution_count": 3,
      "metadata": {},
      "outputs": [],
      "source": [
        "from pyspark import SparkConf, SparkContext\n",
        "\n",
        "conf = SparkConf().setAppName(\"Spark RDD Course\")\n",
        "sc = SparkContext(conf=conf)"
      ],
      "id": "5ef1815c"
    },
    {
      "cell_type": "code",
      "execution_count": 4,
      "metadata": {},
      "outputs": [],
      "source": [
        "rdd = sc.parallelize(range(64))"
      ],
      "id": "4d93ae3b"
    },
    {
      "cell_type": "markdown",
      "metadata": {},
      "source": [
        "Note that `parallelize` takes an optional argument to choose the number\n",
        "of partitions"
      ],
      "id": "c661b80e-3054-4320-bcdf-c80514ab73cb"
    },
    {
      "cell_type": "code",
      "execution_count": 5,
      "metadata": {},
      "outputs": [],
      "source": [
        "rdd.getNumPartitions()"
      ],
      "id": "b6a5023d"
    },
    {
      "cell_type": "code",
      "execution_count": 6,
      "metadata": {},
      "outputs": [],
      "source": [
        "rdd = sc.parallelize(range(1000), 10)\n",
        "rdd.getNumPartitions()"
      ],
      "id": "262ddd90"
    },
    {
      "cell_type": "markdown",
      "metadata": {},
      "source": [
        "## Transformations\n",
        "\n",
        "### `map`"
      ],
      "id": "f6a73eba-9c5a-4def-a704-d71b89cd4e06"
    },
    {
      "cell_type": "code",
      "execution_count": 7,
      "metadata": {},
      "outputs": [],
      "source": [
        "rdd = sc.parallelize([2, 3, 4])\n",
        "rdd = rdd.map(lambda x: list(range(1, x)))"
      ],
      "id": "3c49b612"
    },
    {
      "cell_type": "code",
      "execution_count": 8,
      "metadata": {},
      "outputs": [],
      "source": [
        "rdd"
      ],
      "id": "4241ecac"
    },
    {
      "cell_type": "code",
      "execution_count": 9,
      "metadata": {},
      "outputs": [],
      "source": [
        "(\n",
        "    sc.parallelize([2, 3, 4])\n",
        "      .map(lambda x: list(range(1, x)))\n",
        ")"
      ],
      "id": "07cb1714"
    },
    {
      "cell_type": "markdown",
      "metadata": {},
      "source": [
        "`map` is a *transformation*. It is *lazily* evaluated. Hence execution\n",
        "is delayed until an *action* is met in the DAG)."
      ],
      "id": "ff6814f5-ae60-4fd8-b64b-b0463c424ad7"
    },
    {
      "cell_type": "code",
      "execution_count": 10,
      "metadata": {},
      "outputs": [],
      "source": [
        "rdd.collect()  # collect is an action "
      ],
      "id": "9043a5d5"
    },
    {
      "cell_type": "code",
      "execution_count": 11,
      "metadata": {},
      "outputs": [],
      "source": [
        "(\n",
        "    sc.parallelize([2, 3, 4])\n",
        "      .map(lambda x: list(range(1, x)))\n",
        "      .collect()\n",
        ")"
      ],
      "id": "b465a44f"
    },
    {
      "cell_type": "markdown",
      "metadata": {},
      "source": [
        "### Exercice: `map` with a method\n",
        "\n",
        "**Warning.** This example is a bad practice !!! Don’t do this at home"
      ],
      "id": "0040efd0-6dd4-4f13-ae46-30e95826ea6d"
    },
    {
      "cell_type": "code",
      "execution_count": 12,
      "metadata": {},
      "outputs": [],
      "source": [
        "dbtel = {'arthur': 1234, 'riad': 4567, 'anatole': 3615}"
      ],
      "id": "76dcf2e4"
    },
    {
      "cell_type": "code",
      "execution_count": 13,
      "metadata": {},
      "outputs": [],
      "source": [
        "class TelephoneDB(object):\n",
        "    \n",
        "    def __init__(self):\n",
        "        self.tel = {'arthur': 1234, 'riad': 4567, 'anatole': 3615}\n",
        "   \n",
        "    def add_tel(self, name):\n",
        "        return name, self.tel.get(name)"
      ],
      "id": "3dee2ca7"
    },
    {
      "cell_type": "code",
      "execution_count": 14,
      "metadata": {},
      "outputs": [],
      "source": [
        "tel_db = TelephoneDB()\n",
        "names = ['arthur', 'riad']"
      ],
      "id": "6fc5c6ad"
    },
    {
      "cell_type": "code",
      "execution_count": 15,
      "metadata": {},
      "outputs": [],
      "source": [
        "rdd = (\n",
        "    sc\n",
        "        .parallelize(names)\n",
        "        .map(tel_db.add_tel)\n",
        "        .collect()\n",
        ")\n",
        "\n",
        "rdd"
      ],
      "id": "63ab769f"
    },
    {
      "cell_type": "markdown",
      "metadata": {},
      "source": [
        "-   Replace the `tel` dictionary by a `defaultdict` with default number\n",
        "    `999`\n",
        "-   Use it on a `rdd` containing names as above including an unknown\n",
        "    one, and try it"
      ],
      "id": "c894adb7-4bd4-4774-9fe4-bbce72b007ab"
    },
    {
      "cell_type": "code",
      "execution_count": 16,
      "metadata": {},
      "outputs": [],
      "source": [
        "from collections import defaultdict\n",
        "\n",
        "class TelephoneDefaultDB(object):\n",
        "    \n",
        "    def __init__(self):\n",
        "        self.tel = defaultdict(lambda: 999, {'arthur': 1234, 'riad': 4567, 'anatole': 3615})\n",
        "    \n",
        "    def add_tel(self, name):\n",
        "        return name, self.tel[name]\n",
        "    \n",
        "    def add_tel_rdd(self, rdd):  \n",
        "        return rdd.map(self.add_tel)"
      ],
      "id": "4c229df3"
    },
    {
      "cell_type": "code",
      "execution_count": 17,
      "metadata": {},
      "outputs": [],
      "source": [
        "tel_db = TelephoneDefaultDB()\n",
        "names = ['riad', 'anatole', 'yiyang']\n",
        "rdd = (\n",
        "    sc\n",
        "        .parallelize(names)\n",
        "        .map(tel_db.add_tel)\n",
        "        .collect()\n",
        ")\n",
        "rdd"
      ],
      "id": "ec3d19e7"
    },
    {
      "cell_type": "markdown",
      "metadata": {},
      "source": [
        "> **Caution**\n",
        ">\n",
        "> It is a bad idea to pass *methods* to spark’s `map`. Since `add_tel`\n",
        "> needs `self`, the whole object is serialized so that `spark` can use\n",
        "> it.\n",
        ">\n",
        "> This breaks if the `tel` is large, or if it is not serializable.\n",
        "\n",
        "### `flatMap`"
      ],
      "id": "4c4f2b27-bd22-4d07-a818-0b0d26c17dce"
    },
    {
      "cell_type": "code",
      "execution_count": 18,
      "metadata": {},
      "outputs": [],
      "source": [
        "rdd = sc.parallelize([2, 3, 4, 5])\n",
        "( \n",
        "    rdd\n",
        "        .flatMap(lambda x: range(1, x))\n",
        "        .collect()\n",
        ")"
      ],
      "id": "aeab4904"
    },
    {
      "cell_type": "markdown",
      "metadata": {},
      "source": [
        "### `filter`"
      ],
      "id": "aae7176b-8f65-4af8-9bdb-bec028a6fefc"
    },
    {
      "cell_type": "code",
      "execution_count": 19,
      "metadata": {},
      "outputs": [],
      "source": [
        "rdd = sc.parallelize(range(10))\n",
        "\n",
        "rdd\\\n",
        "    .filter(lambda x: x % 2 == 0)\\\n",
        "    .collect()"
      ],
      "id": "79796f47"
    },
    {
      "cell_type": "markdown",
      "metadata": {},
      "source": [
        "### `distinct`"
      ],
      "id": "ec7abe4c-99d9-4a03-aa53-194f83685ad9"
    },
    {
      "cell_type": "code",
      "execution_count": 20,
      "metadata": {},
      "outputs": [],
      "source": [
        "rdd = sc.parallelize([1, 1, 4, 2, 1, 3, 3])\n",
        "rdd.distinct().collect()"
      ],
      "id": "84fbb180"
    },
    {
      "cell_type": "markdown",
      "metadata": {},
      "source": [
        "### “Pseudo-set” operations"
      ],
      "id": "1e9d67a6-cce3-4b49-ae9f-3a56569fbb57"
    },
    {
      "cell_type": "code",
      "execution_count": 21,
      "metadata": {},
      "outputs": [],
      "source": [
        "rdd1 = sc.parallelize(range(5))\n",
        "rdd2 = sc.parallelize(range(3, 9))\n",
        "rdd3 = rdd1.union(rdd2)\n",
        "rdd3.collect()"
      ],
      "id": "e131f5b6"
    },
    {
      "cell_type": "code",
      "execution_count": 22,
      "metadata": {},
      "outputs": [],
      "source": [
        "rdd3.distinct().collect()"
      ],
      "id": "c1c9a4a9"
    },
    {
      "cell_type": "code",
      "execution_count": 23,
      "metadata": {},
      "outputs": [],
      "source": [
        "rdd1 = sc.parallelize([1, 2])\n",
        "rdd2 = sc.parallelize([\"a\", \"b\"])\n",
        "rdd1.cartesian(rdd2).collect()"
      ],
      "id": "0954fdc0"
    },
    {
      "cell_type": "markdown",
      "metadata": {},
      "source": [
        "## Actions\n",
        "\n",
        "`collect` is obviously an action…\n",
        "\n",
        "### `count`, `countByValue`"
      ],
      "id": "50ac04da-16c9-4ca5-8b90-8d3703234ad0"
    },
    {
      "cell_type": "code",
      "execution_count": 24,
      "metadata": {},
      "outputs": [],
      "source": [
        "rdd = sc.parallelize([1, 3, 1, 2, 2, 2])\n",
        "rdd.count()"
      ],
      "id": "69a13a73"
    },
    {
      "cell_type": "code",
      "execution_count": 25,
      "metadata": {},
      "outputs": [],
      "source": [
        "rdd.countByValue()"
      ],
      "id": "0915afd2"
    },
    {
      "cell_type": "markdown",
      "metadata": {},
      "source": [
        "Why does `countByValue()` returns a dictionary?\n",
        "\n",
        "Are `count()` and `countByValue()` actions or transformations?"
      ],
      "id": "ed4c1b94-d432-47a6-9ff4-098ab7775d3f"
    },
    {
      "cell_type": "code",
      "execution_count": 26,
      "metadata": {},
      "outputs": [],
      "source": [
        "u = np.int32((np.random.sample(100000) * 100000))  # 100000 random integers uniformly distributed on 0, ..., 100000\n",
        "\n",
        "p = (\n",
        "    sc.parallelize(u)\n",
        "    .countByValue()\n",
        ")\n",
        "\n",
        "q = sorted(\n",
        "    p.items(), \n",
        "    key = lambda x : x[1], \n",
        "    reverse=True\n",
        ")\n",
        "\n",
        "q[0:10]\n",
        "\n",
        "q[0], 1 + np.log(len(u))/ np.log(np.log(len(u))), len(q)"
      ],
      "id": "4e984a3c"
    },
    {
      "cell_type": "markdown",
      "metadata": {},
      "source": [
        "-   How many distinct values do you expect in `u` ?\n",
        "-   How large is the largest value in $q$ ?"
      ],
      "id": "c5ee31f4-b92f-4536-b8b1-54058082ddba"
    },
    {
      "cell_type": "code",
      "execution_count": 27,
      "metadata": {},
      "outputs": [],
      "source": [
        "from scipy.stats import poisson \n",
        "\n",
        "( \n",
        "    len(q), \n",
        "    (1-np.exp(-1)) * len(u),\n",
        "    poisson.ppf(1.-1./len(u), 1)\n",
        ")"
      ],
      "id": "39168bc8"
    },
    {
      "cell_type": "markdown",
      "metadata": {},
      "source": [
        "### `take`, `takeOrdered`"
      ],
      "id": "a68b72c7-97e8-4e62-94a8-7a395119fb79"
    },
    {
      "cell_type": "code",
      "execution_count": 28,
      "metadata": {},
      "outputs": [],
      "source": [
        "rdd = sc.parallelize([(3, 'a'), (1, 'b'), (2, 'd')])"
      ],
      "id": "b61709a9"
    },
    {
      "cell_type": "code",
      "execution_count": 29,
      "metadata": {},
      "outputs": [],
      "source": [
        "(1, 'b') <=  (2, 'd') <= (3, 'a')"
      ],
      "id": "628b71f9"
    },
    {
      "cell_type": "code",
      "execution_count": 30,
      "metadata": {},
      "outputs": [],
      "source": [
        "rdd.takeOrdered(2)"
      ],
      "id": "d4fe8f71"
    },
    {
      "cell_type": "code",
      "execution_count": 31,
      "metadata": {},
      "outputs": [],
      "source": [
        "rdd.takeOrdered(2, key=lambda x: x[1])"
      ],
      "id": "667e5ecb"
    },
    {
      "cell_type": "markdown",
      "metadata": {},
      "source": [
        "### `reduce`, `fold`"
      ],
      "id": "defac437-708a-44c4-980c-291a80deae72"
    },
    {
      "cell_type": "code",
      "execution_count": 32,
      "metadata": {},
      "outputs": [],
      "source": [
        "rdd = sc.range(1, 4)\n",
        "rdd.reduce(lambda a, b: a + b)"
      ],
      "id": "42ec5742"
    },
    {
      "cell_type": "code",
      "execution_count": 33,
      "metadata": {},
      "outputs": [],
      "source": [
        "rdd = sc.range(1, 4, numSlices=7)\n",
        "rdd.reduce(lambda a, b: a + b)"
      ],
      "id": "7cab64dd"
    },
    {
      "cell_type": "code",
      "execution_count": 34,
      "metadata": {},
      "outputs": [],
      "source": [
        "rdd = sc.parallelize(range(1,4), 3)\n",
        "rdd.reduce(lambda a, b: a + b)"
      ],
      "id": "3ba17bd7"
    },
    {
      "cell_type": "code",
      "execution_count": 35,
      "metadata": {},
      "outputs": [],
      "source": [
        "( \n",
        "    sc.parallelize(range(1, 4), 2)\n",
        "      .fold(0, lambda a, b: a + b)\n",
        ")"
      ],
      "id": "31e7e7e9"
    },
    {
      "cell_type": "code",
      "execution_count": 36,
      "metadata": {},
      "outputs": [],
      "source": [
        "( \n",
        "    sc.parallelize(range(1, 4), 1)\n",
        "      .fold(3, lambda a, b: a + b)\n",
        "),( \n",
        "    sc.parallelize(range(1, 4), 2)\n",
        "      .fold(2, lambda a, b: a + b)\n",
        ")"
      ],
      "id": "d6882da5"
    },
    {
      "cell_type": "code",
      "execution_count": 37,
      "metadata": {},
      "outputs": [],
      "source": [
        "rdd =  sc.parallelize(range(1, 4),3)\n",
        "( \n",
        "    rdd.fold(1, lambda a, b: a + b), \n",
        "    rdd.getNumPartitions()\n",
        ")"
      ],
      "id": "30b94c53"
    },
    {
      "cell_type": "code",
      "execution_count": 38,
      "metadata": {},
      "outputs": [],
      "source": [
        "rdd =  sc.parallelize(range(1, 4),4)\n",
        "\n",
        "(\n",
        "    rdd.fold(1, lambda a, b: a + b), \n",
        "    rdd.getNumPartitions()\n",
        ")"
      ],
      "id": "657e18de"
    },
    {
      "cell_type": "code",
      "execution_count": 39,
      "metadata": {},
      "outputs": [],
      "source": [
        "rdd = sc.parallelize([1, 2, 4], 2)\n",
        "rdd.fold(2, lambda a, b: a + b)"
      ],
      "id": "1a9c45a9"
    },
    {
      "cell_type": "code",
      "execution_count": 40,
      "metadata": {},
      "outputs": [],
      "source": [
        "rdd = sc.parallelize([1, 2, 4], 3)\n",
        "rdd.fold(2, lambda a, b: a + b)"
      ],
      "id": "ce7d4141"
    },
    {
      "cell_type": "code",
      "execution_count": 41,
      "metadata": {},
      "outputs": [],
      "source": [
        "rdd.getNumPartitions()"
      ],
      "id": "2458af47"
    },
    {
      "cell_type": "markdown",
      "metadata": {},
      "source": [
        "### `aggregate`"
      ],
      "id": "2944c08c-b254-48db-b9a5-d4ad0e3322dc"
    },
    {
      "cell_type": "code",
      "execution_count": 42,
      "metadata": {},
      "outputs": [],
      "source": [
        "seqOp = lambda x, y: (x[0] + y, x[1] + 1)\n",
        "combOp = lambda x, y: (x[0] + y[0], x[1] + y[1])\n",
        "\n",
        "rdd = sc.parallelize([1, 2, 3, 4], 8)\n",
        "(\n",
        "    rdd.aggregate((0, 0), seqOp, combOp), rdd.getNumPartitions()\n",
        ")"
      ],
      "id": "63d7c2df"
    },
    {
      "cell_type": "code",
      "execution_count": 43,
      "metadata": {},
      "outputs": [],
      "source": [
        "op = lambda x, y: x+y\n",
        "rdd = sc.parallelize([1, 2, 3, 4], 4)\n",
        "(\n",
        "    rdd.aggregate(0, op, op),\n",
        "    rdd.getNumPartitions()\n",
        ")"
      ],
      "id": "a6ff6eb8"
    },
    {
      "cell_type": "markdown",
      "metadata": {},
      "source": [
        "### Exercice: sum of powers with `aggregate`\n",
        "\n",
        "-   Using `aggregate`, compute the sum, the sum of squares $x^2$ and the\n",
        "    sum of cubes $x^3$ for $x \\in \\{1, \\ldots, 10 \\}$.\n",
        "-   Check your computations using `numpy`"
      ],
      "id": "ccf3d636-34ed-44f0-8cae-97ccc255ce54"
    },
    {
      "cell_type": "code",
      "execution_count": 44,
      "metadata": {},
      "outputs": [],
      "source": [
        "seqOp = lambda x, y: (x[0] + y, x[1] + y ** 2, x[2] + y ** 3)"
      ],
      "id": "56cc242a"
    },
    {
      "cell_type": "code",
      "execution_count": 45,
      "metadata": {},
      "outputs": [],
      "source": [
        "combOp = lambda x, y: (x[0] + y[0], x[1] + y[1], x[2] + y[2])"
      ],
      "id": "39ff303d"
    },
    {
      "cell_type": "code",
      "execution_count": 46,
      "metadata": {},
      "outputs": [],
      "source": [
        "sc.range(5)"
      ],
      "id": "adb6cbfe"
    },
    {
      "cell_type": "code",
      "execution_count": 47,
      "metadata": {},
      "outputs": [],
      "source": [
        "( \n",
        "    sc\n",
        "        .range(1, 11)\n",
        "        .aggregate((0, 0, 0), seqOp, combOp)\n",
        ")"
      ],
      "id": "eff7447f"
    },
    {
      "cell_type": "code",
      "execution_count": 48,
      "metadata": {},
      "outputs": [],
      "source": [
        "import numpy as np\n",
        "\n",
        "x = np.arange(1, 11)\n",
        "x"
      ],
      "id": "415bc240"
    },
    {
      "cell_type": "code",
      "execution_count": 49,
      "metadata": {},
      "outputs": [],
      "source": [
        "x.sum(), (x**2).sum(), (x**3).sum(), x.cumsum()"
      ],
      "id": "9c0d6360"
    },
    {
      "cell_type": "markdown",
      "metadata": {},
      "source": [
        "### Computing an empirical variance with `aggregate`\n",
        "\n",
        "Assume a sample is stored as a RDD. Using `aggregate`, compute the\n",
        "sample variance $\\frac{1}{n}\\sum_{i=1}^n (x_i - \\overline{X}_n)^2$ where\n",
        "$\\overline{X}_n = \\frac{1}{n} \\sum_{i=1}^n x_i$\n",
        "\n",
        "# `PairRDD`"
      ],
      "id": "78163536-7dcb-47dc-9d96-cd282794ea5a"
    },
    {
      "cell_type": "code",
      "execution_count": 50,
      "metadata": {},
      "outputs": [],
      "source": [
        "rdd = sc.parallelize([[1, \"a\", 7], [2, \"b\", 13], [2, \"c\", 17]])\n",
        "\n",
        "rdd.collect()  # not yet "
      ],
      "id": "32b1a84c"
    },
    {
      "cell_type": "code",
      "execution_count": 51,
      "metadata": {},
      "outputs": [],
      "source": [
        "rdd = rdd.map(lambda x: (x[0], x[1:]))\n",
        "\n",
        "rdd.collect()  # done "
      ],
      "id": "9d7fa2bf"
    },
    {
      "cell_type": "markdown",
      "metadata": {},
      "source": [
        "## Transformations\n",
        "\n",
        "### `keys`, `values`"
      ],
      "id": "235755fe-1bbf-48d3-9abe-9b33f76bfa76"
    },
    {
      "cell_type": "code",
      "execution_count": 52,
      "metadata": {},
      "outputs": [],
      "source": [
        "rdd.keys().collect()"
      ],
      "id": "a94a8774"
    },
    {
      "cell_type": "code",
      "execution_count": 53,
      "metadata": {},
      "outputs": [],
      "source": [
        "rdd.values().collect()"
      ],
      "id": "4ebae0e9"
    },
    {
      "cell_type": "markdown",
      "metadata": {},
      "source": [
        "> **Warning**\n",
        ">\n",
        "> All elements must be tuples with two elements (key and value)"
      ],
      "id": "1da1ace5-3bb3-4f4d-9f2a-ab1e2b4daddc"
    },
    {
      "cell_type": "code",
      "execution_count": 54,
      "metadata": {},
      "outputs": [],
      "source": [
        "rdd = sc.parallelize([[1, \"a\", 7], [2, \"b\", 13], [2, \"c\", 17]])\n",
        "rdd.keys().collect()"
      ],
      "id": "b67084bc"
    },
    {
      "cell_type": "code",
      "execution_count": 55,
      "metadata": {},
      "outputs": [],
      "source": [
        "rdd.values().collect()"
      ],
      "id": "d8ea144b"
    },
    {
      "cell_type": "markdown",
      "metadata": {},
      "source": [
        "The values are *not* what we expected wrong… so we *must* do"
      ],
      "id": "3225349f-7754-48ba-ae78-28087c9e647c"
    },
    {
      "cell_type": "code",
      "execution_count": 56,
      "metadata": {},
      "outputs": [],
      "source": [
        "rdd = ( sc.parallelize([[1, \"a\", 7], [2, \"b\", 13], [2, \"c\", 17]])\n",
        "          .map(lambda x: (x[0], x[1:]))\n",
        "      )\n",
        "rdd.keys().collect()"
      ],
      "id": "aee54d03"
    },
    {
      "cell_type": "code",
      "execution_count": 57,
      "metadata": {},
      "outputs": [],
      "source": [
        "rdd.values().collect()"
      ],
      "id": "2c32ddc5"
    },
    {
      "cell_type": "markdown",
      "metadata": {},
      "source": [
        "Now, the values are correct.\n",
        "\n",
        "### `mapValues`, `flatMapValues`"
      ],
      "id": "88ea0860-47dc-468a-8273-515c25ab4fd1"
    },
    {
      "cell_type": "code",
      "execution_count": 58,
      "metadata": {},
      "outputs": [],
      "source": [
        "rdd = sc.parallelize([(\"a\", \"x y z\"), (\"b\", \"p r\")])\n",
        "\n",
        "rdd.mapValues(lambda v: v.split(' ')).collect(), rdd.collect()"
      ],
      "id": "e292a08a"
    },
    {
      "cell_type": "code",
      "execution_count": 59,
      "metadata": {},
      "outputs": [],
      "source": [
        "rdd.flatMapValues(lambda v: v.split(' ')).collect()"
      ],
      "id": "a0e8c810"
    },
    {
      "cell_type": "markdown",
      "metadata": {},
      "source": [
        "### `groupByKey`"
      ],
      "id": "0bcab95e-b6e7-4783-ac1e-30cb1522448e"
    },
    {
      "cell_type": "code",
      "execution_count": 60,
      "metadata": {},
      "outputs": [],
      "source": [
        "rdd = sc.parallelize([(\"a\", 1), (\"b\", 1), (\"a\", 1), (\"b\", 3), (\"c\", 42)])\n",
        "( \n",
        "    rdd.groupByKey()\n",
        "       .mapValues(list)\n",
        "       .collect()\n",
        ")"
      ],
      "id": "47ad93bd"
    },
    {
      "cell_type": "code",
      "execution_count": 61,
      "metadata": {},
      "outputs": [],
      "source": [
        "rdd.groupByKey().collect()"
      ],
      "id": "29e7ee6b"
    },
    {
      "cell_type": "markdown",
      "metadata": {},
      "source": [
        "### `reduceByKey`"
      ],
      "id": "081ed366-2f9a-421d-a6ee-28e20b138928"
    },
    {
      "cell_type": "code",
      "execution_count": 62,
      "metadata": {},
      "outputs": [],
      "source": [
        "rdd = sc.parallelize([(\"a\", 1), (\"b\", 1), (\"a\", 1)])\n",
        "rdd.reduceByKey(lambda a, b: a + b).collect()"
      ],
      "id": "cc01355f"
    },
    {
      "cell_type": "markdown",
      "metadata": {},
      "source": [
        "### `combineByKey`"
      ],
      "id": "8e658832-5134-4058-893b-3370d175631f"
    },
    {
      "cell_type": "code",
      "execution_count": 63,
      "metadata": {},
      "outputs": [],
      "source": [
        "rdd = sc.parallelize([('a', 1), ('b', 2), ('a', 13)])\n",
        "\n",
        "def add(a, b): \n",
        "    return a + str(b)\n",
        "\n",
        "rdd.combineByKey(str, add, add).collect()"
      ],
      "id": "4ae05924"
    },
    {
      "cell_type": "markdown",
      "metadata": {},
      "source": [
        "### `join`, `rightOuterJoin`, `leftOuterJoin`"
      ],
      "id": "8fd1a99e-383d-4fdb-8eac-7bb3070f21a3"
    },
    {
      "cell_type": "code",
      "execution_count": 64,
      "metadata": {},
      "outputs": [],
      "source": [
        "employees = sc.parallelize([\n",
        "    (31, \"Rafferty\"),\n",
        "    (33, \"Jones\"),\n",
        "    (33, \"Heisenberg\"),\n",
        "    (34, \"Robinson\"),\n",
        "    (34, \"Smith\"),\n",
        "    (None, \"Williams\")\n",
        "])"
      ],
      "id": "eb7a2bb8"
    },
    {
      "cell_type": "code",
      "execution_count": 65,
      "metadata": {},
      "outputs": [],
      "source": [
        "departments = sc.parallelize([\n",
        "    (31, \"Sales\"),\n",
        "    (33, \"Engineering\"),\n",
        "    (34, \"Clerical\"),\n",
        "    (35, \"Marketing\")\n",
        "])"
      ],
      "id": "4958d641"
    },
    {
      "cell_type": "code",
      "execution_count": 66,
      "metadata": {},
      "outputs": [],
      "source": [
        "( \n",
        "    employees\n",
        "        .join(departments)\n",
        "        .sortByKey()\n",
        "        .collect()\n",
        ")"
      ],
      "id": "b9b0eaac"
    },
    {
      "cell_type": "code",
      "execution_count": 67,
      "metadata": {},
      "outputs": [],
      "source": [
        "( \n",
        "    employees\n",
        "        .rightOuterJoin(departments)\n",
        "        .sortByKey()\n",
        "        .collect()\n",
        ")"
      ],
      "id": "09d3b6a5"
    },
    {
      "cell_type": "code",
      "execution_count": 68,
      "metadata": {},
      "outputs": [],
      "source": [
        "(\n",
        "    employees\n",
        "        .leftOuterJoin(departments)\n",
        "        .collect()\n",
        ")"
      ],
      "id": "5f7b28f5"
    },
    {
      "cell_type": "markdown",
      "metadata": {},
      "source": [
        "## Actions"
      ],
      "id": "e3cf07a8-3cd7-4d26-8db2-d5f5ab911f3e"
    },
    {
      "cell_type": "code",
      "execution_count": 69,
      "metadata": {},
      "outputs": [],
      "source": [
        "employees.countByKey()"
      ],
      "id": "2260a396"
    },
    {
      "cell_type": "code",
      "execution_count": 70,
      "metadata": {},
      "outputs": [],
      "source": [
        "employees.lookup(33)"
      ],
      "id": "4d726b08"
    },
    {
      "cell_type": "code",
      "execution_count": 71,
      "metadata": {},
      "outputs": [],
      "source": [
        "employees.lookup(None)"
      ],
      "id": "86c0cbe5"
    },
    {
      "cell_type": "code",
      "execution_count": 72,
      "metadata": {},
      "outputs": [],
      "source": [
        "employees.collectAsMap()"
      ],
      "id": "3c813627"
    },
    {
      "cell_type": "markdown",
      "metadata": {},
      "source": [
        "## References\n",
        "\n",
        "[Spark Core\n",
        "reference](https://spark.apache.org/docs/latest/rdd-programming-guide.html)"
      ],
      "id": "981b3ade-35a9-4ec2-8ea5-7f744812be1a"
    }
  ],
  "nbformat": 4,
  "nbformat_minor": 5,
  "metadata": {
    "kernelspec": {
      "name": "python3",
      "display_name": "Python 3 (ipykernel)",
      "language": "python",
      "path": "/usr/share/jupyter/kernels/python3"
    },
    "language_info": {
      "name": "python",
      "codemirror_mode": {
        "name": "ipython",
        "version": "3"
      },
      "file_extension": ".py",
      "mimetype": "text/x-python",
      "nbconvert_exporter": "python",
      "pygments_lexer": "ipython3",
      "version": "3.12.3"
    }
  }
}