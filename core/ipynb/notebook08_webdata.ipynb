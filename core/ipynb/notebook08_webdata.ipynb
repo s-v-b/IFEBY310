{
  "cells": [
    {
      "cell_type": "markdown",
      "metadata": {},
      "source": [
        "# Using with `pyspark` for data preprocessing\n",
        "\n",
        "We want to use pyspark to preprocess a potentially huge dataset used for\n",
        "web-marketing.\n",
        "\n",
        "## Data description\n",
        "\n",
        "The data is a `parquet` file which contains a dataframe with 8 columns:\n",
        "\n",
        "-   `xid`: unique user id\n",
        "-   `action`: type of action. ‘C’ is a click, ‘O’ or ‘VSL’ is a\n",
        "    web-display\n",
        "-   `date`: date of the action\n",
        "-   `website_id`: unique id of the website\n",
        "-   `url`: url of the webpage\n",
        "-   `category_id`: id of the display\n",
        "-   `zipcode`: postal zipcode of the user\n",
        "-   `device`: type of device used by the user\n",
        "\n",
        "## Q1. Some statistics / computations\n",
        "\n",
        "Using `pyspark.sql` we want to do the following things:\n",
        "\n",
        "1.  Compute the total number of unique users\n",
        "2.  Construct a column containing the total number of actions per user\n",
        "3.  Construct a column containing the number of days since the last\n",
        "    action of the user\n",
        "4.  Construct a column containing the number of actions of each user for\n",
        "    each modality of device\n",
        "\n",
        "## Q2. Binary classification\n",
        "\n",
        "Then, we want to construct a classifier to predict the click on the\n",
        "category 1204. Here is an agenda for this:\n",
        "\n",
        "1.  Construction of a features matrix for which each line corresponds to\n",
        "    the information concerning a user.\n",
        "2.  In this matrix, we need to keep only the users that have been\n",
        "    exposed to the display in category 1204\n",
        "3.  Using this training dataset, train a binary classifier, and evaluate\n",
        "    your classifier using a precision / recall curve computed on test\n",
        "    data.\n",
        "\n",
        "# Download/read the data and a first look at the data"
      ],
      "id": "ab89cb00-598d-4969-8579-c1bb0d50623b"
    },
    {
      "cell_type": "code",
      "execution_count": 1,
      "metadata": {},
      "outputs": [],
      "source": [
        "import os\n",
        "import sys\n",
        "\n",
        "os.environ['PYSPARK_PYTHON'] = sys.executable\n",
        "os.environ['PYSPARK_DRIVER_PYTHON'] = sys.executable"
      ],
      "id": "1f8491c7"
    },
    {
      "cell_type": "code",
      "execution_count": 2,
      "metadata": {
        "ExecuteTime": {
          "end_time": "2020-05-03T16:25:56.650024Z",
          "start_time": "2020-05-03T16:25:52.400542Z"
        }
      },
      "outputs": [],
      "source": [
        "from pyspark.sql import SparkSession"
      ],
      "id": "553b63cc"
    },
    {
      "cell_type": "markdown",
      "metadata": {},
      "source": [
        "> **Spark in standalone mode**\n",
        ">\n",
        "> So far, we used the `local` mode.\n",
        ">\n",
        "> To launch spark in standalone mode, assuming the current working\n",
        "> directory is `$SPARK_HOME`\n",
        ">\n",
        "> ``` bash\n",
        "> $ ./sbin/sWe may tart-master.sh --ip localhost\n",
        "> >>> starting org.apache.spark.deploy.master.Master, logging to ...\n",
        "> $ ./sbin/start-worker.sh spark://localhost:7077\n",
        "> ```\n",
        ">\n",
        "> We may now launch the instance of `SparkSession`, setting explicitly\n",
        "> the `master` node and the port to communicate with the master.\n",
        ">\n",
        "> SparkUI should be reachable at `localhost:4040`.\n",
        ">\n",
        "> The master can be monitored at `localhost:8080`"
      ],
      "id": "59f2b28f-87ef-4251-b666-9ce2a3036f15"
    },
    {
      "cell_type": "code",
      "execution_count": 3,
      "metadata": {},
      "outputs": [
        {
          "output_type": "stream",
          "name": "stderr",
          "text": [
            "25/03/10 17:30:50 WARN Utils: Your hostname, boucheron-Precision-5480 resolves to a loopback address: 127.0.1.1; using 172.23.32.10 instead (on interface enxac91a1bd3e89)\n",
            "25/03/10 17:30:50 WARN Utils: Set SPARK_LOCAL_IP if you need to bind to another address\n",
            "Setting default log level to \"WARN\".\n",
            "To adjust logging level use sc.setLogLevel(newLevel). For SparkR, use setLogLevel(newLevel).\n",
            "25/03/10 17:30:50 WARN NativeCodeLoader: Unable to load native-hadoop library for your platform... using builtin-java classes where applicable\n",
            "25/03/10 17:30:50 WARN Utils: Service 'SparkUI' could not bind on port 4040. Attempting port 4041."
          ]
        }
      ],
      "source": [
        "from pyspark import SparkConf, SparkContext\n",
        "from pyspark.sql import SparkSession\n",
        "from pyspark.sql import functions as fn\n",
        "from pyspark.sql.functions import col\n",
        "\n",
        "spark = (SparkSession\n",
        "    .builder\n",
        "    .appName(\"Taming Webdata\")\n",
        "    .getOrCreate()\n",
        ")\n",
        "\n",
        "sc = spark._sc"
      ],
      "id": "07eb5263"
    },
    {
      "cell_type": "code",
      "execution_count": 4,
      "metadata": {},
      "outputs": [],
      "source": [
        "spark = SparkSession.builder \\\n",
        "            .appName(\"Spark webdata\") \\\n",
        "            .master(\"spark://localhost:7077\") \\\n",
        "            .config(\"spark.driver.memory\", \"16G\") \\\n",
        "            .config(\"spark.serializer\", \"org.apache.spark.serializer.KryoSerializer\") \\\n",
        "            .config(\"spark.kryoserializer.buffer.max\", \"2000M\") \\\n",
        "            .config(\"spark.driver.maxResultSize\", \"0\") \\\n",
        "            .config(\"spark.jars.packages\", \"com.johnsnowlabs.nlp:spark-nlp_2.12:5.2.3\") \\\n",
        "            .getOrCreate()"
      ],
      "id": "2ad2a812"
    },
    {
      "cell_type": "code",
      "execution_count": 5,
      "metadata": {
        "ExecuteTime": {
          "end_time": "2020-05-03T16:25:56.650024Z",
          "start_time": "2020-05-03T16:25:52.400542Z"
        }
      },
      "outputs": [],
      "source": [
        "#spark = (SparkSession\n",
        "#    .builder\n",
        "#    .appName(\"Web data\")         \n",
        "#    .getOrCreate()\n",
        "#)"
      ],
      "id": "46c49735"
    },
    {
      "cell_type": "code",
      "execution_count": 6,
      "metadata": {
        "ExecuteTime": {
          "end_time": "2020-05-03T16:28:38.406210Z",
          "start_time": "2020-05-03T16:28:08.594803Z"
        }
      },
      "outputs": [],
      "source": [
        "import requests, zipfile, io\n",
        "from pathlib import Path\n",
        "\n",
        "path = Path('data/webdata.parquet')\n",
        "if not path.exists():\n",
        "    url = \"https://s-v-b.github.io/IFEBY310/data/webdata.parquet.zip\"\n",
        "    r = requests.get(url)\n",
        "    z = zipfile.ZipFile(io.BytesIO(r.content))\n",
        "    z.extractall(path='data/')"
      ],
      "id": "f23995ce"
    },
    {
      "cell_type": "code",
      "execution_count": 7,
      "metadata": {
        "ExecuteTime": {
          "end_time": "2020-05-03T16:27:49.141388Z",
          "start_time": "2020-05-03T16:27:48.989135Z"
        }
      },
      "outputs": [],
      "source": [
        "input_path = Path('./data')\n",
        "input_file =  'webdata.parquet'\n",
        "file_path = str(input_path / input_file)\n",
        "\n",
        "df = spark.read.parquet(file_path)"
      ],
      "id": "afba6fb4"
    },
    {
      "cell_type": "markdown",
      "metadata": {},
      "source": [
        "We can give a try to Pandas on Spark\n",
        "\n",
        "> **Note**\n",
        ">\n",
        "> We can also give a try to `pyarrow.parquet` module to load the Parquet\n",
        "> file in an Arrow table."
      ],
      "id": "47a7dd3c-623a-4c26-98f4-f4af0a0ec2f2"
    },
    {
      "cell_type": "code",
      "execution_count": 8,
      "metadata": {},
      "outputs": [],
      "source": [
        "import pyarrow as pa\n",
        "import comet as co\n",
        "import pyarrow.parquet as pq\n",
        "\n",
        "dfa = pq.read_table(file_path)"
      ],
      "id": "509e55ba"
    },
    {
      "cell_type": "code",
      "execution_count": 9,
      "metadata": {},
      "outputs": [
        {
          "output_type": "display_data",
          "metadata": {},
          "data": {
            "text/plain": [
              "8"
            ]
          }
        }
      ],
      "source": [
        "dfa.num_columns"
      ],
      "id": "0ed993cc"
    },
    {
      "cell_type": "markdown",
      "metadata": {},
      "source": [
        "> **Warning**\n",
        ">\n",
        "> Let us go back to the spark data frame"
      ],
      "id": "bd8a5202-10bb-4f93-b490-8e2c5116094b"
    },
    {
      "cell_type": "code",
      "execution_count": 10,
      "metadata": {
        "ExecuteTime": {
          "end_time": "2020-05-03T16:27:52.121782Z",
          "start_time": "2020-05-03T16:27:50.752210Z"
        }
      },
      "outputs": [
        {
          "output_type": "display_data",
          "metadata": {},
          "data": {
            "text/plain": [
              "[Row(xid='001ff9b6-5383-4221-812d-58c2c3f234cc', action='O', date=datetime.datetime(2017, 1, 25, 7, 2, 18), website_id='3', url='http://www.8chances.com/grille', category_id=1002.0, zipcode='11370', device='SMP'),\n",
              " Row(xid='0056ab7a-3cba-4ed5-a495-3d4abf79ab66', action='O', date=datetime.datetime(2016, 12, 28, 9, 47, 8), website_id='54', url='http://www.salaire-brut-en-net.fr/differences-brut-net/', category_id=1002.0, zipcode='86000', device='DSK'),\n",
              " Row(xid='005ae4ab-363a-41a0-b8f9-faee47d622a4', action='O', date=datetime.datetime(2017, 1, 27, 22, 21, 6), website_id='74', url='http://www.realite-virtuelle.com/top-applications-horreur-vr-halloween', category_id=1002.0, zipcode='49700', device='DSK'),\n",
              " Row(xid='006f867c-70cb-41f0-82af-f3688fa719c5', action='O', date=datetime.datetime(2016, 12, 20, 12, 45, 14), website_id='43', url='http://www.frenchblues.fr/', category_id=1002.0, zipcode='42660', device='DSK'),\n",
              " Row(xid='006f867c-70cb-41f0-82af-f3688fa719c5', action='O', date=datetime.datetime(2016, 12, 20, 12, 56, 50), website_id='43', url='http://www.frenchblues.fr/', category_id=1002.0, zipcode='42660', device='DSK'),\n",
              " Row(xid='006f867c-70cb-41f0-82af-f3688fa719c5', action='O', date=datetime.datetime(2016, 12, 20, 12, 56, 53), website_id='43', url='http://www.frenchblues.fr/contact/', category_id=1002.0, zipcode='42660', device='DSK')]"
            ]
          }
        }
      ],
      "source": [
        "df.head(6)"
      ],
      "id": "9253f4bc"
    },
    {
      "cell_type": "code",
      "execution_count": 11,
      "metadata": {},
      "outputs": [
        {
          "output_type": "stream",
          "name": "stdout",
          "text": [
            "+--------------------+------+-------------------+----------+--------------------+-----------+-------+------+\n",
            "|                 xid|action|               date|website_id|                 url|category_id|zipcode|device|\n",
            "+--------------------+------+-------------------+----------+--------------------+-----------+-------+------+\n",
            "|001ff9b6-5383-422...|     O|2017-01-25 07:02:18|         3|http://www.8chanc...|     1002.0|  11370|   SMP|\n",
            "|0056ab7a-3cba-4ed...|     O|2016-12-28 09:47:08|        54|http://www.salair...|     1002.0|  86000|   DSK|\n",
            "|005ae4ab-363a-41a...|     O|2017-01-27 22:21:06|        74|http://www.realit...|     1002.0|  49700|   DSK|\n",
            "|006f867c-70cb-41f...|     O|2016-12-20 12:45:14|        43|http://www.french...|     1002.0|  42660|   DSK|\n",
            "|006f867c-70cb-41f...|     O|2016-12-20 12:56:50|        43|http://www.french...|     1002.0|  42660|   DSK|\n",
            "+--------------------+------+-------------------+----------+--------------------+-----------+-------+------+\n",
            "only showing top 5 rows\n"
          ]
        }
      ],
      "source": [
        "df.show(5)"
      ],
      "id": "d71d2f4c"
    },
    {
      "cell_type": "code",
      "execution_count": 12,
      "metadata": {},
      "outputs": [
        {
          "output_type": "display_data",
          "metadata": {},
          "data": {
            "text/plain": [
              "DataFrame[summary: string, xid: string, action: string, website_id: string, url: string, category_id: string, zipcode: string, device: string]"
            ]
          }
        }
      ],
      "source": [
        "df.describe()"
      ],
      "id": "5b6631fe"
    },
    {
      "cell_type": "code",
      "execution_count": 13,
      "metadata": {},
      "outputs": [
        {
          "output_type": "stream",
          "name": "stdout",
          "text": [
            "root\n",
            " |-- xid: string (nullable = true)\n",
            " |-- action: string (nullable = true)\n",
            " |-- date: timestamp (nullable = true)\n",
            " |-- website_id: string (nullable = true)\n",
            " |-- url: string (nullable = true)\n",
            " |-- category_id: float (nullable = true)\n",
            " |-- zipcode: string (nullable = true)\n",
            " |-- device: string (nullable = true)\n"
          ]
        }
      ],
      "source": [
        "df.printSchema()"
      ],
      "id": "95ce355e"
    },
    {
      "cell_type": "code",
      "execution_count": 14,
      "metadata": {},
      "outputs": [
        {
          "output_type": "display_data",
          "metadata": {},
          "data": {
            "text/plain": [
              "12"
            ]
          }
        }
      ],
      "source": [
        "df.rdd.getNumPartitions()"
      ],
      "id": "f1d0b6ca"
    },
    {
      "cell_type": "markdown",
      "metadata": {},
      "source": [
        "> **Question**\n",
        ">\n",
        "> Explain the partition size.\n",
        "\n",
        "# Basic statistics\n",
        "\n",
        "First we need to import some things:\n",
        "\n",
        "-   `Window` class\n",
        "-   SQL functions module\n",
        "-   Some very useful functions\n",
        "-   Spark types"
      ],
      "id": "ecc90cc0-2811-49e9-8204-3539e2bf3d37"
    },
    {
      "cell_type": "code",
      "execution_count": 15,
      "metadata": {
        "ExecuteTime": {
          "end_time": "2020-05-03T15:20:34.024704Z",
          "start_time": "2020-05-03T15:20:34.016322Z"
        }
      },
      "outputs": [],
      "source": [
        "from pyspark.sql import Window\n",
        "import pyspark.sql.functions as func\n",
        "from pyspark.sql.types import *\n",
        "from pyspark.sql.functions import col, lit"
      ],
      "id": "def30ad5"
    },
    {
      "cell_type": "markdown",
      "metadata": {},
      "source": [
        "## Compute the total number of unique users"
      ],
      "id": "d9bed27e-93fa-49c8-98e4-d64f804bcc24"
    },
    {
      "cell_type": "code",
      "execution_count": 16,
      "metadata": {
        "ExecuteTime": {
          "end_time": "2020-05-03T15:20:36.790893Z",
          "start_time": "2020-05-03T15:20:34.856924Z"
        }
      },
      "outputs": [
        {
          "output_type": "display_data",
          "metadata": {},
          "data": {
            "text/plain": [
              "473761"
            ]
          }
        }
      ],
      "source": [
        "( \n",
        "    df.select('xid')\n",
        "      .distinct()\n",
        "      .count()\n",
        ")"
      ],
      "id": "605caac7"
    },
    {
      "cell_type": "code",
      "execution_count": 17,
      "metadata": {},
      "outputs": [],
      "source": [
        "def foo(x):\n",
        "   c = len(set(x))\n",
        "   print(c)\n",
        "   return c"
      ],
      "id": "577689d5"
    },
    {
      "cell_type": "code",
      "execution_count": 18,
      "metadata": {},
      "outputs": [
        {
          "output_type": "stream",
          "name": "stdout",
          "text": [
            "2"
          ]
        },
        {
          "output_type": "display_data",
          "metadata": {},
          "data": {
            "text/plain": [
              "2"
            ]
          }
        }
      ],
      "source": [
        "foo([1, 1, 2])"
      ],
      "id": "f7978a4f"
    },
    {
      "cell_type": "code",
      "execution_count": 19,
      "metadata": {},
      "outputs": [
        {
          "output_type": "stream",
          "name": "stderr",
          "text": [
            "0\n",
            "0\n",
            "0\n",
            "0\n",
            "0\n",
            "0\n",
            "[Stage 9:=============================>                            (6 + 6) / 12]78120\n",
            "[Stage 9:=================================>                        (7 + 5) / 12]78865\n",
            "79090\n",
            "78636\n",
            "79296\n",
            "[Stage 9:====================================================>    (11 + 1) / 12]79754\n",
            "                                                                                "
          ]
        }
      ],
      "source": [
        "df.rdd.map(lambda x : x.xid).foreachPartition(foo)"
      ],
      "id": "cc43c7b7"
    },
    {
      "cell_type": "code",
      "execution_count": 20,
      "metadata": {},
      "outputs": [
        {
          "output_type": "display_data",
          "metadata": {},
          "data": {
            "text/plain": [
              "473761"
            ]
          }
        }
      ],
      "source": [
        "78120 + 78636 + 79090 + 78865 + 79296 + 79754"
      ],
      "id": "63b0916d"
    },
    {
      "cell_type": "markdown",
      "metadata": {},
      "source": [
        "This might pump up some computational resources"
      ],
      "id": "dc1ca3a9-3382-48f2-9261-87d8f19098e7"
    },
    {
      "cell_type": "code",
      "execution_count": 21,
      "metadata": {},
      "outputs": [
        {
          "output_type": "stream",
          "name": "stdout",
          "text": [
            "== Physical Plan ==\n",
            "AdaptiveSparkPlan isFinalPlan=false\n",
            "+- HashAggregate(keys=[xid#0], functions=[])\n",
            "   +- Exchange hashpartitioning(xid#0, 200), ENSURE_REQUIREMENTS, [plan_id=136]\n",
            "      +- HashAggregate(keys=[xid#0], functions=[])\n",
            "         +- FileScan parquet [xid#0] Batched: true, DataFilters: [], Format: Parquet, Location: InMemoryFileIndex(1 paths)[file:/home/boucheron/Documents/IFEBY310/core/ipynb/data/webdata.parquet], PartitionFilters: [], PushedFilters: [], ReadSchema: struct<xid:string>\n",
            "\n"
          ]
        }
      ],
      "source": [
        "( \n",
        "    df.select('xid')\n",
        "      .distinct() \n",
        "      .explain()\n",
        ")"
      ],
      "id": "dd553170"
    },
    {
      "cell_type": "markdown",
      "metadata": {},
      "source": [
        "> **Note**\n",
        ">\n",
        "> The distinct values of `xid` seem to be evenly spread among the six\n",
        "> files making the `parquet` directory\n",
        "\n",
        "## Construct a column containing the total number of actions per user"
      ],
      "id": "b362ec6f-8664-4895-96ef-1afaab2ee02d"
    },
    {
      "cell_type": "code",
      "execution_count": 22,
      "metadata": {
        "ExecuteTime": {
          "end_time": "2020-05-03T15:20:52.163321Z",
          "start_time": "2020-05-03T15:20:50.965856Z"
        }
      },
      "outputs": [
        {
          "output_type": "stream",
          "name": "stdout",
          "text": [
            "+--------------------+------+-------------------+----------+--------------------+-----------+-------+------+--------+\n",
            "|                 xid|action|               date|website_id|                 url|category_id|zipcode|device|n_events|\n",
            "+--------------------+------+-------------------+----------+--------------------+-----------+-------+------+--------+\n",
            "|0006cea7-1679-426...|     O|2016-12-26 13:41:08|        51|https://www.footl...|     1002.0|  34290|   TAB|       1|\n",
            "|000893c8-a14b-4f3...|     O|2016-12-23 16:18:37|        56|http://blague.dum...|     1002.0|   NULL|   DSK|       1|\n",
            "+--------------------+------+-------------------+----------+--------------------+-----------+-------+------+--------+\n",
            "only showing top 2 rows\n"
          ]
        }
      ],
      "source": [
        "xid_partition = Window.partitionBy('xid')\n",
        "\n",
        "n_events = func.count(col('action')).over(xid_partition)\n",
        "\n",
        "df = df.withColumn('n_events', n_events)\n",
        "\n",
        "df.show(n=2)"
      ],
      "id": "c435831f"
    },
    {
      "cell_type": "code",
      "execution_count": 23,
      "metadata": {},
      "outputs": [
        {
          "output_type": "stream",
          "name": "stdout",
          "text": [
            "+--------------------+-------------+\n",
            "|                 xid|count(action)|\n",
            "+--------------------+-------------+\n",
            "|001c4a21-52c6-489...|            1|\n",
            "|0024344b-7ee2-4fc...|            4|\n",
            "|004564e3-87c1-4e1...|            1|\n",
            "|006d807f-91c3-415...|            1|\n",
            "|006e0463-b24c-499...|            1|\n",
            "+--------------------+-------------+\n",
            "only showing top 5 rows\n"
          ]
        }
      ],
      "source": [
        "( \n",
        "  df\n",
        "    .groupBy('xid')\n",
        "    .agg(func.count('action'))\n",
        "    .show(n=5)\n",
        ")"
      ],
      "id": "3c87e7ec"
    },
    {
      "cell_type": "markdown",
      "metadata": {},
      "source": [
        "Visualize the distribution of the number of users per number of actions.\n",
        "\n",
        "> **Question**\n",
        ">\n",
        "> Construct a column containing the number of days since the last action\n",
        "> of the user"
      ],
      "id": "16e8af98-ab61-4685-906a-3c0f588d52bc"
    },
    {
      "cell_type": "code",
      "execution_count": 24,
      "metadata": {
        "ExecuteTime": {
          "end_time": "2020-05-03T15:20:55.895918Z",
          "start_time": "2020-05-03T15:20:54.925126Z"
        }
      },
      "outputs": [
        {
          "output_type": "stream",
          "name": "stdout",
          "text": [
            "+--------------------+------+-------------------+----------+--------------------+-----------+-------+------+--------+-----------------------+\n",
            "|                 xid|action|               date|website_id|                 url|category_id|zipcode|device|n_events|n_days_since_last_event|\n",
            "+--------------------+------+-------------------+----------+--------------------+-----------+-------+------+--------+-----------------------+\n",
            "|0006cea7-1679-426...|     O|2016-12-26 13:41:08|        51|https://www.footl...|     1002.0|  34290|   TAB|       1|                   2996|\n",
            "|000893c8-a14b-4f3...|     O|2016-12-23 16:18:37|        56|http://blague.dum...|     1002.0|   NULL|   DSK|       1|                   2999|\n",
            "+--------------------+------+-------------------+----------+--------------------+-----------+-------+------+--------+-----------------------+\n",
            "only showing top 2 rows\n"
          ]
        }
      ],
      "source": [
        "# xid_partition = Window.partitionBy('xid')\n",
        "\n",
        "max_date = (\n",
        "  func\n",
        "    .max(col('date'))\n",
        "    .over(xid_partition)\n",
        ")\n",
        "\n",
        "n_days_since_last_event = func.datediff(func.current_date(), max_date)\n",
        "\n",
        "df = df.withColumn('n_days_since_last_event',\n",
        "                   n_days_since_last_event)\n",
        "\n",
        "df.show(n=2)"
      ],
      "id": "ee19df3d"
    },
    {
      "cell_type": "code",
      "execution_count": 25,
      "metadata": {},
      "outputs": [
        {
          "output_type": "stream",
          "name": "stdout",
          "text": [
            "root\n",
            " |-- xid: string (nullable = true)\n",
            " |-- action: string (nullable = true)\n",
            " |-- date: timestamp (nullable = true)\n",
            " |-- website_id: string (nullable = true)\n",
            " |-- url: string (nullable = true)\n",
            " |-- category_id: float (nullable = true)\n",
            " |-- zipcode: string (nullable = true)\n",
            " |-- device: string (nullable = true)\n",
            " |-- n_events: long (nullable = false)\n",
            " |-- n_days_since_last_event: integer (nullable = true)\n"
          ]
        }
      ],
      "source": [
        "df.printSchema()"
      ],
      "id": "fe7995a5"
    },
    {
      "cell_type": "markdown",
      "metadata": {},
      "source": [
        "## Construct a column containing the number of actions of each user for each modality of device"
      ],
      "id": "2e013722-25b3-4651-ad8d-412f528162de"
    },
    {
      "cell_type": "code",
      "execution_count": 26,
      "metadata": {
        "ExecuteTime": {
          "end_time": "2020-05-03T15:21:03.846417Z",
          "start_time": "2020-05-03T15:21:03.027855Z"
        }
      },
      "outputs": [
        {
          "output_type": "stream",
          "name": "stderr",
          "text": [
            "[Stage 21:==================================================>     (20 + 2) / 22][Stage 24:>                                                         (0 + 1) / 1]                                                                                "
          ]
        },
        {
          "output_type": "display_data",
          "metadata": {},
          "data": {
            "text/plain": [
              "[Row(xid='000893c8-a14b-4f33-858f-210440f37def', action='O', date=datetime.datetime(2016, 12, 23, 16, 18, 37), website_id='56', url='http://blague.dumatin.fr/', category_id=1002.0, zipcode=None, device='DSK', n_events=1, n_days_since_last_event=2999, n_events_per_device=1021837),\n",
              " Row(xid='0008c5d2-c263-4b55-ae7d-82c4bf566cc4', action='O', date=datetime.datetime(2017, 1, 16, 4, 26, 21), website_id='74', url='http://www.realite-virtuelle.com/meilleure-videos-360-vr', category_id=1002.0, zipcode=None, device='DSK', n_events=1, n_days_since_last_event=2975, n_events_per_device=1021837)]"
            ]
          }
        }
      ],
      "source": [
        "xid_device_partition = xid_partition.partitionBy('device')\n",
        "\n",
        "n_events_per_device = func.count(col('action')).over(xid_device_partition)\n",
        "\n",
        "df = df.withColumn('n_events_per_device', n_events_per_device)\n",
        "\n",
        "df.head(n=2)"
      ],
      "id": "a6177e49"
    },
    {
      "cell_type": "markdown",
      "metadata": {},
      "source": [
        "## Number of devices per user"
      ],
      "id": "748c99ea-bef7-4585-ba96-66acb5aef382"
    },
    {
      "cell_type": "code",
      "execution_count": 27,
      "metadata": {
        "ExecuteTime": {
          "end_time": "2020-05-03T15:21:06.411472Z",
          "start_time": "2020-05-03T15:21:05.373879Z"
        }
      },
      "outputs": [
        {
          "output_type": "stream",
          "name": "stderr",
          "text": [
            "[Stage 30:======================================>                   (2 + 1) / 3]                                                                                "
          ]
        },
        {
          "output_type": "display_data",
          "metadata": {},
          "data": {
            "text/plain": [
              "[Row(xid='0006cea7-1679-4264-bdef-0cd089749ede', action='O', date=datetime.datetime(2016, 12, 26, 13, 41, 8), website_id='51', url='https://www.footlegende.fr/mercato-psg-coutinho-10166', category_id=1002.0, zipcode='34290', device='TAB', n_events=1, n_days_since_last_event=2996, n_events_per_device=132013, n_device=1),\n",
              " Row(xid='000893c8-a14b-4f33-858f-210440f37def', action='O', date=datetime.datetime(2016, 12, 23, 16, 18, 37), website_id='56', url='http://blague.dumatin.fr/', category_id=1002.0, zipcode=None, device='DSK', n_events=1, n_days_since_last_event=2999, n_events_per_device=1021837, n_device=1)]"
            ]
          }
        }
      ],
      "source": [
        "xid_partition = Window.partitionBy('xid')\n",
        "\n",
        "rank_device = (\n",
        "  func\n",
        "    .dense_rank()\n",
        "    .over(xid_partition.orderBy('device'))\n",
        ")\n",
        "\n",
        "n_unique_device = (\n",
        "    func\n",
        "      .last(rank_device)\n",
        "      .over(xid_partition)\n",
        ")\n",
        "\n",
        "df = df.withColumn('n_device', n_unique_device)\n",
        "\n",
        "df.head(n=2)"
      ],
      "id": "be35c646"
    },
    {
      "cell_type": "code",
      "execution_count": 28,
      "metadata": {
        "ExecuteTime": {
          "end_time": "2020-05-03T15:21:13.863382Z",
          "start_time": "2020-05-03T15:21:12.479688Z"
        }
      },
      "outputs": [
        {
          "output_type": "display_data",
          "metadata": {},
          "data": {
            "text/plain": [
              "[Row(xid='4c1dc79d-a140-4da9-ae28-540b4503c3b8', device='DSK', n_events=6, n_device=2, n_events_per_device=1021837),\n",
              " Row(xid='4c1dc79d-a140-4da9-ae28-540b4503c3b8', device='DSK', n_events=6, n_device=2, n_events_per_device=1021837),\n",
              " Row(xid='4c1dc79d-a140-4da9-ae28-540b4503c3b8', device='DSK', n_events=6, n_device=2, n_events_per_device=1021837),\n",
              " Row(xid='4c1dc79d-a140-4da9-ae28-540b4503c3b8', device='DSK', n_events=6, n_device=2, n_events_per_device=1021837),\n",
              " Row(xid='4c1dc79d-a140-4da9-ae28-540b4503c3b8', device='DSK', n_events=6, n_device=2, n_events_per_device=1021837),\n",
              " Row(xid='4c1dc79d-a140-4da9-ae28-540b4503c3b8', device='MOB', n_events=6, n_device=2, n_events_per_device=1564),\n",
              " Row(xid='78156cdf-7229-46eb-bb6b-92d384f9a6fa', device='DSK', n_events=6, n_device=2, n_events_per_device=1021837),\n",
              " Row(xid='78156cdf-7229-46eb-bb6b-92d384f9a6fa', device='DSK', n_events=6, n_device=2, n_events_per_device=1021837)]"
            ]
          }
        }
      ],
      "source": [
        "df\\\n",
        "    .where(col('n_device') > 1)\\\n",
        "    .select('xid', 'device', 'n_events',  'n_device', 'n_events_per_device')\\\n",
        "    .head(n=8)"
      ],
      "id": "5e191350"
    },
    {
      "cell_type": "code",
      "execution_count": 29,
      "metadata": {},
      "outputs": [
        {
          "output_type": "display_data",
          "metadata": {},
          "data": {
            "text/plain": [
              "3153"
            ]
          }
        }
      ],
      "source": [
        "df\\\n",
        "    .where(col('n_device') > 1)\\\n",
        "    .select('xid', 'device', 'n_events',  'n_device', 'n_events_per_device')\\\n",
        "    .count()"
      ],
      "id": "cd72eb6b"
    },
    {
      "cell_type": "markdown",
      "metadata": {},
      "source": [
        "# Let’s select the correct users and build a training dataset\n",
        "\n",
        "We construct a ETL (Extract Transform Load) process on this data using\n",
        "the `pyspark.sql` API.\n",
        "\n",
        "## Extraction\n",
        "\n",
        "Here extraction is just about reading the data"
      ],
      "id": "8b0a731f-c192-4b09-847b-97cabde24e0b"
    },
    {
      "cell_type": "code",
      "execution_count": 30,
      "metadata": {
        "ExecuteTime": {
          "end_time": "2020-05-03T15:21:36.683625Z",
          "start_time": "2020-05-03T15:21:36.427615Z"
        }
      },
      "outputs": [
        {
          "output_type": "stream",
          "name": "stdout",
          "text": [
            "+--------------------+------+-------------------+----------+--------------------+-----------+-------+------+\n",
            "|                 xid|action|               date|website_id|                 url|category_id|zipcode|device|\n",
            "+--------------------+------+-------------------+----------+--------------------+-----------+-------+------+\n",
            "|001ff9b6-5383-422...|     O|2017-01-25 07:02:18|         3|http://www.8chanc...|     1002.0|  11370|   SMP|\n",
            "|0056ab7a-3cba-4ed...|     O|2016-12-28 09:47:08|        54|http://www.salair...|     1002.0|  86000|   DSK|\n",
            "|005ae4ab-363a-41a...|     O|2017-01-27 22:21:06|        74|http://www.realit...|     1002.0|  49700|   DSK|\n",
            "+--------------------+------+-------------------+----------+--------------------+-----------+-------+------+\n",
            "only showing top 3 rows\n"
          ]
        }
      ],
      "source": [
        "df = spark.read.parquet(file_path)\n",
        "df.show(n=3)"
      ],
      "id": "89787f43"
    },
    {
      "cell_type": "markdown",
      "metadata": {},
      "source": [
        "## Transformation of the data\n",
        "\n",
        "At this step we compute a lot of extra things from the data. The aim is\n",
        "to build *features* that describe users."
      ],
      "id": "94653544-df1b-44ad-b577-285b96b11809"
    },
    {
      "cell_type": "code",
      "execution_count": 31,
      "metadata": {
        "ExecuteTime": {
          "end_time": "2020-05-03T15:24:09.159215Z",
          "start_time": "2020-05-03T15:24:09.136189Z"
        }
      },
      "outputs": [],
      "source": [
        "def n_events_transformer(df):\n",
        "    xid_partition = Window.partitionBy('xid')\n",
        "    n_events = func.count(col('action')).over(xid_partition)\n",
        "    \n",
        "    df = df.withColumn('n_events', n_events)\n",
        "\n",
        "    return df"
      ],
      "id": "dad041d8"
    },
    {
      "cell_type": "code",
      "execution_count": 32,
      "metadata": {},
      "outputs": [],
      "source": [
        "def n_events_per_action_transformer(df):\n",
        "    xid_action_partition = Window.partitionBy('xid', 'action')\n",
        "    n_events_per_action = func.count(col('action')).over(xid_action_partition)\n",
        "\n",
        "    df = df.withColumn('n_events_per_action', n_events_per_action)\n",
        "    \n",
        "    return df"
      ],
      "id": "05bcf1d2"
    },
    {
      "cell_type": "code",
      "execution_count": 33,
      "metadata": {},
      "outputs": [],
      "source": [
        "def hour_transformer(df):\n",
        "    hour = func.hour(col('date'))\n",
        "    df = df.withColumn('hour', hour)\n",
        "    return df\n",
        "\n",
        "def weekday_transformer(df):\n",
        "    weekday = func.date_format(col('date'), 'EEEE')\n",
        "    df = df.withColumn('weekday', weekday)\n",
        "    return df\n",
        "\n",
        "def n_events_per_hour_transformer(df):\n",
        "    xid_hour_partition = Window.partitionBy('xid', 'hour')\n",
        "    n_events_per_hour = func.count(col('action')).over(xid_hour_partition)\n",
        "    df = df.withColumn('n_events_per_hour', n_events_per_hour)\n",
        "    return df\n",
        "\n",
        "def n_events_per_weekday_transformer(df):\n",
        "    xid_weekday_partition = Window.partitionBy('xid', 'weekday')\n",
        "    n_events_per_weekday = func.count(col('action')).over(xid_weekday_partition)\n",
        "    df = df.withColumn('n_events_per_weekday', n_events_per_weekday)\n",
        "    return df\n",
        "\n",
        "def n_days_since_last_event_transformer(df):\n",
        "    xid_partition = Window.partitionBy('xid')\n",
        "    max_date = func.max(col('date')).over(xid_partition)\n",
        "    n_days_since_last_event = func.datediff(func.current_date(), max_date)\n",
        "    df = df.withColumn('n_days_since_last_event',\n",
        "                       n_days_since_last_event + lit(0.1))\n",
        "    return df\n",
        "\n",
        "def n_days_since_last_action_transformer(df):\n",
        "    xid_partition_action = Window.partitionBy('xid', 'action')\n",
        "    max_date = func.max(col('date')).over(xid_partition_action)\n",
        "    n_days_since_last_action = func.datediff(func.current_date(),\n",
        "                                                        max_date)\n",
        "    df = df.withColumn('n_days_since_last_action',\n",
        "                       n_days_since_last_action + lit(0.1))\n",
        "    return df\n",
        "\n",
        "def n_unique_day_transformer(df):\n",
        "    xid_partition = Window.partitionBy('xid')\n",
        "    dayofyear = func.dayofyear(col('date'))\n",
        "    rank_day = func.dense_rank().over(xid_partition.orderBy(dayofyear))\n",
        "    n_unique_day = func.last(rank_day).over(xid_partition)\n",
        "    df = df.withColumn('n_unique_day', n_unique_day)\n",
        "    return df\n",
        "\n",
        "def n_unique_hour_transformer(df):\n",
        "    xid_partition = Window.partitionBy('xid')\n",
        "    rank_hour = func.dense_rank().over(xid_partition.orderBy('hour'))\n",
        "    n_unique_hour = func.last(rank_hour).over(xid_partition)\n",
        "    df = df.withColumn('n_unique_hour', n_unique_hour)\n",
        "    return df\n",
        "\n",
        "def n_events_per_device_transformer(df):\n",
        "    xid_device_partition = Window.partitionBy('xid', 'device')\n",
        "    n_events_per_device = func.count(func.col('device')) \\\n",
        "        .over(xid_device_partition)\n",
        "    df = df.withColumn('n_events_per_device', n_events_per_device)\n",
        "    return df\n",
        "\n",
        "def n_unique_device_transformer(df):\n",
        "    xid_partition = Window.partitionBy('xid')\n",
        "    rank_device = func.dense_rank().over(xid_partition.orderBy('device'))\n",
        "    n_unique_device = func.last(rank_device).over(xid_partition)\n",
        "    df = df.withColumn('n_device', n_unique_device)\n",
        "    return df\n",
        "\n",
        "def n_actions_per_category_id_transformer(df):\n",
        "    xid_category_id_partition = Window.partitionBy('xid', 'category_id',\n",
        "                                                   'action')\n",
        "    n_actions_per_category_id = func.count(func.col('action')) \\\n",
        "        .over(xid_category_id_partition)\n",
        "    df = df.withColumn('n_actions_per_category_id', n_actions_per_category_id)\n",
        "    return df\n",
        "\n",
        "def n_unique_category_id_transformer(df):\n",
        "    xid_partition = Window.partitionBy('xid')\n",
        "    rank_category_id = func.dense_rank().over(xid_partition\\\n",
        "                                              .orderBy('category_id'))\n",
        "    n_unique_category_id = func.last(rank_category_id).over(xid_partition)\n",
        "    df = df.withColumn('n_unique_category_id', n_unique_category_id)\n",
        "    return df\n",
        "\n",
        "def n_events_per_category_id_transformer(df):\n",
        "    xid_category_id_partition = Window.partitionBy('xid', 'category_id')\n",
        "    n_events_per_category_id = func.count(func.col('action')) \\\n",
        "        .over(xid_category_id_partition)\n",
        "    df = df.withColumn('n_events_per_category_id', n_events_per_category_id)\n",
        "    return df\n",
        "\n",
        "def n_events_per_website_id_transformer(df):\n",
        "    xid_website_id_partition = Window.partitionBy('xid', 'website_id')\n",
        "    n_events_per_website_id = func.count(col('action'))\\\n",
        "        .over(xid_website_id_partition)\n",
        "    df = df.withColumn('n_events_per_website_id', n_events_per_website_id)\n",
        "    return df"
      ],
      "id": "cb7196aa"
    },
    {
      "cell_type": "code",
      "execution_count": 34,
      "metadata": {
        "ExecuteTime": {
          "end_time": "2020-05-03T15:24:33.042444Z",
          "start_time": "2020-05-03T15:24:15.032735Z"
        }
      },
      "outputs": [],
      "source": [
        "transformers = [\n",
        "    hour_transformer,\n",
        "    weekday_transformer,\n",
        "    n_events_per_hour_transformer,\n",
        "    n_events_per_weekday_transformer,\n",
        "    n_days_since_last_event_transformer,\n",
        "    n_days_since_last_action_transformer,\n",
        "    n_unique_day_transformer,\n",
        "    n_unique_hour_transformer,\n",
        "    n_events_per_device_transformer,\n",
        "    n_unique_device_transformer,\n",
        "    n_actions_per_category_id_transformer,\n",
        "    n_events_per_category_id_transformer,\n",
        "    n_events_per_website_id_transformer,\n",
        "]"
      ],
      "id": "a4527eec"
    },
    {
      "cell_type": "code",
      "execution_count": 35,
      "metadata": {},
      "outputs": [],
      "source": [
        "N = 10000"
      ],
      "id": "9f476789"
    },
    {
      "cell_type": "code",
      "execution_count": 36,
      "metadata": {},
      "outputs": [],
      "source": [
        "sample_df = df.sample(withReplacement=False, fraction=.05)"
      ],
      "id": "2bd6e4cc"
    },
    {
      "cell_type": "code",
      "execution_count": 37,
      "metadata": {},
      "outputs": [
        {
          "output_type": "display_data",
          "metadata": {},
          "data": {
            "text/plain": [
              "59155"
            ]
          }
        }
      ],
      "source": [
        "sample_df.count()"
      ],
      "id": "e32b1c5a"
    },
    {
      "cell_type": "code",
      "execution_count": 38,
      "metadata": {},
      "outputs": [
        {
          "output_type": "stream",
          "name": "stderr",
          "text": [
            "[Stage 58:>                                                         (0 + 1) / 1]                                                                                "
          ]
        },
        {
          "output_type": "display_data",
          "metadata": {},
          "data": {
            "text/plain": [
              "[Row(xid='0006cea7-1679-4264-bdef-0cd089749ede', action='O', date=datetime.datetime(2016, 12, 26, 13, 41, 8), website_id='51', url='https://www.footlegende.fr/mercato-psg-coutinho-10166', category_id=1002.0, zipcode='34290', device='TAB', hour=13, weekday='Monday', n_events_per_hour=1, n_events_per_weekday=1, n_days_since_last_event=2996.1, n_days_since_last_action=2996.1, n_unique_day=1, n_unique_hour=1, n_events_per_device=1, n_device=1, n_actions_per_category_id=1, n_events_per_category_id=1, n_events_per_website_id=1)]"
            ]
          }
        }
      ],
      "source": [
        "for transformer in transformers:\n",
        "    df = transformer(df)\n",
        "\n",
        "df.head(n=1)"
      ],
      "id": "0b91b6e7"
    },
    {
      "cell_type": "code",
      "execution_count": 39,
      "metadata": {},
      "outputs": [
        {
          "output_type": "display_data",
          "metadata": {},
          "data": {
            "text/plain": [
              "[Row(xid='000893c8-a14b-4f33-858f-210440f37def', action='O', date=datetime.datetime(2016, 12, 23, 16, 18, 37), website_id='56', url='http://blague.dumatin.fr/', category_id=1002.0, zipcode=None, device='DSK', hour=16, weekday='Friday', n_events_per_hour=1, n_events_per_weekday=1, n_days_since_last_event=2999.1, n_days_since_last_action=2999.1, n_unique_day=1, n_unique_hour=1, n_events_per_device=1, n_device=1, n_actions_per_category_id=1, n_events_per_category_id=1, n_events_per_website_id=1)]"
            ]
          }
        }
      ],
      "source": [
        "for transformer in transformers:\n",
        "    sample_df = transformer(sample_df)\n",
        "\n",
        "sample_df.head(n=1)"
      ],
      "id": "fc3cb4e7"
    },
    {
      "cell_type": "code",
      "execution_count": 40,
      "metadata": {},
      "outputs": [],
      "source": [
        "df = sample_df"
      ],
      "id": "42372b35"
    },
    {
      "cell_type": "code",
      "execution_count": 41,
      "metadata": {
        "ExecuteTime": {
          "end_time": "2020-05-03T15:24:40.406910Z",
          "start_time": "2020-05-03T15:24:40.393184Z"
        }
      },
      "outputs": [
        {
          "output_type": "display_data",
          "metadata": {},
          "data": {
            "text/plain": [
              "['action',\n",
              " 'category_id',\n",
              " 'date',\n",
              " 'device',\n",
              " 'hour',\n",
              " 'n_actions_per_category_id',\n",
              " 'n_days_since_last_action',\n",
              " 'n_days_since_last_event',\n",
              " 'n_device',\n",
              " 'n_events_per_category_id',\n",
              " 'n_events_per_device',\n",
              " 'n_events_per_hour',\n",
              " 'n_events_per_website_id',\n",
              " 'n_events_per_weekday',\n",
              " 'n_unique_day',\n",
              " 'n_unique_hour',\n",
              " 'url',\n",
              " 'website_id',\n",
              " 'weekday',\n",
              " 'xid',\n",
              " 'zipcode']"
            ]
          }
        }
      ],
      "source": [
        "sorted(df.columns)"
      ],
      "id": "153f79c9"
    },
    {
      "cell_type": "markdown",
      "metadata": {},
      "source": [
        "## Load step\n",
        "\n",
        "Here, we use all the previous computations (saved in the columns of the\n",
        "dataframe) to compute aggregated informations about each user."
      ],
      "id": "6774f37f-3280-4182-80da-8438d7ff3cfa"
    },
    {
      "cell_type": "code",
      "execution_count": 42,
      "metadata": {
        "ExecuteTime": {
          "end_time": "2020-05-03T15:25:22.243433Z",
          "start_time": "2020-05-03T15:25:22.217248Z"
        }
      },
      "outputs": [],
      "source": [
        "def n_events_per_hour_loader(df):\n",
        "    csr = df\\\n",
        "        .select('xid', 'hour', 'n_events_per_hour')\\\n",
        "        .withColumnRenamed('n_events_per_hour', 'value')\\\n",
        "        .distinct()     # action\n",
        "    feature_name = func.concat(lit('n_events_per_hour#'), col('hour'))\n",
        "    csr = csr\\\n",
        "        .withColumn('feature_name', feature_name)\\\n",
        "        .drop('hour')\n",
        "    return csr\n",
        "\n",
        "def n_events_per_website_id_loader(df):\n",
        "    csr = df.select('xid', 'website_id', 'n_events_per_website_id')\\\n",
        "        .withColumnRenamed('n_events_per_hour', 'value')\\\n",
        "        .distinct()\n",
        "    feature_name = func.concat(lit('n_events_per_website_id#'),\n",
        "                               col('website_id'))\n",
        "    csr = csr\\\n",
        "        .withColumn('feature_name', feature_name)\\\n",
        "        .drop('website_id')\n",
        "    return csr\n",
        "\n",
        "def n_events_per_hour_loader(df):\n",
        "    csr = df\\\n",
        "        .select('xid', 'hour', 'n_events_per_hour')\\\n",
        "        .withColumnRenamed('n_events_per_hour', 'value')\\\n",
        "        .distinct()\n",
        "    feature_name = func.concat(lit('n_events_per_hour#'), col('hour'))\n",
        "    csr = csr\\\n",
        "        .withColumn('feature_name', feature_name)\\\n",
        "        .drop('hour')\n",
        "    return csr\n",
        "\n",
        "def n_events_per_weekday_loader(df):\n",
        "    csr = df\\\n",
        "        .select('xid', 'weekday', 'n_events_per_weekday')\\\n",
        "        .withColumnRenamed('n_events_per_weekday', 'value')\\\n",
        "        .distinct()\n",
        "    feature_name = func.concat(lit('n_events_per_weekday#'), col('weekday'))\n",
        "    csr = csr\\\n",
        "        .withColumn('feature_name', feature_name)\\\n",
        "        .drop('weekday')\n",
        "    return csr\n",
        "\n",
        "def n_days_since_last_event_loader(df):\n",
        "    csr = df.select('xid',  'n_days_since_last_event')\\\n",
        "        .withColumnRenamed('n_days_since_last_event#', 'value')\\\n",
        "        .distinct()\n",
        "    feature_name = lit('n_days_since_last_event')\n",
        "    csr = csr\\\n",
        "        .withColumn('feature_name', feature_name)\n",
        "    return csr\n",
        "\n",
        "def n_days_since_last_action_loader(df):\n",
        "    csr = df.select('xid', 'action', 'n_days_since_last_action')\\\n",
        "        .withColumnRenamed('n_days_since_last_action', 'value')\\\n",
        "        .distinct()\n",
        "    feature_name = func.concat(lit('n_days_since_last_action#'), col('action'))\n",
        "    csr = csr\\\n",
        "        .withColumn('feature_name', feature_name)\\\n",
        "        .drop('action')\n",
        "    return csr\n",
        "\n",
        "def n_unique_day_loader(df):\n",
        "    csr = df.select('xid', 'n_unique_day')\\\n",
        "        .withColumnRenamed('n_unique_day', 'value')\\\n",
        "        .distinct()\n",
        "    feature_name = lit('n_unique_day')\n",
        "    csr = csr\\\n",
        "        .withColumn('feature_name', feature_name)\n",
        "    return csr\n",
        "\n",
        "def n_unique_hour_loader(df):\n",
        "    csr = df.select('xid', 'n_unique_hour')\\\n",
        "        .withColumnRenamed('n_unique_hour', 'value')\\\n",
        "        .distinct()\n",
        "    feature_name = lit('n_unique_hour')\n",
        "    csr = csr\\\n",
        "        .withColumn('feature_name', feature_name)\n",
        "    return csr\n",
        "\n",
        "def n_events_per_device_loader(df):\n",
        "    csr = df\\\n",
        "        .select('xid', 'device', 'n_events_per_device')\\\n",
        "        .withColumnRenamed('n_events_per_device', 'value')\\\n",
        "        .distinct()\n",
        "    feature_name = func.concat(lit('n_events_per_device#'), col('device'))\n",
        "    csr = csr\\\n",
        "        .withColumn('feature_name', feature_name)\\\n",
        "        .drop('device')\n",
        "    return csr\n",
        "\n",
        "def n_unique_device_loader(df):\n",
        "    csr = df.select('xid', 'n_device')\\\n",
        "        .withColumnRenamed('n_device', 'value')\\\n",
        "        .distinct()\n",
        "    feature_name = lit('n_device')\n",
        "    csr = csr\\\n",
        "        .withColumn('feature_name', feature_name)\n",
        "    return csr\n",
        "\n",
        "def n_events_per_category_id_loader(df):\n",
        "    csr = df.select('xid', 'category_id', 'n_events_per_category_id')\\\n",
        "        .withColumnRenamed('n_events_per_category_id', 'value')\\\n",
        "        .distinct()\n",
        "    feature_name = func.concat(lit('n_events_per_category_id#'),\n",
        "                               col('category_id'))\n",
        "    csr = csr\\\n",
        "        .withColumn('feature_name', feature_name)\\\n",
        "        .drop('category_id')\n",
        "    return csr\n",
        "\n",
        "def n_actions_per_category_id_loader(df):\n",
        "    csr = df.select('xid', 'category_id', 'action', 'n_actions_per_category_id')\\\n",
        "        .withColumnRenamed('n_actions_per_category_id', 'value')\\\n",
        "        .distinct()\n",
        "    feature_name = func.concat(lit('n_actions_per_category_id#'),\n",
        "                               col('action'), lit('#'), \n",
        "                               col('category_id'))\n",
        "    csr = csr\\\n",
        "        .withColumn('feature_name', feature_name)\\\n",
        "        .drop('category_id')\\\n",
        "        .drop('action')\n",
        "    return csr\n",
        "\n",
        "def n_events_per_website_id_loader(df):\n",
        "    csr = df.select('xid', 'website_id', 'n_events_per_website_id')\\\n",
        "        .withColumnRenamed('n_events_per_website_id', 'value')\\\n",
        "        .distinct()\n",
        "    feature_name = func.concat(lit('n_events_per_website_id#'),\n",
        "                               col('website_id'))\n",
        "    csr = csr\\\n",
        "        .withColumn('feature_name', feature_name)\\\n",
        "        .drop('website_id')\n",
        "    return csr"
      ],
      "id": "b0aaf22c"
    },
    {
      "cell_type": "code",
      "execution_count": 43,
      "metadata": {
        "ExecuteTime": {
          "end_time": "2020-05-03T15:25:48.149670Z",
          "start_time": "2020-05-03T15:25:37.966657Z"
        }
      },
      "outputs": [],
      "source": [
        "from functools import reduce"
      ],
      "id": "56503a8d"
    },
    {
      "cell_type": "code",
      "execution_count": 44,
      "metadata": {},
      "outputs": [],
      "source": [
        "loaders = [\n",
        "    n_events_per_hour_loader,\n",
        "    n_events_per_website_id_loader,\n",
        "    n_events_per_hour_loader,\n",
        "    n_events_per_weekday_loader,\n",
        "    n_days_since_last_event_loader,\n",
        "    n_days_since_last_action_loader,\n",
        "    n_unique_day_loader,\n",
        "    n_unique_hour_loader,\n",
        "    n_events_per_device_loader,\n",
        "    n_unique_device_loader,\n",
        "    n_events_per_category_id_loader,\n",
        "    n_actions_per_category_id_loader,\n",
        "    n_events_per_website_id_loader,\n",
        "]"
      ],
      "id": "b9c1e5c3"
    },
    {
      "cell_type": "code",
      "execution_count": 45,
      "metadata": {},
      "outputs": [],
      "source": [
        "def union(df, other):\n",
        "    return df.union(other)"
      ],
      "id": "5ce7b1c9"
    },
    {
      "cell_type": "markdown",
      "metadata": {},
      "source": [
        "> **About DataFrame.union()**\n",
        ">\n",
        "> This method performs a SQL-style set union of the rows from both\n",
        "> DataFrame objects, with no automatic deduplication of elements.\n",
        ">\n",
        "> Use the distinct() method to perform deduplication of rows.\n",
        ">\n",
        "> The method resolves columns by position (not by name), following the\n",
        "> standard behavior in SQL."
      ],
      "id": "9a66f23b-8e07-4be0-88b4-c601e2ab356c"
    },
    {
      "cell_type": "code",
      "execution_count": 46,
      "metadata": {},
      "outputs": [],
      "source": [
        "spam = [loader(df) for loader in loaders]"
      ],
      "id": "c276381e"
    },
    {
      "cell_type": "code",
      "execution_count": 47,
      "metadata": {},
      "outputs": [
        {
          "output_type": "stream",
          "name": "stdout",
          "text": [
            "root\n",
            " |-- xid: string (nullable = true)\n",
            " |-- value: long (nullable = false)\n",
            " |-- feature_name: string (nullable = true)\n"
          ]
        }
      ],
      "source": [
        "spam[0].printSchema()"
      ],
      "id": "3f83bd10"
    },
    {
      "cell_type": "code",
      "execution_count": 48,
      "metadata": {},
      "outputs": [
        {
          "output_type": "display_data",
          "metadata": {},
          "data": {
            "text/plain": [
              "13"
            ]
          }
        }
      ],
      "source": [
        "len(spam)"
      ],
      "id": "a26c9aac"
    },
    {
      "cell_type": "code",
      "execution_count": 49,
      "metadata": {},
      "outputs": [
        {
          "output_type": "stream",
          "name": "stderr",
          "text": [
            "[Stage 66:===================================================>    (11 + 1) / 12]                                                                                "
          ]
        },
        {
          "output_type": "display_data",
          "metadata": {},
          "data": {
            "text/plain": [
              "[Row(xid='000893c8-a14b-4f33-858f-210440f37def', value=1.0, feature_name='n_events_per_hour#16'),\n",
              " Row(xid='000b249a-f872-4e9a-9713-175b8a7d39c6', value=1.0, feature_name='n_events_per_hour#21'),\n",
              " Row(xid='000e9077-15c8-4328-a23d-8c6dd8510752', value=1.0, feature_name='n_events_per_hour#23')]"
            ]
          }
        }
      ],
      "source": [
        "csr = reduce(\n",
        "    lambda df1, df2: df1.union(df2),\n",
        "    spam\n",
        ")\n",
        "\n",
        "csr.head(n=3)"
      ],
      "id": "4296e575"
    },
    {
      "cell_type": "code",
      "execution_count": 50,
      "metadata": {
        "ExecuteTime": {
          "end_time": "2020-05-03T15:25:54.862814Z",
          "start_time": "2020-05-03T15:25:54.857914Z"
        }
      },
      "outputs": [
        {
          "output_type": "display_data",
          "metadata": {},
          "data": {
            "text/plain": [
              "['xid', 'value', 'feature_name']"
            ]
          }
        }
      ],
      "source": [
        "csr.columns"
      ],
      "id": "890fc7db"
    },
    {
      "cell_type": "code",
      "execution_count": 51,
      "metadata": {
        "ExecuteTime": {
          "end_time": "2020-05-03T15:26:13.629146Z",
          "start_time": "2020-05-03T15:25:55.683800Z"
        }
      },
      "outputs": [
        {
          "output_type": "stream",
          "name": "stdout",
          "text": [
            "+--------------------+-----+--------------------+\n",
            "|                 xid|value|        feature_name|\n",
            "+--------------------+-----+--------------------+\n",
            "|000893c8-a14b-4f3...|  1.0|n_events_per_hour#16|\n",
            "|000b249a-f872-4e9...|  1.0|n_events_per_hour#21|\n",
            "|000e9077-15c8-432...|  1.0|n_events_per_hour#23|\n",
            "|000f9f4f-563d-4f7...|  1.0|n_events_per_hour#23|\n",
            "|000fb8d4-646e-446...|  1.0| n_events_per_hour#8|\n",
            "+--------------------+-----+--------------------+\n",
            "only showing top 5 rows\n"
          ]
        }
      ],
      "source": [
        "csr.show(5)"
      ],
      "id": "18b74acb"
    },
    {
      "cell_type": "code",
      "execution_count": 52,
      "metadata": {},
      "outputs": [
        {
          "output_type": "display_data",
          "metadata": {},
          "data": {
            "text/plain": [
              "17"
            ]
          }
        }
      ],
      "source": [
        "csr.rdd.getNumPartitions()"
      ],
      "id": "106a5d4e"
    },
    {
      "cell_type": "code",
      "execution_count": 53,
      "metadata": {
        "ExecuteTime": {
          "end_time": "2020-05-03T15:30:20.643141Z",
          "start_time": "2020-05-03T15:29:45.221790Z"
        }
      },
      "outputs": [],
      "source": [
        "# Replace features names and xid by a unique number\n",
        "feature_name_partition = Window().orderBy('feature_name')\n",
        "xid_partition = Window().orderBy('xid')\n",
        "\n",
        "col_idx = func.dense_rank().over(feature_name_partition)\n",
        "row_idx = func.dense_rank().over(xid_partition)"
      ],
      "id": "1a9f2a00"
    },
    {
      "cell_type": "code",
      "execution_count": 54,
      "metadata": {
        "ExecuteTime": {
          "end_time": "2020-05-03T15:30:20.643141Z",
          "start_time": "2020-05-03T15:29:45.221790Z"
        }
      },
      "outputs": [
        {
          "output_type": "stream",
          "name": "stderr",
          "text": [
            "25/03/10 17:31:12 WARN WindowExec: No Partition Defined for Window operation! Moving all data to a single partition, this can cause serious performance degradation.\n",
            "25/03/10 17:31:12 WARN WindowExec: No Partition Defined for Window operation! Moving all data to a single partition, this can cause serious performance degradation.\n",
            "25/03/10 17:31:12 WARN WindowExec: No Partition Defined for Window operation! Moving all data to a single partition, this can cause serious performance degradation.\n",
            "25/03/10 17:31:12 WARN WindowExec: No Partition Defined for Window operation! Moving all data to a single partition, this can cause serious performance degradation.\n",
            "25/03/10 17:31:12 WARN WindowExec: No Partition Defined for Window operation! Moving all data to a single partition, this can cause serious performance degradation.\n",
            "25/03/10 17:31:13 WARN WindowExec: No Partition Defined for Window operation! Moving all data to a single partition, this can cause serious performance degradation.\n",
            "25/03/10 17:31:13 WARN WindowExec: No Partition Defined for Window operation! Moving all data to a single partition, this can cause serious performance degradation.\n",
            "25/03/10 17:31:13 WARN WindowExec: No Partition Defined for Window operation! Moving all data to a single partition, this can cause serious performance degradation.\n",
            "25/03/10 17:31:13 WARN WindowExec: No Partition Defined for Window operation! Moving all data to a single partition, this can cause serious performance degradation.\n",
            "25/03/10 17:31:13 WARN WindowExec: No Partition Defined for Window operation! Moving all data to a single partition, this can cause serious performance degradation.\n",
            "25/03/10 17:31:13 WARN WindowExec: No Partition Defined for Window operation! Moving all data to a single partition, this can cause serious performance degradation.\n",
            "25/03/10 17:31:13 WARN WindowExec: No Partition Defined for Window operation! Moving all data to a single partition, this can cause serious performance degradation.\n",
            "25/03/10 17:31:13 WARN WindowExec: No Partition Defined for Window operation! Moving all data to a single partition, this can cause serious performance degradation.\n",
            "25/03/10 17:31:13 WARN WindowExec: No Partition Defined for Window operation! Moving all data to a single partition, this can cause serious performance degradation.\n",
            "25/03/10 17:31:13 WARN WindowExec: No Partition Defined for Window operation! Moving all data to a single partition, this can cause serious performance degradation.\n",
            "25/03/10 17:31:13 WARN WindowExec: No Partition Defined for Window operation! Moving all data to a single partition, this can cause serious performance degradation.\n",
            "25/03/10 17:31:13 WARN WindowExec: No Partition Defined for Window operation! Moving all data to a single partition, this can cause serious performance degradation.\n",
            "25/03/10 17:31:13 WARN WindowExec: No Partition Defined for Window operation! Moving all data to a single partition, this can cause serious performance degradation.\n",
            "25/03/10 17:31:13 WARN WindowExec: No Partition Defined for Window operation! Moving all data to a single partition, this can cause serious performance degradation.\n",
            "25/03/10 17:31:13 WARN WindowExec: No Partition Defined for Window operation! Moving all data to a single partition, this can cause serious performance degradation.\n",
            "25/03/10 17:31:13 WARN WindowExec: No Partition Defined for Window operation! Moving all data to a single partition, this can cause serious performance degradation.\n",
            "25/03/10 17:31:13 WARN WindowExec: No Partition Defined for Window operation! Moving all data to a single partition, this can cause serious performance degradation.\n",
            "25/03/10 17:31:13 WARN WindowExec: No Partition Defined for Window operation! Moving all data to a single partition, this can cause serious performance degradation.\n",
            "25/03/10 17:31:13 WARN WindowExec: No Partition Defined for Window operation! Moving all data to a single partition, this can cause serious performance degradation.\n",
            "25/03/10 17:31:13 WARN WindowExec: No Partition Defined for Window operation! Moving all data to a single partition, this can cause serious performance degradation.\n",
            "25/03/10 17:31:13 WARN WindowExec: No Partition Defined for Window operation! Moving all data to a single partition, this can cause serious performance degradation.\n",
            "25/03/10 17:31:13 WARN WindowExec: No Partition Defined for Window operation! Moving all data to a single partition, this can cause serious performance degradation.\n",
            "25/03/10 17:31:13 WARN WindowExec: No Partition Defined for Window operation! Moving all data to a single partition, this can cause serious performance degradation.\n",
            "25/03/10 17:31:13 WARN WindowExec: No Partition Defined for Window operation! Moving all data to a single partition, this can cause serious performance degradation.\n",
            "25/03/10 17:31:13 WARN WindowExec: No Partition Defined for Window operation! Moving all data to a single partition, this can cause serious performance degradation.\n",
            "25/03/10 17:31:13 WARN WindowExec: No Partition Defined for Window operation! Moving all data to a single partition, this can cause serious performance degradation.\n",
            "25/03/10 17:31:13 WARN WindowExec: No Partition Defined for Window operation! Moving all data to a single partition, this can cause serious performance degradation.\n",
            "25/03/10 17:31:13 WARN WindowExec: No Partition Defined for Window operation! Moving all data to a single partition, this can cause serious performance degradation.\n",
            "25/03/10 17:31:13 WARN WindowExec: No Partition Defined for Window operation! Moving all data to a single partition, this can cause serious performance degradation.\n",
            "25/03/10 17:31:13 WARN WindowExec: No Partition Defined for Window operation! Moving all data to a single partition, this can cause serious performance degradation.\n",
            "25/03/10 17:31:13 WARN WindowExec: No Partition Defined for Window operation! Moving all data to a single partition, this can cause serious performance degradation.\n",
            "25/03/10 17:31:13 WARN WindowExec: No Partition Defined for Window operation! Moving all data to a single partition, this can cause serious performance degradation.\n",
            "25/03/10 17:31:13 WARN WindowExec: No Partition Defined for Window operation! Moving all data to a single partition, this can cause serious performance degradation.\n",
            "25/03/10 17:31:13 WARN WindowExec: No Partition Defined for Window operation! Moving all data to a single partition, this can cause serious performance degradation.\n",
            "25/03/10 17:31:13 WARN WindowExec: No Partition Defined for Window operation! Moving all data to a single partition, this can cause serious performance degradation.\n",
            "25/03/10 17:31:13 WARN WindowExec: No Partition Defined for Window operation! Moving all data to a single partition, this can cause serious performance degradation.\n",
            "25/03/10 17:31:13 WARN WindowExec: No Partition Defined for Window operation! Moving all data to a single partition, this can cause serious performance degradation.\n",
            "25/03/10 17:31:13 WARN WindowExec: No Partition Defined for Window operation! Moving all data to a single partition, this can cause serious performance degradation.\n",
            "25/03/10 17:31:13 WARN WindowExec: No Partition Defined for Window operation! Moving all data to a single partition, this can cause serious performance degradation.\n",
            "25/03/10 17:31:13 WARN WindowExec: No Partition Defined for Window operation! Moving all data to a single partition, this can cause serious performance degradation.\n",
            "25/03/10 17:31:13 WARN WindowExec: No Partition Defined for Window operation! Moving all data to a single partition, this can cause serious performance degradation.\n",
            "25/03/10 17:31:13 WARN WindowExec: No Partition Defined for Window operation! Moving all data to a single partition, this can cause serious performance degradation.\n",
            "25/03/10 17:31:13 WARN WindowExec: No Partition Defined for Window operation! Moving all data to a single partition, this can cause serious performance degradation.\n",
            "25/03/10 17:31:13 WARN WindowExec: No Partition Defined for Window operation! Moving all data to a single partition, this can cause serious performance degradation.\n",
            "25/03/10 17:31:13 WARN WindowExec: No Partition Defined for Window operation! Moving all data to a single partition, this can cause serious performance degradation.\n",
            "25/03/10 17:31:13 WARN WindowExec: No Partition Defined for Window operation! Moving all data to a single partition, this can cause serious performance degradation.\n",
            "25/03/10 17:31:13 WARN WindowExec: No Partition Defined for Window operation! Moving all data to a single partition, this can cause serious performance degradation.\n",
            "25/03/10 17:31:13 WARN WindowExec: No Partition Defined for Window operation! Moving all data to a single partition, this can cause serious performance degradation.\n",
            "25/03/10 17:31:14 WARN WindowExec: No Partition Defined for Window operation! Moving all data to a single partition, this can cause serious performance degradation.\n",
            "25/03/10 17:31:14 WARN WindowExec: No Partition Defined for Window operation! Moving all data to a single partition, this can cause serious performance degradation.\n",
            "25/03/10 17:31:14 WARN WindowExec: No Partition Defined for Window operation! Moving all data to a single partition, this can cause serious performance degradation.\n",
            "25/03/10 17:31:14 WARN WindowExec: No Partition Defined for Window operation! Moving all data to a single partition, this can cause serious performance degradation."
          ]
        },
        {
          "output_type": "display_data",
          "metadata": {},
          "data": {
            "text/plain": [
              "[Row(xid='0004c22f-62b5-40c2-8d0a-fa1115a08525', value=1.0, feature_name='n_actions_per_category_id#O#1204.0', col=4, row=1),\n",
              " Row(xid='0004c22f-62b5-40c2-8d0a-fa1115a08525', value=2962.1, feature_name='n_days_since_last_action#O', col=6, row=1),\n",
              " Row(xid='0004c22f-62b5-40c2-8d0a-fa1115a08525', value=2962.1, feature_name='n_days_since_last_event', col=7, row=1),\n",
              " Row(xid='0004c22f-62b5-40c2-8d0a-fa1115a08525', value=1.0, feature_name='n_device', col=8, row=1),\n",
              " Row(xid='0004c22f-62b5-40c2-8d0a-fa1115a08525', value=1.0, feature_name='n_events_per_category_id#1204.0', col=10, row=1)]"
            ]
          }
        }
      ],
      "source": [
        "csr = csr.withColumn('col', col_idx)\\\n",
        "    .withColumn('row', row_idx)\n",
        "\n",
        "csr = csr.na.drop('any')\n",
        "\n",
        "csr.head(n=5)"
      ],
      "id": "8bd442a7"
    },
    {
      "cell_type": "code",
      "execution_count": 55,
      "metadata": {
        "ExecuteTime": {
          "end_time": "2020-05-03T15:32:02.552364Z",
          "start_time": "2020-05-03T15:31:14.990298Z"
        }
      },
      "outputs": [
        {
          "output_type": "stream",
          "name": "stderr",
          "text": [
            "25/03/10 17:31:15 WARN WindowExec: No Partition Defined for Window operation! Moving all data to a single partition, this can cause serious performance degradation.\n",
            "25/03/10 17:31:15 WARN WindowExec: No Partition Defined for Window operation! Moving all data to a single partition, this can cause serious performance degradation.\n",
            "25/03/10 17:31:15 WARN WindowExec: No Partition Defined for Window operation! Moving all data to a single partition, this can cause serious performance degradation.\n",
            "25/03/10 17:31:15 WARN WindowExec: No Partition Defined for Window operation! Moving all data to a single partition, this can cause serious performance degradation.\n",
            "25/03/10 17:31:15 WARN WindowExec: No Partition Defined for Window operation! Moving all data to a single partition, this can cause serious performance degradation.\n",
            "25/03/10 17:31:15 WARN WindowExec: No Partition Defined for Window operation! Moving all data to a single partition, this can cause serious performance degradation.\n",
            "25/03/10 17:31:15 WARN WindowExec: No Partition Defined for Window operation! Moving all data to a single partition, this can cause serious performance degradation.\n",
            "25/03/10 17:31:15 WARN WindowExec: No Partition Defined for Window operation! Moving all data to a single partition, this can cause serious performance degradation.\n",
            "25/03/10 17:31:15 WARN WindowExec: No Partition Defined for Window operation! Moving all data to a single partition, this can cause serious performance degradation.\n",
            "25/03/10 17:31:15 WARN WindowExec: No Partition Defined for Window operation! Moving all data to a single partition, this can cause serious performance degradation.\n",
            "25/03/10 17:31:15 WARN WindowExec: No Partition Defined for Window operation! Moving all data to a single partition, this can cause serious performance degradation.\n",
            "25/03/10 17:31:15 WARN WindowExec: No Partition Defined for Window operation! Moving all data to a single partition, this can cause serious performance degradation.\n",
            "25/03/10 17:31:15 WARN WindowExec: No Partition Defined for Window operation! Moving all data to a single partition, this can cause serious performance degradation.\n",
            "25/03/10 17:31:15 WARN WindowExec: No Partition Defined for Window operation! Moving all data to a single partition, this can cause serious performance degradation.\n",
            "25/03/10 17:31:15 WARN WindowExec: No Partition Defined for Window operation! Moving all data to a single partition, this can cause serious performance degradation.\n",
            "25/03/10 17:31:15 WARN WindowExec: No Partition Defined for Window operation! Moving all data to a single partition, this can cause serious performance degradation.\n",
            "25/03/10 17:31:15 WARN WindowExec: No Partition Defined for Window operation! Moving all data to a single partition, this can cause serious performance degradation.\n",
            "25/03/10 17:31:15 WARN WindowExec: No Partition Defined for Window operation! Moving all data to a single partition, this can cause serious performance degradation.\n",
            "25/03/10 17:31:15 WARN WindowExec: No Partition Defined for Window operation! Moving all data to a single partition, this can cause serious performance degradation.\n",
            "25/03/10 17:31:15 WARN WindowExec: No Partition Defined for Window operation! Moving all data to a single partition, this can cause serious performance degradation.\n",
            "25/03/10 17:31:15 WARN WindowExec: No Partition Defined for Window operation! Moving all data to a single partition, this can cause serious performance degradation.\n",
            "25/03/10 17:31:15 WARN WindowExec: No Partition Defined for Window operation! Moving all data to a single partition, this can cause serious performance degradation.\n",
            "25/03/10 17:31:15 WARN WindowExec: No Partition Defined for Window operation! Moving all data to a single partition, this can cause serious performance degradation.\n",
            "25/03/10 17:31:15 WARN WindowExec: No Partition Defined for Window operation! Moving all data to a single partition, this can cause serious performance degradation.\n",
            "25/03/10 17:31:15 WARN WindowExec: No Partition Defined for Window operation! Moving all data to a single partition, this can cause serious performance degradation.\n",
            "25/03/10 17:31:15 WARN WindowExec: No Partition Defined for Window operation! Moving all data to a single partition, this can cause serious performance degradation.\n",
            "25/03/10 17:31:15 WARN WindowExec: No Partition Defined for Window operation! Moving all data to a single partition, this can cause serious performance degradation.\n",
            "25/03/10 17:31:15 WARN WindowExec: No Partition Defined for Window operation! Moving all data to a single partition, this can cause serious performance degradation.\n",
            "25/03/10 17:31:15 WARN WindowExec: No Partition Defined for Window operation! Moving all data to a single partition, this can cause serious performance degradation.\n",
            "25/03/10 17:31:15 WARN WindowExec: No Partition Defined for Window operation! Moving all data to a single partition, this can cause serious performance degradation.\n",
            "25/03/10 17:31:15 WARN WindowExec: No Partition Defined for Window operation! Moving all data to a single partition, this can cause serious performance degradation.\n",
            "25/03/10 17:31:15 WARN WindowExec: No Partition Defined for Window operation! Moving all data to a single partition, this can cause serious performance degradation.\n",
            "25/03/10 17:31:15 WARN WindowExec: No Partition Defined for Window operation! Moving all data to a single partition, this can cause serious performance degradation.\n",
            "25/03/10 17:31:15 WARN WindowExec: No Partition Defined for Window operation! Moving all data to a single partition, this can cause serious performance degradation.\n",
            "25/03/10 17:31:15 WARN WindowExec: No Partition Defined for Window operation! Moving all data to a single partition, this can cause serious performance degradation.\n",
            "25/03/10 17:31:15 WARN WindowExec: No Partition Defined for Window operation! Moving all data to a single partition, this can cause serious performance degradation.\n",
            "25/03/10 17:31:15 WARN WindowExec: No Partition Defined for Window operation! Moving all data to a single partition, this can cause serious performance degradation.\n",
            "25/03/10 17:31:16 WARN WindowExec: No Partition Defined for Window operation! Moving all data to a single partition, this can cause serious performance degradation.\n",
            "25/03/10 17:31:16 WARN WindowExec: No Partition Defined for Window operation! Moving all data to a single partition, this can cause serious performance degradation.\n",
            "25/03/10 17:31:16 WARN WindowExec: No Partition Defined for Window operation! Moving all data to a single partition, this can cause serious performance degradation.\n",
            "25/03/10 17:31:16 WARN WindowExec: No Partition Defined for Window operation! Moving all data to a single partition, this can cause serious performance degradation.\n",
            "25/03/10 17:31:16 WARN WindowExec: No Partition Defined for Window operation! Moving all data to a single partition, this can cause serious performance degradation.\n",
            "25/03/10 17:31:16 WARN WindowExec: No Partition Defined for Window operation! Moving all data to a single partition, this can cause serious performance degradation.\n",
            "25/03/10 17:31:16 WARN WindowExec: No Partition Defined for Window operation! Moving all data to a single partition, this can cause serious performance degradation.\n",
            "25/03/10 17:31:16 WARN WindowExec: No Partition Defined for Window operation! Moving all data to a single partition, this can cause serious performance degradation.\n",
            "25/03/10 17:31:16 WARN WindowExec: No Partition Defined for Window operation! Moving all data to a single partition, this can cause serious performance degradation.\n",
            "25/03/10 17:31:16 WARN WindowExec: No Partition Defined for Window operation! Moving all data to a single partition, this can cause serious performance degradation.\n",
            "25/03/10 17:31:16 WARN WindowExec: No Partition Defined for Window operation! Moving all data to a single partition, this can cause serious performance degradation.\n",
            "25/03/10 17:31:16 WARN WindowExec: No Partition Defined for Window operation! Moving all data to a single partition, this can cause serious performance degradation.\n",
            "[Stage 222:>                                                        (0 + 1) / 1]                                                                                "
          ]
        }
      ],
      "source": [
        "# Let's save the result of our hard work into a new parquet file\n",
        "output_path = Path('./data')\n",
        "output_file = str(output_path / 'csr.parquet')\n",
        "csr.write.parquet(output_file, mode='overwrite')"
      ],
      "id": "9add6134"
    },
    {
      "cell_type": "markdown",
      "metadata": {},
      "source": [
        "# Preparation of the training dataset"
      ],
      "id": "2cbcfbed-3d38-44d1-bafb-96182b019c18"
    },
    {
      "cell_type": "code",
      "execution_count": 56,
      "metadata": {
        "ExecuteTime": {
          "end_time": "2020-05-03T15:32:56.421452Z",
          "start_time": "2020-05-03T15:32:55.819071Z"
        }
      },
      "outputs": [
        {
          "output_type": "display_data",
          "metadata": {},
          "data": {
            "text/plain": [
              "[Row(xid='0004c22f-62b5-40c2-8d0a-fa1115a08525', value=1.0, feature_name='n_actions_per_category_id#O#1204.0', col=4, row=1),\n",
              " Row(xid='0004c22f-62b5-40c2-8d0a-fa1115a08525', value=2962.1, feature_name='n_days_since_last_action#O', col=6, row=1),\n",
              " Row(xid='0004c22f-62b5-40c2-8d0a-fa1115a08525', value=2962.1, feature_name='n_days_since_last_event', col=7, row=1),\n",
              " Row(xid='0004c22f-62b5-40c2-8d0a-fa1115a08525', value=1.0, feature_name='n_device', col=8, row=1),\n",
              " Row(xid='0004c22f-62b5-40c2-8d0a-fa1115a08525', value=1.0, feature_name='n_events_per_category_id#1204.0', col=10, row=1)]"
            ]
          }
        }
      ],
      "source": [
        "csr_path = './data'\n",
        "csr_file = os.path.join(csr_path, 'csr.parquet')\n",
        "\n",
        "df = spark.read.parquet(csr_file)\n",
        "df.head(n=5)"
      ],
      "id": "6566b2e9"
    },
    {
      "cell_type": "code",
      "execution_count": 57,
      "metadata": {
        "ExecuteTime": {
          "end_time": "2020-05-03T15:33:17.229477Z",
          "start_time": "2020-05-03T15:33:16.995048Z"
        }
      },
      "outputs": [
        {
          "output_type": "display_data",
          "metadata": {},
          "data": {
            "text/plain": [
              "522934"
            ]
          }
        }
      ],
      "source": [
        "df.count()"
      ],
      "id": "b1b6f05b"
    },
    {
      "cell_type": "code",
      "execution_count": 58,
      "metadata": {
        "ExecuteTime": {
          "end_time": "2020-05-03T15:33:20.881392Z",
          "start_time": "2020-05-03T15:33:19.624525Z"
        }
      },
      "outputs": [],
      "source": [
        "# What are the features related to campaign_id 1204 ?\n",
        "features_names = \\\n",
        "    df.select('feature_name')\\\n",
        "    .distinct()\\\n",
        "    .toPandas()['feature_name']"
      ],
      "id": "3fda13c8"
    },
    {
      "cell_type": "code",
      "execution_count": 59,
      "metadata": {
        "ExecuteTime": {
          "end_time": "2020-05-03T15:33:21.818568Z",
          "start_time": "2020-05-03T15:33:21.812810Z"
        }
      },
      "outputs": [
        {
          "output_type": "display_data",
          "metadata": {},
          "data": {
            "text/plain": [
              "0      n_events_per_website_id#25\n",
              "1     n_events_per_weekday#Sunday\n",
              "2      n_events_per_website_id#42\n",
              "3             n_events_per_hour#0\n",
              "4            n_events_per_hour#10\n",
              "                 ...             \n",
              "93           n_events_per_hour#19\n",
              "94     n_events_per_website_id#60\n",
              "95     n_events_per_website_id#29\n",
              "96    n_events_per_weekday#Monday\n",
              "97     n_events_per_website_id#32\n",
              "Name: feature_name, Length: 98, dtype: object"
            ]
          }
        }
      ],
      "source": [
        "features_names"
      ],
      "id": "c0f9fb13"
    },
    {
      "cell_type": "code",
      "execution_count": 60,
      "metadata": {
        "ExecuteTime": {
          "end_time": "2020-05-03T15:33:27.083141Z",
          "start_time": "2020-05-03T15:33:27.078374Z"
        }
      },
      "outputs": [
        {
          "output_type": "display_data",
          "metadata": {},
          "data": {
            "text/plain": [
              "['n_events_per_category_id#1204.0',\n",
              " 'n_actions_per_category_id#C#1204.0',\n",
              " 'n_actions_per_category_id#O#1204.0']"
            ]
          }
        }
      ],
      "source": [
        "[feature_name for feature_name in features_names if '1204' in feature_name]"
      ],
      "id": "238cf6e6"
    },
    {
      "cell_type": "code",
      "execution_count": 61,
      "metadata": {
        "ExecuteTime": {
          "end_time": "2020-05-03T15:33:28.560631Z",
          "start_time": "2020-05-03T15:33:27.903921Z"
        }
      },
      "outputs": [
        {
          "output_type": "display_data",
          "metadata": {},
          "data": {
            "text/plain": [
              "10999"
            ]
          }
        }
      ],
      "source": [
        "# Look for the xid that have at least one exposure to campaign 1204\n",
        "keep = func.when(\n",
        "    (col('feature_name') == 'n_actions_per_category_id#C#1204.0') |\n",
        "    (col('feature_name') == 'n_actions_per_category_id#O#1204.0'),\n",
        "    1).otherwise(0)\n",
        "df = df.withColumn('keep', keep)\n",
        "\n",
        "df.where(col('keep') > 0).count()"
      ],
      "id": "4e87d289"
    },
    {
      "cell_type": "code",
      "execution_count": 62,
      "metadata": {
        "ExecuteTime": {
          "end_time": "2020-05-03T15:33:31.274277Z",
          "start_time": "2020-05-03T15:33:31.244066Z"
        }
      },
      "outputs": [],
      "source": [
        "# Sum of the keeps :)\n",
        "xid_partition = Window.partitionBy('xid')\n",
        "sum_keep = func.sum(col('keep')).over(xid_partition)\n",
        "df = df.withColumn('sum_keep', sum_keep)"
      ],
      "id": "8174d61e"
    },
    {
      "cell_type": "code",
      "execution_count": 63,
      "metadata": {
        "ExecuteTime": {
          "end_time": "2020-05-03T15:33:31.467139Z",
          "start_time": "2020-05-03T15:33:31.404561Z"
        }
      },
      "outputs": [],
      "source": [
        "# Let's keep the xid exposed to 1204\n",
        "df = df.where(col('sum_keep') > 0)"
      ],
      "id": "b9dcfc77"
    },
    {
      "cell_type": "code",
      "execution_count": 64,
      "metadata": {
        "ExecuteTime": {
          "end_time": "2020-05-03T15:33:34.619928Z",
          "start_time": "2020-05-03T15:33:31.572475Z"
        }
      },
      "outputs": [
        {
          "output_type": "display_data",
          "metadata": {},
          "data": {
            "text/plain": [
              "157580"
            ]
          }
        }
      ],
      "source": [
        "df.count()"
      ],
      "id": "e6f01c3e"
    },
    {
      "cell_type": "code",
      "execution_count": 65,
      "metadata": {
        "ExecuteTime": {
          "end_time": "2020-05-03T15:33:37.918500Z",
          "start_time": "2020-05-03T15:33:34.622711Z"
        }
      },
      "outputs": [
        {
          "output_type": "display_data",
          "metadata": {},
          "data": {
            "text/plain": [
              "10989"
            ]
          }
        }
      ],
      "source": [
        "df.select('xid').distinct().count()"
      ],
      "id": "c9a43be7"
    },
    {
      "cell_type": "code",
      "execution_count": 66,
      "metadata": {
        "ExecuteTime": {
          "end_time": "2020-05-03T15:33:52.607777Z",
          "start_time": "2020-05-03T15:33:40.110545Z"
        }
      },
      "outputs": [
        {
          "output_type": "stream",
          "name": "stderr",
          "text": [
            "25/03/10 17:31:19 WARN WindowExec: No Partition Defined for Window operation! Moving all data to a single partition, this can cause serious performance degradation.\n",
            "25/03/10 17:31:19 WARN WindowExec: No Partition Defined for Window operation! Moving all data to a single partition, this can cause serious performance degradation.\n",
            "25/03/10 17:31:19 WARN WindowExec: No Partition Defined for Window operation! Moving all data to a single partition, this can cause serious performance degradation.\n",
            "25/03/10 17:31:19 WARN WindowExec: No Partition Defined for Window operation! Moving all data to a single partition, this can cause serious performance degradation.\n",
            "25/03/10 17:31:19 WARN WindowExec: No Partition Defined for Window operation! Moving all data to a single partition, this can cause serious performance degradation.\n",
            "25/03/10 17:31:19 WARN WindowExec: No Partition Defined for Window operation! Moving all data to a single partition, this can cause serious performance degradation.\n",
            "25/03/10 17:31:19 WARN WindowExec: No Partition Defined for Window operation! Moving all data to a single partition, this can cause serious performance degradation.\n",
            "25/03/10 17:31:19 WARN WindowExec: No Partition Defined for Window operation! Moving all data to a single partition, this can cause serious performance degradation.\n",
            "25/03/10 17:31:19 WARN WindowExec: No Partition Defined for Window operation! Moving all data to a single partition, this can cause serious performance degradation.\n",
            "25/03/10 17:31:19 WARN WindowExec: No Partition Defined for Window operation! Moving all data to a single partition, this can cause serious performance degradation.\n",
            "25/03/10 17:31:19 WARN WindowExec: No Partition Defined for Window operation! Moving all data to a single partition, this can cause serious performance degradation.\n",
            "25/03/10 17:31:19 WARN WindowExec: No Partition Defined for Window operation! Moving all data to a single partition, this can cause serious performance degradation.\n",
            "25/03/10 17:31:19 WARN WindowExec: No Partition Defined for Window operation! Moving all data to a single partition, this can cause serious performance degradation."
          ]
        }
      ],
      "source": [
        "row_partition = Window().orderBy('row')\n",
        "col_partition = Window().orderBy('col')\n",
        "row_new = func.dense_rank().over(row_partition)\n",
        "col_new = func.dense_rank().over(col_partition)\n",
        "df = df.withColumn('row_new', row_new)\n",
        "df = df.withColumn('col_new', col_new)\n",
        "csr_data = df.select('row_new', 'col_new', 'value').toPandas()"
      ],
      "id": "ecc1213b"
    },
    {
      "cell_type": "code",
      "execution_count": 67,
      "metadata": {
        "ExecuteTime": {
          "end_time": "2020-05-03T15:33:52.617724Z",
          "start_time": "2020-05-03T15:33:52.609488Z"
        }
      },
      "outputs": [
        {
          "output_type": "display_data",
          "metadata": {},
          "data": {
            "text/html": [
              "\n",
              "</div>"
            ]
          }
        }
      ],
      "source": [
        "csr_data.head()"
      ],
      "id": "05351a05"
    },
    {
      "cell_type": "code",
      "execution_count": 68,
      "metadata": {
        "ExecuteTime": {
          "end_time": "2020-05-03T15:33:58.443120Z",
          "start_time": "2020-05-03T15:33:52.619858Z"
        }
      },
      "outputs": [
        {
          "output_type": "stream",
          "name": "stderr",
          "text": [
            "25/03/10 17:31:20 WARN WindowExec: No Partition Defined for Window operation! Moving all data to a single partition, this can cause serious performance degradation.\n",
            "25/03/10 17:31:20 WARN WindowExec: No Partition Defined for Window operation! Moving all data to a single partition, this can cause serious performance degradation.\n",
            "25/03/10 17:31:20 WARN WindowExec: No Partition Defined for Window operation! Moving all data to a single partition, this can cause serious performance degradation.\n",
            "25/03/10 17:31:20 WARN WindowExec: No Partition Defined for Window operation! Moving all data to a single partition, this can cause serious performance degradation.\n",
            "25/03/10 17:31:20 WARN WindowExec: No Partition Defined for Window operation! Moving all data to a single partition, this can cause serious performance degradation.\n",
            "25/03/10 17:31:20 WARN WindowExec: No Partition Defined for Window operation! Moving all data to a single partition, this can cause serious performance degradation.\n",
            "25/03/10 17:31:20 WARN WindowExec: No Partition Defined for Window operation! Moving all data to a single partition, this can cause serious performance degradation."
          ]
        },
        {
          "output_type": "display_data",
          "metadata": {},
          "data": {
            "text/plain": [
              "Row(feature_name='n_actions_per_category_id#C#1204.0', col_new=2)"
            ]
          }
        }
      ],
      "source": [
        "features_names = df.select('feature_name', 'col_new').distinct()\n",
        "features_names.where(col('feature_name') == 'n_actions_per_category_id#C#1204.0').head()"
      ],
      "id": "29f6f924"
    },
    {
      "cell_type": "code",
      "execution_count": 69,
      "metadata": {
        "ExecuteTime": {
          "end_time": "2020-05-03T15:34:04.104342Z",
          "start_time": "2020-05-03T15:33:58.445504Z"
        }
      },
      "outputs": [
        {
          "output_type": "stream",
          "name": "stderr",
          "text": [
            "25/03/10 17:31:20 WARN WindowExec: No Partition Defined for Window operation! Moving all data to a single partition, this can cause serious performance degradation.\n",
            "25/03/10 17:31:20 WARN WindowExec: No Partition Defined for Window operation! Moving all data to a single partition, this can cause serious performance degradation.\n",
            "25/03/10 17:31:20 WARN WindowExec: No Partition Defined for Window operation! Moving all data to a single partition, this can cause serious performance degradation.\n",
            "25/03/10 17:31:21 WARN WindowExec: No Partition Defined for Window operation! Moving all data to a single partition, this can cause serious performance degradation.\n",
            "25/03/10 17:31:21 WARN WindowExec: No Partition Defined for Window operation! Moving all data to a single partition, this can cause serious performance degradation.\n",
            "25/03/10 17:31:21 WARN WindowExec: No Partition Defined for Window operation! Moving all data to a single partition, this can cause serious performance degradation.\n",
            "25/03/10 17:31:21 WARN WindowExec: No Partition Defined for Window operation! Moving all data to a single partition, this can cause serious performance degradation."
          ]
        },
        {
          "output_type": "display_data",
          "metadata": {},
          "data": {
            "text/plain": [
              "Row(feature_name='n_actions_per_category_id#O#1204.0', col_new=4)"
            ]
          }
        }
      ],
      "source": [
        "features_names.where(col('feature_name') == 'n_actions_per_category_id#O#1204.0').head()"
      ],
      "id": "9499b57e"
    },
    {
      "cell_type": "code",
      "execution_count": 70,
      "metadata": {
        "ExecuteTime": {
          "end_time": "2020-05-03T15:34:11.510538Z",
          "start_time": "2020-05-03T15:34:11.454802Z"
        }
      },
      "outputs": [],
      "source": [
        "from scipy.sparse import csr_matrix\n",
        "import numpy as np\n",
        "\n",
        "rows = csr_data['row_new'].values - 1\n",
        "cols = csr_data['col_new'].values - 1\n",
        "vals = csr_data['value'].values\n",
        "\n",
        "X_csr = csr_matrix((vals, (rows, cols)))"
      ],
      "id": "5166b3a9"
    },
    {
      "cell_type": "code",
      "execution_count": 71,
      "metadata": {
        "ExecuteTime": {
          "end_time": "2020-05-03T15:34:11.977267Z",
          "start_time": "2020-05-03T15:34:11.972602Z"
        }
      },
      "outputs": [
        {
          "output_type": "display_data",
          "metadata": {},
          "data": {
            "text/plain": [
              "(10989, 82)"
            ]
          }
        }
      ],
      "source": [
        "X_csr.shape"
      ],
      "id": "2857d4b3"
    },
    {
      "cell_type": "code",
      "execution_count": 72,
      "metadata": {
        "ExecuteTime": {
          "end_time": "2020-05-03T15:34:28.207343Z",
          "start_time": "2020-05-03T15:34:28.202443Z"
        }
      },
      "outputs": [
        {
          "output_type": "display_data",
          "metadata": {},
          "data": {
            "text/plain": [
              "((10989, 82), 131779)"
            ]
          }
        }
      ],
      "source": [
        "X_csr.shape, X_csr.nnz"
      ],
      "id": "133c1999"
    },
    {
      "cell_type": "code",
      "execution_count": 73,
      "metadata": {
        "ExecuteTime": {
          "end_time": "2020-05-03T15:34:30.978599Z",
          "start_time": "2020-05-03T15:34:30.972909Z"
        }
      },
      "outputs": [
        {
          "output_type": "display_data",
          "metadata": {},
          "data": {
            "text/plain": [
              "0.14624269502318282"
            ]
          }
        }
      ],
      "source": [
        "X_csr.nnz / (X_csr.shape[0]* X_csr.shape[1])   # 0152347 * 92)"
      ],
      "id": "7668aea5"
    },
    {
      "cell_type": "code",
      "execution_count": 74,
      "metadata": {
        "ExecuteTime": {
          "end_time": "2020-05-03T15:34:32.871960Z",
          "start_time": "2020-05-03T15:34:32.860482Z"
        }
      },
      "outputs": [],
      "source": [
        "# The label vector. Let's make it dense, flat and binary\n",
        "y = np.array(X_csr[:, 1].todense()).ravel()\n",
        "y = np.array(y > 0, dtype=np.int64)"
      ],
      "id": "41e053f5"
    },
    {
      "cell_type": "code",
      "execution_count": 75,
      "metadata": {
        "ExecuteTime": {
          "end_time": "2020-05-03T15:34:33.348181Z",
          "start_time": "2020-05-03T15:34:33.343110Z"
        }
      },
      "outputs": [
        {
          "output_type": "display_data",
          "metadata": {},
          "data": {
            "text/plain": [
              "(10989, 82)"
            ]
          }
        }
      ],
      "source": [
        "X_csr.shape"
      ],
      "id": "69dc8933"
    },
    {
      "cell_type": "code",
      "execution_count": 76,
      "metadata": {
        "ExecuteTime": {
          "end_time": "2020-05-03T15:34:37.382059Z",
          "start_time": "2020-05-03T15:34:37.371588Z"
        }
      },
      "outputs": [],
      "source": [
        "# We remove the second and fourth column. \n",
        "# It actually contain the label we'll want to predict.\n",
        "kept_cols = list(range(X_csr.shape[1]))\n",
        "kept_cols.pop(1)\n",
        "kept_cols.pop(2)\n",
        "X = X_csr[:, kept_cols]"
      ],
      "id": "81f86fd1"
    },
    {
      "cell_type": "code",
      "execution_count": 77,
      "metadata": {},
      "outputs": [
        {
          "output_type": "display_data",
          "metadata": {},
          "data": {
            "text/plain": [
              "80"
            ]
          }
        }
      ],
      "source": [
        "len(kept_cols)"
      ],
      "id": "feae4e25"
    },
    {
      "cell_type": "code",
      "execution_count": 78,
      "metadata": {
        "ExecuteTime": {
          "end_time": "2020-05-03T15:34:38.375629Z",
          "start_time": "2020-05-03T15:34:38.369734Z"
        }
      },
      "outputs": [
        {
          "output_type": "display_data",
          "metadata": {},
          "data": {
            "text/plain": [
              "((10989, 82), (10989, 80))"
            ]
          }
        }
      ],
      "source": [
        "X_csr.shape, X.shape"
      ],
      "id": "8637a0dd"
    },
    {
      "cell_type": "markdown",
      "metadata": {},
      "source": [
        "## Finally !!\n",
        "\n",
        "Wow ! That was a lot of work. Now we have a features matrix $X$ and a\n",
        "vector of labels $y$."
      ],
      "id": "b48cda97-2a31-4902-9fa3-f8840a46e40e"
    },
    {
      "cell_type": "code",
      "execution_count": 79,
      "metadata": {
        "ExecuteTime": {
          "end_time": "2020-05-03T15:34:40.526092Z",
          "start_time": "2020-05-03T15:34:40.521420Z"
        }
      },
      "outputs": [
        {
          "output_type": "display_data",
          "metadata": {},
          "data": {
            "text/plain": [
              "array([ 3,  4,  5, ..., 77, 78, 79], shape=(120780,), dtype=int32)"
            ]
          }
        }
      ],
      "source": [
        "X.indices"
      ],
      "id": "fe44e0d2"
    },
    {
      "cell_type": "code",
      "execution_count": 80,
      "metadata": {
        "ExecuteTime": {
          "end_time": "2020-05-03T15:34:40.750471Z",
          "start_time": "2020-05-03T15:34:40.744670Z"
        }
      },
      "outputs": [
        {
          "output_type": "display_data",
          "metadata": {},
          "data": {
            "text/plain": [
              "array([     0,     10,     20, ..., 120760, 120770, 120780],\n",
              "      shape=(10990,), dtype=int32)"
            ]
          }
        }
      ],
      "source": [
        "X.indptr"
      ],
      "id": "911ee2bb"
    },
    {
      "cell_type": "code",
      "execution_count": 81,
      "metadata": {
        "ExecuteTime": {
          "end_time": "2020-05-03T15:34:40.974359Z",
          "start_time": "2020-05-03T15:34:40.969638Z"
        }
      },
      "outputs": [
        {
          "output_type": "display_data",
          "metadata": {},
          "data": {
            "text/plain": [
              "((10989, 80), 120780)"
            ]
          }
        }
      ],
      "source": [
        "X.shape, X.nnz"
      ],
      "id": "dc18156d"
    },
    {
      "cell_type": "code",
      "execution_count": 82,
      "metadata": {
        "ExecuteTime": {
          "end_time": "2020-05-03T15:34:41.220722Z",
          "start_time": "2020-05-03T15:34:41.213466Z"
        }
      },
      "outputs": [
        {
          "output_type": "display_data",
          "metadata": {},
          "data": {
            "text/plain": [
              "((10989,), np.int64(92))"
            ]
          }
        }
      ],
      "source": [
        "y.shape, y.sum()"
      ],
      "id": "d30c971d"
    },
    {
      "cell_type": "markdown",
      "metadata": {},
      "source": [
        "# Some learning for/from this data"
      ],
      "id": "d96665f7-d2a3-44ca-bf73-37d875a3aa89"
    },
    {
      "cell_type": "code",
      "execution_count": 83,
      "metadata": {
        "ExecuteTime": {
          "end_time": "2020-05-03T15:51:21.964565Z",
          "start_time": "2020-05-03T15:51:20.939544Z"
        }
      },
      "outputs": [
        {
          "output_type": "display_data",
          "metadata": {},
          "data": {
            "text/html": [
              "<style>#sk-container-id-1 {\n",
              "  /* Definition of color scheme common for light and dark mode */\n",
              "  --sklearn-color-text: #000;\n",
              "  --sklearn-color-text-muted: #666;\n",
              "  --sklearn-color-line: gray;\n",
              "  /* Definition of color scheme for unfitted estimators */\n",
              "  --sklearn-color-unfitted-level-0: #fff5e6;\n",
              "  --sklearn-color-unfitted-level-1: #f6e4d2;\n",
              "  --sklearn-color-unfitted-level-2: #ffe0b3;\n",
              "  --sklearn-color-unfitted-level-3: chocolate;\n",
              "  /* Definition of color scheme for fitted estimators */\n",
              "  --sklearn-color-fitted-level-0: #f0f8ff;\n",
              "  --sklearn-color-fitted-level-1: #d4ebff;\n",
              "  --sklearn-color-fitted-level-2: #b3dbfd;\n",
              "  --sklearn-color-fitted-level-3: cornflowerblue;\n",
              "\n",
              "  /* Specific color for light theme */\n",
              "  --sklearn-color-text-on-default-background: var(--sg-text-color, var(--theme-code-foreground, var(--jp-content-font-color1, black)));\n",
              "  --sklearn-color-background: var(--sg-background-color, var(--theme-background, var(--jp-layout-color0, white)));\n",
              "  --sklearn-color-border-box: var(--sg-text-color, var(--theme-code-foreground, var(--jp-content-font-color1, black)));\n",
              "  --sklearn-color-icon: #696969;\n",
              "\n",
              "  @media (prefers-color-scheme: dark) {\n",
              "    /* Redefinition of color scheme for dark theme */\n",
              "    --sklearn-color-text-on-default-background: var(--sg-text-color, var(--theme-code-foreground, var(--jp-content-font-color1, white)));\n",
              "    --sklearn-color-background: var(--sg-background-color, var(--theme-background, var(--jp-layout-color0, #111)));\n",
              "    --sklearn-color-border-box: var(--sg-text-color, var(--theme-code-foreground, var(--jp-content-font-color1, white)));\n",
              "    --sklearn-color-icon: #878787;\n",
              "  }\n",
              "}\n",
              "\n",
              "#sk-container-id-1 {\n",
              "  color: var(--sklearn-color-text);\n",
              "}\n",
              "\n",
              "#sk-container-id-1 pre {\n",
              "  padding: 0;\n",
              "}\n",
              "\n",
              "#sk-container-id-1 input.sk-hidden--visually {\n",
              "  border: 0;\n",
              "  clip: rect(1px 1px 1px 1px);\n",
              "  clip: rect(1px, 1px, 1px, 1px);\n",
              "  height: 1px;\n",
              "  margin: -1px;\n",
              "  overflow: hidden;\n",
              "  padding: 0;\n",
              "  position: absolute;\n",
              "  width: 1px;\n",
              "}\n",
              "\n",
              "#sk-container-id-1 div.sk-dashed-wrapped {\n",
              "  border: 1px dashed var(--sklearn-color-line);\n",
              "  margin: 0 0.4em 0.5em 0.4em;\n",
              "  box-sizing: border-box;\n",
              "  padding-bottom: 0.4em;\n",
              "  background-color: var(--sklearn-color-background);\n",
              "}\n",
              "\n",
              "#sk-container-id-1 div.sk-container {\n",
              "  /* jupyter's `normalize.less` sets `[hidden] { display: none; }`\n",
              "     but bootstrap.min.css set `[hidden] { display: none !important; }`\n",
              "     so we also need the `!important` here to be able to override the\n",
              "     default hidden behavior on the sphinx rendered scikit-learn.org.\n",
              "     See: https://github.com/scikit-learn/scikit-learn/issues/21755 */\n",
              "  display: inline-block !important;\n",
              "  position: relative;\n",
              "}\n",
              "\n",
              "#sk-container-id-1 div.sk-text-repr-fallback {\n",
              "  display: none;\n",
              "}\n",
              "\n",
              "div.sk-parallel-item,\n",
              "div.sk-serial,\n",
              "div.sk-item {\n",
              "  /* draw centered vertical line to link estimators */\n",
              "  background-image: linear-gradient(var(--sklearn-color-text-on-default-background), var(--sklearn-color-text-on-default-background));\n",
              "  background-size: 2px 100%;\n",
              "  background-repeat: no-repeat;\n",
              "  background-position: center center;\n",
              "}\n",
              "\n",
              "/* Parallel-specific style estimator block */\n",
              "\n",
              "#sk-container-id-1 div.sk-parallel-item::after {\n",
              "  content: \"\";\n",
              "  width: 100%;\n",
              "  border-bottom: 2px solid var(--sklearn-color-text-on-default-background);\n",
              "  flex-grow: 1;\n",
              "}\n",
              "\n",
              "#sk-container-id-1 div.sk-parallel {\n",
              "  display: flex;\n",
              "  align-items: stretch;\n",
              "  justify-content: center;\n",
              "  background-color: var(--sklearn-color-background);\n",
              "  position: relative;\n",
              "}\n",
              "\n",
              "#sk-container-id-1 div.sk-parallel-item {\n",
              "  display: flex;\n",
              "  flex-direction: column;\n",
              "}\n",
              "\n",
              "#sk-container-id-1 div.sk-parallel-item:first-child::after {\n",
              "  align-self: flex-end;\n",
              "  width: 50%;\n",
              "}\n",
              "\n",
              "#sk-container-id-1 div.sk-parallel-item:last-child::after {\n",
              "  align-self: flex-start;\n",
              "  width: 50%;\n",
              "}\n",
              "\n",
              "#sk-container-id-1 div.sk-parallel-item:only-child::after {\n",
              "  width: 0;\n",
              "}\n",
              "\n",
              "/* Serial-specific style estimator block */\n",
              "\n",
              "#sk-container-id-1 div.sk-serial {\n",
              "  display: flex;\n",
              "  flex-direction: column;\n",
              "  align-items: center;\n",
              "  background-color: var(--sklearn-color-background);\n",
              "  padding-right: 1em;\n",
              "  padding-left: 1em;\n",
              "}\n",
              "\n",
              "\n",
              "/* Toggleable style: style used for estimator/Pipeline/ColumnTransformer box that is\n",
              "clickable and can be expanded/collapsed.\n",
              "- Pipeline and ColumnTransformer use this feature and define the default style\n",
              "- Estimators will overwrite some part of the style using the `sk-estimator` class\n",
              "*/\n",
              "\n",
              "/* Pipeline and ColumnTransformer style (default) */\n",
              "\n",
              "#sk-container-id-1 div.sk-toggleable {\n",
              "  /* Default theme specific background. It is overwritten whether we have a\n",
              "  specific estimator or a Pipeline/ColumnTransformer */\n",
              "  background-color: var(--sklearn-color-background);\n",
              "}\n",
              "\n",
              "/* Toggleable label */\n",
              "#sk-container-id-1 label.sk-toggleable__label {\n",
              "  cursor: pointer;\n",
              "  display: flex;\n",
              "  width: 100%;\n",
              "  margin-bottom: 0;\n",
              "  padding: 0.5em;\n",
              "  box-sizing: border-box;\n",
              "  text-align: center;\n",
              "  align-items: start;\n",
              "  justify-content: space-between;\n",
              "  gap: 0.5em;\n",
              "}\n",
              "\n",
              "#sk-container-id-1 label.sk-toggleable__label .caption {\n",
              "  font-size: 0.6rem;\n",
              "  font-weight: lighter;\n",
              "  color: var(--sklearn-color-text-muted);\n",
              "}\n",
              "\n",
              "#sk-container-id-1 label.sk-toggleable__label-arrow:before {\n",
              "  /* Arrow on the left of the label */\n",
              "  content: \"▸\";\n",
              "  float: left;\n",
              "  margin-right: 0.25em;\n",
              "  color: var(--sklearn-color-icon);\n",
              "}\n",
              "\n",
              "#sk-container-id-1 label.sk-toggleable__label-arrow:hover:before {\n",
              "  color: var(--sklearn-color-text);\n",
              "}\n",
              "\n",
              "/* Toggleable content - dropdown */\n",
              "\n",
              "#sk-container-id-1 div.sk-toggleable__content {\n",
              "  max-height: 0;\n",
              "  max-width: 0;\n",
              "  overflow: hidden;\n",
              "  text-align: left;\n",
              "  /* unfitted */\n",
              "  background-color: var(--sklearn-color-unfitted-level-0);\n",
              "}\n",
              "\n",
              "#sk-container-id-1 div.sk-toggleable__content.fitted {\n",
              "  /* fitted */\n",
              "  background-color: var(--sklearn-color-fitted-level-0);\n",
              "}\n",
              "\n",
              "#sk-container-id-1 div.sk-toggleable__content pre {\n",
              "  margin: 0.2em;\n",
              "  border-radius: 0.25em;\n",
              "  color: var(--sklearn-color-text);\n",
              "  /* unfitted */\n",
              "  background-color: var(--sklearn-color-unfitted-level-0);\n",
              "}\n",
              "\n",
              "#sk-container-id-1 div.sk-toggleable__content.fitted pre {\n",
              "  /* unfitted */\n",
              "  background-color: var(--sklearn-color-fitted-level-0);\n",
              "}\n",
              "\n",
              "#sk-container-id-1 input.sk-toggleable__control:checked~div.sk-toggleable__content {\n",
              "  /* Expand drop-down */\n",
              "  max-height: 200px;\n",
              "  max-width: 100%;\n",
              "  overflow: auto;\n",
              "}\n",
              "\n",
              "#sk-container-id-1 input.sk-toggleable__control:checked~label.sk-toggleable__label-arrow:before {\n",
              "  content: \"▾\";\n",
              "}\n",
              "\n",
              "/* Pipeline/ColumnTransformer-specific style */\n",
              "\n",
              "#sk-container-id-1 div.sk-label input.sk-toggleable__control:checked~label.sk-toggleable__label {\n",
              "  color: var(--sklearn-color-text);\n",
              "  background-color: var(--sklearn-color-unfitted-level-2);\n",
              "}\n",
              "\n",
              "#sk-container-id-1 div.sk-label.fitted input.sk-toggleable__control:checked~label.sk-toggleable__label {\n",
              "  background-color: var(--sklearn-color-fitted-level-2);\n",
              "}\n",
              "\n",
              "/* Estimator-specific style */\n",
              "\n",
              "/* Colorize estimator box */\n",
              "#sk-container-id-1 div.sk-estimator input.sk-toggleable__control:checked~label.sk-toggleable__label {\n",
              "  /* unfitted */\n",
              "  background-color: var(--sklearn-color-unfitted-level-2);\n",
              "}\n",
              "\n",
              "#sk-container-id-1 div.sk-estimator.fitted input.sk-toggleable__control:checked~label.sk-toggleable__label {\n",
              "  /* fitted */\n",
              "  background-color: var(--sklearn-color-fitted-level-2);\n",
              "}\n",
              "\n",
              "#sk-container-id-1 div.sk-label label.sk-toggleable__label,\n",
              "#sk-container-id-1 div.sk-label label {\n",
              "  /* The background is the default theme color */\n",
              "  color: var(--sklearn-color-text-on-default-background);\n",
              "}\n",
              "\n",
              "/* On hover, darken the color of the background */\n",
              "#sk-container-id-1 div.sk-label:hover label.sk-toggleable__label {\n",
              "  color: var(--sklearn-color-text);\n",
              "  background-color: var(--sklearn-color-unfitted-level-2);\n",
              "}\n",
              "\n",
              "/* Label box, darken color on hover, fitted */\n",
              "#sk-container-id-1 div.sk-label.fitted:hover label.sk-toggleable__label.fitted {\n",
              "  color: var(--sklearn-color-text);\n",
              "  background-color: var(--sklearn-color-fitted-level-2);\n",
              "}\n",
              "\n",
              "/* Estimator label */\n",
              "\n",
              "#sk-container-id-1 div.sk-label label {\n",
              "  font-family: monospace;\n",
              "  font-weight: bold;\n",
              "  display: inline-block;\n",
              "  line-height: 1.2em;\n",
              "}\n",
              "\n",
              "#sk-container-id-1 div.sk-label-container {\n",
              "  text-align: center;\n",
              "}\n",
              "\n",
              "/* Estimator-specific */\n",
              "#sk-container-id-1 div.sk-estimator {\n",
              "  font-family: monospace;\n",
              "  border: 1px dotted var(--sklearn-color-border-box);\n",
              "  border-radius: 0.25em;\n",
              "  box-sizing: border-box;\n",
              "  margin-bottom: 0.5em;\n",
              "  /* unfitted */\n",
              "  background-color: var(--sklearn-color-unfitted-level-0);\n",
              "}\n",
              "\n",
              "#sk-container-id-1 div.sk-estimator.fitted {\n",
              "  /* fitted */\n",
              "  background-color: var(--sklearn-color-fitted-level-0);\n",
              "}\n",
              "\n",
              "/* on hover */\n",
              "#sk-container-id-1 div.sk-estimator:hover {\n",
              "  /* unfitted */\n",
              "  background-color: var(--sklearn-color-unfitted-level-2);\n",
              "}\n",
              "\n",
              "#sk-container-id-1 div.sk-estimator.fitted:hover {\n",
              "  /* fitted */\n",
              "  background-color: var(--sklearn-color-fitted-level-2);\n",
              "}\n",
              "\n",
              "/* Specification for estimator info (e.g. \"i\" and \"?\") */\n",
              "\n",
              "/* Common style for \"i\" and \"?\" */\n",
              "\n",
              ".sk-estimator-doc-link,\n",
              "a:link.sk-estimator-doc-link,\n",
              "a:visited.sk-estimator-doc-link {\n",
              "  float: right;\n",
              "  font-size: smaller;\n",
              "  line-height: 1em;\n",
              "  font-family: monospace;\n",
              "  background-color: var(--sklearn-color-background);\n",
              "  border-radius: 1em;\n",
              "  height: 1em;\n",
              "  width: 1em;\n",
              "  text-decoration: none !important;\n",
              "  margin-left: 0.5em;\n",
              "  text-align: center;\n",
              "  /* unfitted */\n",
              "  border: var(--sklearn-color-unfitted-level-1) 1pt solid;\n",
              "  color: var(--sklearn-color-unfitted-level-1);\n",
              "}\n",
              "\n",
              ".sk-estimator-doc-link.fitted,\n",
              "a:link.sk-estimator-doc-link.fitted,\n",
              "a:visited.sk-estimator-doc-link.fitted {\n",
              "  /* fitted */\n",
              "  border: var(--sklearn-color-fitted-level-1) 1pt solid;\n",
              "  color: var(--sklearn-color-fitted-level-1);\n",
              "}\n",
              "\n",
              "/* On hover */\n",
              "div.sk-estimator:hover .sk-estimator-doc-link:hover,\n",
              ".sk-estimator-doc-link:hover,\n",
              "div.sk-label-container:hover .sk-estimator-doc-link:hover,\n",
              ".sk-estimator-doc-link:hover {\n",
              "  /* unfitted */\n",
              "  background-color: var(--sklearn-color-unfitted-level-3);\n",
              "  color: var(--sklearn-color-background);\n",
              "  text-decoration: none;\n",
              "}\n",
              "\n",
              "div.sk-estimator.fitted:hover .sk-estimator-doc-link.fitted:hover,\n",
              ".sk-estimator-doc-link.fitted:hover,\n",
              "div.sk-label-container:hover .sk-estimator-doc-link.fitted:hover,\n",
              ".sk-estimator-doc-link.fitted:hover {\n",
              "  /* fitted */\n",
              "  background-color: var(--sklearn-color-fitted-level-3);\n",
              "  color: var(--sklearn-color-background);\n",
              "  text-decoration: none;\n",
              "}\n",
              "\n",
              "/* Span, style for the box shown on hovering the info icon */\n",
              ".sk-estimator-doc-link span {\n",
              "  display: none;\n",
              "  z-index: 9999;\n",
              "  position: relative;\n",
              "  font-weight: normal;\n",
              "  right: .2ex;\n",
              "  padding: .5ex;\n",
              "  margin: .5ex;\n",
              "  width: min-content;\n",
              "  min-width: 20ex;\n",
              "  max-width: 50ex;\n",
              "  color: var(--sklearn-color-text);\n",
              "  box-shadow: 2pt 2pt 4pt #999;\n",
              "  /* unfitted */\n",
              "  background: var(--sklearn-color-unfitted-level-0);\n",
              "  border: .5pt solid var(--sklearn-color-unfitted-level-3);\n",
              "}\n",
              "\n",
              ".sk-estimator-doc-link.fitted span {\n",
              "  /* fitted */\n",
              "  background: var(--sklearn-color-fitted-level-0);\n",
              "  border: var(--sklearn-color-fitted-level-3);\n",
              "}\n",
              "\n",
              ".sk-estimator-doc-link:hover span {\n",
              "  display: block;\n",
              "}\n",
              "\n",
              "/* \"?\"-specific style due to the `<a>` HTML tag */\n",
              "\n",
              "#sk-container-id-1 a.estimator_doc_link {\n",
              "  float: right;\n",
              "  font-size: 1rem;\n",
              "  line-height: 1em;\n",
              "  font-family: monospace;\n",
              "  background-color: var(--sklearn-color-background);\n",
              "  border-radius: 1rem;\n",
              "  height: 1rem;\n",
              "  width: 1rem;\n",
              "  text-decoration: none;\n",
              "  /* unfitted */\n",
              "  color: var(--sklearn-color-unfitted-level-1);\n",
              "  border: var(--sklearn-color-unfitted-level-1) 1pt solid;\n",
              "}\n",
              "\n",
              "#sk-container-id-1 a.estimator_doc_link.fitted {\n",
              "  /* fitted */\n",
              "  border: var(--sklearn-color-fitted-level-1) 1pt solid;\n",
              "  color: var(--sklearn-color-fitted-level-1);\n",
              "}\n",
              "\n",
              "/* On hover */\n",
              "#sk-container-id-1 a.estimator_doc_link:hover {\n",
              "  /* unfitted */\n",
              "  background-color: var(--sklearn-color-unfitted-level-3);\n",
              "  color: var(--sklearn-color-background);\n",
              "  text-decoration: none;\n",
              "}\n",
              "\n",
              "#sk-container-id-1 a.estimator_doc_link.fitted:hover {\n",
              "  /* fitted */\n",
              "  background-color: var(--sklearn-color-fitted-level-3);\n",
              "}\n",
              "</style><div id=\"sk-container-id-1\" class=\"sk-top-container\"><div class=\"sk-text-repr-fallback\"><pre>LogisticRegression(C=1000.0, class_weight=&#x27;balanced&#x27;)</pre><b>In a Jupyter environment, please rerun this cell to show the HTML representation or trust the notebook. <br />On GitHub, the HTML representation is unable to render, please try loading this page with nbviewer.org.</b></div><div class=\"sk-container\" hidden><div class=\"sk-item\"><div class=\"sk-estimator fitted sk-toggleable\"><input class=\"sk-toggleable__control sk-hidden--visually\" id=\"sk-estimator-id-1\" type=\"checkbox\" checked><label for=\"sk-estimator-id-1\" class=\"sk-toggleable__label fitted sk-toggleable__label-arrow\"><div><div>LogisticRegression</div></div><div><a class=\"sk-estimator-doc-link fitted\" rel=\"noreferrer\" target=\"_blank\" href=\"https://scikit-learn.org/1.6/modules/generated/sklearn.linear_model.LogisticRegression.html\">?<span>Documentation for LogisticRegression</span></a><span class=\"sk-estimator-doc-link fitted\">i<span>Fitted</span></span></div></label><div class=\"sk-toggleable__content fitted\"><pre>LogisticRegression(C=1000.0, class_weight=&#x27;balanced&#x27;)</pre></div> </div></div></div></div>"
            ]
          }
        }
      ],
      "source": [
        "from sklearn.preprocessing import MaxAbsScaler\n",
        "from sklearn.model_selection import train_test_split\n",
        "from sklearn.linear_model import LogisticRegression\n",
        "\n",
        "# Normalize the features\n",
        "X = MaxAbsScaler().fit_transform(X)\n",
        "X_train, X_test, y_train, y_test = train_test_split(X, y, stratify=y, test_size=0.3)\n",
        "\n",
        "clf = LogisticRegression(\n",
        "    penalty='l2',\n",
        "    C=1e3,\n",
        "    solver='lbfgs',\n",
        "    class_weight='balanced'\n",
        ")\n",
        "\n",
        "clf.fit(X_train, y_train)"
      ],
      "id": "9c42268c"
    },
    {
      "cell_type": "code",
      "execution_count": 84,
      "metadata": {
        "ExecuteTime": {
          "end_time": "2020-05-03T15:51:22.820046Z",
          "start_time": "2020-05-03T15:51:22.809009Z"
        }
      },
      "outputs": [
        {
          "output_type": "stream",
          "name": "stderr",
          "text": [
            "25/03/10 17:31:21 WARN WindowExec: No Partition Defined for Window operation! Moving all data to a single partition, this can cause serious performance degradation.\n",
            "25/03/10 17:31:21 WARN WindowExec: No Partition Defined for Window operation! Moving all data to a single partition, this can cause serious performance degradation.\n",
            "25/03/10 17:31:21 WARN WindowExec: No Partition Defined for Window operation! Moving all data to a single partition, this can cause serious performance degradation.\n",
            "25/03/10 17:31:21 WARN WindowExec: No Partition Defined for Window operation! Moving all data to a single partition, this can cause serious performance degradation.\n",
            "25/03/10 17:31:21 WARN WindowExec: No Partition Defined for Window operation! Moving all data to a single partition, this can cause serious performance degradation.\n",
            "25/03/10 17:31:21 WARN WindowExec: No Partition Defined for Window operation! Moving all data to a single partition, this can cause serious performance degradation."
          ]
        }
      ],
      "source": [
        "features_names = features_names.toPandas()['feature_name']"
      ],
      "id": "987d03f5"
    },
    {
      "cell_type": "code",
      "execution_count": 85,
      "metadata": {},
      "outputs": [
        {
          "output_type": "display_data",
          "metadata": {},
          "data": {
            "text/plain": [
              "0    n_actions_per_category_id#C#1002.0\n",
              "1    n_actions_per_category_id#C#1204.0\n",
              "2    n_actions_per_category_id#O#1002.0\n",
              "3    n_actions_per_category_id#O#1204.0\n",
              "4            n_days_since_last_action#C\n",
              "5            n_days_since_last_action#O\n",
              "Name: feature_name, dtype: object"
            ]
          }
        }
      ],
      "source": [
        "features_names[range(6)]"
      ],
      "id": "a6bcd1f9"
    },
    {
      "cell_type": "code",
      "execution_count": 86,
      "metadata": {
        "ExecuteTime": {
          "end_time": "2020-05-03T15:51:25.078266Z",
          "start_time": "2020-05-03T15:51:23.622795Z"
        }
      },
      "outputs": [],
      "source": [
        "import matplotlib.pyplot as plt\n",
        "%matplotlib inline"
      ],
      "id": "8198bcec"
    },
    {
      "cell_type": "code",
      "execution_count": 87,
      "metadata": {
        "ExecuteTime": {
          "end_time": "2020-05-03T15:51:25.078266Z",
          "start_time": "2020-05-03T15:51:23.622795Z"
        }
      },
      "outputs": [
        {
          "output_type": "display_data",
          "metadata": {},
          "data": {
            "text/plain": [
              "Text(0.5, 1.0, 'Logistic regression coefficients')"
            ]
          }
        },
        {
          "output_type": "display_data",
          "metadata": {},
          "data": {
            "image/png": "[encoded data removed]"
          }
        }
      ],
      "source": [
        "plt.figure(figsize=(16, 5))\n",
        "plt.stem(clf.coef_[0]) # , use_line_collection=True)\n",
        "plt.title('Logistic regression coefficients', fontsize=18)"
      ],
      "id": "1e6f2140"
    },
    {
      "cell_type": "code",
      "execution_count": 88,
      "metadata": {},
      "outputs": [
        {
          "output_type": "display_data",
          "metadata": {},
          "data": {
            "text/plain": [
              "80"
            ]
          }
        }
      ],
      "source": [
        "clf.coef_[0].shape[0]"
      ],
      "id": "42c6e20c"
    },
    {
      "cell_type": "code",
      "execution_count": 89,
      "metadata": {},
      "outputs": [
        {
          "output_type": "display_data",
          "metadata": {},
          "data": {
            "text/plain": [
              "82"
            ]
          }
        }
      ],
      "source": [
        "len(features_names)"
      ],
      "id": "d1709eda"
    },
    {
      "cell_type": "code",
      "execution_count": 90,
      "metadata": {
        "ExecuteTime": {
          "end_time": "2020-05-03T15:51:25.078266Z",
          "start_time": "2020-05-03T15:51:23.622795Z"
        }
      },
      "outputs": [
        {
          "output_type": "display_data",
          "metadata": {},
          "data": {
            "image/png": "[encoded data removed]"
          }
        }
      ],
      "source": [
        "# We change the fontsize of minor ticks label\n",
        "_ = plt.xticks(np.arange(clf.coef_[0].shape[0]), features_names, \n",
        "           rotation='vertical', fontsize=8)"
      ],
      "id": "03743208"
    },
    {
      "cell_type": "code",
      "execution_count": 91,
      "metadata": {
        "ExecuteTime": {
          "end_time": "2020-05-03T15:51:25.078266Z",
          "start_time": "2020-05-03T15:51:23.622795Z"
        }
      },
      "outputs": [
        {
          "output_type": "display_data",
          "metadata": {},
          "data": {
            "image/png": "[encoded data removed]"
          }
        }
      ],
      "source": [
        "_ = plt.yticks(fontsize=14)"
      ],
      "id": "573f78db"
    },
    {
      "cell_type": "code",
      "execution_count": 92,
      "metadata": {
        "ExecuteTime": {
          "end_time": "2020-05-03T15:51:25.280157Z",
          "start_time": "2020-05-03T15:51:25.081464Z"
        }
      },
      "outputs": [
        {
          "output_type": "display_data",
          "metadata": {},
          "data": {
            "image/png": "[encoded data removed]"
          }
        }
      ],
      "source": [
        "from sklearn.metrics import precision_recall_curve, f1_score\n",
        "\n",
        "precision, recall, _ = precision_recall_curve(y_test, clf.predict_proba(X_test)[:, 1])\n",
        "    \n",
        "plt.figure(figsize=(8, 6))\n",
        "plt.plot(recall, precision, label='LR (F1=%.2f)' % f1_score(y_test, clf.predict(X_test)), lw=2)\n",
        "plt.xlim([0.0, 1.0])\n",
        "plt.ylim([0.0, 1.05])\n",
        "plt.xlabel('Recall', fontsize=16)\n",
        "plt.ylabel('Precision', fontsize=16)\n",
        "plt.title('Precision/recall curve', fontsize=18)\n",
        "plt.legend(loc=\"upper right\", fontsize=14)"
      ],
      "id": "872055d1"
    },
    {
      "cell_type": "markdown",
      "metadata": {},
      "source": [
        "# Analyse the tables"
      ],
      "id": "0403898d-57ba-4777-bcd7-744eaf6904a4"
    },
    {
      "cell_type": "code",
      "execution_count": 93,
      "metadata": {},
      "outputs": [],
      "source": [
        "query = \"\"\"ANALYZE TABLE db_table COMPUTE STATISTICS\n",
        "            FOR COLUMNS xid\"\"\""
      ],
      "id": "4ce3a236"
    },
    {
      "cell_type": "code",
      "execution_count": 94,
      "metadata": {},
      "outputs": [],
      "source": [
        "df.createOrReplaceTempView(\"db_table\")"
      ],
      "id": "0908443c"
    },
    {
      "cell_type": "code",
      "execution_count": 95,
      "metadata": {},
      "outputs": [
        {
          "output_type": "display_data",
          "metadata": {},
          "data": {
            "text/plain": [
              "['xid',\n",
              " 'value',\n",
              " 'feature_name',\n",
              " 'col',\n",
              " 'row',\n",
              " 'keep',\n",
              " 'sum_keep',\n",
              " 'row_new',\n",
              " 'col_new']"
            ]
          }
        }
      ],
      "source": [
        "df.columns"
      ],
      "id": "d86aec1b"
    },
    {
      "cell_type": "code",
      "execution_count": 96,
      "metadata": {},
      "outputs": [
        {
          "output_type": "stream",
          "name": "stderr",
          "text": [
            "25/03/10 17:31:22 WARN WindowExec: No Partition Defined for Window operation! Moving all data to a single partition, this can cause serious performance degradation.\n",
            "25/03/10 17:31:22 WARN WindowExec: No Partition Defined for Window operation! Moving all data to a single partition, this can cause serious performance degradation.\n",
            "25/03/10 17:31:22 WARN WindowExec: No Partition Defined for Window operation! Moving all data to a single partition, this can cause serious performance degradation.\n",
            "25/03/10 17:31:22 WARN WindowExec: No Partition Defined for Window operation! Moving all data to a single partition, this can cause serious performance degradation.\n",
            "25/03/10 17:31:22 WARN WindowExec: No Partition Defined for Window operation! Moving all data to a single partition, this can cause serious performance degradation.\n",
            "25/03/10 17:31:22 WARN WindowExec: No Partition Defined for Window operation! Moving all data to a single partition, this can cause serious performance degradation.\n",
            "25/03/10 17:31:22 WARN WindowExec: No Partition Defined for Window operation! Moving all data to a single partition, this can cause serious performance degradation.\n",
            "25/03/10 17:31:22 WARN WindowExec: No Partition Defined for Window operation! Moving all data to a single partition, this can cause serious performance degradation.\n",
            "25/03/10 17:31:22 WARN WindowExec: No Partition Defined for Window operation! Moving all data to a single partition, this can cause serious performance degradation.\n",
            "25/03/10 17:31:23 WARN WindowExec: No Partition Defined for Window operation! Moving all data to a single partition, this can cause serious performance degradation.\n",
            "25/03/10 17:31:23 WARN WindowExec: No Partition Defined for Window operation! Moving all data to a single partition, this can cause serious performance degradation.\n",
            "25/03/10 17:31:23 WARN WindowExec: No Partition Defined for Window operation! Moving all data to a single partition, this can cause serious performance degradation.\n",
            "25/03/10 17:31:23 WARN WindowExec: No Partition Defined for Window operation! Moving all data to a single partition, this can cause serious performance degradation.\n",
            "25/03/10 17:31:23 WARN WindowExec: No Partition Defined for Window operation! Moving all data to a single partition, this can cause serious performance degradation.\n",
            "25/03/10 17:31:23 WARN WindowExec: No Partition Defined for Window operation! Moving all data to a single partition, this can cause serious performance degradation.\n",
            "25/03/10 17:31:23 WARN WindowExec: No Partition Defined for Window operation! Moving all data to a single partition, this can cause serious performance degradation.\n",
            "25/03/10 17:31:23 WARN WindowExec: No Partition Defined for Window operation! Moving all data to a single partition, this can cause serious performance degradation."
          ]
        },
        {
          "output_type": "display_data",
          "metadata": {},
          "data": {
            "text/plain": [
              "DataFrame[]"
            ]
          }
        }
      ],
      "source": [
        "spark.sql(\"cache table db_table\")"
      ],
      "id": "1baa7e42"
    },
    {
      "cell_type": "code",
      "execution_count": 97,
      "metadata": {},
      "outputs": [
        {
          "output_type": "display_data",
          "metadata": {},
          "data": {
            "text/plain": [
              "DataFrame[]"
            ]
          }
        }
      ],
      "source": [
        "spark.sql(query)"
      ],
      "id": "2ebb5928"
    },
    {
      "cell_type": "code",
      "execution_count": 98,
      "metadata": {},
      "outputs": [
        {
          "output_type": "display_data",
          "metadata": {},
          "data": {
            "text/plain": [
              "DataFrame[namespace: string, tableName: string, isTemporary: boolean]"
            ]
          }
        }
      ],
      "source": [
        "spark.sql(\"show tables\")"
      ],
      "id": "f83953c1"
    }
  ],
  "nbformat": 4,
  "nbformat_minor": 5,
  "metadata": {
    "kernelspec": {
      "name": "python3",
      "display_name": "Python 3 (ipykernel)",
      "language": "python",
      "path": "/usr/share/jupyter/kernels/python3"
    },
    "language_info": {
      "name": "python",
      "codemirror_mode": {
        "name": "ipython",
        "version": "3"
      },
      "file_extension": ".py",
      "mimetype": "text/x-python",
      "nbconvert_exporter": "python",
      "pygments_lexer": "ipython3",
      "version": "3.12.3"
    }
  }
}