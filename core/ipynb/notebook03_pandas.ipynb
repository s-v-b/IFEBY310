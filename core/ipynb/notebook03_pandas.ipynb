{
  "cells": [
    {
      "cell_type": "markdown",
      "metadata": {},
      "source": [
        "# Introduction to `pandas`\n",
        "\n",
        "The `pandas` library (https://pandas.pydata.org) is one of the most used\n",
        "tool at the disposal of people working with data in `python` today.\n",
        "\n",
        "-   It allows to **crunch data** easily\n",
        "-   It mainly provides a `DataFrame` object (a **table of data**) with a\n",
        "    huge set of functionalities\n",
        "\n",
        "## Why ?\n",
        "\n",
        "Through `pandas`, you get acquainted with your data by **analyzing** it\n",
        "\n",
        "-   What’s the average, median, max, or min of each column?\n",
        "-   Does column A correlate with column B?\n",
        "-   What does the distribution of data in column C look like?\n",
        "\n",
        "## Why (con’t) ?\n",
        "\n",
        "you get acquainted with your data by **cleaning** and **transforming**\n",
        "it\n",
        "\n",
        "-   Removing missing values, filter rows or columns using some criteria\n",
        "-   Store the cleaned, transformed data back into virtually any format\n",
        "    or database\n",
        "-   Data visualization (when combined `matplotlib` or `seaborn` or\n",
        "    others)\n",
        "\n",
        "## Where ?\n",
        "\n",
        "`pandas` is a central component of the `python` “stack” for data science\n",
        "\n",
        "-   `pandas` is built on top of `numpy`\n",
        "-   often used in conjunction with other libraries\n",
        "-   a `DataFrame` is often fed to plotting functions or machine learning\n",
        "    algorithms (such as `scikit-learn`)\n",
        "-   Well-interfaced with `jupyter`, leading to a nice interactive\n",
        "    environment for data exploration and modeling\n",
        "\n",
        "## Core components of pandas\n",
        "\n",
        "The two primary components of pandas are the `Series` and `DataFrame`.\n",
        "\n",
        "-   A `Series` is essentially a column\n",
        "\n",
        "-   A `DataFrame` is a multi-dimensional table made up of a collection\n",
        "    of `Series` with equal length\n",
        "\n",
        "## Creating a `DataFrame` from scratch"
      ],
      "id": "953dba8e-1451-4871-9235-0e46adfd3f63"
    },
    {
      "cell_type": "code",
      "execution_count": 1,
      "metadata": {},
      "outputs": [],
      "source": [
        "import pandas as pd\n",
        "\n",
        "fruits = {\n",
        "    \"apples\": [3, 2, 0, 1],\n",
        "    \"oranges\": [0, 3, 7, 2]\n",
        "}\n",
        "\n",
        "df_fruits = pd.DataFrame(fruits)\n",
        "df_fruits"
      ],
      "id": "c73c9492"
    },
    {
      "cell_type": "code",
      "execution_count": 2,
      "metadata": {},
      "outputs": [],
      "source": [
        "type(df_fruits)"
      ],
      "id": "5e03366c"
    },
    {
      "cell_type": "code",
      "execution_count": 3,
      "metadata": {},
      "outputs": [],
      "source": [
        "df_fruits[\"apples\"]"
      ],
      "id": "9533ef7b"
    },
    {
      "cell_type": "code",
      "execution_count": 4,
      "metadata": {},
      "outputs": [],
      "source": [
        "type(df_fruits[\"apples\"])"
      ],
      "id": "9c3319fd"
    },
    {
      "cell_type": "markdown",
      "metadata": {},
      "source": [
        "## Indexing\n",
        "\n",
        "-   By default, a `DataFrame` uses a contiguous index\n",
        "-   But what if we want to say **who** buys the fruits ?"
      ],
      "id": "9eae42b6-f720-470f-b41f-64c9afb72306"
    },
    {
      "cell_type": "code",
      "execution_count": 5,
      "metadata": {},
      "outputs": [],
      "source": [
        "df_fruits = pd.DataFrame(fruits, index=[\"Daniel\", \"Sean\", \"Pierce\", \"Roger\"])\n",
        "df_fruits"
      ],
      "id": "d06a4825"
    },
    {
      "cell_type": "markdown",
      "metadata": {},
      "source": [
        "## `.loc` versus `.iloc`\n",
        "\n",
        "-   `.loc` **loc**ates by name\n",
        "-   `.iloc` **loc**ates by numerical **i**ndex"
      ],
      "id": "fac9d270-4ba1-438c-96d3-3dcabc0f017d"
    },
    {
      "cell_type": "code",
      "execution_count": 6,
      "metadata": {},
      "outputs": [],
      "source": [
        "df_fruits"
      ],
      "id": "511710ef"
    },
    {
      "cell_type": "code",
      "execution_count": 7,
      "metadata": {},
      "outputs": [],
      "source": [
        "# What's in Sean's basket ?\n",
        "df_fruits.loc['Sean']"
      ],
      "id": "3b4dfc76"
    },
    {
      "cell_type": "code",
      "execution_count": 8,
      "metadata": {},
      "outputs": [],
      "source": [
        "# Who has oranges ?\n",
        "df_fruits.loc[:, 'oranges']"
      ],
      "id": "0ee3867b"
    },
    {
      "cell_type": "code",
      "execution_count": 9,
      "metadata": {},
      "outputs": [],
      "source": [
        "# How many apples in Pierce's basket ?\n",
        "df_fruits.loc['Pierce', 'apples']"
      ],
      "id": "7f0dfca8"
    },
    {
      "cell_type": "code",
      "execution_count": 10,
      "metadata": {},
      "outputs": [],
      "source": [
        "df_fruits"
      ],
      "id": "aad20074"
    },
    {
      "cell_type": "code",
      "execution_count": 11,
      "metadata": {},
      "outputs": [],
      "source": [
        "df_fruits.iloc[2, 1]"
      ],
      "id": "1aa00c36"
    },
    {
      "cell_type": "markdown",
      "metadata": {},
      "source": [
        "## Main attributes and methods of a `DataFrame`\n",
        "\n",
        "A `DataFrame` has many **attributes**"
      ],
      "id": "75440304-beb8-4e2b-8925-c676e4ae881c"
    },
    {
      "cell_type": "code",
      "execution_count": 12,
      "metadata": {},
      "outputs": [],
      "source": [
        "df_fruits.columns"
      ],
      "id": "59d42837"
    },
    {
      "cell_type": "code",
      "execution_count": 13,
      "metadata": {},
      "outputs": [],
      "source": [
        "df_fruits.index"
      ],
      "id": "6fb5c644"
    },
    {
      "cell_type": "code",
      "execution_count": 14,
      "metadata": {},
      "outputs": [],
      "source": [
        "df_fruits.dtypes"
      ],
      "id": "3ff319f1"
    },
    {
      "cell_type": "markdown",
      "metadata": {},
      "source": [
        "A `DataFrame` has many **methods**"
      ],
      "id": "3bc21f41-029c-4130-8d61-8f8699b22b37"
    },
    {
      "cell_type": "code",
      "execution_count": 15,
      "metadata": {},
      "outputs": [],
      "source": [
        "df_fruits.info()"
      ],
      "id": "880c03ca"
    },
    {
      "cell_type": "code",
      "execution_count": 16,
      "metadata": {},
      "outputs": [],
      "source": [
        "df_fruits.describe()"
      ],
      "id": "0b6ad7c5"
    },
    {
      "cell_type": "markdown",
      "metadata": {},
      "source": [
        "## Missing values\n",
        "\n",
        "What if we don’t know how many apples are in Sean’s basket ?"
      ],
      "id": "346ca267-0b00-46cb-aa31-9d90b3e8735d"
    },
    {
      "cell_type": "code",
      "execution_count": 17,
      "metadata": {},
      "outputs": [],
      "source": [
        "df_fruits.loc['Sean', 'apples'] = None\n",
        "df_fruits"
      ],
      "id": "a3179a74"
    },
    {
      "cell_type": "code",
      "execution_count": 18,
      "metadata": {},
      "outputs": [],
      "source": [
        "df_fruits.describe()"
      ],
      "id": "ab744d6c"
    },
    {
      "cell_type": "markdown",
      "metadata": {},
      "source": [
        "Note that `count` is **3** for apples now, since we have 1 missing value\n",
        "among the 4\n",
        "\n",
        "> **Note**\n",
        ">\n",
        "> To review the members of objects of class `pandas.DataFrame`, `dir()`\n",
        "> and module `inspect` are convenient."
      ],
      "id": "3df5930a-ecc6-4e66-9a4c-7e6aeb55107b"
    },
    {
      "cell_type": "code",
      "execution_count": 19,
      "metadata": {},
      "outputs": [],
      "source": [
        "[x for x in dir(df_fruits) if not x.startswith('_') and not callable(x)]"
      ],
      "id": "484e4647"
    },
    {
      "cell_type": "code",
      "execution_count": 20,
      "metadata": {},
      "outputs": [],
      "source": [
        "import inspect\n",
        "\n",
        "# Get a list of methods\n",
        "membres = inspect.getmembers(df_fruits)\n",
        "\n",
        "method_names = [m[0] for m in membres \n",
        "    if callable(m[1]) and not m[0].startswith('_')]\n",
        "\n",
        "print(method_names)"
      ],
      "id": "d62e0fab"
    },
    {
      "cell_type": "code",
      "execution_count": 21,
      "metadata": {},
      "outputs": [],
      "source": [
        "others = [x for x in membres\n",
        "    if not callable(x[1])]\n",
        "\n",
        "[x[0] for x in others if not x[0].startswith('_')]"
      ],
      "id": "6689fc3f"
    },
    {
      "cell_type": "markdown",
      "metadata": {},
      "source": [
        "## Adding a column\n",
        "\n",
        "Ooooops, we forgot about the bananas !"
      ],
      "id": "9205e404-f462-4f9e-9b41-31b635205f55"
    },
    {
      "cell_type": "code",
      "execution_count": 22,
      "metadata": {},
      "outputs": [],
      "source": [
        "df_fruits[\"bananas\"] = [0, 2, 1, 6]\n",
        "df_fruits"
      ],
      "id": "2de5acb3"
    },
    {
      "cell_type": "markdown",
      "metadata": {},
      "source": [
        "## Adding a column with the date\n",
        "\n",
        "And we forgot the dates !"
      ],
      "id": "7c6a2bf6-1197-4809-882b-e90ffc7d354e"
    },
    {
      "cell_type": "code",
      "execution_count": 23,
      "metadata": {},
      "outputs": [],
      "source": [
        "df_fruits['time'] = [\n",
        "    \"2020/10/08 12:13\", \"2020/10/07 11:37\", \n",
        "    \"2020/10/10 14:07\", \"2020/10/09 10:51\"\n",
        "]\n",
        "df_fruits"
      ],
      "id": "e50e840f"
    },
    {
      "cell_type": "code",
      "execution_count": 24,
      "metadata": {},
      "outputs": [],
      "source": [
        "df_fruits.dtypes"
      ],
      "id": "103005d8"
    },
    {
      "cell_type": "code",
      "execution_count": 25,
      "metadata": {},
      "outputs": [],
      "source": [
        "type(df_fruits.loc[\"Roger\", \"time\"])"
      ],
      "id": "6801df7f"
    },
    {
      "cell_type": "markdown",
      "metadata": {},
      "source": [
        "It is not a date but a string (`str`) ! So we convert this column to\n",
        "something called `datetime`"
      ],
      "id": "32e3c37c-1143-4df8-ae83-b9e905006d01"
    },
    {
      "cell_type": "code",
      "execution_count": 26,
      "metadata": {},
      "outputs": [],
      "source": [
        "df_fruits[\"time\"] = pd.to_datetime(df_fruits[\"time\"])\n",
        "df_fruits"
      ],
      "id": "de6a6012"
    },
    {
      "cell_type": "code",
      "execution_count": 27,
      "metadata": {},
      "outputs": [],
      "source": [
        "df_fruits.dtypes"
      ],
      "id": "6a1db2d6"
    },
    {
      "cell_type": "markdown",
      "metadata": {},
      "source": [
        "> **Note**\n",
        ">\n",
        "> Every data science framework implements some `datetime` handling\n",
        "> scheme. For Python see [Python official documentation on `datetime`\n",
        "> module](https://docs.python.org/3/library/datetime.html#module-datetime)\n",
        "\n",
        "What if we want to keep only the baskets after (including) October, 9th\n",
        "?"
      ],
      "id": "bb117597-d3d2-46fb-adaf-384aa17a2a22"
    },
    {
      "cell_type": "code",
      "execution_count": 28,
      "metadata": {},
      "outputs": [],
      "source": [
        "df_fruits.loc[df_fruits[\"time\"] >= pd.Timestamp(\"2020/10/09\")]"
      ],
      "id": "3dc8f0af"
    },
    {
      "cell_type": "markdown",
      "metadata": {},
      "source": [
        "## Slices and subsets of rows or columns"
      ],
      "id": "da03819d-d0ac-4fea-9e60-da83686dc288"
    },
    {
      "cell_type": "code",
      "execution_count": 29,
      "metadata": {},
      "outputs": [],
      "source": [
        "df_fruits"
      ],
      "id": "9ac53f00"
    },
    {
      "cell_type": "code",
      "execution_count": 30,
      "metadata": {},
      "outputs": [],
      "source": [
        "df_fruits.loc[:, \"oranges\":\"time\"]"
      ],
      "id": "80162d4a"
    },
    {
      "cell_type": "code",
      "execution_count": 31,
      "metadata": {},
      "outputs": [],
      "source": [
        "df_fruits.loc[\"Daniel\":\"Sean\", \"apples\":\"bananas\"]"
      ],
      "id": "ae024371"
    },
    {
      "cell_type": "code",
      "execution_count": 32,
      "metadata": {},
      "outputs": [],
      "source": [
        "df_fruits[[\"apples\", \"time\"]]"
      ],
      "id": "06ec9583"
    },
    {
      "cell_type": "markdown",
      "metadata": {},
      "source": [
        "## Write our data to a CSV file\n",
        "\n",
        "What if we want to write the file ?"
      ],
      "id": "647a7ed3-d927-4150-bb5c-30d6498f137c"
    },
    {
      "cell_type": "code",
      "execution_count": 33,
      "metadata": {},
      "outputs": [],
      "source": [
        "df_fruits"
      ],
      "id": "4b790f37"
    },
    {
      "cell_type": "code",
      "execution_count": 34,
      "metadata": {},
      "outputs": [],
      "source": [
        "df_fruits.to_csv(\"fruits.csv\")"
      ],
      "id": "efecf3ea"
    },
    {
      "cell_type": "code",
      "execution_count": 35,
      "metadata": {},
      "outputs": [],
      "source": [
        "# Use !dir on windows\n",
        "!ls -alh | grep fru"
      ],
      "id": "c4eefc6c"
    },
    {
      "cell_type": "code",
      "execution_count": 36,
      "metadata": {},
      "outputs": [],
      "source": [
        "!head -n 5 fruits.csv"
      ],
      "id": "2ead65a6"
    },
    {
      "cell_type": "markdown",
      "metadata": {},
      "source": [
        "## Reading data and working with it\n",
        "\n",
        "> **Note**\n",
        ">\n",
        "> The `tips` dataset comes through\n",
        "> [Kaggle](https://www.kaggle.com/code/sanjanabasu/tips-dataset/input)\n",
        ">\n",
        "> > This dataset is a treasure trove of information from a collection of\n",
        "> > case studies for business statistics. Special thanks to Bryant and\n",
        "> > Smith for their diligent work:\n",
        ">\n",
        "> > Bryant, P. G. and Smith, M (1995) Practical Data Analysis: Case\n",
        "> > Studies in Business Statistics. Homewood, IL: Richard D. Irwin\n",
        "> > Publishing.\n",
        ">\n",
        "> > You can also access this dataset now through the Python package\n",
        "> > Seaborn.\n",
        "\n",
        "It contains data about a restaurant: the bill, tip and some informations\n",
        "about the customers.\n",
        "\n",
        "> **A toy extraction pattern**\n",
        ">\n",
        "> A data pipeline usually starts with Extraction, that is gathering data\n",
        "> from some source, possibly in a galaxy far, far awy. Here follows a\n",
        "> toy extraction pattern\n",
        ">\n",
        "> -   obtain the data from some `URL` using package `requests`\n",
        "> -   save the data on the hard drive\n",
        "> -   load the data using Pandas\n",
        ">\n",
        "> ``` python\n",
        "> import requests\n",
        "> import os\n",
        ">\n",
        "> # The path containing your notebook\n",
        "> path_data = './'\n",
        "> # The name of the file\n",
        "> filename = 'tips.csv'\n",
        ">\n",
        "> if os.path.exists(os.path.join(path_data, filename)):\n",
        ">     print('The file %s already exists.' % os.path.join(path_data, filename))\n",
        "> else:\n",
        ">     url = 'https://raw.githubusercontent.com/mwaskom/seaborn-data/refs/heads/master/tips.csv'\n",
        ">     r = requests.get(url)\n",
        ">     with open(os.path.join(path_data, filename), 'wb') as f:\n",
        ">         f.write(r.content)\n",
        ">     print('Downloaded file %s.' % os.path.join(path_data, filename))\n",
        "> ```\n",
        ">\n",
        "> ``` python\n",
        "> df = pd.read_csv(\n",
        ">     \"tips.csv\", \n",
        ">     delimiter=\",\"\n",
        "> )\n",
        "> ```\n",
        "\n",
        "The data can be obtained from package `seaborn`."
      ],
      "id": "945b20bc-91b6-461e-937b-a642748f4757"
    },
    {
      "cell_type": "code",
      "execution_count": 39,
      "metadata": {},
      "outputs": [],
      "source": [
        "import seaborn as sns\n",
        "\n",
        "sns_ds = sns.get_dataset_names()\n",
        "\n",
        "'tips' in sns_ds\n",
        "\n",
        "df = sns.load_dataset('tips')"
      ],
      "id": "a8cc17b9"
    },
    {
      "cell_type": "code",
      "execution_count": 40,
      "metadata": {},
      "outputs": [],
      "source": [
        "# `.head()` shows the first rows of the dataframe\n",
        "df.head(n=10)"
      ],
      "id": "e40f5ea2"
    },
    {
      "cell_type": "code",
      "execution_count": 41,
      "metadata": {},
      "outputs": [],
      "source": [
        "df.info()"
      ],
      "id": "00871375"
    },
    {
      "cell_type": "code",
      "execution_count": 42,
      "metadata": {},
      "outputs": [],
      "source": [
        "df.loc[42, \"day\"]"
      ],
      "id": "ab72731e"
    },
    {
      "cell_type": "code",
      "execution_count": 43,
      "metadata": {},
      "outputs": [],
      "source": [
        "type(df.loc[42, \"day\"])"
      ],
      "id": "2605e551"
    },
    {
      "cell_type": "markdown",
      "metadata": {},
      "source": [
        "By default, columns that are non-numerical contain strings (`str` type)\n",
        "\n",
        "## The `category` type\n",
        "\n",
        "An important type in `pandas` is `category` for variables that are\n",
        "**non-numerical**\n",
        "\n",
        "**Pro tip.** It’s always a good idea to tell `pandas` which columns\n",
        "should be imported as **categorical**\n",
        "\n",
        "So, let’s read again the file specifying some `dtype`s to the `read_csv`\n",
        "function"
      ],
      "id": "6c77058c-1dcb-4916-b6f5-bd460feaa5bc"
    },
    {
      "cell_type": "code",
      "execution_count": 44,
      "metadata": {},
      "outputs": [],
      "source": [
        "dtypes = {\n",
        "    \"sex\": \"category\",\n",
        "    \"smoker\": \"category\",\n",
        "    \"day\": \"category\",\n",
        "    \"time\": \"category\"\n",
        "} \n",
        "\n",
        "df = pd.read_csv(\"tips.csv\", dtype=dtypes)"
      ],
      "id": "93f9dcf4"
    },
    {
      "cell_type": "code",
      "execution_count": 45,
      "metadata": {},
      "outputs": [],
      "source": [
        "df.dtypes"
      ],
      "id": "405e81f7"
    },
    {
      "cell_type": "markdown",
      "metadata": {},
      "source": [
        "## Computing statistics"
      ],
      "id": "4be7c464-b95b-4f6f-9e68-0d16cc71d543"
    },
    {
      "cell_type": "code",
      "execution_count": 46,
      "metadata": {},
      "outputs": [],
      "source": [
        "# The describe method only shows statistics for the numerical columns by default\n",
        "df.describe()"
      ],
      "id": "a5e422a0"
    },
    {
      "cell_type": "code",
      "execution_count": 47,
      "metadata": {},
      "outputs": [],
      "source": [
        "# We use the include=\"all\" option to see everything\n",
        "df.describe(include=\"all\")"
      ],
      "id": "36f976a4"
    },
    {
      "cell_type": "code",
      "execution_count": 48,
      "metadata": {},
      "outputs": [],
      "source": [
        "# Correlation between the numerical columns\n",
        "df.corr(numeric_only = True)"
      ],
      "id": "55fdb1d0"
    },
    {
      "cell_type": "code",
      "execution_count": 49,
      "metadata": {},
      "outputs": [],
      "source": [
        "?df.corr"
      ],
      "id": "86460ea2"
    },
    {
      "cell_type": "markdown",
      "metadata": {},
      "source": [
        "# Data visualization with `matplotlib` and `seaborn`\n",
        "\n",
        "Let’s show how we can use `matplotlib` and `seaborn` to visualize data\n",
        "contained in a `pandas` dataframe"
      ],
      "id": "f0dc37ed-a29c-437f-ab54-280fcd668d53"
    },
    {
      "cell_type": "code",
      "execution_count": 50,
      "metadata": {},
      "outputs": [],
      "source": [
        "import matplotlib.pyplot as plt"
      ],
      "id": "698a335f"
    },
    {
      "cell_type": "markdown",
      "metadata": {},
      "source": [
        "## How do the tip depends on the total bill ?"
      ],
      "id": "729b7388-282e-4efa-a5b2-796b061fd15f"
    },
    {
      "cell_type": "code",
      "execution_count": 51,
      "metadata": {},
      "outputs": [],
      "source": [
        "sns.jointplot(x=\"total_bill\", y=\"tip\", data=df)"
      ],
      "id": "41757b64"
    },
    {
      "cell_type": "markdown",
      "metadata": {},
      "source": [
        "## When do customers go to this restaurant ?"
      ],
      "id": "3c3d3817-f57f-426d-bb3e-0c24e0100620"
    },
    {
      "cell_type": "code",
      "execution_count": 52,
      "metadata": {},
      "outputs": [],
      "source": [
        "sns.countplot(x='day', hue=\"time\", data=df)"
      ],
      "id": "a4e380ec"
    },
    {
      "cell_type": "markdown",
      "metadata": {},
      "source": [
        "## When do customers spend the most ?"
      ],
      "id": "fe03b089-815c-47af-b143-e25e4bc0683d"
    },
    {
      "cell_type": "code",
      "execution_count": 53,
      "metadata": {},
      "outputs": [],
      "source": [
        "plt.figure(figsize=(7, 5))\n",
        "sns.boxplot(x='day', y='total_bill', hue='time', data=df)\n",
        "plt.legend(loc=\"upper left\")"
      ],
      "id": "5de9a765"
    },
    {
      "cell_type": "code",
      "execution_count": 54,
      "metadata": {},
      "outputs": [],
      "source": [
        "plt.figure(figsize=(7, 5))\n",
        "sns.violinplot(x='day', y='total_bill', hue='time', split=True, data=df)\n",
        "plt.legend(loc=\"upper left\")"
      ],
      "id": "d16d4e50"
    },
    {
      "cell_type": "markdown",
      "metadata": {},
      "source": [
        "## Who spends the most ?"
      ],
      "id": "9f5b7a41-fd46-4dc6-8551-481157ee834d"
    },
    {
      "cell_type": "code",
      "execution_count": 55,
      "metadata": {},
      "outputs": [],
      "source": [
        "sns.boxplot(x='sex', y='total_bill', hue='smoker', data=df)"
      ],
      "id": "76e05aae"
    },
    {
      "cell_type": "markdown",
      "metadata": {},
      "source": [
        "## When should waiters want to work ?"
      ],
      "id": "214437b8-9590-43b6-bfb2-6231a9d60580"
    },
    {
      "cell_type": "code",
      "execution_count": 56,
      "metadata": {},
      "outputs": [],
      "source": [
        "sns.boxplot(x='day', y='tip', hue='time', data=df)"
      ],
      "id": "03987b88"
    },
    {
      "cell_type": "code",
      "execution_count": 57,
      "metadata": {},
      "outputs": [],
      "source": [
        "sns.violinplot(x='day', y='tip', hue='time', data=df)"
      ],
      "id": "c7262cc4"
    },
    {
      "cell_type": "markdown",
      "metadata": {},
      "source": [
        "# Data processing with `pandas`\n",
        "\n",
        "Let us read again the `tips.csv` file"
      ],
      "id": "b984f930-1366-4661-a0a2-0f32b1308676"
    },
    {
      "cell_type": "code",
      "execution_count": 58,
      "metadata": {},
      "outputs": [],
      "source": [
        "import pandas as pd\n",
        "\n",
        "dtypes = {\n",
        "    \"sex\": \"category\",\n",
        "    \"smoker\": \"category\",\n",
        "    \"day\": \"category\",\n",
        "    \"time\": \"category\"\n",
        "} \n",
        "\n",
        "df = pd.read_csv(\"tips.csv\", dtype=dtypes)\n",
        "df.head()"
      ],
      "id": "544b41cf"
    },
    {
      "cell_type": "markdown",
      "metadata": {},
      "source": [
        "## Computations using `pandas` : broadcasting\n",
        "\n",
        "Let’s add a column that contains the tip percentage"
      ],
      "id": "f0a20db7-f8e5-47db-b843-f0d1bfa4aae8"
    },
    {
      "cell_type": "code",
      "execution_count": 59,
      "metadata": {},
      "outputs": [],
      "source": [
        "df[\"tip_percentage\"] = df[\"tip\"] / df[\"total_bill\"]\n",
        "df.head()"
      ],
      "id": "ae1259ba"
    },
    {
      "cell_type": "markdown",
      "metadata": {},
      "source": [
        "The computation\n",
        "\n",
        "```` markdown\n",
        "```{python}\n",
        "df[\"tip\"] / df[\"total_bill\"]\n",
        "```\n",
        "````\n",
        "\n",
        "uses a **broadcast** rule.\n",
        "\n",
        "-   We can multiply, add, subtract, etc. together `numpy` arrays,\n",
        "    `Series` or `pandas` dataframes when the computation **makes sense**\n",
        "    in view of their respective **shape**\n",
        "\n",
        "This principle is called **broadcast** or **broadcasting**.\n",
        "\n",
        "> **Note**\n",
        ">\n",
        "> Broadcasting is a key feature of `numpy` `ndarray`, see\n",
        ">\n",
        "> -   [Numpy User’s\n",
        ">     guide](https://numpy.org/doc/stable/user/basics.broadcasting.html)\n",
        "> -   [Pandas\n",
        ">     book](https://wesmckinney.com/book/advanced-numpy.html#numpy_broadcasting)"
      ],
      "id": "676d8f8b-f804-46a0-a250-65b76983628e"
    },
    {
      "cell_type": "code",
      "execution_count": 60,
      "metadata": {},
      "outputs": [],
      "source": [
        "df[\"tip\"].shape, df[\"total_bill\"].shape"
      ],
      "id": "53ac0f0a"
    },
    {
      "cell_type": "markdown",
      "metadata": {},
      "source": [
        "The `tip` and `total_bill`columns have the same `shape`, so broadcasting\n",
        "performs **pairwise division**.\n",
        "\n",
        "This corresponds to the following “hand-crafted” approach with a `for`\n",
        "loop:"
      ],
      "id": "90666877-e300-4b57-9b39-032421c77e45"
    },
    {
      "cell_type": "code",
      "execution_count": 61,
      "metadata": {},
      "outputs": [],
      "source": [
        "for i in range(df.shape[0]):\n",
        "    df.loc[i, \"tip_percentage\"] = df.loc[i, \"tip\"] / df.loc[i, \"total_bill\"]"
      ],
      "id": "7e7fda09"
    },
    {
      "cell_type": "markdown",
      "metadata": {},
      "source": [
        "But using such a loop is:\n",
        "\n",
        "-   longer to write\n",
        "-   less readable\n",
        "-   prone to mistakes\n",
        "-   and *slower* :(\n",
        "\n",
        "*NEVER* use `Python` for-loops unless you need to !"
      ],
      "id": "af4c9f0d-a230-4261-aa80-2f87a6d46efb"
    },
    {
      "cell_type": "code",
      "execution_count": 62,
      "metadata": {},
      "outputs": [],
      "source": [
        "%%timeit -n 10\n",
        "for i in range(df.shape[0]):\n",
        "    df.loc[i, \"tip_percentage\"] = df.loc[i, \"tip\"] / df.loc[i, \"total_bill\"]"
      ],
      "id": "585fe2e9"
    },
    {
      "cell_type": "code",
      "execution_count": 63,
      "metadata": {},
      "outputs": [],
      "source": [
        "%%timeit -n 10\n",
        "df[\"tip_percentage\"] = df[\"tip\"] / df[\"total_bill\"]"
      ],
      "id": "f05b0f4c"
    },
    {
      "cell_type": "markdown",
      "metadata": {},
      "source": [
        "The `for` loop is $\\approx$ **100 times slower** ! (even worse on larger\n",
        "data)\n",
        "\n",
        "### Pitfall. Changing values in a `DataFrame`\n",
        "\n",
        "When you want to change a value in a `DataFrame`, never use\n",
        "\n",
        "``` python\n",
        "df[\"tip_percentage\"].loc[i] = 42\n",
        "```\n",
        "\n",
        "but use\n",
        "\n",
        "``` python\n",
        "df.loc[i, \"tip_percentage\"] = 42\n",
        "```\n",
        "\n",
        "> **Caution**\n",
        ">\n",
        "> Use a **single** `loc` or `iloc` statement. The first version **might\n",
        "> not work**: it might modify a copy of the column and not the dataframe\n",
        "> itself !\n",
        "\n",
        "Another example of broadcasting is:"
      ],
      "id": "6b026512-0d77-48f0-a42b-82c373fe0468"
    },
    {
      "cell_type": "code",
      "execution_count": 64,
      "metadata": {},
      "outputs": [],
      "source": [
        "(100 * df[[\"tip_percentage\"]]).head()"
      ],
      "id": "d873e407"
    },
    {
      "cell_type": "markdown",
      "metadata": {},
      "source": [
        "where we multiplied **each entry** of the `tip_percentage` column by\n",
        "100.\n",
        "\n",
        "> **Remark**\n",
        ">\n",
        "> Note the difference between\n",
        ">\n",
        "> ``` python\n",
        "> df[['tip_percentage']]\n",
        "> ```\n",
        ">\n",
        "> which returns a `DataFrame` containing only the `tip_percentage`\n",
        "> column and\n",
        ">\n",
        "> ``` python\n",
        "> df['tip_percentage']\n",
        "> ```\n",
        ">\n",
        "> which returns a `Series` containing the data of the `tip_percentage`\n",
        "> column\n",
        "\n",
        "## Some more plots\n",
        "\n",
        "### How do the tip percentages relates to the total bill ?"
      ],
      "id": "769df89a-56f1-4ae6-a776-51aa1c4449f0"
    },
    {
      "cell_type": "code",
      "execution_count": 65,
      "metadata": {},
      "outputs": [],
      "source": [
        "sns.jointplot(\n",
        "    x=\"total_bill\", \n",
        "    y=\"tip_percentage\", \n",
        "    data=df\n",
        ")"
      ],
      "id": "29fc9e86"
    },
    {
      "cell_type": "markdown",
      "metadata": {},
      "source": [
        "### Who tips best ?"
      ],
      "id": "fe628573-daf3-4810-8e51-573cf067b617"
    },
    {
      "cell_type": "code",
      "execution_count": 66,
      "metadata": {},
      "outputs": [],
      "source": [
        "sns.boxplot(\n",
        "    x='sex', \n",
        "    y='tip_percentage', \n",
        "    hue='smoker', \n",
        "    data=df\n",
        ")"
      ],
      "id": "1d73d640"
    },
    {
      "cell_type": "markdown",
      "metadata": {},
      "source": [
        "### Who tips best without the `tip_percentage` outliers ?"
      ],
      "id": "56628eb7-c7db-4c8a-b4c0-69f9ec7153bc"
    },
    {
      "cell_type": "code",
      "execution_count": 67,
      "metadata": {},
      "outputs": [],
      "source": [
        "sns.boxplot(\n",
        "    x='sex', \n",
        "    y='tip_percentage', \n",
        "    hue='smoker', \n",
        "    data=df.loc[df[\"tip_percentage\"] <= 0.3]\n",
        ")"
      ],
      "id": "ff81165d"
    },
    {
      "cell_type": "markdown",
      "metadata": {},
      "source": [
        "Object identity"
      ],
      "id": "3ab2afbe-3e4d-4183-a919-c11982a4cd62"
    },
    {
      "cell_type": "code",
      "execution_count": 68,
      "metadata": {},
      "outputs": [],
      "source": [
        "id(df)"
      ],
      "id": "cfa22e63"
    },
    {
      "cell_type": "markdown",
      "metadata": {},
      "source": [
        "## The all-mighty `groupby` and `aggregate`\n",
        "\n",
        "Many computations can be formulated as a **groupby** followed by and\n",
        "**aggregation**.\n",
        "\n",
        "### What is the mean `tip` and `tip percentage` each day ?"
      ],
      "id": "24190fbb-6921-4a45-87e8-3327bd37dca9"
    },
    {
      "cell_type": "code",
      "execution_count": 69,
      "metadata": {},
      "outputs": [],
      "source": [
        "df.head()"
      ],
      "id": "bce28a2d"
    },
    {
      "cell_type": "code",
      "execution_count": 70,
      "metadata": {},
      "outputs": [],
      "source": [
        "try:\n",
        "\n",
        "    df.groupby(\"day\", observed=True).mean()\n",
        "except TypeError:\n",
        "    print('TypeError: category dtype does not support aggregation \"mean\"')"
      ],
      "id": "13d6162e"
    },
    {
      "cell_type": "markdown",
      "metadata": {},
      "source": [
        "But we do not care about the `size` column here, so we can use instead"
      ],
      "id": "218b3d92-332d-41ec-ba1e-a6766d5258e3"
    },
    {
      "cell_type": "code",
      "execution_count": 71,
      "metadata": {},
      "outputs": [],
      "source": [
        "(\n",
        "    df[[\"total_bill\", \"tip\", \"tip_percentage\", \"day\"]]\n",
        "        .groupby(\"day\")\n",
        "        .mean()\n",
        ")"
      ],
      "id": "ff8b95d8"
    },
    {
      "cell_type": "markdown",
      "metadata": {},
      "source": [
        "If we want to be more precise, we can `groupby` using several columns"
      ],
      "id": "bf0ffa6c-42de-40e0-bfa6-e8a602d23d4f"
    },
    {
      "cell_type": "code",
      "execution_count": 72,
      "metadata": {},
      "outputs": [],
      "source": [
        "(\n",
        "    df[[\"total_bill\", \"tip\", \"tip_percentage\", \"day\", \"time\"]]   # selection\n",
        "        .groupby([\"day\",\"time\"])                                # partition\n",
        "        .mean()                                                  # aggregation\n",
        ")"
      ],
      "id": "85291011"
    },
    {
      "cell_type": "markdown",
      "metadata": {},
      "source": [
        "> **Remarks**\n",
        ">\n",
        "> -   We obtain a `DataFrame` with a two-level indexing: on the `day`\n",
        ">     and the `time`\n",
        "> -   Groups must be homogeneous: we have `NaN` values for empty groups\n",
        ">     (e.g. `Sat`, `Lunch`)\n",
        "\n",
        "### Pro tip\n",
        "\n",
        "Sometimes, it is more convenient to get the groups as columns instead of\n",
        "a multi-level index.\n",
        "\n",
        "For this, use `reset_index`:"
      ],
      "id": "4c959485-5cfc-4ae3-bfd5-632cb6780ef9"
    },
    {
      "cell_type": "code",
      "execution_count": 73,
      "metadata": {},
      "outputs": [],
      "source": [
        "(\n",
        "    df[[\"total_bill\", \"tip\", \"tip_percentage\", \"day\", \"time\"]]   # selection\n",
        "        .groupby([\"day\", \"time\"])                                # partition\n",
        "        .mean() # aggregation\n",
        "        .reset_index()   # ako ungroup\n",
        ")"
      ],
      "id": "168017f1"
    },
    {
      "cell_type": "markdown",
      "metadata": {},
      "source": [
        "### Another pro tip: care about code readers\n",
        "\n",
        "Computations with pandas can include many operations that are\n",
        "**pipelined** until the final computation.\n",
        "\n",
        "Pipelining many operations is good practice and perfectly normal, but in\n",
        "order to make the code readable you can put it between parenthesis\n",
        "(`python` expression) as follows:"
      ],
      "id": "ff27a7bd-9101-440e-882b-24bc772f31ab"
    },
    {
      "cell_type": "code",
      "execution_count": 74,
      "metadata": {},
      "outputs": [],
      "source": [
        "(\n",
        "    df[[\"total_bill\", \"tip\", \"tip_percentage\", \"day\", \"time\"]]\n",
        "    .groupby([\"day\", \"time\"])\n",
        "    .mean()\n",
        "    .reset_index()\n",
        "    # and on top of all this we sort the dataframe with respect \n",
        "    # to the tip_percentage\n",
        "    .sort_values(\"tip_percentage\")\n",
        ")"
      ],
      "id": "6ba85275"
    },
    {
      "cell_type": "markdown",
      "metadata": {},
      "source": [
        "## Displaying a `DataFrame` with `style`\n",
        "\n",
        "Now, we can answer, with style, to the question: what are the average\n",
        "tip percentages along the week ?"
      ],
      "id": "61172211-5603-4bc6-8a6a-db211a5ec6c1"
    },
    {
      "cell_type": "code",
      "execution_count": 75,
      "metadata": {},
      "outputs": [],
      "source": [
        "(\n",
        "    df[[\"tip_percentage\", \"day\", \"time\"]]\n",
        "    .groupby([\"day\", \"time\"])\n",
        "    .mean()\n",
        "    # At the end of the pipeline you can use .style\n",
        "    .style\n",
        "    # Print numerical values as percentages \n",
        "    .format(\"{:.2%}\")\n",
        "    .background_gradient()\n",
        ")"
      ],
      "id": "a1ba7969"
    },
    {
      "cell_type": "markdown",
      "metadata": {},
      "source": [
        "## Removing the `NaN` values\n",
        "\n",
        "But the `NaN` values are somewhat annoying. Let’s remove them"
      ],
      "id": "d57c8b8c-1c44-41fc-8538-f86c11d7d0a5"
    },
    {
      "cell_type": "code",
      "execution_count": 76,
      "metadata": {},
      "outputs": [],
      "source": [
        "(\n",
        "    df[[\"tip_percentage\", \"day\", \"time\"]]\n",
        "    .groupby([\"day\", \"time\"])\n",
        "    .mean()\n",
        "    # We just add this from the previous pipeline\n",
        "    .dropna()\n",
        "    .style\n",
        "    .format(\"{:.2%}\")\n",
        "    .background_gradient()\n",
        ")"
      ],
      "id": "953948f4"
    },
    {
      "cell_type": "markdown",
      "metadata": {},
      "source": [
        "Now, we see when `tip_percentage` is maximal. But what about the\n",
        "standard deviation?\n",
        "\n",
        "-   We used only `.mean()` for now, but we can use several aggregating\n",
        "    function using `.agg()`"
      ],
      "id": "ef5ccffe-d563-4865-b9cd-e8f195936dcf"
    },
    {
      "cell_type": "code",
      "execution_count": 77,
      "metadata": {},
      "outputs": [],
      "source": [
        "(\n",
        "    df[[\"tip_percentage\", \"day\", \"time\"]]\n",
        "    .groupby([\"day\", \"time\"])\n",
        "    .agg([\"mean\", \"std\"])   # we feed `agg`  with a list of names of callables \n",
        "    .dropna()\n",
        "    .style\n",
        "    .format(\"{:.2%}\")\n",
        "    .background_gradient()\n",
        ")"
      ],
      "id": "37dc8d8a"
    },
    {
      "cell_type": "markdown",
      "metadata": {},
      "source": [
        "And we can use also `.describe()` as aggregation function. Moreover we -\n",
        "use the `subset` option to specify which column we want to style - we\n",
        "use `(\"tip_percentage\", \"count\")` to access multi-level index"
      ],
      "id": "410b5fa3-748f-4a85-a9fd-ff717137e6a6"
    },
    {
      "cell_type": "code",
      "execution_count": 78,
      "metadata": {},
      "outputs": [],
      "source": [
        "(\n",
        "    df[[\"tip_percentage\", \"day\", \"time\"]]\n",
        "    .groupby([\"day\", \"time\"])\n",
        "    .describe()    # all-purpose summarising function\n",
        ")"
      ],
      "id": "640db6c1"
    },
    {
      "cell_type": "code",
      "execution_count": 79,
      "metadata": {},
      "outputs": [],
      "source": [
        "(\n",
        "    df[[\"tip_percentage\", \"day\", \"time\"]]\n",
        "    .groupby([\"day\", \"time\"])\n",
        "    .describe()\n",
        "    .dropna()\n",
        "    .style\n",
        "    .bar(subset=[(\"tip_percentage\", \"count\")])\n",
        "    .background_gradient(subset=[(\"tip_percentage\", \"50%\")])\n",
        ")"
      ],
      "id": "65a939d6"
    },
    {
      "cell_type": "markdown",
      "metadata": {},
      "source": [
        "## Supervised learning of `tip` based on the `total_bill`\n",
        "\n",
        "As an example of very simple **machine-learning** problem, let us try to\n",
        "understand how we can predict `tip` based on `total_bill`."
      ],
      "id": "a9b49477-4b67-4e82-98cb-a08f67127def"
    },
    {
      "cell_type": "code",
      "execution_count": 80,
      "metadata": {},
      "outputs": [],
      "source": [
        "import numpy as np\n",
        "\n",
        "plt.scatter(df[\"total_bill\"], df[\"tip\"])\n",
        "plt.xlabel(\"total_bill\", fontsize=12)\n",
        "plt.ylabel(\"tip\", fontsize=12)"
      ],
      "id": "7a016313"
    },
    {
      "cell_type": "markdown",
      "metadata": {},
      "source": [
        "There’s a rough **linear** dependence between the two. Let us try to\n",
        "find it by hand!<br> Namely, we look for numbers $b$ and $w$ such that\n",
        "\n",
        "    tip ≈ b + w × total_bill\n",
        "\n",
        "for all the examples of pairs of `(tip, total_bill)` we observe in the\n",
        "data.\n",
        "\n",
        "In **machine learning**, we say that this is a very simple example of a\n",
        "**supervised learning** problem (here it is a regression problem), where\n",
        "`tip` is the **label** and where `total_bill` is the (only) **feature**,\n",
        "for which we intend to use a **linear predictor**."
      ],
      "id": "efcfcc91-1d02-43e3-8930-f8ced34a5a49"
    },
    {
      "cell_type": "code",
      "execution_count": 81,
      "metadata": {},
      "outputs": [],
      "source": [
        "plt.scatter(df[\"total_bill\"], df[\"tip\"])\n",
        "plt.xlabel(\"total_bill\", fontsize=12)\n",
        "plt.ylabel(\"tip\", fontsize=12)\n",
        "\n",
        "slope = 1.0\n",
        "intercept = 0.0\n",
        "\n",
        "x = np.linspace(0, 50, 1000)\n",
        "plt.plot(x, intercept + slope * x, color=\"red\")"
      ],
      "id": "d05dfa40"
    },
    {
      "cell_type": "markdown",
      "metadata": {},
      "source": [
        "### A more interactive way\n",
        "\n",
        "This might require"
      ],
      "id": "3dab7359-17b0-47e7-b004-2268a4712463"
    },
    {
      "cell_type": "code",
      "execution_count": 82,
      "metadata": {},
      "outputs": [],
      "source": [
        "# !pip install ipympl"
      ],
      "id": "f86f3feb"
    },
    {
      "cell_type": "code",
      "execution_count": 83,
      "metadata": {},
      "outputs": [],
      "source": [
        "import ipywidgets as widgets\n",
        "import matplotlib.pyplot as plt\n",
        "import numpy as np\n",
        "\n",
        "%matplotlib widget\n",
        "%matplotlib inline\n",
        "\n",
        "x = np.linspace(0, 50, 1000)\n",
        "\n",
        "@widgets.interact(intercept=(-5, 5, 1.), slope=(0, 1, .05))\n",
        "def update(intercept=0.0, slope=0.5):\n",
        "    plt.scatter(df[\"total_bill\"], df[\"tip\"])\n",
        "    plt.plot(x, intercept + slope * x, color=\"red\")\n",
        "    plt.xlim((0, 50))\n",
        "    plt.ylim((0, 10))\n",
        "    plt.xlabel(\"total_bill\", fontsize=12)\n",
        "    plt.ylabel(\"tip\", fontsize=12)"
      ],
      "id": "17709384"
    },
    {
      "cell_type": "markdown",
      "metadata": {},
      "source": [
        "This is kind of tedious to do this by hand… it would be nice to come up\n",
        "with an **automated** way of doing this. Moreover:\n",
        "\n",
        "-   We are using a **linear** function, while something more complicated\n",
        "    (such as a polynomial) might be better\n",
        "-   More importantly, we use **only** the `total_bill` column to predict\n",
        "    the `tip`, while we know about many other things"
      ],
      "id": "7cf7ae56-c3e6-4027-a022-3d56908b8bc0"
    },
    {
      "cell_type": "code",
      "execution_count": 84,
      "metadata": {},
      "outputs": [],
      "source": [
        "df.head()"
      ],
      "id": "063859f7"
    },
    {
      "cell_type": "markdown",
      "metadata": {},
      "source": [
        "## One-hot encoding of categorical variables\n",
        "\n",
        "We can’t perform computations (products and sums) with columns\n",
        "containing **categorical** variables. So, we can’t use them like this to\n",
        "predict the `tip`. We need to **convert** them to numbers somehow.\n",
        "\n",
        "The most classical approach for this is **one-hot encoding** (or “create\n",
        "dummies” or “binarize”) of the categorical variables, which can be\n",
        "easily achieved with `pandas.get_dummies`\n",
        "\n",
        "Why *one-hot* ? See [wikipedia](https://en.wikipedia.org/wiki/One-hot)\n",
        "for a plausible explanation"
      ],
      "id": "66ee8019-c229-4c9d-a8dd-3e6c91a41c53"
    },
    {
      "cell_type": "code",
      "execution_count": 85,
      "metadata": {},
      "outputs": [],
      "source": [
        "df_one_hot = pd.get_dummies(df, prefix_sep='#')\n",
        "df_one_hot.head(5)"
      ],
      "id": "2d42e481"
    },
    {
      "cell_type": "markdown",
      "metadata": {},
      "source": [
        "Only the categorical columns have been one-hot encoded. For instance,\n",
        "the `\"day\"` column is replaced by 4 columns named `\"day#Thur\"`,\n",
        "`\"day#Fri\"`, `\"day#Sat\"`, `\"day#Sun\"`, since `\"day\"` has 4 modalities\n",
        "(see next line)."
      ],
      "id": "d3164124-81ba-4b2b-8cef-23d08a1c4e65"
    },
    {
      "cell_type": "code",
      "execution_count": 86,
      "metadata": {},
      "outputs": [],
      "source": [
        "df['day'].unique()"
      ],
      "id": "4af000d0"
    },
    {
      "cell_type": "code",
      "execution_count": 87,
      "metadata": {},
      "outputs": [],
      "source": [
        "df_one_hot.dtypes"
      ],
      "id": "4d9d9f7f"
    },
    {
      "cell_type": "markdown",
      "metadata": {},
      "source": [
        "## Pitfall. Colinearities with one-hot encoding\n",
        "\n",
        "Sums over dummies for `sex`, `smoker`, `day`, `time` and `size` are all\n",
        "equal to one (by constrution of the one-hot encoded vectors).\n",
        "\n",
        "-   Leads to **colinearities** in the matrix of features\n",
        "-   It is **much harder** to train a linear regressor when the columns\n",
        "    of the features matrix has colinearities"
      ],
      "id": "f9fdac40-0aa5-4950-aeaa-59f865a0e0e3"
    },
    {
      "cell_type": "code",
      "execution_count": 88,
      "metadata": {},
      "outputs": [],
      "source": [
        "day_cols = [col for col in df_one_hot.columns if col.startswith(\"day\")]\n",
        "df_one_hot[day_cols].head()\n",
        "df_one_hot[day_cols].sum(axis=1)"
      ],
      "id": "e0027bee"
    },
    {
      "cell_type": "code",
      "execution_count": 89,
      "metadata": {},
      "outputs": [],
      "source": [
        "all(df_one_hot[day_cols].sum(axis=1) == 1)"
      ],
      "id": "7e16b08e"
    },
    {
      "cell_type": "markdown",
      "metadata": {},
      "source": [
        "The most standard solution is to remove a modality (i.e. remove a\n",
        "one-hot encoding vector). Simply achieved by specifying\n",
        "`drop_first=True` in the `get_dummies` function."
      ],
      "id": "179d5ff0-71c4-42e6-938b-307c73ca2f23"
    },
    {
      "cell_type": "code",
      "execution_count": 90,
      "metadata": {},
      "outputs": [],
      "source": [
        "df[\"day\"].unique()"
      ],
      "id": "ffdf2a23"
    },
    {
      "cell_type": "code",
      "execution_count": 91,
      "metadata": {},
      "outputs": [],
      "source": [
        "pd.get_dummies(df, prefix_sep='#', drop_first=True).head()"
      ],
      "id": "98d10bb2"
    },
    {
      "cell_type": "markdown",
      "metadata": {},
      "source": [
        "Now, if a categorical feature has $K$ modalities, we use only $K-1$\n",
        "dummies. For instance, there is no more `sex#Female` binary column.\n",
        "\n",
        "**Question.** So, a linear regression won’t fit a weight for\n",
        "`sex#Female`. But, where do the model weights of the dropped binary\n",
        "columns go ?\n",
        "\n",
        "**Answer.** They just “go” to the **intercept**: interpretation of the\n",
        "population bias depends on the “dropped” one-hot encodings.\n",
        "\n",
        "So, we actually fit:\n",
        "$$\\begin{array}{rl} \\texttt{tip} \\approx b & + w_1 \\times \\texttt{total_bill} + w_2 \\times \\texttt{size} \\\\ & + w_3 \\times \\texttt{sex#Male} + w_4 \\times \\texttt{smoker#Yes} \\\\ & + w_5 \\times \\texttt{day#Sat} + w_6 \\times \\texttt{day#Sun} + w_7 \\times \\texttt{day#Thur} \\\\ & + w_8 \\times \\texttt{time#Lunch} \\end{array}$$"
      ],
      "id": "67148238-307b-4a10-84fb-ea3a808fc699"
    }
  ],
  "nbformat": 4,
  "nbformat_minor": 5,
  "metadata": {
    "kernelspec": {
      "name": "python3",
      "display_name": "Python 3 (ipykernel)",
      "language": "python",
      "path": "/usr/share/jupyter/kernels/python3"
    },
    "language_info": {
      "name": "python",
      "codemirror_mode": {
        "name": "ipython",
        "version": "3"
      },
      "file_extension": ".py",
      "mimetype": "text/x-python",
      "nbconvert_exporter": "python",
      "pygments_lexer": "ipython3",
      "version": "3.12.3"
    }
  }
}