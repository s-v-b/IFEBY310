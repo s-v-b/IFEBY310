{
  "cells": [
    {
      "cell_type": "markdown",
      "metadata": {},
      "source": [
        "# Introduction to `pandas`\n",
        "\n",
        "The `pandas` library (https://pandas.pydata.org) is one of the most used\n",
        "tool at the disposal of people working with data in `python` today.\n",
        "\n",
        "-   It allows to **crunch data** easily\n",
        "-   It mainly provides a `DataFrame` object (a **table of data**) with a\n",
        "    huge set of functionalities\n",
        "\n",
        "## Why ?\n",
        "\n",
        "Through `pandas`, you get acquainted with your data by **analyzing** it\n",
        "\n",
        "-   What’s the average, median, max, or min of each column?\n",
        "-   Does column A correlate with column B?\n",
        "-   What does the distribution of data in column C look like?\n",
        "\n",
        "## Why (con’t) ?\n",
        "\n",
        "you get acquainted with your data by **cleaning** and **transforming**\n",
        "it\n",
        "\n",
        "-   Removing missing values, filter rows or columns using some criteria\n",
        "-   Store the cleaned, transformed data back into virtually any format\n",
        "    or database\n",
        "-   Data visualization (when combined `matplotlib` or `seaborn` or\n",
        "    others)\n",
        "\n",
        "## Where ?\n",
        "\n",
        "`pandas` is a central component of the `python` “stack” for data science\n",
        "\n",
        "-   `pandas` is built on top of `numpy`\n",
        "-   often used in conjunction with other libraries\n",
        "-   a `DataFrame` is often fed to plotting functions or machine learning\n",
        "    algorithms (such as `scikit-learn`)\n",
        "-   Well-interfaced with `jupyter`, leading to a nice interactive\n",
        "    environment for data exploration and modeling\n",
        "\n",
        "## Core components of pandas\n",
        "\n",
        "The two primary components of pandas are the `Series` and `DataFrame`.\n",
        "\n",
        "-   A `Series` is essentially a column\n",
        "\n",
        "-   A `DataFrame` is a multi-dimensional table made up of a collection\n",
        "    of `Series` with equal length\n",
        "\n",
        "## Creating a `DataFrame` from scratch"
      ],
      "id": "9770bf00-9fa8-4010-8a8d-e3156e1aa96c"
    },
    {
      "cell_type": "code",
      "execution_count": 1,
      "metadata": {},
      "outputs": [],
      "source": [
        "import pandas as pd\n",
        "\n",
        "fruits = {\n",
        "    \"apples\": [3, 2, 0, 1],\n",
        "    \"oranges\": [0, 3, 7, 2]\n",
        "}\n",
        "\n",
        "df_fruits = pd.DataFrame(fruits)\n",
        "df_fruits"
      ],
      "id": "5868779e"
    },
    {
      "cell_type": "code",
      "execution_count": 2,
      "metadata": {},
      "outputs": [],
      "source": [
        "type(df_fruits)"
      ],
      "id": "dcd448c8"
    },
    {
      "cell_type": "code",
      "execution_count": 3,
      "metadata": {},
      "outputs": [],
      "source": [
        "df_fruits[\"apples\"]"
      ],
      "id": "c19536c6"
    },
    {
      "cell_type": "code",
      "execution_count": 4,
      "metadata": {},
      "outputs": [],
      "source": [
        "type(df_fruits[\"apples\"])"
      ],
      "id": "04ae8a27"
    },
    {
      "cell_type": "markdown",
      "metadata": {},
      "source": [
        "## Indexing\n",
        "\n",
        "-   By default, a `DataFrame` uses a contiguous index\n",
        "-   But what if we want to say **who** buys the fruits ?"
      ],
      "id": "585132eb-3484-4db0-ad20-657c090763f7"
    },
    {
      "cell_type": "code",
      "execution_count": 5,
      "metadata": {},
      "outputs": [],
      "source": [
        "df_fruits = pd.DataFrame(fruits, index=[\"Daniel\", \"Sean\", \"Pierce\", \"Roger\"])\n",
        "df_fruits"
      ],
      "id": "55d53a93"
    },
    {
      "cell_type": "markdown",
      "metadata": {},
      "source": [
        "## `.loc` versus `.iloc`\n",
        "\n",
        "-   `.loc` **loc**ates by name\n",
        "-   `.iloc` **loc**ates by numerical **i**ndex"
      ],
      "id": "cd3666d6-9240-4690-a484-0447b26764e1"
    },
    {
      "cell_type": "code",
      "execution_count": 6,
      "metadata": {},
      "outputs": [],
      "source": [
        "df_fruits"
      ],
      "id": "c0638949"
    },
    {
      "cell_type": "code",
      "execution_count": 7,
      "metadata": {},
      "outputs": [],
      "source": [
        "# What's in Sean's basket ?\n",
        "df_fruits.loc['Sean']"
      ],
      "id": "02a861f3"
    },
    {
      "cell_type": "code",
      "execution_count": 8,
      "metadata": {},
      "outputs": [],
      "source": [
        "# Who has oranges ?\n",
        "df_fruits.loc[:, 'oranges']"
      ],
      "id": "d18b2f8c"
    },
    {
      "cell_type": "code",
      "execution_count": 9,
      "metadata": {},
      "outputs": [],
      "source": [
        "# How many apples in Pierce's basket ?\n",
        "df_fruits.loc['Pierce', 'apples']"
      ],
      "id": "c121119d"
    },
    {
      "cell_type": "code",
      "execution_count": 10,
      "metadata": {},
      "outputs": [],
      "source": [
        "df_fruits"
      ],
      "id": "d29ddf4d"
    },
    {
      "cell_type": "code",
      "execution_count": 11,
      "metadata": {},
      "outputs": [],
      "source": [
        "df_fruits.iloc[2, 1]"
      ],
      "id": "959070de"
    },
    {
      "cell_type": "markdown",
      "metadata": {},
      "source": [
        "## Main attributes and methods of a `DataFrame`\n",
        "\n",
        "A `DataFrame` has many **attributes**"
      ],
      "id": "c9102d49-3d11-4a00-8c61-2f4874bbf3f1"
    },
    {
      "cell_type": "code",
      "execution_count": 12,
      "metadata": {},
      "outputs": [],
      "source": [
        "df_fruits.columns"
      ],
      "id": "ab9bcde9"
    },
    {
      "cell_type": "code",
      "execution_count": 13,
      "metadata": {},
      "outputs": [],
      "source": [
        "df_fruits.index"
      ],
      "id": "ec5b4ae1"
    },
    {
      "cell_type": "code",
      "execution_count": 14,
      "metadata": {},
      "outputs": [],
      "source": [
        "df_fruits.dtypes"
      ],
      "id": "d8f0f183"
    },
    {
      "cell_type": "markdown",
      "metadata": {},
      "source": [
        "A `DataFrame` has many **methods**"
      ],
      "id": "f366ebd5-2b89-4f4b-aa9c-16e9485a4f46"
    },
    {
      "cell_type": "code",
      "execution_count": 15,
      "metadata": {},
      "outputs": [],
      "source": [
        "df_fruits.info()"
      ],
      "id": "799f11ef"
    },
    {
      "cell_type": "code",
      "execution_count": 16,
      "metadata": {},
      "outputs": [],
      "source": [
        "df_fruits.describe()"
      ],
      "id": "1eb7e99f"
    },
    {
      "cell_type": "markdown",
      "metadata": {},
      "source": [
        "## Missing values\n",
        "\n",
        "What if we don’t know how many apples are in Sean’s basket ?"
      ],
      "id": "34379912-82de-4739-9166-ec839b30cfd5"
    },
    {
      "cell_type": "code",
      "execution_count": 17,
      "metadata": {},
      "outputs": [],
      "source": [
        "df_fruits.loc['Sean', 'apples'] = None\n",
        "df_fruits"
      ],
      "id": "6dec8cd9"
    },
    {
      "cell_type": "code",
      "execution_count": 18,
      "metadata": {},
      "outputs": [],
      "source": [
        "df_fruits.describe()"
      ],
      "id": "33793a7d"
    },
    {
      "cell_type": "markdown",
      "metadata": {},
      "source": [
        "Note that `count` is **3** for apples now, since we have 1 missing value\n",
        "among the 4\n",
        "\n",
        "> **Note**\n",
        ">\n",
        "> To review the members of objects of class `pandas.DataFrame`, `dir()`\n",
        "> and module `inspect` are convenient."
      ],
      "id": "395a326d-c0df-4368-8836-f4eda47b58fd"
    },
    {
      "cell_type": "code",
      "execution_count": 19,
      "metadata": {},
      "outputs": [],
      "source": [
        "[x for x in dir(df_fruits) if not x.startswith('_') and not callable(x)]"
      ],
      "id": "5ecd171c"
    },
    {
      "cell_type": "code",
      "execution_count": 20,
      "metadata": {},
      "outputs": [],
      "source": [
        "import inspect\n",
        "\n",
        "# Get a list of methods\n",
        "membres = inspect.getmembers(df_fruits)\n",
        "\n",
        "method_names = [m[0] for m in membres \n",
        "    if callable(m[1]) and not m[0].startswith('_')]\n",
        "\n",
        "print(method_names)"
      ],
      "id": "08fbcdaa"
    },
    {
      "cell_type": "code",
      "execution_count": 21,
      "metadata": {},
      "outputs": [],
      "source": [
        "others = [x for x in membres\n",
        "    if not callable(x[1])]\n",
        "\n",
        "[x[0] for x in others if not x[0].startswith('_')]"
      ],
      "id": "c876bb77"
    },
    {
      "cell_type": "markdown",
      "metadata": {},
      "source": [
        "## Adding a column\n",
        "\n",
        "Ooooops, we forgot about the bananas !"
      ],
      "id": "3baf4d46-f653-4a58-b3c7-e62972b63bd0"
    },
    {
      "cell_type": "code",
      "execution_count": 22,
      "metadata": {},
      "outputs": [],
      "source": [
        "df_fruits[\"bananas\"] = [0, 2, 1, 6]\n",
        "df_fruits"
      ],
      "id": "41a1d3c2"
    },
    {
      "cell_type": "markdown",
      "metadata": {},
      "source": [
        "## Adding a column with the date\n",
        "\n",
        "And we forgot the dates !"
      ],
      "id": "53ddcca8-3016-4ebd-b41e-01cf0eae4d3b"
    },
    {
      "cell_type": "code",
      "execution_count": 23,
      "metadata": {},
      "outputs": [],
      "source": [
        "df_fruits['time'] = [\n",
        "    \"2020/10/08 12:13\", \"2020/10/07 11:37\", \n",
        "    \"2020/10/10 14:07\", \"2020/10/09 10:51\"\n",
        "]\n",
        "df_fruits"
      ],
      "id": "e8f849e9"
    },
    {
      "cell_type": "code",
      "execution_count": 24,
      "metadata": {},
      "outputs": [],
      "source": [
        "df_fruits.dtypes"
      ],
      "id": "10a10983"
    },
    {
      "cell_type": "code",
      "execution_count": 25,
      "metadata": {},
      "outputs": [],
      "source": [
        "type(df_fruits.loc[\"Roger\", \"time\"])"
      ],
      "id": "2b8c19d1"
    },
    {
      "cell_type": "markdown",
      "metadata": {},
      "source": [
        "It is not a date but a string (`str`) ! So we convert this column to\n",
        "something called `datetime`"
      ],
      "id": "bdfe50a0-5d47-41dc-ab59-b63f92984695"
    },
    {
      "cell_type": "code",
      "execution_count": 26,
      "metadata": {},
      "outputs": [],
      "source": [
        "df_fruits[\"time\"] = pd.to_datetime(df_fruits[\"time\"])\n",
        "df_fruits"
      ],
      "id": "2728c9e3"
    },
    {
      "cell_type": "code",
      "execution_count": 27,
      "metadata": {},
      "outputs": [],
      "source": [
        "df_fruits.dtypes"
      ],
      "id": "6c4e1aed"
    },
    {
      "cell_type": "markdown",
      "metadata": {},
      "source": [
        "> **Note**\n",
        ">\n",
        "> Every data science framework implements some `datetime` handling\n",
        "> scheme. For Python see [Python official documentation on `datetime`\n",
        "> module](https://docs.python.org/3/library/datetime.html#module-datetime)\n",
        "\n",
        "What if we want to keep only the baskets after (including) October, 9th\n",
        "?"
      ],
      "id": "f4c206cf-2bef-4eb0-a78e-8b4010f01da5"
    },
    {
      "cell_type": "code",
      "execution_count": 28,
      "metadata": {},
      "outputs": [],
      "source": [
        "df_fruits.loc[df_fruits[\"time\"] >= pd.Timestamp(\"2020/10/09\")]"
      ],
      "id": "9bf0ebd4"
    },
    {
      "cell_type": "markdown",
      "metadata": {},
      "source": [
        "## Slices and subsets of rows or columns"
      ],
      "id": "685eb28f-acd5-468c-a9fb-1df9154b2151"
    },
    {
      "cell_type": "code",
      "execution_count": 29,
      "metadata": {},
      "outputs": [],
      "source": [
        "df_fruits"
      ],
      "id": "b95f9b24"
    },
    {
      "cell_type": "code",
      "execution_count": 30,
      "metadata": {},
      "outputs": [],
      "source": [
        "df_fruits.loc[:, \"oranges\":\"time\"]"
      ],
      "id": "fd93c175"
    },
    {
      "cell_type": "code",
      "execution_count": 31,
      "metadata": {},
      "outputs": [],
      "source": [
        "df_fruits.loc[\"Daniel\":\"Sean\", \"apples\":\"bananas\"]"
      ],
      "id": "bd4f6ece"
    },
    {
      "cell_type": "code",
      "execution_count": 32,
      "metadata": {},
      "outputs": [],
      "source": [
        "df_fruits[[\"apples\", \"time\"]]"
      ],
      "id": "d7e70f9b"
    },
    {
      "cell_type": "markdown",
      "metadata": {},
      "source": [
        "## Write our data to a CSV file\n",
        "\n",
        "What if we want to write the file ?"
      ],
      "id": "27210e98-d63b-4a19-b86f-11b7ffb75b4a"
    },
    {
      "cell_type": "code",
      "execution_count": 33,
      "metadata": {},
      "outputs": [],
      "source": [
        "df_fruits"
      ],
      "id": "b0f7ff8f"
    },
    {
      "cell_type": "code",
      "execution_count": 34,
      "metadata": {},
      "outputs": [],
      "source": [
        "df_fruits.to_csv(\"fruits.csv\")"
      ],
      "id": "873f345f"
    },
    {
      "cell_type": "code",
      "execution_count": 35,
      "metadata": {},
      "outputs": [],
      "source": [
        "# Use !dir on windows\n",
        "!ls -alh | grep fru"
      ],
      "id": "cd28246d"
    },
    {
      "cell_type": "code",
      "execution_count": 36,
      "metadata": {},
      "outputs": [],
      "source": [
        "!head -n 5 fruits.csv"
      ],
      "id": "3b60698b"
    },
    {
      "cell_type": "markdown",
      "metadata": {},
      "source": [
        "## Reading data and working with it\n",
        "\n",
        "> **Note**\n",
        ">\n",
        "> The `tips` dataset comes through\n",
        "> [Kaggle](https://www.kaggle.com/code/sanjanabasu/tips-dataset/input)\n",
        ">\n",
        "> > This dataset is a treasure trove of information from a collection of\n",
        "> > case studies for business statistics. Special thanks to Bryant and\n",
        "> > Smith for their diligent work:\n",
        ">\n",
        "> > Bryant, P. G. and Smith, M (1995) Practical Data Analysis: Case\n",
        "> > Studies in Business Statistics. Homewood, IL: Richard D. Irwin\n",
        "> > Publishing.\n",
        ">\n",
        "> > You can also access this dataset now through the Python package\n",
        "> > Seaborn.\n",
        "\n",
        "It contains data about a restaurant: the bill, tip and some informations\n",
        "about the customers.\n",
        "\n",
        "> **A toy extraction pattern**\n",
        ">\n",
        "> A data pipeline usually starts with Extraction, that is gathering data\n",
        "> from some source, possibly in a galaxy far, far awy. Here follows a\n",
        "> toy extraction pattern\n",
        ">\n",
        "> -   obtain the data from some `URL` using package `requests`\n",
        "> -   save the data on the hard drive\n",
        "> -   load the data using Pandas\n",
        ">\n",
        "> ``` python\n",
        "> import requests\n",
        "> import os\n",
        ">\n",
        "> # The path containing your notebook\n",
        "> path_data = './'\n",
        "> # The name of the file\n",
        "> filename = 'tips.csv'\n",
        ">\n",
        "> if os.path.exists(os.path.join(path_data, filename)):\n",
        ">     print('The file %s already exists.' % os.path.join(path_data, filename))\n",
        "> else:\n",
        ">     url = 'https://raw.githubusercontent.com/mwaskom/seaborn-data/refs/heads/master/tips.csv'\n",
        ">     r = requests.get(url)\n",
        ">     with open(os.path.join(path_data, filename), 'wb') as f:\n",
        ">         f.write(r.content)\n",
        ">     print('Downloaded file %s.' % os.path.join(path_data, filename))\n",
        "> ```\n",
        ">\n",
        "> ``` python\n",
        "> df = pd.read_csv(\"tips.csv\", \n",
        ">     delimiter=\",\"\n",
        "> )\n",
        "> ```\n",
        "\n",
        "The data can be obtained from package `seaborn`."
      ],
      "id": "dbbcc60b-e3f8-4a89-adad-b71f09af29aa"
    },
    {
      "cell_type": "code",
      "execution_count": 39,
      "metadata": {},
      "outputs": [],
      "source": [
        "import seaborn as sns\n",
        "\n",
        "sns_ds = sns.get_dataset_names()\n",
        "\n",
        "'tips' in sns_ds\n",
        "\n",
        "df = sns.load_dataset('tips')"
      ],
      "id": "fe323f83"
    },
    {
      "cell_type": "code",
      "execution_count": 40,
      "metadata": {},
      "outputs": [],
      "source": [
        "# `.head()` shows the first rows of the dataframe\n",
        "df.head(n=10)"
      ],
      "id": "2459b6e2"
    },
    {
      "cell_type": "code",
      "execution_count": 41,
      "metadata": {},
      "outputs": [],
      "source": [
        "df.info()"
      ],
      "id": "5b009373"
    },
    {
      "cell_type": "code",
      "execution_count": 42,
      "metadata": {},
      "outputs": [],
      "source": [
        "df.loc[42, \"day\"]"
      ],
      "id": "75470548"
    },
    {
      "cell_type": "code",
      "execution_count": 43,
      "metadata": {},
      "outputs": [],
      "source": [
        "type(df.loc[42, \"day\"])"
      ],
      "id": "dbcf719b"
    },
    {
      "cell_type": "markdown",
      "metadata": {},
      "source": [
        "By default, columns that are non-numerical contain strings (`str` type)\n",
        "\n",
        "## The `category` type\n",
        "\n",
        "An important type in `pandas` is `category` for variables that are\n",
        "**non-numerical**\n",
        "\n",
        "**Pro tip.** It’s always a good idea to tell `pandas` which columns\n",
        "should be imported as **categorical**\n",
        "\n",
        "So, let’s read again the file specifying some `dtype`s to the `read_csv`\n",
        "function"
      ],
      "id": "f66f244e-4cb8-4762-929b-931485d2cc88"
    },
    {
      "cell_type": "code",
      "execution_count": 44,
      "metadata": {},
      "outputs": [],
      "source": [
        "dtypes = {\n",
        "    \"sex\": \"category\",\n",
        "    \"smoker\": \"category\",\n",
        "    \"day\": \"category\",\n",
        "    \"time\": \"category\"\n",
        "} \n",
        "\n",
        "df = pd.read_csv(\"tips.csv\", dtype=dtypes)"
      ],
      "id": "0820bebb"
    },
    {
      "cell_type": "code",
      "execution_count": 45,
      "metadata": {},
      "outputs": [],
      "source": [
        "df.dtypes"
      ],
      "id": "fe5fdc3e"
    },
    {
      "cell_type": "markdown",
      "metadata": {},
      "source": [
        "## Computing statistics"
      ],
      "id": "155d6f31-ba86-4914-b938-f79d204295e3"
    },
    {
      "cell_type": "code",
      "execution_count": 46,
      "metadata": {},
      "outputs": [],
      "source": [
        "# The describe method only shows statistics for the numerical columns by default\n",
        "df.describe()"
      ],
      "id": "bb461acd"
    },
    {
      "cell_type": "code",
      "execution_count": 47,
      "metadata": {},
      "outputs": [],
      "source": [
        "# We use the include=\"all\" option to see everything\n",
        "df.describe(include=\"all\")"
      ],
      "id": "45afbbf0"
    },
    {
      "cell_type": "code",
      "execution_count": 48,
      "metadata": {},
      "outputs": [],
      "source": [
        "# Correlation between the numerical columns\n",
        "df.corr(numeric_only = True)"
      ],
      "id": "eb205770"
    },
    {
      "cell_type": "code",
      "execution_count": 49,
      "metadata": {},
      "outputs": [],
      "source": [
        "?df.corr"
      ],
      "id": "9d226ecc"
    },
    {
      "cell_type": "markdown",
      "metadata": {},
      "source": [
        "# Data visualization with `matplotlib` and `seaborn`\n",
        "\n",
        "Let’s show how we can use `matplotlib` and `seaborn` to visualize data\n",
        "contained in a `pandas` dataframe"
      ],
      "id": "3c94fa84-c774-49bb-b70e-10fd5d582e6e"
    },
    {
      "cell_type": "code",
      "execution_count": 50,
      "metadata": {},
      "outputs": [],
      "source": [
        "import matplotlib.pyplot as plt"
      ],
      "id": "043e4e6d"
    },
    {
      "cell_type": "markdown",
      "metadata": {},
      "source": [
        "## How do the tip depends on the total bill ?"
      ],
      "id": "3f368d34-0bda-4124-8dbc-7d8fb849be8b"
    },
    {
      "cell_type": "code",
      "execution_count": 51,
      "metadata": {},
      "outputs": [],
      "source": [
        "sns.jointplot(x=\"total_bill\", y=\"tip\", data=df)"
      ],
      "id": "5ad61e89"
    },
    {
      "cell_type": "markdown",
      "metadata": {},
      "source": [
        "## When do customers go to this restaurant ?"
      ],
      "id": "7fb82ce6-3990-4471-805c-8e81eee8cefb"
    },
    {
      "cell_type": "code",
      "execution_count": 52,
      "metadata": {},
      "outputs": [],
      "source": [
        "sns.countplot(x='day', hue=\"time\", data=df)"
      ],
      "id": "8078b0bd"
    },
    {
      "cell_type": "markdown",
      "metadata": {},
      "source": [
        "## When do customers spend the most ?"
      ],
      "id": "39eeae4c-fca0-44eb-b68a-20fc57733682"
    },
    {
      "cell_type": "code",
      "execution_count": 53,
      "metadata": {},
      "outputs": [],
      "source": [
        "plt.figure(figsize=(7, 5))\n",
        "sns.boxplot(x='day', y='total_bill', hue='time', data=df)\n",
        "plt.legend(loc=\"upper left\")"
      ],
      "id": "819ffb52"
    },
    {
      "cell_type": "code",
      "execution_count": 54,
      "metadata": {},
      "outputs": [],
      "source": [
        "plt.figure(figsize=(7, 5))\n",
        "sns.violinplot(x='day', y='total_bill', hue='time', split=True, data=df)\n",
        "plt.legend(loc=\"upper left\")"
      ],
      "id": "0d7e9091"
    },
    {
      "cell_type": "markdown",
      "metadata": {},
      "source": [
        "## Who spends the most ?"
      ],
      "id": "b305018d-2945-4e3d-8fa1-77068ab241b7"
    },
    {
      "cell_type": "code",
      "execution_count": 55,
      "metadata": {},
      "outputs": [],
      "source": [
        "sns.boxplot(x='sex', y='total_bill', hue='smoker', data=df)"
      ],
      "id": "0163047d"
    },
    {
      "cell_type": "markdown",
      "metadata": {},
      "source": [
        "## When should waiters want to work ?"
      ],
      "id": "c19c1772-c218-48c6-b42c-f30870801863"
    },
    {
      "cell_type": "code",
      "execution_count": 56,
      "metadata": {},
      "outputs": [],
      "source": [
        "sns.boxplot(x='day', y='tip', hue='time', data=df)"
      ],
      "id": "0f7742ac"
    },
    {
      "cell_type": "code",
      "execution_count": 57,
      "metadata": {},
      "outputs": [],
      "source": [
        "sns.violinplot(x='day', y='tip', hue='time', data=df)"
      ],
      "id": "6e244b47"
    },
    {
      "cell_type": "markdown",
      "metadata": {},
      "source": [
        "# Data processing with `pandas`\n",
        "\n",
        "Let us read again the `tips.csv` file"
      ],
      "id": "aeb77892-b9ee-4306-8464-c1bfe3fa4007"
    },
    {
      "cell_type": "code",
      "execution_count": 58,
      "metadata": {},
      "outputs": [],
      "source": [
        "import pandas as pd\n",
        "\n",
        "dtypes = {\n",
        "    \"sex\": \"category\",\n",
        "    \"smoker\": \"category\",\n",
        "    \"day\": \"category\",\n",
        "    \"time\": \"category\"\n",
        "} \n",
        "\n",
        "df = pd.read_csv(\"tips.csv\", dtype=dtypes)\n",
        "df.head()"
      ],
      "id": "69c17b95"
    },
    {
      "cell_type": "markdown",
      "metadata": {},
      "source": [
        "## Computations using `pandas` : broadcasting\n",
        "\n",
        "Let’s add a column that contains the tip percentage"
      ],
      "id": "40f3b40c-c5ac-45e5-bc04-3d1f40f3cf1e"
    },
    {
      "cell_type": "code",
      "execution_count": 59,
      "metadata": {},
      "outputs": [],
      "source": [
        "df[\"tip_percentage\"] = df[\"tip\"] / df[\"total_bill\"]\n",
        "df.head()"
      ],
      "id": "902c7dd8"
    },
    {
      "cell_type": "markdown",
      "metadata": {},
      "source": [
        "The computation\n",
        "\n",
        "```` markdown\n",
        "```{python}\n",
        "df[\"tip\"] / df[\"total_bill\"]\n",
        "```\n",
        "````\n",
        "\n",
        "uses a **broadcast** rule.\n",
        "\n",
        "-   We can multiply, add, subtract, etc. together `numpy` arrays,\n",
        "    `Series` or `pandas` dataframes when the computation **makes sense**\n",
        "    in view of their respective **shape**\n",
        "\n",
        "This principle is called **broadcast** or **broadcasting**.\n",
        "\n",
        "> **Note**\n",
        ">\n",
        "> Broadcasting is a key feature of `numpy` `ndarray`, see\n",
        ">\n",
        "> -   [Numpy User’s\n",
        ">     guide](https://numpy.org/doc/stable/user/basics.broadcasting.html)\n",
        "> -   [Pandas\n",
        ">     book](https://wesmckinney.com/book/advanced-numpy.html#numpy_broadcasting)"
      ],
      "id": "24182a94-fbc2-4a41-8582-f1ee757e440c"
    },
    {
      "cell_type": "code",
      "execution_count": 60,
      "metadata": {},
      "outputs": [],
      "source": [
        "df[\"tip\"].shape, df[\"total_bill\"].shape"
      ],
      "id": "80815f3e"
    },
    {
      "cell_type": "markdown",
      "metadata": {},
      "source": [
        "The `tip` and `total_bill`columns have the same `shape`, so broadcasting\n",
        "performs **pairwise division**.\n",
        "\n",
        "This corresponds to the following “hand-crafted” approach with a `for`\n",
        "loop:"
      ],
      "id": "f9a1975b-8820-4b03-858a-ffff49b69af7"
    },
    {
      "cell_type": "code",
      "execution_count": 61,
      "metadata": {},
      "outputs": [],
      "source": [
        "for i in range(df.shape[0]):\n",
        "    df.loc[i, \"tip_percentage\"] = df.loc[i, \"tip\"] / df.loc[i, \"total_bill\"]"
      ],
      "id": "904451af"
    },
    {
      "cell_type": "markdown",
      "metadata": {},
      "source": [
        "But using such a loop is:\n",
        "\n",
        "-   longer to write\n",
        "-   less readable\n",
        "-   prone to mistakes\n",
        "-   and *slower* :(\n",
        "\n",
        "*NEVER* use `Python` for-loops unless you need to !"
      ],
      "id": "4b7c64ee-c577-4940-8c50-e476967d4ab2"
    },
    {
      "cell_type": "code",
      "execution_count": 62,
      "metadata": {},
      "outputs": [],
      "source": [
        "%%timeit -n 10\n",
        "for i in range(df.shape[0]):\n",
        "    df.loc[i, \"tip_percentage\"] = df.loc[i, \"tip\"] / df.loc[i, \"total_bill\"]"
      ],
      "id": "a56b5374"
    },
    {
      "cell_type": "code",
      "execution_count": 63,
      "metadata": {},
      "outputs": [],
      "source": [
        "%%timeit -n 10\n",
        "df[\"tip_percentage\"] = df[\"tip\"] / df[\"total_bill\"]"
      ],
      "id": "f6afc419"
    },
    {
      "cell_type": "markdown",
      "metadata": {},
      "source": [
        "The `for` loop is $\\approx$ **100 times slower** ! (even worse on larger\n",
        "data)\n",
        "\n",
        "### Pitfall. Changing values in a `DataFrame`\n",
        "\n",
        "When you want to change a value in a `DataFrame`, never use\n",
        "\n",
        "``` python\n",
        "df[\"tip_percentage\"].loc[i] = 42\n",
        "```\n",
        "\n",
        "but use\n",
        "\n",
        "``` python\n",
        "df.loc[i, \"tip_percentage\"] = 42\n",
        "```\n",
        "\n",
        "> **Caution**\n",
        ">\n",
        "> Use a **single** `loc` or `iloc` statement. The first version **might\n",
        "> not work**: it might modify a copy of the column and not the dataframe\n",
        "> itself !\n",
        "\n",
        "Another example of broadcasting is:"
      ],
      "id": "cc4ed5b6-3eef-4a36-a997-21a8b5a1e7c7"
    },
    {
      "cell_type": "code",
      "execution_count": 64,
      "metadata": {},
      "outputs": [],
      "source": [
        "(100 * df[[\"tip_percentage\"]]).head()"
      ],
      "id": "cbdbb5d7"
    },
    {
      "cell_type": "markdown",
      "metadata": {},
      "source": [
        "where we multiplied **each entry** of the `tip_percentage` column by\n",
        "100.\n",
        "\n",
        "> **Remark**\n",
        ">\n",
        "> Note the difference between\n",
        ">\n",
        "> ``` python\n",
        "> df[['tip_percentage']]\n",
        "> ```\n",
        ">\n",
        "> which returns a `DataFrame` containing only the `tip_percentage`\n",
        "> column and\n",
        ">\n",
        "> ``` python\n",
        "> df['tip_percentage']\n",
        "> ```\n",
        ">\n",
        "> which returns a `Series` containing the data of the `tip_percentage`\n",
        "> column\n",
        "\n",
        "## Some more plots\n",
        "\n",
        "### How do the tip percentages relates to the total bill ?"
      ],
      "id": "36b8f2f7-d107-4b97-a749-3fe5793bcd46"
    },
    {
      "cell_type": "code",
      "execution_count": 65,
      "metadata": {},
      "outputs": [],
      "source": [
        "sns.jointplot(\n",
        "    x=\"total_bill\", \n",
        "    y=\"tip_percentage\", \n",
        "    data=df\n",
        ")"
      ],
      "id": "54e54e9d"
    },
    {
      "cell_type": "markdown",
      "metadata": {},
      "source": [
        "### Who tips best ?"
      ],
      "id": "f0c702fd-735b-4072-9a9c-c35937135445"
    },
    {
      "cell_type": "code",
      "execution_count": 66,
      "metadata": {},
      "outputs": [],
      "source": [
        "sns.boxplot(\n",
        "    x='sex', \n",
        "    y='tip_percentage', \n",
        "    hue='smoker', \n",
        "    data=df\n",
        ")"
      ],
      "id": "64e5f991"
    },
    {
      "cell_type": "markdown",
      "metadata": {},
      "source": [
        "### Who tips best without the `tip_percentage` outliers ?"
      ],
      "id": "bbece9f0-2383-4f52-960b-1a6ae9277252"
    },
    {
      "cell_type": "code",
      "execution_count": 67,
      "metadata": {},
      "outputs": [],
      "source": [
        "sns.boxplot(\n",
        "    x='sex', \n",
        "    y='tip_percentage', \n",
        "    hue='smoker', \n",
        "    data=df.loc[df[\"tip_percentage\"] <= 0.3]\n",
        ")"
      ],
      "id": "bfc5bad4"
    },
    {
      "cell_type": "markdown",
      "metadata": {},
      "source": [
        "Object identity"
      ],
      "id": "7863468b-e41d-4373-aa48-2759e3986bbe"
    },
    {
      "cell_type": "code",
      "execution_count": 68,
      "metadata": {},
      "outputs": [],
      "source": [
        "id(df)"
      ],
      "id": "7ba730b3"
    },
    {
      "cell_type": "markdown",
      "metadata": {},
      "source": [
        "## The all-mighty `groupby` and `aggregate`\n",
        "\n",
        "Many computations can be formulated as a **groupby** followed by and\n",
        "**aggregation**.\n",
        "\n",
        "### What is the mean `tip` and `tip percentage` each day ?"
      ],
      "id": "d6219303-707d-421a-8993-282b84744a1e"
    },
    {
      "cell_type": "code",
      "execution_count": 69,
      "metadata": {},
      "outputs": [],
      "source": [
        "df.head()"
      ],
      "id": "c3c30036"
    },
    {
      "cell_type": "code",
      "execution_count": 70,
      "metadata": {},
      "outputs": [],
      "source": [
        "try:\n",
        "\n",
        "    df.groupby(\"day\", observed=True).mean()\n",
        "except TypeError:\n",
        "    print('TypeError: category dtype does not support aggregation \"mean\"')"
      ],
      "id": "0199c4d2"
    },
    {
      "cell_type": "markdown",
      "metadata": {},
      "source": [
        "But we do not care about the `size` column here, so we can use instead"
      ],
      "id": "d779dbf2-d07a-4ef6-a58f-899051f7fd2a"
    },
    {
      "cell_type": "code",
      "execution_count": 71,
      "metadata": {},
      "outputs": [],
      "source": [
        "(\n",
        "    df[[\"total_bill\", \"tip\", \"tip_percentage\", \"day\"]]\n",
        "        .groupby(\"day\")\n",
        "        .mean()\n",
        ")"
      ],
      "id": "438acfc8"
    },
    {
      "cell_type": "markdown",
      "metadata": {},
      "source": [
        "If we want to be more precise, we can `groupby` using several columns"
      ],
      "id": "bf0d0e50-dd68-4568-97da-15e04dbc1d62"
    },
    {
      "cell_type": "code",
      "execution_count": 72,
      "metadata": {},
      "outputs": [],
      "source": [
        "(\n",
        "    df[[\"total_bill\", \"tip\", \"tip_percentage\", \"day\", \"time\"]]   # selection\n",
        "        .groupby([\"day\",\"time\"])                                # partition\n",
        "        .mean()                                                  # aggregation\n",
        ")"
      ],
      "id": "e36ad836"
    },
    {
      "cell_type": "markdown",
      "metadata": {},
      "source": [
        "> **Remarks**\n",
        ">\n",
        "> -   We obtain a `DataFrame` with a two-level indexing: on the `day`\n",
        ">     and the `time`\n",
        "> -   Groups must be homogeneous: we have `NaN` values for empty groups\n",
        ">     (e.g. `Sat`, `Lunch`)\n",
        "\n",
        "### Pro tip\n",
        "\n",
        "Sometimes, it is more convenient to get the groups as columns instead of\n",
        "a multi-level index.\n",
        "\n",
        "For this, use `reset_index`:"
      ],
      "id": "cbc8958d-08ee-4b12-869f-84cc9e66b803"
    },
    {
      "cell_type": "code",
      "execution_count": 73,
      "metadata": {},
      "outputs": [],
      "source": [
        "(\n",
        "    df[[\"total_bill\", \"tip\", \"tip_percentage\", \"day\", \"time\"]]   # selection\n",
        "        .groupby([\"day\", \"time\"])                                # partition\n",
        "        .mean() # aggregation\n",
        "        .reset_index()   # ako ungroup\n",
        ")"
      ],
      "id": "5aab73dd"
    },
    {
      "cell_type": "markdown",
      "metadata": {},
      "source": [
        "### Another pro tip: care about code readers\n",
        "\n",
        "Computations with pandas can include many operations that are\n",
        "**pipelined** until the final computation.\n",
        "\n",
        "Pipelining many operations is good practice and perfectly normal, but in\n",
        "order to make the code readable you can put it between parenthesis\n",
        "(`python` expression) as follows:"
      ],
      "id": "70504a36-251e-4d93-8a6e-84fdf51ec883"
    },
    {
      "cell_type": "code",
      "execution_count": 74,
      "metadata": {},
      "outputs": [],
      "source": [
        "(\n",
        "    df[[\"total_bill\", \"tip\", \"tip_percentage\", \"day\", \"time\"]]\n",
        "    .groupby([\"day\", \"time\"])\n",
        "    .mean()\n",
        "    .reset_index()\n",
        "    # and on top of all this we sort the dataframe with respect \n",
        "    # to the tip_percentage\n",
        "    .sort_values(\"tip_percentage\")\n",
        ")"
      ],
      "id": "e07d2bb7"
    },
    {
      "cell_type": "markdown",
      "metadata": {},
      "source": [
        "## Displaying a `DataFrame` with `style`\n",
        "\n",
        "Now, we can answer, with style, to the question: what are the average\n",
        "tip percentages along the week ?"
      ],
      "id": "5cb864ef-6846-479c-b871-a1d6a84bbd0d"
    },
    {
      "cell_type": "code",
      "execution_count": 75,
      "metadata": {},
      "outputs": [],
      "source": [
        "(\n",
        "    df[[\"tip_percentage\", \"day\", \"time\"]]\n",
        "    .groupby([\"day\", \"time\"])\n",
        "    .mean()\n",
        "    # At the end of the pipeline you can use .style\n",
        "    .style\n",
        "    # Print numerical values as percentages \n",
        "    .format(\"{:.2%}\")\n",
        "    .background_gradient()\n",
        ")"
      ],
      "id": "9a100980"
    },
    {
      "cell_type": "markdown",
      "metadata": {},
      "source": [
        "## Removing the `NaN` values\n",
        "\n",
        "But the `NaN` values are somewhat annoying. Let’s remove them"
      ],
      "id": "cbbc89fa-4ea7-4f1c-a10f-6c162edfd524"
    },
    {
      "cell_type": "code",
      "execution_count": 76,
      "metadata": {},
      "outputs": [],
      "source": [
        "(\n",
        "    df[[\"tip_percentage\", \"day\", \"time\"]]\n",
        "    .groupby([\"day\", \"time\"])\n",
        "    .mean()\n",
        "    # We just add this from the previous pipeline\n",
        "    .dropna()\n",
        "    .style\n",
        "    .format(\"{:.2%}\")\n",
        "    .background_gradient()\n",
        ")"
      ],
      "id": "13c826af"
    },
    {
      "cell_type": "markdown",
      "metadata": {},
      "source": [
        "Now, we see when `tip_percentage` is maximal. But what about the\n",
        "standard deviation?\n",
        "\n",
        "-   We used only `.mean()` for now, but we can use several aggregating\n",
        "    function using `.agg()`"
      ],
      "id": "417d7c1a-1d8c-4d4d-9345-423c80904e24"
    },
    {
      "cell_type": "code",
      "execution_count": 77,
      "metadata": {},
      "outputs": [],
      "source": [
        "(\n",
        "    df[[\"tip_percentage\", \"day\", \"time\"]]\n",
        "    .groupby([\"day\", \"time\"])\n",
        "    .agg([\"mean\", \"std\"])   # we feed `agg`  with a list of names of callables \n",
        "    .dropna()\n",
        "    .style\n",
        "    .format(\"{:.2%}\")\n",
        "    .background_gradient()\n",
        ")"
      ],
      "id": "e88b19fa"
    },
    {
      "cell_type": "markdown",
      "metadata": {},
      "source": [
        "And we can use also `.describe()` as aggregation function. Moreover we -\n",
        "use the `subset` option to specify which column we want to style - we\n",
        "use `(\"tip_percentage\", \"count\")` to access multi-level index"
      ],
      "id": "28d609d1-f64f-4bb0-8d7e-4075afe27713"
    },
    {
      "cell_type": "code",
      "execution_count": 78,
      "metadata": {},
      "outputs": [],
      "source": [
        "(\n",
        "    df[[\"tip_percentage\", \"day\", \"time\"]]\n",
        "    .groupby([\"day\", \"time\"])\n",
        "    .describe()    # all-purpose summarising function\n",
        ")"
      ],
      "id": "8afe5ecb"
    },
    {
      "cell_type": "code",
      "execution_count": 79,
      "metadata": {},
      "outputs": [],
      "source": [
        "(\n",
        "    df[[\"tip_percentage\", \"day\", \"time\"]]\n",
        "    .groupby([\"day\", \"time\"])\n",
        "    .describe()\n",
        "    .dropna()\n",
        "    .style\n",
        "    .bar(subset=[(\"tip_percentage\", \"count\")])\n",
        "    .background_gradient(subset=[(\"tip_percentage\", \"50%\")])\n",
        ")"
      ],
      "id": "666e40cf"
    },
    {
      "cell_type": "markdown",
      "metadata": {},
      "source": [
        "## Supervised learning of `tip` based on the `total_bill`\n",
        "\n",
        "As an example of very simple **machine-learning** problem, let us try to\n",
        "understand how we can predict `tip` based on `total_bill`."
      ],
      "id": "43a7c426-e67f-434f-98d1-75787c5250d8"
    },
    {
      "cell_type": "code",
      "execution_count": 80,
      "metadata": {},
      "outputs": [],
      "source": [
        "import numpy as np\n",
        "\n",
        "plt.scatter(df[\"total_bill\"], df[\"tip\"])\n",
        "plt.xlabel(\"total_bill\", fontsize=12)\n",
        "plt.ylabel(\"tip\", fontsize=12)"
      ],
      "id": "fbcbdc5c"
    },
    {
      "cell_type": "markdown",
      "metadata": {},
      "source": [
        "There’s a rough **linear** dependence between the two. Let us try to\n",
        "find it by hand!<br> Namely, we look for numbers $b$ and $w$ such that\n",
        "\n",
        "    tip ≈ b + w × total_bill\n",
        "\n",
        "for all the examples of pairs of `(tip, total_bill)` we observe in the\n",
        "data.\n",
        "\n",
        "In **machine learning**, we say that this is a very simple example of a\n",
        "**supervised learning** problem (here it is a regression problem), where\n",
        "`tip` is the **label** and where `total_bill` is the (only) **feature**,\n",
        "for which we intend to use a **linear predictor**."
      ],
      "id": "4898ce81-3c25-4daf-819a-79913aa3903d"
    },
    {
      "cell_type": "code",
      "execution_count": 81,
      "metadata": {},
      "outputs": [],
      "source": [
        "plt.scatter(df[\"total_bill\"], df[\"tip\"])\n",
        "plt.xlabel(\"total_bill\", fontsize=12)\n",
        "plt.ylabel(\"tip\", fontsize=12)\n",
        "\n",
        "slope = 1.0\n",
        "intercept = 0.0\n",
        "\n",
        "x = np.linspace(0, 50, 1000)\n",
        "plt.plot(x, intercept + slope * x, color=\"red\")"
      ],
      "id": "e8d2be31"
    },
    {
      "cell_type": "markdown",
      "metadata": {},
      "source": [
        "### A more interactive way\n",
        "\n",
        "This might require"
      ],
      "id": "630799b3-39a3-4169-940e-69fd99682b27"
    },
    {
      "cell_type": "code",
      "execution_count": 82,
      "metadata": {},
      "outputs": [],
      "source": [
        "# !pip install ipympl"
      ],
      "id": "de95b1a2"
    },
    {
      "cell_type": "code",
      "execution_count": 83,
      "metadata": {},
      "outputs": [],
      "source": [
        "import ipywidgets as widgets\n",
        "import matplotlib.pyplot as plt\n",
        "import numpy as np\n",
        "\n",
        "%matplotlib widget\n",
        "%matplotlib inline\n",
        "\n",
        "x = np.linspace(0, 50, 1000)\n",
        "\n",
        "@widgets.interact(intercept=(-5, 5, 1.), slope=(0, 1, .05))\n",
        "def update(intercept=0.0, slope=0.5):\n",
        "    plt.scatter(df[\"total_bill\"], df[\"tip\"])\n",
        "    plt.plot(x, intercept + slope * x, color=\"red\")\n",
        "    plt.xlim((0, 50))\n",
        "    plt.ylim((0, 10))\n",
        "    plt.xlabel(\"total_bill\", fontsize=12)\n",
        "    plt.ylabel(\"tip\", fontsize=12)"
      ],
      "id": "828d11ad"
    },
    {
      "cell_type": "markdown",
      "metadata": {},
      "source": [
        "This is kind of tedious to do this by hand… it would be nice to come up\n",
        "with an **automated** way of doing this. Moreover:\n",
        "\n",
        "-   We are using a **linear** function, while something more complicated\n",
        "    (such as a polynomial) might be better\n",
        "-   More importantly, we use **only** the `total_bill` column to predict\n",
        "    the `tip`, while we know about many other things"
      ],
      "id": "3f91e840-5d05-4ecd-bbd9-044a48a35333"
    },
    {
      "cell_type": "code",
      "execution_count": 84,
      "metadata": {},
      "outputs": [],
      "source": [
        "df.head()"
      ],
      "id": "c465f5ef"
    },
    {
      "cell_type": "markdown",
      "metadata": {},
      "source": [
        "## One-hot encoding of categorical variables\n",
        "\n",
        "We can’t perform computations (products and sums) with columns\n",
        "containing **categorical** variables. So, we can’t use them like this to\n",
        "predict the `tip`. We need to **convert** them to numbers somehow.\n",
        "\n",
        "The most classical approach for this is **one-hot encoding** (or “create\n",
        "dummies” or “binarize”) of the categorical variables, which can be\n",
        "easily achieved with `pandas.get_dummies`\n",
        "\n",
        "Why *one-hot* ? See [wikipedia](https://en.wikipedia.org/wiki/One-hot)\n",
        "for a plausible explanation"
      ],
      "id": "8a1fed7f-2c98-43d3-98bb-681660f176b3"
    },
    {
      "cell_type": "code",
      "execution_count": 85,
      "metadata": {},
      "outputs": [],
      "source": [
        "df_one_hot = pd.get_dummies(df, prefix_sep='#')\n",
        "df_one_hot.head(5)"
      ],
      "id": "3fd690c1"
    },
    {
      "cell_type": "markdown",
      "metadata": {},
      "source": [
        "Only the categorical columns have been one-hot encoded. For instance,\n",
        "the `\"day\"` column is replaced by 4 columns named `\"day#Thur\"`,\n",
        "`\"day#Fri\"`, `\"day#Sat\"`, `\"day#Sun\"`, since `\"day\"` has 4 modalities\n",
        "(see next line)."
      ],
      "id": "3d95a31e-db40-4059-9281-cc37f06c784a"
    },
    {
      "cell_type": "code",
      "execution_count": 86,
      "metadata": {},
      "outputs": [],
      "source": [
        "df['day'].unique()"
      ],
      "id": "bc7152e1"
    },
    {
      "cell_type": "code",
      "execution_count": 87,
      "metadata": {},
      "outputs": [],
      "source": [
        "df_one_hot.dtypes"
      ],
      "id": "3e50cb43"
    },
    {
      "cell_type": "markdown",
      "metadata": {},
      "source": [
        "## Pitfall. Colinearities with one-hot encoding\n",
        "\n",
        "Sums over dummies for `sex`, `smoker`, `day`, `time` and `size` are all\n",
        "equal to one (by constrution of the one-hot encoded vectors).\n",
        "\n",
        "-   Leads to **colinearities** in the matrix of features\n",
        "-   It is **much harder** to train a linear regressor when the columns\n",
        "    of the features matrix has colinearities"
      ],
      "id": "3ead7474-16a2-49de-be0d-78984b3e3582"
    },
    {
      "cell_type": "code",
      "execution_count": 88,
      "metadata": {},
      "outputs": [],
      "source": [
        "day_cols = [col for col in df_one_hot.columns if col.startswith(\"day\")]\n",
        "df_one_hot[day_cols].head()\n",
        "df_one_hot[day_cols].sum(axis=1)"
      ],
      "id": "5a96ddfd"
    },
    {
      "cell_type": "code",
      "execution_count": 89,
      "metadata": {},
      "outputs": [],
      "source": [
        "all(df_one_hot[day_cols].sum(axis=1) == 1)"
      ],
      "id": "2e1c8051"
    },
    {
      "cell_type": "markdown",
      "metadata": {},
      "source": [
        "The most standard solution is to remove a modality (i.e. remove a\n",
        "one-hot encoding vector). Simply achieved by specifying\n",
        "`drop_first=True` in the `get_dummies` function."
      ],
      "id": "fede946f-97ab-472b-a22b-6d8c5323e68c"
    },
    {
      "cell_type": "code",
      "execution_count": 90,
      "metadata": {},
      "outputs": [],
      "source": [
        "df[\"day\"].unique()"
      ],
      "id": "4b15a907"
    },
    {
      "cell_type": "code",
      "execution_count": 91,
      "metadata": {},
      "outputs": [],
      "source": [
        "pd.get_dummies(df, prefix_sep='#', drop_first=True).head()"
      ],
      "id": "312bd243"
    },
    {
      "cell_type": "markdown",
      "metadata": {},
      "source": [
        "Now, if a categorical feature has $K$ modalities, we use only $K-1$\n",
        "dummies. For instance, there is no more `sex#Female` binary column.\n",
        "\n",
        "**Question.** So, a linear regression won’t fit a weight for\n",
        "`sex#Female`. But, where do the model weights of the dropped binary\n",
        "columns go ?\n",
        "\n",
        "**Answer.** They just “go” to the **intercept**: interpretation of the\n",
        "population bias depends on the “dropped” one-hot encodings.\n",
        "\n",
        "So, we actually fit:\n",
        "$$\\begin{array}{rl} \\texttt{tip} \\approx b & + w_1 \\times \\texttt{total_bill} + w_2 \\times \\texttt{size} \\\\ & + w_3 \\times \\texttt{sex#Male} + w_4 \\times \\texttt{smoker#Yes} \\\\ & + w_5 \\times \\texttt{day#Sat} + w_6 \\times \\texttt{day#Sun} + w_7 \\times \\texttt{day#Thur} \\\\ & + w_8 \\times \\texttt{time#Lunch} \\end{array}$$"
      ],
      "id": "39172715-ec21-4465-a19b-c0948fa420df"
    }
  ],
  "nbformat": 4,
  "nbformat_minor": 5,
  "metadata": {
    "kernelspec": {
      "name": "python3",
      "display_name": "Python 3 (ipykernel)",
      "language": "python",
      "path": "/usr/share/jupyter/kernels/python3"
    },
    "language_info": {
      "name": "python",
      "codemirror_mode": {
        "name": "ipython",
        "version": "3"
      },
      "file_extension": ".py",
      "mimetype": "text/x-python",
      "nbconvert_exporter": "python",
      "pygments_lexer": "ipython3",
      "version": "3.12.3"
    }
  }
}