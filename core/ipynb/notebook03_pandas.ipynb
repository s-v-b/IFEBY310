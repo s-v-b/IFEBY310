{
  "cells": [
    {
      "cell_type": "markdown",
      "metadata": {},
      "source": [
        "# Introduction to `pandas`\n",
        "\n",
        "The `pandas` library (https://pandas.pydata.org) is one of the most used\n",
        "tool at the disposal of people working with data in `python` today.\n",
        "\n",
        "-   It allows to **crunch data** easily\n",
        "-   It mainly provides a `DataFrame` object (a **table of data**) with a\n",
        "    huge set of functionalities\n",
        "\n",
        "## Why ?\n",
        "\n",
        "Through `pandas`, you get acquainted with your data by **analyzing** it\n",
        "\n",
        "-   What’s the average, median, max, or min of each column?\n",
        "-   Does column A correlate with column B?\n",
        "-   What does the distribution of data in column C look like?\n",
        "\n",
        "## Why (con’t) ?\n",
        "\n",
        "you get acquainted with your data by **cleaning** and **transforming**\n",
        "it\n",
        "\n",
        "-   Removing missing values, filter rows or columns using some criteria\n",
        "-   Store the cleaned, transformed data back into virtually any format\n",
        "    or database\n",
        "-   Data visualization (when combined `matplotlib` or `seaborn` or\n",
        "    others)\n",
        "\n",
        "## Where ?\n",
        "\n",
        "`pandas` is a central component of the `python` “stack” for data science\n",
        "\n",
        "-   `pandas` is built on top of `numpy`\n",
        "-   often used in conjunction with other libraries\n",
        "-   a `DataFrame` is often fed to plotting functions or machine learning\n",
        "    algorithms (such as `scikit-learn`)\n",
        "-   Well-interfaced with `jupyter`, leading to a nice interactive\n",
        "    environment for data exploration and modeling\n",
        "\n",
        "## Core components of pandas\n",
        "\n",
        "The two primary components of pandas are the `Series` and `DataFrame`.\n",
        "\n",
        "-   A `Series` is essentially a column\n",
        "\n",
        "-   A `DataFrame` is a multi-dimensional table made up of a collection\n",
        "    of `Series` with equal length\n",
        "\n",
        "## Creating a `DataFrame` from scratch"
      ],
      "id": "98f91ae9-acea-4698-86e6-a35489dc8335"
    },
    {
      "cell_type": "code",
      "execution_count": 1,
      "metadata": {},
      "outputs": [],
      "source": [
        "import pandas as pd\n",
        "\n",
        "fruits = {\n",
        "    \"apples\": [3, 2, 0, 1],\n",
        "    \"oranges\": [0, 3, 7, 2]\n",
        "}\n",
        "\n",
        "df_fruits = pd.DataFrame(fruits)\n",
        "df_fruits"
      ],
      "id": "333f5302"
    },
    {
      "cell_type": "code",
      "execution_count": 2,
      "metadata": {},
      "outputs": [],
      "source": [
        "type(df_fruits)"
      ],
      "id": "b7454ced"
    },
    {
      "cell_type": "code",
      "execution_count": 3,
      "metadata": {},
      "outputs": [],
      "source": [
        "df_fruits[\"apples\"]"
      ],
      "id": "ca41d422"
    },
    {
      "cell_type": "code",
      "execution_count": 4,
      "metadata": {},
      "outputs": [],
      "source": [
        "type(df_fruits[\"apples\"])"
      ],
      "id": "2e879f46"
    },
    {
      "cell_type": "markdown",
      "metadata": {},
      "source": [
        "## Indexing\n",
        "\n",
        "-   By default, a `DataFrame` uses a contiguous index\n",
        "-   But what if we want to say **who** buys the fruits ?"
      ],
      "id": "97910212-e830-49c6-8e6c-92ecc2b414fc"
    },
    {
      "cell_type": "code",
      "execution_count": 5,
      "metadata": {},
      "outputs": [],
      "source": [
        "df_fruits = pd.DataFrame(fruits, index=[\"Daniel\", \"Sean\", \"Pierce\", \"Roger\"])\n",
        "df_fruits"
      ],
      "id": "2996dd33"
    },
    {
      "cell_type": "markdown",
      "metadata": {},
      "source": [
        "## `.loc` versus `.iloc`\n",
        "\n",
        "-   `.loc` **loc**ates by name\n",
        "-   `.iloc` **loc**ates by numerical **i**ndex"
      ],
      "id": "35cdbc64-9888-4d1d-bd2e-87016a7dba2e"
    },
    {
      "cell_type": "code",
      "execution_count": 6,
      "metadata": {},
      "outputs": [],
      "source": [
        "df_fruits"
      ],
      "id": "66da5bea"
    },
    {
      "cell_type": "code",
      "execution_count": 7,
      "metadata": {},
      "outputs": [],
      "source": [
        "# What's in Sean's basket ?\n",
        "df_fruits.loc['Sean']"
      ],
      "id": "dd686dca"
    },
    {
      "cell_type": "code",
      "execution_count": 8,
      "metadata": {},
      "outputs": [],
      "source": [
        "# Who has oranges ?\n",
        "df_fruits.loc[:, 'oranges']"
      ],
      "id": "03eacdb1"
    },
    {
      "cell_type": "code",
      "execution_count": 9,
      "metadata": {},
      "outputs": [],
      "source": [
        "# How many apples in Pierce's basket ?\n",
        "df_fruits.loc['Pierce', 'apples']"
      ],
      "id": "ccb29864"
    },
    {
      "cell_type": "code",
      "execution_count": 10,
      "metadata": {},
      "outputs": [],
      "source": [
        "df_fruits"
      ],
      "id": "27468756"
    },
    {
      "cell_type": "code",
      "execution_count": 11,
      "metadata": {},
      "outputs": [],
      "source": [
        "df_fruits.iloc[2, 1]"
      ],
      "id": "137860d2"
    },
    {
      "cell_type": "markdown",
      "metadata": {},
      "source": [
        "## Main attributes and methods of a `DataFrame`\n",
        "\n",
        "A `DataFrame` has many **attributes**"
      ],
      "id": "17782127-0f3a-447b-a8d3-2286d84246e1"
    },
    {
      "cell_type": "code",
      "execution_count": 12,
      "metadata": {},
      "outputs": [],
      "source": [
        "df_fruits.columns"
      ],
      "id": "814d2c0f"
    },
    {
      "cell_type": "code",
      "execution_count": 13,
      "metadata": {},
      "outputs": [],
      "source": [
        "df_fruits.index"
      ],
      "id": "572671c9"
    },
    {
      "cell_type": "code",
      "execution_count": 14,
      "metadata": {},
      "outputs": [],
      "source": [
        "df_fruits.dtypes"
      ],
      "id": "08a2a17b"
    },
    {
      "cell_type": "markdown",
      "metadata": {},
      "source": [
        "A `DataFrame` has many **methods**"
      ],
      "id": "967d9fd2-8802-4c9d-afbe-68bdbd7c2ffd"
    },
    {
      "cell_type": "code",
      "execution_count": 15,
      "metadata": {},
      "outputs": [],
      "source": [
        "df_fruits.info()"
      ],
      "id": "a9c7039a"
    },
    {
      "cell_type": "code",
      "execution_count": 16,
      "metadata": {},
      "outputs": [],
      "source": [
        "df_fruits.describe()"
      ],
      "id": "83208251"
    },
    {
      "cell_type": "markdown",
      "metadata": {},
      "source": [
        "## Missing values\n",
        "\n",
        "What if we don’t know how many apples are in Sean’s basket ?"
      ],
      "id": "b43e7732-a60c-45d0-bb95-05875c0cae03"
    },
    {
      "cell_type": "code",
      "execution_count": 17,
      "metadata": {},
      "outputs": [],
      "source": [
        "df_fruits.loc['Sean', 'apples'] = None\n",
        "df_fruits"
      ],
      "id": "97265b22"
    },
    {
      "cell_type": "code",
      "execution_count": 18,
      "metadata": {},
      "outputs": [],
      "source": [
        "df_fruits.describe()"
      ],
      "id": "336f6a46"
    },
    {
      "cell_type": "markdown",
      "metadata": {},
      "source": [
        "Note that `count` is **3** for apples now, since we have 1 missing value\n",
        "among the 4\n",
        "\n",
        "> **Note**\n",
        ">\n",
        "> To review the members of objects of class `pandas.DataFrame`, `dir()`\n",
        "> and module `inspect` are convenient."
      ],
      "id": "272e6efb-47de-4b85-8119-5c61a7dcc436"
    },
    {
      "cell_type": "code",
      "execution_count": 19,
      "metadata": {},
      "outputs": [],
      "source": [
        "[x for x in dir(df_fruits) if not x.startswith('_') and not callable(x)]"
      ],
      "id": "c01a1a6f"
    },
    {
      "cell_type": "code",
      "execution_count": 20,
      "metadata": {},
      "outputs": [],
      "source": [
        "import inspect\n",
        "\n",
        "# Get a list of methods\n",
        "membres = inspect.getmembers(df_fruits)\n",
        "\n",
        "method_names = [m[0] for m in membres \n",
        "    if callable(m[1]) and not m[0].startswith('_')]\n",
        "\n",
        "print(method_names)"
      ],
      "id": "8ae4c4f6"
    },
    {
      "cell_type": "code",
      "execution_count": 21,
      "metadata": {},
      "outputs": [],
      "source": [
        "others = [x for x in membres\n",
        "    if not callable(x[1])]\n",
        "\n",
        "[x[0] for x in others if not x[0].startswith('_')]"
      ],
      "id": "e9fb2b05"
    },
    {
      "cell_type": "markdown",
      "metadata": {},
      "source": [
        "## Adding a column\n",
        "\n",
        "Ooooops, we forgot about the bananas !"
      ],
      "id": "8645bd8a-da2c-42f2-9ea5-34c336f459de"
    },
    {
      "cell_type": "code",
      "execution_count": 22,
      "metadata": {},
      "outputs": [],
      "source": [
        "df_fruits[\"bananas\"] = [0, 2, 1, 6]\n",
        "df_fruits"
      ],
      "id": "c7fa5aa4"
    },
    {
      "cell_type": "markdown",
      "metadata": {},
      "source": [
        "## Adding a column with the date\n",
        "\n",
        "And we forgot the dates !"
      ],
      "id": "12571a91-0bd2-4d4d-8063-0b0521a23336"
    },
    {
      "cell_type": "code",
      "execution_count": 23,
      "metadata": {},
      "outputs": [],
      "source": [
        "df_fruits['time'] = [\n",
        "    \"2020/10/08 12:13\", \"2020/10/07 11:37\", \n",
        "    \"2020/10/10 14:07\", \"2020/10/09 10:51\"\n",
        "]\n",
        "df_fruits"
      ],
      "id": "a58281f1"
    },
    {
      "cell_type": "code",
      "execution_count": 24,
      "metadata": {},
      "outputs": [],
      "source": [
        "df_fruits.dtypes"
      ],
      "id": "7de49a43"
    },
    {
      "cell_type": "code",
      "execution_count": 25,
      "metadata": {},
      "outputs": [],
      "source": [
        "type(df_fruits.loc[\"Roger\", \"time\"])"
      ],
      "id": "d8696064"
    },
    {
      "cell_type": "markdown",
      "metadata": {},
      "source": [
        "It is not a date but a string (`str`) ! So we convert this column to\n",
        "something called `datetime`"
      ],
      "id": "579f97da-a727-4f00-8aae-f3f1e4893883"
    },
    {
      "cell_type": "code",
      "execution_count": 26,
      "metadata": {},
      "outputs": [],
      "source": [
        "df_fruits[\"time\"] = pd.to_datetime(df_fruits[\"time\"])\n",
        "df_fruits"
      ],
      "id": "8e9bbc58"
    },
    {
      "cell_type": "code",
      "execution_count": 27,
      "metadata": {},
      "outputs": [],
      "source": [
        "df_fruits.dtypes"
      ],
      "id": "4811584e"
    },
    {
      "cell_type": "markdown",
      "metadata": {},
      "source": [
        "> **Note**\n",
        ">\n",
        "> Every data science framework implements some `datetime` handling\n",
        "> scheme. For Python see [Python official documentation on `datetime`\n",
        "> module](https://docs.python.org/3/library/datetime.html#module-datetime)\n",
        "\n",
        "What if we want to keep only the baskets after (including) October, 9th\n",
        "?"
      ],
      "id": "53ba99c6-71a2-46e3-878c-cc5d02da6083"
    },
    {
      "cell_type": "code",
      "execution_count": 28,
      "metadata": {},
      "outputs": [],
      "source": [
        "df_fruits.loc[df_fruits[\"time\"] >= pd.Timestamp(\"2020/10/09\")]"
      ],
      "id": "b0e1ca42"
    },
    {
      "cell_type": "markdown",
      "metadata": {},
      "source": [
        "## Slices and subsets of rows or columns"
      ],
      "id": "9965663e-dc65-48e1-99dd-b40a7766afdc"
    },
    {
      "cell_type": "code",
      "execution_count": 29,
      "metadata": {},
      "outputs": [],
      "source": [
        "df_fruits"
      ],
      "id": "455953f1"
    },
    {
      "cell_type": "code",
      "execution_count": 30,
      "metadata": {},
      "outputs": [],
      "source": [
        "df_fruits.loc[:, \"oranges\":\"time\"]"
      ],
      "id": "caa5af2c"
    },
    {
      "cell_type": "code",
      "execution_count": 31,
      "metadata": {},
      "outputs": [],
      "source": [
        "df_fruits.loc[\"Daniel\":\"Sean\", \"apples\":\"bananas\"]"
      ],
      "id": "23726e01"
    },
    {
      "cell_type": "code",
      "execution_count": 32,
      "metadata": {},
      "outputs": [],
      "source": [
        "df_fruits[[\"apples\", \"time\"]]"
      ],
      "id": "cd0c6bf0"
    },
    {
      "cell_type": "markdown",
      "metadata": {},
      "source": [
        "## Write our data to a CSV file\n",
        "\n",
        "What if we want to write the file ?"
      ],
      "id": "62c824a6-19b6-4269-9136-ce33424036dc"
    },
    {
      "cell_type": "code",
      "execution_count": 33,
      "metadata": {},
      "outputs": [],
      "source": [
        "df_fruits"
      ],
      "id": "5d52ddcc"
    },
    {
      "cell_type": "code",
      "execution_count": 34,
      "metadata": {},
      "outputs": [],
      "source": [
        "df_fruits.to_csv(\"fruits.csv\")"
      ],
      "id": "d32f2b2b"
    },
    {
      "cell_type": "code",
      "execution_count": 35,
      "metadata": {},
      "outputs": [],
      "source": [
        "# Use !dir on windows\n",
        "!ls -alh | grep fru"
      ],
      "id": "555d758e"
    },
    {
      "cell_type": "code",
      "execution_count": 36,
      "metadata": {},
      "outputs": [],
      "source": [
        "!head -n 5 fruits.csv"
      ],
      "id": "1546cc7e"
    },
    {
      "cell_type": "markdown",
      "metadata": {},
      "source": [
        "## Reading data and working with it\n",
        "\n",
        "> **Note**\n",
        ">\n",
        "> The `tips` dataset comes through\n",
        "> [Kaggle](https://www.kaggle.com/code/sanjanabasu/tips-dataset/input)\n",
        ">\n",
        "> > This dataset is a treasure trove of information from a collection of\n",
        "> > case studies for business statistics. Special thanks to Bryant and\n",
        "> > Smith for their diligent work:\n",
        ">\n",
        "> > Bryant, P. G. and Smith, M (1995) Practical Data Analysis: Case\n",
        "> > Studies in Business Statistics. Homewood, IL: Richard D. Irwin\n",
        "> > Publishing.\n",
        ">\n",
        "> > You can also access this dataset now through the Python package\n",
        "> > Seaborn.\n",
        "\n",
        "It contains data about a restaurant: the bill, tip and some informations\n",
        "about the customers.\n",
        "\n",
        "> **A toy extraction pattern**\n",
        ">\n",
        "> A data pipeline usually starts with Extraction, that is gathering data\n",
        "> from some source, possibly in a galaxy far, far awy. Here follows a\n",
        "> toy extraction pattern\n",
        ">\n",
        "> -   obtain the data from some `URL` using package `requests`\n",
        "> -   save the data on the hard drive\n",
        "> -   load the data using Pandas\n",
        ">\n",
        "> ``` python\n",
        "> import requests\n",
        "> import os\n",
        ">\n",
        "> # The path containing your notebook\n",
        "> path_data = './'\n",
        "> # The name of the file\n",
        "> filename = 'tips.csv'\n",
        ">\n",
        "> if os.path.exists(os.path.join(path_data, filename)):\n",
        ">     print('The file %s already exists.' % os.path.join(path_data, filename))\n",
        "> else:\n",
        ">     url = 'https://raw.githubusercontent.com/mwaskom/seaborn-data/refs/heads/master/tips.csv'\n",
        ">     r = requests.get(url)\n",
        ">     with open(os.path.join(path_data, filename), 'wb') as f:\n",
        ">         f.write(r.content)\n",
        ">     print('Downloaded file %s.' % os.path.join(path_data, filename))\n",
        "> ```\n",
        ">\n",
        "> ``` python\n",
        "> df = pd.read_csv(\n",
        ">     \"tips.csv\", \n",
        ">     delimiter=\",\"\n",
        "> )\n",
        "> ```\n",
        "\n",
        "The data can be obtained from package `seaborn`."
      ],
      "id": "8351bdf2-cd94-4d91-8266-2fc9cee8e6d2"
    },
    {
      "cell_type": "code",
      "execution_count": 39,
      "metadata": {},
      "outputs": [],
      "source": [
        "import seaborn as sns\n",
        "\n",
        "sns_ds = sns.get_dataset_names()\n",
        "\n",
        "'tips' in sns_ds\n",
        "\n",
        "df = sns.load_dataset('tips')"
      ],
      "id": "502a5b0f"
    },
    {
      "cell_type": "code",
      "execution_count": 40,
      "metadata": {},
      "outputs": [],
      "source": [
        "# `.head()` shows the first rows of the dataframe\n",
        "df.head(n=10)"
      ],
      "id": "026c869b"
    },
    {
      "cell_type": "code",
      "execution_count": 41,
      "metadata": {},
      "outputs": [],
      "source": [
        "df.info()"
      ],
      "id": "7bc21085"
    },
    {
      "cell_type": "code",
      "execution_count": 42,
      "metadata": {},
      "outputs": [],
      "source": [
        "df.loc[42, \"day\"]"
      ],
      "id": "b9297c14"
    },
    {
      "cell_type": "code",
      "execution_count": 43,
      "metadata": {},
      "outputs": [],
      "source": [
        "type(df.loc[42, \"day\"])"
      ],
      "id": "4c40c4d7"
    },
    {
      "cell_type": "markdown",
      "metadata": {},
      "source": [
        "By default, columns that are non-numerical contain strings (`str` type)\n",
        "\n",
        "## The `category` type\n",
        "\n",
        "An important type in `pandas` is `category` for variables that are\n",
        "**non-numerical**\n",
        "\n",
        "**Pro tip.** It’s always a good idea to tell `pandas` which columns\n",
        "should be imported as **categorical**\n",
        "\n",
        "So, let’s read again the file specifying some `dtype`s to the `read_csv`\n",
        "function"
      ],
      "id": "0a8ad766-3f48-45c0-b5e1-9232218c60af"
    },
    {
      "cell_type": "code",
      "execution_count": 44,
      "metadata": {},
      "outputs": [],
      "source": [
        "dtypes = {\n",
        "    \"sex\": \"category\",\n",
        "    \"smoker\": \"category\",\n",
        "    \"day\": \"category\",\n",
        "    \"time\": \"category\"\n",
        "} \n",
        "\n",
        "df = pd.read_csv(\"tips.csv\", dtype=dtypes)"
      ],
      "id": "724384ee"
    },
    {
      "cell_type": "code",
      "execution_count": 45,
      "metadata": {},
      "outputs": [],
      "source": [
        "df.dtypes"
      ],
      "id": "f578c83f"
    },
    {
      "cell_type": "markdown",
      "metadata": {},
      "source": [
        "## Computing statistics"
      ],
      "id": "3630d928-8678-4f23-a75c-33fdfd0ed3b5"
    },
    {
      "cell_type": "code",
      "execution_count": 46,
      "metadata": {},
      "outputs": [],
      "source": [
        "# The describe method only shows statistics for the numerical columns by default\n",
        "df.describe()"
      ],
      "id": "4fe9695b"
    },
    {
      "cell_type": "code",
      "execution_count": 47,
      "metadata": {},
      "outputs": [],
      "source": [
        "# We use the include=\"all\" option to see everything\n",
        "df.describe(include=\"all\")"
      ],
      "id": "3aa226a2"
    },
    {
      "cell_type": "code",
      "execution_count": 48,
      "metadata": {},
      "outputs": [],
      "source": [
        "# Correlation between the numerical columns\n",
        "df.corr(numeric_only = True)"
      ],
      "id": "9063787d"
    },
    {
      "cell_type": "code",
      "execution_count": 49,
      "metadata": {},
      "outputs": [],
      "source": [
        "?df.corr"
      ],
      "id": "5ce9d886"
    },
    {
      "cell_type": "markdown",
      "metadata": {},
      "source": [
        "# Data visualization with `matplotlib` and `seaborn`\n",
        "\n",
        "Let’s show how we can use `matplotlib` and `seaborn` to visualize data\n",
        "contained in a `pandas` dataframe"
      ],
      "id": "ab7f0564-7331-4a77-8932-33c64ce874e4"
    },
    {
      "cell_type": "code",
      "execution_count": 50,
      "metadata": {},
      "outputs": [],
      "source": [
        "import matplotlib.pyplot as plt"
      ],
      "id": "0b386c57"
    },
    {
      "cell_type": "markdown",
      "metadata": {},
      "source": [
        "## How do the tip depends on the total bill ?"
      ],
      "id": "f362006f-8769-471e-8ca3-39d453b691b0"
    },
    {
      "cell_type": "code",
      "execution_count": 51,
      "metadata": {},
      "outputs": [],
      "source": [
        "sns.jointplot(x=\"total_bill\", y=\"tip\", data=df)"
      ],
      "id": "5852b996"
    },
    {
      "cell_type": "markdown",
      "metadata": {},
      "source": [
        "## When do customers go to this restaurant ?"
      ],
      "id": "09775a49-4cc8-498a-a2e5-13d389faa526"
    },
    {
      "cell_type": "code",
      "execution_count": 52,
      "metadata": {},
      "outputs": [],
      "source": [
        "sns.countplot(x='day', hue=\"time\", data=df)"
      ],
      "id": "d37c8cf9"
    },
    {
      "cell_type": "markdown",
      "metadata": {},
      "source": [
        "## When do customers spend the most ?"
      ],
      "id": "132e0f62-3824-40c0-ad49-0c6b6c1c17df"
    },
    {
      "cell_type": "code",
      "execution_count": 53,
      "metadata": {},
      "outputs": [],
      "source": [
        "plt.figure(figsize=(7, 5))\n",
        "sns.boxplot(x='day', y='total_bill', hue='time', data=df)\n",
        "plt.legend(loc=\"upper left\")"
      ],
      "id": "b8dcac6b"
    },
    {
      "cell_type": "code",
      "execution_count": 54,
      "metadata": {},
      "outputs": [],
      "source": [
        "plt.figure(figsize=(7, 5))\n",
        "sns.violinplot(x='day', y='total_bill', hue='time', split=True, data=df)\n",
        "plt.legend(loc=\"upper left\")"
      ],
      "id": "ac5e07db"
    },
    {
      "cell_type": "markdown",
      "metadata": {},
      "source": [
        "## Who spends the most ?"
      ],
      "id": "a65ed7e7-557f-4bc5-983f-2efddf94db82"
    },
    {
      "cell_type": "code",
      "execution_count": 55,
      "metadata": {},
      "outputs": [],
      "source": [
        "sns.boxplot(x='sex', y='total_bill', hue='smoker', data=df)"
      ],
      "id": "581bae2e"
    },
    {
      "cell_type": "markdown",
      "metadata": {},
      "source": [
        "## When should waiters want to work ?"
      ],
      "id": "2e260fc8-896d-4c9b-815a-7887235c66ac"
    },
    {
      "cell_type": "code",
      "execution_count": 56,
      "metadata": {},
      "outputs": [],
      "source": [
        "sns.boxplot(x='day', y='tip', hue='time', data=df)"
      ],
      "id": "a09d5ced"
    },
    {
      "cell_type": "code",
      "execution_count": 57,
      "metadata": {},
      "outputs": [],
      "source": [
        "sns.violinplot(x='day', y='tip', hue='time', data=df)"
      ],
      "id": "582d1951"
    },
    {
      "cell_type": "markdown",
      "metadata": {},
      "source": [
        "# Data processing with `pandas`\n",
        "\n",
        "Let us read again the `tips.csv` file"
      ],
      "id": "c106704d-1ac4-458e-acc4-2647b85467f5"
    },
    {
      "cell_type": "code",
      "execution_count": 58,
      "metadata": {},
      "outputs": [],
      "source": [
        "import pandas as pd\n",
        "\n",
        "dtypes = {\n",
        "    \"sex\": \"category\",\n",
        "    \"smoker\": \"category\",\n",
        "    \"day\": \"category\",\n",
        "    \"time\": \"category\"\n",
        "} \n",
        "\n",
        "df = pd.read_csv(\"tips.csv\", dtype=dtypes)\n",
        "df.head()"
      ],
      "id": "03b3a0e7"
    },
    {
      "cell_type": "markdown",
      "metadata": {},
      "source": [
        "## Computations using `pandas` : broadcasting\n",
        "\n",
        "Let’s add a column that contains the tip percentage"
      ],
      "id": "15cf0dec-c5f6-4afe-8143-5c2ea2ad5a3e"
    },
    {
      "cell_type": "code",
      "execution_count": 59,
      "metadata": {},
      "outputs": [],
      "source": [
        "df[\"tip_percentage\"] = df[\"tip\"] / df[\"total_bill\"]\n",
        "df.head()"
      ],
      "id": "8ecf62bb"
    },
    {
      "cell_type": "markdown",
      "metadata": {},
      "source": [
        "The computation\n",
        "\n",
        "```` markdown\n",
        "```{python}\n",
        "df[\"tip\"] / df[\"total_bill\"]\n",
        "```\n",
        "````\n",
        "\n",
        "uses a **broadcast** rule.\n",
        "\n",
        "-   We can multiply, add, subtract, etc. together `numpy` arrays,\n",
        "    `Series` or `pandas` dataframes when the computation **makes sense**\n",
        "    in view of their respective **shape**\n",
        "\n",
        "This principle is called **broadcast** or **broadcasting**.\n",
        "\n",
        "> **Note**\n",
        ">\n",
        "> Broadcasting is a key feature of `numpy` `ndarray`, see\n",
        ">\n",
        "> -   [Numpy User’s\n",
        ">     guide](https://numpy.org/doc/stable/user/basics.broadcasting.html)\n",
        "> -   [Pandas\n",
        ">     book](https://wesmckinney.com/book/advanced-numpy.html#numpy_broadcasting)"
      ],
      "id": "16809266-c913-4623-a895-0072fa24bb24"
    },
    {
      "cell_type": "code",
      "execution_count": 60,
      "metadata": {},
      "outputs": [],
      "source": [
        "df[\"tip\"].shape, df[\"total_bill\"].shape"
      ],
      "id": "0f5c0064"
    },
    {
      "cell_type": "markdown",
      "metadata": {},
      "source": [
        "The `tip` and `total_bill`columns have the same `shape`, so broadcasting\n",
        "performs **pairwise division**.\n",
        "\n",
        "This corresponds to the following “hand-crafted” approach with a `for`\n",
        "loop:"
      ],
      "id": "39ab3bf9-5a0e-4499-8f03-dfc567b2fe1a"
    },
    {
      "cell_type": "code",
      "execution_count": 61,
      "metadata": {},
      "outputs": [],
      "source": [
        "for i in range(df.shape[0]):\n",
        "    df.loc[i, \"tip_percentage\"] = df.loc[i, \"tip\"] / df.loc[i, \"total_bill\"]"
      ],
      "id": "6cc6d203"
    },
    {
      "cell_type": "markdown",
      "metadata": {},
      "source": [
        "But using such a loop is:\n",
        "\n",
        "-   longer to write\n",
        "-   less readable\n",
        "-   prone to mistakes\n",
        "-   and *slower* :(\n",
        "\n",
        "*NEVER* use `Python` for-loops unless you need to !"
      ],
      "id": "17a90cfe-f5fc-4550-b5a6-605409fcc1f3"
    },
    {
      "cell_type": "code",
      "execution_count": 62,
      "metadata": {},
      "outputs": [],
      "source": [
        "%%timeit -n 10\n",
        "for i in range(df.shape[0]):\n",
        "    df.loc[i, \"tip_percentage\"] = df.loc[i, \"tip\"] / df.loc[i, \"total_bill\"]"
      ],
      "id": "03a920b8"
    },
    {
      "cell_type": "code",
      "execution_count": 63,
      "metadata": {},
      "outputs": [],
      "source": [
        "%%timeit -n 10\n",
        "df[\"tip_percentage\"] = df[\"tip\"] / df[\"total_bill\"]"
      ],
      "id": "20200393"
    },
    {
      "cell_type": "markdown",
      "metadata": {},
      "source": [
        "The `for` loop is $\\approx$ **100 times slower** ! (even worse on larger\n",
        "data)\n",
        "\n",
        "### Pitfall. Changing values in a `DataFrame`\n",
        "\n",
        "When you want to change a value in a `DataFrame`, never use\n",
        "\n",
        "``` python\n",
        "df[\"tip_percentage\"].loc[i] = 42\n",
        "```\n",
        "\n",
        "but use\n",
        "\n",
        "``` python\n",
        "df.loc[i, \"tip_percentage\"] = 42\n",
        "```\n",
        "\n",
        "> **Caution**\n",
        ">\n",
        "> Use a **single** `loc` or `iloc` statement. The first version **might\n",
        "> not work**: it might modify a copy of the column and not the dataframe\n",
        "> itself !\n",
        "\n",
        "Another example of broadcasting is:"
      ],
      "id": "09c35836-2eac-4db6-ac01-19ae4293acc6"
    },
    {
      "cell_type": "code",
      "execution_count": 64,
      "metadata": {},
      "outputs": [],
      "source": [
        "(100 * df[[\"tip_percentage\"]]).head()"
      ],
      "id": "06591941"
    },
    {
      "cell_type": "markdown",
      "metadata": {},
      "source": [
        "where we multiplied **each entry** of the `tip_percentage` column by\n",
        "100.\n",
        "\n",
        "> **Remark**\n",
        ">\n",
        "> Note the difference between\n",
        ">\n",
        "> ``` python\n",
        "> df[['tip_percentage']]\n",
        "> ```\n",
        ">\n",
        "> which returns a `DataFrame` containing only the `tip_percentage`\n",
        "> column and\n",
        ">\n",
        "> ``` python\n",
        "> df['tip_percentage']\n",
        "> ```\n",
        ">\n",
        "> which returns a `Series` containing the data of the `tip_percentage`\n",
        "> column\n",
        "\n",
        "## Some more plots\n",
        "\n",
        "### How do the tip percentages relates to the total bill ?"
      ],
      "id": "0f05eeef-3fcb-4ead-b1cd-32e7366d20b2"
    },
    {
      "cell_type": "code",
      "execution_count": 65,
      "metadata": {},
      "outputs": [],
      "source": [
        "sns.jointplot(\n",
        "    x=\"total_bill\", \n",
        "    y=\"tip_percentage\", \n",
        "    data=df\n",
        ")"
      ],
      "id": "6f643656"
    },
    {
      "cell_type": "markdown",
      "metadata": {},
      "source": [
        "### Who tips best ?"
      ],
      "id": "4cc28887-a271-43e9-90d7-e3d344cadfab"
    },
    {
      "cell_type": "code",
      "execution_count": 66,
      "metadata": {},
      "outputs": [],
      "source": [
        "sns.boxplot(\n",
        "    x='sex', \n",
        "    y='tip_percentage', \n",
        "    hue='smoker', \n",
        "    data=df\n",
        ")"
      ],
      "id": "292e01f5"
    },
    {
      "cell_type": "markdown",
      "metadata": {},
      "source": [
        "### Who tips best without the `tip_percentage` outliers ?"
      ],
      "id": "f860adb5-f93c-4ba0-b5be-e8c2d1b2c992"
    },
    {
      "cell_type": "code",
      "execution_count": 67,
      "metadata": {},
      "outputs": [],
      "source": [
        "sns.boxplot(\n",
        "    x='sex', \n",
        "    y='tip_percentage', \n",
        "    hue='smoker', \n",
        "    data=df.loc[df[\"tip_percentage\"] <= 0.3]\n",
        ")"
      ],
      "id": "ec605980"
    },
    {
      "cell_type": "markdown",
      "metadata": {},
      "source": [
        "Object identity"
      ],
      "id": "6a02ab52-9e43-4e27-9113-5b63ed02a33b"
    },
    {
      "cell_type": "code",
      "execution_count": 68,
      "metadata": {},
      "outputs": [],
      "source": [
        "id(df)"
      ],
      "id": "f8d6beeb"
    },
    {
      "cell_type": "markdown",
      "metadata": {},
      "source": [
        "## The all-mighty `groupby` and `aggregate`\n",
        "\n",
        "Many computations can be formulated as a **groupby** followed by and\n",
        "**aggregation**.\n",
        "\n",
        "### What is the mean `tip` and `tip percentage` each day ?"
      ],
      "id": "c8ea5b4b-9c8b-4ece-b15e-de6bbb67ca80"
    },
    {
      "cell_type": "code",
      "execution_count": 69,
      "metadata": {},
      "outputs": [],
      "source": [
        "df.head()"
      ],
      "id": "b2a4d347"
    },
    {
      "cell_type": "code",
      "execution_count": 70,
      "metadata": {},
      "outputs": [],
      "source": [
        "try:\n",
        "\n",
        "    df.groupby(\"day\", observed=True).mean()\n",
        "except TypeError:\n",
        "    print('TypeError: category dtype does not support aggregation \"mean\"')"
      ],
      "id": "76b6572e"
    },
    {
      "cell_type": "markdown",
      "metadata": {},
      "source": [
        "But we do not care about the `size` column here, so we can use instead"
      ],
      "id": "d05bc510-0b86-4a7b-b510-9a1136023de9"
    },
    {
      "cell_type": "code",
      "execution_count": 71,
      "metadata": {},
      "outputs": [],
      "source": [
        "(\n",
        "    df[[\"total_bill\", \"tip\", \"tip_percentage\", \"day\"]]\n",
        "        .groupby(\"day\")\n",
        "        .mean()\n",
        ")"
      ],
      "id": "2c1ed355"
    },
    {
      "cell_type": "markdown",
      "metadata": {},
      "source": [
        "If we want to be more precise, we can `groupby` using several columns"
      ],
      "id": "4e75deb8-722b-4df6-b226-a7fa4c5c6be9"
    },
    {
      "cell_type": "code",
      "execution_count": 72,
      "metadata": {},
      "outputs": [],
      "source": [
        "(\n",
        "    df[[\"total_bill\", \"tip\", \"tip_percentage\", \"day\", \"time\"]]   # selection\n",
        "        .groupby([\"day\",\"time\"])                                # partition\n",
        "        .mean()                                                  # aggregation\n",
        ")"
      ],
      "id": "902b3312"
    },
    {
      "cell_type": "markdown",
      "metadata": {},
      "source": [
        "> **Remarks**\n",
        ">\n",
        "> -   We obtain a `DataFrame` with a two-level indexing: on the `day`\n",
        ">     and the `time`\n",
        "> -   Groups must be homogeneous: we have `NaN` values for empty groups\n",
        ">     (e.g. `Sat`, `Lunch`)\n",
        "\n",
        "### Pro tip\n",
        "\n",
        "Sometimes, it is more convenient to get the groups as columns instead of\n",
        "a multi-level index.\n",
        "\n",
        "For this, use `reset_index`:"
      ],
      "id": "b5471147-c4b7-4308-af73-1c728fc4e435"
    },
    {
      "cell_type": "code",
      "execution_count": 73,
      "metadata": {},
      "outputs": [],
      "source": [
        "(\n",
        "    df[[\"total_bill\", \"tip\", \"tip_percentage\", \"day\", \"time\"]]   # selection\n",
        "        .groupby([\"day\", \"time\"])                                # partition\n",
        "        .mean() # aggregation\n",
        "        .reset_index()   # ako ungroup\n",
        ")"
      ],
      "id": "59c8a0bb"
    },
    {
      "cell_type": "markdown",
      "metadata": {},
      "source": [
        "### Another pro tip: care about code readers\n",
        "\n",
        "Computations with pandas can include many operations that are\n",
        "**pipelined** until the final computation.\n",
        "\n",
        "Pipelining many operations is good practice and perfectly normal, but in\n",
        "order to make the code readable you can put it between parenthesis\n",
        "(`python` expression) as follows:"
      ],
      "id": "c9bb3ef7-dc29-4e12-9b1b-08c167d1436b"
    },
    {
      "cell_type": "code",
      "execution_count": 74,
      "metadata": {},
      "outputs": [],
      "source": [
        "(\n",
        "    df[[\"total_bill\", \"tip\", \"tip_percentage\", \"day\", \"time\"]]\n",
        "    .groupby([\"day\", \"time\"])\n",
        "    .mean()\n",
        "    .reset_index()\n",
        "    # and on top of all this we sort the dataframe with respect \n",
        "    # to the tip_percentage\n",
        "    .sort_values(\"tip_percentage\")\n",
        ")"
      ],
      "id": "a0125938"
    },
    {
      "cell_type": "markdown",
      "metadata": {},
      "source": [
        "## Displaying a `DataFrame` with `style`\n",
        "\n",
        "Now, we can answer, with style, to the question: what are the average\n",
        "tip percentages along the week ?"
      ],
      "id": "a3ea794f-2011-4dbd-ab81-44fd07c21031"
    },
    {
      "cell_type": "code",
      "execution_count": 75,
      "metadata": {},
      "outputs": [],
      "source": [
        "(\n",
        "    df[[\"tip_percentage\", \"day\", \"time\"]]\n",
        "    .groupby([\"day\", \"time\"])\n",
        "    .mean()\n",
        "    # At the end of the pipeline you can use .style\n",
        "    .style\n",
        "    # Print numerical values as percentages \n",
        "    .format(\"{:.2%}\")\n",
        "    .background_gradient()\n",
        ")"
      ],
      "id": "48d485ca"
    },
    {
      "cell_type": "markdown",
      "metadata": {},
      "source": [
        "## Removing the `NaN` values\n",
        "\n",
        "But the `NaN` values are somewhat annoying. Let’s remove them"
      ],
      "id": "80ef7081-07ed-4a85-9135-a97497dad710"
    },
    {
      "cell_type": "code",
      "execution_count": 76,
      "metadata": {},
      "outputs": [],
      "source": [
        "(\n",
        "    df[[\"tip_percentage\", \"day\", \"time\"]]\n",
        "    .groupby([\"day\", \"time\"])\n",
        "    .mean()\n",
        "    # We just add this from the previous pipeline\n",
        "    .dropna()\n",
        "    .style\n",
        "    .format(\"{:.2%}\")\n",
        "    .background_gradient()\n",
        ")"
      ],
      "id": "440b796f"
    },
    {
      "cell_type": "markdown",
      "metadata": {},
      "source": [
        "Now, we see when `tip_percentage` is maximal. But what about the\n",
        "standard deviation?\n",
        "\n",
        "-   We used only `.mean()` for now, but we can use several aggregating\n",
        "    function using `.agg()`"
      ],
      "id": "f6be60d3-2e37-4458-bb41-037ccd732ba0"
    },
    {
      "cell_type": "code",
      "execution_count": 77,
      "metadata": {},
      "outputs": [],
      "source": [
        "(\n",
        "    df[[\"tip_percentage\", \"day\", \"time\"]]\n",
        "    .groupby([\"day\", \"time\"])\n",
        "    .agg([\"mean\", \"std\"])   # we feed `agg`  with a list of names of callables \n",
        "    .dropna()\n",
        "    .style\n",
        "    .format(\"{:.2%}\")\n",
        "    .background_gradient()\n",
        ")"
      ],
      "id": "b4ab5187"
    },
    {
      "cell_type": "markdown",
      "metadata": {},
      "source": [
        "And we can use also `.describe()` as aggregation function. Moreover we -\n",
        "use the `subset` option to specify which column we want to style - we\n",
        "use `(\"tip_percentage\", \"count\")` to access multi-level index"
      ],
      "id": "598f2350-5b21-41bc-a276-6e18e71c9e4b"
    },
    {
      "cell_type": "code",
      "execution_count": 78,
      "metadata": {},
      "outputs": [],
      "source": [
        "(\n",
        "    df[[\"tip_percentage\", \"day\", \"time\"]]\n",
        "    .groupby([\"day\", \"time\"])\n",
        "    .describe()    # all-purpose summarising function\n",
        ")"
      ],
      "id": "b0b78794"
    },
    {
      "cell_type": "code",
      "execution_count": 79,
      "metadata": {},
      "outputs": [],
      "source": [
        "(\n",
        "    df[[\"tip_percentage\", \"day\", \"time\"]]\n",
        "    .groupby([\"day\", \"time\"])\n",
        "    .describe()\n",
        "    .dropna()\n",
        "    .style\n",
        "    .bar(subset=[(\"tip_percentage\", \"count\")])\n",
        "    .background_gradient(subset=[(\"tip_percentage\", \"50%\")])\n",
        ")"
      ],
      "id": "2388995d"
    },
    {
      "cell_type": "markdown",
      "metadata": {},
      "source": [
        "## Supervised learning of `tip` based on the `total_bill`\n",
        "\n",
        "As an example of very simple **machine-learning** problem, let us try to\n",
        "understand how we can predict `tip` based on `total_bill`."
      ],
      "id": "711742b3-2f2d-46f1-937b-0c1341f6f9c4"
    },
    {
      "cell_type": "code",
      "execution_count": 80,
      "metadata": {},
      "outputs": [],
      "source": [
        "import numpy as np\n",
        "\n",
        "plt.scatter(df[\"total_bill\"], df[\"tip\"])\n",
        "plt.xlabel(\"total_bill\", fontsize=12)\n",
        "plt.ylabel(\"tip\", fontsize=12)"
      ],
      "id": "a9da45b4"
    },
    {
      "cell_type": "markdown",
      "metadata": {},
      "source": [
        "There’s a rough **linear** dependence between the two. Let us try to\n",
        "find it by hand!<br> Namely, we look for numbers $b$ and $w$ such that\n",
        "\n",
        "    tip ≈ b + w × total_bill\n",
        "\n",
        "for all the examples of pairs of `(tip, total_bill)` we observe in the\n",
        "data.\n",
        "\n",
        "In **machine learning**, we say that this is a very simple example of a\n",
        "**supervised learning** problem (here it is a regression problem), where\n",
        "`tip` is the **label** and where `total_bill` is the (only) **feature**,\n",
        "for which we intend to use a **linear predictor**."
      ],
      "id": "62bf5076-a5e8-4a5d-9e5c-52d2c5a58c69"
    },
    {
      "cell_type": "code",
      "execution_count": 81,
      "metadata": {},
      "outputs": [],
      "source": [
        "plt.scatter(df[\"total_bill\"], df[\"tip\"])\n",
        "plt.xlabel(\"total_bill\", fontsize=12)\n",
        "plt.ylabel(\"tip\", fontsize=12)\n",
        "\n",
        "slope = 1.0\n",
        "intercept = 0.0\n",
        "\n",
        "x = np.linspace(0, 50, 1000)\n",
        "plt.plot(x, intercept + slope * x, color=\"red\")"
      ],
      "id": "2b9ef95e"
    },
    {
      "cell_type": "markdown",
      "metadata": {},
      "source": [
        "### A more interactive way\n",
        "\n",
        "This might require"
      ],
      "id": "5d937917-e6fb-40b2-a0dc-bd634c8880c4"
    },
    {
      "cell_type": "code",
      "execution_count": 82,
      "metadata": {},
      "outputs": [],
      "source": [
        "# !pip install ipympl"
      ],
      "id": "989cf404"
    },
    {
      "cell_type": "code",
      "execution_count": 83,
      "metadata": {},
      "outputs": [],
      "source": [
        "import ipywidgets as widgets\n",
        "import matplotlib.pyplot as plt\n",
        "import numpy as np\n",
        "\n",
        "%matplotlib widget\n",
        "%matplotlib inline\n",
        "\n",
        "x = np.linspace(0, 50, 1000)\n",
        "\n",
        "@widgets.interact(intercept=(-5, 5, 1.), slope=(0, 1, .05))\n",
        "def update(intercept=0.0, slope=0.5):\n",
        "    plt.scatter(df[\"total_bill\"], df[\"tip\"])\n",
        "    plt.plot(x, intercept + slope * x, color=\"red\")\n",
        "    plt.xlim((0, 50))\n",
        "    plt.ylim((0, 10))\n",
        "    plt.xlabel(\"total_bill\", fontsize=12)\n",
        "    plt.ylabel(\"tip\", fontsize=12)"
      ],
      "id": "3dfa4690"
    },
    {
      "cell_type": "markdown",
      "metadata": {},
      "source": [
        "This is kind of tedious to do this by hand… it would be nice to come up\n",
        "with an **automated** way of doing this. Moreover:\n",
        "\n",
        "-   We are using a **linear** function, while something more complicated\n",
        "    (such as a polynomial) might be better\n",
        "-   More importantly, we use **only** the `total_bill` column to predict\n",
        "    the `tip`, while we know about many other things"
      ],
      "id": "c5c2fec5-cd2b-45ce-863c-b55837ad7bdd"
    },
    {
      "cell_type": "code",
      "execution_count": 84,
      "metadata": {},
      "outputs": [],
      "source": [
        "df.head()"
      ],
      "id": "fdffec2e"
    },
    {
      "cell_type": "markdown",
      "metadata": {},
      "source": [
        "## One-hot encoding of categorical variables\n",
        "\n",
        "We can’t perform computations (products and sums) with columns\n",
        "containing **categorical** variables. So, we can’t use them like this to\n",
        "predict the `tip`. We need to **convert** them to numbers somehow.\n",
        "\n",
        "The most classical approach for this is **one-hot encoding** (or “create\n",
        "dummies” or “binarize”) of the categorical variables, which can be\n",
        "easily achieved with `pandas.get_dummies`\n",
        "\n",
        "Why *one-hot* ? See [wikipedia](https://en.wikipedia.org/wiki/One-hot)\n",
        "for a plausible explanation"
      ],
      "id": "73615680-fea8-41f3-9822-b677ea48811c"
    },
    {
      "cell_type": "code",
      "execution_count": 85,
      "metadata": {},
      "outputs": [],
      "source": [
        "df_one_hot = pd.get_dummies(df, prefix_sep='#')\n",
        "df_one_hot.head(5)"
      ],
      "id": "9c130bc2"
    },
    {
      "cell_type": "markdown",
      "metadata": {},
      "source": [
        "Only the categorical columns have been one-hot encoded. For instance,\n",
        "the `\"day\"` column is replaced by 4 columns named `\"day#Thur\"`,\n",
        "`\"day#Fri\"`, `\"day#Sat\"`, `\"day#Sun\"`, since `\"day\"` has 4 modalities\n",
        "(see next line)."
      ],
      "id": "cf0212d9-4612-4b7d-842c-c638fb224f48"
    },
    {
      "cell_type": "code",
      "execution_count": 86,
      "metadata": {},
      "outputs": [],
      "source": [
        "df['day'].unique()"
      ],
      "id": "0590ce60"
    },
    {
      "cell_type": "code",
      "execution_count": 87,
      "metadata": {},
      "outputs": [],
      "source": [
        "df_one_hot.dtypes"
      ],
      "id": "b36efdd1"
    },
    {
      "cell_type": "markdown",
      "metadata": {},
      "source": [
        "## Pitfall. Colinearities with one-hot encoding\n",
        "\n",
        "Sums over dummies for `sex`, `smoker`, `day`, `time` and `size` are all\n",
        "equal to one (by constrution of the one-hot encoded vectors).\n",
        "\n",
        "-   Leads to **colinearities** in the matrix of features\n",
        "-   It is **much harder** to train a linear regressor when the columns\n",
        "    of the features matrix has colinearities"
      ],
      "id": "28b4426c-d08e-497d-b779-7f44069059d3"
    },
    {
      "cell_type": "code",
      "execution_count": 88,
      "metadata": {},
      "outputs": [],
      "source": [
        "day_cols = [col for col in df_one_hot.columns if col.startswith(\"day\")]\n",
        "df_one_hot[day_cols].head()\n",
        "df_one_hot[day_cols].sum(axis=1)"
      ],
      "id": "1c41eeea"
    },
    {
      "cell_type": "code",
      "execution_count": 89,
      "metadata": {},
      "outputs": [],
      "source": [
        "all(df_one_hot[day_cols].sum(axis=1) == 1)"
      ],
      "id": "c7f86089"
    },
    {
      "cell_type": "markdown",
      "metadata": {},
      "source": [
        "The most standard solution is to remove a modality (i.e. remove a\n",
        "one-hot encoding vector). Simply achieved by specifying\n",
        "`drop_first=True` in the `get_dummies` function."
      ],
      "id": "493a761d-9425-43fe-b7a9-447ab91eb7eb"
    },
    {
      "cell_type": "code",
      "execution_count": 90,
      "metadata": {},
      "outputs": [],
      "source": [
        "df[\"day\"].unique()"
      ],
      "id": "78f12882"
    },
    {
      "cell_type": "code",
      "execution_count": 91,
      "metadata": {},
      "outputs": [],
      "source": [
        "pd.get_dummies(df, prefix_sep='#', drop_first=True).head()"
      ],
      "id": "0005def9"
    },
    {
      "cell_type": "markdown",
      "metadata": {},
      "source": [
        "Now, if a categorical feature has $K$ modalities, we use only $K-1$\n",
        "dummies. For instance, there is no more `sex#Female` binary column.\n",
        "\n",
        "**Question.** So, a linear regression won’t fit a weight for\n",
        "`sex#Female`. But, where do the model weights of the dropped binary\n",
        "columns go ?\n",
        "\n",
        "**Answer.** They just “go” to the **intercept**: interpretation of the\n",
        "population bias depends on the “dropped” one-hot encodings.\n",
        "\n",
        "So, we actually fit:\n",
        "$$\\begin{array}{rl} \\texttt{tip} \\approx b & + w_1 \\times \\texttt{total_bill} + w_2 \\times \\texttt{size} \\\\ & + w_3 \\times \\texttt{sex#Male} + w_4 \\times \\texttt{smoker#Yes} \\\\ & + w_5 \\times \\texttt{day#Sat} + w_6 \\times \\texttt{day#Sun} + w_7 \\times \\texttt{day#Thur} \\\\ & + w_8 \\times \\texttt{time#Lunch} \\end{array}$$"
      ],
      "id": "cab70c82-9ba5-4175-ad37-ff6448f27450"
    }
  ],
  "nbformat": 4,
  "nbformat_minor": 5,
  "metadata": {
    "kernelspec": {
      "name": "python3",
      "display_name": "Python 3 (ipykernel)",
      "language": "python",
      "path": "/usr/share/jupyter/kernels/python3"
    },
    "language_info": {
      "name": "python",
      "codemirror_mode": {
        "name": "ipython",
        "version": "3"
      },
      "file_extension": ".py",
      "mimetype": "text/x-python",
      "nbconvert_exporter": "python",
      "pygments_lexer": "ipython3",
      "version": "3.12.3"
    }
  }
}