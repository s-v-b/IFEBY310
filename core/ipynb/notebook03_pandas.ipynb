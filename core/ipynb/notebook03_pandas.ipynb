{
  "cells": [
    {
      "cell_type": "markdown",
      "metadata": {},
      "source": [
        "# Introduction to `pandas`\n",
        "\n",
        "The `pandas` library (https://pandas.pydata.org) is one of the most used\n",
        "tool at the disposal of people working with data in `python` today.\n",
        "\n",
        "-   It allows to **crunch data** easily\n",
        "-   It mainly provides a `DataFrame` object (a **table of data**) with a\n",
        "    huge set of functionalities\n",
        "\n",
        "## Why ?\n",
        "\n",
        "Through `pandas`, you get acquainted with your data by **analyzing** it\n",
        "\n",
        "-   What’s the average, median, max, or min of each column?\n",
        "-   Does column A correlate with column B?\n",
        "-   What does the distribution of data in column C look like?\n",
        "\n",
        "## Why (con’t) ?\n",
        "\n",
        "you get acquainted with your data by **cleaning** and **transforming**\n",
        "it\n",
        "\n",
        "-   Removing missing values, filter rows or columns using some criteria\n",
        "-   Store the cleaned, transformed data back into virtually any format\n",
        "    or database\n",
        "-   Data visualization (when combined `matplotlib` or `seaborn` or\n",
        "    others)\n",
        "\n",
        "## Where ?\n",
        "\n",
        "`pandas` is a central component of the `python` “stack” for data science\n",
        "\n",
        "-   `pandas` is built on top of `numpy`\n",
        "-   often used in conjunction with other libraries\n",
        "-   a `DataFrame` is often fed to plotting functions or machine learning\n",
        "    algorithms (such as `scikit-learn`)\n",
        "-   Well-interfaced with `jupyter`, leading to a nice interactive\n",
        "    environment for data exploration and modeling\n",
        "\n",
        "## Core components of pandas\n",
        "\n",
        "The two primary components of pandas are the `Series` and `DataFrame`.\n",
        "\n",
        "-   A `Series` is essentially a column\n",
        "\n",
        "-   A `DataFrame` is a multi-dimensional table made up of a collection\n",
        "    of `Series` with equal length\n",
        "\n",
        "## Creating a `DataFrame` from scratch"
      ],
      "id": "bf383c24-6052-4a38-87ba-a01da46c1c41"
    },
    {
      "cell_type": "code",
      "execution_count": 1,
      "metadata": {},
      "outputs": [],
      "source": [
        "import pandas as pd\n",
        "\n",
        "fruits = {\n",
        "    \"apples\": [3, 2, 0, 1],\n",
        "    \"oranges\": [0, 3, 7, 2]\n",
        "}\n",
        "\n",
        "df_fruits = pd.DataFrame(fruits)\n",
        "df_fruits"
      ],
      "id": "e44ed85a"
    },
    {
      "cell_type": "code",
      "execution_count": 2,
      "metadata": {},
      "outputs": [],
      "source": [
        "type(df_fruits)"
      ],
      "id": "151eb5c4"
    },
    {
      "cell_type": "code",
      "execution_count": 3,
      "metadata": {},
      "outputs": [],
      "source": [
        "df_fruits[\"apples\"]"
      ],
      "id": "3ae7896e"
    },
    {
      "cell_type": "code",
      "execution_count": 4,
      "metadata": {},
      "outputs": [],
      "source": [
        "type(df_fruits[\"apples\"])"
      ],
      "id": "3aa85301"
    },
    {
      "cell_type": "markdown",
      "metadata": {},
      "source": [
        "## Indexing\n",
        "\n",
        "-   By default, a `DataFrame` uses a contiguous index\n",
        "-   But what if we want to say **who** buys the fruits ?"
      ],
      "id": "d94f3e60-9668-4051-9d83-be4e620e3248"
    },
    {
      "cell_type": "code",
      "execution_count": 5,
      "metadata": {},
      "outputs": [],
      "source": [
        "df_fruits = pd.DataFrame(fruits, index=[\"Daniel\", \"Sean\", \"Pierce\", \"Roger\"])\n",
        "df_fruits"
      ],
      "id": "4981a9be"
    },
    {
      "cell_type": "markdown",
      "metadata": {},
      "source": [
        "## `.loc` versus `.iloc`\n",
        "\n",
        "-   `.loc` **loc**ates by name\n",
        "-   `.iloc` **loc**ates by numerical **i**ndex"
      ],
      "id": "abf92ae6-9476-4c00-9b95-f0c3881b7041"
    },
    {
      "cell_type": "code",
      "execution_count": 6,
      "metadata": {},
      "outputs": [],
      "source": [
        "df_fruits"
      ],
      "id": "d388d6e8"
    },
    {
      "cell_type": "code",
      "execution_count": 7,
      "metadata": {},
      "outputs": [],
      "source": [
        "# What's in Sean's basket ?\n",
        "df_fruits.loc['Sean']"
      ],
      "id": "e4db8014"
    },
    {
      "cell_type": "code",
      "execution_count": 8,
      "metadata": {},
      "outputs": [],
      "source": [
        "# Who has oranges ?\n",
        "df_fruits.loc[:, 'oranges']"
      ],
      "id": "4528117a"
    },
    {
      "cell_type": "code",
      "execution_count": 9,
      "metadata": {},
      "outputs": [],
      "source": [
        "# How many apples in Pierce's basket ?\n",
        "df_fruits.loc['Pierce', 'apples']"
      ],
      "id": "b0f18d3f"
    },
    {
      "cell_type": "code",
      "execution_count": 10,
      "metadata": {},
      "outputs": [],
      "source": [
        "df_fruits"
      ],
      "id": "8161247b"
    },
    {
      "cell_type": "code",
      "execution_count": 11,
      "metadata": {},
      "outputs": [],
      "source": [
        "df_fruits.iloc[2, 1]"
      ],
      "id": "9ee9f10f"
    },
    {
      "cell_type": "markdown",
      "metadata": {},
      "source": [
        "## Main attributes and methods of a `DataFrame`\n",
        "\n",
        "A `DataFrame` has many **attributes**"
      ],
      "id": "0f49ebf9-1a06-45a4-ae81-dc863addd840"
    },
    {
      "cell_type": "code",
      "execution_count": 12,
      "metadata": {},
      "outputs": [],
      "source": [
        "df_fruits.columns"
      ],
      "id": "6e124ced"
    },
    {
      "cell_type": "code",
      "execution_count": 13,
      "metadata": {},
      "outputs": [],
      "source": [
        "df_fruits.index"
      ],
      "id": "0436c437"
    },
    {
      "cell_type": "code",
      "execution_count": 14,
      "metadata": {},
      "outputs": [],
      "source": [
        "df_fruits.dtypes"
      ],
      "id": "76d461a6"
    },
    {
      "cell_type": "markdown",
      "metadata": {},
      "source": [
        "A `DataFrame` has many **methods**"
      ],
      "id": "4fd92b94-8158-4a09-8b9e-0628a45fabdc"
    },
    {
      "cell_type": "code",
      "execution_count": 15,
      "metadata": {},
      "outputs": [],
      "source": [
        "df_fruits.info()"
      ],
      "id": "4e29d561"
    },
    {
      "cell_type": "code",
      "execution_count": 16,
      "metadata": {},
      "outputs": [],
      "source": [
        "df_fruits.describe()"
      ],
      "id": "9c547d81"
    },
    {
      "cell_type": "markdown",
      "metadata": {},
      "source": [
        "## Missing values\n",
        "\n",
        "What if we don’t know how many apples are in Sean’s basket ?"
      ],
      "id": "737df75b-4a4e-45f2-90a2-2c091f7d21fd"
    },
    {
      "cell_type": "code",
      "execution_count": 17,
      "metadata": {},
      "outputs": [],
      "source": [
        "df_fruits.loc['Sean', 'apples'] = None\n",
        "df_fruits"
      ],
      "id": "9206a020"
    },
    {
      "cell_type": "code",
      "execution_count": 18,
      "metadata": {},
      "outputs": [],
      "source": [
        "df_fruits.describe()"
      ],
      "id": "5239410b"
    },
    {
      "cell_type": "markdown",
      "metadata": {},
      "source": [
        "Note that `count` is **3** for apples now, since we have 1 missing value\n",
        "among the 4\n",
        "\n",
        "> **Note**\n",
        ">\n",
        "> To review the members of objects of class `pandas.DataFrame`, `dir()`\n",
        "> and module `inspect` are convenient."
      ],
      "id": "1880b84d-0b74-49aa-9902-d1730ee02cb7"
    },
    {
      "cell_type": "code",
      "execution_count": 19,
      "metadata": {},
      "outputs": [],
      "source": [
        "[x for x in dir(df_fruits) if not x.startswith('_') and not callable(x)]"
      ],
      "id": "a357bd11"
    },
    {
      "cell_type": "code",
      "execution_count": 20,
      "metadata": {},
      "outputs": [],
      "source": [
        "import inspect\n",
        "\n",
        "# Get a list of methods\n",
        "membres = inspect.getmembers(df_fruits)\n",
        "\n",
        "method_names = [m[0] for m in membres \n",
        "    if callable(m[1]) and not m[0].startswith('_')]\n",
        "\n",
        "print(method_names)"
      ],
      "id": "3b39a539"
    },
    {
      "cell_type": "code",
      "execution_count": 21,
      "metadata": {},
      "outputs": [],
      "source": [
        "others = [x for x in membres\n",
        "    if not callable(x[1])]\n",
        "\n",
        "[x[0] for x in others if not x[0].startswith('_')]"
      ],
      "id": "39076ce0"
    },
    {
      "cell_type": "markdown",
      "metadata": {},
      "source": [
        "## Adding a column\n",
        "\n",
        "Ooooops, we forgot about the bananas !"
      ],
      "id": "028069c7-3987-4a3b-8083-ee9cf91e3cf2"
    },
    {
      "cell_type": "code",
      "execution_count": 22,
      "metadata": {},
      "outputs": [],
      "source": [
        "df_fruits[\"bananas\"] = [0, 2, 1, 6]\n",
        "df_fruits"
      ],
      "id": "12791012"
    },
    {
      "cell_type": "markdown",
      "metadata": {},
      "source": [
        "## Adding a column with the date\n",
        "\n",
        "And we forgot the dates !"
      ],
      "id": "b48c35fe-32f2-435f-b7e0-5cdadf813752"
    },
    {
      "cell_type": "code",
      "execution_count": 23,
      "metadata": {},
      "outputs": [],
      "source": [
        "df_fruits['time'] = [\n",
        "    \"2020/10/08 12:13\", \"2020/10/07 11:37\", \n",
        "    \"2020/10/10 14:07\", \"2020/10/09 10:51\"\n",
        "]\n",
        "df_fruits"
      ],
      "id": "93836141"
    },
    {
      "cell_type": "code",
      "execution_count": 24,
      "metadata": {},
      "outputs": [],
      "source": [
        "df_fruits.dtypes"
      ],
      "id": "f33ca015"
    },
    {
      "cell_type": "code",
      "execution_count": 25,
      "metadata": {},
      "outputs": [],
      "source": [
        "type(df_fruits.loc[\"Roger\", \"time\"])"
      ],
      "id": "9e766784"
    },
    {
      "cell_type": "markdown",
      "metadata": {},
      "source": [
        "It is not a date but a string (`str`) ! So we convert this column to\n",
        "something called `datetime`"
      ],
      "id": "f6f5b075-bee4-4c60-977e-b4d1e498937f"
    },
    {
      "cell_type": "code",
      "execution_count": 26,
      "metadata": {},
      "outputs": [],
      "source": [
        "df_fruits[\"time\"] = pd.to_datetime(df_fruits[\"time\"])\n",
        "df_fruits"
      ],
      "id": "763b3570"
    },
    {
      "cell_type": "code",
      "execution_count": 27,
      "metadata": {},
      "outputs": [],
      "source": [
        "df_fruits.dtypes"
      ],
      "id": "10529c9b"
    },
    {
      "cell_type": "markdown",
      "metadata": {},
      "source": [
        "> **Note**\n",
        ">\n",
        "> Every data science framework implements some `datetime` handling\n",
        "> scheme. For Python see [Python official documentation on `datetime`\n",
        "> module](https://docs.python.org/3/library/datetime.html#module-datetime)\n",
        "\n",
        "What if we want to keep only the baskets after (including) October, 9th\n",
        "?"
      ],
      "id": "9f766174-5106-43ec-ac93-6b4e46430d54"
    },
    {
      "cell_type": "code",
      "execution_count": 28,
      "metadata": {},
      "outputs": [],
      "source": [
        "df_fruits.loc[df_fruits[\"time\"] >= pd.Timestamp(\"2020/10/09\")]"
      ],
      "id": "12c28f50"
    },
    {
      "cell_type": "markdown",
      "metadata": {},
      "source": [
        "## Slices and subsets of rows or columns"
      ],
      "id": "d1338d7a-dcb5-419f-8d4a-76010cd52b4f"
    },
    {
      "cell_type": "code",
      "execution_count": 29,
      "metadata": {},
      "outputs": [],
      "source": [
        "df_fruits"
      ],
      "id": "c92a2ad9"
    },
    {
      "cell_type": "code",
      "execution_count": 30,
      "metadata": {},
      "outputs": [],
      "source": [
        "df_fruits.loc[:, \"oranges\":\"time\"]"
      ],
      "id": "f2d6eeb5"
    },
    {
      "cell_type": "code",
      "execution_count": 31,
      "metadata": {},
      "outputs": [],
      "source": [
        "df_fruits.loc[\"Daniel\":\"Sean\", \"apples\":\"bananas\"]"
      ],
      "id": "8664e2d2"
    },
    {
      "cell_type": "code",
      "execution_count": 32,
      "metadata": {},
      "outputs": [],
      "source": [
        "df_fruits[[\"apples\", \"time\"]]"
      ],
      "id": "27f1ad45"
    },
    {
      "cell_type": "markdown",
      "metadata": {},
      "source": [
        "## Write our data to a CSV file\n",
        "\n",
        "What if we want to write the file ?"
      ],
      "id": "b7ff2fa0-0b54-4dd7-92e8-e0830f51f76e"
    },
    {
      "cell_type": "code",
      "execution_count": 33,
      "metadata": {},
      "outputs": [],
      "source": [
        "df_fruits"
      ],
      "id": "956e7a36"
    },
    {
      "cell_type": "code",
      "execution_count": 34,
      "metadata": {},
      "outputs": [],
      "source": [
        "df_fruits.to_csv(\"fruits.csv\")"
      ],
      "id": "9b24f745"
    },
    {
      "cell_type": "code",
      "execution_count": 35,
      "metadata": {},
      "outputs": [],
      "source": [
        "# Use !dir on windows\n",
        "!ls -alh | grep fru"
      ],
      "id": "5f2f89b5"
    },
    {
      "cell_type": "code",
      "execution_count": 36,
      "metadata": {},
      "outputs": [],
      "source": [
        "!head -n 5 fruits.csv"
      ],
      "id": "0734826e"
    },
    {
      "cell_type": "markdown",
      "metadata": {},
      "source": [
        "## Reading data and working with it\n",
        "\n",
        "> **Note**\n",
        ">\n",
        "> The `tips` dataset comes through\n",
        "> [Kaggle](https://www.kaggle.com/code/sanjanabasu/tips-dataset/input)\n",
        ">\n",
        "> > This dataset is a treasure trove of information from a collection of\n",
        "> > case studies for business statistics. Special thanks to Bryant and\n",
        "> > Smith for their diligent work:\n",
        ">\n",
        "> > Bryant, P. G. and Smith, M (1995) Practical Data Analysis: Case\n",
        "> > Studies in Business Statistics. Homewood, IL: Richard D. Irwin\n",
        "> > Publishing.\n",
        ">\n",
        "> > You can also access this dataset now through the Python package\n",
        "> > Seaborn.\n",
        "\n",
        "It contains data about a restaurant: the bill, tip and some informations\n",
        "about the customers.\n",
        "\n",
        "> **A toy extraction pattern**\n",
        ">\n",
        "> A data pipeline usually starts with Extraction, that is gathering data\n",
        "> from some source, possibly in a galaxy far, far awy. Here follows a\n",
        "> toy extraction pattern\n",
        ">\n",
        "> -   obtain the data from some `URL` using package `requests`\n",
        "> -   save the data on the hard drive\n",
        "> -   load the data using Pandas\n",
        ">\n",
        "> ``` python\n",
        "> import requests\n",
        "> import os\n",
        ">\n",
        "> # The path containing your notebook\n",
        "> path_data = './'\n",
        "> # The name of the file\n",
        "> filename = 'tips.csv'\n",
        ">\n",
        "> if os.path.exists(os.path.join(path_data, filename)):\n",
        ">     print('The file %s already exists.' % os.path.join(path_data, filename))\n",
        "> else:\n",
        ">     url = 'https://raw.githubusercontent.com/mwaskom/seaborn-data/refs/heads/master/tips.csv'\n",
        ">     r = requests.get(url)\n",
        ">     with open(os.path.join(path_data, filename), 'wb') as f:\n",
        ">         f.write(r.content)\n",
        ">     print('Downloaded file %s.' % os.path.join(path_data, filename))\n",
        "> ```\n",
        ">\n",
        "> ``` python\n",
        "> df = pd.read_csv(\n",
        ">     \"tips.csv\", \n",
        ">     delimiter=\",\"\n",
        "> )\n",
        "> ```\n",
        "\n",
        "The data can be obtained from package `seaborn`."
      ],
      "id": "a5e0d4a7-36f2-45be-9101-489fd52e9dd5"
    },
    {
      "cell_type": "code",
      "execution_count": 39,
      "metadata": {},
      "outputs": [],
      "source": [
        "import seaborn as sns\n",
        "\n",
        "sns_ds = sns.get_dataset_names()\n",
        "\n",
        "'tips' in sns_ds\n",
        "\n",
        "df = sns.load_dataset('tips')"
      ],
      "id": "aa3b8f01"
    },
    {
      "cell_type": "code",
      "execution_count": 40,
      "metadata": {},
      "outputs": [],
      "source": [
        "# `.head()` shows the first rows of the dataframe\n",
        "df.head(n=10)"
      ],
      "id": "d67e97c1"
    },
    {
      "cell_type": "code",
      "execution_count": 41,
      "metadata": {},
      "outputs": [],
      "source": [
        "df.info()"
      ],
      "id": "686deb36"
    },
    {
      "cell_type": "code",
      "execution_count": 42,
      "metadata": {},
      "outputs": [],
      "source": [
        "df.loc[42, \"day\"]"
      ],
      "id": "8e6f3f17"
    },
    {
      "cell_type": "code",
      "execution_count": 43,
      "metadata": {},
      "outputs": [],
      "source": [
        "type(df.loc[42, \"day\"])"
      ],
      "id": "aedab3a4"
    },
    {
      "cell_type": "markdown",
      "metadata": {},
      "source": [
        "By default, columns that are non-numerical contain strings (`str` type)\n",
        "\n",
        "## The `category` type\n",
        "\n",
        "An important type in `pandas` is `category` for variables that are\n",
        "**non-numerical**\n",
        "\n",
        "**Pro tip.** It’s always a good idea to tell `pandas` which columns\n",
        "should be imported as **categorical**\n",
        "\n",
        "So, let’s read again the file specifying some `dtype`s to the `read_csv`\n",
        "function"
      ],
      "id": "52b736b2-2250-46d7-96a1-a6cda15884df"
    },
    {
      "cell_type": "code",
      "execution_count": 44,
      "metadata": {},
      "outputs": [],
      "source": [
        "dtypes = {\n",
        "    \"sex\": \"category\",\n",
        "    \"smoker\": \"category\",\n",
        "    \"day\": \"category\",\n",
        "    \"time\": \"category\"\n",
        "} \n",
        "\n",
        "df = pd.read_csv(\"tips.csv\", dtype=dtypes)"
      ],
      "id": "8618cb29"
    },
    {
      "cell_type": "code",
      "execution_count": 45,
      "metadata": {},
      "outputs": [],
      "source": [
        "df.dtypes"
      ],
      "id": "9c86bcb0"
    },
    {
      "cell_type": "markdown",
      "metadata": {},
      "source": [
        "## Computing statistics"
      ],
      "id": "160cf7f8-0c59-40a8-aecf-d427cb206f97"
    },
    {
      "cell_type": "code",
      "execution_count": 46,
      "metadata": {},
      "outputs": [],
      "source": [
        "# The describe method only shows statistics for the numerical columns by default\n",
        "df.describe()"
      ],
      "id": "dbbdaefc"
    },
    {
      "cell_type": "code",
      "execution_count": 47,
      "metadata": {},
      "outputs": [],
      "source": [
        "# We use the include=\"all\" option to see everything\n",
        "df.describe(include=\"all\")"
      ],
      "id": "ff7361d7"
    },
    {
      "cell_type": "code",
      "execution_count": 48,
      "metadata": {},
      "outputs": [],
      "source": [
        "# Correlation between the numerical columns\n",
        "df.corr(numeric_only = True)"
      ],
      "id": "ea09afe0"
    },
    {
      "cell_type": "code",
      "execution_count": 49,
      "metadata": {},
      "outputs": [],
      "source": [
        "?df.corr"
      ],
      "id": "3d8b89e6"
    },
    {
      "cell_type": "markdown",
      "metadata": {},
      "source": [
        "# Data visualization with `matplotlib` and `seaborn`\n",
        "\n",
        "Let’s show how we can use `matplotlib` and `seaborn` to visualize data\n",
        "contained in a `pandas` dataframe"
      ],
      "id": "80e89303-854c-4ccd-9cdb-8dc7b4281df7"
    },
    {
      "cell_type": "code",
      "execution_count": 50,
      "metadata": {},
      "outputs": [],
      "source": [
        "import matplotlib.pyplot as plt"
      ],
      "id": "ae3ea87a"
    },
    {
      "cell_type": "markdown",
      "metadata": {},
      "source": [
        "## How do the tip depends on the total bill ?"
      ],
      "id": "0b717b1c-f320-4026-90b9-2bc6e42bdf26"
    },
    {
      "cell_type": "code",
      "execution_count": 51,
      "metadata": {},
      "outputs": [],
      "source": [
        "sns.jointplot(x=\"total_bill\", y=\"tip\", data=df)"
      ],
      "id": "a7a9aa18"
    },
    {
      "cell_type": "markdown",
      "metadata": {},
      "source": [
        "## When do customers go to this restaurant ?"
      ],
      "id": "c493e0d5-493d-43e9-8f82-fab4d49a4f9e"
    },
    {
      "cell_type": "code",
      "execution_count": 52,
      "metadata": {},
      "outputs": [],
      "source": [
        "sns.countplot(x='day', hue=\"time\", data=df)"
      ],
      "id": "7f77b32d"
    },
    {
      "cell_type": "markdown",
      "metadata": {},
      "source": [
        "## When do customers spend the most ?"
      ],
      "id": "e917b1c6-afef-4fd5-8917-53bbb5499848"
    },
    {
      "cell_type": "code",
      "execution_count": 53,
      "metadata": {},
      "outputs": [],
      "source": [
        "plt.figure(figsize=(7, 5))\n",
        "sns.boxplot(x='day', y='total_bill', hue='time', data=df)\n",
        "plt.legend(loc=\"upper left\")"
      ],
      "id": "23ce4401"
    },
    {
      "cell_type": "code",
      "execution_count": 54,
      "metadata": {},
      "outputs": [],
      "source": [
        "plt.figure(figsize=(7, 5))\n",
        "sns.violinplot(x='day', y='total_bill', hue='time', split=True, data=df)\n",
        "plt.legend(loc=\"upper left\")"
      ],
      "id": "6eaf2f30"
    },
    {
      "cell_type": "markdown",
      "metadata": {},
      "source": [
        "## Who spends the most ?"
      ],
      "id": "e8fba6a8-e447-486d-b9ec-99db8210e818"
    },
    {
      "cell_type": "code",
      "execution_count": 55,
      "metadata": {},
      "outputs": [],
      "source": [
        "sns.boxplot(x='sex', y='total_bill', hue='smoker', data=df)"
      ],
      "id": "15db0ba1"
    },
    {
      "cell_type": "markdown",
      "metadata": {},
      "source": [
        "## When should waiters want to work ?"
      ],
      "id": "9fc25063-7ecf-4e1f-b1b4-cdff413a2267"
    },
    {
      "cell_type": "code",
      "execution_count": 56,
      "metadata": {},
      "outputs": [],
      "source": [
        "sns.boxplot(x='day', y='tip', hue='time', data=df)"
      ],
      "id": "40f79ea6"
    },
    {
      "cell_type": "code",
      "execution_count": 57,
      "metadata": {},
      "outputs": [],
      "source": [
        "sns.violinplot(x='day', y='tip', hue='time', data=df)"
      ],
      "id": "0d5b1ae6"
    },
    {
      "cell_type": "markdown",
      "metadata": {},
      "source": [
        "# Data processing with `pandas`\n",
        "\n",
        "Let us read again the `tips.csv` file"
      ],
      "id": "97f35af6-7a8d-4eea-a793-406c20831fb1"
    },
    {
      "cell_type": "code",
      "execution_count": 58,
      "metadata": {},
      "outputs": [],
      "source": [
        "import pandas as pd\n",
        "\n",
        "dtypes = {\n",
        "    \"sex\": \"category\",\n",
        "    \"smoker\": \"category\",\n",
        "    \"day\": \"category\",\n",
        "    \"time\": \"category\"\n",
        "} \n",
        "\n",
        "df = pd.read_csv(\"tips.csv\", dtype=dtypes)\n",
        "df.head()"
      ],
      "id": "df19010c"
    },
    {
      "cell_type": "markdown",
      "metadata": {},
      "source": [
        "## Computations using `pandas` : broadcasting\n",
        "\n",
        "Let’s add a column that contains the tip percentage"
      ],
      "id": "e9f0b579-a3cd-4488-b650-81a2dfd3da42"
    },
    {
      "cell_type": "code",
      "execution_count": 59,
      "metadata": {},
      "outputs": [],
      "source": [
        "df[\"tip_percentage\"] = df[\"tip\"] / df[\"total_bill\"]\n",
        "df.head()"
      ],
      "id": "beb8a098"
    },
    {
      "cell_type": "markdown",
      "metadata": {},
      "source": [
        "The computation\n",
        "\n",
        "```` markdown\n",
        "```{python}\n",
        "df[\"tip\"] / df[\"total_bill\"]\n",
        "```\n",
        "````\n",
        "\n",
        "uses a **broadcast** rule.\n",
        "\n",
        "-   We can multiply, add, subtract, etc. together `numpy` arrays,\n",
        "    `Series` or `pandas` dataframes when the computation **makes sense**\n",
        "    in view of their respective **shape**\n",
        "\n",
        "This principle is called **broadcast** or **broadcasting**.\n",
        "\n",
        "> **Note**\n",
        ">\n",
        "> Broadcasting is a key feature of `numpy` `ndarray`, see\n",
        ">\n",
        "> -   [Numpy User’s\n",
        ">     guide](https://numpy.org/doc/stable/user/basics.broadcasting.html)\n",
        "> -   [Pandas\n",
        ">     book](https://wesmckinney.com/book/advanced-numpy.html#numpy_broadcasting)"
      ],
      "id": "ae0f20f5-5120-4bc7-bfa4-520ba0bf8249"
    },
    {
      "cell_type": "code",
      "execution_count": 60,
      "metadata": {},
      "outputs": [],
      "source": [
        "df[\"tip\"].shape, df[\"total_bill\"].shape"
      ],
      "id": "2e0f88a9"
    },
    {
      "cell_type": "markdown",
      "metadata": {},
      "source": [
        "The `tip` and `total_bill`columns have the same `shape`, so broadcasting\n",
        "performs **pairwise division**.\n",
        "\n",
        "This corresponds to the following “hand-crafted” approach with a `for`\n",
        "loop:"
      ],
      "id": "91a2ed87-0b29-4625-85a8-45fd113cff57"
    },
    {
      "cell_type": "code",
      "execution_count": 61,
      "metadata": {},
      "outputs": [],
      "source": [
        "for i in range(df.shape[0]):\n",
        "    df.loc[i, \"tip_percentage\"] = df.loc[i, \"tip\"] / df.loc[i, \"total_bill\"]"
      ],
      "id": "eeafdcfd"
    },
    {
      "cell_type": "markdown",
      "metadata": {},
      "source": [
        "But using such a loop is:\n",
        "\n",
        "-   longer to write\n",
        "-   less readable\n",
        "-   prone to mistakes\n",
        "-   and *slower* :(\n",
        "\n",
        "*NEVER* use `Python` for-loops unless you need to !"
      ],
      "id": "5bdcab43-5e69-43b8-88cf-0fe14bf7fcb4"
    },
    {
      "cell_type": "code",
      "execution_count": 62,
      "metadata": {},
      "outputs": [],
      "source": [
        "%%timeit -n 10\n",
        "for i in range(df.shape[0]):\n",
        "    df.loc[i, \"tip_percentage\"] = df.loc[i, \"tip\"] / df.loc[i, \"total_bill\"]"
      ],
      "id": "cd261eb9"
    },
    {
      "cell_type": "code",
      "execution_count": 63,
      "metadata": {},
      "outputs": [],
      "source": [
        "%%timeit -n 10\n",
        "df[\"tip_percentage\"] = df[\"tip\"] / df[\"total_bill\"]"
      ],
      "id": "7eedcbf9"
    },
    {
      "cell_type": "markdown",
      "metadata": {},
      "source": [
        "The `for` loop is $\\approx$ **100 times slower** ! (even worse on larger\n",
        "data)\n",
        "\n",
        "### Pitfall. Changing values in a `DataFrame`\n",
        "\n",
        "When you want to change a value in a `DataFrame`, never use\n",
        "\n",
        "``` python\n",
        "df[\"tip_percentage\"].loc[i] = 42\n",
        "```\n",
        "\n",
        "but use\n",
        "\n",
        "``` python\n",
        "df.loc[i, \"tip_percentage\"] = 42\n",
        "```\n",
        "\n",
        "> **Caution**\n",
        ">\n",
        "> Use a **single** `loc` or `iloc` statement. The first version **might\n",
        "> not work**: it might modify a copy of the column and not the dataframe\n",
        "> itself !\n",
        "\n",
        "Another example of broadcasting is:"
      ],
      "id": "bc410cf3-04fe-4bf9-91e6-2c189ca4ee04"
    },
    {
      "cell_type": "code",
      "execution_count": 64,
      "metadata": {},
      "outputs": [],
      "source": [
        "(100 * df[[\"tip_percentage\"]]).head()"
      ],
      "id": "0e6e332a"
    },
    {
      "cell_type": "markdown",
      "metadata": {},
      "source": [
        "where we multiplied **each entry** of the `tip_percentage` column by\n",
        "100.\n",
        "\n",
        "> **Remark**\n",
        ">\n",
        "> Note the difference between\n",
        ">\n",
        "> ``` python\n",
        "> df[['tip_percentage']]\n",
        "> ```\n",
        ">\n",
        "> which returns a `DataFrame` containing only the `tip_percentage`\n",
        "> column and\n",
        ">\n",
        "> ``` python\n",
        "> df['tip_percentage']\n",
        "> ```\n",
        ">\n",
        "> which returns a `Series` containing the data of the `tip_percentage`\n",
        "> column\n",
        "\n",
        "## Some more plots\n",
        "\n",
        "### How do the tip percentages relates to the total bill ?"
      ],
      "id": "a47205bf-d245-46d8-9f5f-d5d7b17f6c43"
    },
    {
      "cell_type": "code",
      "execution_count": 65,
      "metadata": {},
      "outputs": [],
      "source": [
        "sns.jointplot(\n",
        "    x=\"total_bill\", \n",
        "    y=\"tip_percentage\", \n",
        "    data=df\n",
        ")"
      ],
      "id": "4f8ca932"
    },
    {
      "cell_type": "markdown",
      "metadata": {},
      "source": [
        "### Who tips best ?"
      ],
      "id": "ee8bb2f9-b1ca-412d-99d9-4b83e80f6667"
    },
    {
      "cell_type": "code",
      "execution_count": 66,
      "metadata": {},
      "outputs": [],
      "source": [
        "sns.boxplot(\n",
        "    x='sex', \n",
        "    y='tip_percentage', \n",
        "    hue='smoker', \n",
        "    data=df\n",
        ")"
      ],
      "id": "d14a806f"
    },
    {
      "cell_type": "markdown",
      "metadata": {},
      "source": [
        "### Who tips best without the `tip_percentage` outliers ?"
      ],
      "id": "c03ea692-b24d-48b1-a64c-77d5173da546"
    },
    {
      "cell_type": "code",
      "execution_count": 67,
      "metadata": {},
      "outputs": [],
      "source": [
        "sns.boxplot(\n",
        "    x='sex', \n",
        "    y='tip_percentage', \n",
        "    hue='smoker', \n",
        "    data=df.loc[df[\"tip_percentage\"] <= 0.3]\n",
        ")"
      ],
      "id": "3537d82f"
    },
    {
      "cell_type": "markdown",
      "metadata": {},
      "source": [
        "Object identity"
      ],
      "id": "405613f8-37c5-4309-af0a-0bf7fb7dec0a"
    },
    {
      "cell_type": "code",
      "execution_count": 68,
      "metadata": {},
      "outputs": [],
      "source": [
        "id(df)"
      ],
      "id": "f64baf58"
    },
    {
      "cell_type": "markdown",
      "metadata": {},
      "source": [
        "## The all-mighty `groupby` and `aggregate`\n",
        "\n",
        "Many computations can be formulated as a **groupby** followed by and\n",
        "**aggregation**.\n",
        "\n",
        "### What is the mean `tip` and `tip percentage` each day ?"
      ],
      "id": "37ea8c56-ce83-4e00-9cd4-886a04b6466a"
    },
    {
      "cell_type": "code",
      "execution_count": 69,
      "metadata": {},
      "outputs": [],
      "source": [
        "df.head()"
      ],
      "id": "b1fe6d10"
    },
    {
      "cell_type": "code",
      "execution_count": 70,
      "metadata": {},
      "outputs": [],
      "source": [
        "try:\n",
        "\n",
        "    df.groupby(\"day\", observed=True).mean()\n",
        "except TypeError:\n",
        "    print('TypeError: category dtype does not support aggregation \"mean\"')"
      ],
      "id": "d41bb826"
    },
    {
      "cell_type": "markdown",
      "metadata": {},
      "source": [
        "But we do not care about the `size` column here, so we can use instead"
      ],
      "id": "1b90623c-802e-4f57-8fed-0f20f818b18e"
    },
    {
      "cell_type": "code",
      "execution_count": 71,
      "metadata": {},
      "outputs": [],
      "source": [
        "(\n",
        "    df[[\"total_bill\", \"tip\", \"tip_percentage\", \"day\"]]\n",
        "        .groupby(\"day\")\n",
        "        .mean()\n",
        ")"
      ],
      "id": "7d75a4fc"
    },
    {
      "cell_type": "markdown",
      "metadata": {},
      "source": [
        "If we want to be more precise, we can `groupby` using several columns"
      ],
      "id": "0af4659f-eb20-4ebf-9ed8-71317ed73435"
    },
    {
      "cell_type": "code",
      "execution_count": 72,
      "metadata": {},
      "outputs": [],
      "source": [
        "(\n",
        "    df[[\"total_bill\", \"tip\", \"tip_percentage\", \"day\", \"time\"]]   # selection\n",
        "        .groupby([\"day\",\"time\"])                                # partition\n",
        "        .mean()                                                  # aggregation\n",
        ")"
      ],
      "id": "689e9b95"
    },
    {
      "cell_type": "markdown",
      "metadata": {},
      "source": [
        "> **Remarks**\n",
        ">\n",
        "> -   We obtain a `DataFrame` with a two-level indexing: on the `day`\n",
        ">     and the `time`\n",
        "> -   Groups must be homogeneous: we have `NaN` values for empty groups\n",
        ">     (e.g. `Sat`, `Lunch`)\n",
        "\n",
        "### Pro tip\n",
        "\n",
        "Sometimes, it is more convenient to get the groups as columns instead of\n",
        "a multi-level index.\n",
        "\n",
        "For this, use `reset_index`:"
      ],
      "id": "057a87df-6c12-4603-a7a7-cb800e31a0a4"
    },
    {
      "cell_type": "code",
      "execution_count": 73,
      "metadata": {},
      "outputs": [],
      "source": [
        "(\n",
        "    df[[\"total_bill\", \"tip\", \"tip_percentage\", \"day\", \"time\"]]   # selection\n",
        "        .groupby([\"day\", \"time\"])                                # partition\n",
        "        .mean() # aggregation\n",
        "        .reset_index()   # ako ungroup\n",
        ")"
      ],
      "id": "ec949822"
    },
    {
      "cell_type": "markdown",
      "metadata": {},
      "source": [
        "### Another pro tip: care about code readers\n",
        "\n",
        "Computations with pandas can include many operations that are\n",
        "**pipelined** until the final computation.\n",
        "\n",
        "Pipelining many operations is good practice and perfectly normal, but in\n",
        "order to make the code readable you can put it between parenthesis\n",
        "(`python` expression) as follows:"
      ],
      "id": "e5a1ca76-223f-44a3-a19e-5d8273018f92"
    },
    {
      "cell_type": "code",
      "execution_count": 74,
      "metadata": {},
      "outputs": [],
      "source": [
        "(\n",
        "    df[[\"total_bill\", \"tip\", \"tip_percentage\", \"day\", \"time\"]]\n",
        "    .groupby([\"day\", \"time\"])\n",
        "    .mean()\n",
        "    .reset_index()\n",
        "    # and on top of all this we sort the dataframe with respect \n",
        "    # to the tip_percentage\n",
        "    .sort_values(\"tip_percentage\")\n",
        ")"
      ],
      "id": "760e0847"
    },
    {
      "cell_type": "markdown",
      "metadata": {},
      "source": [
        "## Displaying a `DataFrame` with `style`\n",
        "\n",
        "Now, we can answer, with style, to the question: what are the average\n",
        "tip percentages along the week ?"
      ],
      "id": "08c7be6a-d985-4725-909f-298eeadc512d"
    },
    {
      "cell_type": "code",
      "execution_count": 75,
      "metadata": {},
      "outputs": [],
      "source": [
        "(\n",
        "    df[[\"tip_percentage\", \"day\", \"time\"]]\n",
        "    .groupby([\"day\", \"time\"])\n",
        "    .mean()\n",
        "    # At the end of the pipeline you can use .style\n",
        "    .style\n",
        "    # Print numerical values as percentages \n",
        "    .format(\"{:.2%}\")\n",
        "    .background_gradient()\n",
        ")"
      ],
      "id": "4f7de852"
    },
    {
      "cell_type": "markdown",
      "metadata": {},
      "source": [
        "## Removing the `NaN` values\n",
        "\n",
        "But the `NaN` values are somewhat annoying. Let’s remove them"
      ],
      "id": "a5992009-f9ad-4930-8b06-45b93ef557f6"
    },
    {
      "cell_type": "code",
      "execution_count": 76,
      "metadata": {},
      "outputs": [],
      "source": [
        "(\n",
        "    df[[\"tip_percentage\", \"day\", \"time\"]]\n",
        "    .groupby([\"day\", \"time\"])\n",
        "    .mean()\n",
        "    # We just add this from the previous pipeline\n",
        "    .dropna()\n",
        "    .style\n",
        "    .format(\"{:.2%}\")\n",
        "    .background_gradient()\n",
        ")"
      ],
      "id": "da9bc0c5"
    },
    {
      "cell_type": "markdown",
      "metadata": {},
      "source": [
        "Now, we see when `tip_percentage` is maximal. But what about the\n",
        "standard deviation?\n",
        "\n",
        "-   We used only `.mean()` for now, but we can use several aggregating\n",
        "    function using `.agg()`"
      ],
      "id": "4ed0a6a7-688b-4cba-86be-4d90883edc41"
    },
    {
      "cell_type": "code",
      "execution_count": 77,
      "metadata": {},
      "outputs": [],
      "source": [
        "(\n",
        "    df[[\"tip_percentage\", \"day\", \"time\"]]\n",
        "    .groupby([\"day\", \"time\"])\n",
        "    .agg([\"mean\", \"std\"])   # we feed `agg`  with a list of names of callables \n",
        "    .dropna()\n",
        "    .style\n",
        "    .format(\"{:.2%}\")\n",
        "    .background_gradient()\n",
        ")"
      ],
      "id": "545eb083"
    },
    {
      "cell_type": "markdown",
      "metadata": {},
      "source": [
        "And we can use also `.describe()` as aggregation function. Moreover we -\n",
        "use the `subset` option to specify which column we want to style - we\n",
        "use `(\"tip_percentage\", \"count\")` to access multi-level index"
      ],
      "id": "8f65c3e5-1242-4eb4-951f-670e07ead225"
    },
    {
      "cell_type": "code",
      "execution_count": 78,
      "metadata": {},
      "outputs": [],
      "source": [
        "(\n",
        "    df[[\"tip_percentage\", \"day\", \"time\"]]\n",
        "    .groupby([\"day\", \"time\"])\n",
        "    .describe()    # all-purpose summarising function\n",
        ")"
      ],
      "id": "a7a22829"
    },
    {
      "cell_type": "code",
      "execution_count": 79,
      "metadata": {},
      "outputs": [],
      "source": [
        "(\n",
        "    df[[\"tip_percentage\", \"day\", \"time\"]]\n",
        "    .groupby([\"day\", \"time\"])\n",
        "    .describe()\n",
        "    .dropna()\n",
        "    .style\n",
        "    .bar(subset=[(\"tip_percentage\", \"count\")])\n",
        "    .background_gradient(subset=[(\"tip_percentage\", \"50%\")])\n",
        ")"
      ],
      "id": "9469dfff"
    },
    {
      "cell_type": "markdown",
      "metadata": {},
      "source": [
        "## Supervised learning of `tip` based on the `total_bill`\n",
        "\n",
        "As an example of very simple **machine-learning** problem, let us try to\n",
        "understand how we can predict `tip` based on `total_bill`."
      ],
      "id": "e2c99440-8740-4a0d-b758-98a120fd53e9"
    },
    {
      "cell_type": "code",
      "execution_count": 80,
      "metadata": {},
      "outputs": [],
      "source": [
        "import numpy as np\n",
        "\n",
        "plt.scatter(df[\"total_bill\"], df[\"tip\"])\n",
        "plt.xlabel(\"total_bill\", fontsize=12)\n",
        "plt.ylabel(\"tip\", fontsize=12)"
      ],
      "id": "e15ea834"
    },
    {
      "cell_type": "markdown",
      "metadata": {},
      "source": [
        "There’s a rough **linear** dependence between the two. Let us try to\n",
        "find it by hand!<br> Namely, we look for numbers $b$ and $w$ such that\n",
        "\n",
        "    tip ≈ b + w × total_bill\n",
        "\n",
        "for all the examples of pairs of `(tip, total_bill)` we observe in the\n",
        "data.\n",
        "\n",
        "In **machine learning**, we say that this is a very simple example of a\n",
        "**supervised learning** problem (here it is a regression problem), where\n",
        "`tip` is the **label** and where `total_bill` is the (only) **feature**,\n",
        "for which we intend to use a **linear predictor**."
      ],
      "id": "6c0f1a54-74fb-455f-a66a-884e799e5466"
    },
    {
      "cell_type": "code",
      "execution_count": 81,
      "metadata": {},
      "outputs": [],
      "source": [
        "plt.scatter(df[\"total_bill\"], df[\"tip\"])\n",
        "plt.xlabel(\"total_bill\", fontsize=12)\n",
        "plt.ylabel(\"tip\", fontsize=12)\n",
        "\n",
        "slope = 1.0\n",
        "intercept = 0.0\n",
        "\n",
        "x = np.linspace(0, 50, 1000)\n",
        "plt.plot(x, intercept + slope * x, color=\"red\")"
      ],
      "id": "c4b45991"
    },
    {
      "cell_type": "markdown",
      "metadata": {},
      "source": [
        "### A more interactive way\n",
        "\n",
        "This might require"
      ],
      "id": "10782499-a2a9-49c5-97b5-178544adceb4"
    },
    {
      "cell_type": "code",
      "execution_count": 82,
      "metadata": {},
      "outputs": [],
      "source": [
        "# !pip install ipympl"
      ],
      "id": "632dce69"
    },
    {
      "cell_type": "code",
      "execution_count": 83,
      "metadata": {},
      "outputs": [],
      "source": [
        "import ipywidgets as widgets\n",
        "import matplotlib.pyplot as plt\n",
        "import numpy as np\n",
        "\n",
        "%matplotlib widget\n",
        "%matplotlib inline\n",
        "\n",
        "x = np.linspace(0, 50, 1000)\n",
        "\n",
        "@widgets.interact(intercept=(-5, 5, 1.), slope=(0, 1, .05))\n",
        "def update(intercept=0.0, slope=0.5):\n",
        "    plt.scatter(df[\"total_bill\"], df[\"tip\"])\n",
        "    plt.plot(x, intercept + slope * x, color=\"red\")\n",
        "    plt.xlim((0, 50))\n",
        "    plt.ylim((0, 10))\n",
        "    plt.xlabel(\"total_bill\", fontsize=12)\n",
        "    plt.ylabel(\"tip\", fontsize=12)"
      ],
      "id": "98acf892"
    },
    {
      "cell_type": "markdown",
      "metadata": {},
      "source": [
        "This is kind of tedious to do this by hand… it would be nice to come up\n",
        "with an **automated** way of doing this. Moreover:\n",
        "\n",
        "-   We are using a **linear** function, while something more complicated\n",
        "    (such as a polynomial) might be better\n",
        "-   More importantly, we use **only** the `total_bill` column to predict\n",
        "    the `tip`, while we know about many other things"
      ],
      "id": "83debb69-c68f-4856-b468-eaabe1054478"
    },
    {
      "cell_type": "code",
      "execution_count": 84,
      "metadata": {},
      "outputs": [],
      "source": [
        "df.head()"
      ],
      "id": "02a1ea13"
    },
    {
      "cell_type": "markdown",
      "metadata": {},
      "source": [
        "## One-hot encoding of categorical variables\n",
        "\n",
        "We can’t perform computations (products and sums) with columns\n",
        "containing **categorical** variables. So, we can’t use them like this to\n",
        "predict the `tip`. We need to **convert** them to numbers somehow.\n",
        "\n",
        "The most classical approach for this is **one-hot encoding** (or “create\n",
        "dummies” or “binarize”) of the categorical variables, which can be\n",
        "easily achieved with `pandas.get_dummies`\n",
        "\n",
        "Why *one-hot* ? See [wikipedia](https://en.wikipedia.org/wiki/One-hot)\n",
        "for a plausible explanation"
      ],
      "id": "b72ff452-2307-4150-b5e7-ae42c09a89d6"
    },
    {
      "cell_type": "code",
      "execution_count": 85,
      "metadata": {},
      "outputs": [],
      "source": [
        "df_one_hot = pd.get_dummies(df, prefix_sep='#')\n",
        "df_one_hot.head(5)"
      ],
      "id": "6a7d7746"
    },
    {
      "cell_type": "markdown",
      "metadata": {},
      "source": [
        "Only the categorical columns have been one-hot encoded. For instance,\n",
        "the `\"day\"` column is replaced by 4 columns named `\"day#Thur\"`,\n",
        "`\"day#Fri\"`, `\"day#Sat\"`, `\"day#Sun\"`, since `\"day\"` has 4 modalities\n",
        "(see next line)."
      ],
      "id": "6c5d121a-153f-45e7-9884-e769ec72208a"
    },
    {
      "cell_type": "code",
      "execution_count": 86,
      "metadata": {},
      "outputs": [],
      "source": [
        "df['day'].unique()"
      ],
      "id": "8c9620a9"
    },
    {
      "cell_type": "code",
      "execution_count": 87,
      "metadata": {},
      "outputs": [],
      "source": [
        "df_one_hot.dtypes"
      ],
      "id": "e90ea7bd"
    },
    {
      "cell_type": "markdown",
      "metadata": {},
      "source": [
        "## Pitfall. Colinearities with one-hot encoding\n",
        "\n",
        "Sums over dummies for `sex`, `smoker`, `day`, `time` and `size` are all\n",
        "equal to one (by constrution of the one-hot encoded vectors).\n",
        "\n",
        "-   Leads to **colinearities** in the matrix of features\n",
        "-   It is **much harder** to train a linear regressor when the columns\n",
        "    of the features matrix has colinearities"
      ],
      "id": "c4c40d5e-f6ef-4c23-82d1-10207cfe0ff1"
    },
    {
      "cell_type": "code",
      "execution_count": 88,
      "metadata": {},
      "outputs": [],
      "source": [
        "day_cols = [col for col in df_one_hot.columns if col.startswith(\"day\")]\n",
        "df_one_hot[day_cols].head()\n",
        "df_one_hot[day_cols].sum(axis=1)"
      ],
      "id": "46ec0fd8"
    },
    {
      "cell_type": "code",
      "execution_count": 89,
      "metadata": {},
      "outputs": [],
      "source": [
        "all(df_one_hot[day_cols].sum(axis=1) == 1)"
      ],
      "id": "4cb8b677"
    },
    {
      "cell_type": "markdown",
      "metadata": {},
      "source": [
        "The most standard solution is to remove a modality (i.e. remove a\n",
        "one-hot encoding vector). Simply achieved by specifying\n",
        "`drop_first=True` in the `get_dummies` function."
      ],
      "id": "36ba7fd8-f834-4bc0-bd97-5487acd636d0"
    },
    {
      "cell_type": "code",
      "execution_count": 90,
      "metadata": {},
      "outputs": [],
      "source": [
        "df[\"day\"].unique()"
      ],
      "id": "95d3c921"
    },
    {
      "cell_type": "code",
      "execution_count": 91,
      "metadata": {},
      "outputs": [],
      "source": [
        "pd.get_dummies(df, prefix_sep='#', drop_first=True).head()"
      ],
      "id": "0f265c94"
    },
    {
      "cell_type": "markdown",
      "metadata": {},
      "source": [
        "Now, if a categorical feature has $K$ modalities, we use only $K-1$\n",
        "dummies. For instance, there is no more `sex#Female` binary column.\n",
        "\n",
        "**Question.** So, a linear regression won’t fit a weight for\n",
        "`sex#Female`. But, where do the model weights of the dropped binary\n",
        "columns go ?\n",
        "\n",
        "**Answer.** They just “go” to the **intercept**: interpretation of the\n",
        "population bias depends on the “dropped” one-hot encodings.\n",
        "\n",
        "So, we actually fit:\n",
        "$$\\begin{array}{rl} \\texttt{tip} \\approx b & + w_1 \\times \\texttt{total_bill} + w_2 \\times \\texttt{size} \\\\ & + w_3 \\times \\texttt{sex#Male} + w_4 \\times \\texttt{smoker#Yes} \\\\ & + w_5 \\times \\texttt{day#Sat} + w_6 \\times \\texttt{day#Sun} + w_7 \\times \\texttt{day#Thur} \\\\ & + w_8 \\times \\texttt{time#Lunch} \\end{array}$$"
      ],
      "id": "294ad110-6d83-4d9e-a203-5f3ba368705e"
    }
  ],
  "nbformat": 4,
  "nbformat_minor": 5,
  "metadata": {
    "kernelspec": {
      "name": "python3",
      "display_name": "Python 3 (ipykernel)",
      "language": "python",
      "path": "/usr/share/jupyter/kernels/python3"
    },
    "language_info": {
      "name": "python",
      "codemirror_mode": {
        "name": "ipython",
        "version": "3"
      },
      "file_extension": ".py",
      "mimetype": "text/x-python",
      "nbconvert_exporter": "python",
      "pygments_lexer": "ipython3",
      "version": "3.12.3"
    }
  }
}