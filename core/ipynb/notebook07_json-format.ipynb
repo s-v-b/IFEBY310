{
  "cells": [
    {
      "cell_type": "markdown",
      "metadata": {},
      "source": [
        "# Using `JSON` data with `Python`\n",
        "\n",
        "This notebook is concerned with `JSON` a format that serves many\n",
        "purposes. Just as `csv` files, `json` files are important sources and\n",
        "sinks for Spark. As a exchange format, `JSON` is also a serialization\n",
        "tool for Python and many other languages. `JSON` provides a way to\n",
        "accomodate *semi-structured* data in otherwise tabular environments\n",
        "(dataframes and databases tables).\n",
        "\n",
        "The notebook is organized in the following way:\n",
        "\n",
        "-   Serialization/Deserialization of Python builtin types using `JSON`\n",
        "-   Serialization/Deserialization of (some) custom types using `JSON`\n",
        "-   `JSON` readers and writers for Spark dataframes\n",
        "-   Composite types in Spark dataframes\n",
        "-   Advanced `JSON` readers and writers for Spark dataframes\n",
        "\n",
        "## Serialization and deserialization of built-in types"
      ],
      "id": "911fc287-b243-44f8-b09a-1ac26e464f96"
    },
    {
      "cell_type": "code",
      "execution_count": 1,
      "metadata": {
        "ExecuteTime": {
          "end_time": "2020-03-17T14:29:25.759874Z",
          "start_time": "2020-03-17T14:29:25.726787Z"
        }
      },
      "outputs": [
        {
          "output_type": "stream",
          "name": "stdout",
          "text": [
            "{\n",
            "    \"active\": true,\n",
            "    \"age\": 78,\n",
            "    \"balance\": 345.8,\n",
            "    \"friends\": [\n",
            "        \"Jane\",\n",
            "        \"John\"\n",
            "    ],\n",
            "    \"name\": \"Foo Bar\",\n",
            "    \"other_names\": [\n",
            "        \"Doe\",\n",
            "        \"Joe\"\n",
            "    ],\n",
            "    \"spouse\": null\n",
            "}"
          ]
        }
      ],
      "source": [
        "import json\n",
        "\n",
        "obj = {\n",
        "    \"name\": \"Foo Bar\",\n",
        "    \"age\": 78,\n",
        "    \"friends\": [\"Jane\",\"John\"],\n",
        "    \"balance\": 345.80,\n",
        "    \"other_names\":(\"Doe\",\"Joe\"),\n",
        "    \"active\": True,\n",
        "    \"spouse\": None\n",
        "}\n",
        "\n",
        "print(json.dumps(obj, sort_keys=True, indent=4))"
      ],
      "id": "c77c9090"
    },
    {
      "cell_type": "markdown",
      "metadata": {},
      "source": [
        "> **Note**\n",
        ">\n",
        "> `json.dumps()` outputs a `JSON` formatted string.\n",
        ">\n",
        "> Not every type of object can be fed to `json.dumps()`."
      ],
      "id": "06a6cc87-466a-472b-89de-3b302d4a20e5"
    },
    {
      "cell_type": "code",
      "execution_count": 2,
      "metadata": {
        "ExecuteTime": {
          "end_time": "2020-03-17T14:29:26.039839Z",
          "start_time": "2020-03-17T14:29:26.027858Z"
        }
      },
      "outputs": [],
      "source": [
        "with open('user.json','w') as file:\n",
        "    json.dump(obj, file, sort_keys=True, indent=4)"
      ],
      "id": "571cc256"
    },
    {
      "cell_type": "code",
      "execution_count": 3,
      "metadata": {
        "ExecuteTime": {
          "end_time": "2020-03-17T14:29:27.110218Z",
          "start_time": "2020-03-17T14:29:26.479550Z"
        }
      },
      "outputs": [
        {
          "output_type": "stream",
          "name": "stdout",
          "text": [
            "{\n",
            "    \"active\": true,\n",
            "    \"age\": 78,\n",
            "    \"balance\": 345.8,\n",
            "    \"friends\": [\n",
            "        \"Jane\",\n",
            "        \"John\"\n",
            "    ],\n",
            "    \"name\": \"Foo Bar\",\n",
            "    \"other_names\": [\n",
            "        \"Doe\",\n",
            "        \"Joe\"\n",
            "    ],\n",
            "    \"spouse\": null\n",
            "}"
          ]
        }
      ],
      "source": [
        "!cat user.json"
      ],
      "id": "23b9e2f7"
    },
    {
      "cell_type": "code",
      "execution_count": 4,
      "metadata": {
        "ExecuteTime": {
          "end_time": "2020-03-17T14:29:27.137307Z",
          "start_time": "2020-03-17T14:29:27.114179Z"
        }
      },
      "outputs": [
        {
          "output_type": "display_data",
          "metadata": {},
          "data": {
            "text/plain": [
              "{'active': True,\n",
              " 'age': 78,\n",
              " 'balance': 345.8,\n",
              " 'friends': ['Jane', 'John'],\n",
              " 'name': 'Foo Bar',\n",
              " 'other_names': ['Doe', 'Joe'],\n",
              " 'spouse': None}"
            ]
          }
        }
      ],
      "source": [
        "json.loads('{\"active\": true, \"age\": 78, \"balance\": 345.8, \"friends\": [\"Jane\",\"John\"], \"name\": \"Foo Bar\", \"other_names\": [\"Doe\",\"Joe\"],\"spouse\":null}')"
      ],
      "id": "0aa1e0fa"
    },
    {
      "cell_type": "code",
      "execution_count": 5,
      "metadata": {
        "ExecuteTime": {
          "end_time": "2020-03-17T14:29:27.149816Z",
          "start_time": "2020-03-17T14:29:27.140548Z"
        }
      },
      "outputs": [
        {
          "output_type": "stream",
          "name": "stdout",
          "text": [
            "{'active': True, 'age': 78, 'balance': 345.8, 'friends': ['Jane', 'John'], 'name': 'Foo Bar', 'other_names': ['Doe', 'Joe'], 'spouse': None}"
          ]
        }
      ],
      "source": [
        "with open('user.json', 'r') as file:\n",
        "    user_data = json.load(file)\n",
        "\n",
        "print(user_data)"
      ],
      "id": "ea6dc83b"
    },
    {
      "cell_type": "markdown",
      "metadata": {},
      "source": [
        "> **Question**\n",
        ">\n",
        "> What happens if we feed `json.dumps()` with a `numpy` array?\n",
        "\n",
        "> **Question**\n",
        ">\n",
        "> What happens if we feed `json.dumps()` with a `datatime` object?\n",
        "\n",
        "## Serialization and deserialization of custom objects"
      ],
      "id": "347b980e-0b25-425e-854a-c4b220b4041d"
    },
    {
      "cell_type": "code",
      "execution_count": 6,
      "metadata": {
        "ExecuteTime": {
          "end_time": "2020-03-17T14:29:27.733203Z",
          "start_time": "2020-03-17T14:29:27.718399Z"
        }
      },
      "outputs": [],
      "source": [
        "class User(object):\n",
        "    \"\"\"Custom User Class\n",
        "    \"\"\"\n",
        "    def __init__(self, name, age, active, balance, \n",
        "                 other_names, friends, spouse):\n",
        "        self.name = name\n",
        "        self.age = age\n",
        "        self.active = active\n",
        "        self.balance = balance\n",
        "        self.other_names = other_names\n",
        "        self.friends = friends\n",
        "        self.spouse = spouse\n",
        "            \n",
        "    def __repr__(self):\n",
        "        s = \"User(\"\n",
        "        s += \"name=\" + repr(self.name)\n",
        "        s += \", age=\" + repr(self.age)\n",
        "        s += \", active=\" + repr(self.active)\n",
        "        s += \", other_names=\" + repr(self.other_names)\n",
        "        s += \", friends=\" + repr(self.friends)\n",
        "        s += \", spouse=\" + repr(self.spouse) + \")\"\n",
        "        return s"
      ],
      "id": "0bb97e48"
    },
    {
      "cell_type": "markdown",
      "metadata": {},
      "source": [
        "> **Tip**\n",
        ">\n",
        "> Brush up your dunder/magic methods, for example in *Fluent Python* by\n",
        "> Ramalho (Chapter I: *The Python data model*, Section *Overview of\n",
        "> Special Methods*)"
      ],
      "id": "1e9a4b5f-b0b8-4972-90aa-97115a75c1f3"
    },
    {
      "cell_type": "code",
      "execution_count": 7,
      "metadata": {
        "ExecuteTime": {
          "end_time": "2020-03-17T14:29:27.733203Z",
          "start_time": "2020-03-17T14:29:27.718399Z"
        }
      },
      "outputs": [
        {
          "output_type": "display_data",
          "metadata": {},
          "data": {
            "text/plain": [
              "User(name='Foo Bar', age=78, active=True, other_names=('Doe', 'Joe'), friends=['Jane', 'John'], spouse=None)"
            ]
          }
        }
      ],
      "source": [
        "new_user = User(\n",
        "    name = \"Foo Bar\",\n",
        "    age = 78,\n",
        "    friends = [\"Jane\", \"John\"],\n",
        "    balance = 345.80,\n",
        "    other_names = (\"Doe\", \"Joe\"),\n",
        "    active = True,\n",
        "    spouse = None\n",
        ")\n",
        "\n",
        "new_user"
      ],
      "id": "625e8d4a"
    },
    {
      "cell_type": "markdown",
      "metadata": {},
      "source": [
        "> **Note**\n",
        ">\n",
        "> Uncomment to see what happens"
      ],
      "id": "d52c619a-e762-4017-a832-ea5e150b1b70"
    },
    {
      "cell_type": "code",
      "execution_count": 8,
      "metadata": {
        "ExecuteTime": {
          "end_time": "2020-03-17T14:29:49.613442Z",
          "start_time": "2020-03-17T14:29:49.601102Z"
        }
      },
      "outputs": [],
      "source": [
        "# This will raise a TypeError\n",
        "# json.dumps(new_user)"
      ],
      "id": "b8c8b63b"
    },
    {
      "cell_type": "markdown",
      "metadata": {},
      "source": [
        "As expected, the custom object `new_user` is not JSON serializable. So\n",
        "let’s build a method that does that for us.\n",
        "\n",
        "-   This comes as no surprise to us, since earlier on we observed that\n",
        "    the `json` module only handles the built-in types, and `User` is not\n",
        "    one.\n",
        "\n",
        "-   We need to send our user data to a client over a network, so how do\n",
        "    we get ourselves out of this error state?\n",
        "\n",
        "-   A simple solution would be to convert our custom type into a\n",
        "    serializable type that is a built-in type. We can conveniently\n",
        "    define a method `convert_to_dict()` that returns a dictionary\n",
        "    representation of our object. `json.dumps()` takes in a optional\n",
        "    argument, `default`, which specifies a function to be called if the\n",
        "    object is not serializable. This function returns a JSON encodable\n",
        "    version of the object.\n",
        "\n",
        "Recall that class `obj` has a dunder attribute `__dict__` that provides\n",
        "a basis for obtaining a dictionary with the attributes of any object:"
      ],
      "id": "252ced0c-e41f-4d43-ab7e-0b6b39e791e7"
    },
    {
      "cell_type": "code",
      "execution_count": 9,
      "metadata": {},
      "outputs": [
        {
          "output_type": "display_data",
          "metadata": {},
          "data": {
            "text/plain": [
              "{'name': 'Foo Bar',\n",
              " 'age': 78,\n",
              " 'active': True,\n",
              " 'balance': 345.8,\n",
              " 'other_names': ('Doe', 'Joe'),\n",
              " 'friends': ['Jane', 'John'],\n",
              " 'spouse': None}"
            ]
          }
        }
      ],
      "source": [
        "new_user.__dict__"
      ],
      "id": "b53f45ea"
    },
    {
      "cell_type": "code",
      "execution_count": 10,
      "metadata": {
        "ExecuteTime": {
          "end_time": "2020-03-17T14:29:52.854067Z",
          "start_time": "2020-03-17T14:29:52.847015Z"
        }
      },
      "outputs": [],
      "source": [
        "def obj_to_dict(obj):\n",
        "    \"\"\"Converts an object to a dictionary representation of the object including \n",
        "    meta-data information about the object's module and class name.\n",
        "\n",
        "    Parameters\n",
        "    ----------\n",
        "    obj : `object`\n",
        "        A python object to be converted into a dictionary representation\n",
        "\n",
        "    Returns\n",
        "    -------\n",
        "    output : `dict`\n",
        "        A dictionary representation of the object\n",
        "    \"\"\"\n",
        "    # Add object meta data \n",
        "    obj_dict = {\n",
        "        \"__class__\": obj.__class__.__name__,\n",
        "        \"__module__\": obj.__module__\n",
        "    }\n",
        "    # Add the object properties\n",
        "    return obj_dict | obj.__dict__"
      ],
      "id": "c4906b57"
    },
    {
      "cell_type": "code",
      "execution_count": 11,
      "metadata": {
        "ExecuteTime": {
          "end_time": "2020-03-17T14:29:52.854067Z",
          "start_time": "2020-03-17T14:29:52.847015Z"
        }
      },
      "outputs": [
        {
          "output_type": "display_data",
          "metadata": {},
          "data": {
            "text/plain": [
              "{'__class__': 'User',\n",
              " '__module__': '__main__',\n",
              " 'name': 'Foo Bar',\n",
              " 'age': 78,\n",
              " 'active': True,\n",
              " 'balance': 345.8,\n",
              " 'other_names': ('Doe', 'Joe'),\n",
              " 'friends': ['Jane', 'John'],\n",
              " 'spouse': None}"
            ]
          }
        }
      ],
      "source": [
        "obj_to_dict(new_user)"
      ],
      "id": "c31d02e6"
    },
    {
      "cell_type": "markdown",
      "metadata": {},
      "source": [
        "The function `convert_to_dict` does the following:\n",
        "\n",
        "-   create a dictionary named `obj_dict` to act as the dict\n",
        "    representation of our object.\n",
        "\n",
        "-   dunder attributes `__class__.__name__` and `__module__` provide\n",
        "    crucial metadata on the object: the class name and the module name\n",
        "\n",
        "-   add the instance attributes of the object using `obj.__dict__`\n",
        "    (`Python` stores instance attributes in a dictionary)\n",
        "\n",
        "The resulting `obj_dict` is now serializable (provided all attributes of\n",
        "our object are).\n",
        "\n",
        "Now we can comfortably call `json.dumps()` on the object and pass\n",
        "`default=convert_to_dict`\n",
        "\n",
        "> **Note**\n",
        ">\n",
        "> Obviously this fails if one of the attributes is not `JSON`\n",
        "> serializable"
      ],
      "id": "c8c7bd6e-6cd1-43f0-87f0-cab1511e328f"
    },
    {
      "cell_type": "code",
      "execution_count": 12,
      "metadata": {
        "ExecuteTime": {
          "end_time": "2020-03-17T14:29:53.566068Z",
          "start_time": "2020-03-17T14:29:53.560201Z"
        }
      },
      "outputs": [
        {
          "output_type": "stream",
          "name": "stdout",
          "text": [
            "{\n",
            "    \"__class__\": \"User\",\n",
            "    \"__module__\": \"__main__\",\n",
            "    \"active\": true,\n",
            "    \"age\": 78,\n",
            "    \"balance\": 345.8,\n",
            "    \"friends\": [\n",
            "        \"Jane\",\n",
            "        \"John\"\n",
            "    ],\n",
            "    \"name\": \"Foo Bar\",\n",
            "    \"other_names\": [\n",
            "        \"Doe\",\n",
            "        \"Joe\"\n",
            "    ],\n",
            "    \"spouse\": null\n",
            "}"
          ]
        }
      ],
      "source": [
        "print(json.dumps(new_user, default=obj_to_dict, indent=4, sort_keys=True))"
      ],
      "id": "413e7150"
    },
    {
      "cell_type": "markdown",
      "metadata": {},
      "source": [
        "Now, if we want to decode (deserialiaze) a custom object, and create the\n",
        "correct object type, we need a function that does the inverse of\n",
        "`obj_to_dict`, since `json.loads` simply returns a `dict`:"
      ],
      "id": "1dedc90c-4048-4058-b325-e4719a43f529"
    },
    {
      "cell_type": "code",
      "execution_count": 13,
      "metadata": {
        "ExecuteTime": {
          "end_time": "2020-03-17T14:29:54.413286Z",
          "start_time": "2020-03-17T14:29:54.408660Z"
        }
      },
      "outputs": [
        {
          "output_type": "stream",
          "name": "stdout",
          "text": [
            "{'__class__': 'User', '__module__': '__main__', 'name': 'Foo Bar', 'age': 78, 'active': True, 'balance': 345.8, 'other_names': ['Doe', 'Joe'], 'friends': ['Jane', 'John'], 'spouse': None}"
          ]
        }
      ],
      "source": [
        "user_data = json.loads(json.dumps(new_user, default=obj_to_dict))\n",
        "print(user_data)"
      ],
      "id": "06444530"
    },
    {
      "cell_type": "markdown",
      "metadata": {},
      "source": [
        "> **Note**\n",
        ">\n",
        "> We need `json.loads()` to reconstruct a `User` object from this\n",
        "> dictionary: `json.loads()` takes an optional argument `object_hook`\n",
        "> which specifies a function that returns the desired custom object,\n",
        "> given the decoded output (which in this case, is a `dict`)."
      ],
      "id": "ab72dbaf-dc8e-4068-beee-7314f3433702"
    },
    {
      "cell_type": "code",
      "execution_count": 14,
      "metadata": {
        "ExecuteTime": {
          "end_time": "2020-03-17T14:29:55.257839Z",
          "start_time": "2020-03-17T14:29:55.253496Z"
        }
      },
      "outputs": [],
      "source": [
        "def dict_to_obj(input_dict):\n",
        "    \"\"\"Converts a dictionary representation of an object to an instance of the object.\n",
        "\n",
        "    Parameters\n",
        "    ----------\n",
        "    input_dict : `dict`\n",
        "        A dictionary representation of the object, containing \"__module__\" \n",
        "        and \"__class__\" metadata\n",
        "\n",
        "    Returns\n",
        "    -------    \n",
        "    obj : `object`\n",
        "        A python object constructed from the dictionary representation    \n",
        "    \"\"\"\n",
        "    assert \"__class__\" in input_dict and \"__module__\" in input_dict\n",
        "    class_name = input_dict.pop(\"__class__\")\n",
        "    module_name = input_dict.pop(\"__module__\")\n",
        "    module = __import__(module_name)\n",
        "    class_ = getattr(module, class_name)\n",
        "    obj = class_(**input_dict)\n",
        "    return obj"
      ],
      "id": "d059dc15"
    },
    {
      "cell_type": "markdown",
      "metadata": {},
      "source": [
        "This function does the following:\n",
        "\n",
        "-   Extract the class name from the dictionary under the key `__class__`\n",
        "\n",
        "-   Extract the module name from the dictionary under the key\n",
        "    `__module__`\n",
        "\n",
        "-   Imports the module and get the class\n",
        "\n",
        "-   Instantiate the class by giving to the class constructor all the\n",
        "    instance arguments through dictionary unpacking"
      ],
      "id": "da3c4f3d-34c2-4618-898b-5c0d4e92dca1"
    },
    {
      "cell_type": "code",
      "execution_count": 15,
      "metadata": {
        "ExecuteTime": {
          "end_time": "2020-03-17T14:29:57.102787Z",
          "start_time": "2020-03-17T14:29:57.097553Z"
        }
      },
      "outputs": [
        {
          "output_type": "display_data",
          "metadata": {},
          "data": {
            "text/plain": [
              "User(name='Foo Bar', age=78, active=True, other_names=['Doe', 'Joe'], friends=['Jane', 'John'], spouse=None)"
            ]
          }
        }
      ],
      "source": [
        "obj_data = json.dumps(new_user, default=obj_to_dict)\n",
        "new_object = json.loads(obj_data, object_hook=dict_to_obj)\n",
        "new_object"
      ],
      "id": "c866934e"
    },
    {
      "cell_type": "code",
      "execution_count": 16,
      "metadata": {
        "ExecuteTime": {
          "end_time": "2020-03-17T14:29:57.944835Z",
          "start_time": "2020-03-17T14:29:57.939581Z"
        }
      },
      "outputs": [
        {
          "output_type": "display_data",
          "metadata": {},
          "data": {
            "text/plain": [
              "__main__.User"
            ]
          }
        }
      ],
      "source": [
        "type(new_object)"
      ],
      "id": "4a7fd1bb"
    },
    {
      "cell_type": "code",
      "execution_count": 17,
      "metadata": {
        "ExecuteTime": {
          "end_time": "2020-03-17T14:29:58.679143Z",
          "start_time": "2020-03-17T14:29:58.673617Z"
        }
      },
      "outputs": [
        {
          "output_type": "display_data",
          "metadata": {},
          "data": {
            "text/plain": [
              "78"
            ]
          }
        }
      ],
      "source": [
        "new_object.age"
      ],
      "id": "31a9cb80"
    },
    {
      "cell_type": "markdown",
      "metadata": {},
      "source": [
        "> **Note**\n",
        ">\n",
        "> Functions `obj_to_dict()` and `dict_to_obj()` are showcases for\n",
        "> special/magic/dunder methods.\n",
        ">\n",
        "> In the definition of class `User`, two special methods were explicitly\n",
        "> defined: `__init__()` and `__repr__()`. But many more are available,\n",
        "> including `__dir__()`.\n",
        ">\n",
        "> Remember that some dunder members of the object are not callable."
      ],
      "id": "71a9081f-103e-452a-b583-a2796479131c"
    },
    {
      "cell_type": "code",
      "execution_count": 18,
      "metadata": {},
      "outputs": [
        {
          "output_type": "display_data",
          "metadata": {},
          "data": {
            "text/plain": [
              "['__class__',\n",
              " '__delattr__',\n",
              " '__dir__',\n",
              " '__eq__',\n",
              " '__format__',\n",
              " '__ge__',\n",
              " '__getattribute__',\n",
              " '__getstate__',\n",
              " '__gt__',\n",
              " '__hash__',\n",
              " '__init__',\n",
              " '__init_subclass__',\n",
              " '__le__',\n",
              " '__lt__',\n",
              " '__ne__',\n",
              " '__new__',\n",
              " '__reduce__',\n",
              " '__reduce_ex__',\n",
              " '__repr__',\n",
              " '__setattr__',\n",
              " '__sizeof__',\n",
              " '__str__',\n",
              " '__subclasshook__']"
            ]
          }
        }
      ],
      "source": [
        "[dude for dude in dir(new_object) if dude.startswith('__') and callable(getattr(new_object, dude))]"
      ],
      "id": "ee7eb26f"
    },
    {
      "cell_type": "code",
      "execution_count": 19,
      "metadata": {},
      "outputs": [
        {
          "output_type": "display_data",
          "metadata": {},
          "data": {
            "text/plain": [
              "['__dict__', '__doc__', '__module__', '__weakref__']"
            ]
          }
        }
      ],
      "source": [
        "[dude for dude in dir(new_object) if dude.startswith('__') and not callable(getattr(new_object, dude))]"
      ],
      "id": "a4578483"
    },
    {
      "cell_type": "code",
      "execution_count": 20,
      "metadata": {},
      "outputs": [
        {
          "output_type": "display_data",
          "metadata": {},
          "data": {
            "text/plain": [
              "78"
            ]
          }
        }
      ],
      "source": [
        "new_object.__getattribute__('age')\n",
        "\n",
        "getattr(new_object, 'age')"
      ],
      "id": "a6127ab0"
    },
    {
      "cell_type": "markdown",
      "metadata": {},
      "source": [
        "> **Note**\n",
        ">\n",
        "> Class `User` could have been implemented as a `dataclass`"
      ],
      "id": "d7824408-e44e-40c1-b3bc-34307aec14a7"
    },
    {
      "cell_type": "code",
      "execution_count": 21,
      "metadata": {},
      "outputs": [],
      "source": [
        "from dataclasses import dataclass\n",
        "\n",
        "@dataclass\n",
        "class UserBis(object):\n",
        "    \"\"\"Custom User Class\n",
        "    \"\"\"\n",
        "    name: str \n",
        "    age: int\n",
        "    active: bool\n",
        "    balance: float\n",
        "    other_names: list[str]\n",
        "    friends: list[str]\n",
        "    spouse: str"
      ],
      "id": "058bef6a"
    },
    {
      "cell_type": "markdown",
      "metadata": {},
      "source": [
        "> **Note**\n",
        ">\n",
        "> `@dataclass` is a *decorator*. Have a look at the chapter on\n",
        "> decorators in \\[Fluent Python\\] by Ramalho"
      ],
      "id": "a8fac9fb-2e09-4c04-aab7-2012ec14e160"
    },
    {
      "cell_type": "code",
      "execution_count": 22,
      "metadata": {},
      "outputs": [],
      "source": [
        "other_user = UserBis(**(new_user.__dict__))"
      ],
      "id": "dc831ad0"
    },
    {
      "cell_type": "code",
      "execution_count": 23,
      "metadata": {},
      "outputs": [
        {
          "output_type": "display_data",
          "metadata": {},
          "data": {
            "text/plain": [
              "\"UserBis(name='Foo Bar', age=78, active=True, balance=345.8, other_names=('Doe', 'Joe'), friends=['Jane', 'John'], spouse=None)\""
            ]
          }
        }
      ],
      "source": [
        "repr(other_user)"
      ],
      "id": "e5b3a5bc"
    },
    {
      "cell_type": "code",
      "execution_count": 24,
      "metadata": {},
      "outputs": [
        {
          "output_type": "display_data",
          "metadata": {},
          "data": {
            "text/plain": [
              "{'__annotations__',\n",
              " '__dataclass_fields__',\n",
              " '__dataclass_params__',\n",
              " '__match_args__'}"
            ]
          }
        }
      ],
      "source": [
        "{dude for dude in dir(other_user) if dude.startswith('__')} -  {dude for dude in dir(new_user) if dude.startswith('__')}"
      ],
      "id": "be54e565"
    },
    {
      "cell_type": "markdown",
      "metadata": {},
      "source": [
        "> **Note**\n",
        ">\n",
        "> Have a look at [`dataclasses`\n",
        "> documentation](https://docs.python.org/3/library/dataclasses.html).\n",
        ">\n",
        "> See also [Chapter 5: Data class builders]() in [Fluent Python]()\n",
        "\n",
        "# Using `JSON` with Spark\n",
        "\n",
        "First, we download the data if it’s not there yet"
      ],
      "id": "1bc9e3be-e492-40db-a03e-26fc8d5b8863"
    },
    {
      "cell_type": "code",
      "execution_count": 25,
      "metadata": {
        "ExecuteTime": {
          "end_time": "2020-03-17T16:19:34.238130Z",
          "start_time": "2020-03-17T16:19:34.163729Z"
        }
      },
      "outputs": [],
      "source": [
        "import requests, zipfile, io\n",
        "from pathlib import Path\n",
        "\n",
        "path = Path('drug-enforcement.json.zip')\n",
        "if not path.exists():\n",
        "    url = \"https://s-v-b.github.io/IFEBY310/data/drug-enforcement.json.zip\"\n",
        "    r = requests.get(url)\n",
        "    z = zipfile.ZipFile(io.BytesIO(r.content))\n",
        "    z.extractall(path='./')"
      ],
      "id": "62f33018"
    },
    {
      "cell_type": "code",
      "execution_count": 26,
      "metadata": {},
      "outputs": [
        {
          "output_type": "stream",
          "name": "stdout",
          "text": [
            "ls: cannot access 'drug*': No such file or directory"
          ]
        }
      ],
      "source": [
        "!ls drug*"
      ],
      "id": "4141846e"
    },
    {
      "cell_type": "markdown",
      "metadata": {},
      "source": [
        "## Reading a `JSON` dataset with `Spark`"
      ],
      "id": "07894c92-69b1-4b42-9ab4-0cdf89c83bab"
    },
    {
      "cell_type": "code",
      "execution_count": 27,
      "metadata": {
        "ExecuteTime": {
          "end_time": "2020-03-17T17:13:47.583384Z",
          "start_time": "2020-03-17T17:13:43.123090Z"
        }
      },
      "outputs": [
        {
          "output_type": "stream",
          "name": "stderr",
          "text": [
            "25/03/09 22:57:27 WARN Utils: Your hostname, boucheron-Precision-5480 resolves to a loopback address: 127.0.1.1; using 192.168.10.120 instead (on interface wlp0s20f3)\n",
            "25/03/09 22:57:27 WARN Utils: Set SPARK_LOCAL_IP if you need to bind to another address\n",
            "Setting default log level to \"WARN\".\n",
            "To adjust logging level use sc.setLogLevel(newLevel). For SparkR, use setLogLevel(newLevel).\n",
            "25/03/09 22:57:27 WARN NativeCodeLoader: Unable to load native-hadoop library for your platform... using builtin-java classes where applicable\n",
            "25/03/09 22:57:28 WARN Utils: Service 'SparkUI' could not bind on port 4040. Attempting port 4041.\n",
            "25/03/09 22:57:28 WARN Utils: Service 'SparkUI' could not bind on port 4041. Attempting port 4042."
          ]
        }
      ],
      "source": [
        "from pyspark import SparkConf, SparkContext\n",
        "from pyspark.sql import SparkSession\n",
        "from pyspark.sql import functions as fn\n",
        "from pyspark.sql.functions import col\n",
        "\n",
        "spark = (SparkSession\n",
        "    .builder\n",
        "    .appName(\"Spark JSON\")\n",
        "    .getOrCreate()\n",
        ")\n",
        "\n",
        "sc = spark._sc"
      ],
      "id": "36a74fdc"
    },
    {
      "cell_type": "code",
      "execution_count": 28,
      "metadata": {
        "ExecuteTime": {
          "end_time": "2020-03-17T17:13:47.590453Z",
          "start_time": "2020-03-17T17:13:47.585590Z"
        }
      },
      "outputs": [],
      "source": [
        "filename = \"drug-enforcement.json\""
      ],
      "id": "fcfb7cc9"
    },
    {
      "cell_type": "markdown",
      "metadata": {},
      "source": [
        "First, lets look at the data. It’s a large set of JSON records about\n",
        "drugs enforcement."
      ],
      "id": "c00e5862-8ab4-4f48-bda5-fc95503a3de4"
    },
    {
      "cell_type": "code",
      "execution_count": 29,
      "metadata": {
        "ExecuteTime": {
          "end_time": "2020-03-17T17:13:48.148481Z",
          "start_time": "2020-03-17T17:13:47.594201Z"
        }
      },
      "outputs": [
        {
          "output_type": "stream",
          "name": "stdout",
          "text": [
            "head: cannot open 'drug-enforcement.json' for reading: No such file or directory"
          ]
        }
      ],
      "source": [
        "!head -n 100 drug-enforcement.json"
      ],
      "id": "56ef9572"
    },
    {
      "cell_type": "markdown",
      "metadata": {},
      "source": [
        "> **Note**\n",
        ">\n",
        "> We need to tell spark that rows span on several lines with the\n",
        "> `multLine` option"
      ],
      "id": "b9328b1d-7a7e-4ca6-a956-9fa7a1efba0f"
    },
    {
      "cell_type": "code",
      "execution_count": 30,
      "metadata": {
        "ExecuteTime": {
          "end_time": "2020-03-17T17:13:52.259661Z",
          "start_time": "2020-03-17T17:13:48.152192Z"
        }
      },
      "outputs": [],
      "source": [
        "df = spark.read.json(filename, multiLine=True)"
      ],
      "id": "14bb40d2"
    },
    {
      "cell_type": "code",
      "execution_count": 31,
      "metadata": {
        "ExecuteTime": {
          "end_time": "2020-03-17T17:13:52.294898Z",
          "start_time": "2020-03-17T17:13:52.261550Z"
        }
      },
      "outputs": [],
      "source": [
        "df.printSchema()"
      ],
      "id": "c15bc77d"
    },
    {
      "cell_type": "markdown",
      "metadata": {},
      "source": [
        "> **Note**\n",
        ">\n",
        "> In a less user-friendly format:"
      ],
      "id": "58945f70-d3f8-4d3a-8632-841fee9414d4"
    },
    {
      "cell_type": "code",
      "execution_count": 32,
      "metadata": {
        "ExecuteTime": {
          "end_time": "2020-03-17T17:13:52.355556Z",
          "start_time": "2020-03-17T17:13:52.297210Z"
        }
      },
      "outputs": [],
      "source": [
        "df.schema"
      ],
      "id": "4d356474"
    },
    {
      "cell_type": "markdown",
      "metadata": {},
      "source": [
        "> **Note**\n",
        ">\n",
        "> This dataset is a little bit of a mess!\n",
        ">\n",
        "> This should not be surprising. The data used to populate the Spark\n",
        "> dataframe are not classically tabular but what people call\n",
        "> *semi-structured*. Json is well-suited to store, represent, and\n",
        "> exchange such data.\n",
        ">\n",
        "> In the classical age of tabular data (according to Codd’s principles),\n",
        "> a table cell could only hold a scalar value (numeric, logical, text,\n",
        "> date, timestamp, …), nowadays Relational Database Management Systems\n",
        "> handle Arrays, Composite Types, Range Types, …, and Json (see\n",
        "> [PostgreSQL](https://www.postgresql.org/docs/current/datatype-json.html)).\n",
        ">\n",
        "> Spark, `R`, and `Pandas`, and modern relational databases also allow\n",
        "> us to work with complex types.\n",
        ">\n",
        "> Modern column oriented file format like `parquet` also work with\n",
        "> nested structures.\n",
        "\n",
        "-   First, there is a nested `opendfa` dictionary. Each element of the\n",
        "    dictionary is an array\n",
        "-   A first good idea is to **“flatten” the schema of the DataFrame**,\n",
        "    so that there are no nested types any more.\n",
        "\n",
        "## Flattening the schema\n",
        "\n",
        "All the columns in the *nested* structure `openfda` are put up in the\n",
        "schema. These columns nested in the `openfda` are as follows:"
      ],
      "id": "2df08803-38b1-46ff-aa12-7f79b9e6fe29"
    },
    {
      "cell_type": "code",
      "execution_count": 33,
      "metadata": {
        "ExecuteTime": {
          "end_time": "2020-03-17T17:14:00.472548Z",
          "start_time": "2020-03-17T17:14:00.352058Z"
        }
      },
      "outputs": [],
      "source": [
        "df.select('openfda.*').columns"
      ],
      "id": "579cc6b3"
    },
    {
      "cell_type": "code",
      "execution_count": 34,
      "metadata": {
        "ExecuteTime": {
          "end_time": "2020-03-17T17:14:01.904242Z",
          "start_time": "2020-03-17T17:14:00.646360Z"
        }
      },
      "outputs": [],
      "source": [
        "df.select(\"openfda.*\").head(2)"
      ],
      "id": "539f0e6c"
    },
    {
      "cell_type": "code",
      "execution_count": 35,
      "metadata": {
        "ExecuteTime": {
          "end_time": "2020-03-17T17:14:02.230811Z",
          "start_time": "2020-03-17T17:14:01.906641Z"
        }
      },
      "outputs": [],
      "source": [
        "for c in df.select(\"openfda.*\").columns:\n",
        "    df = df.withColumn(\"openfda_\" + c, col(\"openfda.\" + c))"
      ],
      "id": "11e32b4d"
    },
    {
      "cell_type": "code",
      "execution_count": 36,
      "metadata": {
        "ExecuteTime": {
          "end_time": "2020-03-17T17:14:07.644985Z",
          "start_time": "2020-03-17T17:14:07.501380Z"
        }
      },
      "outputs": [],
      "source": [
        "df = df.select([c for c in df.columns if c != \"openfda\"])"
      ],
      "id": "b73e938f"
    },
    {
      "cell_type": "code",
      "execution_count": 37,
      "metadata": {
        "ExecuteTime": {
          "end_time": "2020-03-17T17:14:09.871658Z",
          "start_time": "2020-03-17T17:14:09.865537Z"
        }
      },
      "outputs": [],
      "source": [
        "df.printSchema()"
      ],
      "id": "ad0d61ac"
    },
    {
      "cell_type": "code",
      "execution_count": 38,
      "metadata": {
        "ExecuteTime": {
          "end_time": "2020-03-17T17:14:19.204515Z",
          "start_time": "2020-03-17T17:14:18.651165Z"
        }
      },
      "outputs": [],
      "source": [
        "df.head(2)"
      ],
      "id": "f5233ebe"
    },
    {
      "cell_type": "markdown",
      "metadata": {},
      "source": [
        "Note that the display of the `DataFrame` is not as usual… it displays\n",
        "the dataframe like a list of `Row`, since the columns “openfda\\*”\n",
        "contain arrays of varying length\n",
        "\n",
        "> **Note**\n",
        ">\n",
        "> A principled approach to schema flattening is embodied in the next\n",
        "> chunk.\n",
        ">\n",
        "> `df.schema` allows us to perform flattening in a programmatic way."
      ],
      "id": "a8efda58-f7ce-45bb-b881-6f7b705d72f2"
    },
    {
      "cell_type": "code",
      "execution_count": 39,
      "metadata": {},
      "outputs": [],
      "source": [
        "from pyspark.sql.types import StructType\n",
        "from pyspark.sql.functions import col\n",
        "\n",
        "def flatten_schema(df):\n",
        "    # Get fields and their data types\n",
        "    fields = df.schema.fields\n",
        "    \n",
        "    # Flatten array of column names\n",
        "    flat_cols = []\n",
        "    \n",
        "    for field in fields:\n",
        "        # Handle nested structures\n",
        "        if isinstance(field.dataType, StructType):\n",
        "            nested = df.select(field.name + \".*\").columns\n",
        "            flat_cols.extend([field.name + \".\" + x for x in nested])\n",
        "        else:\n",
        "            flat_cols.append(field.name)\n",
        "    \n",
        "    # Select all flattened columns\n",
        "    df_flattened = df.select([col(x).alias(x.replace(\".\",\"_\")) for x in flat_cols])\n",
        "    \n",
        "    return df_flattened"
      ],
      "id": "b3d3fa38"
    },
    {
      "cell_type": "markdown",
      "metadata": {},
      "source": [
        "> **Note**\n",
        ">\n",
        "> This function definition is from `copilot` under the following prompt:\n",
        ">\n",
        ">     How can I flatten the schema of a spark dataframe?"
      ],
      "id": "a98c5f13-45f9-4839-82dd-7881bf13d1fb"
    },
    {
      "cell_type": "code",
      "execution_count": 40,
      "metadata": {},
      "outputs": [],
      "source": [
        "df = spark.read.json(filename, multiLine=True)\n",
        "\n",
        "df_flat = flatten_schema(df)\n",
        "\n",
        "df_flat.printSchema()"
      ],
      "id": "725b111e"
    },
    {
      "cell_type": "code",
      "execution_count": 41,
      "metadata": {},
      "outputs": [],
      "source": [
        "from pyspark.sql.types import StructType, StructField, StringType, IntegerType\n",
        "\n",
        "messy_schema = StructType([\n",
        "    StructField(\"id\", IntegerType()),\n",
        "    StructField(\"info\", StructType([\n",
        "        StructField(\"name\", StringType()),\n",
        "        StructField(\"age\", IntegerType()),\n",
        "        StructField(\"zoo\", StructType([\n",
        "            StructField(\"cat\", StringType()),\n",
        "            StructField(\"dog\", StringType())\n",
        "        ]))\n",
        "    ]))\n",
        "])"
      ],
      "id": "3bf2879a"
    },
    {
      "cell_type": "markdown",
      "metadata": {},
      "source": [
        "> **Note**\n",
        ">\n",
        "> This principled approach is not the end of the story. If the schema\n",
        "> exhibits hierarchical nesting, `flatten_schema()` only removes one\n",
        "> level of nesting."
      ],
      "id": "b22d38a1-a929-4c9b-b1c0-7c7d1ce40901"
    },
    {
      "cell_type": "code",
      "execution_count": 42,
      "metadata": {},
      "outputs": [],
      "source": [
        "data = [(1, (\"John\", 30, (\"Fritz\", \"Medor\"))), (2, (\"Jane\", 25, (\"Grominet\", \"Goofy\")))]\n",
        "\n",
        "very_nested_df = spark.createDataFrame(data, messy_schema)"
      ],
      "id": "50c86b11"
    },
    {
      "cell_type": "code",
      "execution_count": 43,
      "metadata": {},
      "outputs": [
        {
          "output_type": "stream",
          "name": "stderr",
          "text": [
            "[Stage 0:>                                                          (0 + 1) / 1]                                                                                "
          ]
        },
        {
          "output_type": "stream",
          "name": "stdout",
          "text": [
            "+---+---------+--------+-----------------+\n",
            "| id|info_name|info_age|         info_zoo|\n",
            "+---+---------+--------+-----------------+\n",
            "|  1|     John|      30|   {Fritz, Medor}|\n",
            "|  2|     Jane|      25|{Grominet, Goofy}|\n",
            "+---+---------+--------+-----------------+\n"
          ]
        }
      ],
      "source": [
        "flatten_schema(very_nested_df).show()"
      ],
      "id": "28b5f355"
    },
    {
      "cell_type": "code",
      "execution_count": 44,
      "metadata": {},
      "outputs": [
        {
          "output_type": "stream",
          "name": "stdout",
          "text": [
            "root\n",
            " |-- id: integer (nullable = true)\n",
            " |-- info_name: string (nullable = true)\n",
            " |-- info_age: integer (nullable = true)\n",
            " |-- info_zoo: struct (nullable = true)\n",
            " |    |-- cat: string (nullable = true)\n",
            " |    |-- dog: string (nullable = true)\n"
          ]
        }
      ],
      "source": [
        "flatten_schema(very_nested_df).printSchema()"
      ],
      "id": "71f3b5cc"
    },
    {
      "cell_type": "markdown",
      "metadata": {},
      "source": [
        "> **Warning**\n",
        ">\n",
        "> copilot pretends that the flattening function above handles nested\n",
        "> structure recursively. This is not the case.\n",
        ">\n",
        "> Fix this\n",
        "\n",
        "## Missing data\n",
        "\n",
        "A strategy can be to remove rows with missing data. `dropna()` has\n",
        "several options, explained below."
      ],
      "id": "916df1fa-6eee-4eb9-96f4-ffb8b0f99b1b"
    },
    {
      "cell_type": "code",
      "execution_count": 45,
      "metadata": {
        "ExecuteTime": {
          "end_time": "2020-03-17T17:41:17.413952Z",
          "start_time": "2020-03-17T17:41:16.898211Z"
        }
      },
      "outputs": [],
      "source": [
        "df.dropna().count()"
      ],
      "id": "04a00c5e"
    },
    {
      "cell_type": "markdown",
      "metadata": {},
      "source": [
        "If we remove all lines with at least one missing value, we end up with\n",
        "an empty dataframe !"
      ],
      "id": "5fa4fab2-60ac-4b02-b5f8-33e7e3ead5e0"
    },
    {
      "cell_type": "code",
      "execution_count": 46,
      "metadata": {
        "ExecuteTime": {
          "end_time": "2020-03-17T17:41:17.895108Z",
          "start_time": "2020-03-17T17:41:17.416108Z"
        }
      },
      "outputs": [],
      "source": [
        "df.dropna(how='all').count()"
      ],
      "id": "221f2a41"
    },
    {
      "cell_type": "markdown",
      "metadata": {},
      "source": [
        "`dropna()` accepts the following arguments\n",
        "\n",
        "-   `how`: can be `'any'` or `'all'`. If `'any'`, rows containing any\n",
        "    null values will be dropped entirely (this is the default). If\n",
        "    `'all'`, only rows which are entirely empty will be dropped.\n",
        "\n",
        "-   `thresh`: accepts an integer representing the “threshold” for how\n",
        "    many empty cells a row must have before being dropped. `tresh` is a\n",
        "    middle ground between `how='any'` and `how='all'`. As a result, the\n",
        "    presence of `thresh` will override `how`\n",
        "\n",
        "-   `subset`: accepts a list of column names. When a subset is present,\n",
        "    N/A values will only be checked against the columns whose names are\n",
        "    provided."
      ],
      "id": "d1269ef6-0b66-490f-9828-65667ba69b9f"
    },
    {
      "cell_type": "code",
      "execution_count": 47,
      "metadata": {
        "ExecuteTime": {
          "end_time": "2020-03-17T17:41:17.901172Z",
          "start_time": "2020-03-17T17:41:17.897860Z"
        }
      },
      "outputs": [],
      "source": [
        "n_columns = len(df.columns)"
      ],
      "id": "acd55d65"
    },
    {
      "cell_type": "code",
      "execution_count": 48,
      "metadata": {
        "ExecuteTime": {
          "end_time": "2020-03-17T17:41:18.415066Z",
          "start_time": "2020-03-17T17:41:17.904093Z"
        }
      },
      "outputs": [],
      "source": [
        "df.dropna(thresh=n_columns).count()"
      ],
      "id": "cd53aa88"
    },
    {
      "cell_type": "code",
      "execution_count": 49,
      "metadata": {
        "ExecuteTime": {
          "end_time": "2020-03-17T17:41:18.931320Z",
          "start_time": "2020-03-17T17:41:18.417317Z"
        }
      },
      "outputs": [],
      "source": [
        "df.dropna(thresh=n_columns-1).count()"
      ],
      "id": "e0af7af0"
    },
    {
      "cell_type": "code",
      "execution_count": 50,
      "metadata": {
        "ExecuteTime": {
          "end_time": "2020-03-17T17:41:19.439726Z",
          "start_time": "2020-03-17T17:41:18.934217Z"
        }
      },
      "outputs": [],
      "source": [
        "df.dropna(thresh=n_columns-10).count()"
      ],
      "id": "a23f1f86"
    },
    {
      "cell_type": "code",
      "execution_count": 51,
      "metadata": {
        "ExecuteTime": {
          "end_time": "2020-03-17T17:41:19.752318Z",
          "start_time": "2020-03-17T17:41:19.441809Z"
        }
      },
      "outputs": [],
      "source": [
        "df = df.dropna(subset=['postal_code', 'city', 'country', 'address_1'])\n",
        "df.count()"
      ],
      "id": "e4033182"
    },
    {
      "cell_type": "markdown",
      "metadata": {},
      "source": [
        "But before this, let’s count the number of missing value for each column"
      ],
      "id": "8edfc02e-6e90-4117-988c-88622a693490"
    },
    {
      "cell_type": "code",
      "execution_count": 52,
      "metadata": {
        "ExecuteTime": {
          "end_time": "2020-03-17T17:41:20.424178Z",
          "start_time": "2020-03-17T17:41:19.754255Z"
        }
      },
      "outputs": [],
      "source": [
        "# For each column we create a new column containing 1 if the value is null and 0 otherwise.\n",
        "# We need to bast Boolean to Int so that we can use fn.sum after\n",
        "for c in df.columns:\n",
        "    # Do not do this for _isnull columns (just in case you run this cell twice...)\n",
        "    if not c.endswith(\"_isnull\"):\n",
        "        df = df.withColumn(c + \"_isnull\", fn.isnull(col(c)).cast('int'))"
      ],
      "id": "4987cb8d"
    },
    {
      "cell_type": "code",
      "execution_count": 53,
      "metadata": {
        "ExecuteTime": {
          "end_time": "2020-03-17T17:41:20.925299Z",
          "start_time": "2020-03-17T17:41:20.426204Z"
        }
      },
      "outputs": [],
      "source": [
        "df.head()"
      ],
      "id": "89025eef"
    },
    {
      "cell_type": "code",
      "execution_count": 54,
      "metadata": {
        "ExecuteTime": {
          "end_time": "2020-03-17T17:41:22.053794Z",
          "start_time": "2020-03-17T17:41:20.927796Z"
        }
      },
      "outputs": [],
      "source": [
        "# Get the list of _isnull columns\n",
        "isnull_columns = [c for c in df.columns if c.endswith(\"_isnull\")]\n",
        "\n",
        "# On the _isnull columns :\n",
        "#  - we compute the sum to have the number of null values and rename the column\n",
        "#  - convert to pandas for better readability\n",
        "#  - transpose the pandas dataframe for better readability\n",
        "missing_values = df.select(isnull_columns)\\\n",
        "    .agg(*[fn.sum(c).alias(c.replace(\"_isnull\", \"\")) for c in isnull_columns])\\\n",
        "    .toPandas()\n",
        "\n",
        "missing_values.T\\\n",
        "    .rename({0: \"missing values\"}, axis=\"columns\")"
      ],
      "id": "91281d41"
    },
    {
      "cell_type": "markdown",
      "metadata": {},
      "source": [
        "We see that `more_code_info` is always null and that `termination_date`\n",
        "if often null. Most of the `openfda*` columns are also almost always\n",
        "empty.\n",
        "\n",
        "We can keep only the columns with no missing values"
      ],
      "id": "c38ec83e-8c19-4487-929d-a3932258ae55"
    },
    {
      "cell_type": "code",
      "execution_count": 55,
      "metadata": {
        "ExecuteTime": {
          "end_time": "2020-03-17T17:41:24.802336Z",
          "start_time": "2020-03-17T17:41:24.797411Z"
        }
      },
      "outputs": [],
      "source": [
        "# This line can seem complicated, run pieces of each to understand\n",
        "kept_columns = list(\n",
        "    missing_values.columns[(missing_values.iloc[0] == 0).values]\n",
        ")"
      ],
      "id": "5bc063c4"
    },
    {
      "cell_type": "code",
      "execution_count": 56,
      "metadata": {
        "ExecuteTime": {
          "end_time": "2020-03-17T17:41:27.488388Z",
          "start_time": "2020-03-17T17:41:27.398503Z"
        }
      },
      "outputs": [],
      "source": [
        "df_kept = df.select(kept_columns)"
      ],
      "id": "5bbe203f"
    },
    {
      "cell_type": "code",
      "execution_count": 57,
      "metadata": {
        "ExecuteTime": {
          "end_time": "2020-03-17T17:41:27.948018Z",
          "start_time": "2020-03-17T17:41:27.539797Z"
        }
      },
      "outputs": [],
      "source": [
        "df_kept.head(2)"
      ],
      "id": "3543f68c"
    },
    {
      "cell_type": "code",
      "execution_count": 58,
      "metadata": {
        "ExecuteTime": {
          "end_time": "2020-03-17T17:41:41.419929Z",
          "start_time": "2020-03-17T17:41:41.413784Z"
        }
      },
      "outputs": [],
      "source": [
        "df_kept.printSchema()"
      ],
      "id": "4d2a11cf"
    },
    {
      "cell_type": "code",
      "execution_count": 59,
      "metadata": {
        "ExecuteTime": {
          "end_time": "2020-03-17T17:43:23.207185Z",
          "start_time": "2020-03-17T17:43:22.829140Z"
        }
      },
      "outputs": [],
      "source": [
        "df_kept.count()"
      ],
      "id": "fbc0eefb"
    },
    {
      "cell_type": "markdown",
      "metadata": {},
      "source": [
        "## Filtering by string values\n",
        "\n",
        "Cases from South San Francisco"
      ],
      "id": "954a80e6-b780-4728-b053-e152c743421c"
    },
    {
      "cell_type": "code",
      "execution_count": 60,
      "metadata": {
        "ExecuteTime": {
          "end_time": "2020-03-17T17:43:54.396689Z",
          "start_time": "2020-03-17T17:43:53.465012Z"
        }
      },
      "outputs": [],
      "source": [
        "df.filter(df.city == \"South San Francisco\")\\\n",
        "    .toPandas()"
      ],
      "id": "dbc2855d"
    },
    {
      "cell_type": "markdown",
      "metadata": {},
      "source": [
        "> **Caution**\n",
        ">\n",
        "> Once again, we use `.toPandas()` to pretty format the results in the\n",
        "> notebook.\n",
        ">\n",
        "> But it’s a BAD idea to do this if the spark DataFrame is large, since\n",
        "> it requires a `collect()`\n",
        "\n",
        "Aside from filtering strings by a perfect match, there are plenty of\n",
        "other powerful ways to filter by strings in `pyspark` :\n",
        "\n",
        "-   `df.filter(df.city.contains('San Francisco'))`: returns rows where\n",
        "    strings of a column contain a provided substring. In our example,\n",
        "    filtering by rows which contain the substring “San Francisco” would\n",
        "    be a good way to get all rows in San Francisco, instead of just\n",
        "    “South San Francisco”.\n",
        "\n",
        "-   `df.filter(df.city.startswith('San'))`: Returns rows where a string\n",
        "    starts with a provided substring.\n",
        "\n",
        "-   `df.filter(df.city.endswith('ice'))`: Returns rows where a string\n",
        "    starts with a provided substring.\n",
        "\n",
        "-   `df.filter(df.city.isNull())`: Returns rows where values in a\n",
        "    provided column are null.\n",
        "\n",
        "-   `df.filter(df.city.isNotNull())`: Opposite of the above.\n",
        "\n",
        "-   `df.filter(df.city.like('San%'))`: Performs a SQL-like query\n",
        "    containing the LIKE clause.\n",
        "\n",
        "-   `df.filter(df.city.rlike('[A-Z]*ice$'))`: Performs a regexp filter.\n",
        "\n",
        "-   `df.filter(df.city.isin('San Francisco', 'Los Angeles'))`: Looks for\n",
        "    rows where the string value of a column matches any of the provided\n",
        "    strings exactly.\n",
        "\n",
        "You can try some of these to understand"
      ],
      "id": "6432f83b-b88a-44a9-b685-cb4773366a83"
    },
    {
      "cell_type": "code",
      "execution_count": 61,
      "metadata": {
        "ExecuteTime": {
          "end_time": "2020-03-17T17:48:19.328007Z",
          "start_time": "2020-03-17T17:48:18.572570Z"
        }
      },
      "outputs": [],
      "source": [
        "df.filter(df.city.contains('San Francisco'))\\\n",
        "    .toPandas()"
      ],
      "id": "a565aa6c"
    },
    {
      "cell_type": "code",
      "execution_count": 62,
      "metadata": {
        "ExecuteTime": {
          "end_time": "2020-03-17T17:48:10.490019Z",
          "start_time": "2020-03-17T17:48:09.784496Z"
        }
      },
      "outputs": [],
      "source": [
        "(\n",
        "    df.filter(df.city.isin('San Francisco', 'Los Angeles'))\n",
        "      .toPandas()\n",
        ")"
      ],
      "id": "26c0e31b"
    },
    {
      "cell_type": "markdown",
      "metadata": {},
      "source": [
        "## Filtering by Date Values\n",
        "\n",
        "In addition to filtering by strings, we can also filter by columns where\n",
        "the values are stored as dates or datetimes (or strings that can be\n",
        "inferred as dates). Perhaps the most useful way to filter dates is by\n",
        "using the `between()` method, which allows us to find results within a\n",
        "certain date range. Here we find all the results which were reported in\n",
        "the years 2013 and 2014:"
      ],
      "id": "e2fdbb18-bccf-4c46-aec2-8e916a76d601"
    },
    {
      "cell_type": "code",
      "execution_count": 63,
      "metadata": {
        "ExecuteTime": {
          "end_time": "2020-03-17T17:50:34.344304Z",
          "start_time": "2020-03-17T17:50:33.638867Z"
        }
      },
      "outputs": [],
      "source": [
        "( \n",
        "    df\n",
        "        .filter(df.city == \"South San Francisco\")\n",
        "        .filter(df.report_date.between('2013-01-01 00:00:00','2015-03-11 00:00:00'))\n",
        "        .toPandas()\n",
        ")"
      ],
      "id": "4d790cae"
    },
    {
      "cell_type": "markdown",
      "metadata": {},
      "source": [
        "> **Caution**\n",
        ">\n",
        "> Is Spark smart enough to understand that the string in column\n",
        "> `report_date` contains a date?"
      ],
      "id": "16f977cb-b8bf-4afb-a354-9c24ca96fbc1"
    },
    {
      "cell_type": "code",
      "execution_count": 64,
      "metadata": {},
      "outputs": [],
      "source": [
        "df.filter(df.city == \"South San Francisco\")\\\n",
        "    .filter(df.center_classification_date.between('2013-01-01 00:00:00','2013-12-31 00:00:00'))\\\n",
        "    .toPandas()"
      ],
      "id": "3e4ec3ba"
    },
    {
      "cell_type": "code",
      "execution_count": 65,
      "metadata": {},
      "outputs": [],
      "source": [
        "df_dates = df.select([c for c in df.columns if c.endswith(\"date\")])\n",
        "\n",
        "df_dates.printSchema()"
      ],
      "id": "c991c57f"
    },
    {
      "cell_type": "code",
      "execution_count": 66,
      "metadata": {},
      "outputs": [],
      "source": [
        "df_dates.show(5)"
      ],
      "id": "858cfd0b"
    },
    {
      "cell_type": "markdown",
      "metadata": {},
      "source": [
        "Columns are not dates (`DateType`) but strings (`StringType`). When\n",
        "comparing `report_date` with `'2013-01-01 00:00:00'` and\n",
        "`'2015-03-11 00:00:00'`, we are comparing strings and are lucky enough\n",
        "that in unicode `'-' < '0' < '...' < '9'` so that `2013-....` is less\n",
        "that any string starting with `20130...`, while any string starting with\n",
        "`2013...` is less than any string starting with `2015..`.\n",
        "\n",
        "> **Caution**\n",
        ">\n",
        "> If some field in a Json string is meant to represent a date or a\n",
        "> datetime object, spark should be given a hint.\n",
        ">\n",
        "> Json loaders (from `Python`) as well as the Spark Json reader have\n",
        "> optional arguments that can be used to indicate the date parser to be\n",
        "> used.\n",
        "\n",
        "> **Note**\n",
        ">\n",
        "> We have to tell the json loader about two things:\n",
        ">\n",
        "> 1.  which columns should be read as dates\n",
        "> 2.  which format should be used for those columns\n",
        ">\n",
        "> The first point can be settled using the `schema` argument of\n",
        "> `.json()` method (see\n",
        "> [Documentation](https://spark.apache.org/docs/3.5.3/api/python/reference/pyspark.sql/api/pyspark.sql.DataFrameReader.json.html))"
      ],
      "id": "4c51b41c-004f-4dc9-bd91-086f5ddb3e4b"
    },
    {
      "cell_type": "code",
      "execution_count": 67,
      "metadata": {},
      "outputs": [],
      "source": [
        "ze_schema = df.schema \n",
        "\n",
        "list_fields = []\n",
        "\n",
        "for f in ze_schema.fields:\n",
        "  if f.name.endswith('date'):\n",
        "    list_fields.append(StructField(f.name, DateType(), True))\n",
        "  else:\n",
        "    list_fields.append(f)\n",
        "\n",
        "ze_schema = StructType(list_fields)"
      ],
      "id": "05cea79b"
    },
    {
      "cell_type": "code",
      "execution_count": 68,
      "metadata": {},
      "outputs": [],
      "source": [
        "# Alternative syntax using a dictionary of options\n",
        "options = {\n",
        "    \"dateFormat\": \"yyyyMMdd\",\n",
        "    \"multiLine\": \"true\"\n",
        "}\n",
        "\n",
        "df = (\n",
        "    spark.read\n",
        "        .options(**options)\n",
        "        .json(filename, ze_schema)\n",
        ")"
      ],
      "id": "a198a45b"
    },
    {
      "cell_type": "code",
      "execution_count": 69,
      "metadata": {},
      "outputs": [],
      "source": [
        "df.select([c for c in df.columns if c.endswith(\"date\")]).printSchema()"
      ],
      "id": "85d939ce"
    },
    {
      "cell_type": "code",
      "execution_count": 70,
      "metadata": {},
      "outputs": [],
      "source": [
        "(\n",
        "df.filter(df.city == \"South San Francisco\")\n",
        "  .filter(df.center_classification_date.between('2013-01-01 00:00:00','2013-12-31 00:00:00'))\n",
        "  .toPandas()\n",
        ")"
      ],
      "id": "2343f1f1"
    },
    {
      "cell_type": "markdown",
      "metadata": {},
      "source": [
        "## Handling complex types\n",
        "\n",
        "Bridging the gap between tabular and semi-structured data.\n",
        "\n",
        "> **Note**\n",
        ">\n",
        "> SQL, `R`, `Pandas` …\n",
        "\n",
        "`struct`, `array`, `map`"
      ],
      "id": "4de1b9ab-7b5b-4ea1-97f7-1c35e1cbafb7"
    },
    {
      "cell_type": "code",
      "execution_count": 71,
      "metadata": {},
      "outputs": [],
      "source": [
        "# struct"
      ],
      "id": "82296164"
    },
    {
      "cell_type": "markdown",
      "metadata": {},
      "source": [
        "The problems we faced after loading data from the json file pertained to\n",
        "the fact that column `fda` was of complex `StrucType()` type. We shall\n",
        "revisit this dataframe."
      ],
      "id": "a5a94c14-542d-4e92-a1a6-6b660442f8e6"
    },
    {
      "cell_type": "code",
      "execution_count": 72,
      "metadata": {},
      "outputs": [],
      "source": [
        "df = spark.read.json(filename, multiLine=True)"
      ],
      "id": "e22c79c1"
    },
    {
      "cell_type": "markdown",
      "metadata": {},
      "source": [
        "The dataframe schema `df.schema` which is of type `StructType` (defined\n",
        "in `pyspark.sql.types`) can be converted to a json string which in turn\n",
        "can be converted into a Python dictionary."
      ],
      "id": "e06fcb46-65aa-4098-bad8-2b1955f8a671"
    },
    {
      "cell_type": "code",
      "execution_count": 73,
      "metadata": {},
      "outputs": [],
      "source": [
        "df = spark.read.json(filename, multiLine=True)\n",
        "\n",
        "sj = json.loads(df.schema.json())"
      ],
      "id": "3fbe397e"
    },
    {
      "cell_type": "markdown",
      "metadata": {},
      "source": [
        "We equip the dataframe with a primary key"
      ],
      "id": "0810bf4c-bc61-499d-b2e0-737bb15e6b7e"
    },
    {
      "cell_type": "code",
      "execution_count": 74,
      "metadata": {},
      "outputs": [],
      "source": [
        "from pyspark.sql import Window\n",
        "\n",
        "w = Window.orderBy(col(\"center_classification_date\"))\n",
        "\n",
        "df = (\n",
        "  df\n",
        "    .withColumn(\"row_id\", fn.row_number().over(w))\n",
        ")"
      ],
      "id": "aaa0b94b"
    },
    {
      "cell_type": "code",
      "execution_count": 75,
      "metadata": {},
      "outputs": [],
      "source": [
        "[(f['name'], f['type'])  \n",
        "    for f in sj['fields'] if not isinstance(f['type'], str)]"
      ],
      "id": "d0eb1c9b"
    },
    {
      "cell_type": "markdown",
      "metadata": {},
      "source": [
        "Column `openfda` has type `StrucType()` with fields with composite type."
      ],
      "id": "f7af4155-550c-48cf-a459-23270a1c0a83"
    },
    {
      "cell_type": "code",
      "execution_count": 76,
      "metadata": {},
      "outputs": [],
      "source": [
        "{f.dataType  for f in df.schema.fields if not f.dataType==StringType()}"
      ],
      "id": "f2ef64b0"
    },
    {
      "cell_type": "code",
      "execution_count": 77,
      "metadata": {},
      "outputs": [],
      "source": [
        "{f['type']['type']\n",
        "    for f in sj['fields'] if not isinstance(f['type'], str)}"
      ],
      "id": "c1ca041d"
    },
    {
      "cell_type": "markdown",
      "metadata": {},
      "source": [
        "Projecting on `row_id` and `openfda.*` leads to a (partially) flattened\n",
        "datafame, that, thanks to the `row_id` column can be joined with the\n",
        "original dataframe."
      ],
      "id": "02afaf6b-877f-4801-9043-f9e50e5ed81b"
    },
    {
      "cell_type": "code",
      "execution_count": 78,
      "metadata": {},
      "outputs": [],
      "source": [
        "df_proj = df.select('row_id', 'openfda.*')\n",
        "\n",
        "df_proj.printSchema()"
      ],
      "id": "85da1bb9"
    },
    {
      "cell_type": "markdown",
      "metadata": {},
      "source": [
        "We can inspect the length of the arrays."
      ],
      "id": "b1f42ae6-1c50-4a26-ae45-884460a90671"
    },
    {
      "cell_type": "code",
      "execution_count": 79,
      "metadata": {},
      "outputs": [],
      "source": [
        "# array\n",
        "df_proj.select(\n",
        "    fn.max(fn.size(col(\"application_number\"))).alias(\"Max\"), \n",
        "    fn.min(fn.size(col(\"application_number\"))).alias(\"min\"), \n",
        "    fn.avg(fn.size(col(\"application_number\"))).alias(\"Mean\")).show(1)"
      ],
      "id": "fe1aae10"
    },
    {
      "cell_type": "markdown",
      "metadata": {},
      "source": [
        "In some rows, the *size* of the array is `-1` because the field is\n",
        "`NULL`."
      ],
      "id": "4066bfcd-1052-4db5-b33d-c99fa8b8d291"
    },
    {
      "cell_type": "code",
      "execution_count": 80,
      "metadata": {},
      "outputs": [],
      "source": [
        "(\n",
        "  df_proj\n",
        "    .where(fn.size(col(\"application_number\"))>1)\n",
        "    .select(\"row_id\")\n",
        "    .show(5)\n",
        ")"
      ],
      "id": "5138424c"
    },
    {
      "cell_type": "markdown",
      "metadata": {},
      "source": [
        "An `array` column can be *exploded*. This is like pivoting into long\n",
        "form. The result contains one row per item in the array."
      ],
      "id": "e99319a9-59f6-4314-8d8d-765bf173123f"
    },
    {
      "cell_type": "code",
      "execution_count": 81,
      "metadata": {},
      "outputs": [],
      "source": [
        "(\n",
        "  df_proj\n",
        "    .select('row_id', 'application_number')\n",
        "    .withColumn(\"exploded\", \n",
        "                fn.explode(col(\"application_number\")))\n",
        "    .select('row_id', 'exploded')\n",
        "    .groupBy('row_id')\n",
        "    .agg(fn.count('exploded').alias(\"n_lignes\"))\n",
        "    .where(\"n_lignes > 1\")\n",
        "    .show(5)\n",
        ")"
      ],
      "id": "56602ddf"
    }
  ],
  "nbformat": 4,
  "nbformat_minor": 5,
  "metadata": {
    "kernelspec": {
      "name": "python3",
      "display_name": "Python 3 (ipykernel)",
      "language": "python",
      "path": "/usr/share/jupyter/kernels/python3"
    },
    "language_info": {
      "name": "python",
      "codemirror_mode": {
        "name": "ipython",
        "version": "3"
      },
      "file_extension": ".py",
      "mimetype": "text/x-python",
      "nbconvert_exporter": "python",
      "pygments_lexer": "ipython3",
      "version": "3.12.3"
    }
  }
}