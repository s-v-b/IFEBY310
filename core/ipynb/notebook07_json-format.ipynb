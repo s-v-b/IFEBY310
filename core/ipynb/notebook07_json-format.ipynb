{
  "cells": [
    {
      "cell_type": "markdown",
      "metadata": {},
      "source": [
        "# Using `JSON` data with `Python`\n",
        "\n",
        "This notebook is concerned with `JSON` a format that serves many\n",
        "purposes. Just as `csv` files, `json` files are important sources and\n",
        "sinks for Spark. As a exchange format, `JSON` is also a serialization\n",
        "tool for Python and many other languages. `JSON` provides a way to\n",
        "accomodate *semi-structured* data in otherwise tabular environments\n",
        "(dataframes and databases tables).\n",
        "\n",
        "The notebook is organized in the following way:\n",
        "\n",
        "-   Serialization/Deserialization of Python builtin types using `JSON`\n",
        "-   Serialization/Deserialization of (some) custom types using `JSON`\n",
        "-   `JSON` readers and writers for Spark dataframes\n",
        "-   Composite types in Spark dataframes\n",
        "-   Advanced `JSON` readers and writers for Spark dataframes\n",
        "\n",
        "## Serialization and deserialization of built-in types"
      ],
      "id": "e059a0be-a54f-42d6-ae34-88879fe3c677"
    },
    {
      "cell_type": "code",
      "execution_count": 1,
      "metadata": {
        "ExecuteTime": {
          "end_time": "2020-03-17T14:29:25.759874Z",
          "start_time": "2020-03-17T14:29:25.726787Z"
        }
      },
      "outputs": [
        {
          "output_type": "stream",
          "name": "stdout",
          "text": [
            "{\n",
            "    \"active\": true,\n",
            "    \"age\": 78,\n",
            "    \"balance\": 345.8,\n",
            "    \"friends\": [\n",
            "        \"Jane\",\n",
            "        \"John\"\n",
            "    ],\n",
            "    \"name\": \"Foo Bar\",\n",
            "    \"other_names\": [\n",
            "        \"Doe\",\n",
            "        \"Joe\"\n",
            "    ],\n",
            "    \"spouse\": null\n",
            "}"
          ]
        }
      ],
      "source": [
        "import json\n",
        "\n",
        "obj = {\n",
        "    \"name\": \"Foo Bar\",\n",
        "    \"age\": 78,\n",
        "    \"friends\": [\"Jane\",\"John\"],\n",
        "    \"balance\": 345.80,\n",
        "    \"other_names\":(\"Doe\",\"Joe\"),\n",
        "    \"active\": True,\n",
        "    \"spouse\": None\n",
        "}\n",
        "\n",
        "print(json.dumps(obj, sort_keys=True, indent=4))"
      ],
      "id": "2625a5a4"
    },
    {
      "cell_type": "markdown",
      "metadata": {},
      "source": [
        "> **Note**\n",
        ">\n",
        "> `json.dumps()` outputs a `JSON` formatted string.\n",
        ">\n",
        "> Not every type of object can be fed to `json.dumps()`."
      ],
      "id": "1e1c5a82-99dd-4a31-bbd9-38bbed464877"
    },
    {
      "cell_type": "code",
      "execution_count": 2,
      "metadata": {
        "ExecuteTime": {
          "end_time": "2020-03-17T14:29:26.039839Z",
          "start_time": "2020-03-17T14:29:26.027858Z"
        }
      },
      "outputs": [],
      "source": [
        "with open('user.json','w') as file:\n",
        "    json.dump(obj, file, sort_keys=True, indent=4)"
      ],
      "id": "f562ffa2"
    },
    {
      "cell_type": "code",
      "execution_count": 3,
      "metadata": {
        "ExecuteTime": {
          "end_time": "2020-03-17T14:29:27.110218Z",
          "start_time": "2020-03-17T14:29:26.479550Z"
        }
      },
      "outputs": [
        {
          "output_type": "stream",
          "name": "stdout",
          "text": [
            "{\n",
            "    \"active\": true,\n",
            "    \"age\": 78,\n",
            "    \"balance\": 345.8,\n",
            "    \"friends\": [\n",
            "        \"Jane\",\n",
            "        \"John\"\n",
            "    ],\n",
            "    \"name\": \"Foo Bar\",\n",
            "    \"other_names\": [\n",
            "        \"Doe\",\n",
            "        \"Joe\"\n",
            "    ],\n",
            "    \"spouse\": null\n",
            "}"
          ]
        }
      ],
      "source": [
        "!cat user.json"
      ],
      "id": "e047cd95"
    },
    {
      "cell_type": "code",
      "execution_count": 4,
      "metadata": {
        "ExecuteTime": {
          "end_time": "2020-03-17T14:29:27.137307Z",
          "start_time": "2020-03-17T14:29:27.114179Z"
        }
      },
      "outputs": [
        {
          "output_type": "display_data",
          "metadata": {},
          "data": {
            "text/plain": [
              "{'active': True,\n",
              " 'age': 78,\n",
              " 'balance': 345.8,\n",
              " 'friends': ['Jane', 'John'],\n",
              " 'name': 'Foo Bar',\n",
              " 'other_names': ['Doe', 'Joe'],\n",
              " 'spouse': None}"
            ]
          }
        }
      ],
      "source": [
        "json.loads('{\"active\": true, \"age\": 78, \"balance\": 345.8, \"friends\": [\"Jane\",\"John\"], \"name\": \"Foo Bar\", \"other_names\": [\"Doe\",\"Joe\"],\"spouse\":null}')"
      ],
      "id": "895ea038"
    },
    {
      "cell_type": "code",
      "execution_count": 5,
      "metadata": {
        "ExecuteTime": {
          "end_time": "2020-03-17T14:29:27.149816Z",
          "start_time": "2020-03-17T14:29:27.140548Z"
        }
      },
      "outputs": [
        {
          "output_type": "stream",
          "name": "stdout",
          "text": [
            "{'active': True, 'age': 78, 'balance': 345.8, 'friends': ['Jane', 'John'], 'name': 'Foo Bar', 'other_names': ['Doe', 'Joe'], 'spouse': None}"
          ]
        }
      ],
      "source": [
        "with open('user.json', 'r') as file:\n",
        "    user_data = json.load(file)\n",
        "\n",
        "print(user_data)"
      ],
      "id": "c936fcbe"
    },
    {
      "cell_type": "markdown",
      "metadata": {},
      "source": [
        "> **Question**\n",
        ">\n",
        "> What happens if we feed `json.dumps()` with a `numpy` array?\n",
        "\n",
        "> **Question**\n",
        ">\n",
        "> What happens if we feed `json.dumps()` with a `datatime` object?\n",
        "\n",
        "## Serialization and deserialization of custom objects"
      ],
      "id": "ef6b5180-9811-4e3d-be33-4cc38a484fbc"
    },
    {
      "cell_type": "code",
      "execution_count": 6,
      "metadata": {
        "ExecuteTime": {
          "end_time": "2020-03-17T14:29:27.733203Z",
          "start_time": "2020-03-17T14:29:27.718399Z"
        }
      },
      "outputs": [],
      "source": [
        "class User(object):\n",
        "    \"\"\"Custom User Class\n",
        "    \"\"\"\n",
        "    def __init__(self, name, age, active, balance, \n",
        "                 other_names, friends, spouse):\n",
        "        self.name = name\n",
        "        self.age = age\n",
        "        self.active = active\n",
        "        self.balance = balance\n",
        "        self.other_names = other_names\n",
        "        self.friends = friends\n",
        "        self.spouse = spouse\n",
        "            \n",
        "    def __repr__(self):\n",
        "        s = \"User(\"\n",
        "        s += \"name=\" + repr(self.name)\n",
        "        s += \", age=\" + repr(self.age)\n",
        "        s += \", active=\" + repr(self.active)\n",
        "        s += \", other_names=\" + repr(self.other_names)\n",
        "        s += \", friends=\" + repr(self.friends)\n",
        "        s += \", spouse=\" + repr(self.spouse) + \")\"\n",
        "        return s"
      ],
      "id": "5179e401"
    },
    {
      "cell_type": "markdown",
      "metadata": {},
      "source": [
        "> **Tip**\n",
        ">\n",
        "> Brush up your dunder/magic methods, for example in *Fluent Python* by\n",
        "> Ramalho (Chapter I: *The Python data model*, Section *Overview of\n",
        "> Special Methods*)"
      ],
      "id": "83a584cb-82b5-44ce-9d07-dea27dd6af4f"
    },
    {
      "cell_type": "code",
      "execution_count": 7,
      "metadata": {
        "ExecuteTime": {
          "end_time": "2020-03-17T14:29:27.733203Z",
          "start_time": "2020-03-17T14:29:27.718399Z"
        }
      },
      "outputs": [
        {
          "output_type": "display_data",
          "metadata": {},
          "data": {
            "text/plain": [
              "User(name='Foo Bar', age=78, active=True, other_names=('Doe', 'Joe'), friends=['Jane', 'John'], spouse=None)"
            ]
          }
        }
      ],
      "source": [
        "new_user = User(\n",
        "    name = \"Foo Bar\",\n",
        "    age = 78,\n",
        "    friends = [\"Jane\", \"John\"],\n",
        "    balance = 345.80,\n",
        "    other_names = (\"Doe\", \"Joe\"),\n",
        "    active = True,\n",
        "    spouse = None\n",
        ")\n",
        "\n",
        "new_user"
      ],
      "id": "043d1911"
    },
    {
      "cell_type": "markdown",
      "metadata": {},
      "source": [
        "> **Note**\n",
        ">\n",
        "> Uncomment to see what happens"
      ],
      "id": "9cfed9eb-098f-4bfe-a198-46c580506e57"
    },
    {
      "cell_type": "code",
      "execution_count": 8,
      "metadata": {
        "ExecuteTime": {
          "end_time": "2020-03-17T14:29:49.613442Z",
          "start_time": "2020-03-17T14:29:49.601102Z"
        }
      },
      "outputs": [],
      "source": [
        "# This will raise a TypeError\n",
        "# json.dumps(new_user)"
      ],
      "id": "90a5a772"
    },
    {
      "cell_type": "markdown",
      "metadata": {},
      "source": [
        "As expected, the custom object `new_user` is not JSON serializable. So\n",
        "let’s build a method that does that for us.\n",
        "\n",
        "-   This comes as no surprise to us, since earlier on we observed that\n",
        "    the `json` module only handles the built-in types, and `User` is not\n",
        "    one.\n",
        "\n",
        "-   We need to send our user data to a client over a network, so how do\n",
        "    we get ourselves out of this error state?\n",
        "\n",
        "-   A simple solution would be to convert our custom type into a\n",
        "    serializable type that is a built-in type. We can conveniently\n",
        "    define a method `convert_to_dict()` that returns a dictionary\n",
        "    representation of our object. `json.dumps()` takes in a optional\n",
        "    argument, `default`, which specifies a function to be called if the\n",
        "    object is not serializable. This function returns a JSON encodable\n",
        "    version of the object.\n",
        "\n",
        "Recall that class `obj` has a dunder attribute `__dict__` that provides\n",
        "a basis for obtaining a dictionary with the attributes of any object:"
      ],
      "id": "698df133-3df4-48d6-a2af-60901c75edc2"
    },
    {
      "cell_type": "code",
      "execution_count": 9,
      "metadata": {},
      "outputs": [
        {
          "output_type": "display_data",
          "metadata": {},
          "data": {
            "text/plain": [
              "{'name': 'Foo Bar',\n",
              " 'age': 78,\n",
              " 'active': True,\n",
              " 'balance': 345.8,\n",
              " 'other_names': ('Doe', 'Joe'),\n",
              " 'friends': ['Jane', 'John'],\n",
              " 'spouse': None}"
            ]
          }
        }
      ],
      "source": [
        "new_user.__dict__"
      ],
      "id": "9256675d"
    },
    {
      "cell_type": "code",
      "execution_count": 10,
      "metadata": {
        "ExecuteTime": {
          "end_time": "2020-03-17T14:29:52.854067Z",
          "start_time": "2020-03-17T14:29:52.847015Z"
        }
      },
      "outputs": [],
      "source": [
        "def obj_to_dict(obj):\n",
        "    \"\"\"Converts an object to a dictionary representation of the object including \n",
        "    meta-data information about the object's module and class name.\n",
        "\n",
        "    Parameters\n",
        "    ----------\n",
        "    obj : `object`\n",
        "        A python object to be converted into a dictionary representation\n",
        "\n",
        "    Returns\n",
        "    -------\n",
        "    output : `dict`\n",
        "        A dictionary representation of the object\n",
        "    \"\"\"\n",
        "    # Add object meta data \n",
        "    obj_dict = {\n",
        "        \"__class__\": obj.__class__.__name__,\n",
        "        \"__module__\": obj.__module__\n",
        "    }\n",
        "    # Add the object properties\n",
        "    return obj_dict | obj.__dict__"
      ],
      "id": "66ce2cfb"
    },
    {
      "cell_type": "code",
      "execution_count": 11,
      "metadata": {
        "ExecuteTime": {
          "end_time": "2020-03-17T14:29:52.854067Z",
          "start_time": "2020-03-17T14:29:52.847015Z"
        }
      },
      "outputs": [
        {
          "output_type": "display_data",
          "metadata": {},
          "data": {
            "text/plain": [
              "{'__class__': 'User',\n",
              " '__module__': '__main__',\n",
              " 'name': 'Foo Bar',\n",
              " 'age': 78,\n",
              " 'active': True,\n",
              " 'balance': 345.8,\n",
              " 'other_names': ('Doe', 'Joe'),\n",
              " 'friends': ['Jane', 'John'],\n",
              " 'spouse': None}"
            ]
          }
        }
      ],
      "source": [
        "obj_to_dict(new_user)"
      ],
      "id": "a5a70579"
    },
    {
      "cell_type": "markdown",
      "metadata": {},
      "source": [
        "The function `convert_to_dict` does the following:\n",
        "\n",
        "-   create a dictionary named `obj_dict` to act as the dict\n",
        "    representation of our object.\n",
        "\n",
        "-   dunder attributes `__class__.__name__` and `__module__` provide\n",
        "    crucial metadata on the object: the class name and the module name\n",
        "\n",
        "-   add the instance attributes of the object using `obj.__dict__`\n",
        "    (`Python` stores instance attributes in a dictionary)\n",
        "\n",
        "The resulting `obj_dict` is now serializable (provided all attributes of\n",
        "our object are).\n",
        "\n",
        "Now we can comfortably call `json.dumps()` on the object and pass\n",
        "`default=convert_to_dict`\n",
        "\n",
        "> **Note**\n",
        ">\n",
        "> Obviously this fails if one of the attributes is not `JSON`\n",
        "> serializable"
      ],
      "id": "7c02a87c-e4d3-434d-98af-7296a5896e6c"
    },
    {
      "cell_type": "code",
      "execution_count": 12,
      "metadata": {
        "ExecuteTime": {
          "end_time": "2020-03-17T14:29:53.566068Z",
          "start_time": "2020-03-17T14:29:53.560201Z"
        }
      },
      "outputs": [
        {
          "output_type": "stream",
          "name": "stdout",
          "text": [
            "{\n",
            "    \"__class__\": \"User\",\n",
            "    \"__module__\": \"__main__\",\n",
            "    \"active\": true,\n",
            "    \"age\": 78,\n",
            "    \"balance\": 345.8,\n",
            "    \"friends\": [\n",
            "        \"Jane\",\n",
            "        \"John\"\n",
            "    ],\n",
            "    \"name\": \"Foo Bar\",\n",
            "    \"other_names\": [\n",
            "        \"Doe\",\n",
            "        \"Joe\"\n",
            "    ],\n",
            "    \"spouse\": null\n",
            "}"
          ]
        }
      ],
      "source": [
        "print(json.dumps(new_user, default=obj_to_dict, indent=4, sort_keys=True))"
      ],
      "id": "cd65baa4"
    },
    {
      "cell_type": "markdown",
      "metadata": {},
      "source": [
        "Now, if we want to decode (deserialiaze) a custom object, and create the\n",
        "correct object type, we need a function that does the inverse of\n",
        "`obj_to_dict`, since `json.loads` simply returns a `dict`:"
      ],
      "id": "83f1ad2b-49e0-4f7a-996c-4f67fbcd9bfa"
    },
    {
      "cell_type": "code",
      "execution_count": 13,
      "metadata": {
        "ExecuteTime": {
          "end_time": "2020-03-17T14:29:54.413286Z",
          "start_time": "2020-03-17T14:29:54.408660Z"
        }
      },
      "outputs": [
        {
          "output_type": "stream",
          "name": "stdout",
          "text": [
            "{'__class__': 'User', '__module__': '__main__', 'name': 'Foo Bar', 'age': 78, 'active': True, 'balance': 345.8, 'other_names': ['Doe', 'Joe'], 'friends': ['Jane', 'John'], 'spouse': None}"
          ]
        }
      ],
      "source": [
        "user_data = json.loads(json.dumps(new_user, default=obj_to_dict))\n",
        "print(user_data)"
      ],
      "id": "1d7079d7"
    },
    {
      "cell_type": "markdown",
      "metadata": {},
      "source": [
        "> **Note**\n",
        ">\n",
        "> We need `json.loads()` to reconstruct a `User` object from this\n",
        "> dictionary: `json.loads()` takes an optional argument `object_hook`\n",
        "> which specifies a function that returns the desired custom object,\n",
        "> given the decoded output (which in this case, is a `dict`)."
      ],
      "id": "1221116e-81cd-4e98-8ad2-f7ad53fea130"
    },
    {
      "cell_type": "code",
      "execution_count": 14,
      "metadata": {
        "ExecuteTime": {
          "end_time": "2020-03-17T14:29:55.257839Z",
          "start_time": "2020-03-17T14:29:55.253496Z"
        }
      },
      "outputs": [],
      "source": [
        "def dict_to_obj(input_dict):\n",
        "    \"\"\"Converts a dictionary representation of an object to an instance of the object.\n",
        "\n",
        "    Parameters\n",
        "    ----------\n",
        "    input_dict : `dict`\n",
        "        A dictionary representation of the object, containing \"__module__\" \n",
        "        and \"__class__\" metadata\n",
        "\n",
        "    Returns\n",
        "    -------    \n",
        "    obj : `object`\n",
        "        A python object constructed from the dictionary representation    \n",
        "    \"\"\"\n",
        "    assert \"__class__\" in input_dict and \"__module__\" in input_dict\n",
        "    class_name = input_dict.pop(\"__class__\")\n",
        "    module_name = input_dict.pop(\"__module__\")\n",
        "    module = __import__(module_name)\n",
        "    class_ = getattr(module, class_name)\n",
        "    obj = class_(**input_dict)\n",
        "    return obj"
      ],
      "id": "04972fea"
    },
    {
      "cell_type": "markdown",
      "metadata": {},
      "source": [
        "This function does the following:\n",
        "\n",
        "-   Extract the class name from the dictionary under the key `__class__`\n",
        "\n",
        "-   Extract the module name from the dictionary under the key\n",
        "    `__module__`\n",
        "\n",
        "-   Imports the module and get the class\n",
        "\n",
        "-   Instantiate the class by giving to the class constructor all the\n",
        "    instance arguments through dictionary unpacking"
      ],
      "id": "0b07720e-bb71-44c9-a449-5533f8c0ea1d"
    },
    {
      "cell_type": "code",
      "execution_count": 15,
      "metadata": {
        "ExecuteTime": {
          "end_time": "2020-03-17T14:29:57.102787Z",
          "start_time": "2020-03-17T14:29:57.097553Z"
        }
      },
      "outputs": [
        {
          "output_type": "display_data",
          "metadata": {},
          "data": {
            "text/plain": [
              "User(name='Foo Bar', age=78, active=True, other_names=['Doe', 'Joe'], friends=['Jane', 'John'], spouse=None)"
            ]
          }
        }
      ],
      "source": [
        "obj_data = json.dumps(new_user, default=obj_to_dict)\n",
        "new_object = json.loads(obj_data, object_hook=dict_to_obj)\n",
        "new_object"
      ],
      "id": "ed156b21"
    },
    {
      "cell_type": "code",
      "execution_count": 16,
      "metadata": {
        "ExecuteTime": {
          "end_time": "2020-03-17T14:29:57.944835Z",
          "start_time": "2020-03-17T14:29:57.939581Z"
        }
      },
      "outputs": [
        {
          "output_type": "display_data",
          "metadata": {},
          "data": {
            "text/plain": [
              "__main__.User"
            ]
          }
        }
      ],
      "source": [
        "type(new_object)"
      ],
      "id": "376b6cde"
    },
    {
      "cell_type": "code",
      "execution_count": 17,
      "metadata": {
        "ExecuteTime": {
          "end_time": "2020-03-17T14:29:58.679143Z",
          "start_time": "2020-03-17T14:29:58.673617Z"
        }
      },
      "outputs": [
        {
          "output_type": "display_data",
          "metadata": {},
          "data": {
            "text/plain": [
              "78"
            ]
          }
        }
      ],
      "source": [
        "new_object.age"
      ],
      "id": "c2829da1"
    },
    {
      "cell_type": "markdown",
      "metadata": {},
      "source": [
        "> **Note**\n",
        ">\n",
        "> Functions `obj_to_dict()` and `dict_to_obj()` are showcases for\n",
        "> special/magic/dunder methods.\n",
        ">\n",
        "> In the definition of class `User`, two special methods were explicitly\n",
        "> defined: `__init__()` and `__repr__()`. But many more are available,\n",
        "> including `__dir__()`.\n",
        ">\n",
        "> Remember that some dunder members of the object are not callable."
      ],
      "id": "68a90b5c-6a40-42a5-9207-0148c87b7b86"
    },
    {
      "cell_type": "code",
      "execution_count": 18,
      "metadata": {},
      "outputs": [
        {
          "output_type": "display_data",
          "metadata": {},
          "data": {
            "text/plain": [
              "['__class__',\n",
              " '__delattr__',\n",
              " '__dir__',\n",
              " '__eq__',\n",
              " '__format__',\n",
              " '__ge__',\n",
              " '__getattribute__',\n",
              " '__getstate__',\n",
              " '__gt__',\n",
              " '__hash__',\n",
              " '__init__',\n",
              " '__init_subclass__',\n",
              " '__le__',\n",
              " '__lt__',\n",
              " '__ne__',\n",
              " '__new__',\n",
              " '__reduce__',\n",
              " '__reduce_ex__',\n",
              " '__repr__',\n",
              " '__setattr__',\n",
              " '__sizeof__',\n",
              " '__str__',\n",
              " '__subclasshook__']"
            ]
          }
        }
      ],
      "source": [
        "[dude for dude in dir(new_object) if dude.startswith('__') and callable(getattr(new_object, dude))]"
      ],
      "id": "7c060f11"
    },
    {
      "cell_type": "code",
      "execution_count": 19,
      "metadata": {},
      "outputs": [
        {
          "output_type": "display_data",
          "metadata": {},
          "data": {
            "text/plain": [
              "['__dict__', '__doc__', '__module__', '__weakref__']"
            ]
          }
        }
      ],
      "source": [
        "[dude for dude in dir(new_object) if dude.startswith('__') and not callable(getattr(new_object, dude))]"
      ],
      "id": "ed31b46f"
    },
    {
      "cell_type": "code",
      "execution_count": 20,
      "metadata": {},
      "outputs": [
        {
          "output_type": "display_data",
          "metadata": {},
          "data": {
            "text/plain": [
              "78"
            ]
          }
        }
      ],
      "source": [
        "new_object.__getattribute__('age')\n",
        "\n",
        "getattr(new_object, 'age')"
      ],
      "id": "79c0bdec"
    },
    {
      "cell_type": "markdown",
      "metadata": {},
      "source": [
        "> **Note**\n",
        ">\n",
        "> Class `User` could have been implemented as a `dataclass`"
      ],
      "id": "893b0590-66a4-4c1f-90b8-ab80c192e897"
    },
    {
      "cell_type": "code",
      "execution_count": 21,
      "metadata": {},
      "outputs": [],
      "source": [
        "from dataclasses import dataclass\n",
        "\n",
        "@dataclass\n",
        "class UserBis(object):\n",
        "    \"\"\"Custom User Class\n",
        "    \"\"\"\n",
        "    name: str \n",
        "    age: int\n",
        "    active: bool\n",
        "    balance: float\n",
        "    other_names: list[str]\n",
        "    friends: list[str]\n",
        "    spouse: str"
      ],
      "id": "6b26dc96"
    },
    {
      "cell_type": "markdown",
      "metadata": {},
      "source": [
        "> **Note**\n",
        ">\n",
        "> `@dataclass` is a *decorator*. Have a look at the chapter on\n",
        "> decorators in \\[Fluent Python\\] by Ramalho"
      ],
      "id": "6a376da8-961b-41d7-8940-13eff23715c7"
    },
    {
      "cell_type": "code",
      "execution_count": 22,
      "metadata": {},
      "outputs": [],
      "source": [
        "other_user = UserBis(**(new_user.__dict__))"
      ],
      "id": "39d63fe5"
    },
    {
      "cell_type": "code",
      "execution_count": 23,
      "metadata": {},
      "outputs": [
        {
          "output_type": "display_data",
          "metadata": {},
          "data": {
            "text/plain": [
              "\"UserBis(name='Foo Bar', age=78, active=True, balance=345.8, other_names=('Doe', 'Joe'), friends=['Jane', 'John'], spouse=None)\""
            ]
          }
        }
      ],
      "source": [
        "repr(other_user)"
      ],
      "id": "ce4e3134"
    },
    {
      "cell_type": "code",
      "execution_count": 24,
      "metadata": {},
      "outputs": [
        {
          "output_type": "display_data",
          "metadata": {},
          "data": {
            "text/plain": [
              "{'__annotations__',\n",
              " '__dataclass_fields__',\n",
              " '__dataclass_params__',\n",
              " '__match_args__'}"
            ]
          }
        }
      ],
      "source": [
        "{dude for dude in dir(other_user) if dude.startswith('__')} -  {dude for dude in dir(new_user) if dude.startswith('__')}"
      ],
      "id": "28c85bba"
    },
    {
      "cell_type": "markdown",
      "metadata": {},
      "source": [
        "> **Note**\n",
        ">\n",
        "> Have a look at [`dataclasses`\n",
        "> documentation](https://docs.python.org/3/library/dataclasses.html).\n",
        ">\n",
        "> See also [Chapter 5: Data class builders]() in [Fluent Python]()\n",
        "\n",
        "# Using `JSON` with Spark\n",
        "\n",
        "First, we download the data if it’s not there yet"
      ],
      "id": "8e07e16d-2675-42bc-8c7f-fd4285794aba"
    },
    {
      "cell_type": "code",
      "execution_count": 25,
      "metadata": {
        "ExecuteTime": {
          "end_time": "2020-03-17T16:19:34.238130Z",
          "start_time": "2020-03-17T16:19:34.163729Z"
        }
      },
      "outputs": [],
      "source": [
        "import requests, zipfile, io\n",
        "from pathlib import Path\n",
        "\n",
        "path = Path('drug-enforcement.json.zip')\n",
        "if not path.exists():\n",
        "    url = \"https://s-v-b.github.io/IFEBY310/data/drug-enforcement.json.zip\"\n",
        "    r = requests.get(url)\n",
        "    z = zipfile.ZipFile(io.BytesIO(r.content))\n",
        "    z.extractall(path='./')"
      ],
      "id": "07548e6e"
    },
    {
      "cell_type": "code",
      "execution_count": 26,
      "metadata": {},
      "outputs": [
        {
          "output_type": "stream",
          "name": "stdout",
          "text": [
            "drug-enforcement.json"
          ]
        }
      ],
      "source": [
        "!ls drug*"
      ],
      "id": "16b1a51b"
    },
    {
      "cell_type": "markdown",
      "metadata": {},
      "source": [
        "## Reading a `JSON` dataset with `Spark`"
      ],
      "id": "0f01b70b-38f9-4595-86cd-232864a58831"
    },
    {
      "cell_type": "code",
      "execution_count": 27,
      "metadata": {
        "ExecuteTime": {
          "end_time": "2020-03-17T17:13:47.583384Z",
          "start_time": "2020-03-17T17:13:43.123090Z"
        }
      },
      "outputs": [
        {
          "output_type": "stream",
          "name": "stderr",
          "text": [
            "25/04/03 15:16:26 WARN Utils: Your hostname, boucheron-Precision-5480 resolves to a loopback address: 127.0.1.1; using 172.23.32.10 instead (on interface eth0)\n",
            "25/04/03 15:16:26 WARN Utils: Set SPARK_LOCAL_IP if you need to bind to another address\n",
            "Setting default log level to \"WARN\".\n",
            "To adjust logging level use sc.setLogLevel(newLevel). For SparkR, use setLogLevel(newLevel).\n",
            "25/04/03 15:16:27 WARN NativeCodeLoader: Unable to load native-hadoop library for your platform... using builtin-java classes where applicable"
          ]
        }
      ],
      "source": [
        "from pyspark import SparkConf, SparkContext\n",
        "from pyspark.sql import SparkSession\n",
        "from pyspark.sql import functions as fn\n",
        "from pyspark.sql.functions import col\n",
        "\n",
        "spark = (SparkSession\n",
        "    .builder\n",
        "    .appName(\"Spark JSON\")\n",
        "    .getOrCreate()\n",
        ")\n",
        "\n",
        "sc = spark._sc"
      ],
      "id": "c8eeaaab"
    },
    {
      "cell_type": "code",
      "execution_count": 28,
      "metadata": {
        "ExecuteTime": {
          "end_time": "2020-03-17T17:13:47.590453Z",
          "start_time": "2020-03-17T17:13:47.585590Z"
        }
      },
      "outputs": [],
      "source": [
        "filename = \"drug-enforcement.json\""
      ],
      "id": "ed0499a5"
    },
    {
      "cell_type": "markdown",
      "metadata": {},
      "source": [
        "First, lets look at the data. It’s a large set of JSON records about\n",
        "drugs enforcement."
      ],
      "id": "97a21856-9a47-44aa-bfa9-f59adbb939f8"
    },
    {
      "cell_type": "code",
      "execution_count": 29,
      "metadata": {
        "ExecuteTime": {
          "end_time": "2020-03-17T17:13:48.148481Z",
          "start_time": "2020-03-17T17:13:47.594201Z"
        }
      },
      "outputs": [
        {
          "output_type": "stream",
          "name": "stdout",
          "text": [
            "[\n",
            "    {\n",
            "      \"classification\": \"Class II\",\n",
            "      \"center_classification_date\": \"20121025\",\n",
            "      \"report_date\": \"20121031\",\n",
            "      \"postal_code\": \"08816-2108\",\n",
            "      \"termination_date\": \"20141007\",\n",
            "      \"recall_initiation_date\": \"20120904\",\n",
            "      \"recall_number\": \"D-026-2013\",\n",
            "      \"city\": \"East Brunswick\",\n",
            "      \"event_id\": \"63384\",\n",
            "      \"distribution_pattern\": \"Nationwide\",\n",
            "      \"openfda\": {},\n",
            "      \"recalling_firm\": \"Raritan Pharmaceuticals, Inc.\",\n",
            "      \"voluntary_mandated\": \"Voluntary: Firm Initiated\",\n",
            "      \"state\": \"NJ\",\n",
            "      \"reason_for_recall\": \"Microbial Contamination of Non-Sterile Products: Product is being recalled due to possible microbial contamination by C. difficile discovered in the raw material.\",\n",
            "      \"initial_firm_notification\": \"E-Mail\",\n",
            "      \"status\": \"Terminated\",\n",
            "      \"product_type\": \"Drugs\",\n",
            "      \"country\": \"United States\",\n",
            "      \"product_description\": \"Wal-Mucil 100% Natural Fiber, 100% Natural Psyllium Seed Husk, Fiber Laxative/Supplement, a)160 capsules per bottle (item #503663), and b) 320 capsules per bottle (Item #586143), Distributed by: Walgreen Co., 200 Wilmot Road, Deerfield, IL 60015-4616, www.walgreens.com, a) UPC 3-11917-08151-9, b) UPC 3-11917-07658-4\",\n",
            "      \"code_info\": \"Lots a) 15952, 16270,16425, Exp 06/15; b)16459, 16466, 16467, Exp 07/15\",\n",
            "      \"address_1\": \"8 Joanna Ct\",\n",
            "      \"address_2\": \"\",\n",
            "      \"product_quantity\": \"56,808 bottles\"\n",
            "    },\n",
            "    {\n",
            "      \"classification\": \"Class II\",\n",
            "      \"center_classification_date\": \"20121025\",\n",
            "      \"report_date\": \"20121031\",\n",
            "      \"postal_code\": \"08816-2108\",\n",
            "      \"termination_date\": \"20141007\",\n",
            "      \"recall_initiation_date\": \"20120904\",\n",
            "      \"recall_number\": \"D-031-2013\",\n",
            "      \"city\": \"East Brunswick\",\n",
            "      \"event_id\": \"63384\",\n",
            "      \"distribution_pattern\": \"Nationwide\",\n",
            "      \"openfda\": {},\n",
            "      \"recalling_firm\": \"Raritan Pharmaceuticals, Inc.\",\n",
            "      \"voluntary_mandated\": \"Voluntary: Firm Initiated\",\n",
            "      \"state\": \"NJ\",\n",
            "      \"reason_for_recall\": \"Microbial Contamination of Non-Sterile Products: Product is being recalled due to possible microbial contamination by C. difficile discovered in the raw material.\",\n",
            "      \"initial_firm_notification\": \"E-Mail\",\n",
            "      \"status\": \"Terminated\",\n",
            "      \"product_type\": \"Drugs\",\n",
            "      \"country\": \"United States\",\n",
            "      \"product_description\": \"Premier Value Fiber Plus Calcium Supplement Capsules, 120 capsules per bottle, Distributed by: Chain Drug Consortium, LLC, Boca Raton, FL, UPC 8-40986-01987-6\",\n",
            "      \"code_info\": \"Lot 15087, Exp 08/15\",\n",
            "      \"address_1\": \"8 Joanna Ct\",\n",
            "      \"address_2\": \"\",\n",
            "      \"product_quantity\": \"96 bottles\"\n",
            "    },\n",
            "    {\n",
            "      \"classification\": \"Class III\",\n",
            "      \"center_classification_date\": \"20121106\",\n",
            "      \"report_date\": \"20121114\",\n",
            "      \"postal_code\": \"08807\",\n",
            "      \"termination_date\": \"20130325\",\n",
            "      \"recall_initiation_date\": \"20121015\",\n",
            "      \"recall_number\": \"D-047-2013\",\n",
            "      \"city\": \"Bridgewater\",\n",
            "      \"event_id\": \"63488\",\n",
            "      \"distribution_pattern\": \"Nationwide\",\n",
            "      \"openfda\": {},\n",
            "      \"recalling_firm\": \"Valeant Pharmaceuticals\",\n",
            "      \"voluntary_mandated\": \"Voluntary: Firm Initiated\",\n",
            "      \"state\": \"NJ\",\n",
            "      \"reason_for_recall\": \"Subpotent (Single Ingredient) Drug: This product was found to be subpotent for the salicylic acid ingredient.  Additionally, this product is mislabeled because the label either omits or erroneously added inactive ingredients to the label.\",\n",
            "      \"initial_firm_notification\": \"Letter\",\n",
            "      \"status\": \"Terminated\",\n",
            "      \"product_type\": \"Drugs\",\n",
            "      \"country\": \"United States\",\n",
            "      \"product_description\": \"AcneFree 3-in-1 Acne Night Repair Foam (retinol + salicylic acid 1.5% w/v), 3 oz (85 g) canister, Dist. by: University Medical Pharmaceuticals Corp., Irvine, CA  92618, UPC 7 88521 13548 6.\",\n",
            "      \"code_info\": \"All lots with expiration dates between 10/10/12 through 10/10/14 of UPC 7 88521 13548 6\",\n",
            "      \"address_1\": \"700 Rte 206 North\",\n",
            "      \"address_2\": \"\",\n",
            "      \"product_quantity\": \"81,319 canisters\"\n",
            "    },\n",
            "    {\n",
            "      \"classification\": \"Class III\",\n",
            "      \"center_classification_date\": \"20121220\",\n",
            "      \"report_date\": \"20121226\",\n",
            "      \"postal_code\": \"08558-1311\",\n",
            "      \"termination_date\": \"20140429\",\n",
            "      \"recall_initiation_date\": \"20121204\",\n",
            "      \"recall_number\": \"D-098-2013\",\n",
            "      \"city\": \"Skillman\",\n",
            "      \"more_code_info\": null,\n",
            "      \"event_id\": \"63787\",\n",
            "      \"distribution_pattern\": \"Nationwide\",\n",
            "      \"openfda\": {},\n",
            "      \"recalling_firm\": \"Johnson & Johnson\",\n",
            "      \"voluntary_mandated\": \"Voluntary: Firm Initiated\",\n",
            "      \"state\": \"NJ\",\n",
            "      \"reason_for_recall\": \"Superpotent (Single Ingredient Drug): salicylic acid\",\n",
            "      \"initial_firm_notification\": \"Letter\",\n",
            "      \"status\": \"Terminated\",\n",
            "      \"product_type\": \"Drugs\",\n",
            "      \"country\": \"United States\","
          ]
        }
      ],
      "source": [
        "!head -n 100 drug-enforcement.json"
      ],
      "id": "1620df7f"
    },
    {
      "cell_type": "markdown",
      "metadata": {},
      "source": [
        "> **Note**\n",
        ">\n",
        "> We need to tell spark that rows span on several lines with the\n",
        "> `multLine` option"
      ],
      "id": "cc0bd6cf-e28d-4e7d-a2a8-e9d581d7e887"
    },
    {
      "cell_type": "code",
      "execution_count": 30,
      "metadata": {
        "ExecuteTime": {
          "end_time": "2020-03-17T17:13:52.259661Z",
          "start_time": "2020-03-17T17:13:48.152192Z"
        }
      },
      "outputs": [],
      "source": [
        "df = spark.read.json(filename, multiLine=True)"
      ],
      "id": "1378c209"
    },
    {
      "cell_type": "code",
      "execution_count": 31,
      "metadata": {
        "ExecuteTime": {
          "end_time": "2020-03-17T17:13:52.294898Z",
          "start_time": "2020-03-17T17:13:52.261550Z"
        }
      },
      "outputs": [
        {
          "output_type": "stream",
          "name": "stdout",
          "text": [
            "root\n",
            " |-- address_1: string (nullable = true)\n",
            " |-- address_2: string (nullable = true)\n",
            " |-- center_classification_date: string (nullable = true)\n",
            " |-- city: string (nullable = true)\n",
            " |-- classification: string (nullable = true)\n",
            " |-- code_info: string (nullable = true)\n",
            " |-- country: string (nullable = true)\n",
            " |-- distribution_pattern: string (nullable = true)\n",
            " |-- event_id: string (nullable = true)\n",
            " |-- initial_firm_notification: string (nullable = true)\n",
            " |-- more_code_info: string (nullable = true)\n",
            " |-- openfda: struct (nullable = true)\n",
            " |    |-- application_number: array (nullable = true)\n",
            " |    |    |-- element: string (containsNull = true)\n",
            " |    |-- brand_name: array (nullable = true)\n",
            " |    |    |-- element: string (containsNull = true)\n",
            " |    |-- generic_name: array (nullable = true)\n",
            " |    |    |-- element: string (containsNull = true)\n",
            " |    |-- is_original_packager: array (nullable = true)\n",
            " |    |    |-- element: boolean (containsNull = true)\n",
            " |    |-- manufacturer_name: array (nullable = true)\n",
            " |    |    |-- element: string (containsNull = true)\n",
            " |    |-- nui: array (nullable = true)\n",
            " |    |    |-- element: string (containsNull = true)\n",
            " |    |-- original_packager_product_ndc: array (nullable = true)\n",
            " |    |    |-- element: string (containsNull = true)\n",
            " |    |-- package_ndc: array (nullable = true)\n",
            " |    |    |-- element: string (containsNull = true)\n",
            " |    |-- pharm_class_cs: array (nullable = true)\n",
            " |    |    |-- element: string (containsNull = true)\n",
            " |    |-- pharm_class_epc: array (nullable = true)\n",
            " |    |    |-- element: string (containsNull = true)\n",
            " |    |-- pharm_class_moa: array (nullable = true)\n",
            " |    |    |-- element: string (containsNull = true)\n",
            " |    |-- pharm_class_pe: array (nullable = true)\n",
            " |    |    |-- element: string (containsNull = true)\n",
            " |    |-- product_ndc: array (nullable = true)\n",
            " |    |    |-- element: string (containsNull = true)\n",
            " |    |-- product_type: array (nullable = true)\n",
            " |    |    |-- element: string (containsNull = true)\n",
            " |    |-- route: array (nullable = true)\n",
            " |    |    |-- element: string (containsNull = true)\n",
            " |    |-- rxcui: array (nullable = true)\n",
            " |    |    |-- element: string (containsNull = true)\n",
            " |    |-- spl_id: array (nullable = true)\n",
            " |    |    |-- element: string (containsNull = true)\n",
            " |    |-- spl_set_id: array (nullable = true)\n",
            " |    |    |-- element: string (containsNull = true)\n",
            " |    |-- substance_name: array (nullable = true)\n",
            " |    |    |-- element: string (containsNull = true)\n",
            " |    |-- unii: array (nullable = true)\n",
            " |    |    |-- element: string (containsNull = true)\n",
            " |    |-- upc: array (nullable = true)\n",
            " |    |    |-- element: string (containsNull = true)\n",
            " |-- postal_code: string (nullable = true)\n",
            " |-- product_description: string (nullable = true)\n",
            " |-- product_quantity: string (nullable = true)\n",
            " |-- product_type: string (nullable = true)\n",
            " |-- reason_for_recall: string (nullable = true)\n",
            " |-- recall_initiation_date: string (nullable = true)\n",
            " |-- recall_number: string (nullable = true)\n",
            " |-- recalling_firm: string (nullable = true)\n",
            " |-- report_date: string (nullable = true)\n",
            " |-- state: string (nullable = true)\n",
            " |-- status: string (nullable = true)\n",
            " |-- termination_date: string (nullable = true)\n",
            " |-- voluntary_mandated: string (nullable = true)\n"
          ]
        }
      ],
      "source": [
        "df.printSchema()"
      ],
      "id": "c4a0b89c"
    },
    {
      "cell_type": "markdown",
      "metadata": {},
      "source": [
        "> **Note**\n",
        ">\n",
        "> In a less user-friendly format:"
      ],
      "id": "fac550e3-6b22-4182-a726-7b3289aa8dc0"
    },
    {
      "cell_type": "code",
      "execution_count": 32,
      "metadata": {
        "ExecuteTime": {
          "end_time": "2020-03-17T17:13:52.355556Z",
          "start_time": "2020-03-17T17:13:52.297210Z"
        }
      },
      "outputs": [
        {
          "output_type": "display_data",
          "metadata": {},
          "data": {
            "text/plain": [
              "StructType([StructField('address_1', StringType(), True), StructField('address_2', StringType(), True), StructField('center_classification_date', StringType(), True), StructField('city', StringType(), True), StructField('classification', StringType(), True), StructField('code_info', StringType(), True), StructField('country', StringType(), True), StructField('distribution_pattern', StringType(), True), StructField('event_id', StringType(), True), StructField('initial_firm_notification', StringType(), True), StructField('more_code_info', StringType(), True), StructField('openfda', StructType([StructField('application_number', ArrayType(StringType(), True), True), StructField('brand_name', ArrayType(StringType(), True), True), StructField('generic_name', ArrayType(StringType(), True), True), StructField('is_original_packager', ArrayType(BooleanType(), True), True), StructField('manufacturer_name', ArrayType(StringType(), True), True), StructField('nui', ArrayType(StringType(), True), True), StructField('original_packager_product_ndc', ArrayType(StringType(), True), True), StructField('package_ndc', ArrayType(StringType(), True), True), StructField('pharm_class_cs', ArrayType(StringType(), True), True), StructField('pharm_class_epc', ArrayType(StringType(), True), True), StructField('pharm_class_moa', ArrayType(StringType(), True), True), StructField('pharm_class_pe', ArrayType(StringType(), True), True), StructField('product_ndc', ArrayType(StringType(), True), True), StructField('product_type', ArrayType(StringType(), True), True), StructField('route', ArrayType(StringType(), True), True), StructField('rxcui', ArrayType(StringType(), True), True), StructField('spl_id', ArrayType(StringType(), True), True), StructField('spl_set_id', ArrayType(StringType(), True), True), StructField('substance_name', ArrayType(StringType(), True), True), StructField('unii', ArrayType(StringType(), True), True), StructField('upc', ArrayType(StringType(), True), True)]), True), StructField('postal_code', StringType(), True), StructField('product_description', StringType(), True), StructField('product_quantity', StringType(), True), StructField('product_type', StringType(), True), StructField('reason_for_recall', StringType(), True), StructField('recall_initiation_date', StringType(), True), StructField('recall_number', StringType(), True), StructField('recalling_firm', StringType(), True), StructField('report_date', StringType(), True), StructField('state', StringType(), True), StructField('status', StringType(), True), StructField('termination_date', StringType(), True), StructField('voluntary_mandated', StringType(), True)])"
            ]
          }
        }
      ],
      "source": [
        "df.schema"
      ],
      "id": "96ede4e2"
    },
    {
      "cell_type": "markdown",
      "metadata": {},
      "source": [
        "> **Note**\n",
        ">\n",
        "> This dataset is a little bit of a mess!\n",
        ">\n",
        "> This should not be surprising. The data used to populate the Spark\n",
        "> dataframe are not classically tabular but what people call\n",
        "> *semi-structured*. Json is well-suited to store, represent, and\n",
        "> exchange such data.\n",
        ">\n",
        "> In the classical age of tabular data (according to Codd’s principles),\n",
        "> a table cell could only hold a scalar value (numeric, logical, text,\n",
        "> date, timestamp, …), nowadays Relational Database Management Systems\n",
        "> handle Arrays, Composite Types, Range Types, …, and Json (see\n",
        "> [PostgreSQL](https://www.postgresql.org/docs/current/datatype-json.html)).\n",
        ">\n",
        "> Spark, `R`, and `Pandas`, and modern relational databases also allow\n",
        "> us to work with complex types.\n",
        ">\n",
        "> Modern column oriented file format like `parquet` also work with\n",
        "> nested structures.\n",
        "\n",
        "-   First, there is a nested `opendfa` dictionary. Each element of the\n",
        "    dictionary is an array\n",
        "-   A first good idea is to **“flatten” the schema of the DataFrame**,\n",
        "    so that there are no nested types any more.\n",
        "\n",
        "## Flattening the schema\n",
        "\n",
        "All the columns in the *nested* structure `openfda` are put up in the\n",
        "schema. These columns nested in the `openfda` are as follows:"
      ],
      "id": "e7fa78ba-0f8e-487c-bc45-094e148792a7"
    },
    {
      "cell_type": "code",
      "execution_count": 33,
      "metadata": {
        "ExecuteTime": {
          "end_time": "2020-03-17T17:14:00.472548Z",
          "start_time": "2020-03-17T17:14:00.352058Z"
        }
      },
      "outputs": [
        {
          "output_type": "display_data",
          "metadata": {},
          "data": {
            "text/plain": [
              "['application_number',\n",
              " 'brand_name',\n",
              " 'generic_name',\n",
              " 'is_original_packager',\n",
              " 'manufacturer_name',\n",
              " 'nui',\n",
              " 'original_packager_product_ndc',\n",
              " 'package_ndc',\n",
              " 'pharm_class_cs',\n",
              " 'pharm_class_epc',\n",
              " 'pharm_class_moa',\n",
              " 'pharm_class_pe',\n",
              " 'product_ndc',\n",
              " 'product_type',\n",
              " 'route',\n",
              " 'rxcui',\n",
              " 'spl_id',\n",
              " 'spl_set_id',\n",
              " 'substance_name',\n",
              " 'unii',\n",
              " 'upc']"
            ]
          }
        }
      ],
      "source": [
        "df.select('openfda.*').columns"
      ],
      "id": "7fe350ad"
    },
    {
      "cell_type": "code",
      "execution_count": 34,
      "metadata": {
        "ExecuteTime": {
          "end_time": "2020-03-17T17:14:01.904242Z",
          "start_time": "2020-03-17T17:14:00.646360Z"
        }
      },
      "outputs": [
        {
          "output_type": "display_data",
          "metadata": {},
          "data": {
            "text/plain": [
              "[Row(application_number=None, brand_name=None, generic_name=None, is_original_packager=None, manufacturer_name=None, nui=None, original_packager_product_ndc=None, package_ndc=None, pharm_class_cs=None, pharm_class_epc=None, pharm_class_moa=None, pharm_class_pe=None, product_ndc=None, product_type=None, route=None, rxcui=None, spl_id=None, spl_set_id=None, substance_name=None, unii=None, upc=None),\n",
              " Row(application_number=None, brand_name=None, generic_name=None, is_original_packager=None, manufacturer_name=None, nui=None, original_packager_product_ndc=None, package_ndc=None, pharm_class_cs=None, pharm_class_epc=None, pharm_class_moa=None, pharm_class_pe=None, product_ndc=None, product_type=None, route=None, rxcui=None, spl_id=None, spl_set_id=None, substance_name=None, unii=None, upc=None)]"
            ]
          }
        }
      ],
      "source": [
        "df.select(\"openfda.*\").head(2)"
      ],
      "id": "33eaf4b4"
    },
    {
      "cell_type": "code",
      "execution_count": 35,
      "metadata": {
        "ExecuteTime": {
          "end_time": "2020-03-17T17:14:02.230811Z",
          "start_time": "2020-03-17T17:14:01.906641Z"
        }
      },
      "outputs": [],
      "source": [
        "for c in df.select(\"openfda.*\").columns:\n",
        "    df = df.withColumn(\"openfda_\" + c, col(\"openfda.\" + c))"
      ],
      "id": "581fe587"
    },
    {
      "cell_type": "code",
      "execution_count": 36,
      "metadata": {
        "ExecuteTime": {
          "end_time": "2020-03-17T17:14:07.644985Z",
          "start_time": "2020-03-17T17:14:07.501380Z"
        }
      },
      "outputs": [],
      "source": [
        "df = df.select([c for c in df.columns if c != \"openfda\"])"
      ],
      "id": "8a68cf77"
    },
    {
      "cell_type": "code",
      "execution_count": 37,
      "metadata": {
        "ExecuteTime": {
          "end_time": "2020-03-17T17:14:09.871658Z",
          "start_time": "2020-03-17T17:14:09.865537Z"
        }
      },
      "outputs": [
        {
          "output_type": "stream",
          "name": "stdout",
          "text": [
            "root\n",
            " |-- address_1: string (nullable = true)\n",
            " |-- address_2: string (nullable = true)\n",
            " |-- center_classification_date: string (nullable = true)\n",
            " |-- city: string (nullable = true)\n",
            " |-- classification: string (nullable = true)\n",
            " |-- code_info: string (nullable = true)\n",
            " |-- country: string (nullable = true)\n",
            " |-- distribution_pattern: string (nullable = true)\n",
            " |-- event_id: string (nullable = true)\n",
            " |-- initial_firm_notification: string (nullable = true)\n",
            " |-- more_code_info: string (nullable = true)\n",
            " |-- postal_code: string (nullable = true)\n",
            " |-- product_description: string (nullable = true)\n",
            " |-- product_quantity: string (nullable = true)\n",
            " |-- product_type: string (nullable = true)\n",
            " |-- reason_for_recall: string (nullable = true)\n",
            " |-- recall_initiation_date: string (nullable = true)\n",
            " |-- recall_number: string (nullable = true)\n",
            " |-- recalling_firm: string (nullable = true)\n",
            " |-- report_date: string (nullable = true)\n",
            " |-- state: string (nullable = true)\n",
            " |-- status: string (nullable = true)\n",
            " |-- termination_date: string (nullable = true)\n",
            " |-- voluntary_mandated: string (nullable = true)\n",
            " |-- openfda_application_number: array (nullable = true)\n",
            " |    |-- element: string (containsNull = true)\n",
            " |-- openfda_brand_name: array (nullable = true)\n",
            " |    |-- element: string (containsNull = true)\n",
            " |-- openfda_generic_name: array (nullable = true)\n",
            " |    |-- element: string (containsNull = true)\n",
            " |-- openfda_is_original_packager: array (nullable = true)\n",
            " |    |-- element: boolean (containsNull = true)\n",
            " |-- openfda_manufacturer_name: array (nullable = true)\n",
            " |    |-- element: string (containsNull = true)\n",
            " |-- openfda_nui: array (nullable = true)\n",
            " |    |-- element: string (containsNull = true)\n",
            " |-- openfda_original_packager_product_ndc: array (nullable = true)\n",
            " |    |-- element: string (containsNull = true)\n",
            " |-- openfda_package_ndc: array (nullable = true)\n",
            " |    |-- element: string (containsNull = true)\n",
            " |-- openfda_pharm_class_cs: array (nullable = true)\n",
            " |    |-- element: string (containsNull = true)\n",
            " |-- openfda_pharm_class_epc: array (nullable = true)\n",
            " |    |-- element: string (containsNull = true)\n",
            " |-- openfda_pharm_class_moa: array (nullable = true)\n",
            " |    |-- element: string (containsNull = true)\n",
            " |-- openfda_pharm_class_pe: array (nullable = true)\n",
            " |    |-- element: string (containsNull = true)\n",
            " |-- openfda_product_ndc: array (nullable = true)\n",
            " |    |-- element: string (containsNull = true)\n",
            " |-- openfda_product_type: array (nullable = true)\n",
            " |    |-- element: string (containsNull = true)\n",
            " |-- openfda_route: array (nullable = true)\n",
            " |    |-- element: string (containsNull = true)\n",
            " |-- openfda_rxcui: array (nullable = true)\n",
            " |    |-- element: string (containsNull = true)\n",
            " |-- openfda_spl_id: array (nullable = true)\n",
            " |    |-- element: string (containsNull = true)\n",
            " |-- openfda_spl_set_id: array (nullable = true)\n",
            " |    |-- element: string (containsNull = true)\n",
            " |-- openfda_substance_name: array (nullable = true)\n",
            " |    |-- element: string (containsNull = true)\n",
            " |-- openfda_unii: array (nullable = true)\n",
            " |    |-- element: string (containsNull = true)\n",
            " |-- openfda_upc: array (nullable = true)\n",
            " |    |-- element: string (containsNull = true)\n"
          ]
        }
      ],
      "source": [
        "df.printSchema()"
      ],
      "id": "b95ac678"
    },
    {
      "cell_type": "code",
      "execution_count": 38,
      "metadata": {
        "ExecuteTime": {
          "end_time": "2020-03-17T17:14:19.204515Z",
          "start_time": "2020-03-17T17:14:18.651165Z"
        }
      },
      "outputs": [
        {
          "output_type": "stream",
          "name": "stderr",
          "text": [
            "25/04/03 15:16:30 WARN SparkStringUtils: Truncated the string representation of a plan since it was too large. This behavior can be adjusted by setting 'spark.sql.debug.maxToStringFields'."
          ]
        },
        {
          "output_type": "display_data",
          "metadata": {},
          "data": {
            "text/plain": [
              "[Row(address_1='8 Joanna Ct', address_2='', center_classification_date='20121025', city='East Brunswick', classification='Class II', code_info='Lots a) 15952, 16270,16425, Exp 06/15; b)16459, 16466, 16467, Exp 07/15', country='United States', distribution_pattern='Nationwide', event_id='63384', initial_firm_notification='E-Mail', more_code_info=None, postal_code='08816-2108', product_description='Wal-Mucil 100% Natural Fiber, 100% Natural Psyllium Seed Husk, Fiber Laxative/Supplement, a)160 capsules per bottle (item #503663), and b) 320 capsules per bottle (Item #586143), Distributed by: Walgreen Co., 200 Wilmot Road, Deerfield, IL 60015-4616, www.walgreens.com, a) UPC 3-11917-08151-9, b) UPC 3-11917-07658-4', product_quantity='56,808 bottles', product_type='Drugs', reason_for_recall='Microbial Contamination of Non-Sterile Products: Product is being recalled due to possible microbial contamination by C. difficile discovered in the raw material.', recall_initiation_date='20120904', recall_number='D-026-2013', recalling_firm='Raritan Pharmaceuticals, Inc.', report_date='20121031', state='NJ', status='Terminated', termination_date='20141007', voluntary_mandated='Voluntary: Firm Initiated', openfda_application_number=None, openfda_brand_name=None, openfda_generic_name=None, openfda_is_original_packager=None, openfda_manufacturer_name=None, openfda_nui=None, openfda_original_packager_product_ndc=None, openfda_package_ndc=None, openfda_pharm_class_cs=None, openfda_pharm_class_epc=None, openfda_pharm_class_moa=None, openfda_pharm_class_pe=None, openfda_product_ndc=None, openfda_product_type=None, openfda_route=None, openfda_rxcui=None, openfda_spl_id=None, openfda_spl_set_id=None, openfda_substance_name=None, openfda_unii=None, openfda_upc=None),\n",
              " Row(address_1='8 Joanna Ct', address_2='', center_classification_date='20121025', city='East Brunswick', classification='Class II', code_info='Lot 15087, Exp 08/15', country='United States', distribution_pattern='Nationwide', event_id='63384', initial_firm_notification='E-Mail', more_code_info=None, postal_code='08816-2108', product_description='Premier Value Fiber Plus Calcium Supplement Capsules, 120 capsules per bottle, Distributed by: Chain Drug Consortium, LLC, Boca Raton, FL, UPC 8-40986-01987-6', product_quantity='96 bottles', product_type='Drugs', reason_for_recall='Microbial Contamination of Non-Sterile Products: Product is being recalled due to possible microbial contamination by C. difficile discovered in the raw material.', recall_initiation_date='20120904', recall_number='D-031-2013', recalling_firm='Raritan Pharmaceuticals, Inc.', report_date='20121031', state='NJ', status='Terminated', termination_date='20141007', voluntary_mandated='Voluntary: Firm Initiated', openfda_application_number=None, openfda_brand_name=None, openfda_generic_name=None, openfda_is_original_packager=None, openfda_manufacturer_name=None, openfda_nui=None, openfda_original_packager_product_ndc=None, openfda_package_ndc=None, openfda_pharm_class_cs=None, openfda_pharm_class_epc=None, openfda_pharm_class_moa=None, openfda_pharm_class_pe=None, openfda_product_ndc=None, openfda_product_type=None, openfda_route=None, openfda_rxcui=None, openfda_spl_id=None, openfda_spl_set_id=None, openfda_substance_name=None, openfda_unii=None, openfda_upc=None)]"
            ]
          }
        }
      ],
      "source": [
        "df.head(2)"
      ],
      "id": "7896dcf6"
    },
    {
      "cell_type": "markdown",
      "metadata": {},
      "source": [
        "Note that the display of the `DataFrame` is not as usual… it displays\n",
        "the dataframe like a list of `Row`, since the columns “openfda\\*”\n",
        "contain arrays of varying length\n",
        "\n",
        "> **Note**\n",
        ">\n",
        "> A principled approach to schema flattening is embodied in the next\n",
        "> chunk.\n",
        ">\n",
        "> `df.schema` allows us to perform flattening in a programmatic way."
      ],
      "id": "b93d0afc-99bf-4aa2-8e30-e9157846554e"
    },
    {
      "cell_type": "code",
      "execution_count": 39,
      "metadata": {},
      "outputs": [],
      "source": [
        "from pyspark.sql.types import StructType\n",
        "from pyspark.sql.functions import col\n",
        "\n",
        "def flatten_schema(df):\n",
        "    # Get fields and their data types\n",
        "    fields = df.schema.fields\n",
        "    \n",
        "    # Flatten array of column names\n",
        "    flat_cols = []\n",
        "    \n",
        "    for field in fields:\n",
        "        # Handle nested structures\n",
        "        if isinstance(field.dataType, StructType):\n",
        "            nested = df.select(field.name + \".*\").columns\n",
        "            flat_cols.extend([field.name + \".\" + x for x in nested])\n",
        "        else:\n",
        "            flat_cols.append(field.name)\n",
        "    \n",
        "    # Select all flattened columns\n",
        "    df_flattened = df.select([col(x).alias(x.replace(\".\",\"_\")) for x in flat_cols])\n",
        "    \n",
        "    return df_flattened"
      ],
      "id": "162678d1"
    },
    {
      "cell_type": "markdown",
      "metadata": {},
      "source": [
        "> **Note**\n",
        ">\n",
        "> This function definition is from `copilot` under the following prompt:\n",
        ">\n",
        ">     How can I flatten the schema of a spark dataframe?"
      ],
      "id": "affc0a60-df56-4256-b3ea-1691321f93f5"
    },
    {
      "cell_type": "code",
      "execution_count": 40,
      "metadata": {},
      "outputs": [
        {
          "output_type": "stream",
          "name": "stdout",
          "text": [
            "root\n",
            " |-- address_1: string (nullable = true)\n",
            " |-- address_2: string (nullable = true)\n",
            " |-- center_classification_date: string (nullable = true)\n",
            " |-- city: string (nullable = true)\n",
            " |-- classification: string (nullable = true)\n",
            " |-- code_info: string (nullable = true)\n",
            " |-- country: string (nullable = true)\n",
            " |-- distribution_pattern: string (nullable = true)\n",
            " |-- event_id: string (nullable = true)\n",
            " |-- initial_firm_notification: string (nullable = true)\n",
            " |-- more_code_info: string (nullable = true)\n",
            " |-- openfda_application_number: array (nullable = true)\n",
            " |    |-- element: string (containsNull = true)\n",
            " |-- openfda_brand_name: array (nullable = true)\n",
            " |    |-- element: string (containsNull = true)\n",
            " |-- openfda_generic_name: array (nullable = true)\n",
            " |    |-- element: string (containsNull = true)\n",
            " |-- openfda_is_original_packager: array (nullable = true)\n",
            " |    |-- element: boolean (containsNull = true)\n",
            " |-- openfda_manufacturer_name: array (nullable = true)\n",
            " |    |-- element: string (containsNull = true)\n",
            " |-- openfda_nui: array (nullable = true)\n",
            " |    |-- element: string (containsNull = true)\n",
            " |-- openfda_original_packager_product_ndc: array (nullable = true)\n",
            " |    |-- element: string (containsNull = true)\n",
            " |-- openfda_package_ndc: array (nullable = true)\n",
            " |    |-- element: string (containsNull = true)\n",
            " |-- openfda_pharm_class_cs: array (nullable = true)\n",
            " |    |-- element: string (containsNull = true)\n",
            " |-- openfda_pharm_class_epc: array (nullable = true)\n",
            " |    |-- element: string (containsNull = true)\n",
            " |-- openfda_pharm_class_moa: array (nullable = true)\n",
            " |    |-- element: string (containsNull = true)\n",
            " |-- openfda_pharm_class_pe: array (nullable = true)\n",
            " |    |-- element: string (containsNull = true)\n",
            " |-- openfda_product_ndc: array (nullable = true)\n",
            " |    |-- element: string (containsNull = true)\n",
            " |-- openfda_product_type: array (nullable = true)\n",
            " |    |-- element: string (containsNull = true)\n",
            " |-- openfda_route: array (nullable = true)\n",
            " |    |-- element: string (containsNull = true)\n",
            " |-- openfda_rxcui: array (nullable = true)\n",
            " |    |-- element: string (containsNull = true)\n",
            " |-- openfda_spl_id: array (nullable = true)\n",
            " |    |-- element: string (containsNull = true)\n",
            " |-- openfda_spl_set_id: array (nullable = true)\n",
            " |    |-- element: string (containsNull = true)\n",
            " |-- openfda_substance_name: array (nullable = true)\n",
            " |    |-- element: string (containsNull = true)\n",
            " |-- openfda_unii: array (nullable = true)\n",
            " |    |-- element: string (containsNull = true)\n",
            " |-- openfda_upc: array (nullable = true)\n",
            " |    |-- element: string (containsNull = true)\n",
            " |-- postal_code: string (nullable = true)\n",
            " |-- product_description: string (nullable = true)\n",
            " |-- product_quantity: string (nullable = true)\n",
            " |-- product_type: string (nullable = true)\n",
            " |-- reason_for_recall: string (nullable = true)\n",
            " |-- recall_initiation_date: string (nullable = true)\n",
            " |-- recall_number: string (nullable = true)\n",
            " |-- recalling_firm: string (nullable = true)\n",
            " |-- report_date: string (nullable = true)\n",
            " |-- state: string (nullable = true)\n",
            " |-- status: string (nullable = true)\n",
            " |-- termination_date: string (nullable = true)\n",
            " |-- voluntary_mandated: string (nullable = true)\n"
          ]
        }
      ],
      "source": [
        "df = spark.read.json(filename, multiLine=True)\n",
        "\n",
        "df_flat = flatten_schema(df)\n",
        "\n",
        "df_flat.printSchema()"
      ],
      "id": "1c98154b"
    },
    {
      "cell_type": "code",
      "execution_count": 41,
      "metadata": {},
      "outputs": [],
      "source": [
        "from pyspark.sql.types import StructType, StructField, StringType, IntegerType\n",
        "\n",
        "messy_schema = StructType([\n",
        "    StructField(\"id\", IntegerType()),\n",
        "    StructField(\"info\", StructType([\n",
        "        StructField(\"name\", StringType()),\n",
        "        StructField(\"age\", IntegerType()),\n",
        "        StructField(\"zoo\", StructType([\n",
        "            StructField(\"cat\", StringType()),\n",
        "            StructField(\"dog\", StringType())\n",
        "        ]))\n",
        "    ]))\n",
        "])"
      ],
      "id": "b65ebe76"
    },
    {
      "cell_type": "markdown",
      "metadata": {},
      "source": [
        "> **Note**\n",
        ">\n",
        "> This principled approach is not the end of the story. If the schema\n",
        "> exhibits hierarchical nesting, `flatten_schema()` only removes one\n",
        "> level of nesting."
      ],
      "id": "6fc3a31c-6f9c-4841-9802-7d56b4a4c8f9"
    },
    {
      "cell_type": "code",
      "execution_count": 42,
      "metadata": {},
      "outputs": [],
      "source": [
        "data = [(1, (\"John\", 30, (\"Fritz\", \"Medor\"))), (2, (\"Jane\", 25, (\"Grominet\", \"Goofy\")))]\n",
        "\n",
        "very_nested_df = spark.createDataFrame(data, messy_schema)"
      ],
      "id": "c0df7bff"
    },
    {
      "cell_type": "code",
      "execution_count": 43,
      "metadata": {},
      "outputs": [
        {
          "output_type": "stream",
          "name": "stdout",
          "text": [
            "+---+---------+--------+-----------------+\n",
            "| id|info_name|info_age|         info_zoo|\n",
            "+---+---------+--------+-----------------+\n",
            "|  1|     John|      30|   {Fritz, Medor}|\n",
            "|  2|     Jane|      25|{Grominet, Goofy}|\n",
            "+---+---------+--------+-----------------+\n"
          ]
        }
      ],
      "source": [
        "flatten_schema(very_nested_df).show()"
      ],
      "id": "d14907c8"
    },
    {
      "cell_type": "code",
      "execution_count": 44,
      "metadata": {},
      "outputs": [
        {
          "output_type": "stream",
          "name": "stdout",
          "text": [
            "root\n",
            " |-- id: integer (nullable = true)\n",
            " |-- info_name: string (nullable = true)\n",
            " |-- info_age: integer (nullable = true)\n",
            " |-- info_zoo: struct (nullable = true)\n",
            " |    |-- cat: string (nullable = true)\n",
            " |    |-- dog: string (nullable = true)\n"
          ]
        }
      ],
      "source": [
        "flatten_schema(very_nested_df).printSchema()"
      ],
      "id": "21731bae"
    },
    {
      "cell_type": "markdown",
      "metadata": {},
      "source": [
        "> **Warning**\n",
        ">\n",
        "> copilot pretends that the flattening function above handles nested\n",
        "> structure recursively. This is not the case.\n",
        ">\n",
        "> Fix this\n",
        "\n",
        "## Missing data\n",
        "\n",
        "A strategy can be to remove rows with missing data. `dropna()` has\n",
        "several options, explained below."
      ],
      "id": "f04b5d4f-7013-45f0-9e20-6ac0cf6ba4dc"
    },
    {
      "cell_type": "code",
      "execution_count": 45,
      "metadata": {
        "ExecuteTime": {
          "end_time": "2020-03-17T17:41:17.413952Z",
          "start_time": "2020-03-17T17:41:16.898211Z"
        }
      },
      "outputs": [
        {
          "output_type": "display_data",
          "metadata": {},
          "data": {
            "text/plain": [
              "2"
            ]
          }
        }
      ],
      "source": [
        "df.dropna().count()"
      ],
      "id": "433c4a99"
    },
    {
      "cell_type": "markdown",
      "metadata": {},
      "source": [
        "If we remove all lines with at least one missing value, we end up with\n",
        "an empty dataframe !"
      ],
      "id": "d9eaf254-4a89-49fb-879c-60deb191f05a"
    },
    {
      "cell_type": "code",
      "execution_count": 46,
      "metadata": {
        "ExecuteTime": {
          "end_time": "2020-03-17T17:41:17.895108Z",
          "start_time": "2020-03-17T17:41:17.416108Z"
        }
      },
      "outputs": [
        {
          "output_type": "display_data",
          "metadata": {},
          "data": {
            "text/plain": [
              "11292"
            ]
          }
        }
      ],
      "source": [
        "df.dropna(how='all').count()"
      ],
      "id": "c759b906"
    },
    {
      "cell_type": "markdown",
      "metadata": {},
      "source": [
        "`dropna()` accepts the following arguments\n",
        "\n",
        "-   `how`: can be `'any'` or `'all'`. If `'any'`, rows containing any\n",
        "    null values will be dropped entirely (this is the default). If\n",
        "    `'all'`, only rows which are entirely empty will be dropped.\n",
        "\n",
        "-   `thresh`: accepts an integer representing the “threshold” for how\n",
        "    many empty cells a row must have before being dropped. `tresh` is a\n",
        "    middle ground between `how='any'` and `how='all'`. As a result, the\n",
        "    presence of `thresh` will override `how`\n",
        "\n",
        "-   `subset`: accepts a list of column names. When a subset is present,\n",
        "    N/A values will only be checked against the columns whose names are\n",
        "    provided."
      ],
      "id": "4fa0dadc-21a1-4dfd-977d-7a979f25253b"
    },
    {
      "cell_type": "code",
      "execution_count": 47,
      "metadata": {
        "ExecuteTime": {
          "end_time": "2020-03-17T17:41:17.901172Z",
          "start_time": "2020-03-17T17:41:17.897860Z"
        }
      },
      "outputs": [],
      "source": [
        "n_columns = len(df.columns)"
      ],
      "id": "e262fcfa"
    },
    {
      "cell_type": "code",
      "execution_count": 48,
      "metadata": {
        "ExecuteTime": {
          "end_time": "2020-03-17T17:41:18.415066Z",
          "start_time": "2020-03-17T17:41:17.904093Z"
        }
      },
      "outputs": [
        {
          "output_type": "display_data",
          "metadata": {},
          "data": {
            "text/plain": [
              "2"
            ]
          }
        }
      ],
      "source": [
        "df.dropna(thresh=n_columns).count()"
      ],
      "id": "336a52c4"
    },
    {
      "cell_type": "code",
      "execution_count": 49,
      "metadata": {
        "ExecuteTime": {
          "end_time": "2020-03-17T17:41:18.931320Z",
          "start_time": "2020-03-17T17:41:18.417317Z"
        }
      },
      "outputs": [
        {
          "output_type": "display_data",
          "metadata": {},
          "data": {
            "text/plain": [
              "7550"
            ]
          }
        }
      ],
      "source": [
        "df.dropna(thresh=n_columns-1).count()"
      ],
      "id": "a18bdffc"
    },
    {
      "cell_type": "code",
      "execution_count": 50,
      "metadata": {
        "ExecuteTime": {
          "end_time": "2020-03-17T17:41:19.439726Z",
          "start_time": "2020-03-17T17:41:18.934217Z"
        }
      },
      "outputs": [
        {
          "output_type": "display_data",
          "metadata": {},
          "data": {
            "text/plain": [
              "11292"
            ]
          }
        }
      ],
      "source": [
        "df.dropna(thresh=n_columns-10).count()"
      ],
      "id": "bcd94805"
    },
    {
      "cell_type": "code",
      "execution_count": 51,
      "metadata": {
        "ExecuteTime": {
          "end_time": "2020-03-17T17:41:19.752318Z",
          "start_time": "2020-03-17T17:41:19.441809Z"
        }
      },
      "outputs": [
        {
          "output_type": "display_data",
          "metadata": {},
          "data": {
            "text/plain": [
              "11292"
            ]
          }
        }
      ],
      "source": [
        "df = df.dropna(subset=['postal_code', 'city', 'country', 'address_1'])\n",
        "df.count()"
      ],
      "id": "b729b949"
    },
    {
      "cell_type": "markdown",
      "metadata": {},
      "source": [
        "But before this, let’s count the number of missing value for each column"
      ],
      "id": "b744eb4e-9d3a-4095-8040-85666be005ed"
    },
    {
      "cell_type": "code",
      "execution_count": 52,
      "metadata": {
        "ExecuteTime": {
          "end_time": "2020-03-17T17:41:20.424178Z",
          "start_time": "2020-03-17T17:41:19.754255Z"
        }
      },
      "outputs": [],
      "source": [
        "# For each column we create a new column containing 1 if the value is null and 0 otherwise.\n",
        "# We need to bast Boolean to Int so that we can use fn.sum after\n",
        "for c in df.columns:\n",
        "    # Do not do this for _isnull columns (just in case you run this cell twice...)\n",
        "    if not c.endswith(\"_isnull\"):\n",
        "        df = df.withColumn(c + \"_isnull\", fn.isnull(col(c)).cast('int'))"
      ],
      "id": "ca889e6e"
    },
    {
      "cell_type": "code",
      "execution_count": 53,
      "metadata": {
        "ExecuteTime": {
          "end_time": "2020-03-17T17:41:20.925299Z",
          "start_time": "2020-03-17T17:41:20.426204Z"
        }
      },
      "outputs": [
        {
          "output_type": "display_data",
          "metadata": {},
          "data": {
            "text/plain": [
              "Row(address_1='8 Joanna Ct', address_2='', center_classification_date='20121025', city='East Brunswick', classification='Class II', code_info='Lots a) 15952, 16270,16425, Exp 06/15; b)16459, 16466, 16467, Exp 07/15', country='United States', distribution_pattern='Nationwide', event_id='63384', initial_firm_notification='E-Mail', more_code_info=None, openfda=Row(application_number=None, brand_name=None, generic_name=None, is_original_packager=None, manufacturer_name=None, nui=None, original_packager_product_ndc=None, package_ndc=None, pharm_class_cs=None, pharm_class_epc=None, pharm_class_moa=None, pharm_class_pe=None, product_ndc=None, product_type=None, route=None, rxcui=None, spl_id=None, spl_set_id=None, substance_name=None, unii=None, upc=None), postal_code='08816-2108', product_description='Wal-Mucil 100% Natural Fiber, 100% Natural Psyllium Seed Husk, Fiber Laxative/Supplement, a)160 capsules per bottle (item #503663), and b) 320 capsules per bottle (Item #586143), Distributed by: Walgreen Co., 200 Wilmot Road, Deerfield, IL 60015-4616, www.walgreens.com, a) UPC 3-11917-08151-9, b) UPC 3-11917-07658-4', product_quantity='56,808 bottles', product_type='Drugs', reason_for_recall='Microbial Contamination of Non-Sterile Products: Product is being recalled due to possible microbial contamination by C. difficile discovered in the raw material.', recall_initiation_date='20120904', recall_number='D-026-2013', recalling_firm='Raritan Pharmaceuticals, Inc.', report_date='20121031', state='NJ', status='Terminated', termination_date='20141007', voluntary_mandated='Voluntary: Firm Initiated', address_1_isnull=0, address_2_isnull=0, center_classification_date_isnull=0, city_isnull=0, classification_isnull=0, code_info_isnull=0, country_isnull=0, distribution_pattern_isnull=0, event_id_isnull=0, initial_firm_notification_isnull=0, more_code_info_isnull=1, openfda_isnull=0, postal_code_isnull=0, product_description_isnull=0, product_quantity_isnull=0, product_type_isnull=0, reason_for_recall_isnull=0, recall_initiation_date_isnull=0, recall_number_isnull=0, recalling_firm_isnull=0, report_date_isnull=0, state_isnull=0, status_isnull=0, termination_date_isnull=0, voluntary_mandated_isnull=0)"
            ]
          }
        }
      ],
      "source": [
        "df.head()"
      ],
      "id": "151aa911"
    },
    {
      "cell_type": "code",
      "execution_count": 54,
      "metadata": {
        "ExecuteTime": {
          "end_time": "2020-03-17T17:41:22.053794Z",
          "start_time": "2020-03-17T17:41:20.927796Z"
        }
      },
      "outputs": [
        {
          "output_type": "display_data",
          "metadata": {},
          "data": {
            "text/html": [
              "\n",
              "</div>"
            ]
          }
        }
      ],
      "source": [
        "# Get the list of _isnull columns\n",
        "isnull_columns = [c for c in df.columns if c.endswith(\"_isnull\")]\n",
        "\n",
        "# On the _isnull columns :\n",
        "#  - we compute the sum to have the number of null values and rename the column\n",
        "#  - convert to pandas for better readability\n",
        "#  - transpose the pandas dataframe for better readability\n",
        "missing_values = df.select(isnull_columns)\\\n",
        "    .agg(*[fn.sum(c).alias(c.replace(\"_isnull\", \"\")) for c in isnull_columns])\\\n",
        "    .toPandas()\n",
        "\n",
        "missing_values.T\\\n",
        "    .rename({0: \"missing values\"}, axis=\"columns\")"
      ],
      "id": "882c65c0"
    },
    {
      "cell_type": "markdown",
      "metadata": {},
      "source": [
        "We see that `more_code_info` is always null and that `termination_date`\n",
        "if often null. Most of the `openfda*` columns are also almost always\n",
        "empty.\n",
        "\n",
        "We can keep only the columns with no missing values"
      ],
      "id": "5abba1a4-b37d-4f1f-9445-ac2c4df6f228"
    },
    {
      "cell_type": "code",
      "execution_count": 55,
      "metadata": {
        "ExecuteTime": {
          "end_time": "2020-03-17T17:41:24.802336Z",
          "start_time": "2020-03-17T17:41:24.797411Z"
        }
      },
      "outputs": [],
      "source": [
        "# This line can seem complicated, run pieces of each to understand\n",
        "kept_columns = list(\n",
        "    missing_values.columns[(missing_values.iloc[0] == 0).values]\n",
        ")"
      ],
      "id": "fb6b9ad8"
    },
    {
      "cell_type": "code",
      "execution_count": 56,
      "metadata": {
        "ExecuteTime": {
          "end_time": "2020-03-17T17:41:27.488388Z",
          "start_time": "2020-03-17T17:41:27.398503Z"
        }
      },
      "outputs": [],
      "source": [
        "df_kept = df.select(kept_columns)"
      ],
      "id": "c357e5e1"
    },
    {
      "cell_type": "code",
      "execution_count": 57,
      "metadata": {
        "ExecuteTime": {
          "end_time": "2020-03-17T17:41:27.948018Z",
          "start_time": "2020-03-17T17:41:27.539797Z"
        }
      },
      "outputs": [
        {
          "output_type": "display_data",
          "metadata": {},
          "data": {
            "text/plain": [
              "[Row(address_1='8 Joanna Ct', address_2='', city='East Brunswick', classification='Class II', code_info='Lots a) 15952, 16270,16425, Exp 06/15; b)16459, 16466, 16467, Exp 07/15', country='United States', distribution_pattern='Nationwide', event_id='63384', initial_firm_notification='E-Mail', openfda=Row(application_number=None, brand_name=None, generic_name=None, is_original_packager=None, manufacturer_name=None, nui=None, original_packager_product_ndc=None, package_ndc=None, pharm_class_cs=None, pharm_class_epc=None, pharm_class_moa=None, pharm_class_pe=None, product_ndc=None, product_type=None, route=None, rxcui=None, spl_id=None, spl_set_id=None, substance_name=None, unii=None, upc=None), postal_code='08816-2108', product_description='Wal-Mucil 100% Natural Fiber, 100% Natural Psyllium Seed Husk, Fiber Laxative/Supplement, a)160 capsules per bottle (item #503663), and b) 320 capsules per bottle (Item #586143), Distributed by: Walgreen Co., 200 Wilmot Road, Deerfield, IL 60015-4616, www.walgreens.com, a) UPC 3-11917-08151-9, b) UPC 3-11917-07658-4', product_quantity='56,808 bottles', product_type='Drugs', reason_for_recall='Microbial Contamination of Non-Sterile Products: Product is being recalled due to possible microbial contamination by C. difficile discovered in the raw material.', recall_initiation_date='20120904', recall_number='D-026-2013', recalling_firm='Raritan Pharmaceuticals, Inc.', report_date='20121031', state='NJ', status='Terminated', voluntary_mandated='Voluntary: Firm Initiated'),\n",
              " Row(address_1='8 Joanna Ct', address_2='', city='East Brunswick', classification='Class II', code_info='Lot 15087, Exp 08/15', country='United States', distribution_pattern='Nationwide', event_id='63384', initial_firm_notification='E-Mail', openfda=Row(application_number=None, brand_name=None, generic_name=None, is_original_packager=None, manufacturer_name=None, nui=None, original_packager_product_ndc=None, package_ndc=None, pharm_class_cs=None, pharm_class_epc=None, pharm_class_moa=None, pharm_class_pe=None, product_ndc=None, product_type=None, route=None, rxcui=None, spl_id=None, spl_set_id=None, substance_name=None, unii=None, upc=None), postal_code='08816-2108', product_description='Premier Value Fiber Plus Calcium Supplement Capsules, 120 capsules per bottle, Distributed by: Chain Drug Consortium, LLC, Boca Raton, FL, UPC 8-40986-01987-6', product_quantity='96 bottles', product_type='Drugs', reason_for_recall='Microbial Contamination of Non-Sterile Products: Product is being recalled due to possible microbial contamination by C. difficile discovered in the raw material.', recall_initiation_date='20120904', recall_number='D-031-2013', recalling_firm='Raritan Pharmaceuticals, Inc.', report_date='20121031', state='NJ', status='Terminated', voluntary_mandated='Voluntary: Firm Initiated')]"
            ]
          }
        }
      ],
      "source": [
        "df_kept.head(2)"
      ],
      "id": "b3b23d51"
    },
    {
      "cell_type": "code",
      "execution_count": 58,
      "metadata": {
        "ExecuteTime": {
          "end_time": "2020-03-17T17:41:41.419929Z",
          "start_time": "2020-03-17T17:41:41.413784Z"
        }
      },
      "outputs": [
        {
          "output_type": "stream",
          "name": "stdout",
          "text": [
            "root\n",
            " |-- address_1: string (nullable = true)\n",
            " |-- address_2: string (nullable = true)\n",
            " |-- city: string (nullable = true)\n",
            " |-- classification: string (nullable = true)\n",
            " |-- code_info: string (nullable = true)\n",
            " |-- country: string (nullable = true)\n",
            " |-- distribution_pattern: string (nullable = true)\n",
            " |-- event_id: string (nullable = true)\n",
            " |-- initial_firm_notification: string (nullable = true)\n",
            " |-- openfda: struct (nullable = true)\n",
            " |    |-- application_number: array (nullable = true)\n",
            " |    |    |-- element: string (containsNull = true)\n",
            " |    |-- brand_name: array (nullable = true)\n",
            " |    |    |-- element: string (containsNull = true)\n",
            " |    |-- generic_name: array (nullable = true)\n",
            " |    |    |-- element: string (containsNull = true)\n",
            " |    |-- is_original_packager: array (nullable = true)\n",
            " |    |    |-- element: boolean (containsNull = true)\n",
            " |    |-- manufacturer_name: array (nullable = true)\n",
            " |    |    |-- element: string (containsNull = true)\n",
            " |    |-- nui: array (nullable = true)\n",
            " |    |    |-- element: string (containsNull = true)\n",
            " |    |-- original_packager_product_ndc: array (nullable = true)\n",
            " |    |    |-- element: string (containsNull = true)\n",
            " |    |-- package_ndc: array (nullable = true)\n",
            " |    |    |-- element: string (containsNull = true)\n",
            " |    |-- pharm_class_cs: array (nullable = true)\n",
            " |    |    |-- element: string (containsNull = true)\n",
            " |    |-- pharm_class_epc: array (nullable = true)\n",
            " |    |    |-- element: string (containsNull = true)\n",
            " |    |-- pharm_class_moa: array (nullable = true)\n",
            " |    |    |-- element: string (containsNull = true)\n",
            " |    |-- pharm_class_pe: array (nullable = true)\n",
            " |    |    |-- element: string (containsNull = true)\n",
            " |    |-- product_ndc: array (nullable = true)\n",
            " |    |    |-- element: string (containsNull = true)\n",
            " |    |-- product_type: array (nullable = true)\n",
            " |    |    |-- element: string (containsNull = true)\n",
            " |    |-- route: array (nullable = true)\n",
            " |    |    |-- element: string (containsNull = true)\n",
            " |    |-- rxcui: array (nullable = true)\n",
            " |    |    |-- element: string (containsNull = true)\n",
            " |    |-- spl_id: array (nullable = true)\n",
            " |    |    |-- element: string (containsNull = true)\n",
            " |    |-- spl_set_id: array (nullable = true)\n",
            " |    |    |-- element: string (containsNull = true)\n",
            " |    |-- substance_name: array (nullable = true)\n",
            " |    |    |-- element: string (containsNull = true)\n",
            " |    |-- unii: array (nullable = true)\n",
            " |    |    |-- element: string (containsNull = true)\n",
            " |    |-- upc: array (nullable = true)\n",
            " |    |    |-- element: string (containsNull = true)\n",
            " |-- postal_code: string (nullable = true)\n",
            " |-- product_description: string (nullable = true)\n",
            " |-- product_quantity: string (nullable = true)\n",
            " |-- product_type: string (nullable = true)\n",
            " |-- reason_for_recall: string (nullable = true)\n",
            " |-- recall_initiation_date: string (nullable = true)\n",
            " |-- recall_number: string (nullable = true)\n",
            " |-- recalling_firm: string (nullable = true)\n",
            " |-- report_date: string (nullable = true)\n",
            " |-- state: string (nullable = true)\n",
            " |-- status: string (nullable = true)\n",
            " |-- voluntary_mandated: string (nullable = true)\n"
          ]
        }
      ],
      "source": [
        "df_kept.printSchema()"
      ],
      "id": "4913c4b5"
    },
    {
      "cell_type": "code",
      "execution_count": 59,
      "metadata": {
        "ExecuteTime": {
          "end_time": "2020-03-17T17:43:23.207185Z",
          "start_time": "2020-03-17T17:43:22.829140Z"
        }
      },
      "outputs": [
        {
          "output_type": "display_data",
          "metadata": {},
          "data": {
            "text/plain": [
              "11292"
            ]
          }
        }
      ],
      "source": [
        "df_kept.count()"
      ],
      "id": "c4133152"
    },
    {
      "cell_type": "markdown",
      "metadata": {},
      "source": [
        "## Filtering by string values\n",
        "\n",
        "Cases from South San Francisco"
      ],
      "id": "2f8ec4fc-d99a-4774-aeff-6a48da720ec8"
    },
    {
      "cell_type": "code",
      "execution_count": 60,
      "metadata": {
        "ExecuteTime": {
          "end_time": "2020-03-17T17:43:54.396689Z",
          "start_time": "2020-03-17T17:43:53.465012Z"
        }
      },
      "outputs": [
        {
          "output_type": "display_data",
          "metadata": {},
          "data": {
            "text/html": [
              "\n",
              "<p>8 rows × 50 columns</p>\n",
              "</div>"
            ]
          }
        }
      ],
      "source": [
        "df.filter(df.city == \"South San Francisco\")\\\n",
        "    .toPandas()"
      ],
      "id": "1bd6fb99"
    },
    {
      "cell_type": "markdown",
      "metadata": {},
      "source": [
        "> **Caution**\n",
        ">\n",
        "> Once again, we use `.toPandas()` to pretty format the results in the\n",
        "> notebook.\n",
        ">\n",
        "> But it’s a BAD idea to do this if the spark DataFrame is large, since\n",
        "> it requires a `collect()`\n",
        "\n",
        "Aside from filtering strings by a perfect match, there are plenty of\n",
        "other powerful ways to filter by strings in `pyspark` :\n",
        "\n",
        "-   `df.filter(df.city.contains('San Francisco'))`: returns rows where\n",
        "    strings of a column contain a provided substring. In our example,\n",
        "    filtering by rows which contain the substring “San Francisco” would\n",
        "    be a good way to get all rows in San Francisco, instead of just\n",
        "    “South San Francisco”.\n",
        "\n",
        "-   `df.filter(df.city.startswith('San'))`: Returns rows where a string\n",
        "    starts with a provided substring.\n",
        "\n",
        "-   `df.filter(df.city.endswith('ice'))`: Returns rows where a string\n",
        "    starts with a provided substring.\n",
        "\n",
        "-   `df.filter(df.city.isNull())`: Returns rows where values in a\n",
        "    provided column are null.\n",
        "\n",
        "-   `df.filter(df.city.isNotNull())`: Opposite of the above.\n",
        "\n",
        "-   `df.filter(df.city.like('San%'))`: Performs a SQL-like query\n",
        "    containing the LIKE clause.\n",
        "\n",
        "-   `df.filter(df.city.rlike('[A-Z]*ice$'))`: Performs a regexp filter.\n",
        "\n",
        "-   `df.filter(df.city.isin('San Francisco', 'Los Angeles'))`: Looks for\n",
        "    rows where the string value of a column matches any of the provided\n",
        "    strings exactly.\n",
        "\n",
        "You can try some of these to understand"
      ],
      "id": "0fe780aa-305c-46dd-bda8-9abd8b17b323"
    },
    {
      "cell_type": "code",
      "execution_count": 61,
      "metadata": {
        "ExecuteTime": {
          "end_time": "2020-03-17T17:48:19.328007Z",
          "start_time": "2020-03-17T17:48:18.572570Z"
        }
      },
      "outputs": [
        {
          "output_type": "display_data",
          "metadata": {},
          "data": {
            "text/html": [
              "\n",
              "<p>78 rows × 50 columns</p>\n",
              "</div>"
            ]
          }
        }
      ],
      "source": [
        "df.filter(df.city.contains('San Francisco'))\\\n",
        "    .toPandas()"
      ],
      "id": "1c5ab57d"
    },
    {
      "cell_type": "code",
      "execution_count": 62,
      "metadata": {
        "ExecuteTime": {
          "end_time": "2020-03-17T17:48:10.490019Z",
          "start_time": "2020-03-17T17:48:09.784496Z"
        }
      },
      "outputs": [
        {
          "output_type": "display_data",
          "metadata": {},
          "data": {
            "text/html": [
              "\n",
              "<p>75 rows × 50 columns</p>\n",
              "</div>"
            ]
          }
        }
      ],
      "source": [
        "(\n",
        "    df.filter(df.city.isin('San Francisco', 'Los Angeles'))\n",
        "      .toPandas()\n",
        ")"
      ],
      "id": "e323a48a"
    },
    {
      "cell_type": "markdown",
      "metadata": {},
      "source": [
        "## Filtering by Date Values\n",
        "\n",
        "In addition to filtering by strings, we can also filter by columns where\n",
        "the values are stored as dates or datetimes (or strings that can be\n",
        "inferred as dates). Perhaps the most useful way to filter dates is by\n",
        "using the `between()` method, which allows us to find results within a\n",
        "certain date range. Here we find all the results which were reported in\n",
        "the years 2013 and 2014:"
      ],
      "id": "75416016-24b9-4fbd-a265-43eb36e504de"
    },
    {
      "cell_type": "code",
      "execution_count": 63,
      "metadata": {
        "ExecuteTime": {
          "end_time": "2020-03-17T17:50:34.344304Z",
          "start_time": "2020-03-17T17:50:33.638867Z"
        }
      },
      "outputs": [
        {
          "output_type": "display_data",
          "metadata": {},
          "data": {
            "text/html": [
              "\n",
              "<p>2 rows × 50 columns</p>\n",
              "</div>"
            ]
          }
        }
      ],
      "source": [
        "( \n",
        "    df\n",
        "        .filter(df.city == \"South San Francisco\")\n",
        "        .filter(df.report_date.between('2013-01-01 00:00:00','2015-03-11 00:00:00'))\n",
        "        .toPandas()\n",
        ")"
      ],
      "id": "858f583d"
    },
    {
      "cell_type": "markdown",
      "metadata": {},
      "source": [
        "> **Caution**\n",
        ">\n",
        "> Is Spark smart enough to understand that the string in column\n",
        "> `report_date` contains a date?"
      ],
      "id": "2e2766ab-c2e3-4f4e-b09a-09c5ae7eb649"
    },
    {
      "cell_type": "code",
      "execution_count": 64,
      "metadata": {},
      "outputs": [
        {
          "output_type": "display_data",
          "metadata": {},
          "data": {
            "text/html": [
              "\n",
              "<p>0 rows × 50 columns</p>\n",
              "</div>"
            ]
          }
        }
      ],
      "source": [
        "df.filter(df.city == \"South San Francisco\")\\\n",
        "    .filter(df.center_classification_date.between('2013-01-01 00:00:00','2013-12-31 00:00:00'))\\\n",
        "    .toPandas()"
      ],
      "id": "a6296d25"
    },
    {
      "cell_type": "code",
      "execution_count": 65,
      "metadata": {},
      "outputs": [
        {
          "output_type": "stream",
          "name": "stdout",
          "text": [
            "root\n",
            " |-- center_classification_date: string (nullable = true)\n",
            " |-- recall_initiation_date: string (nullable = true)\n",
            " |-- report_date: string (nullable = true)\n",
            " |-- termination_date: string (nullable = true)\n"
          ]
        }
      ],
      "source": [
        "df_dates = df.select([c for c in df.columns if c.endswith(\"date\")])\n",
        "\n",
        "df_dates.printSchema()"
      ],
      "id": "afa36de8"
    },
    {
      "cell_type": "code",
      "execution_count": 66,
      "metadata": {},
      "outputs": [
        {
          "output_type": "stream",
          "name": "stdout",
          "text": [
            "+--------------------------+----------------------+-----------+----------------+\n",
            "|center_classification_date|recall_initiation_date|report_date|termination_date|\n",
            "+--------------------------+----------------------+-----------+----------------+\n",
            "|                  20121025|              20120904|   20121031|        20141007|\n",
            "|                  20121025|              20120904|   20121031|        20141007|\n",
            "|                  20121106|              20121015|   20121114|        20130325|\n",
            "|                  20121220|              20121204|   20121226|        20140429|\n",
            "|                  20121231|              20120926|   20130109|        20161007|\n",
            "+--------------------------+----------------------+-----------+----------------+\n",
            "only showing top 5 rows\n"
          ]
        }
      ],
      "source": [
        "df_dates.show(5)"
      ],
      "id": "b2525c3e"
    },
    {
      "cell_type": "markdown",
      "metadata": {},
      "source": [
        "Columns are not dates (`DateType`) but strings (`StringType`). When\n",
        "comparing `report_date` with `'2013-01-01 00:00:00'` and\n",
        "`'2015-03-11 00:00:00'`, we are comparing strings and are lucky enough\n",
        "that in unicode `'-' < '0' < '...' < '9'` so that `2013-....` is less\n",
        "that any string starting with `20130...`, while any string starting with\n",
        "`2013...` is less than any string starting with `2015..`.\n",
        "\n",
        "> **Caution**\n",
        ">\n",
        "> If some field in a Json string is meant to represent a date or a\n",
        "> datetime object, spark should be given a hint.\n",
        ">\n",
        "> Json loaders (from `Python`) as well as the Spark Json reader have\n",
        "> optional arguments that can be used to indicate the date parser to be\n",
        "> used.\n",
        "\n",
        "> **Note**\n",
        ">\n",
        "> We have to tell the json loader about two things:\n",
        ">\n",
        "> 1.  which columns should be read as dates\n",
        "> 2.  which format should be used for those columns\n",
        ">\n",
        "> The first point can be settled using the `schema` argument of\n",
        "> `.json()` method (see\n",
        "> [Documentation](https://spark.apache.org/docs/3.5.3/api/python/reference/pyspark.sql/api/pyspark.sql.DataFrameReader.json.html))"
      ],
      "id": "e5b6742a-b99c-4dd9-a8c7-ee3511d83916"
    },
    {
      "cell_type": "code",
      "execution_count": 67,
      "metadata": {},
      "outputs": [],
      "source": [
        "ze_schema = df.schema \n",
        "\n",
        "list_fields = []\n",
        "\n",
        "for f in ze_schema.fields:\n",
        "  if f.name.endswith('date'):\n",
        "    list_fields.append(StructField(f.name, DateType(), True))\n",
        "  else:\n",
        "    list_fields.append(f)\n",
        "\n",
        "ze_schema = StructType(list_fields)"
      ],
      "id": "18b7925f"
    },
    {
      "cell_type": "code",
      "execution_count": 68,
      "metadata": {},
      "outputs": [],
      "source": [
        "# Alternative syntax using a dictionary of options\n",
        "options = {\n",
        "    \"dateFormat\": \"yyyyMMdd\",\n",
        "    \"multiLine\": \"true\"\n",
        "}\n",
        "\n",
        "df = (\n",
        "    spark.read\n",
        "        .options(**options)\n",
        "        .json(filename, ze_schema)\n",
        ")"
      ],
      "id": "b9533b69"
    },
    {
      "cell_type": "code",
      "execution_count": 69,
      "metadata": {},
      "outputs": [
        {
          "output_type": "stream",
          "name": "stdout",
          "text": [
            "root\n",
            " |-- center_classification_date: string (nullable = true)\n",
            " |-- recall_initiation_date: string (nullable = true)\n",
            " |-- report_date: string (nullable = true)\n",
            " |-- termination_date: string (nullable = true)\n"
          ]
        }
      ],
      "source": [
        "df.select([c for c in df.columns if c.endswith(\"date\")]).printSchema()"
      ],
      "id": "51b438d9"
    },
    {
      "cell_type": "code",
      "execution_count": 70,
      "metadata": {},
      "outputs": [
        {
          "output_type": "display_data",
          "metadata": {},
          "data": {
            "text/html": [
              "\n",
              "<p>0 rows × 50 columns</p>\n",
              "</div>"
            ]
          }
        }
      ],
      "source": [
        "(\n",
        "df.filter(df.city == \"South San Francisco\")\n",
        "  .filter(df.center_classification_date.between('2013-01-01 00:00:00','2013-12-31 00:00:00'))\n",
        "  .toPandas()\n",
        ")"
      ],
      "id": "e4b040a2"
    },
    {
      "cell_type": "markdown",
      "metadata": {},
      "source": [
        "## Handling complex types\n",
        "\n",
        "Bridging the gap between tabular and semi-structured data.\n",
        "\n",
        "> **Note**\n",
        ">\n",
        "> SQL, `R`, `Pandas` …\n",
        "\n",
        "`struct`, `array`, `map`"
      ],
      "id": "341e6cd5-edb3-4e56-8642-e90977cd0a52"
    },
    {
      "cell_type": "code",
      "execution_count": 71,
      "metadata": {},
      "outputs": [],
      "source": [
        "# struct"
      ],
      "id": "ccfb22cb"
    },
    {
      "cell_type": "markdown",
      "metadata": {},
      "source": [
        "The problems we faced after loading data from the json file pertained to\n",
        "the fact that column `fda` was of complex `StrucType()` type. We shall\n",
        "revisit this dataframe."
      ],
      "id": "b4dbb074-1b4f-414c-a692-b5784a64ff89"
    },
    {
      "cell_type": "code",
      "execution_count": 72,
      "metadata": {},
      "outputs": [],
      "source": [
        "df = spark.read.json(filename, multiLine=True)"
      ],
      "id": "c9dc00be"
    },
    {
      "cell_type": "markdown",
      "metadata": {},
      "source": [
        "The dataframe schema `df.schema` which is of type `StructType` (defined\n",
        "in `pyspark.sql.types`) can be converted to a json string which in turn\n",
        "can be converted into a Python dictionary."
      ],
      "id": "0c934f44-51e0-4644-9977-5362420cd728"
    },
    {
      "cell_type": "code",
      "execution_count": 73,
      "metadata": {},
      "outputs": [],
      "source": [
        "df = spark.read.json(filename, multiLine=True)\n",
        "\n",
        "sj = json.loads(df.schema.json())"
      ],
      "id": "f6417cb7"
    },
    {
      "cell_type": "markdown",
      "metadata": {},
      "source": [
        "We equip the dataframe with a primary key"
      ],
      "id": "6920dd98-8c04-4244-b809-ba4b78cde17e"
    },
    {
      "cell_type": "code",
      "execution_count": 74,
      "metadata": {},
      "outputs": [],
      "source": [
        "from pyspark.sql import Window\n",
        "\n",
        "w = Window.orderBy(col(\"center_classification_date\"))\n",
        "\n",
        "df = (\n",
        "  df\n",
        "    .withColumn(\"row_id\", fn.row_number().over(w))\n",
        ")"
      ],
      "id": "332a2df8"
    },
    {
      "cell_type": "code",
      "execution_count": 75,
      "metadata": {},
      "outputs": [
        {
          "output_type": "display_data",
          "metadata": {},
          "data": {
            "text/plain": [
              "[('openfda',\n",
              "  {'fields': [{'metadata': {},\n",
              "     'name': 'application_number',\n",
              "     'nullable': True,\n",
              "     'type': {'containsNull': True, 'elementType': 'string', 'type': 'array'}},\n",
              "    {'metadata': {},\n",
              "     'name': 'brand_name',\n",
              "     'nullable': True,\n",
              "     'type': {'containsNull': True, 'elementType': 'string', 'type': 'array'}},\n",
              "    {'metadata': {},\n",
              "     'name': 'generic_name',\n",
              "     'nullable': True,\n",
              "     'type': {'containsNull': True, 'elementType': 'string', 'type': 'array'}},\n",
              "    {'metadata': {},\n",
              "     'name': 'is_original_packager',\n",
              "     'nullable': True,\n",
              "     'type': {'containsNull': True,\n",
              "      'elementType': 'boolean',\n",
              "      'type': 'array'}},\n",
              "    {'metadata': {},\n",
              "     'name': 'manufacturer_name',\n",
              "     'nullable': True,\n",
              "     'type': {'containsNull': True, 'elementType': 'string', 'type': 'array'}},\n",
              "    {'metadata': {},\n",
              "     'name': 'nui',\n",
              "     'nullable': True,\n",
              "     'type': {'containsNull': True, 'elementType': 'string', 'type': 'array'}},\n",
              "    {'metadata': {},\n",
              "     'name': 'original_packager_product_ndc',\n",
              "     'nullable': True,\n",
              "     'type': {'containsNull': True, 'elementType': 'string', 'type': 'array'}},\n",
              "    {'metadata': {},\n",
              "     'name': 'package_ndc',\n",
              "     'nullable': True,\n",
              "     'type': {'containsNull': True, 'elementType': 'string', 'type': 'array'}},\n",
              "    {'metadata': {},\n",
              "     'name': 'pharm_class_cs',\n",
              "     'nullable': True,\n",
              "     'type': {'containsNull': True, 'elementType': 'string', 'type': 'array'}},\n",
              "    {'metadata': {},\n",
              "     'name': 'pharm_class_epc',\n",
              "     'nullable': True,\n",
              "     'type': {'containsNull': True, 'elementType': 'string', 'type': 'array'}},\n",
              "    {'metadata': {},\n",
              "     'name': 'pharm_class_moa',\n",
              "     'nullable': True,\n",
              "     'type': {'containsNull': True, 'elementType': 'string', 'type': 'array'}},\n",
              "    {'metadata': {},\n",
              "     'name': 'pharm_class_pe',\n",
              "     'nullable': True,\n",
              "     'type': {'containsNull': True, 'elementType': 'string', 'type': 'array'}},\n",
              "    {'metadata': {},\n",
              "     'name': 'product_ndc',\n",
              "     'nullable': True,\n",
              "     'type': {'containsNull': True, 'elementType': 'string', 'type': 'array'}},\n",
              "    {'metadata': {},\n",
              "     'name': 'product_type',\n",
              "     'nullable': True,\n",
              "     'type': {'containsNull': True, 'elementType': 'string', 'type': 'array'}},\n",
              "    {'metadata': {},\n",
              "     'name': 'route',\n",
              "     'nullable': True,\n",
              "     'type': {'containsNull': True, 'elementType': 'string', 'type': 'array'}},\n",
              "    {'metadata': {},\n",
              "     'name': 'rxcui',\n",
              "     'nullable': True,\n",
              "     'type': {'containsNull': True, 'elementType': 'string', 'type': 'array'}},\n",
              "    {'metadata': {},\n",
              "     'name': 'spl_id',\n",
              "     'nullable': True,\n",
              "     'type': {'containsNull': True, 'elementType': 'string', 'type': 'array'}},\n",
              "    {'metadata': {},\n",
              "     'name': 'spl_set_id',\n",
              "     'nullable': True,\n",
              "     'type': {'containsNull': True, 'elementType': 'string', 'type': 'array'}},\n",
              "    {'metadata': {},\n",
              "     'name': 'substance_name',\n",
              "     'nullable': True,\n",
              "     'type': {'containsNull': True, 'elementType': 'string', 'type': 'array'}},\n",
              "    {'metadata': {},\n",
              "     'name': 'unii',\n",
              "     'nullable': True,\n",
              "     'type': {'containsNull': True, 'elementType': 'string', 'type': 'array'}},\n",
              "    {'metadata': {},\n",
              "     'name': 'upc',\n",
              "     'nullable': True,\n",
              "     'type': {'containsNull': True,\n",
              "      'elementType': 'string',\n",
              "      'type': 'array'}}],\n",
              "   'type': 'struct'})]"
            ]
          }
        }
      ],
      "source": [
        "[(f['name'], f['type'])  \n",
        "    for f in sj['fields'] if not isinstance(f['type'], str)]"
      ],
      "id": "05e99be8"
    },
    {
      "cell_type": "markdown",
      "metadata": {},
      "source": [
        "Column `openfda` has type `StrucType()` with fields with composite type."
      ],
      "id": "1cc29097-cee9-442b-a142-49863f54ebee"
    },
    {
      "cell_type": "code",
      "execution_count": 76,
      "metadata": {},
      "outputs": [
        {
          "output_type": "display_data",
          "metadata": {},
          "data": {
            "text/plain": [
              "{IntegerType(),\n",
              " StructType([StructField('application_number', ArrayType(StringType(), True), True), StructField('brand_name', ArrayType(StringType(), True), True), StructField('generic_name', ArrayType(StringType(), True), True), StructField('is_original_packager', ArrayType(BooleanType(), True), True), StructField('manufacturer_name', ArrayType(StringType(), True), True), StructField('nui', ArrayType(StringType(), True), True), StructField('original_packager_product_ndc', ArrayType(StringType(), True), True), StructField('package_ndc', ArrayType(StringType(), True), True), StructField('pharm_class_cs', ArrayType(StringType(), True), True), StructField('pharm_class_epc', ArrayType(StringType(), True), True), StructField('pharm_class_moa', ArrayType(StringType(), True), True), StructField('pharm_class_pe', ArrayType(StringType(), True), True), StructField('product_ndc', ArrayType(StringType(), True), True), StructField('product_type', ArrayType(StringType(), True), True), StructField('route', ArrayType(StringType(), True), True), StructField('rxcui', ArrayType(StringType(), True), True), StructField('spl_id', ArrayType(StringType(), True), True), StructField('spl_set_id', ArrayType(StringType(), True), True), StructField('substance_name', ArrayType(StringType(), True), True), StructField('unii', ArrayType(StringType(), True), True), StructField('upc', ArrayType(StringType(), True), True)])}"
            ]
          }
        }
      ],
      "source": [
        "{f.dataType  for f in df.schema.fields if not f.dataType==StringType()}"
      ],
      "id": "2d1dc342"
    },
    {
      "cell_type": "code",
      "execution_count": 77,
      "metadata": {},
      "outputs": [
        {
          "output_type": "display_data",
          "metadata": {},
          "data": {
            "text/plain": [
              "{'struct'}"
            ]
          }
        }
      ],
      "source": [
        "{f['type']['type']\n",
        "    for f in sj['fields'] if not isinstance(f['type'], str)}"
      ],
      "id": "099b2581"
    },
    {
      "cell_type": "markdown",
      "metadata": {},
      "source": [
        "Projecting on `row_id` and `openfda.*` leads to a (partially) flattened\n",
        "datafame, that, thanks to the `row_id` column can be joined with the\n",
        "original dataframe."
      ],
      "id": "2e00d5df-7363-4b62-b859-2e9a55a0792f"
    },
    {
      "cell_type": "code",
      "execution_count": 78,
      "metadata": {},
      "outputs": [
        {
          "output_type": "stream",
          "name": "stdout",
          "text": [
            "root\n",
            " |-- row_id: integer (nullable = false)\n",
            " |-- application_number: array (nullable = true)\n",
            " |    |-- element: string (containsNull = true)\n",
            " |-- brand_name: array (nullable = true)\n",
            " |    |-- element: string (containsNull = true)\n",
            " |-- generic_name: array (nullable = true)\n",
            " |    |-- element: string (containsNull = true)\n",
            " |-- is_original_packager: array (nullable = true)\n",
            " |    |-- element: boolean (containsNull = true)\n",
            " |-- manufacturer_name: array (nullable = true)\n",
            " |    |-- element: string (containsNull = true)\n",
            " |-- nui: array (nullable = true)\n",
            " |    |-- element: string (containsNull = true)\n",
            " |-- original_packager_product_ndc: array (nullable = true)\n",
            " |    |-- element: string (containsNull = true)\n",
            " |-- package_ndc: array (nullable = true)\n",
            " |    |-- element: string (containsNull = true)\n",
            " |-- pharm_class_cs: array (nullable = true)\n",
            " |    |-- element: string (containsNull = true)\n",
            " |-- pharm_class_epc: array (nullable = true)\n",
            " |    |-- element: string (containsNull = true)\n",
            " |-- pharm_class_moa: array (nullable = true)\n",
            " |    |-- element: string (containsNull = true)\n",
            " |-- pharm_class_pe: array (nullable = true)\n",
            " |    |-- element: string (containsNull = true)\n",
            " |-- product_ndc: array (nullable = true)\n",
            " |    |-- element: string (containsNull = true)\n",
            " |-- product_type: array (nullable = true)\n",
            " |    |-- element: string (containsNull = true)\n",
            " |-- route: array (nullable = true)\n",
            " |    |-- element: string (containsNull = true)\n",
            " |-- rxcui: array (nullable = true)\n",
            " |    |-- element: string (containsNull = true)\n",
            " |-- spl_id: array (nullable = true)\n",
            " |    |-- element: string (containsNull = true)\n",
            " |-- spl_set_id: array (nullable = true)\n",
            " |    |-- element: string (containsNull = true)\n",
            " |-- substance_name: array (nullable = true)\n",
            " |    |-- element: string (containsNull = true)\n",
            " |-- unii: array (nullable = true)\n",
            " |    |-- element: string (containsNull = true)\n",
            " |-- upc: array (nullable = true)\n",
            " |    |-- element: string (containsNull = true)\n"
          ]
        }
      ],
      "source": [
        "df_proj = df.select('row_id', 'openfda.*')\n",
        "\n",
        "df_proj.printSchema()"
      ],
      "id": "2afdf7f3"
    },
    {
      "cell_type": "markdown",
      "metadata": {},
      "source": [
        "We can inspect the length of the arrays."
      ],
      "id": "09cbb870-f969-458e-82b1-81502f9e621d"
    },
    {
      "cell_type": "code",
      "execution_count": 79,
      "metadata": {},
      "outputs": [
        {
          "output_type": "stream",
          "name": "stdout",
          "text": [
            "+---+---+-------------------+\n",
            "|Max|min|               Mean|\n",
            "+---+---+-------------------+\n",
            "|  2| -1|-0.7380446333687567|\n",
            "+---+---+-------------------+\n"
          ]
        }
      ],
      "source": [
        "# array\n",
        "df_proj.select(\n",
        "    fn.max(fn.size(col(\"application_number\"))).alias(\"Max\"), \n",
        "    fn.min(fn.size(col(\"application_number\"))).alias(\"min\"), \n",
        "    fn.avg(fn.size(col(\"application_number\"))).alias(\"Mean\")).show(1)"
      ],
      "id": "c43a3904"
    },
    {
      "cell_type": "markdown",
      "metadata": {},
      "source": [
        "In some rows, the *size* of the array is `-1` because the field is\n",
        "`NULL`."
      ],
      "id": "5c7680af-4317-4f84-a6a0-7ea05699980a"
    },
    {
      "cell_type": "code",
      "execution_count": 80,
      "metadata": {},
      "outputs": [
        {
          "output_type": "stream",
          "name": "stderr",
          "text": [
            "25/04/03 15:16:36 WARN WindowExec: No Partition Defined for Window operation! Moving all data to a single partition, this can cause serious performance degradation.\n",
            "25/04/03 15:16:36 WARN WindowExec: No Partition Defined for Window operation! Moving all data to a single partition, this can cause serious performance degradation.\n",
            "25/04/03 15:16:36 WARN WindowExec: No Partition Defined for Window operation! Moving all data to a single partition, this can cause serious performance degradation.\n",
            "25/04/03 15:16:36 WARN WindowExec: No Partition Defined for Window operation! Moving all data to a single partition, this can cause serious performance degradation.\n",
            "25/04/03 15:16:36 WARN WindowExec: No Partition Defined for Window operation! Moving all data to a single partition, this can cause serious performance degradation."
          ]
        },
        {
          "output_type": "stream",
          "name": "stdout",
          "text": [
            "+------+\n",
            "|row_id|\n",
            "+------+\n",
            "|  7159|\n",
            "|  7344|\n",
            "+------+\n"
          ]
        }
      ],
      "source": [
        "(\n",
        "  df_proj\n",
        "    .where(fn.size(col(\"application_number\"))>1)\n",
        "    .select(\"row_id\")\n",
        "    .show(5)\n",
        ")"
      ],
      "id": "0f7b5f16"
    },
    {
      "cell_type": "markdown",
      "metadata": {},
      "source": [
        "An `array` column can be *exploded*. This is like pivoting into long\n",
        "form. The result contains one row per item in the array."
      ],
      "id": "ddda8025-6ddd-4e89-85ac-2208575df9da"
    },
    {
      "cell_type": "code",
      "execution_count": 81,
      "metadata": {},
      "outputs": [
        {
          "output_type": "stream",
          "name": "stderr",
          "text": [
            "25/04/03 15:16:36 WARN WindowExec: No Partition Defined for Window operation! Moving all data to a single partition, this can cause serious performance degradation.\n",
            "25/04/03 15:16:36 WARN WindowExec: No Partition Defined for Window operation! Moving all data to a single partition, this can cause serious performance degradation.\n",
            "25/04/03 15:16:36 WARN WindowExec: No Partition Defined for Window operation! Moving all data to a single partition, this can cause serious performance degradation.\n",
            "25/04/03 15:16:36 WARN WindowExec: No Partition Defined for Window operation! Moving all data to a single partition, this can cause serious performance degradation."
          ]
        },
        {
          "output_type": "stream",
          "name": "stdout",
          "text": [
            "+------+--------+\n",
            "|row_id|n_lignes|\n",
            "+------+--------+\n",
            "|  7159|       2|\n",
            "|  7344|       2|\n",
            "+------+--------+\n"
          ]
        }
      ],
      "source": [
        "(\n",
        "  df_proj\n",
        "    .select('row_id', 'application_number')\n",
        "    .withColumn(\"exploded\", \n",
        "                fn.explode(col(\"application_number\")))\n",
        "    .select('row_id', 'exploded')\n",
        "    .groupBy('row_id')\n",
        "    .agg(fn.count('exploded').alias(\"n_lignes\"))\n",
        "    .where(\"n_lignes > 1\")\n",
        "    .show(5)\n",
        ")"
      ],
      "id": "2f1594f0"
    }
  ],
  "nbformat": 4,
  "nbformat_minor": 5,
  "metadata": {
    "kernelspec": {
      "name": "python3",
      "display_name": "Python 3 (ipykernel)",
      "language": "python",
      "path": "/usr/share/jupyter/kernels/python3"
    },
    "language_info": {
      "name": "python",
      "codemirror_mode": {
        "name": "ipython",
        "version": "3"
      },
      "file_extension": ".py",
      "mimetype": "text/x-python",
      "nbconvert_exporter": "python",
      "pygments_lexer": "ipython3",
      "version": "3.12.3"
    }
  }
}