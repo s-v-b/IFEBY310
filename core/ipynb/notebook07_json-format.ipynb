{
  "cells": [
    {
      "cell_type": "markdown",
      "metadata": {},
      "source": [
        "# Using `JSON` data with `Python`\n",
        "\n",
        "This notebook is concerned with `JSON` a format that serves many\n",
        "purposes. Just as `csv` files, `json` files are important sources and\n",
        "sinks for Spark. As a exchange format, `JSON` is also a serialization\n",
        "tool for Python and many other languages. `JSON` provides a way to\n",
        "accomodate *semi-structured* data in otherwise tabular environments\n",
        "(dataframes and databases tables).\n",
        "\n",
        "The notebook is organized in the following way:\n",
        "\n",
        "-   Serialization/Deserialization of Python builtin types using `JSON`\n",
        "-   Serialization/Deserialization of (some) custom types using `JSON`\n",
        "-   `JSON` readers and writers for Spark dataframes\n",
        "-   Composite types in Spark dataframes\n",
        "-   Advanced `JSON` readers and writers for Spark dataframes\n",
        "\n",
        "## Serialization and deserialization of built-in types"
      ],
      "id": "0f74c75a-3afa-4907-8095-c059ba1c7e84"
    },
    {
      "cell_type": "code",
      "execution_count": 1,
      "metadata": {
        "ExecuteTime": {
          "end_time": "2020-03-17T14:29:25.759874Z",
          "start_time": "2020-03-17T14:29:25.726787Z"
        }
      },
      "outputs": [
        {
          "output_type": "stream",
          "name": "stdout",
          "text": [
            "{\n",
            "    \"active\": true,\n",
            "    \"age\": 78,\n",
            "    \"balance\": 345.8,\n",
            "    \"friends\": [\n",
            "        \"Jane\",\n",
            "        \"John\"\n",
            "    ],\n",
            "    \"name\": \"Foo Bar\",\n",
            "    \"other_names\": [\n",
            "        \"Doe\",\n",
            "        \"Joe\"\n",
            "    ],\n",
            "    \"spouse\": null\n",
            "}"
          ]
        }
      ],
      "source": [
        "import json\n",
        "\n",
        "obj = {\n",
        "    \"name\": \"Foo Bar\",\n",
        "    \"age\": 78,\n",
        "    \"friends\": [\"Jane\",\"John\"],\n",
        "    \"balance\": 345.80,\n",
        "    \"other_names\":(\"Doe\",\"Joe\"),\n",
        "    \"active\": True,\n",
        "    \"spouse\": None\n",
        "}\n",
        "\n",
        "print(json.dumps(obj, sort_keys=True, indent=4))"
      ],
      "id": "ab96a49a"
    },
    {
      "cell_type": "markdown",
      "metadata": {},
      "source": [
        "> **Note**\n",
        ">\n",
        "> `json.dumps()` outputs a `JSON` formatted string.\n",
        ">\n",
        "> Not every type of object can be fed to `json.dumps()`. Licit types\n",
        "> are:\n",
        ">\n",
        "> -"
      ],
      "id": "f7a39caf-a4a3-4ac9-a27e-9cddf16568c0"
    },
    {
      "cell_type": "code",
      "execution_count": 2,
      "metadata": {
        "ExecuteTime": {
          "end_time": "2020-03-17T14:29:26.039839Z",
          "start_time": "2020-03-17T14:29:26.027858Z"
        }
      },
      "outputs": [],
      "source": [
        "with open('user.json','w') as file:\n",
        "    json.dump(obj, file, sort_keys=True, indent=4)"
      ],
      "id": "0eb89013"
    },
    {
      "cell_type": "code",
      "execution_count": 3,
      "metadata": {
        "ExecuteTime": {
          "end_time": "2020-03-17T14:29:27.110218Z",
          "start_time": "2020-03-17T14:29:26.479550Z"
        }
      },
      "outputs": [
        {
          "output_type": "stream",
          "name": "stdout",
          "text": [
            "{\n",
            "    \"active\": true,\n",
            "    \"age\": 78,\n",
            "    \"balance\": 345.8,\n",
            "    \"friends\": [\n",
            "        \"Jane\",\n",
            "        \"John\"\n",
            "    ],\n",
            "    \"name\": \"Foo Bar\",\n",
            "    \"other_names\": [\n",
            "        \"Doe\",\n",
            "        \"Joe\"\n",
            "    ],\n",
            "    \"spouse\": null\n",
            "}"
          ]
        }
      ],
      "source": [
        "!cat user.json"
      ],
      "id": "be431108"
    },
    {
      "cell_type": "code",
      "execution_count": 4,
      "metadata": {
        "ExecuteTime": {
          "end_time": "2020-03-17T14:29:27.137307Z",
          "start_time": "2020-03-17T14:29:27.114179Z"
        }
      },
      "outputs": [
        {
          "output_type": "display_data",
          "metadata": {},
          "data": {
            "text/plain": [
              "{'active': True,\n",
              " 'age': 78,\n",
              " 'balance': 345.8,\n",
              " 'friends': ['Jane', 'John'],\n",
              " 'name': 'Foo Bar',\n",
              " 'other_names': ['Doe', 'Joe'],\n",
              " 'spouse': None}"
            ]
          }
        }
      ],
      "source": [
        "json.loads('{\"active\": true, \"age\": 78, \"balance\": 345.8, \"friends\": [\"Jane\",\"John\"], \"name\": \"Foo Bar\", \"other_names\": [\"Doe\",\"Joe\"],\"spouse\":null}')"
      ],
      "id": "275a1522"
    },
    {
      "cell_type": "code",
      "execution_count": 5,
      "metadata": {
        "ExecuteTime": {
          "end_time": "2020-03-17T14:29:27.149816Z",
          "start_time": "2020-03-17T14:29:27.140548Z"
        }
      },
      "outputs": [
        {
          "output_type": "stream",
          "name": "stdout",
          "text": [
            "{'active': True, 'age': 78, 'balance': 345.8, 'friends': ['Jane', 'John'], 'name': 'Foo Bar', 'other_names': ['Doe', 'Joe'], 'spouse': None}"
          ]
        }
      ],
      "source": [
        "with open('user.json', 'r') as file:\n",
        "    user_data = json.load(file)\n",
        "\n",
        "print(user_data)"
      ],
      "id": "d1f0c62d"
    },
    {
      "cell_type": "markdown",
      "metadata": {},
      "source": [
        "> **None**\n",
        ">\n",
        "> What happens if we feed `json.dumps()` with a `numpy` array?\n",
        "\n",
        "## Serialization and deserialization of custom objects"
      ],
      "id": "daa2213e-0b8c-4d96-b9a0-289bc3b12b92"
    },
    {
      "cell_type": "code",
      "execution_count": 6,
      "metadata": {
        "ExecuteTime": {
          "end_time": "2020-03-17T14:29:27.733203Z",
          "start_time": "2020-03-17T14:29:27.718399Z"
        }
      },
      "outputs": [],
      "source": [
        "class User(object):\n",
        "    \"\"\"Custom User Class\n",
        "    \"\"\"\n",
        "    def __init__(self, name, age, active, balance, \n",
        "                 other_names, friends, spouse):\n",
        "        self.name = name\n",
        "        self.age = age\n",
        "        self.active = active\n",
        "        self.balance = balance\n",
        "        self.other_names = other_names\n",
        "        self.friends = friends\n",
        "        self.spouse = spouse\n",
        "            \n",
        "    def __repr__(self):\n",
        "        s = \"User(\"\n",
        "        s += \"name=\" + repr(self.name)\n",
        "        s += \", age=\" + repr(self.age)\n",
        "        s += \", active=\" + repr(self.active)\n",
        "        s += \", other_names=\" + repr(self.other_names)\n",
        "        s += \", friends=\" + repr(self.friends)\n",
        "        s += \", spouse=\" + repr(self.spouse) + \")\"\n",
        "        return s"
      ],
      "id": "007aa6ca"
    },
    {
      "cell_type": "code",
      "execution_count": 7,
      "metadata": {
        "ExecuteTime": {
          "end_time": "2020-03-17T14:29:27.733203Z",
          "start_time": "2020-03-17T14:29:27.718399Z"
        }
      },
      "outputs": [
        {
          "output_type": "display_data",
          "metadata": {},
          "data": {
            "text/plain": [
              "User(name='Foo Bar', age=78, active=True, other_names=('Doe', 'Joe'), friends=['Jane', 'John'], spouse=None)"
            ]
          }
        }
      ],
      "source": [
        "new_user = User(\n",
        "    name = \"Foo Bar\",\n",
        "    age = 78,\n",
        "    friends = [\"Jane\", \"John\"],\n",
        "    balance = 345.80,\n",
        "    other_names = (\"Doe\", \"Joe\"),\n",
        "    active = True,\n",
        "    spouse = None\n",
        ")\n",
        "\n",
        "new_user"
      ],
      "id": "c0cd3290"
    },
    {
      "cell_type": "code",
      "execution_count": 8,
      "metadata": {
        "ExecuteTime": {
          "end_time": "2020-03-17T14:29:49.613442Z",
          "start_time": "2020-03-17T14:29:49.601102Z"
        }
      },
      "outputs": [],
      "source": [
        "# This will raise a TypeError\n",
        "# json.dumps(new_user)"
      ],
      "id": "87a9a5cc"
    },
    {
      "cell_type": "markdown",
      "metadata": {},
      "source": [
        "As expected, the custom object `new_user` is not JSON serializable. So\n",
        "let’s build a method that does that for us.\n",
        "\n",
        "-   This comes as no surprise to us, since earlier on we observed that\n",
        "    the `json` module only handles the built-in types, and `User` is not\n",
        "    one.\n",
        "\n",
        "-   We need to send our user data to a client over a network, so how do\n",
        "    we get ourselves out of this error state?\n",
        "\n",
        "-   A simple solution would be to convert our custom type into a\n",
        "    serializable type that is a built-in type. We can conveniently\n",
        "    define a method `convert_to_dict()` that returns a dictionary\n",
        "    representation of our object. `json.dumps()` takes in a optional\n",
        "    argument, `default`, which specifies a function to be called if the\n",
        "    object is not serializable. This function returns a JSON encodable\n",
        "    version of the object.\n",
        "\n",
        "Recall that class `obj` has a dunder method `__dict__` that provides a\n",
        "basis for obtaining a dictionary with the attributes of any object:"
      ],
      "id": "4fa1f3fc-7a95-4480-a4a3-38a9f9dd1724"
    },
    {
      "cell_type": "code",
      "execution_count": 9,
      "metadata": {},
      "outputs": [
        {
          "output_type": "display_data",
          "metadata": {},
          "data": {
            "text/plain": [
              "{'name': 'Foo Bar',\n",
              " 'age': 78,\n",
              " 'active': True,\n",
              " 'balance': 345.8,\n",
              " 'other_names': ('Doe', 'Joe'),\n",
              " 'friends': ['Jane', 'John'],\n",
              " 'spouse': None}"
            ]
          }
        }
      ],
      "source": [
        "new_user.__dict__"
      ],
      "id": "7a498809"
    },
    {
      "cell_type": "code",
      "execution_count": 10,
      "metadata": {
        "ExecuteTime": {
          "end_time": "2020-03-17T14:29:52.854067Z",
          "start_time": "2020-03-17T14:29:52.847015Z"
        }
      },
      "outputs": [],
      "source": [
        "def obj_to_dict(obj):\n",
        "    \"\"\"Converts an object to a dictionary representation of the object including \n",
        "    meta-data information about the object's module and class name.\n",
        "\n",
        "    Parameters\n",
        "    ----------\n",
        "    obj : `object`\n",
        "        A python object to be converted into a dictionary representation\n",
        "\n",
        "    Returns\n",
        "    -------\n",
        "    output : `dict`\n",
        "        A dictionary representation of the object\n",
        "    \"\"\"\n",
        "    # Add object meta data \n",
        "    obj_dict = {\n",
        "        \"__class__\": obj.__class__.__name__,\n",
        "        \"__module__\": obj.__module__\n",
        "    }\n",
        "    # Add the object properties\n",
        "    return obj_dict | obj.__dict__"
      ],
      "id": "1a06263e"
    },
    {
      "cell_type": "code",
      "execution_count": 11,
      "metadata": {
        "ExecuteTime": {
          "end_time": "2020-03-17T14:29:52.854067Z",
          "start_time": "2020-03-17T14:29:52.847015Z"
        }
      },
      "outputs": [
        {
          "output_type": "display_data",
          "metadata": {},
          "data": {
            "text/plain": [
              "{'__class__': 'User',\n",
              " '__module__': '__main__',\n",
              " 'name': 'Foo Bar',\n",
              " 'age': 78,\n",
              " 'active': True,\n",
              " 'balance': 345.8,\n",
              " 'other_names': ('Doe', 'Joe'),\n",
              " 'friends': ['Jane', 'John'],\n",
              " 'spouse': None}"
            ]
          }
        }
      ],
      "source": [
        "obj_to_dict(new_user)"
      ],
      "id": "f7f7d777"
    },
    {
      "cell_type": "markdown",
      "metadata": {},
      "source": [
        "The function `convert_to_dict` does the following:\n",
        "\n",
        "-   create a dictionary named `obj_dict` to act as the dict\n",
        "    representation of our object.\n",
        "\n",
        "-   magic methods `__class__.__name__` and `__module__` provide crucial\n",
        "    metadata on the object: the class name and the module name\n",
        "\n",
        "    add the instance attributes of the object using `obj.__dict__`\n",
        "    (`Python` stores instance attributes in a dictionary under the hood)\n",
        "\n",
        "-   The resulting `obj_dict` is now serializable (provided all\n",
        "    attributes of our object are).\n",
        "\n",
        "Now we can comfortably call `json.dumps()` on the object and pass\n",
        "`default=convert_to_dict`\n",
        "\n",
        "> **Note**\n",
        ">\n",
        "> Obviously this fails if one of the attributes is not `JSON`\n",
        "> serializable"
      ],
      "id": "e720770b-7ccb-44c0-a9ab-a65430ea357b"
    },
    {
      "cell_type": "code",
      "execution_count": 12,
      "metadata": {
        "ExecuteTime": {
          "end_time": "2020-03-17T14:29:53.566068Z",
          "start_time": "2020-03-17T14:29:53.560201Z"
        }
      },
      "outputs": [
        {
          "output_type": "stream",
          "name": "stdout",
          "text": [
            "{\n",
            "    \"__class__\": \"User\",\n",
            "    \"__module__\": \"__main__\",\n",
            "    \"active\": true,\n",
            "    \"age\": 78,\n",
            "    \"balance\": 345.8,\n",
            "    \"friends\": [\n",
            "        \"Jane\",\n",
            "        \"John\"\n",
            "    ],\n",
            "    \"name\": \"Foo Bar\",\n",
            "    \"other_names\": [\n",
            "        \"Doe\",\n",
            "        \"Joe\"\n",
            "    ],\n",
            "    \"spouse\": null\n",
            "}"
          ]
        }
      ],
      "source": [
        "print(json.dumps(new_user, default=obj_to_dict, indent=4, sort_keys=True))"
      ],
      "id": "e84b5df7"
    },
    {
      "cell_type": "markdown",
      "metadata": {},
      "source": [
        "Now, if we want to decode (deserialiaze) a custom object, and create the\n",
        "correct object type, we need a function that does the opposite of\n",
        "convert_to_dict, since `json.loads` simply returns a `dict`:"
      ],
      "id": "d6e8420c-17e3-4802-807e-bcaae0c8b978"
    },
    {
      "cell_type": "code",
      "execution_count": 13,
      "metadata": {
        "ExecuteTime": {
          "end_time": "2020-03-17T14:29:54.413286Z",
          "start_time": "2020-03-17T14:29:54.408660Z"
        }
      },
      "outputs": [
        {
          "output_type": "stream",
          "name": "stdout",
          "text": [
            "{'__class__': 'User', '__module__': '__main__', 'name': 'Foo Bar', 'age': 78, 'active': True, 'balance': 345.8, 'other_names': ['Doe', 'Joe'], 'friends': ['Jane', 'John'], 'spouse': None}"
          ]
        }
      ],
      "source": [
        "user_data = json.loads(json.dumps(new_user, default=obj_to_dict))\n",
        "print(user_data)"
      ],
      "id": "2a2fb625"
    },
    {
      "cell_type": "markdown",
      "metadata": {},
      "source": [
        "We need `json.loads()` to reconstruct a `User` object from this\n",
        "dictionary: `json.loads()` takes an optional argument `object_hook`\n",
        "which specifies a function that returns the desired custom object, given\n",
        "the decoded output (which in this case is a `dict`)."
      ],
      "id": "7ecf715c-b7e5-4833-8f30-3c60f47041bd"
    },
    {
      "cell_type": "code",
      "execution_count": 14,
      "metadata": {
        "ExecuteTime": {
          "end_time": "2020-03-17T14:29:55.257839Z",
          "start_time": "2020-03-17T14:29:55.253496Z"
        }
      },
      "outputs": [],
      "source": [
        "def dict_to_obj(input_dict):\n",
        "    \"\"\"Converts a dictionary representation of an object to an instance of the object.\n",
        "\n",
        "    Parameters\n",
        "    ----------\n",
        "    input_dict : `dict`\n",
        "        A dictionary representation of the object, containing \"__module__\" \n",
        "        and \"__class__\" metadata\n",
        "\n",
        "    Returns\n",
        "    -------    \n",
        "    obj : `object`\n",
        "        A python object constructed from the dictionary representation    \n",
        "    \"\"\"\n",
        "    assert \"__class__\" in input_dict and \"__module__\" in input_dict\n",
        "    class_name = input_dict.pop(\"__class__\")\n",
        "    module_name = input_dict.pop(\"__module__\")\n",
        "    module = __import__(module_name)\n",
        "    class_ = getattr(module, class_name)\n",
        "    obj = class_(**input_dict)\n",
        "    return obj"
      ],
      "id": "aab9d98e"
    },
    {
      "cell_type": "markdown",
      "metadata": {},
      "source": [
        "This function does the following:\n",
        "\n",
        "-   Extract the class name from the dictionary under the key `__class__`\n",
        "\n",
        "-   Extract the module name from the dictionary under the key\n",
        "    `__module__`\n",
        "\n",
        "-   Imports the module and get the class\n",
        "\n",
        "-   Instantiate the class by giving to the class constructor all the\n",
        "    instance arguments through dictionary unpacking"
      ],
      "id": "d0920483-e73e-49f5-a01a-5ad9552afe11"
    },
    {
      "cell_type": "code",
      "execution_count": 15,
      "metadata": {
        "ExecuteTime": {
          "end_time": "2020-03-17T14:29:57.102787Z",
          "start_time": "2020-03-17T14:29:57.097553Z"
        }
      },
      "outputs": [
        {
          "output_type": "display_data",
          "metadata": {},
          "data": {
            "text/plain": [
              "User(name='Foo Bar', age=78, active=True, other_names=['Doe', 'Joe'], friends=['Jane', 'John'], spouse=None)"
            ]
          }
        }
      ],
      "source": [
        "obj_data = json.dumps(new_user, default=obj_to_dict)\n",
        "new_object = json.loads(obj_data, object_hook=dict_to_obj)\n",
        "new_object"
      ],
      "id": "79fd8aea"
    },
    {
      "cell_type": "code",
      "execution_count": 16,
      "metadata": {
        "ExecuteTime": {
          "end_time": "2020-03-17T14:29:57.944835Z",
          "start_time": "2020-03-17T14:29:57.939581Z"
        }
      },
      "outputs": [
        {
          "output_type": "display_data",
          "metadata": {},
          "data": {
            "text/plain": [
              "__main__.User"
            ]
          }
        }
      ],
      "source": [
        "type(new_object)"
      ],
      "id": "8d7843c4"
    },
    {
      "cell_type": "code",
      "execution_count": 17,
      "metadata": {
        "ExecuteTime": {
          "end_time": "2020-03-17T14:29:58.679143Z",
          "start_time": "2020-03-17T14:29:58.673617Z"
        }
      },
      "outputs": [
        {
          "output_type": "display_data",
          "metadata": {},
          "data": {
            "text/plain": [
              "78"
            ]
          }
        }
      ],
      "source": [
        "new_object.age"
      ],
      "id": "7aafb650"
    },
    {
      "cell_type": "markdown",
      "metadata": {},
      "source": [
        "> **Note**\n",
        ">\n",
        "> Functions `obj_to_dict()` and `dict_to_obj()` are showcases for\n",
        "> special/magic/dunder methods.\n",
        ">\n",
        "> In the definition of class `User`, two special methods were explicitly\n",
        "> defined: `__init__` and `__repr__`. But many more are available,\n",
        "> including `__dir__()`."
      ],
      "id": "3b89aea7-5923-47a7-badd-e62d1e782494"
    },
    {
      "cell_type": "code",
      "execution_count": 18,
      "metadata": {},
      "outputs": [
        {
          "output_type": "display_data",
          "metadata": {},
          "data": {
            "text/plain": [
              "['__class__',\n",
              " '__delattr__',\n",
              " '__dict__',\n",
              " '__dir__',\n",
              " '__doc__',\n",
              " '__eq__',\n",
              " '__format__',\n",
              " '__ge__',\n",
              " '__getattribute__',\n",
              " '__getstate__',\n",
              " '__gt__',\n",
              " '__hash__',\n",
              " '__init__',\n",
              " '__init_subclass__',\n",
              " '__le__',\n",
              " '__lt__',\n",
              " '__module__',\n",
              " '__ne__',\n",
              " '__new__',\n",
              " '__reduce__',\n",
              " '__reduce_ex__',\n",
              " '__repr__',\n",
              " '__setattr__',\n",
              " '__sizeof__',\n",
              " '__str__',\n",
              " '__subclasshook__',\n",
              " '__weakref__']"
            ]
          }
        }
      ],
      "source": [
        "[dude for dude in dir(new_object) if dude.startswith('__')]"
      ],
      "id": "3d798d0b"
    },
    {
      "cell_type": "code",
      "execution_count": 19,
      "metadata": {},
      "outputs": [
        {
          "output_type": "display_data",
          "metadata": {},
          "data": {
            "text/plain": [
              "78"
            ]
          }
        }
      ],
      "source": [
        "new_object.__getattribute__('age')"
      ],
      "id": "44e786f5"
    },
    {
      "cell_type": "markdown",
      "metadata": {},
      "source": [
        "> **Note**\n",
        ">\n",
        "> Class `User` could have been implemented as a `dataclass`"
      ],
      "id": "d7783cca-7241-43f5-b43f-9065c0c7f3cc"
    },
    {
      "cell_type": "code",
      "execution_count": 20,
      "metadata": {},
      "outputs": [],
      "source": [
        "from dataclasses import dataclass\n",
        "\n",
        "@dataclass\n",
        "class UserBis(object):\n",
        "    \"\"\"Custom User Class\n",
        "    \"\"\"\n",
        "    name: str \n",
        "    age: int\n",
        "    active: bool\n",
        "    balance: float\n",
        "    other_names: list[str]\n",
        "    friends: list[str]\n",
        "    spouse: str"
      ],
      "id": "ac378a70"
    },
    {
      "cell_type": "code",
      "execution_count": 21,
      "metadata": {},
      "outputs": [],
      "source": [
        "other_user = UserBis(**(new_user.__dict__))"
      ],
      "id": "b7651938"
    },
    {
      "cell_type": "code",
      "execution_count": 22,
      "metadata": {},
      "outputs": [
        {
          "output_type": "display_data",
          "metadata": {},
          "data": {
            "text/plain": [
              "\"UserBis(name='Foo Bar', age=78, active=True, balance=345.8, other_names=('Doe', 'Joe'), friends=['Jane', 'John'], spouse=None)\""
            ]
          }
        }
      ],
      "source": [
        "repr(other_user)"
      ],
      "id": "b3df8952"
    },
    {
      "cell_type": "code",
      "execution_count": 23,
      "metadata": {},
      "outputs": [
        {
          "output_type": "display_data",
          "metadata": {},
          "data": {
            "text/plain": [
              "{'__annotations__',\n",
              " '__dataclass_fields__',\n",
              " '__dataclass_params__',\n",
              " '__match_args__'}"
            ]
          }
        }
      ],
      "source": [
        "{dude for dude in dir(other_user) if dude.startswith('__')} -  {dude for dude in dir(new_user) if dude.startswith('__')}"
      ],
      "id": "0e683864"
    },
    {
      "cell_type": "markdown",
      "metadata": {},
      "source": [
        "# Using `JSON` with Spark\n",
        "\n",
        "First, we download the data if it’s not there yet"
      ],
      "id": "175ee8f8-dbf8-4077-ba12-1be87824bcf2"
    },
    {
      "cell_type": "code",
      "execution_count": 24,
      "metadata": {
        "ExecuteTime": {
          "end_time": "2020-03-17T16:19:34.238130Z",
          "start_time": "2020-03-17T16:19:34.163729Z"
        }
      },
      "outputs": [],
      "source": [
        "import requests, zipfile, io\n",
        "from pathlib import Path\n",
        "\n",
        "path = Path('drug-enforcement.json')\n",
        "if not path.exists():\n",
        "    url = \"https://stephanegaiffas.github.io/big_data_course/data/drug-enforcement.json.zip\"\n",
        "    r = requests.get(url)\n",
        "    z = zipfile.ZipFile(io.BytesIO(r.content))\n",
        "    z.extractall(path='./')"
      ],
      "id": "da26b9e1"
    },
    {
      "cell_type": "code",
      "execution_count": 25,
      "metadata": {},
      "outputs": [
        {
          "output_type": "stream",
          "name": "stdout",
          "text": [
            "ls: cannot access 'drug*': No such file or directory"
          ]
        }
      ],
      "source": [
        "!ls drug*"
      ],
      "id": "7b340a99"
    },
    {
      "cell_type": "markdown",
      "metadata": {},
      "source": [
        "## Reading a `JSON` dataset with `Spark`"
      ],
      "id": "b79e51bf-6f6b-4d30-9708-11c7ecf39e05"
    },
    {
      "cell_type": "code",
      "execution_count": 26,
      "metadata": {
        "ExecuteTime": {
          "end_time": "2020-03-17T17:13:47.583384Z",
          "start_time": "2020-03-17T17:13:43.123090Z"
        }
      },
      "outputs": [
        {
          "output_type": "stream",
          "name": "stderr",
          "text": [
            "25/03/06 08:01:17 WARN Utils: Your hostname, boucheron-Precision-5480 resolves to a loopback address: 127.0.1.1; using 192.168.10.120 instead (on interface wlp0s20f3)\n",
            "25/03/06 08:01:17 WARN Utils: Set SPARK_LOCAL_IP if you need to bind to another address\n",
            "Setting default log level to \"WARN\".\n",
            "To adjust logging level use sc.setLogLevel(newLevel). For SparkR, use setLogLevel(newLevel).\n",
            "25/03/06 08:01:17 WARN NativeCodeLoader: Unable to load native-hadoop library for your platform... using builtin-java classes where applicable"
          ]
        }
      ],
      "source": [
        "from pyspark import SparkConf, SparkContext\n",
        "from pyspark.sql import SparkSession\n",
        "from pyspark.sql import functions as fn\n",
        "from pyspark.sql.functions import col\n",
        "\n",
        "spark = (SparkSession\n",
        "    .builder\n",
        "    .appName(\"Spark JSON\")\n",
        "    .getOrCreate()\n",
        ")\n",
        "\n",
        "sc = spark._sc"
      ],
      "id": "0ac6d69a"
    },
    {
      "cell_type": "code",
      "execution_count": 27,
      "metadata": {
        "ExecuteTime": {
          "end_time": "2020-03-17T17:13:47.590453Z",
          "start_time": "2020-03-17T17:13:47.585590Z"
        }
      },
      "outputs": [],
      "source": [
        "filename = \"drug-enforcement.json\""
      ],
      "id": "0d45f01c"
    },
    {
      "cell_type": "markdown",
      "metadata": {},
      "source": [
        "First, lets look at the data. It’s a large set of JSON records about\n",
        "drugs enforcement."
      ],
      "id": "60c1a201-534f-4d06-a70f-98f4a8d9fd98"
    },
    {
      "cell_type": "code",
      "execution_count": 28,
      "metadata": {
        "ExecuteTime": {
          "end_time": "2020-03-17T17:13:48.148481Z",
          "start_time": "2020-03-17T17:13:47.594201Z"
        }
      },
      "outputs": [
        {
          "output_type": "stream",
          "name": "stdout",
          "text": [
            "head: cannot open 'drug-enforcement.json' for reading: No such file or directory"
          ]
        }
      ],
      "source": [
        "!head -n 1000 drug-enforcement.json"
      ],
      "id": "a77ec9ba"
    },
    {
      "cell_type": "markdown",
      "metadata": {},
      "source": [
        "We need to tell spark that rows span on several lines with the\n",
        "`multLine` option"
      ],
      "id": "df89a1cd-f1eb-4c51-8626-f25649eff4f8"
    },
    {
      "cell_type": "code",
      "execution_count": 29,
      "metadata": {
        "ExecuteTime": {
          "end_time": "2020-03-17T17:13:52.259661Z",
          "start_time": "2020-03-17T17:13:48.152192Z"
        }
      },
      "outputs": [],
      "source": [
        "df = spark.read.json(filename, multiLine=True)"
      ],
      "id": "a5fb25ad"
    },
    {
      "cell_type": "code",
      "execution_count": 30,
      "metadata": {
        "ExecuteTime": {
          "end_time": "2020-03-17T17:13:52.294898Z",
          "start_time": "2020-03-17T17:13:52.261550Z"
        }
      },
      "outputs": [],
      "source": [
        "df.printSchema()"
      ],
      "id": "b220a221"
    },
    {
      "cell_type": "code",
      "execution_count": 31,
      "metadata": {
        "ExecuteTime": {
          "end_time": "2020-03-17T17:13:52.355556Z",
          "start_time": "2020-03-17T17:13:52.297210Z"
        }
      },
      "outputs": [],
      "source": [
        "df.schema"
      ],
      "id": "8574e30b"
    },
    {
      "cell_type": "markdown",
      "metadata": {},
      "source": [
        "> **Note**\n",
        ">\n",
        "> This dataset is a little bit of a mess!\n",
        ">\n",
        "> This should not be surprising. The data used to populate the Spark\n",
        "> dataframe are not classically tabular but what people call\n",
        "> *semi-structured*. Json is well-suited to store, represent, and\n",
        "> exchange such data.\n",
        ">\n",
        "> In the classical age of tabular data (according to Codd’s principles),\n",
        "> a table cell could only hold a scalar value (numeric, logical, text,\n",
        "> date, timestamp, …), nowadays Relational Database Management Systems\n",
        "> handle Arrays, Composite Types, Range Types, …, and Json (see\n",
        "> [PostgreSQL](https://www.postgresql.org/docs/current/datatype-json.html)).\n",
        ">\n",
        "> Spark, `R`, and `Pandas` also allow us to work with complex types.\n",
        "\n",
        "-   First, there is a nested `opendfa` dictionary. Each element of the\n",
        "    dictionary is an array\n",
        "-   A first good idea is to **“flatten” the schema of the DataFrame**,\n",
        "    so that there is no nested types\n",
        "\n",
        "## Flattening of the schema\n",
        "\n",
        "All the columns in the nested structure `openfda` are put up in the\n",
        "schema. These columns nested in the openfda are as follows:"
      ],
      "id": "6b3f744d-7de0-4bdc-ac4d-f9b1446b1023"
    },
    {
      "cell_type": "code",
      "execution_count": 32,
      "metadata": {
        "ExecuteTime": {
          "end_time": "2020-03-17T17:14:00.472548Z",
          "start_time": "2020-03-17T17:14:00.352058Z"
        }
      },
      "outputs": [],
      "source": [
        "df.select('openfda.*').columns"
      ],
      "id": "e342a2c6"
    },
    {
      "cell_type": "code",
      "execution_count": 33,
      "metadata": {
        "ExecuteTime": {
          "end_time": "2020-03-17T17:14:01.904242Z",
          "start_time": "2020-03-17T17:14:00.646360Z"
        }
      },
      "outputs": [],
      "source": [
        "df.select(\"openfda.*\").head(2)"
      ],
      "id": "c23b235f"
    },
    {
      "cell_type": "code",
      "execution_count": 34,
      "metadata": {
        "ExecuteTime": {
          "end_time": "2020-03-17T17:14:02.230811Z",
          "start_time": "2020-03-17T17:14:01.906641Z"
        }
      },
      "outputs": [],
      "source": [
        "for c in df.select(\"openfda.*\").columns:\n",
        "    df = df.withColumn(\"openfda_\" + c, col(\"openfda.\" + c))"
      ],
      "id": "c2b35b82"
    },
    {
      "cell_type": "code",
      "execution_count": 35,
      "metadata": {
        "ExecuteTime": {
          "end_time": "2020-03-17T17:14:07.644985Z",
          "start_time": "2020-03-17T17:14:07.501380Z"
        }
      },
      "outputs": [],
      "source": [
        "df = df.select([c for c in df.columns if c != \"openfda\"])"
      ],
      "id": "9e347c38"
    },
    {
      "cell_type": "code",
      "execution_count": 36,
      "metadata": {
        "ExecuteTime": {
          "end_time": "2020-03-17T17:14:09.871658Z",
          "start_time": "2020-03-17T17:14:09.865537Z"
        }
      },
      "outputs": [],
      "source": [
        "df.printSchema()"
      ],
      "id": "3282277c"
    },
    {
      "cell_type": "code",
      "execution_count": 37,
      "metadata": {
        "ExecuteTime": {
          "end_time": "2020-03-17T17:14:19.204515Z",
          "start_time": "2020-03-17T17:14:18.651165Z"
        }
      },
      "outputs": [],
      "source": [
        "df.head(2)"
      ],
      "id": "089e9f15"
    },
    {
      "cell_type": "markdown",
      "metadata": {},
      "source": [
        "Note that the display of the `DataFrame` is not as usual… it displays\n",
        "the dataframe like a list of `Row`, since the columns “openfda\\*”\n",
        "contain arrays of varying length\n",
        "\n",
        "## Missing data\n",
        "\n",
        "A strategy can be to remove rows with missing data. `dropna` has several\n",
        "options, explained below."
      ],
      "id": "06ad0b4c-296c-4254-af5f-11f4254e1604"
    },
    {
      "cell_type": "code",
      "execution_count": 38,
      "metadata": {
        "ExecuteTime": {
          "end_time": "2020-03-17T17:41:17.413952Z",
          "start_time": "2020-03-17T17:41:16.898211Z"
        }
      },
      "outputs": [],
      "source": [
        "df.dropna().count()"
      ],
      "id": "4b289909"
    },
    {
      "cell_type": "markdown",
      "metadata": {},
      "source": [
        "If we remove all lines with at least one missing value, we end up with\n",
        "an empty dataframe !"
      ],
      "id": "14e92e5b-9027-4a3d-bf4c-004e66de0e9f"
    },
    {
      "cell_type": "code",
      "execution_count": 39,
      "metadata": {
        "ExecuteTime": {
          "end_time": "2020-03-17T17:41:17.895108Z",
          "start_time": "2020-03-17T17:41:17.416108Z"
        }
      },
      "outputs": [],
      "source": [
        "df.dropna(how='all').count()"
      ],
      "id": "6b77da9c"
    },
    {
      "cell_type": "markdown",
      "metadata": {},
      "source": [
        "`dropna` accepts the following arguments\n",
        "\n",
        "-   `how`: can be `'any'` or `'all'`. If `'any'`, rows containing any\n",
        "    null values will be dropped entirely (this is the default). If\n",
        "    `'all'`, only rows which are entirely empty will be dropped.\n",
        "\n",
        "-   `thresh`: accepts an integer representing the “threshold” for how\n",
        "    many empty cells a row must have before being dropped. `tresh` is a\n",
        "    middle ground between `how='any'` and `how='all'`. As a result, the\n",
        "    presence of `thresh` will override `how`\n",
        "\n",
        "-   `subset`: accepts a list of column names. When a subset is present,\n",
        "    N/A values will only be checked against the columns whose names are\n",
        "    provided."
      ],
      "id": "2725f3a7-8cc8-4534-9df5-944c83c849ca"
    },
    {
      "cell_type": "code",
      "execution_count": 40,
      "metadata": {
        "ExecuteTime": {
          "end_time": "2020-03-17T17:41:17.901172Z",
          "start_time": "2020-03-17T17:41:17.897860Z"
        }
      },
      "outputs": [],
      "source": [
        "n_columns = len(df.columns)"
      ],
      "id": "d9ddbb7b"
    },
    {
      "cell_type": "code",
      "execution_count": 41,
      "metadata": {
        "ExecuteTime": {
          "end_time": "2020-03-17T17:41:18.415066Z",
          "start_time": "2020-03-17T17:41:17.904093Z"
        }
      },
      "outputs": [],
      "source": [
        "df.dropna(thresh=n_columns).count()"
      ],
      "id": "3dc88362"
    },
    {
      "cell_type": "code",
      "execution_count": 42,
      "metadata": {
        "ExecuteTime": {
          "end_time": "2020-03-17T17:41:18.931320Z",
          "start_time": "2020-03-17T17:41:18.417317Z"
        }
      },
      "outputs": [],
      "source": [
        "df.dropna(thresh=n_columns-1).count()"
      ],
      "id": "49b8f75e"
    },
    {
      "cell_type": "code",
      "execution_count": 43,
      "metadata": {
        "ExecuteTime": {
          "end_time": "2020-03-17T17:41:19.439726Z",
          "start_time": "2020-03-17T17:41:18.934217Z"
        }
      },
      "outputs": [],
      "source": [
        "df.dropna(thresh=n_columns-10).count()"
      ],
      "id": "51931a85"
    },
    {
      "cell_type": "code",
      "execution_count": 44,
      "metadata": {
        "ExecuteTime": {
          "end_time": "2020-03-17T17:41:19.752318Z",
          "start_time": "2020-03-17T17:41:19.441809Z"
        }
      },
      "outputs": [],
      "source": [
        "df = df.dropna(subset=['postal_code', 'city', 'country', 'address_1'])\n",
        "df.count()"
      ],
      "id": "5db90b54"
    },
    {
      "cell_type": "markdown",
      "metadata": {},
      "source": [
        "But before this, let’s count the number of missing value for each column"
      ],
      "id": "f32eee15-9b85-4d68-8d53-822424e8fd30"
    },
    {
      "cell_type": "code",
      "execution_count": 45,
      "metadata": {
        "ExecuteTime": {
          "end_time": "2020-03-17T17:41:20.424178Z",
          "start_time": "2020-03-17T17:41:19.754255Z"
        }
      },
      "outputs": [],
      "source": [
        "# For each column we create a new column containing 1 if the value is null and 0 otherwise.\n",
        "# We need to bast Boolean to Int so that we can use fn.sum after\n",
        "for c in df.columns:\n",
        "    # Do not do this for _isnull columns (ince case you run this cell twice...)\n",
        "    if not c.endswith(\"_isnull\"):\n",
        "        df = df.withColumn(c + \"_isnull\", fn.isnull(col(c)).cast('int'))"
      ],
      "id": "6f43f911"
    },
    {
      "cell_type": "code",
      "execution_count": 46,
      "metadata": {
        "ExecuteTime": {
          "end_time": "2020-03-17T17:41:20.925299Z",
          "start_time": "2020-03-17T17:41:20.426204Z"
        }
      },
      "outputs": [],
      "source": [
        "df.head()"
      ],
      "id": "6dd1b004"
    },
    {
      "cell_type": "code",
      "execution_count": 47,
      "metadata": {
        "ExecuteTime": {
          "end_time": "2020-03-17T17:41:22.053794Z",
          "start_time": "2020-03-17T17:41:20.927796Z"
        }
      },
      "outputs": [],
      "source": [
        "# Get the list of _isnull columns\n",
        "isnull_columns = [c for c in df.columns if c.endswith(\"_isnull\")]\n",
        "\n",
        "# On the _isnull columns :\n",
        "#  - we compute the sum to have the number of null values and rename the column\n",
        "#  - convert to pandas for better readability\n",
        "#  - transpose the pandas dataframe for better readability\n",
        "missing_values = df.select(isnull_columns)\\\n",
        "    .agg(*[fn.sum(c).alias(c.replace(\"_isnull\", \"\")) for c in isnull_columns])\\\n",
        "    .toPandas()\n",
        "\n",
        "missing_values.T\\\n",
        "    .rename({0: \"missing values\"}, axis=\"columns\")"
      ],
      "id": "d69875a7"
    },
    {
      "cell_type": "markdown",
      "metadata": {},
      "source": [
        "We see that `more_code_info` is always null and that `termination_date`\n",
        "if often null. Most of the `openfda*` columns are also almost always\n",
        "empty.\n",
        "\n",
        "We can keep only the columns with no missing values"
      ],
      "id": "b13addc7-2639-465a-976a-a37870d1aab5"
    },
    {
      "cell_type": "code",
      "execution_count": 48,
      "metadata": {
        "ExecuteTime": {
          "end_time": "2020-03-17T17:41:24.802336Z",
          "start_time": "2020-03-17T17:41:24.797411Z"
        }
      },
      "outputs": [],
      "source": [
        "# This line can seem complicated, run pieces of each to understand\n",
        "kept_columns = list(\n",
        "    missing_values.columns[(missing_values.iloc[0] == 0).values]\n",
        ")"
      ],
      "id": "2df31173"
    },
    {
      "cell_type": "code",
      "execution_count": 49,
      "metadata": {
        "ExecuteTime": {
          "end_time": "2020-03-17T17:41:27.488388Z",
          "start_time": "2020-03-17T17:41:27.398503Z"
        }
      },
      "outputs": [],
      "source": [
        "df_kept = df.select(kept_columns)"
      ],
      "id": "b6b868a0"
    },
    {
      "cell_type": "code",
      "execution_count": 50,
      "metadata": {
        "ExecuteTime": {
          "end_time": "2020-03-17T17:41:27.948018Z",
          "start_time": "2020-03-17T17:41:27.539797Z"
        }
      },
      "outputs": [],
      "source": [
        "df_kept.head(2)"
      ],
      "id": "a42f1e0e"
    },
    {
      "cell_type": "code",
      "execution_count": 51,
      "metadata": {
        "ExecuteTime": {
          "end_time": "2020-03-17T17:41:41.419929Z",
          "start_time": "2020-03-17T17:41:41.413784Z"
        }
      },
      "outputs": [],
      "source": [
        "df_kept.printSchema()"
      ],
      "id": "d47a9a59"
    },
    {
      "cell_type": "code",
      "execution_count": 52,
      "metadata": {
        "ExecuteTime": {
          "end_time": "2020-03-17T17:43:23.207185Z",
          "start_time": "2020-03-17T17:43:22.829140Z"
        }
      },
      "outputs": [],
      "source": [
        "df_kept.count()"
      ],
      "id": "7221eb39"
    },
    {
      "cell_type": "markdown",
      "metadata": {},
      "source": [
        "## Filtering by string values\n",
        "\n",
        "Cases from South San Francisco"
      ],
      "id": "83ffbfdb-8984-4a3d-8e5a-917feea5156f"
    },
    {
      "cell_type": "code",
      "execution_count": 53,
      "metadata": {
        "ExecuteTime": {
          "end_time": "2020-03-17T17:43:54.396689Z",
          "start_time": "2020-03-17T17:43:53.465012Z"
        }
      },
      "outputs": [],
      "source": [
        "df.filter(df.city == \"South San Francisco\")\\\n",
        "    .toPandas()"
      ],
      "id": "6d0838a7"
    },
    {
      "cell_type": "markdown",
      "metadata": {},
      "source": [
        "**Remark.** Once again, we use `.toPandas()` to pretty format the\n",
        "results in the notebook. But it’s a BAD idea to do this if the spark\n",
        "DataFrame is large, since it requires a `collect()`\n",
        "\n",
        "Aside from filtering strings by a perfect match, there are plenty of\n",
        "other powerful ways to filter by strings in `pyspark` :\n",
        "\n",
        "-   `df.filter(df.city.contains('San Francisco'))`: returns rows where\n",
        "    strings of a column contain a provided substring. In our example,\n",
        "    filtering by rows which contain the substring “San Francisco” would\n",
        "    be a good way to get all rows in San Francisco, instead of just\n",
        "    “South San Francisco”.\n",
        "\n",
        "-   `df.filter(df.city.startswith('San'))`: Returns rows where a string\n",
        "    starts with a provided substring.\n",
        "\n",
        "-   `df.filter(df.city.endswith('ice'))`: Returns rows where a string\n",
        "    starts with a provided substring.\n",
        "\n",
        "-   `df.filter(df.city.isNull())`: Returns rows where values in a\n",
        "    provided column are null.\n",
        "\n",
        "-   `df.filter(df.city.isNotNull())`: Opposite of the above.\n",
        "\n",
        "-   `df.filter(df.city.like('San%'))`: Performs a SQL-like query\n",
        "    containing the LIKE clause.\n",
        "\n",
        "-   `df.filter(df.city.rlike('[A-Z]*ice$'))`: Performs a regexp filter.\n",
        "\n",
        "-   `df.filter(df.city.isin('San Francisco', 'Los Angeles'))`: Looks for\n",
        "    rows where the string value of a column matches any of the provided\n",
        "    strings exactly.\n",
        "\n",
        "You can try some of these to understand"
      ],
      "id": "91984069-b446-4d98-aa4f-1a3fe036bbec"
    },
    {
      "cell_type": "code",
      "execution_count": 54,
      "metadata": {
        "ExecuteTime": {
          "end_time": "2020-03-17T17:48:19.328007Z",
          "start_time": "2020-03-17T17:48:18.572570Z"
        }
      },
      "outputs": [],
      "source": [
        "df.filter(df.city.contains('San Francisco'))\\\n",
        "    .toPandas()"
      ],
      "id": "10bfbe7a"
    },
    {
      "cell_type": "code",
      "execution_count": 55,
      "metadata": {
        "ExecuteTime": {
          "end_time": "2020-03-17T17:48:10.490019Z",
          "start_time": "2020-03-17T17:48:09.784496Z"
        }
      },
      "outputs": [],
      "source": [
        "df.filter(df.city.isin('San Francisco', 'Los Angeles')).toPandas()"
      ],
      "id": "f4ed71b2"
    },
    {
      "cell_type": "markdown",
      "metadata": {},
      "source": [
        "## Filtering by Date Values\n",
        "\n",
        "In addition to filtering by strings, we can also filter by columns where\n",
        "the values are stored as dates or datetimes (or strings that can be\n",
        "inferred as dates). Perhaps the most useful way to filter dates is by\n",
        "using the `between()` method, which allows us to find results within a\n",
        "certain date range. Here we find all the results which were reported in\n",
        "the years 2013 and 2014:"
      ],
      "id": "4a2bcd8d-c02b-4313-abee-a8dfae5a7d63"
    },
    {
      "cell_type": "code",
      "execution_count": 56,
      "metadata": {
        "ExecuteTime": {
          "end_time": "2020-03-17T17:50:34.344304Z",
          "start_time": "2020-03-17T17:50:33.638867Z"
        }
      },
      "outputs": [],
      "source": [
        "df.filter(df.city == \"South San Francisco\")\\\n",
        "    .filter(df.report_date.between('2013-01-01 00:00:00','2015-03-11 00:00:00'))\\\n",
        "    .toPandas()"
      ],
      "id": "0d4dffeb"
    },
    {
      "cell_type": "markdown",
      "metadata": {},
      "source": [
        "> **Caution**\n",
        ">\n",
        "> Is Spark smart enough to understand that the string in column\n",
        "> `report_date` contains a date?"
      ],
      "id": "3da82879-d45d-4932-a3e2-0be4090c8af1"
    },
    {
      "cell_type": "code",
      "execution_count": 57,
      "metadata": {},
      "outputs": [],
      "source": [
        "df.filter(df.city == \"South San Francisco\")\\\n",
        "    .filter(df.center_classification_date.between('2013-01-01 00:00:00','2013-12-31 00:00:00'))\\\n",
        "    .toPandas()"
      ],
      "id": "9959c81d"
    },
    {
      "cell_type": "code",
      "execution_count": 58,
      "metadata": {},
      "outputs": [],
      "source": [
        "df_dates = df.select([c for c in df.columns if c.endswith(\"date\")])\n",
        "\n",
        "df_dates.printSchema()"
      ],
      "id": "3215285e"
    },
    {
      "cell_type": "code",
      "execution_count": 59,
      "metadata": {},
      "outputs": [],
      "source": [
        "df_dates.show(5)"
      ],
      "id": "54873ba6"
    },
    {
      "cell_type": "markdown",
      "metadata": {},
      "source": [
        "Columns are not dates (`DateType`) but strings (`StringType`). When\n",
        "comparing `report_date` with `'2013-01-01 00:00:00'` and\n",
        "`'2015-03-11 00:00:00'`, we are comparing strings and are lucky enough\n",
        "that in unicode `'-' < '0' < '...' < '9'` so that `2013-....` is less\n",
        "that any string starting with `20130...`, while any string starting with\n",
        "`2013...` is less than any string starting with `2015..`.\n",
        "\n",
        "> **Caution**\n",
        ">\n",
        "> If some field in a Jason string is meant to represent a date or a\n",
        "> datetime object, spark should be given a hint.\n",
        ">\n",
        "> Json loaders (from `Python`) as well as the Spark Json reader have\n",
        "> optional arguments that can be used to indicate the date parser to be\n",
        "> used.\n",
        "\n",
        "## Handling complex types\n",
        "\n",
        "Bridging the gap between tabular and semi-structured data.\n",
        "\n",
        "> **Note**\n",
        ">\n",
        "> SQL, `R`, `Pandas` …\n",
        "\n",
        "`struct`, `array`, `map`"
      ],
      "id": "1adc9ff4-b570-4cbd-be15-f9f01dc56d87"
    },
    {
      "cell_type": "code",
      "execution_count": 60,
      "metadata": {},
      "outputs": [],
      "source": [
        "# struct"
      ],
      "id": "dad9f443"
    },
    {
      "cell_type": "markdown",
      "metadata": {},
      "source": [
        "The problems we faced after loading data from the json file pertained to\n",
        "the fact that column `fda` was of complex `StrucType()` type. We shall\n",
        "revisit this dataframe."
      ],
      "id": "21718c6f-c22c-45bd-ae30-11f0812839f4"
    },
    {
      "cell_type": "code",
      "execution_count": 61,
      "metadata": {},
      "outputs": [],
      "source": [
        "df = spark.read.json(filename, multiLine=True)"
      ],
      "id": "dc4c19a4"
    },
    {
      "cell_type": "markdown",
      "metadata": {},
      "source": [
        "The dataframe schema `df.schema` which is of type `StructType` (defined\n",
        "in `pyspark.sql.types`) can be converted to a json string which in turn\n",
        "can be converted into a Python dictionary."
      ],
      "id": "accde318-98c0-475f-97fc-95946248b75b"
    },
    {
      "cell_type": "code",
      "execution_count": 62,
      "metadata": {},
      "outputs": [],
      "source": [
        "df = spark.read.json(filename, multiLine=True)\n",
        "\n",
        "sj = json.loads(df.schema.json())"
      ],
      "id": "d24d9b74"
    },
    {
      "cell_type": "markdown",
      "metadata": {},
      "source": [
        "We equip the dataframe with a primary key"
      ],
      "id": "92f04ba9-ebfd-469b-b72e-7cc256e87b52"
    },
    {
      "cell_type": "code",
      "execution_count": 63,
      "metadata": {},
      "outputs": [],
      "source": [
        "from pyspark.sql import Window\n",
        "\n",
        "w = Window.orderBy(col(\"center_classification_date\"))\n",
        "\n",
        "df = (\n",
        "  df\n",
        "    .withColumn(\"row_id\", fn.row_number()\n",
        "    .over(w))\n",
        ")"
      ],
      "id": "68617fce"
    },
    {
      "cell_type": "code",
      "execution_count": 64,
      "metadata": {},
      "outputs": [],
      "source": [
        "[(f['name'], f['type']) \n",
        " for f in sj['fields'] if not isinstance(f['type'], str)]"
      ],
      "id": "84bf6f8b"
    },
    {
      "cell_type": "markdown",
      "metadata": {},
      "source": [
        "Column `openfda` has type `StrucType()` with fields with composite type."
      ],
      "id": "a60f85e2-c82b-4845-aed6-4e0a38fbc3df"
    },
    {
      "cell_type": "code",
      "execution_count": 65,
      "metadata": {},
      "outputs": [],
      "source": [
        "{f['type']['type']\n",
        " for f in sj['fields'] if not isinstance(f['type'], str)}"
      ],
      "id": "86e27a9e"
    },
    {
      "cell_type": "markdown",
      "metadata": {},
      "source": [
        "Projecting on `row_id` and `openfda.*` leads to a (partially) flattened\n",
        "datafame, that, thanks to the `row_id` column can be joined with the\n",
        "original dataframe."
      ],
      "id": "5b14dab5-4c0f-4fab-98b9-a34e739f6af5"
    },
    {
      "cell_type": "code",
      "execution_count": 66,
      "metadata": {},
      "outputs": [],
      "source": [
        "df_proj = df.select('row_id', 'openfda.*')\n",
        "\n",
        "df_proj.printSchema()"
      ],
      "id": "47de2549"
    },
    {
      "cell_type": "markdown",
      "metadata": {},
      "source": [
        "We can inspect the length of the arrays."
      ],
      "id": "8caf985f-0ad9-4732-93f2-21d95bf58e91"
    },
    {
      "cell_type": "code",
      "execution_count": 67,
      "metadata": {},
      "outputs": [],
      "source": [
        "# array\n",
        "df_proj.select(\n",
        "    fn.max(fn.size(col(\"application_number\"))).alias(\"Max\"), \n",
        "    fn.min(fn.size(col(\"application_number\"))).alias(\"min\"), \n",
        "    fn.avg(fn.size(col(\"application_number\"))).alias(\"Mean\")).show(1)"
      ],
      "id": "40e32e1b"
    },
    {
      "cell_type": "markdown",
      "metadata": {},
      "source": [
        "In some rows, the *size* of the array is `-1` because the field is\n",
        "`NULL`."
      ],
      "id": "81af1b44-5e23-450b-b48e-7352dda105a8"
    },
    {
      "cell_type": "code",
      "execution_count": 68,
      "metadata": {},
      "outputs": [],
      "source": [
        "(\n",
        "  df_proj\n",
        "    .where(fn.size(col(\"application_number\"))>1)\n",
        "    .select(\"row_id\")\n",
        "    .show(5)\n",
        ")"
      ],
      "id": "01530476"
    },
    {
      "cell_type": "markdown",
      "metadata": {},
      "source": [
        "An `array` column can be *exploded*. This is like pivoting into long\n",
        "form. The result contains one row per item in the array."
      ],
      "id": "7f29af9d-4ae7-4592-a303-0933823b92b3"
    },
    {
      "cell_type": "code",
      "execution_count": 69,
      "metadata": {},
      "outputs": [],
      "source": [
        "(\n",
        "  df_proj\n",
        "    .select('row_id', 'application_number')\n",
        "    .withColumn(\"exploded\", fn.explode(col(\"application_number\")))\n",
        "    .select('row_id', 'exploded')\n",
        "    .groupBy('row_id')\n",
        "    .agg(fn.count('exploded').alias(\"n_lignes\"))\n",
        "    .where(\"n_lignes > 1\")\n",
        "    .show(5)\n",
        ")"
      ],
      "id": "f93d46b3"
    }
  ],
  "nbformat": 4,
  "nbformat_minor": 5,
  "metadata": {
    "kernelspec": {
      "name": "python3",
      "display_name": "Python 3 (ipykernel)",
      "language": "python",
      "path": "/usr/share/jupyter/kernels/python3"
    },
    "language_info": {
      "name": "python",
      "codemirror_mode": {
        "name": "ipython",
        "version": "3"
      },
      "file_extension": ".py",
      "mimetype": "text/x-python",
      "nbconvert_exporter": "python",
      "pygments_lexer": "ipython3",
      "version": "3.12.3"
    }
  }
}