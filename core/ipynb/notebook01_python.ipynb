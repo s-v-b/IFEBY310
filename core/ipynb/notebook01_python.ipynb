{
 "cells": [
  {
   "cell_type": "markdown",
   "id": "52f4c27f-bfa2-4cd0-8298-5df86b81326b",
   "metadata": {},
   "source": [
    "# Introduction to Python\n",
    "\n",
    "We introduce here the `python` language. Only the bare minimum necessary\n",
    "for getting started with the data-science stack (a bunch of libraries\n",
    "for data science). Python is a **programming language**, as are `C++`,\n",
    "`java`, `fortran`, `javascript`, etc.\n",
    "\n",
    "## Specific features of Python\n",
    "\n",
    "-   an **interpreted** (as opposed to *compiled*) language. Contrary to\n",
    "    e.g. `C++` or `fortran`, one does not compile Python code before\n",
    "    executing it.\n",
    "\n",
    "-   Used as a scripting language, by python `python script.py` in a\n",
    "    terminal\n",
    "\n",
    "-   But can be used also **interactively**: the jupyter notebook,\n",
    "    iPython, etc.\n",
    "\n",
    "-   A free software released under an **open-source** license: Python\n",
    "    can be used and distributed free of charge, even for building\n",
    "    commercial software.\n",
    "\n",
    "-   **multi-platform**: Python is available for all major operating\n",
    "    systems, Windows, Linux/Unix, MacOS X, most likely your mobile phone\n",
    "    OS, etc.\n",
    "\n",
    "-   A very readable language with clear non-verbose syntax\n",
    "\n",
    "-   A language for which a **large amount of high-quality** packages are\n",
    "    available for various applications, including web-frameworks and\n",
    "    scientific computing\n",
    "\n",
    "-   It has been one of the top **languages for data science** and\n",
    "    **machine learning** for several years, because it is expressive and\n",
    "    and easy to deploy\n",
    "\n",
    "-   An object-oriented language\n",
    "\n",
    "See https://www.python.org/about/ for more information about\n",
    "distinguishing features of Python.\n",
    "\n",
    "> **Python 2 or Python 3?**\n",
    ">\n",
    "> -   Simple answer: *don’t use Python 2, use Python 3*\n",
    "> -   Python 2 is *mostly deprecated* and *has not been maintained* for\n",
    ">     years\n",
    "> -   You’ll end up hanged if you use Python 2\n",
    "> -   If Python 2 is mandatory at your workplace, find another work\n",
    "\n",
    "> **Jupyter or Quarto notebooks?**\n",
    ">\n",
    "> -   `quarto` is more git friendly than `jupyter`\n",
    ">\n",
    "> -   Enjoy authentic editors\n",
    ">\n",
    "> -   Go for `quarto`\n",
    "\n",
    "# Hello world\n",
    "\n",
    "-   In a `jupyter`/`quarto` notebook, you have an interactive\n",
    "    interpreter.\n",
    "\n",
    "-   You type in the cells, execute commands"
   ]
  },
  {
   "cell_type": "code",
   "execution_count": 1,
   "id": "b835618d",
   "metadata": {
    "ExecuteTime": {
     "end_time": "2021-01-26T10:21:39.584103Z",
     "start_time": "2021-01-26T10:21:39.577509Z"
    },
    "slideshow": {
     "slide_type": "fragment"
    }
   },
   "outputs": [
    {
     "name": "stdout",
     "output_type": "stream",
     "text": [
      "Hi everybody!\n"
     ]
    }
   ],
   "source": [
    "print(\"Hi everybody!\")"
   ]
  },
  {
   "cell_type": "markdown",
   "id": "ef798b60-13c4-4f39-b631-e8091af1853e",
   "metadata": {},
   "source": [
    "# Basic types\n",
    "\n",
    "## Integers"
   ]
  },
  {
   "cell_type": "code",
   "execution_count": 2,
   "id": "2a79c728",
   "metadata": {
    "ExecuteTime": {
     "end_time": "2021-01-26T10:21:48.191166Z",
     "start_time": "2021-01-26T10:21:48.181921Z"
    },
    "slideshow": {
     "slide_type": "fragment"
    }
   },
   "outputs": [
    {
     "data": {
      "text/plain": [
       "43"
      ]
     },
     "execution_count": 2,
     "metadata": {},
     "output_type": "execute_result"
    }
   ],
   "source": [
    "1 + 42"
   ]
  },
  {
   "cell_type": "code",
   "execution_count": 3,
   "id": "31d7ea5c",
   "metadata": {
    "ExecuteTime": {
     "end_time": "2021-01-26T10:21:50.119817Z",
     "start_time": "2021-01-26T10:21:50.115692Z"
    },
    "slideshow": {
     "slide_type": "-"
    }
   },
   "outputs": [
    {
     "data": {
      "text/plain": [
       "int"
      ]
     },
     "execution_count": 3,
     "metadata": {},
     "output_type": "execute_result"
    }
   ],
   "source": [
    "type(1+1)"
   ]
  },
  {
   "cell_type": "markdown",
   "id": "da737d24-b436-40a0-9ca1-4b430e0375c2",
   "metadata": {},
   "source": [
    "We can assign values to variables with `=`"
   ]
  },
  {
   "cell_type": "code",
   "execution_count": 4,
   "id": "9d2d6cec",
   "metadata": {
    "ExecuteTime": {
     "end_time": "2021-01-26T10:22:09.152051Z",
     "start_time": "2021-01-26T10:22:09.148135Z"
    },
    "slideshow": {
     "slide_type": "-"
    }
   },
   "outputs": [
    {
     "data": {
      "text/plain": [
       "0"
      ]
     },
     "execution_count": 4,
     "metadata": {},
     "output_type": "execute_result"
    }
   ],
   "source": [
    "a = (3 + 5 ** 2) % 4\n",
    "a"
   ]
  },
  {
   "cell_type": "markdown",
   "id": "243fc346-2418-4c94-91bd-27e9b01a71e4",
   "metadata": {},
   "source": [
    "## Remark\n",
    "\n",
    "We don’t declare the type of a variable before assigning its value. In\n",
    "C, conversely, one should write\n",
    "\n",
    "``` c\n",
    "int a = 4;\n",
    "```\n",
    "\n",
    "## Something cool\n",
    "\n",
    "-   **Arbitrary large** integer arithmetics"
   ]
  },
  {
   "cell_type": "code",
   "execution_count": 5,
   "id": "97a4650d",
   "metadata": {
    "ExecuteTime": {
     "end_time": "2021-01-26T10:22:20.017016Z",
     "start_time": "2021-01-26T10:22:20.012996Z"
    },
    "slideshow": {
     "slide_type": "fragment"
    }
   },
   "outputs": [
    {
     "data": {
      "text/plain": [
       "8004153099680695240677662228684856314409365427758266999205063931175132640587226837141154215226851187899067565063096026317140186260836873939218139105634817684999348008544433671366043519135008200013865245747791955240844192282274023825424476387832943666754140847806277355805648624376507618604963106833797989037967001806494232055319953368448928268857747779203073913941756270620192860844700087001827697624308861431399538404552468712313829522630577767817531374612262253499813723569981496051353450351968993644643291035336065584116155321928452618573467361004489993801594806505273806498684433633838323916674207622468268867047187858269410016150838175127772100983052010703525089"
      ]
     },
     "execution_count": 5,
     "metadata": {},
     "output_type": "execute_result"
    }
   ],
   "source": [
    "17 ** 542"
   ]
  },
  {
   "cell_type": "markdown",
   "id": "c70d5041-4e4d-4d9d-9e64-6591c7523565",
   "metadata": {},
   "source": [
    "## Floats\n",
    "\n",
    "There exists a floating point type that is created when the variable has\n",
    "decimal values"
   ]
  },
  {
   "cell_type": "code",
   "execution_count": 6,
   "id": "c4af1133",
   "metadata": {
    "ExecuteTime": {
     "end_time": "2021-01-26T10:22:48.180478Z",
     "start_time": "2021-01-26T10:22:48.177424Z"
    },
    "slideshow": {
     "slide_type": "-"
    }
   },
   "outputs": [],
   "source": [
    "c = 2."
   ]
  },
  {
   "cell_type": "code",
   "execution_count": 7,
   "id": "c4c3859a",
   "metadata": {
    "ExecuteTime": {
     "end_time": "2021-01-26T10:22:48.386461Z",
     "start_time": "2021-01-26T10:22:48.381009Z"
    },
    "slideshow": {
     "slide_type": "-"
    }
   },
   "outputs": [
    {
     "data": {
      "text/plain": [
       "float"
      ]
     },
     "execution_count": 7,
     "metadata": {},
     "output_type": "execute_result"
    }
   ],
   "source": [
    "type(c)"
   ]
  },
  {
   "cell_type": "code",
   "execution_count": 8,
   "id": "3d856884",
   "metadata": {
    "ExecuteTime": {
     "end_time": "2021-01-26T10:22:53.303241Z",
     "start_time": "2021-01-26T10:22:53.298876Z"
    },
    "slideshow": {
     "slide_type": "fragment"
    }
   },
   "outputs": [
    {
     "data": {
      "text/plain": [
       "int"
      ]
     },
     "execution_count": 8,
     "metadata": {},
     "output_type": "execute_result"
    }
   ],
   "source": [
    "c = 2\n",
    "type(c)"
   ]
  },
  {
   "cell_type": "code",
   "execution_count": 9,
   "id": "4679bce0",
   "metadata": {
    "ExecuteTime": {
     "end_time": "2021-01-26T10:23:15.640321Z",
     "start_time": "2021-01-26T10:23:15.636205Z"
    },
    "slideshow": {
     "slide_type": "fragment"
    }
   },
   "outputs": [
    {
     "data": {
      "text/plain": [
       "0.5"
      ]
     },
     "execution_count": 9,
     "metadata": {},
     "output_type": "execute_result"
    }
   ],
   "source": [
    "truc = 1 / 2\n",
    "truc"
   ]
  },
  {
   "cell_type": "code",
   "execution_count": 10,
   "id": "1bb99eb1",
   "metadata": {
    "ExecuteTime": {
     "end_time": "2021-01-26T10:23:36.468643Z",
     "start_time": "2021-01-26T10:23:36.464148Z"
    }
   },
   "outputs": [
    {
     "data": {
      "text/plain": [
       "1"
      ]
     },
     "execution_count": 10,
     "metadata": {},
     "output_type": "execute_result"
    }
   ],
   "source": [
    "1 // 2 + 1 % 2"
   ]
  },
  {
   "cell_type": "code",
   "execution_count": 11,
   "id": "d8e4cdbd",
   "metadata": {
    "ExecuteTime": {
     "end_time": "2021-01-26T10:23:41.839969Z",
     "start_time": "2021-01-26T10:23:41.835363Z"
    },
    "slideshow": {
     "slide_type": "-"
    }
   },
   "outputs": [
    {
     "data": {
      "text/plain": [
       "float"
      ]
     },
     "execution_count": 11,
     "metadata": {},
     "output_type": "execute_result"
    }
   ],
   "source": [
    "type(truc)"
   ]
  },
  {
   "cell_type": "markdown",
   "id": "438b3343-1087-46f3-80e9-d53dac312867",
   "metadata": {},
   "source": [
    "## Boolean\n",
    "\n",
    "Similarly, boolean types are created from a comparison"
   ]
  },
  {
   "cell_type": "code",
   "execution_count": 12,
   "id": "5ee93e5f",
   "metadata": {
    "ExecuteTime": {
     "end_time": "2021-01-26T10:23:43.765175Z",
     "start_time": "2021-01-26T10:23:43.761701Z"
    },
    "slideshow": {
     "slide_type": "fragment"
    }
   },
   "outputs": [
    {
     "data": {
      "text/plain": [
       "False"
      ]
     },
     "execution_count": 12,
     "metadata": {},
     "output_type": "execute_result"
    }
   ],
   "source": [
    "test = 3 > 4\n",
    "test"
   ]
  },
  {
   "cell_type": "code",
   "execution_count": 13,
   "id": "88d0437c",
   "metadata": {
    "ExecuteTime": {
     "end_time": "2021-01-26T10:23:47.310818Z",
     "start_time": "2021-01-26T10:23:47.306145Z"
    },
    "slideshow": {
     "slide_type": "-"
    }
   },
   "outputs": [
    {
     "data": {
      "text/plain": [
       "bool"
      ]
     },
     "execution_count": 13,
     "metadata": {},
     "output_type": "execute_result"
    }
   ],
   "source": [
    "type(test)"
   ]
  },
  {
   "cell_type": "code",
   "execution_count": 14,
   "id": "c913d2e0",
   "metadata": {
    "ExecuteTime": {
     "end_time": "2021-01-26T10:23:48.899891Z",
     "start_time": "2021-01-26T10:23:48.895700Z"
    },
    "slideshow": {
     "slide_type": "fragment"
    }
   },
   "outputs": [
    {
     "data": {
      "text/plain": [
       "True"
      ]
     },
     "execution_count": 14,
     "metadata": {},
     "output_type": "execute_result"
    }
   ],
   "source": [
    "False == (not True)"
   ]
  },
  {
   "cell_type": "code",
   "execution_count": 15,
   "id": "067c54c6",
   "metadata": {
    "ExecuteTime": {
     "end_time": "2021-01-26T10:23:56.264231Z",
     "start_time": "2021-01-26T10:23:56.259609Z"
    },
    "slideshow": {
     "slide_type": "fragment"
    }
   },
   "outputs": [
    {
     "data": {
      "text/plain": [
       "True"
      ]
     },
     "execution_count": 15,
     "metadata": {},
     "output_type": "execute_result"
    }
   ],
   "source": [
    "1.41 < 2.71 and 2.71 < 3.14"
   ]
  },
  {
   "cell_type": "code",
   "execution_count": 16,
   "id": "0f01bf95",
   "metadata": {
    "ExecuteTime": {
     "end_time": "2021-01-26T10:24:06.450423Z",
     "start_time": "2021-01-26T10:24:06.446054Z"
    },
    "slideshow": {
     "slide_type": "-"
    }
   },
   "outputs": [
    {
     "data": {
      "text/plain": [
       "True"
      ]
     },
     "execution_count": 16,
     "metadata": {},
     "output_type": "execute_result"
    }
   ],
   "source": [
    "# It's equivalent to\n",
    "1.41 < 2.71 < 3.14"
   ]
  },
  {
   "cell_type": "markdown",
   "id": "643a15c1-578a-4d57-9dfb-50ca4365d874",
   "metadata": {},
   "source": [
    "## Type conversion (casting)"
   ]
  },
  {
   "cell_type": "code",
   "execution_count": 17,
   "id": "649e4391",
   "metadata": {
    "ExecuteTime": {
     "end_time": "2021-01-26T10:24:23.846051Z",
     "start_time": "2021-01-26T10:24:23.841709Z"
    },
    "slideshow": {
     "slide_type": "fragment"
    }
   },
   "outputs": [
    {
     "data": {
      "text/plain": [
       "int"
      ]
     },
     "execution_count": 17,
     "metadata": {},
     "output_type": "execute_result"
    }
   ],
   "source": [
    "a = 1\n",
    "type(a)"
   ]
  },
  {
   "cell_type": "code",
   "execution_count": 18,
   "id": "0c312e62",
   "metadata": {
    "ExecuteTime": {
     "end_time": "2021-01-26T10:24:24.566291Z",
     "start_time": "2021-01-26T10:24:24.561510Z"
    },
    "slideshow": {
     "slide_type": "-"
    }
   },
   "outputs": [
    {
     "data": {
      "text/plain": [
       "float"
      ]
     },
     "execution_count": 18,
     "metadata": {},
     "output_type": "execute_result"
    }
   ],
   "source": [
    "b = float(a)\n",
    "type(b)"
   ]
  },
  {
   "cell_type": "code",
   "execution_count": 19,
   "id": "29061a76",
   "metadata": {
    "ExecuteTime": {
     "end_time": "2021-01-26T10:24:44.986299Z",
     "start_time": "2021-01-26T10:24:44.981939Z"
    },
    "slideshow": {
     "slide_type": "-"
    }
   },
   "outputs": [
    {
     "data": {
      "text/plain": [
       "'1.0'"
      ]
     },
     "execution_count": 19,
     "metadata": {},
     "output_type": "execute_result"
    }
   ],
   "source": [
    "str(b)"
   ]
  },
  {
   "cell_type": "code",
   "execution_count": 20,
   "id": "8327dde4",
   "metadata": {
    "ExecuteTime": {
     "end_time": "2021-01-26T10:24:52.865090Z",
     "start_time": "2021-01-26T10:24:52.860248Z"
    },
    "slideshow": {
     "slide_type": "fragment"
    }
   },
   "outputs": [
    {
     "data": {
      "text/plain": [
       "True"
      ]
     },
     "execution_count": 20,
     "metadata": {},
     "output_type": "execute_result"
    }
   ],
   "source": [
    "bool(b)\n",
    "# All non-zero, non empty objects are casted to boolean as True (more later)"
   ]
  },
  {
   "cell_type": "code",
   "execution_count": 21,
   "id": "ee454e5c",
   "metadata": {
    "ExecuteTime": {
     "end_time": "2021-01-26T10:24:59.506191Z",
     "start_time": "2021-01-26T10:24:59.502013Z"
    },
    "slideshow": {
     "slide_type": "-"
    }
   },
   "outputs": [
    {
     "data": {
      "text/plain": [
       "False"
      ]
     },
     "execution_count": 21,
     "metadata": {},
     "output_type": "execute_result"
    }
   ],
   "source": [
    "bool(1-1)"
   ]
  },
  {
   "cell_type": "markdown",
   "id": "8d079a76-7835-43d2-a1ef-accba6fe57a4",
   "metadata": {},
   "source": [
    "# Containers\n",
    "\n",
    "Python provides many efficient types of *containers* or *sequences*, in\n",
    "which collections of objects can be stored.\n",
    "\n",
    "The main ones are `list`, `tuple`, `set` and `dict` (but there are many\n",
    "others…)\n",
    "\n",
    "## Tuples"
   ]
  },
  {
   "cell_type": "code",
   "execution_count": 22,
   "id": "8d8cd74a",
   "metadata": {
    "ExecuteTime": {
     "end_time": "2021-01-26T10:27:14.513637Z",
     "start_time": "2021-01-26T10:27:14.509638Z"
    },
    "slideshow": {
     "slide_type": "fragment"
    }
   },
   "outputs": [
    {
     "data": {
      "text/plain": [
       "('truc', 3.14, 'truc')"
      ]
     },
     "execution_count": 22,
     "metadata": {},
     "output_type": "execute_result"
    }
   ],
   "source": [
    "tt = 'truc', 3.14, \"truc\"\n",
    "tt"
   ]
  },
  {
   "cell_type": "code",
   "execution_count": 23,
   "id": "d7ae6b22",
   "metadata": {
    "ExecuteTime": {
     "end_time": "2021-01-26T10:27:18.172578Z",
     "start_time": "2021-01-26T10:27:18.168425Z"
    },
    "slideshow": {
     "slide_type": "-"
    }
   },
   "outputs": [
    {
     "data": {
      "text/plain": [
       "'truc'"
      ]
     },
     "execution_count": 23,
     "metadata": {},
     "output_type": "execute_result"
    }
   ],
   "source": [
    "tt[0]"
   ]
  },
  {
   "cell_type": "markdown",
   "id": "d40ef90c-b5b1-48ab-9648-1d6ef921b0c9",
   "metadata": {},
   "source": [
    "You can’t change a tuple, we say that it’s *immutable*"
   ]
  },
  {
   "cell_type": "code",
   "execution_count": 24,
   "id": "af41a2e1",
   "metadata": {
    "ExecuteTime": {
     "end_time": "2021-01-26T10:28:02.315034Z",
     "start_time": "2021-01-26T10:28:02.306507Z"
    },
    "slideshow": {
     "slide_type": "-"
    }
   },
   "outputs": [
    {
     "name": "stdout",
     "output_type": "stream",
     "text": [
      "TypeError: 'tuple' object does not support item assignment\n"
     ]
    }
   ],
   "source": [
    "try:\n",
    "    tt[0] = 1\n",
    "except TypeError:\n",
    "    print(f\"TypeError: 'tuple' object does not support item assignment\")"
   ]
  },
  {
   "cell_type": "markdown",
   "id": "818da8fe-22b9-47fa-b26a-5579ff778c33",
   "metadata": {},
   "source": [
    "Three ways of doing the same thing"
   ]
  },
  {
   "cell_type": "code",
   "execution_count": 25,
   "id": "93e8cbb6",
   "metadata": {
    "ExecuteTime": {
     "end_time": "2021-01-26T10:28:15.173558Z",
     "start_time": "2021-01-26T10:28:15.169603Z"
    },
    "slideshow": {
     "slide_type": "-"
    }
   },
   "outputs": [
    {
     "data": {
      "text/plain": [
       "(1, 2, 3)"
      ]
     },
     "execution_count": 25,
     "metadata": {},
     "output_type": "execute_result"
    }
   ],
   "source": [
    "# Method 1\n",
    "tuple([1, 2, 3])"
   ]
  },
  {
   "cell_type": "code",
   "execution_count": 26,
   "id": "c7170bef",
   "metadata": {
    "ExecuteTime": {
     "end_time": "2021-01-26T10:28:18.262396Z",
     "start_time": "2021-01-26T10:28:18.257807Z"
    },
    "slideshow": {
     "slide_type": "-"
    }
   },
   "outputs": [
    {
     "data": {
      "text/plain": [
       "(1, 2, 3)"
      ]
     },
     "execution_count": 26,
     "metadata": {},
     "output_type": "execute_result"
    }
   ],
   "source": [
    "# Method 2\n",
    "1, 2, 3"
   ]
  },
  {
   "cell_type": "code",
   "execution_count": 27,
   "id": "1e51b63c",
   "metadata": {
    "ExecuteTime": {
     "end_time": "2021-01-26T10:28:32.225077Z",
     "start_time": "2021-01-26T10:28:32.219931Z"
    },
    "slideshow": {
     "slide_type": "-"
    }
   },
   "outputs": [
    {
     "data": {
      "text/plain": [
       "(1, 2, 3)"
      ]
     },
     "execution_count": 27,
     "metadata": {},
     "output_type": "execute_result"
    }
   ],
   "source": [
    "# Method 3\n",
    "(1, 2, 3)"
   ]
  },
  {
   "cell_type": "markdown",
   "id": "7fb72729-78b3-49cb-8ee7-c8b56325df5f",
   "metadata": {},
   "source": [
    "**Simpler is better in Python**, so usually you want to use Method 2."
   ]
  },
  {
   "cell_type": "code",
   "execution_count": 28,
   "id": "1693f9b0",
   "metadata": {
    "ExecuteTime": {
     "end_time": "2021-01-26T10:28:35.028409Z",
     "start_time": "2021-01-26T10:28:35.023677Z"
    },
    "slideshow": {
     "slide_type": "fragment"
    }
   },
   "outputs": [
    {
     "data": {
      "text/plain": [
       "(1, 2, 3)"
      ]
     },
     "execution_count": 28,
     "metadata": {},
     "output_type": "execute_result"
    }
   ],
   "source": [
    "toto = 1, 2, 3\n",
    "toto"
   ]
  },
  {
   "cell_type": "markdown",
   "id": "c5b99a02-5396-4e15-91f6-1c0c30364372",
   "metadata": {},
   "source": [
    "-   This is serious !\n",
    "\n",
    "## The Zen of Python easter’s egg"
   ]
  },
  {
   "cell_type": "code",
   "execution_count": 29,
   "id": "4d159421",
   "metadata": {
    "ExecuteTime": {
     "end_time": "2021-01-26T10:28:41.814008Z",
     "start_time": "2021-01-26T10:28:41.805313Z"
    },
    "slideshow": {
     "slide_type": "-"
    }
   },
   "outputs": [
    {
     "name": "stdout",
     "output_type": "stream",
     "text": [
      "The Zen of Python, by Tim Peters\n",
      "\n",
      "Beautiful is better than ugly.\n",
      "Explicit is better than implicit.\n",
      "Simple is better than complex.\n",
      "Complex is better than complicated.\n",
      "Flat is better than nested.\n",
      "Sparse is better than dense.\n",
      "Readability counts.\n",
      "Special cases aren't special enough to break the rules.\n",
      "Although practicality beats purity.\n",
      "Errors should never pass silently.\n",
      "Unless explicitly silenced.\n",
      "In the face of ambiguity, refuse the temptation to guess.\n",
      "There should be one-- and preferably only one --obvious way to do it.\n",
      "Although that way may not be obvious at first unless you're Dutch.\n",
      "Now is better than never.\n",
      "Although never is often better than *right* now.\n",
      "If the implementation is hard to explain, it's a bad idea.\n",
      "If the implementation is easy to explain, it may be a good idea.\n",
      "Namespaces are one honking great idea -- let's do more of those!\n"
     ]
    }
   ],
   "source": [
    "import this"
   ]
  },
  {
   "cell_type": "markdown",
   "id": "493950da-d3a7-493b-839d-d6ea9552bf2a",
   "metadata": {},
   "source": [
    "## Lists\n",
    "\n",
    "A list is an ordered collection of objects. These objects may have\n",
    "different types. For example:"
   ]
  },
  {
   "cell_type": "code",
   "execution_count": 30,
   "id": "2048860d",
   "metadata": {
    "ExecuteTime": {
     "end_time": "2021-01-26T10:28:56.683616Z",
     "start_time": "2021-01-26T10:28:56.680383Z"
    },
    "slideshow": {
     "slide_type": "-"
    }
   },
   "outputs": [],
   "source": [
    "colors = ['red', 'blue', 'green', 'black', 'white']"
   ]
  },
  {
   "cell_type": "code",
   "execution_count": 31,
   "id": "8835d989",
   "metadata": {
    "ExecuteTime": {
     "end_time": "2021-01-26T10:29:21.606351Z",
     "start_time": "2021-01-26T10:29:21.601561Z"
    }
   },
   "outputs": [
    {
     "data": {
      "text/plain": [
       "'red'"
      ]
     },
     "execution_count": 31,
     "metadata": {},
     "output_type": "execute_result"
    }
   ],
   "source": [
    "colors[0]"
   ]
  },
  {
   "cell_type": "code",
   "execution_count": 32,
   "id": "7acf1143",
   "metadata": {
    "ExecuteTime": {
     "end_time": "2021-01-26T10:29:07.632451Z",
     "start_time": "2021-01-26T10:29:07.627681Z"
    },
    "slideshow": {
     "slide_type": "-"
    }
   },
   "outputs": [
    {
     "data": {
      "text/plain": [
       "list"
      ]
     },
     "execution_count": 32,
     "metadata": {},
     "output_type": "execute_result"
    }
   ],
   "source": [
    "type(colors)"
   ]
  },
  {
   "cell_type": "markdown",
   "id": "23f4aa84-f31d-412a-9637-deb96bb74314",
   "metadata": {},
   "source": [
    "*Indexing:* accessing individual objects contained in the list by their\n",
    "position"
   ]
  },
  {
   "cell_type": "code",
   "execution_count": 33,
   "id": "2cd50b45",
   "metadata": {
    "ExecuteTime": {
     "end_time": "2021-01-26T10:29:24.838416Z",
     "start_time": "2021-01-26T10:29:24.833616Z"
    },
    "slideshow": {
     "slide_type": "-"
    }
   },
   "outputs": [
    {
     "data": {
      "text/plain": [
       "'green'"
      ]
     },
     "execution_count": 33,
     "metadata": {},
     "output_type": "execute_result"
    }
   ],
   "source": [
    "colors[2]"
   ]
  },
  {
   "cell_type": "code",
   "execution_count": 34,
   "id": "eaed6f6b",
   "metadata": {
    "ExecuteTime": {
     "end_time": "2021-01-26T10:29:25.132251Z",
     "start_time": "2021-01-26T10:29:25.124359Z"
    },
    "slideshow": {
     "slide_type": "-"
    }
   },
   "outputs": [
    {
     "data": {
      "text/plain": [
       "['red', 'blue', 3.14, 'black', 'white']"
      ]
     },
     "execution_count": 34,
     "metadata": {},
     "output_type": "execute_result"
    }
   ],
   "source": [
    "colors[2] = 3.14\n",
    "colors"
   ]
  },
  {
   "cell_type": "markdown",
   "id": "6475e1f6-0681-44c4-88d2-28d2fa8595de",
   "metadata": {},
   "source": [
    "> **Warning**\n",
    ">\n",
    "> For any *iterable* object in Python, indexing *starts at 0* (as in C),\n",
    "> not at 1 (as in Fortran, R, or Matlab).\n",
    "\n",
    "Counting from the end with negative indices:"
   ]
  },
  {
   "cell_type": "code",
   "execution_count": 35,
   "id": "e59cfc18",
   "metadata": {
    "ExecuteTime": {
     "end_time": "2021-01-26T10:29:44.258856Z",
     "start_time": "2021-01-26T10:29:44.254238Z"
    },
    "slideshow": {
     "slide_type": "-"
    }
   },
   "outputs": [
    {
     "data": {
      "text/plain": [
       "'white'"
      ]
     },
     "execution_count": 35,
     "metadata": {},
     "output_type": "execute_result"
    }
   ],
   "source": [
    "colors[-1]"
   ]
  },
  {
   "cell_type": "markdown",
   "id": "ec908f4f-ea59-4951-81ef-f581159c8810",
   "metadata": {},
   "source": [
    "Index must remain in the range of the list"
   ]
  },
  {
   "cell_type": "code",
   "execution_count": 36,
   "id": "80bbb96d",
   "metadata": {
    "ExecuteTime": {
     "end_time": "2021-01-26T10:29:47.674912Z",
     "start_time": "2021-01-26T10:29:47.666346Z"
    },
    "slideshow": {
     "slide_type": "-"
    }
   },
   "outputs": [
    {
     "name": "stdout",
     "output_type": "stream",
     "text": [
      "IndexError: 10 >= 5 ==len(colors), index out of range \n"
     ]
    }
   ],
   "source": [
    "try:\n",
    "    colors[10]\n",
    "except IndexError:\n",
    "    print(f\"IndexError: 10 >= {len(colors)} ==len(colors), index out of range \")"
   ]
  },
  {
   "cell_type": "code",
   "execution_count": 37,
   "id": "ab71dafc",
   "metadata": {
    "ExecuteTime": {
     "end_time": "2021-01-26T10:30:01.912160Z",
     "start_time": "2021-01-26T10:30:01.907265Z"
    },
    "slideshow": {
     "slide_type": "subslide"
    }
   },
   "outputs": [
    {
     "data": {
      "text/plain": [
       "['red', 'blue', 3.14, 'black', 'white']"
      ]
     },
     "execution_count": 37,
     "metadata": {},
     "output_type": "execute_result"
    }
   ],
   "source": [
    "colors"
   ]
  },
  {
   "cell_type": "code",
   "execution_count": 38,
   "id": "65c0a11d",
   "metadata": {
    "ExecuteTime": {
     "end_time": "2021-01-26T10:30:02.143331Z",
     "start_time": "2021-01-26T10:30:02.137270Z"
    }
   },
   "outputs": [
    {
     "data": {
      "text/plain": [
       "('truc', 3.14, 'truc')"
      ]
     },
     "execution_count": 38,
     "metadata": {},
     "output_type": "execute_result"
    }
   ],
   "source": [
    "tt"
   ]
  },
  {
   "cell_type": "code",
   "execution_count": 39,
   "id": "aaf6fc72",
   "metadata": {
    "ExecuteTime": {
     "end_time": "2021-01-26T10:30:34.000220Z",
     "start_time": "2021-01-26T10:30:33.995039Z"
    },
    "slideshow": {
     "slide_type": "-"
    }
   },
   "outputs": [
    {
     "data": {
      "text/plain": [
       "['red', 'blue', 3.14, 'black', 'white', ('truc', 3.14, 'truc')]"
      ]
     },
     "execution_count": 39,
     "metadata": {},
     "output_type": "execute_result"
    }
   ],
   "source": [
    "colors.append(tt)\n",
    "colors"
   ]
  },
  {
   "cell_type": "code",
   "execution_count": 40,
   "id": "ac4bad5a",
   "metadata": {
    "ExecuteTime": {
     "end_time": "2021-01-26T10:30:47.434827Z",
     "start_time": "2021-01-26T10:30:47.429744Z"
    },
    "slideshow": {
     "slide_type": "-"
    }
   },
   "outputs": [
    {
     "data": {
      "text/plain": [
       "6"
      ]
     },
     "execution_count": 40,
     "metadata": {},
     "output_type": "execute_result"
    }
   ],
   "source": [
    "len(colors)"
   ]
  },
  {
   "cell_type": "code",
   "execution_count": 41,
   "id": "0f34fe73",
   "metadata": {
    "ExecuteTime": {
     "end_time": "2021-01-26T10:30:52.949200Z",
     "start_time": "2021-01-26T10:30:52.944225Z"
    }
   },
   "outputs": [
    {
     "data": {
      "text/plain": [
       "3"
      ]
     },
     "execution_count": 41,
     "metadata": {},
     "output_type": "execute_result"
    }
   ],
   "source": [
    "len(tt)"
   ]
  },
  {
   "cell_type": "markdown",
   "id": "1fd59573-8a77-404c-9662-1a9bb10a8835",
   "metadata": {},
   "source": [
    "## Slicing: obtaining sublists of regularly-spaced elements\n",
    "\n",
    "This work with anything iterable whenever it makes sense (`list`, `str`,\n",
    "`tuple`, etc.)"
   ]
  },
  {
   "cell_type": "code",
   "execution_count": 42,
   "id": "da0c0431",
   "metadata": {
    "ExecuteTime": {
     "end_time": "2021-01-26T10:30:59.895713Z",
     "start_time": "2021-01-26T10:30:59.890434Z"
    },
    "slideshow": {
     "slide_type": "fragment"
    }
   },
   "outputs": [
    {
     "data": {
      "text/plain": [
       "['red', 'blue', 3.14, 'black', 'white', ('truc', 3.14, 'truc')]"
      ]
     },
     "execution_count": 42,
     "metadata": {},
     "output_type": "execute_result"
    }
   ],
   "source": [
    "colors"
   ]
  },
  {
   "cell_type": "code",
   "execution_count": 43,
   "id": "0b970cb2",
   "metadata": {
    "ExecuteTime": {
     "end_time": "2021-01-26T10:31:26.118892Z",
     "start_time": "2021-01-26T10:31:26.113811Z"
    },
    "slideshow": {
     "slide_type": "-"
    }
   },
   "outputs": [
    {
     "data": {
      "text/plain": [
       "[('truc', 3.14, 'truc'), 'white', 'black', 3.14, 'blue', 'red']"
      ]
     },
     "execution_count": 43,
     "metadata": {},
     "output_type": "execute_result"
    }
   ],
   "source": [
    "list(reversed(colors))"
   ]
  },
  {
   "cell_type": "code",
   "execution_count": 44,
   "id": "f8460a92",
   "metadata": {
    "ExecuteTime": {
     "end_time": "2021-01-26T10:32:55.756965Z",
     "start_time": "2021-01-26T10:32:55.752090Z"
    },
    "slideshow": {
     "slide_type": "-"
    }
   },
   "outputs": [
    {
     "data": {
      "text/plain": [
       "[('truc', 3.14, 'truc'), 'white', 'black', 3.14, 'blue', 'red']"
      ]
     },
     "execution_count": 44,
     "metadata": {},
     "output_type": "execute_result"
    }
   ],
   "source": [
    "colors[::-1]"
   ]
  },
  {
   "cell_type": "markdown",
   "id": "990911fd-bd9f-4924-a65b-e7dbe7959a87",
   "metadata": {},
   "source": [
    "> **Slicing syntax:**\n",
    ">\n",
    "> `colors[start:stop:stride]`\n",
    ">\n",
    "> `start, stop, stride` are optional, with default values\n",
    "> `0, len(sequence), 1`\n",
    "\n",
    "l"
   ]
  },
  {
   "cell_type": "code",
   "execution_count": 45,
   "id": "14a90eee",
   "metadata": {},
   "outputs": [
    {
     "name": "stdout",
     "output_type": "stream",
     "text": [
      "slice(None, 4, None)\n",
      "slice(1, 5, None)\n",
      "slice(None, 13, 3)\n"
     ]
    }
   ],
   "source": [
    "print(slice(4))\n",
    "print(slice(1,5))\n",
    "print(slice(None,13,3))"
   ]
  },
  {
   "cell_type": "code",
   "execution_count": 46,
   "id": "4698e8cb",
   "metadata": {},
   "outputs": [
    {
     "data": {
      "text/plain": [
       "['blue', 'black']"
      ]
     },
     "execution_count": 46,
     "metadata": {},
     "output_type": "execute_result"
    }
   ],
   "source": [
    "sl = slice(1,5,2)\n",
    "colors[sl]"
   ]
  },
  {
   "cell_type": "code",
   "execution_count": 47,
   "id": "1ff0b0cb",
   "metadata": {
    "ExecuteTime": {
     "end_time": "2021-01-15T08:34:10.985959Z",
     "start_time": "2021-01-15T08:34:10.980519Z"
    },
    "slideshow": {
     "slide_type": "subslide"
    }
   },
   "outputs": [
    {
     "data": {
      "text/plain": [
       "['red', 'blue', 3.14, 'black', 'white', ('truc', 3.14, 'truc')]"
      ]
     },
     "execution_count": 47,
     "metadata": {},
     "output_type": "execute_result"
    }
   ],
   "source": [
    "colors"
   ]
  },
  {
   "cell_type": "code",
   "execution_count": 48,
   "id": "945bd485",
   "metadata": {
    "ExecuteTime": {
     "end_time": "2021-01-15T08:34:11.188011Z",
     "start_time": "2021-01-15T08:34:11.182382Z"
    },
    "slideshow": {
     "slide_type": "-"
    }
   },
   "outputs": [
    {
     "data": {
      "text/plain": [
       "['black', 'white', ('truc', 3.14, 'truc')]"
      ]
     },
     "execution_count": 48,
     "metadata": {},
     "output_type": "execute_result"
    }
   ],
   "source": [
    "colors[3:]"
   ]
  },
  {
   "cell_type": "code",
   "execution_count": 49,
   "id": "ca11bec6",
   "metadata": {
    "ExecuteTime": {
     "end_time": "2021-01-15T08:34:11.462017Z",
     "start_time": "2021-01-15T08:34:11.457005Z"
    },
    "slideshow": {
     "slide_type": "-"
    }
   },
   "outputs": [
    {
     "data": {
      "text/plain": [
       "['red', 'blue', 3.14]"
      ]
     },
     "execution_count": 49,
     "metadata": {},
     "output_type": "execute_result"
    }
   ],
   "source": [
    "colors[:3]"
   ]
  },
  {
   "cell_type": "code",
   "execution_count": 50,
   "id": "06d2d855",
   "metadata": {
    "ExecuteTime": {
     "end_time": "2021-01-15T08:34:11.666073Z",
     "start_time": "2021-01-15T08:34:11.661006Z"
    },
    "slideshow": {
     "slide_type": "-"
    }
   },
   "outputs": [
    {
     "data": {
      "text/plain": [
       "['blue', 'black', ('truc', 3.14, 'truc')]"
      ]
     },
     "execution_count": 50,
     "metadata": {},
     "output_type": "execute_result"
    }
   ],
   "source": [
    "colors[1::2]"
   ]
  },
  {
   "cell_type": "code",
   "execution_count": 51,
   "id": "4b679f4d",
   "metadata": {
    "ExecuteTime": {
     "end_time": "2021-01-15T08:34:11.892685Z",
     "start_time": "2021-01-15T08:34:11.886394Z"
    },
    "slideshow": {
     "slide_type": "-"
    }
   },
   "outputs": [
    {
     "data": {
      "text/plain": [
       "[('truc', 3.14, 'truc'), 'white', 'black', 3.14, 'blue', 'red']"
      ]
     },
     "execution_count": 51,
     "metadata": {},
     "output_type": "execute_result"
    }
   ],
   "source": [
    "colors[::-1]"
   ]
  },
  {
   "cell_type": "markdown",
   "id": "fa39abe7-ac86-4f87-a079-0f8805e79f58",
   "metadata": {},
   "source": [
    "## Strings\n",
    "\n",
    "Different string syntaxes (simple, double or triple quotes):"
   ]
  },
  {
   "cell_type": "code",
   "execution_count": 52,
   "id": "241364f1",
   "metadata": {
    "ExecuteTime": {
     "end_time": "2021-01-15T08:34:12.527044Z",
     "start_time": "2021-01-15T08:34:12.522242Z"
    },
    "slideshow": {
     "slide_type": "fragment"
    }
   },
   "outputs": [
    {
     "data": {
      "text/plain": [
       "str"
      ]
     },
     "execution_count": 52,
     "metadata": {},
     "output_type": "execute_result"
    }
   ],
   "source": [
    "s = 'tintin'\n",
    "type(s)"
   ]
  },
  {
   "cell_type": "code",
   "execution_count": 53,
   "id": "5ab7714a",
   "metadata": {
    "ExecuteTime": {
     "end_time": "2021-01-15T08:34:12.741025Z",
     "start_time": "2021-01-15T08:34:12.735783Z"
    },
    "slideshow": {
     "slide_type": "-"
    }
   },
   "outputs": [
    {
     "data": {
      "text/plain": [
       "'tintin'"
      ]
     },
     "execution_count": 53,
     "metadata": {},
     "output_type": "execute_result"
    }
   ],
   "source": [
    "s"
   ]
  },
  {
   "cell_type": "code",
   "execution_count": 54,
   "id": "d04c0560",
   "metadata": {
    "ExecuteTime": {
     "end_time": "2021-01-15T08:34:12.954647Z",
     "start_time": "2021-01-15T08:34:12.948403Z"
    },
    "slideshow": {
     "slide_type": "fragment"
    }
   },
   "outputs": [
    {
     "data": {
      "text/plain": [
       "\"         Bonjour,\\nJe m'appelle Stephane.\\nJe vous souhaite une bonne journée.\\nSalut.       \\n\""
      ]
     },
     "execution_count": 54,
     "metadata": {},
     "output_type": "execute_result"
    }
   ],
   "source": [
    "s = \"\"\"         Bonjour,\n",
    "Je m'appelle Stephane.\n",
    "Je vous souhaite une bonne journée.\n",
    "Salut.       \n",
    "\"\"\"\n",
    "s"
   ]
  },
  {
   "cell_type": "code",
   "execution_count": 55,
   "id": "7fd1f536",
   "metadata": {
    "ExecuteTime": {
     "end_time": "2021-01-15T08:34:13.096374Z",
     "start_time": "2021-01-15T08:34:13.091122Z"
    },
    "slideshow": {
     "slide_type": "-"
    }
   },
   "outputs": [
    {
     "data": {
      "text/plain": [
       "\"Bonjour,\\nJe m'appelle Stephane.\\nJe vous souhaite une bonne journée.\\nSalut.\""
      ]
     },
     "execution_count": 55,
     "metadata": {},
     "output_type": "execute_result"
    }
   ],
   "source": [
    "s.strip()"
   ]
  },
  {
   "cell_type": "code",
   "execution_count": 56,
   "id": "503e4cdd",
   "metadata": {
    "ExecuteTime": {
     "end_time": "2021-01-15T08:34:13.378652Z",
     "start_time": "2021-01-15T08:34:13.372858Z"
    },
    "slideshow": {
     "slide_type": "subslide"
    }
   },
   "outputs": [
    {
     "name": "stdout",
     "output_type": "stream",
     "text": [
      "Bonjour,\n",
      "Je m'appelle Stephane.\n",
      "Je vous souhaite une bonne journée.\n",
      "Salut.\n"
     ]
    }
   ],
   "source": [
    "print(s.strip())"
   ]
  },
  {
   "cell_type": "code",
   "execution_count": 57,
   "id": "86ed236c",
   "metadata": {
    "ExecuteTime": {
     "end_time": "2021-01-15T08:34:13.455410Z",
     "start_time": "2021-01-15T08:34:13.449943Z"
    },
    "slideshow": {
     "slide_type": "-"
    }
   },
   "outputs": [
    {
     "data": {
      "text/plain": [
       "91"
      ]
     },
     "execution_count": 57,
     "metadata": {},
     "output_type": "execute_result"
    }
   ],
   "source": [
    "len(s)"
   ]
  },
  {
   "cell_type": "code",
   "execution_count": 58,
   "id": "2362aef7",
   "metadata": {
    "ExecuteTime": {
     "end_time": "2021-01-15T08:34:14.309647Z",
     "start_time": "2021-01-15T08:34:14.304154Z"
    },
    "slideshow": {
     "slide_type": "fragment"
    }
   },
   "outputs": [
    {
     "data": {
      "text/plain": [
       "['B', 'o', 'n', 'j', 'o', 'u', 'r', ',', '\\n', 'J', 'e', ' ', 'm', \"'\", 'a']"
      ]
     },
     "execution_count": 58,
     "metadata": {},
     "output_type": "execute_result"
    }
   ],
   "source": [
    "# Casting to a list\n",
    "list(s.strip()[:15])"
   ]
  },
  {
   "cell_type": "code",
   "execution_count": 59,
   "id": "cff131c8",
   "metadata": {
    "ExecuteTime": {
     "end_time": "2021-01-15T08:34:14.523496Z",
     "start_time": "2021-01-15T08:34:14.518586Z"
    },
    "slideshow": {
     "slide_type": "fragment"
    }
   },
   "outputs": [
    {
     "name": "stdout",
     "output_type": "stream",
     "text": [
      "BonjourBonjour\n",
      "Hello all\n"
     ]
    }
   ],
   "source": [
    "# Arithmetics\n",
    "print('Bonjour' * 2)\n",
    "print('Hello' + ' all')"
   ]
  },
  {
   "cell_type": "code",
   "execution_count": 60,
   "id": "b8bfdb98",
   "metadata": {
    "ExecuteTime": {
     "end_time": "2021-01-15T08:34:15.160961Z",
     "start_time": "2021-01-15T08:34:15.155909Z"
    },
    "slideshow": {
     "slide_type": "-"
    }
   },
   "outputs": [
    {
     "data": {
      "text/plain": [
       "'abcde'"
      ]
     },
     "execution_count": 60,
     "metadata": {},
     "output_type": "execute_result"
    }
   ],
   "source": [
    "sss = 'A'\n",
    "sss += 'bc'\n",
    "sss += 'dE'\n",
    "sss.lower()"
   ]
  },
  {
   "cell_type": "code",
   "execution_count": 61,
   "id": "8cd9a09b",
   "metadata": {
    "ExecuteTime": {
     "end_time": "2021-01-15T08:34:15.363145Z",
     "start_time": "2021-01-15T08:34:15.357847Z"
    },
    "slideshow": {
     "slide_type": "subslide"
    }
   },
   "outputs": [
    {
     "name": "stdout",
     "output_type": "stream",
     "text": [
      "Bonjour,\n",
      "Jepha\n"
     ]
    }
   ],
   "source": [
    "ss = s.strip()\n",
    "print(ss[:10] + ss[24:28])"
   ]
  },
  {
   "cell_type": "code",
   "execution_count": 62,
   "id": "e984d9bb",
   "metadata": {},
   "outputs": [
    {
     "data": {
      "text/plain": [
       "\"Bonjour,\\nJe m'appelle Stephane.\\nJe vous souhaite une bonne journée.\\nSalut.\""
      ]
     },
     "execution_count": 62,
     "metadata": {},
     "output_type": "execute_result"
    }
   ],
   "source": [
    "s.strip()"
   ]
  },
  {
   "cell_type": "code",
   "execution_count": 63,
   "id": "828a96ce",
   "metadata": {
    "ExecuteTime": {
     "end_time": "2021-01-15T08:34:15.594172Z",
     "start_time": "2021-01-15T08:34:15.588495Z"
    },
    "slideshow": {
     "slide_type": "-"
    }
   },
   "outputs": [
    {
     "data": {
      "text/plain": [
       "['Bonjour,',\n",
       " \"Je m'appelle Stephane.\",\n",
       " 'Je vous souhaite une bonne journée.',\n",
       " 'Salut.']"
      ]
     },
     "execution_count": 63,
     "metadata": {},
     "output_type": "execute_result"
    }
   ],
   "source": [
    "s.strip().split('\\n')"
   ]
  },
  {
   "cell_type": "code",
   "execution_count": 64,
   "id": "6de774f4",
   "metadata": {
    "ExecuteTime": {
     "end_time": "2021-01-15T08:34:17.689813Z",
     "start_time": "2021-01-15T08:34:17.684346Z"
    },
    "slideshow": {
     "slide_type": "-"
    }
   },
   "outputs": [
    {
     "data": {
      "text/plain": [
       "'   BjrJmpl ea.eo ui eoeon.at  \\n'"
      ]
     },
     "execution_count": 64,
     "metadata": {},
     "output_type": "execute_result"
    }
   ],
   "source": [
    "s[::3]"
   ]
  },
  {
   "cell_type": "code",
   "execution_count": 65,
   "id": "eb63c790",
   "metadata": {
    "ExecuteTime": {
     "end_time": "2021-01-15T08:34:23.785045Z",
     "start_time": "2021-01-15T08:34:23.779973Z"
    },
    "slideshow": {
     "slide_type": "-"
    }
   },
   "outputs": [
    {
     "data": {
      "text/plain": [
       "'      B'"
      ]
     },
     "execution_count": 65,
     "metadata": {},
     "output_type": "execute_result"
    }
   ],
   "source": [
    "s[3:10]"
   ]
  },
  {
   "cell_type": "code",
   "execution_count": 66,
   "id": "8ff0e6e0",
   "metadata": {
    "ExecuteTime": {
     "end_time": "2021-01-15T08:34:23.993089Z",
     "start_time": "2021-01-15T08:34:23.987450Z"
    },
    "slideshow": {
     "slide_type": "fragment"
    }
   },
   "outputs": [
    {
     "data": {
      "text/plain": [
       "\"Il fait super beau aujourd'hui\""
      ]
     },
     "execution_count": 66,
     "metadata": {},
     "output_type": "execute_result"
    }
   ],
   "source": [
    "\" \".join(['Il', 'fait', 'super', 'beau', \"aujourd'hui\"])"
   ]
  },
  {
   "cell_type": "markdown",
   "id": "70f0515c-2151-4f11-a712-db90d06560da",
   "metadata": {},
   "source": [
    "Chaining method calls is the basic of pipeline building."
   ]
  },
  {
   "cell_type": "code",
   "execution_count": 67,
   "id": "f3c2efcb",
   "metadata": {},
   "outputs": [
    {
     "data": {
      "text/plain": [
       "'IlFaitSuperBeauAujourdHui'"
      ]
     },
     "execution_count": 67,
     "metadata": {},
     "output_type": "execute_result"
    }
   ],
   "source": [
    "( \n",
    "    \" \".join(['Il', 'fait', 'super', 'beau', \"aujourd'hui\"])\n",
    "       .title()\n",
    "       .replace(' ', '')\n",
    "       .replace(\"'\",\"\")\n",
    ")"
   ]
  },
  {
   "cell_type": "markdown",
   "id": "1c1040d4-3803-4860-9052-e29747e35c1e",
   "metadata": {},
   "source": [
    "### Important\n",
    "\n",
    "A string is *immutable* !!"
   ]
  },
  {
   "cell_type": "code",
   "execution_count": 68,
   "id": "5311622d",
   "metadata": {
    "ExecuteTime": {
     "end_time": "2021-01-15T08:34:24.332754Z",
     "start_time": "2021-01-15T08:34:24.329558Z"
    },
    "slideshow": {
     "slide_type": "-"
    }
   },
   "outputs": [],
   "source": [
    "s = 'I am an immutable guy'"
   ]
  },
  {
   "cell_type": "code",
   "execution_count": 69,
   "id": "fa25adc2",
   "metadata": {
    "ExecuteTime": {
     "end_time": "2021-01-15T08:34:24.511029Z",
     "start_time": "2021-01-15T08:34:24.499601Z"
    },
    "slideshow": {
     "slide_type": "-"
    }
   },
   "outputs": [
    {
     "name": "stdout",
     "output_type": "stream",
     "text": [
      "Strings are immutable! s is still 'I am an immutable guy'\n"
     ]
    }
   ],
   "source": [
    "try:  \n",
    "    s[2] = 's'\n",
    "except TypeError:\n",
    "    print(f\"Strings are immutable! s is still '{s}'\")"
   ]
  },
  {
   "cell_type": "code",
   "execution_count": 70,
   "id": "4822e915",
   "metadata": {
    "ExecuteTime": {
     "end_time": "2021-01-15T08:34:24.732120Z",
     "start_time": "2021-01-15T08:34:24.725628Z"
    },
    "slideshow": {
     "slide_type": "fragment"
    }
   },
   "outputs": [
    {
     "data": {
      "text/plain": [
       "136377566125744"
      ]
     },
     "execution_count": 70,
     "metadata": {},
     "output_type": "execute_result"
    }
   ],
   "source": [
    "id(s)"
   ]
  },
  {
   "cell_type": "code",
   "execution_count": 71,
   "id": "ec3389cd",
   "metadata": {
    "ExecuteTime": {
     "end_time": "2021-01-15T08:34:25.275379Z",
     "start_time": "2021-01-15T08:34:25.269724Z"
    }
   },
   "outputs": [
    {
     "name": "stdout",
     "output_type": "stream",
     "text": [
      "I am an immutable guy, for sure\n"
     ]
    },
    {
     "data": {
      "text/plain": [
       "(136377566125744, 136377566246624)"
      ]
     },
     "execution_count": 71,
     "metadata": {},
     "output_type": "execute_result"
    }
   ],
   "source": [
    "print(s + ', for sure')\n",
    "id(s), id(s + ' for sure')"
   ]
  },
  {
   "cell_type": "markdown",
   "id": "302b61e8-0635-4b7d-8cc2-e88b9babe426",
   "metadata": {},
   "source": [
    "### Extra stuff with strings"
   ]
  },
  {
   "cell_type": "code",
   "execution_count": 72,
   "id": "887456aa",
   "metadata": {
    "ExecuteTime": {
     "end_time": "2021-01-15T08:34:25.685455Z",
     "start_time": "2021-01-15T08:34:25.679575Z"
    },
    "slideshow": {
     "slide_type": "-"
    }
   },
   "outputs": [
    {
     "data": {
      "text/plain": [
       "'square of 2 is 4'"
      ]
     },
     "execution_count": 72,
     "metadata": {},
     "output_type": "execute_result"
    }
   ],
   "source": [
    "'square of 2 is ' + str(2 ** 2)"
   ]
  },
  {
   "cell_type": "code",
   "execution_count": 73,
   "id": "82122b21",
   "metadata": {
    "ExecuteTime": {
     "end_time": "2021-01-15T08:34:26.075613Z",
     "start_time": "2021-01-15T08:34:26.070551Z"
    },
    "slideshow": {
     "slide_type": "-"
    }
   },
   "outputs": [
    {
     "data": {
      "text/plain": [
       "'square of 2 is 4'"
      ]
     },
     "execution_count": 73,
     "metadata": {},
     "output_type": "execute_result"
    }
   ],
   "source": [
    "'square of 2 is %d' % 2 ** 2"
   ]
  },
  {
   "cell_type": "code",
   "execution_count": 74,
   "id": "b8c02709",
   "metadata": {
    "ExecuteTime": {
     "end_time": "2021-01-15T08:34:28.906445Z",
     "start_time": "2021-01-15T08:34:28.900777Z"
    },
    "slideshow": {
     "slide_type": "-"
    }
   },
   "outputs": [
    {
     "data": {
      "text/plain": [
       "'square of 2 is 4'"
      ]
     },
     "execution_count": 74,
     "metadata": {},
     "output_type": "execute_result"
    }
   ],
   "source": [
    "'square of 2 is {}'.format(2 ** 2)"
   ]
  },
  {
   "cell_type": "code",
   "execution_count": 75,
   "id": "080d1d27",
   "metadata": {
    "ExecuteTime": {
     "end_time": "2021-01-15T08:34:29.230345Z",
     "start_time": "2021-01-15T08:34:29.225362Z"
    },
    "slideshow": {
     "slide_type": "-"
    }
   },
   "outputs": [
    {
     "data": {
      "text/plain": [
       "'square of 2 is 4'"
      ]
     },
     "execution_count": 75,
     "metadata": {},
     "output_type": "execute_result"
    }
   ],
   "source": [
    "'square of 2 is {square}'.format(square=2 ** 2)"
   ]
  },
  {
   "cell_type": "code",
   "execution_count": 76,
   "id": "05ce7065",
   "metadata": {
    "ExecuteTime": {
     "end_time": "2021-01-15T08:34:29.464228Z",
     "start_time": "2021-01-15T08:34:29.457777Z"
    },
    "slideshow": {
     "slide_type": "fragment"
    }
   },
   "outputs": [
    {
     "data": {
      "text/plain": [
       "'square of 2 is 4'"
      ]
     },
     "execution_count": 76,
     "metadata": {},
     "output_type": "execute_result"
    }
   ],
   "source": [
    "# And since Python 3.6 you can use an `f-string`\n",
    "number = 2\n",
    "square = number ** 2\n",
    "\n",
    "f'square of {number} is {square}'"
   ]
  },
  {
   "cell_type": "markdown",
   "id": "f7fc1634-6de0-4f6b-98b2-e9e6b0ebe7ea",
   "metadata": {},
   "source": [
    "### The `in` keyword\n",
    "\n",
    "You can use the `in` keyword with any container, whenever it makes sense"
   ]
  },
  {
   "cell_type": "code",
   "execution_count": 77,
   "id": "0fb97847",
   "metadata": {
    "ExecuteTime": {
     "end_time": "2021-01-15T08:34:29.779042Z",
     "start_time": "2021-01-15T08:34:29.774313Z"
    },
    "slideshow": {
     "slide_type": "fragment"
    }
   },
   "outputs": [
    {
     "name": "stdout",
     "output_type": "stream",
     "text": [
      "I am an immutable guy\n",
      "False\n"
     ]
    }
   ],
   "source": [
    "print(s)\n",
    "print('Salut' in s)"
   ]
  },
  {
   "cell_type": "code",
   "execution_count": 78,
   "id": "59f62cf3",
   "metadata": {
    "ExecuteTime": {
     "end_time": "2021-01-15T08:34:30.599065Z",
     "start_time": "2021-01-15T08:34:30.595645Z"
    },
    "slideshow": {
     "slide_type": "-"
    }
   },
   "outputs": [
    {
     "name": "stdout",
     "output_type": "stream",
     "text": [
      "('truc', 3.14, 'truc')\n",
      "True\n"
     ]
    }
   ],
   "source": [
    "print(tt)\n",
    "print('truc' in tt)"
   ]
  },
  {
   "cell_type": "code",
   "execution_count": 79,
   "id": "b38ae15a",
   "metadata": {
    "ExecuteTime": {
     "end_time": "2021-01-15T08:34:30.819735Z",
     "start_time": "2021-01-15T08:34:30.813275Z"
    },
    "slideshow": {
     "slide_type": "fragment"
    }
   },
   "outputs": [
    {
     "name": "stdout",
     "output_type": "stream",
     "text": [
      "['red', 'blue', 3.14, 'black', 'white', ('truc', 3.14, 'truc')]\n",
      "False\n"
     ]
    }
   ],
   "source": [
    "print(colors)\n",
    "print('truc' in colors)"
   ]
  },
  {
   "cell_type": "code",
   "execution_count": 80,
   "id": "34515695",
   "metadata": {
    "ExecuteTime": {
     "end_time": "2021-01-15T08:34:31.035913Z",
     "start_time": "2021-01-15T08:34:31.030502Z"
    }
   },
   "outputs": [
    {
     "data": {
      "text/plain": [
       "True"
      ]
     },
     "execution_count": 80,
     "metadata": {},
     "output_type": "execute_result"
    }
   ],
   "source": [
    "('truc', 3.14, 'truc') in colors"
   ]
  },
  {
   "cell_type": "markdown",
   "id": "121c8806-65ef-4509-aa37-b1876a67fdc7",
   "metadata": {},
   "source": [
    "> **Warning**\n",
    ">\n",
    "> Strings are not bytes. Have a look at chapter 4 *Unicode Text versus\n",
    "> Bytes* in [Fluent\n",
    "> Python](https://www.oreilly.com/library/view/fluent-python-2nd/9781492056348/)\n",
    "\n",
    "### Brain-teasing\n",
    "\n",
    "Explain this weird behaviour:"
   ]
  },
  {
   "cell_type": "code",
   "execution_count": 81,
   "id": "ce87ed5f",
   "metadata": {},
   "outputs": [
    {
     "data": {
      "text/plain": [
       "False"
      ]
     },
     "execution_count": 81,
     "metadata": {},
     "output_type": "execute_result"
    }
   ],
   "source": [
    "5 in [1, 2, 3, 4] == False"
   ]
  },
  {
   "cell_type": "code",
   "execution_count": 82,
   "id": "b7df463c",
   "metadata": {
    "ExecuteTime": {
     "end_time": "2021-01-15T08:34:31.612963Z",
     "start_time": "2021-01-15T08:34:31.607708Z"
    },
    "slideshow": {
     "slide_type": "-"
    }
   },
   "outputs": [
    {
     "data": {
      "text/plain": [
       "False"
      ]
     },
     "execution_count": 82,
     "metadata": {},
     "output_type": "execute_result"
    }
   ],
   "source": [
    "[1, 2, 3, 4] == False"
   ]
  },
  {
   "cell_type": "code",
   "execution_count": 83,
   "id": "2ed0ee6e",
   "metadata": {
    "ExecuteTime": {
     "end_time": "2021-01-15T08:34:31.825068Z",
     "start_time": "2021-01-15T08:34:31.819205Z"
    },
    "slideshow": {
     "slide_type": "-"
    }
   },
   "outputs": [
    {
     "data": {
      "text/plain": [
       "True"
      ]
     },
     "execution_count": 83,
     "metadata": {},
     "output_type": "execute_result"
    }
   ],
   "source": [
    "5 not in [1, 2, 3, 4]"
   ]
  },
  {
   "cell_type": "code",
   "execution_count": 84,
   "id": "a81c3707",
   "metadata": {
    "ExecuteTime": {
     "end_time": "2021-01-15T08:34:32.299157Z",
     "start_time": "2021-01-15T08:34:32.293640Z"
    },
    "slideshow": {
     "slide_type": "-"
    }
   },
   "outputs": [
    {
     "data": {
      "text/plain": [
       "True"
      ]
     },
     "execution_count": 84,
     "metadata": {},
     "output_type": "execute_result"
    }
   ],
   "source": [
    "(5 in [1, 2, 3, 4]) == False"
   ]
  },
  {
   "cell_type": "code",
   "execution_count": 85,
   "id": "6e057596",
   "metadata": {
    "ExecuteTime": {
     "end_time": "2021-01-15T08:34:32.524705Z",
     "start_time": "2021-01-15T08:34:32.518440Z"
    },
    "slideshow": {
     "slide_type": "fragment"
    }
   },
   "outputs": [
    {
     "data": {
      "text/plain": [
       "False"
      ]
     },
     "execution_count": 85,
     "metadata": {},
     "output_type": "execute_result"
    }
   ],
   "source": [
    "# ANSWER.\n",
    "# This is a chained comparison. We have seen that \n",
    "1 < 2 < 3\n",
    "# is equivalent to\n",
    "(1 < 2) and (2 < 3)\n",
    "# so that\n",
    "5 in [1, 2, 3, 4] == False\n",
    "# is equivalent to\n",
    "(5 in [1, 2, 3, 4]) and ([1, 2, 3, 4] == False)"
   ]
  },
  {
   "cell_type": "code",
   "execution_count": 86,
   "id": "a18dc7b7",
   "metadata": {},
   "outputs": [
    {
     "data": {
      "text/plain": [
       "False"
      ]
     },
     "execution_count": 86,
     "metadata": {},
     "output_type": "execute_result"
    }
   ],
   "source": [
    "(5 in [1, 2, 3, 4])"
   ]
  },
  {
   "cell_type": "code",
   "execution_count": 87,
   "id": "e605b16b",
   "metadata": {},
   "outputs": [
    {
     "data": {
      "text/plain": [
       "False"
      ]
     },
     "execution_count": 87,
     "metadata": {},
     "output_type": "execute_result"
    }
   ],
   "source": [
    "([1, 2, 3, 4] == False)"
   ]
  },
  {
   "cell_type": "markdown",
   "id": "024c4d45-9e08-4054-ae6d-67ba25d3b33b",
   "metadata": {},
   "source": [
    "## Dictionaries\n",
    "\n",
    "-   A dictionary is basically an efficient table that **maps keys to\n",
    "    values**.\n",
    "-   The **MOST** important container in Python.\n",
    "-   Many things are actually a `dict` under the hood in `Python`"
   ]
  },
  {
   "cell_type": "code",
   "execution_count": 88,
   "id": "79d35c78",
   "metadata": {
    "ExecuteTime": {
     "end_time": "2021-01-15T08:34:33.375226Z",
     "start_time": "2021-01-15T08:34:33.371037Z"
    },
    "slideshow": {
     "slide_type": "fragment"
    }
   },
   "outputs": [
    {
     "name": "stdout",
     "output_type": "stream",
     "text": [
      "{'emmanuelle': 5752, 'sebastian': 5578}\n",
      "<class 'dict'>\n"
     ]
    }
   ],
   "source": [
    "tel = {'emmanuelle': 5752, 'sebastian': 5578}\n",
    "print(tel)\n",
    "print(type(tel))"
   ]
  },
  {
   "cell_type": "code",
   "execution_count": 89,
   "id": "4206d865",
   "metadata": {
    "ExecuteTime": {
     "end_time": "2021-01-15T08:34:33.572354Z",
     "start_time": "2021-01-15T08:34:33.566227Z"
    },
    "slideshow": {
     "slide_type": "fragment"
    }
   },
   "outputs": [
    {
     "data": {
      "text/plain": [
       "(5752, 5578)"
      ]
     },
     "execution_count": 89,
     "metadata": {},
     "output_type": "execute_result"
    }
   ],
   "source": [
    "tel['emmanuelle'], tel['sebastian']"
   ]
  },
  {
   "cell_type": "code",
   "execution_count": 90,
   "id": "467928e8",
   "metadata": {
    "ExecuteTime": {
     "end_time": "2021-01-15T08:34:33.711591Z",
     "start_time": "2021-01-15T08:34:33.705748Z"
    }
   },
   "outputs": [
    {
     "data": {
      "text/plain": [
       "{'emmanuelle': 5752, 'sebastian': 5578, 'francis': '5919'}"
      ]
     },
     "execution_count": 90,
     "metadata": {},
     "output_type": "execute_result"
    }
   ],
   "source": [
    "tel['francis'] = '5919'\n",
    "tel"
   ]
  },
  {
   "cell_type": "code",
   "execution_count": 91,
   "id": "45a1451e",
   "metadata": {
    "ExecuteTime": {
     "end_time": "2021-01-15T08:34:33.889041Z",
     "start_time": "2021-01-15T08:34:33.883802Z"
    }
   },
   "outputs": [
    {
     "data": {
      "text/plain": [
       "3"
      ]
     },
     "execution_count": 91,
     "metadata": {},
     "output_type": "execute_result"
    }
   ],
   "source": [
    "len(tel)"
   ]
  },
  {
   "cell_type": "markdown",
   "id": "c337ead9-81c6-40cc-acb7-298059e69ee8",
   "metadata": {},
   "source": [
    "### Important remarks\n",
    "\n",
    "-   Keys can be of different types\n",
    "-   A key must be of **immutable** type"
   ]
  },
  {
   "cell_type": "code",
   "execution_count": 92,
   "id": "320f15f2",
   "metadata": {
    "ExecuteTime": {
     "end_time": "2021-01-15T08:34:35.180227Z",
     "start_time": "2021-01-15T08:34:35.172919Z"
    }
   },
   "outputs": [
    {
     "data": {
      "text/plain": [
       "{'emmanuelle': 5752,\n",
       " 'sebastian': 5578,\n",
       " 'francis': '5919',\n",
       " 7162453: [1, 3, 2],\n",
       " 3.14: 'bidule',\n",
       " ('jaouad', 2): 1234}"
      ]
     },
     "execution_count": 92,
     "metadata": {},
     "output_type": "execute_result"
    }
   ],
   "source": [
    "tel[7162453] = [1, 3, 2]\n",
    "tel[3.14] = 'bidule'\n",
    "tel[('jaouad', 2)] = 1234\n",
    "tel"
   ]
  },
  {
   "cell_type": "code",
   "execution_count": 93,
   "id": "9f3dfc59",
   "metadata": {},
   "outputs": [
    {
     "name": "stdout",
     "output_type": "stream",
     "text": [
      "TypeError: '<' not supported between instances of 'int' and 'str'\n"
     ]
    }
   ],
   "source": [
    "try:\n",
    "    sorted(tel)\n",
    "except TypeError:\n",
    "    print(\"TypeError: '<' not supported between instances of 'int' and 'str'\")    "
   ]
  },
  {
   "cell_type": "code",
   "execution_count": 94,
   "id": "ade6e50f",
   "metadata": {
    "ExecuteTime": {
     "end_time": "2021-01-15T08:34:35.781423Z",
     "start_time": "2021-01-15T08:34:35.770370Z"
    }
   },
   "outputs": [
    {
     "name": "stdout",
     "output_type": "stream",
     "text": [
      "TypeError: unhashable type: 'list'\n"
     ]
    }
   ],
   "source": [
    "# A list is mutable and not hashable\n",
    "try:\n",
    "    tel[['jaouad']] = '5678'\n",
    "except TypeError:\n",
    "    print(\"TypeError: unhashable type: 'list'\")"
   ]
  },
  {
   "cell_type": "code",
   "execution_count": 95,
   "id": "1870f54e",
   "metadata": {},
   "outputs": [
    {
     "name": "stdout",
     "output_type": "stream",
     "text": [
      "KeyError: 2\n"
     ]
    }
   ],
   "source": [
    "try:\n",
    "    tel[2]\n",
    "except KeyError:\n",
    "    print(\"KeyError: 2\")"
   ]
  },
  {
   "cell_type": "code",
   "execution_count": 96,
   "id": "326b2561",
   "metadata": {
    "ExecuteTime": {
     "end_time": "2021-01-15T08:34:35.984417Z",
     "start_time": "2021-01-15T08:34:35.978289Z"
    },
    "slideshow": {
     "slide_type": "subslide"
    }
   },
   "outputs": [
    {
     "name": "stdout",
     "output_type": "stream",
     "text": [
      "dict_keys(['emmanuelle', 'sebastian', 'jaouad'])\n",
      "dict_values([5752, 5578, 1234])\n",
      "dict_items([('emmanuelle', 5752), ('sebastian', 5578), ('jaouad', 1234)])\n"
     ]
    }
   ],
   "source": [
    "tel = {'emmanuelle': 5752, 'sebastian' : 5578, 'jaouad' : 1234}\n",
    "print(tel.keys())\n",
    "print(tel.values())\n",
    "print(tel.items())"
   ]
  },
  {
   "cell_type": "code",
   "execution_count": 97,
   "id": "47ad1999",
   "metadata": {},
   "outputs": [
    {
     "data": {
      "text/plain": [
       "'jaouad'"
      ]
     },
     "execution_count": 97,
     "metadata": {},
     "output_type": "execute_result"
    }
   ],
   "source": [
    "list(tel.keys())[2]"
   ]
  },
  {
   "cell_type": "code",
   "execution_count": 98,
   "id": "7b68aff1",
   "metadata": {},
   "outputs": [
    {
     "data": {
      "text/plain": [
       "mappingproxy({'emmanuelle': 5752, 'sebastian': 5578, 'jaouad': 1234})"
      ]
     },
     "execution_count": 98,
     "metadata": {},
     "output_type": "execute_result"
    }
   ],
   "source": [
    "tel.values().mapping"
   ]
  },
  {
   "cell_type": "code",
   "execution_count": 99,
   "id": "2ca18112",
   "metadata": {},
   "outputs": [
    {
     "data": {
      "text/plain": [
       "dict_keys"
      ]
     },
     "execution_count": 99,
     "metadata": {},
     "output_type": "execute_result"
    }
   ],
   "source": [
    "type(tel.keys())"
   ]
  },
  {
   "cell_type": "code",
   "execution_count": 100,
   "id": "6675972b",
   "metadata": {
    "ExecuteTime": {
     "end_time": "2021-01-15T08:34:36.135136Z",
     "start_time": "2021-01-15T08:34:36.129801Z"
    },
    "slideshow": {
     "slide_type": "fragment"
    }
   },
   "outputs": [
    {
     "data": {
      "text/plain": [
       "False"
      ]
     },
     "execution_count": 100,
     "metadata": {},
     "output_type": "execute_result"
    }
   ],
   "source": [
    "'rémi' in tel"
   ]
  },
  {
   "cell_type": "code",
   "execution_count": 101,
   "id": "c3893c4a",
   "metadata": {
    "ExecuteTime": {
     "end_time": "2021-01-15T08:34:36.649224Z",
     "start_time": "2021-01-15T08:34:36.643788Z"
    }
   },
   "outputs": [
    {
     "data": {
      "text/plain": [
       "['emmanuelle', 'sebastian', 'jaouad']"
      ]
     },
     "execution_count": 101,
     "metadata": {},
     "output_type": "execute_result"
    }
   ],
   "source": [
    "list(tel)"
   ]
  },
  {
   "cell_type": "code",
   "execution_count": 102,
   "id": "44dbea8e",
   "metadata": {},
   "outputs": [
    {
     "data": {
      "text/plain": [
       "False"
      ]
     },
     "execution_count": 102,
     "metadata": {},
     "output_type": "execute_result"
    }
   ],
   "source": [
    "'rémi' in tel.keys()"
   ]
  },
  {
   "cell_type": "markdown",
   "id": "7be0d852-a4c2-43fb-83de-a9a148f06a03",
   "metadata": {},
   "source": [
    "You can swap values like this"
   ]
  },
  {
   "cell_type": "code",
   "execution_count": 103,
   "id": "3baf6f5f",
   "metadata": {
    "ExecuteTime": {
     "end_time": "2021-01-15T08:34:37.036245Z",
     "start_time": "2021-01-15T08:34:37.032296Z"
    }
   },
   "outputs": [
    {
     "name": "stdout",
     "output_type": "stream",
     "text": [
      "{'emmanuelle': 5752, 'sebastian': 5578, 'jaouad': 1234}\n",
      "{'emmanuelle': 5578, 'sebastian': 5752, 'jaouad': 1234}\n"
     ]
    }
   ],
   "source": [
    "print(tel)\n",
    "tel['emmanuelle'], tel['sebastian'] = tel['sebastian'], tel['emmanuelle']\n",
    "print(tel)"
   ]
  },
  {
   "cell_type": "code",
   "execution_count": 104,
   "id": "09aea641",
   "metadata": {
    "ExecuteTime": {
     "end_time": "2021-01-15T08:34:37.755117Z",
     "start_time": "2021-01-15T08:34:37.750155Z"
    }
   },
   "outputs": [
    {
     "data": {
      "text/plain": [
       "(3.14, 2.71)"
      ]
     },
     "execution_count": 104,
     "metadata": {},
     "output_type": "execute_result"
    }
   ],
   "source": [
    "# It works, since\n",
    "a, b = 2.71, 3.14\n",
    "a, b = b, a\n",
    "a, b"
   ]
  },
  {
   "cell_type": "markdown",
   "id": "dcb9c286-5dc5-4184-8ef2-e7c9ecd88514",
   "metadata": {},
   "source": [
    "### Exercise 1\n",
    "\n",
    "Get keys of `tel` sorted by decreasing order"
   ]
  },
  {
   "cell_type": "code",
   "execution_count": 105,
   "id": "42ad0424",
   "metadata": {
    "ExecuteTime": {
     "end_time": "2021-01-15T08:34:38.375787Z",
     "start_time": "2021-01-15T08:34:38.372593Z"
    },
    "slideshow": {
     "slide_type": "-"
    }
   },
   "outputs": [],
   "source": [
    "tel = {'emmanuelle': 5752, 'sebastian' : 5578, 'jaouad' : 1234}"
   ]
  },
  {
   "cell_type": "markdown",
   "id": "2c203859-5759-4c57-96ff-9a0b506a5720",
   "metadata": {},
   "source": [
    "### Exercise 2\n",
    "\n",
    "Get keys of `tel` sorted by increasing *values*"
   ]
  },
  {
   "cell_type": "code",
   "execution_count": 106,
   "id": "86eafaeb",
   "metadata": {
    "ExecuteTime": {
     "end_time": "2021-01-15T08:34:39.295210Z",
     "start_time": "2021-01-15T08:34:39.291759Z"
    }
   },
   "outputs": [],
   "source": [
    "tel = {'emmanuelle': 5752, 'sebastian' : 5578, 'jaouad' : 1234}"
   ]
  },
  {
   "cell_type": "markdown",
   "id": "fed7c7c0-9566-4754-8546-3c64e1ac7db2",
   "metadata": {},
   "source": [
    "### Exercise 3\n",
    "\n",
    "Obtain a sorted-by-key version of `tel`"
   ]
  },
  {
   "cell_type": "code",
   "execution_count": 107,
   "id": "066c5e3e",
   "metadata": {
    "ExecuteTime": {
     "end_time": "2021-01-15T08:34:40.064213Z",
     "start_time": "2021-01-15T08:34:40.060078Z"
    }
   },
   "outputs": [],
   "source": [
    "tel = {'emmanuelle': 5752, 'sebastian' : 5578, 'jaouad' : 1234}"
   ]
  },
  {
   "cell_type": "markdown",
   "id": "39dd5efd-afb9-4283-a44c-5bc3c0ee06d5",
   "metadata": {},
   "source": [
    "## Sets\n",
    "\n",
    "A set is an unordered container, containing unique elements"
   ]
  },
  {
   "cell_type": "code",
   "execution_count": 108,
   "id": "ffce5b23",
   "metadata": {
    "ExecuteTime": {
     "end_time": "2021-01-15T08:34:43.408375Z",
     "start_time": "2021-01-15T08:34:43.402917Z"
    }
   },
   "outputs": [
    {
     "data": {
      "text/plain": [
       "{1, 2, 3, 'tintin', 'toto'}"
      ]
     },
     "execution_count": 108,
     "metadata": {},
     "output_type": "execute_result"
    }
   ],
   "source": [
    "ss = {1, 2, 2, 2, 3, 3, 'tintin', 'tintin', 'toto'}\n",
    "ss"
   ]
  },
  {
   "cell_type": "code",
   "execution_count": 109,
   "id": "53329a6a",
   "metadata": {
    "ExecuteTime": {
     "end_time": "2021-01-15T08:34:43.689264Z",
     "start_time": "2021-01-15T08:34:43.683234Z"
    }
   },
   "outputs": [
    {
     "data": {
      "text/plain": [
       "{' ', 'b', 'c', 'd', 'e', 'i', 'l', 'r', 't', 'u'}"
      ]
     },
     "execution_count": 109,
     "metadata": {},
     "output_type": "execute_result"
    }
   ],
   "source": [
    "s = 'truc truc bidule truc'\n",
    "set(s)"
   ]
  },
  {
   "cell_type": "code",
   "execution_count": 110,
   "id": "734f0cee",
   "metadata": {},
   "outputs": [
    {
     "data": {
      "text/plain": [
       "{' ', 'b', 'c', 'd', 'e', 'i', 'l', 'r', 't', 'u'}"
      ]
     },
     "execution_count": 110,
     "metadata": {},
     "output_type": "execute_result"
    }
   ],
   "source": [
    "set(list(s))"
   ]
  },
  {
   "cell_type": "code",
   "execution_count": 111,
   "id": "bdd34905",
   "metadata": {
    "ExecuteTime": {
     "end_time": "2021-01-15T08:34:43.900734Z",
     "start_time": "2021-01-15T08:34:43.894591Z"
    },
    "slideshow": {
     "slide_type": "fragment"
    }
   },
   "outputs": [
    {
     "data": {
      "text/plain": [
       "{1, 2, 3, 5}"
      ]
     },
     "execution_count": 111,
     "metadata": {},
     "output_type": "execute_result"
    }
   ],
   "source": [
    "{1, 5, 2, 1, 1}.union({1, 2, 3})"
   ]
  },
  {
   "cell_type": "code",
   "execution_count": 112,
   "id": "0992f231",
   "metadata": {},
   "outputs": [
    {
     "data": {
      "text/plain": [
       "{1, 2, 3, 5}"
      ]
     },
     "execution_count": 112,
     "metadata": {},
     "output_type": "execute_result"
    }
   ],
   "source": [
    "set((1, 5, 3, 2))"
   ]
  },
  {
   "cell_type": "code",
   "execution_count": 113,
   "id": "30f3f979",
   "metadata": {
    "ExecuteTime": {
     "end_time": "2021-01-15T08:34:44.236053Z",
     "start_time": "2021-01-15T08:34:44.230406Z"
    }
   },
   "outputs": [
    {
     "data": {
      "text/plain": [
       "{1, 2}"
      ]
     },
     "execution_count": 113,
     "metadata": {},
     "output_type": "execute_result"
    }
   ],
   "source": [
    "set([1, 5, 2, 1, 1]).intersection(set([1, 2, 3]))"
   ]
  },
  {
   "cell_type": "code",
   "execution_count": 114,
   "id": "daedb021",
   "metadata": {
    "ExecuteTime": {
     "end_time": "2021-01-15T08:34:44.521051Z",
     "start_time": "2021-01-15T08:34:44.515051Z"
    }
   },
   "outputs": [
    {
     "data": {
      "text/plain": [
       "{1, 2, 3, 'tintin', 'toto'}"
      ]
     },
     "execution_count": 114,
     "metadata": {},
     "output_type": "execute_result"
    }
   ],
   "source": [
    "ss.add('tintin')\n",
    "ss"
   ]
  },
  {
   "cell_type": "code",
   "execution_count": 115,
   "id": "e0ef17e7",
   "metadata": {},
   "outputs": [
    {
     "data": {
      "text/plain": [
       "{'tintin', 'toto'}"
      ]
     },
     "execution_count": 115,
     "metadata": {},
     "output_type": "execute_result"
    }
   ],
   "source": [
    "ss.difference(range(6))"
   ]
  },
  {
   "cell_type": "markdown",
   "id": "a04c5c45-42f1-4e7c-becd-8fa4322b54ae",
   "metadata": {},
   "source": [
    "You can combine all containers together"
   ]
  },
  {
   "cell_type": "code",
   "execution_count": 116,
   "id": "e43aaaa6",
   "metadata": {
    "ExecuteTime": {
     "end_time": "2021-01-15T08:34:45.317823Z",
     "start_time": "2021-01-15T08:34:45.310957Z"
    }
   },
   "outputs": [
    {
     "data": {
      "text/plain": [
       "{'truc': [1, 2, 3], 5: (1, 4, 2), (1, 3): {'hello', 'world'}}"
      ]
     },
     "execution_count": 116,
     "metadata": {},
     "output_type": "execute_result"
    }
   ],
   "source": [
    "dd = {\n",
    "    'truc': [1, 2, 3], \n",
    "    5: (1, 4, 2),\n",
    "    (1, 3): {'hello', 'world'}\n",
    "}\n",
    "dd"
   ]
  },
  {
   "cell_type": "markdown",
   "id": "fc349c32-2121-4889-96b4-c7dd8403422a",
   "metadata": {},
   "source": [
    "# Assigments in `Python` is name binding\n",
    "\n",
    "## Everything is either mutable or immutable"
   ]
  },
  {
   "cell_type": "code",
   "execution_count": 117,
   "id": "6b8aa33b",
   "metadata": {
    "ExecuteTime": {
     "end_time": "2021-01-15T08:34:46.250900Z",
     "start_time": "2021-01-15T08:34:46.245797Z"
    },
    "slideshow": {
     "slide_type": "subslide"
    }
   },
   "outputs": [
    {
     "data": {
      "text/plain": [
       "({1, 2, 3}, {1, 2, 3})"
      ]
     },
     "execution_count": 117,
     "metadata": {},
     "output_type": "execute_result"
    }
   ],
   "source": [
    "ss = {1, 2, 3}\n",
    "sss = ss\n",
    "sss, ss"
   ]
  },
  {
   "cell_type": "code",
   "execution_count": 118,
   "id": "35a7afd3",
   "metadata": {},
   "outputs": [
    {
     "data": {
      "text/plain": [
       "(136377567624128, 136377567624128)"
      ]
     },
     "execution_count": 118,
     "metadata": {},
     "output_type": "execute_result"
    }
   ],
   "source": [
    "id(ss), id(sss)"
   ]
  },
  {
   "cell_type": "code",
   "execution_count": 119,
   "id": "b4728b10",
   "metadata": {
    "ExecuteTime": {
     "end_time": "2021-01-15T08:34:46.487601Z",
     "start_time": "2021-01-15T08:34:46.484299Z"
    },
    "slideshow": {
     "slide_type": "-"
    }
   },
   "outputs": [],
   "source": [
    "sss.add(\"Truc\")"
   ]
  },
  {
   "cell_type": "markdown",
   "id": "024f401c-d1cb-421f-8725-8364b6f761ff",
   "metadata": {},
   "source": [
    "**Question.** What is in `ss` ?"
   ]
  },
  {
   "cell_type": "code",
   "execution_count": 120,
   "id": "eb07d2a4",
   "metadata": {
    "ExecuteTime": {
     "end_time": "2021-01-15T08:34:47.555940Z",
     "start_time": "2021-01-15T08:34:47.549993Z"
    },
    "slideshow": {
     "slide_type": "fragment"
    }
   },
   "outputs": [
    {
     "data": {
      "text/plain": [
       "({1, 2, 3, 'Truc'}, {1, 2, 3, 'Truc'})"
      ]
     },
     "execution_count": 120,
     "metadata": {},
     "output_type": "execute_result"
    }
   ],
   "source": [
    "ss, sss"
   ]
  },
  {
   "cell_type": "markdown",
   "id": "556e6d68-8fba-4ce4-b6f2-ffeac70cdbc2",
   "metadata": {},
   "source": [
    "`ss` and `sss` are names for the same object"
   ]
  },
  {
   "cell_type": "code",
   "execution_count": 121,
   "id": "0f6e2884",
   "metadata": {
    "ExecuteTime": {
     "end_time": "2021-01-15T08:34:47.889439Z",
     "start_time": "2021-01-15T08:34:47.883802Z"
    },
    "slideshow": {
     "slide_type": "-"
    }
   },
   "outputs": [
    {
     "data": {
      "text/plain": [
       "(136377567624128, 136377567624128)"
      ]
     },
     "execution_count": 121,
     "metadata": {},
     "output_type": "execute_result"
    }
   ],
   "source": [
    "id(ss), id(sss)"
   ]
  },
  {
   "cell_type": "code",
   "execution_count": 122,
   "id": "9191d85d",
   "metadata": {
    "ExecuteTime": {
     "end_time": "2021-01-15T08:34:48.385040Z",
     "start_time": "2021-01-15T08:34:48.380259Z"
    },
    "slideshow": {
     "slide_type": "-"
    }
   },
   "outputs": [
    {
     "data": {
      "text/plain": [
       "True"
      ]
     },
     "execution_count": 122,
     "metadata": {},
     "output_type": "execute_result"
    }
   ],
   "source": [
    "ss is sss"
   ]
  },
  {
   "cell_type": "code",
   "execution_count": 123,
   "id": "a3dd85a9",
   "metadata": {},
   "outputs": [
    {
     "name": "stdout",
     "output_type": "stream",
     "text": [
      "Comparisons\n",
      "***********\n",
      "\n",
      "Unlike C, all comparison operations in Python have the same priority,\n",
      "which is lower than that of any arithmetic, shifting or bitwise\n",
      "operation.  Also unlike C, expressions like \"a < b < c\" have the\n",
      "interpretation that is conventional in mathematics:\n",
      "\n",
      "   comparison    ::= or_expr (comp_operator or_expr)*\n",
      "   comp_operator ::= \"<\" | \">\" | \"==\" | \">=\" | \"<=\" | \"!=\"\n",
      "                     | \"is\" [\"not\"] | [\"not\"] \"in\"\n",
      "\n",
      "Comparisons yield boolean values: \"True\" or \"False\". Custom *rich\n",
      "comparison methods* may return non-boolean values. In this case Python\n",
      "will call \"bool()\" on such value in boolean contexts.\n",
      "\n",
      "Comparisons can be chained arbitrarily, e.g., \"x < y <= z\" is\n",
      "equivalent to \"x < y and y <= z\", except that \"y\" is evaluated only\n",
      "once (but in both cases \"z\" is not evaluated at all when \"x < y\" is\n",
      "found to be false).\n",
      "\n",
      "Formally, if *a*, *b*, *c*, …, *y*, *z* are expressions and *op1*,\n",
      "*op2*, …, *opN* are comparison operators, then \"a op1 b op2 c ... y\n",
      "opN z\" is equivalent to \"a op1 b and b op2 c and ... y opN z\", except\n",
      "that each expression is evaluated at most once.\n",
      "\n",
      "Note that \"a op1 b op2 c\" doesn’t imply any kind of comparison between\n",
      "*a* and *c*, so that, e.g., \"x < y > z\" is perfectly legal (though\n",
      "perhaps not pretty).\n",
      "\n",
      "\n",
      "Value comparisons\n",
      "=================\n",
      "\n",
      "The operators \"<\", \">\", \"==\", \">=\", \"<=\", and \"!=\" compare the values\n",
      "of two objects.  The objects do not need to have the same type.\n",
      "\n",
      "Chapter Objects, values and types states that objects have a value (in\n",
      "addition to type and identity).  The value of an object is a rather\n",
      "abstract notion in Python: For example, there is no canonical access\n",
      "method for an object’s value.  Also, there is no requirement that the\n",
      "value of an object should be constructed in a particular way, e.g.\n",
      "comprised of all its data attributes. Comparison operators implement a\n",
      "particular notion of what the value of an object is.  One can think of\n",
      "them as defining the value of an object indirectly, by means of their\n",
      "comparison implementation.\n",
      "\n",
      "Because all types are (direct or indirect) subtypes of \"object\", they\n",
      "inherit the default comparison behavior from \"object\".  Types can\n",
      "customize their comparison behavior by implementing *rich comparison\n",
      "methods* like \"__lt__()\", described in Basic customization.\n",
      "\n",
      "The default behavior for equality comparison (\"==\" and \"!=\") is based\n",
      "on the identity of the objects.  Hence, equality comparison of\n",
      "instances with the same identity results in equality, and equality\n",
      "comparison of instances with different identities results in\n",
      "inequality.  A motivation for this default behavior is the desire that\n",
      "all objects should be reflexive (i.e. \"x is y\" implies \"x == y\").\n",
      "\n",
      "A default order comparison (\"<\", \">\", \"<=\", and \">=\") is not provided;\n",
      "an attempt raises \"TypeError\".  A motivation for this default behavior\n",
      "is the lack of a similar invariant as for equality.\n",
      "\n",
      "The behavior of the default equality comparison, that instances with\n",
      "different identities are always unequal, may be in contrast to what\n",
      "types will need that have a sensible definition of object value and\n",
      "value-based equality.  Such types will need to customize their\n",
      "comparison behavior, and in fact, a number of built-in types have done\n",
      "that.\n",
      "\n",
      "The following list describes the comparison behavior of the most\n",
      "important built-in types.\n",
      "\n",
      "* Numbers of built-in numeric types (Numeric Types — int, float,\n",
      "  complex) and of the standard library types \"fractions.Fraction\" and\n",
      "  \"decimal.Decimal\" can be compared within and across their types,\n",
      "  with the restriction that complex numbers do not support order\n",
      "  comparison.  Within the limits of the types involved, they compare\n",
      "  mathematically (algorithmically) correct without loss of precision.\n",
      "\n",
      "  The not-a-number values \"float('NaN')\" and \"decimal.Decimal('NaN')\"\n",
      "  are special.  Any ordered comparison of a number to a not-a-number\n",
      "  value is false. A counter-intuitive implication is that not-a-number\n",
      "  values are not equal to themselves.  For example, if \"x =\n",
      "  float('NaN')\", \"3 < x\", \"x < 3\" and \"x == x\" are all false, while \"x\n",
      "  != x\" is true.  This behavior is compliant with IEEE 754.\n",
      "\n",
      "* \"None\" and \"NotImplemented\" are singletons.  **PEP 8** advises that\n",
      "  comparisons for singletons should always be done with \"is\" or \"is\n",
      "  not\", never the equality operators.\n",
      "\n",
      "* Binary sequences (instances of \"bytes\" or \"bytearray\") can be\n",
      "  compared within and across their types.  They compare\n",
      "  lexicographically using the numeric values of their elements.\n",
      "\n",
      "* Strings (instances of \"str\") compare lexicographically using the\n",
      "  numerical Unicode code points (the result of the built-in function\n",
      "  \"ord()\") of their characters. [3]\n",
      "\n",
      "  Strings and binary sequences cannot be directly compared.\n",
      "\n",
      "* Sequences (instances of \"tuple\", \"list\", or \"range\") can be compared\n",
      "  only within each of their types, with the restriction that ranges do\n",
      "  not support order comparison.  Equality comparison across these\n",
      "  types results in inequality, and ordering comparison across these\n",
      "  types raises \"TypeError\".\n",
      "\n",
      "  Sequences compare lexicographically using comparison of\n",
      "  corresponding elements.  The built-in containers typically assume\n",
      "  identical objects are equal to themselves.  That lets them bypass\n",
      "  equality tests for identical objects to improve performance and to\n",
      "  maintain their internal invariants.\n",
      "\n",
      "  Lexicographical comparison between built-in collections works as\n",
      "  follows:\n",
      "\n",
      "  * For two collections to compare equal, they must be of the same\n",
      "    type, have the same length, and each pair of corresponding\n",
      "    elements must compare equal (for example, \"[1,2] == (1,2)\" is\n",
      "    false because the type is not the same).\n",
      "\n",
      "  * Collections that support order comparison are ordered the same as\n",
      "    their first unequal elements (for example, \"[1,2,x] <= [1,2,y]\"\n",
      "    has the same value as \"x <= y\").  If a corresponding element does\n",
      "    not exist, the shorter collection is ordered first (for example,\n",
      "    \"[1,2] < [1,2,3]\" is true).\n",
      "\n",
      "* Mappings (instances of \"dict\") compare equal if and only if they\n",
      "  have equal \"(key, value)\" pairs. Equality comparison of the keys and\n",
      "  values enforces reflexivity.\n",
      "\n",
      "  Order comparisons (\"<\", \">\", \"<=\", and \">=\") raise \"TypeError\".\n",
      "\n",
      "* Sets (instances of \"set\" or \"frozenset\") can be compared within and\n",
      "  across their types.\n",
      "\n",
      "  They define order comparison operators to mean subset and superset\n",
      "  tests.  Those relations do not define total orderings (for example,\n",
      "  the two sets \"{1,2}\" and \"{2,3}\" are not equal, nor subsets of one\n",
      "  another, nor supersets of one another).  Accordingly, sets are not\n",
      "  appropriate arguments for functions which depend on total ordering\n",
      "  (for example, \"min()\", \"max()\", and \"sorted()\" produce undefined\n",
      "  results given a list of sets as inputs).\n",
      "\n",
      "  Comparison of sets enforces reflexivity of its elements.\n",
      "\n",
      "* Most other built-in types have no comparison methods implemented, so\n",
      "  they inherit the default comparison behavior.\n",
      "\n",
      "User-defined classes that customize their comparison behavior should\n",
      "follow some consistency rules, if possible:\n",
      "\n",
      "* Equality comparison should be reflexive. In other words, identical\n",
      "  objects should compare equal:\n",
      "\n",
      "     \"x is y\" implies \"x == y\"\n",
      "\n",
      "* Comparison should be symmetric. In other words, the following\n",
      "  expressions should have the same result:\n",
      "\n",
      "     \"x == y\" and \"y == x\"\n",
      "\n",
      "     \"x != y\" and \"y != x\"\n",
      "\n",
      "     \"x < y\" and \"y > x\"\n",
      "\n",
      "     \"x <= y\" and \"y >= x\"\n",
      "\n",
      "* Comparison should be transitive. The following (non-exhaustive)\n",
      "  examples illustrate that:\n",
      "\n",
      "     \"x > y and y > z\" implies \"x > z\"\n",
      "\n",
      "     \"x < y and y <= z\" implies \"x < z\"\n",
      "\n",
      "* Inverse comparison should result in the boolean negation. In other\n",
      "  words, the following expressions should have the same result:\n",
      "\n",
      "     \"x == y\" and \"not x != y\"\n",
      "\n",
      "     \"x < y\" and \"not x >= y\" (for total ordering)\n",
      "\n",
      "     \"x > y\" and \"not x <= y\" (for total ordering)\n",
      "\n",
      "  The last two expressions apply to totally ordered collections (e.g.\n",
      "  to sequences, but not to sets or mappings). See also the\n",
      "  \"total_ordering()\" decorator.\n",
      "\n",
      "* The \"hash()\" result should be consistent with equality. Objects that\n",
      "  are equal should either have the same hash value, or be marked as\n",
      "  unhashable.\n",
      "\n",
      "Python does not enforce these consistency rules. In fact, the\n",
      "not-a-number values are an example for not following these rules.\n",
      "\n",
      "\n",
      "Membership test operations\n",
      "==========================\n",
      "\n",
      "The operators \"in\" and \"not in\" test for membership.  \"x in s\"\n",
      "evaluates to \"True\" if *x* is a member of *s*, and \"False\" otherwise.\n",
      "\"x not in s\" returns the negation of \"x in s\".  All built-in sequences\n",
      "and set types support this as well as dictionary, for which \"in\" tests\n",
      "whether the dictionary has a given key. For container types such as\n",
      "list, tuple, set, frozenset, dict, or collections.deque, the\n",
      "expression \"x in y\" is equivalent to \"any(x is e or x == e for e in\n",
      "y)\".\n",
      "\n",
      "For the string and bytes types, \"x in y\" is \"True\" if and only if *x*\n",
      "is a substring of *y*.  An equivalent test is \"y.find(x) != -1\".\n",
      "Empty strings are always considered to be a substring of any other\n",
      "string, so \"\"\" in \"abc\"\" will return \"True\".\n",
      "\n",
      "For user-defined classes which define the \"__contains__()\" method, \"x\n",
      "in y\" returns \"True\" if \"y.__contains__(x)\" returns a true value, and\n",
      "\"False\" otherwise.\n",
      "\n",
      "For user-defined classes which do not define \"__contains__()\" but do\n",
      "define \"__iter__()\", \"x in y\" is \"True\" if some value \"z\", for which\n",
      "the expression \"x is z or x == z\" is true, is produced while iterating\n",
      "over \"y\". If an exception is raised during the iteration, it is as if\n",
      "\"in\" raised that exception.\n",
      "\n",
      "Lastly, the old-style iteration protocol is tried: if a class defines\n",
      "\"__getitem__()\", \"x in y\" is \"True\" if and only if there is a non-\n",
      "negative integer index *i* such that \"x is y[i] or x == y[i]\", and no\n",
      "lower integer index raises the \"IndexError\" exception.  (If any other\n",
      "exception is raised, it is as if \"in\" raised that exception).\n",
      "\n",
      "The operator \"not in\" is defined to have the inverse truth value of\n",
      "\"in\".\n",
      "\n",
      "\n",
      "Identity comparisons\n",
      "====================\n",
      "\n",
      "The operators \"is\" and \"is not\" test for an object’s identity: \"x is\n",
      "y\" is true if and only if *x* and *y* are the same object.  An\n",
      "Object’s identity is determined using the \"id()\" function.  \"x is not\n",
      "y\" yields the inverse truth value. [4]\n",
      "\n",
      "Related help topics: EXPRESSIONS, BASICMETHODS\n",
      "\n"
     ]
    }
   ],
   "source": [
    "help('is')"
   ]
  },
  {
   "cell_type": "markdown",
   "id": "a695226d-3f4d-4717-8c59-c17198a1a229",
   "metadata": {},
   "source": [
    "## About assigments\n",
    "\n",
    "-   Python never copies an object\n",
    "-   Unless you ask him to\n",
    "\n",
    "When you code\n",
    "\n",
    "``` python\n",
    "x = [1, 2, 3]\n",
    "y = x\n",
    "```\n",
    "\n",
    "you just - **bind** the variable name `x` to a list `[1, 2, 3]` - give\n",
    "another name `y` to the same object\n",
    "\n",
    "**Important remarks**\n",
    "\n",
    "-   **Everything** is an object in Python\n",
    "-   Either **immutable** or **mutable**"
   ]
  },
  {
   "cell_type": "code",
   "execution_count": 124,
   "id": "145476d1",
   "metadata": {
    "ExecuteTime": {
     "end_time": "2021-01-15T08:34:48.640520Z",
     "start_time": "2021-01-15T08:34:48.635298Z"
    }
   },
   "outputs": [
    {
     "data": {
      "text/plain": [
       "(11753896, 11753928, 11753928)"
      ]
     },
     "execution_count": 124,
     "metadata": {},
     "output_type": "execute_result"
    }
   ],
   "source": [
    "id(1), id(1+1), id(2)"
   ]
  },
  {
   "cell_type": "markdown",
   "id": "cb100bea-9cbe-4f3f-a086-714367b1a9a9",
   "metadata": {},
   "source": [
    "**A `list` is mutable**"
   ]
  },
  {
   "cell_type": "code",
   "execution_count": 125,
   "id": "10a416ec",
   "metadata": {
    "ExecuteTime": {
     "end_time": "2021-01-15T08:34:48.849673Z",
     "start_time": "2021-01-15T08:34:48.845469Z"
    },
    "slideshow": {
     "slide_type": "-"
    }
   },
   "outputs": [
    {
     "name": "stdout",
     "output_type": "stream",
     "text": [
      "136377566846400 [1, 2, 3]\n",
      "136377566846400 [43, 2, 3, 3.14]\n"
     ]
    }
   ],
   "source": [
    "x = [1, 2, 3]\n",
    "print(id(x), x)\n",
    "x[0] += 42; x.append(3.14)\n",
    "print(id(x), x)"
   ]
  },
  {
   "cell_type": "markdown",
   "id": "355c02f5-8efa-4d68-b3aa-2d28456ff31a",
   "metadata": {},
   "source": [
    "**A `str` is immutable**\n",
    "\n",
    "In order to “change” an **immutable** object, Python creates a new one"
   ]
  },
  {
   "cell_type": "code",
   "execution_count": 126,
   "id": "f055b806",
   "metadata": {
    "ExecuteTime": {
     "end_time": "2021-01-15T08:34:48.989090Z",
     "start_time": "2021-01-15T08:34:48.984655Z"
    }
   },
   "outputs": [
    {
     "name": "stdout",
     "output_type": "stream",
     "text": [
      "136377650748880 to\n",
      "136377566925216 toto\n"
     ]
    }
   ],
   "source": [
    "s = 'to'\n",
    "print(id(s), s)\n",
    "s += 'to'\n",
    "print(id(s), s)"
   ]
  },
  {
   "cell_type": "markdown",
   "id": "c49aceb8-e151-4e7a-ae3a-74f62d7c70f8",
   "metadata": {},
   "source": [
    "**Once again, a `list` is mutable**"
   ]
  },
  {
   "cell_type": "code",
   "execution_count": 127,
   "id": "e4adae60",
   "metadata": {
    "ExecuteTime": {
     "end_time": "2021-01-15T08:34:49.185045Z",
     "start_time": "2021-01-15T08:34:49.179743Z"
    },
    "slideshow": {
     "slide_type": "-"
    }
   },
   "outputs": [
    {
     "data": {
      "text/plain": [
       "(136377566776128, 136377566776128)"
      ]
     },
     "execution_count": 127,
     "metadata": {},
     "output_type": "execute_result"
    }
   ],
   "source": [
    "super_list = [3.14, (1, 2, 3), 'tintin']\n",
    "other_list = super_list\n",
    "id(other_list), id(super_list)"
   ]
  },
  {
   "cell_type": "markdown",
   "id": "12db8519-23fb-451f-b6e9-54864f0ac0e1",
   "metadata": {},
   "source": [
    "-   `other_list` and `super_list` are the same list\n",
    "-   If you change one, you change the other.\n",
    "-   `id` returns the identity of an object. Two objects with the same\n",
    "    idendity are the same (not only the same type, but the same\n",
    "    instance)"
   ]
  },
  {
   "cell_type": "code",
   "execution_count": 128,
   "id": "5291934c",
   "metadata": {
    "ExecuteTime": {
     "end_time": "2021-01-15T08:34:49.490066Z",
     "start_time": "2021-01-15T08:34:49.483598Z"
    }
   },
   "outputs": [
    {
     "data": {
      "text/plain": [
       "([3.14, 'youps', 'tintin'], [3.14, 'youps', 'tintin'])"
      ]
     },
     "execution_count": 128,
     "metadata": {},
     "output_type": "execute_result"
    }
   ],
   "source": [
    "other_list[1] = 'youps'\n",
    "other_list, super_list"
   ]
  },
  {
   "cell_type": "code",
   "execution_count": 129,
   "id": "70dfa466",
   "metadata": {},
   "outputs": [
    {
     "data": {
      "text/plain": [
       "(136377566776128, 136377566776128)"
      ]
     },
     "execution_count": 129,
     "metadata": {},
     "output_type": "execute_result"
    }
   ],
   "source": [
    "id(super_list), id(other_list)"
   ]
  },
  {
   "cell_type": "markdown",
   "id": "641572d4-de11-4afd-b994-7d37effe695f",
   "metadata": {},
   "source": [
    "## If you want a copy, to need to ask for one"
   ]
  },
  {
   "cell_type": "code",
   "execution_count": 130,
   "id": "8f1132e7",
   "metadata": {
    "ExecuteTime": {
     "end_time": "2021-01-15T08:34:49.810775Z",
     "start_time": "2021-01-15T08:34:49.804825Z"
    }
   },
   "outputs": [
    {
     "data": {
      "text/plain": [
       "(136377566906240, 136377566776128)"
      ]
     },
     "execution_count": 130,
     "metadata": {},
     "output_type": "execute_result"
    }
   ],
   "source": [
    "other_list = super_list.copy()\n",
    "id(other_list), id(super_list)"
   ]
  },
  {
   "cell_type": "code",
   "execution_count": 131,
   "id": "2f805f7d",
   "metadata": {
    "ExecuteTime": {
     "end_time": "2021-01-15T08:34:50.044319Z",
     "start_time": "2021-01-15T08:34:50.038631Z"
    }
   },
   "outputs": [
    {
     "data": {
      "text/plain": [
       "([3.14, 'copy', 'tintin'], [3.14, 'youps', 'tintin'])"
      ]
     },
     "execution_count": 131,
     "metadata": {},
     "output_type": "execute_result"
    }
   ],
   "source": [
    "other_list[1] = 'copy'\n",
    "other_list, super_list"
   ]
  },
  {
   "cell_type": "markdown",
   "id": "21dff267-c5d4-403f-8c41-84d2d0574980",
   "metadata": {},
   "source": [
    "Only `other_list` is modified.\n",
    "\n",
    "But… what if you have a `list` of `list` ? (or a mutable object\n",
    "containing mutable objects)"
   ]
  },
  {
   "cell_type": "code",
   "execution_count": 132,
   "id": "6d197aa5",
   "metadata": {
    "ExecuteTime": {
     "end_time": "2021-01-15T08:34:50.522523Z",
     "start_time": "2021-01-15T08:34:50.515916Z"
    },
    "slideshow": {
     "slide_type": "fragment"
    }
   },
   "outputs": [
    {
     "data": {
      "text/plain": [
       "[[1, 2, 3], [4, 5, 6]]"
      ]
     },
     "execution_count": 132,
     "metadata": {},
     "output_type": "execute_result"
    }
   ],
   "source": [
    "l1, l2 = [1, 2, 3], [4, 5, 6]\n",
    "list_list = [l1, l2]\n",
    "list_list"
   ]
  },
  {
   "cell_type": "code",
   "execution_count": 133,
   "id": "4d950ef1",
   "metadata": {},
   "outputs": [
    {
     "data": {
      "text/plain": [
       "(136377566911424, 136377566906048, 136377566906048, True)"
      ]
     },
     "execution_count": 133,
     "metadata": {},
     "output_type": "execute_result"
    }
   ],
   "source": [
    "id(list_list), id(list_list[0]), id(l1), list_list[0] is l1"
   ]
  },
  {
   "cell_type": "markdown",
   "id": "d7a043c9-7a74-468a-982a-35938246a4df",
   "metadata": {},
   "source": [
    "Let’s make a copy of `list_list`"
   ]
  },
  {
   "cell_type": "code",
   "execution_count": 134,
   "id": "93b0fea7",
   "metadata": {
    "ExecuteTime": {
     "end_time": "2021-01-15T08:34:50.900506Z",
     "start_time": "2021-01-15T08:34:50.894593Z"
    }
   },
   "outputs": [
    {
     "data": {
      "text/plain": [
       "([[1, 2, 3], [4, 5, 6]], [[1, 2, 3], [4, 5, 6], 'super'])"
      ]
     },
     "execution_count": 134,
     "metadata": {},
     "output_type": "execute_result"
    }
   ],
   "source": [
    "copy_list = list_list.copy()\n",
    "copy_list.append('super')\n",
    "list_list, copy_list"
   ]
  },
  {
   "cell_type": "code",
   "execution_count": 135,
   "id": "e24ac4f8",
   "metadata": {},
   "outputs": [
    {
     "data": {
      "text/plain": [
       "(136377566906048, 136377566906048)"
      ]
     },
     "execution_count": 135,
     "metadata": {},
     "output_type": "execute_result"
    }
   ],
   "source": [
    "id(list_list[0]), id(copy_list[0])"
   ]
  },
  {
   "cell_type": "markdown",
   "id": "e6c5b3a4-0a8a-4239-851b-56d182cf94ab",
   "metadata": {},
   "source": [
    "OK, only `copy_list` is modified, as expected\n",
    "\n",
    "But now…"
   ]
  },
  {
   "cell_type": "code",
   "execution_count": 136,
   "id": "078de3d1",
   "metadata": {
    "ExecuteTime": {
     "end_time": "2021-01-15T08:34:51.550226Z",
     "start_time": "2021-01-15T08:34:51.545049Z"
    }
   },
   "outputs": [
    {
     "data": {
      "text/plain": [
       "([[1, 'oups', 3], [4, 5, 6], 'super'], [[1, 'oups', 3], [4, 5, 6]])"
      ]
     },
     "execution_count": 136,
     "metadata": {},
     "output_type": "execute_result"
    }
   ],
   "source": [
    "copy_list[0][1] = 'oups'\n",
    "copy_list, list_list"
   ]
  },
  {
   "cell_type": "markdown",
   "id": "4e27c058-d6e5-4115-a303-1a2e5e88766a",
   "metadata": {},
   "source": [
    "**Question.** What happened ?!?\n",
    "\n",
    "-   The `list_list` object is copied\n",
    "-   But NOT what it’s containing !\n",
    "-   By default `copy` does a *shallow* copy, not a *deep* copy\n",
    "-   It does not build copies of what is contained\n",
    "-   If you want to copy an object and all that is contained in it, you\n",
    "    need to use `deepcopy`."
   ]
  },
  {
   "cell_type": "code",
   "execution_count": 137,
   "id": "9b7c4e74",
   "metadata": {
    "ExecuteTime": {
     "end_time": "2021-01-15T08:34:52.242785Z",
     "start_time": "2021-01-15T08:34:52.236814Z"
    }
   },
   "outputs": [
    {
     "data": {
      "text/plain": [
       "([[1, 'oups', 3], [4, 5, 6]], [[1, 'incredible !', 3], [4, 5, 6]])"
      ]
     },
     "execution_count": 137,
     "metadata": {},
     "output_type": "execute_result"
    }
   ],
   "source": [
    "from copy import deepcopy\n",
    "\n",
    "copy_list = deepcopy(list_list)\n",
    "copy_list[0][1] = 'incredible !'\n",
    "list_list, copy_list"
   ]
  },
  {
   "cell_type": "markdown",
   "id": "4408bfbd-1804-43b9-89b6-0bc21c5e850a",
   "metadata": {},
   "source": [
    "## Final remarks"
   ]
  },
  {
   "cell_type": "code",
   "execution_count": 138,
   "id": "b0b4633c",
   "metadata": {
    "ExecuteTime": {
     "end_time": "2021-01-15T08:34:52.389405Z",
     "start_time": "2021-01-15T08:34:52.384515Z"
    }
   },
   "outputs": [
    {
     "name": "stdout",
     "output_type": "stream",
     "text": [
      "136377567519872 ([1, 2, 3], [4, 5, 6])\n",
      "[136377566989952, 136377566994688]\n"
     ]
    }
   ],
   "source": [
    "tt = ([1, 2, 3], [4, 5, 6])\n",
    "print(id(tt), tt)\n",
    "print(list(map(id, tt)))"
   ]
  },
  {
   "cell_type": "code",
   "execution_count": 139,
   "id": "a14263ce",
   "metadata": {
    "ExecuteTime": {
     "end_time": "2021-01-15T08:34:52.490073Z",
     "start_time": "2021-01-15T08:34:52.483857Z"
    }
   },
   "outputs": [
    {
     "name": "stdout",
     "output_type": "stream",
     "text": [
      "136377567519872 ([1, '42', 3], [4, 5, 6])\n",
      "[136377566989952, 136377566994688]\n"
     ]
    }
   ],
   "source": [
    "tt[0][1] = '42'\n",
    "print(id(tt), tt)\n",
    "print(list(map(id, tt)))"
   ]
  },
  {
   "cell_type": "code",
   "execution_count": 140,
   "id": "abb9123d",
   "metadata": {},
   "outputs": [],
   "source": [
    "s = [1, 2, 3]"
   ]
  },
  {
   "cell_type": "code",
   "execution_count": 141,
   "id": "bfe7aa0a",
   "metadata": {},
   "outputs": [],
   "source": [
    "s2 = s"
   ]
  },
  {
   "cell_type": "code",
   "execution_count": 142,
   "id": "32058330",
   "metadata": {},
   "outputs": [
    {
     "data": {
      "text/plain": [
       "True"
      ]
     },
     "execution_count": 142,
     "metadata": {},
     "output_type": "execute_result"
    }
   ],
   "source": [
    "s2 is s"
   ]
  },
  {
   "cell_type": "code",
   "execution_count": 143,
   "id": "550f9e90",
   "metadata": {},
   "outputs": [
    {
     "data": {
      "text/plain": [
       "(136377566905920, 136377566905920)"
      ]
     },
     "execution_count": 143,
     "metadata": {},
     "output_type": "execute_result"
    }
   ],
   "source": [
    "id(s2), id(s)"
   ]
  },
  {
   "cell_type": "markdown",
   "id": "99437580-a206-4807-bae5-41679c707dec",
   "metadata": {},
   "source": [
    "# Control flow and other stuff…\n",
    "\n",
    "Namely tests, loops, again booleans, etc."
   ]
  },
  {
   "cell_type": "code",
   "execution_count": 144,
   "id": "abca6cca",
   "metadata": {
    "ExecuteTime": {
     "end_time": "2021-01-15T08:34:52.822274Z",
     "start_time": "2021-01-15T08:34:52.818018Z"
    },
    "slideshow": {
     "slide_type": "subslide"
    }
   },
   "outputs": [
    {
     "name": "stdout",
     "output_type": "stream",
     "text": [
      "YES\n",
      "toujours\n"
     ]
    }
   ],
   "source": [
    "if 2 ** 2 == 5:\n",
    "    print('Obvious')\n",
    "else:\n",
    "    print('YES')\n",
    "print('toujours')"
   ]
  },
  {
   "cell_type": "markdown",
   "id": "80f99c23-580a-429d-ae46-21a91a018af0",
   "metadata": {},
   "source": [
    "## Blocks are delimited by indentation!"
   ]
  },
  {
   "cell_type": "code",
   "execution_count": 145,
   "id": "412261ae",
   "metadata": {
    "ExecuteTime": {
     "end_time": "2021-01-15T08:34:53.244482Z",
     "start_time": "2021-01-15T08:34:53.240054Z"
    }
   },
   "outputs": [],
   "source": [
    "a = 3\n",
    "if a > 0:\n",
    "    if a == 1:\n",
    "        print(1)\n",
    "    elif a == 2:\n",
    "        print(2)\n",
    "elif a == 2:\n",
    "    print(2)\n",
    "elif a == 3:\n",
    "    print(3)\n",
    "else:\n",
    "    print(a)"
   ]
  },
  {
   "cell_type": "markdown",
   "id": "82772a4c-35c1-4272-904a-f66677817203",
   "metadata": {},
   "source": [
    "## Anything can be understood as a boolean\n",
    "\n",
    "For example, don’t do this to test if a list is empty"
   ]
  },
  {
   "cell_type": "code",
   "execution_count": 146,
   "id": "8af0c8af",
   "metadata": {
    "ExecuteTime": {
     "end_time": "2021-01-15T08:34:53.660533Z",
     "start_time": "2021-01-15T08:34:53.655820Z"
    }
   },
   "outputs": [
    {
     "name": "stdout",
     "output_type": "stream",
     "text": [
      "hello\n"
     ]
    }
   ],
   "source": [
    "l2 = ['hello', 'everybody']\n",
    "\n",
    "if len(l2) > 0:\n",
    "    print(l2[0])"
   ]
  },
  {
   "cell_type": "markdown",
   "id": "94392491-677e-42f8-a142-455e31fce702",
   "metadata": {},
   "source": [
    "but this"
   ]
  },
  {
   "cell_type": "code",
   "execution_count": 147,
   "id": "dcd9fee1",
   "metadata": {
    "ExecuteTime": {
     "end_time": "2021-01-15T08:34:54.244191Z",
     "start_time": "2021-01-15T08:34:54.239801Z"
    }
   },
   "outputs": [
    {
     "name": "stdout",
     "output_type": "stream",
     "text": [
      "hello\n"
     ]
    }
   ],
   "source": [
    "if l2:\n",
    "    print(l2[0])"
   ]
  },
  {
   "cell_type": "markdown",
   "id": "96bf9b65-83ca-4871-adce-79cae73d2462",
   "metadata": {},
   "source": [
    "**Some poetry**\n",
    "\n",
    "-   An empty `dict` is `False`\n",
    "-   An empty `string` is `False`\n",
    "-   An empty `list` is `False`\n",
    "-   An empty `tuple` is `False`\n",
    "-   An empty `set` is `False`\n",
    "-   `0` is `False`\n",
    "-   `.0` is `False`\n",
    "-   etc…\n",
    "-   everything else is `True`\n",
    "\n",
    "## While loops"
   ]
  },
  {
   "cell_type": "code",
   "execution_count": 148,
   "id": "41734831",
   "metadata": {
    "ExecuteTime": {
     "end_time": "2021-01-15T08:34:55.427330Z",
     "start_time": "2021-01-15T08:34:55.422079Z"
    }
   },
   "outputs": [
    {
     "name": "stdout",
     "output_type": "stream",
     "text": [
      "2\n",
      "3\n",
      "4\n",
      "5\n",
      "6\n",
      "7\n",
      "8\n",
      "9\n",
      "10\n"
     ]
    }
   ],
   "source": [
    "a = 10\n",
    "b = 1\n",
    "while b < a:\n",
    "    b = b + 1\n",
    "    print(b)"
   ]
  },
  {
   "cell_type": "markdown",
   "id": "c85ebb1c-6d05-49aa-98c9-577a6f66b444",
   "metadata": {},
   "source": [
    "Compute the decimals of Pi using the Wallis formula\n",
    "\n",
    "$$\n",
    "\\pi = 2 \\prod_{i=1}^{100} \\frac{4i^2}{4i^2 - 1}\n",
    "$$"
   ]
  },
  {
   "cell_type": "code",
   "execution_count": 149,
   "id": "ee393382",
   "metadata": {
    "ExecuteTime": {
     "end_time": "2021-01-15T08:34:55.901297Z",
     "start_time": "2021-01-15T08:34:55.815952Z"
    }
   },
   "outputs": [],
   "source": [
    "pi = 2\n",
    "eps = 1e-10\n",
    "dif = 2 * eps\n",
    "i = 1\n",
    "while dif > eps:\n",
    "    pi, i, old_pi = pi * 4 * i ** 2 / (4 * i ** 2 - 1), i + 1, pi\n",
    "    dif = pi - old_pi"
   ]
  },
  {
   "cell_type": "code",
   "execution_count": 150,
   "id": "41abf88e",
   "metadata": {
    "ExecuteTime": {
     "end_time": "2021-01-15T08:34:55.998039Z",
     "start_time": "2021-01-15T08:34:55.993033Z"
    }
   },
   "outputs": [
    {
     "data": {
      "text/plain": [
       "3.1415837914138556"
      ]
     },
     "execution_count": 150,
     "metadata": {},
     "output_type": "execute_result"
    }
   ],
   "source": [
    "pi"
   ]
  },
  {
   "cell_type": "code",
   "execution_count": 151,
   "id": "d95ef0c1",
   "metadata": {
    "ExecuteTime": {
     "end_time": "2021-01-15T08:34:56.672400Z",
     "start_time": "2021-01-15T08:34:56.667181Z"
    }
   },
   "outputs": [
    {
     "data": {
      "text/plain": [
       "3.141592653589793"
      ]
     },
     "execution_count": 151,
     "metadata": {},
     "output_type": "execute_result"
    }
   ],
   "source": [
    "from math import pi\n",
    "\n",
    "pi"
   ]
  },
  {
   "cell_type": "markdown",
   "id": "a4657cc6-6bc5-4dea-89c0-71a43f1f5662",
   "metadata": {},
   "source": [
    "## `for` loop with `range`\n",
    "\n",
    "-   Iteration with an index, with a list, with many things !\n",
    "-   `range` has the same parameters as with slicing `start:end:stride`,\n",
    "    all parameters being optional"
   ]
  },
  {
   "cell_type": "code",
   "execution_count": 152,
   "id": "8a666f6e",
   "metadata": {
    "ExecuteTime": {
     "end_time": "2021-01-15T08:34:57.074626Z",
     "start_time": "2021-01-15T08:34:57.068953Z"
    }
   },
   "outputs": [
    {
     "name": "stdout",
     "output_type": "stream",
     "text": [
      "0\n",
      "1\n",
      "2\n",
      "3\n",
      "4\n",
      "5\n",
      "6\n",
      "7\n",
      "8\n",
      "9\n"
     ]
    }
   ],
   "source": [
    "for i in range(10):\n",
    "    print(i)"
   ]
  },
  {
   "cell_type": "code",
   "execution_count": 153,
   "id": "9aa6c1db",
   "metadata": {
    "ExecuteTime": {
     "end_time": "2021-01-15T08:34:57.288732Z",
     "start_time": "2021-01-15T08:34:57.283152Z"
    },
    "slideshow": {
     "slide_type": "subslide"
    }
   },
   "outputs": [
    {
     "name": "stdout",
     "output_type": "stream",
     "text": [
      "1\n",
      "2\n",
      "3\n",
      "4\n",
      "-\n",
      "1\n",
      "2\n",
      "3\n",
      "4\n",
      "-\n",
      "1\n",
      "4\n",
      "7\n"
     ]
    }
   ],
   "source": [
    "for i in range(4):\n",
    "    print(i + 1)\n",
    "print('-')\n",
    "\n",
    "for i in range(1, 5):\n",
    "    print(i)\n",
    "print('-')\n",
    "\n",
    "for i in range(1, 10, 3):\n",
    "    print(i)"
   ]
  },
  {
   "cell_type": "markdown",
   "id": "be064e34-dd79-432a-92cf-9e878367a2c6",
   "metadata": {},
   "source": [
    "**Something for nerds**. You can use `else` in a `for` loop"
   ]
  },
  {
   "cell_type": "code",
   "execution_count": 154,
   "id": "2fde8dcb",
   "metadata": {
    "ExecuteTime": {
     "end_time": "2021-01-15T08:35:03.792632Z",
     "start_time": "2021-01-15T08:35:03.788211Z"
    }
   },
   "outputs": [
    {
     "name": "stdout",
     "output_type": "stream",
     "text": [
      "Not found.\n"
     ]
    }
   ],
   "source": [
    "names = ['stephane', 'mokhtar', 'jaouad', 'simon', 'yiyang']\n",
    "\n",
    "for name in names:\n",
    "    if name.startswith('u'):\n",
    "        print(name)\n",
    "        break\n",
    "else:\n",
    "    print('Not found.')"
   ]
  },
  {
   "cell_type": "code",
   "execution_count": 155,
   "id": "778d46ce",
   "metadata": {
    "ExecuteTime": {
     "end_time": "2021-01-15T08:35:11.089072Z",
     "start_time": "2021-01-15T08:35:11.084070Z"
    }
   },
   "outputs": [
    {
     "name": "stdout",
     "output_type": "stream",
     "text": [
      "ulysse\n"
     ]
    }
   ],
   "source": [
    "names = ['stephane', 'mokhtar', 'jaouad', 'ulysse', 'simon', 'yiyang']\n",
    "\n",
    "for name in names:\n",
    "    if name.startswith('u'):\n",
    "        print(name)\n",
    "        break\n",
    "else:\n",
    "    print('Not found.')"
   ]
  },
  {
   "cell_type": "markdown",
   "id": "531464cd-54bd-42a2-bfd0-627339ff99d4",
   "metadata": {},
   "source": [
    "## For loops over iterable objects\n",
    "\n",
    "You can iterate using `for` over any container: `list`, `tuple`, `dict`,\n",
    "`str`, `set` among others…"
   ]
  },
  {
   "cell_type": "code",
   "execution_count": 156,
   "id": "e5380773",
   "metadata": {
    "ExecuteTime": {
     "end_time": "2021-01-15T08:35:14.358404Z",
     "start_time": "2021-01-15T08:35:14.354354Z"
    }
   },
   "outputs": [],
   "source": [
    "colors = ['red', 'blue', 'black', 'white']\n",
    "peoples = ['stephane', 'jaouad', 'mokhtar', 'yiyang', 'rémi']"
   ]
  },
  {
   "cell_type": "code",
   "execution_count": 157,
   "id": "01e79c45",
   "metadata": {
    "ExecuteTime": {
     "end_time": "2021-01-15T08:35:14.546348Z",
     "start_time": "2021-01-15T08:35:14.541964Z"
    }
   },
   "outputs": [
    {
     "name": "stdout",
     "output_type": "stream",
     "text": [
      "red\n",
      "blue\n",
      "black\n",
      "white\n",
      "red\n",
      "blue\n",
      "black\n",
      "white\n"
     ]
    }
   ],
   "source": [
    "# This is stupid\n",
    "for i in range(len(colors)):\n",
    "    print(colors[i])\n",
    "    \n",
    "# This is better\n",
    "for color in colors:\n",
    "    print(color)"
   ]
  },
  {
   "cell_type": "markdown",
   "id": "77fe28c4-9c5e-490c-8781-96d30fdb5b1d",
   "metadata": {},
   "source": [
    "To iterate over several sequences at the same time, use `zip`"
   ]
  },
  {
   "cell_type": "code",
   "execution_count": 158,
   "id": "7f415d36",
   "metadata": {
    "ExecuteTime": {
     "end_time": "2021-01-15T08:35:15.578703Z",
     "start_time": "2021-01-15T08:35:15.574575Z"
    }
   },
   "outputs": [
    {
     "name": "stdout",
     "output_type": "stream",
     "text": [
      "red stephane\n",
      "blue jaouad\n",
      "black mokhtar\n",
      "white yiyang\n"
     ]
    }
   ],
   "source": [
    "for color, people in zip(colors, peoples):\n",
    "    print(color, people)"
   ]
  },
  {
   "cell_type": "code",
   "execution_count": 159,
   "id": "88514b84",
   "metadata": {
    "ExecuteTime": {
     "end_time": "2021-01-15T08:35:15.787784Z",
     "start_time": "2021-01-15T08:35:15.781691Z"
    },
    "slideshow": {
     "slide_type": "fragment"
    }
   },
   "outputs": [
    {
     "name": "stdout",
     "output_type": "stream",
     "text": [
      "Bonjour 7\n",
      "{'francis': 5214, 'stephane': 5123} 2\n",
      "('truc', 3) 2\n"
     ]
    }
   ],
   "source": [
    "l = [\"Bonjour\", {'francis': 5214, 'stephane': 5123}, ('truc', 3)]\n",
    "for e in l:\n",
    "    print(e, len(e))"
   ]
  },
  {
   "cell_type": "markdown",
   "id": "b402a0e3-0a33-40a2-8165-2ef656d01fc7",
   "metadata": {},
   "source": [
    "**Loop over a `str`**"
   ]
  },
  {
   "cell_type": "code",
   "execution_count": 160,
   "id": "81ad6e90",
   "metadata": {
    "ExecuteTime": {
     "end_time": "2021-01-15T08:35:16.284944Z",
     "start_time": "2021-01-15T08:35:16.279583Z"
    }
   },
   "outputs": [
    {
     "name": "stdout",
     "output_type": "stream",
     "text": [
      "B\n",
      "o\n",
      "n\n",
      "j\n",
      "o\n",
      "u\n",
      "r\n"
     ]
    }
   ],
   "source": [
    "s = 'Bonjour'\n",
    "for c in s:\n",
    "    print(c)"
   ]
  },
  {
   "cell_type": "markdown",
   "id": "0584997d-27e2-4761-9908-927ecec896b5",
   "metadata": {},
   "source": [
    "**Loop over a `dict`**"
   ]
  },
  {
   "cell_type": "code",
   "execution_count": 161,
   "id": "3674386c",
   "metadata": {
    "ExecuteTime": {
     "end_time": "2021-01-15T08:35:24.915816Z",
     "start_time": "2021-01-15T08:35:24.910552Z"
    }
   },
   "outputs": [
    {
     "name": "stdout",
     "output_type": "stream",
     "text": [
      "(1, 3)\n",
      "truc\n",
      "5\n"
     ]
    }
   ],
   "source": [
    "dd = {(1, 3): {'hello', 'world'}, 'truc': [1, 2, 3], 5: (1, 4, 2)}\n",
    "\n",
    "# Default is to loop over keys\n",
    "for key in dd:\n",
    "    print(key)"
   ]
  },
  {
   "cell_type": "code",
   "execution_count": 162,
   "id": "51044869",
   "metadata": {
    "ExecuteTime": {
     "end_time": "2021-01-15T08:35:25.116664Z",
     "start_time": "2021-01-15T08:35:25.112459Z"
    }
   },
   "outputs": [
    {
     "name": "stdout",
     "output_type": "stream",
     "text": [
      "{'hello', 'world'}\n",
      "[1, 2, 3]\n",
      "(1, 4, 2)\n"
     ]
    }
   ],
   "source": [
    "# Loop over values\n",
    "for e in dd.values():\n",
    "    print(e)"
   ]
  },
  {
   "cell_type": "code",
   "execution_count": 163,
   "id": "518475df",
   "metadata": {
    "ExecuteTime": {
     "end_time": "2021-01-15T08:35:25.253625Z",
     "start_time": "2021-01-15T08:35:25.248561Z"
    }
   },
   "outputs": [
    {
     "name": "stdout",
     "output_type": "stream",
     "text": [
      "(1, 3) {'hello', 'world'}\n",
      "truc [1, 2, 3]\n",
      "5 (1, 4, 2)\n"
     ]
    }
   ],
   "source": [
    "# Loop over items (key, value) pairs\n",
    "for key, val in dd.items():\n",
    "    print(key, val)"
   ]
  },
  {
   "cell_type": "code",
   "execution_count": 164,
   "id": "9bb7ddb6",
   "metadata": {},
   "outputs": [
    {
     "name": "stdout",
     "output_type": "stream",
     "text": [
      "((1, 3), {'hello', 'world'})\n",
      "('truc', [1, 2, 3])\n",
      "(5, (1, 4, 2))\n"
     ]
    }
   ],
   "source": [
    "for t in dd.items():\n",
    "    print(t)"
   ]
  },
  {
   "cell_type": "markdown",
   "id": "cf3cff79-5e00-4e47-a1d2-65867d8f716a",
   "metadata": {},
   "source": [
    "## Comprehensions\n",
    "\n",
    "You can construct a `list`, `dict`, `set` and others using the\n",
    "**comprehension** syntax\n",
    "\n",
    "**`list` comprehension**"
   ]
  },
  {
   "cell_type": "code",
   "execution_count": 165,
   "id": "b1f91f66",
   "metadata": {
    "ExecuteTime": {
     "end_time": "2021-01-15T08:35:27.023136Z",
     "start_time": "2021-01-15T08:35:27.016816Z"
    }
   },
   "outputs": [
    {
     "name": "stdout",
     "output_type": "stream",
     "text": [
      "['red', 'blue', 'black', 'white']\n",
      "['stephane', 'jaouad', 'mokhtar', 'yiyang', 'rémi']\n"
     ]
    }
   ],
   "source": [
    "print(colors)\n",
    "print(peoples)"
   ]
  },
  {
   "cell_type": "code",
   "execution_count": 166,
   "id": "1d3295a3",
   "metadata": {},
   "outputs": [
    {
     "name": "stdout",
     "output_type": "stream",
     "text": [
      "['stephane', 'jaouad']\n"
     ]
    }
   ],
   "source": [
    "l = []\n",
    "for p, c in zip(peoples, colors):\n",
    "    if len(c)<=4 :\n",
    "        l.append(p)\n",
    "print(l)"
   ]
  },
  {
   "cell_type": "code",
   "execution_count": 167,
   "id": "b55bdc30",
   "metadata": {},
   "outputs": [
    {
     "data": {
      "text/plain": [
       "['stephane', 'jaouad']"
      ]
     },
     "execution_count": 167,
     "metadata": {},
     "output_type": "execute_result"
    }
   ],
   "source": [
    "# The list of people with favorite color that has no more than 4 characters\n",
    "\n",
    "[people for color, people in zip(colors, peoples) if len(color) <= 4]"
   ]
  },
  {
   "cell_type": "markdown",
   "id": "12b85b07-da23-4907-bb9a-035880586489",
   "metadata": {},
   "source": [
    "**`dict` comprehension**"
   ]
  },
  {
   "cell_type": "code",
   "execution_count": 168,
   "id": "d06ec5b9",
   "metadata": {
    "ExecuteTime": {
     "end_time": "2021-01-15T08:35:29.425720Z",
     "start_time": "2021-01-15T08:35:29.418729Z"
    }
   },
   "outputs": [
    {
     "data": {
      "text/plain": [
       "{'stephane': 'red', 'jaouad': 'blue'}"
      ]
     },
     "execution_count": 168,
     "metadata": {},
     "output_type": "execute_result"
    }
   ],
   "source": [
    "{people: color for color, people in zip(colors, peoples) if len(color) <= 4}"
   ]
  },
  {
   "cell_type": "code",
   "execution_count": 169,
   "id": "3083e33a",
   "metadata": {
    "ExecuteTime": {
     "end_time": "2021-01-15T08:35:29.650791Z",
     "start_time": "2021-01-15T08:35:29.645099Z"
    },
    "slideshow": {
     "slide_type": "fragment"
    }
   },
   "outputs": [
    {
     "data": {
      "text/plain": [
       "{'stephane': 'red', 'jaouad': 'blue', 'mokhtar': 'black', 'yiyang': 'white'}"
      ]
     },
     "execution_count": 169,
     "metadata": {},
     "output_type": "execute_result"
    }
   ],
   "source": [
    "# Allows to build a dict from two lists (for keys and values)\n",
    "{key: value for (key, value) in zip(peoples, colors)}"
   ]
  },
  {
   "cell_type": "code",
   "execution_count": 170,
   "id": "0a1f63a5",
   "metadata": {
    "ExecuteTime": {
     "end_time": "2021-01-15T08:35:29.733037Z",
     "start_time": "2021-01-15T08:35:29.728275Z"
    }
   },
   "outputs": [
    {
     "data": {
      "text/plain": [
       "{'stephane': 'red', 'jaouad': 'blue', 'mokhtar': 'black', 'yiyang': 'white'}"
      ]
     },
     "execution_count": 170,
     "metadata": {},
     "output_type": "execute_result"
    }
   ],
   "source": [
    "# But it's simpler (so better) to use\n",
    "dict(zip(peoples, colors))"
   ]
  },
  {
   "cell_type": "markdown",
   "id": "96308a4d-11ec-4419-8bac-6b13ac89166f",
   "metadata": {},
   "source": [
    "Something very convenient is `enumerate`"
   ]
  },
  {
   "cell_type": "code",
   "execution_count": 171,
   "id": "ec42187b",
   "metadata": {
    "ExecuteTime": {
     "end_time": "2021-01-15T08:35:34.108535Z",
     "start_time": "2021-01-15T08:35:34.101660Z"
    }
   },
   "outputs": [
    {
     "name": "stdout",
     "output_type": "stream",
     "text": [
      "0 red\n",
      "1 blue\n",
      "2 black\n",
      "3 white\n"
     ]
    }
   ],
   "source": [
    "for i, color in enumerate(colors):\n",
    "    print(i, color)"
   ]
  },
  {
   "cell_type": "code",
   "execution_count": 172,
   "id": "50244730",
   "metadata": {
    "ExecuteTime": {
     "end_time": "2021-01-15T08:35:34.308091Z",
     "start_time": "2021-01-15T08:35:34.302386Z"
    }
   },
   "outputs": [
    {
     "data": {
      "text/plain": [
       "[(0, 'red'), (1, 'blue'), (2, 'black'), (3, 'white')]"
      ]
     },
     "execution_count": 172,
     "metadata": {},
     "output_type": "execute_result"
    }
   ],
   "source": [
    "list(enumerate(colors))"
   ]
  },
  {
   "cell_type": "code",
   "execution_count": 173,
   "id": "98f2d9b7",
   "metadata": {},
   "outputs": [
    {
     "data": {
      "text/plain": [
       "{0: 'B', 1: 'o', 2: 'n', 3: 'j', 4: 'o', 5: 'u', 6: 'r'}"
      ]
     },
     "execution_count": 173,
     "metadata": {},
     "output_type": "execute_result"
    }
   ],
   "source": [
    "dict(enumerate(s))"
   ]
  },
  {
   "cell_type": "code",
   "execution_count": 174,
   "id": "67187e7e",
   "metadata": {
    "ExecuteTime": {
     "end_time": "2021-01-15T08:35:34.436719Z",
     "start_time": "2021-01-15T08:35:34.432315Z"
    },
    "slideshow": {
     "slide_type": "fragment"
    }
   },
   "outputs": [
    {
     "name": "stdout",
     "output_type": "stream",
     "text": [
      "{0: 'B', 1: 'o', 2: 'n', 3: 'j', 4: 'o', 5: 'u', 6: 'r'}\n"
     ]
    }
   ],
   "source": [
    "print(dict(enumerate(s)))"
   ]
  },
  {
   "cell_type": "code",
   "execution_count": 175,
   "id": "04b23fc9",
   "metadata": {
    "ExecuteTime": {
     "end_time": "2021-01-15T08:35:35.307514Z",
     "start_time": "2021-01-15T08:35:35.302402Z"
    }
   },
   "outputs": [
    {
     "data": {
      "text/plain": [
       "{'H': 0, 'e': 11, 'y': 8, ' ': 3, 'v': 5, 'r': 7, 'o': 9, 'n': 10}"
      ]
     },
     "execution_count": 175,
     "metadata": {},
     "output_type": "execute_result"
    }
   ],
   "source": [
    "s = 'Hey everyone'\n",
    "{c: i for i, c in enumerate(s)}"
   ]
  },
  {
   "cell_type": "markdown",
   "id": "77daa000-a43c-4ac6-b587-381863eafe2d",
   "metadata": {},
   "source": [
    "## About functional programming\n",
    "\n",
    "We can use `lambda` to define **anonymous** functions, and use them in\n",
    "the `map` and `reduce` functions"
   ]
  },
  {
   "cell_type": "code",
   "execution_count": 176,
   "id": "dd0d2d6a",
   "metadata": {
    "ExecuteTime": {
     "end_time": "2021-01-15T08:35:37.077273Z",
     "start_time": "2021-01-15T08:35:37.071704Z"
    }
   },
   "outputs": [
    {
     "data": {
      "text/plain": [
       "4"
      ]
     },
     "execution_count": 176,
     "metadata": {},
     "output_type": "execute_result"
    }
   ],
   "source": [
    "square = lambda x: x ** 2\n",
    "square(2)"
   ]
  },
  {
   "cell_type": "code",
   "execution_count": 177,
   "id": "e1e92da3",
   "metadata": {},
   "outputs": [
    {
     "data": {
      "text/plain": [
       "function"
      ]
     },
     "execution_count": 177,
     "metadata": {},
     "output_type": "execute_result"
    }
   ],
   "source": [
    "type(square)"
   ]
  },
  {
   "cell_type": "code",
   "execution_count": 178,
   "id": "59508c0f",
   "metadata": {},
   "outputs": [
    {
     "data": {
      "text/plain": [
       "['__annotations__',\n",
       " '__builtins__',\n",
       " '__call__',\n",
       " '__class__',\n",
       " '__closure__',\n",
       " '__code__',\n",
       " '__defaults__',\n",
       " '__delattr__',\n",
       " '__dict__',\n",
       " '__dir__',\n",
       " '__doc__',\n",
       " '__eq__',\n",
       " '__format__',\n",
       " '__ge__',\n",
       " '__get__',\n",
       " '__getattribute__',\n",
       " '__getstate__',\n",
       " '__globals__',\n",
       " '__gt__',\n",
       " '__hash__',\n",
       " '__init__',\n",
       " '__init_subclass__',\n",
       " '__kwdefaults__',\n",
       " '__le__',\n",
       " '__lt__',\n",
       " '__module__',\n",
       " '__name__',\n",
       " '__ne__',\n",
       " '__new__',\n",
       " '__qualname__',\n",
       " '__reduce__',\n",
       " '__reduce_ex__',\n",
       " '__repr__',\n",
       " '__setattr__',\n",
       " '__sizeof__',\n",
       " '__str__',\n",
       " '__subclasshook__',\n",
       " '__type_params__']"
      ]
     },
     "execution_count": 178,
     "metadata": {},
     "output_type": "execute_result"
    }
   ],
   "source": [
    "dir(square)"
   ]
  },
  {
   "cell_type": "code",
   "execution_count": 179,
   "id": "b4c5114f",
   "metadata": {},
   "outputs": [],
   "source": [
    "s = \"a\""
   ]
  },
  {
   "cell_type": "code",
   "execution_count": 180,
   "id": "3312b163",
   "metadata": {},
   "outputs": [
    {
     "name": "stdout",
     "output_type": "stream",
     "text": [
      "TypeError: unsupported operand type(s) for ** or pow(): 'str' and 'int'\n"
     ]
    }
   ],
   "source": [
    "try:\n",
    "    square(\"a\")\n",
    "except TypeError:\n",
    "    print(\"TypeError: unsupported operand type(s) for ** or pow(): 'str' and 'int'\")"
   ]
  },
  {
   "cell_type": "code",
   "execution_count": 181,
   "id": "fadcb184",
   "metadata": {
    "ExecuteTime": {
     "end_time": "2021-01-15T08:35:37.269771Z",
     "start_time": "2021-01-15T08:35:37.265389Z"
    }
   },
   "outputs": [
    {
     "name": "stdout",
     "output_type": "stream",
     "text": [
      "Hello world\n",
      "3\n"
     ]
    }
   ],
   "source": [
    "sum2 = lambda a, b: a + b\n",
    "print(sum2('Hello', ' world'))\n",
    "print(sum2(1, 2))"
   ]
  },
  {
   "cell_type": "markdown",
   "id": "a77ff06f-3223-4f05-b672-21661fa833a7",
   "metadata": {},
   "source": [
    "Intended for short and one-line function.\n",
    "\n",
    "More complex functions use `def` (see below)\n",
    "\n",
    "## Exercise\n",
    "\n",
    "Print the squares of even numbers between 0 et 15\n",
    "\n",
    "1.  Using a list comprehension as before\n",
    "2.  Using `map`\n",
    "\n",
    "## Brain-teasing\n",
    "\n",
    "What is the output of"
   ]
  },
  {
   "cell_type": "code",
   "execution_count": 182,
   "id": "8b5e27c5",
   "metadata": {},
   "outputs": [
    {
     "ename": "NameError",
     "evalue": "name 'reduce' is not defined",
     "output_type": "error",
     "traceback": [
      "\u001b[0;31m---------------------------------------------------------------------------\u001b[0m",
      "\u001b[0;31mNameError\u001b[0m                                 Traceback (most recent call last)",
      "Cell \u001b[0;32mIn[182], line 1\u001b[0m\n\u001b[0;32m----> 1\u001b[0m \u001b[43mreduce\u001b[49m(\u001b[38;5;28;01mlambda\u001b[39;00m a, b: a \u001b[38;5;241m+\u001b[39m b[\u001b[38;5;241m0\u001b[39m] \u001b[38;5;241m*\u001b[39m b[\u001b[38;5;241m1\u001b[39m], \u001b[38;5;28menumerate\u001b[39m(\u001b[38;5;124m'\u001b[39m\u001b[38;5;124mabcde\u001b[39m\u001b[38;5;124m'\u001b[39m), \u001b[38;5;124m'\u001b[39m\u001b[38;5;124mA\u001b[39m\u001b[38;5;124m'\u001b[39m)\n",
      "\u001b[0;31mNameError\u001b[0m: name 'reduce' is not defined"
     ]
    }
   ],
   "source": [
    "reduce(lambda a, b: a + b[0] * b[1], enumerate('abcde'), 'A')"
   ]
  },
  {
   "cell_type": "markdown",
   "id": "655fcccd-4d4f-463f-8b50-c9c6f1541b22",
   "metadata": {},
   "source": [
    "# Generators"
   ]
  },
  {
   "cell_type": "code",
   "execution_count": null,
   "id": "1857bc30",
   "metadata": {
    "ExecuteTime": {
     "end_time": "2021-01-15T08:36:00.984160Z",
     "start_time": "2021-01-15T08:36:00.402833Z"
    },
    "slideshow": {
     "slide_type": "subslide"
    }
   },
   "outputs": [],
   "source": [
    "import sys\n",
    "import matplotlib.pyplot as plt\n",
    "%matplotlib inline"
   ]
  },
  {
   "cell_type": "code",
   "execution_count": null,
   "id": "4c14d89c",
   "metadata": {},
   "outputs": [],
   "source": [
    "plt.figure(figsize=(6, 6))\n",
    "plt.plot([sys.getsizeof(list(range(i))) for i in range(10000)], lw=3)\n",
    "plt.plot([sys.getsizeof(range(i)) for i in range(10000)], lw=3)\n",
    "plt.xlabel('Number of elements (value of i)', fontsize=14)\n",
    "plt.ylabel('Size (in bytes)', fontsize=14)\n",
    "_ = plt.legend(['list(range(i))', 'range(i)'], fontsize=16)"
   ]
  },
  {
   "cell_type": "markdown",
   "id": "af7bacdf-444d-452e-bbec-dab18befe32e",
   "metadata": {},
   "source": [
    "## Why generators ?\n",
    "\n",
    "The memory used by `range(i)` does not scale linearly with `i`\n",
    "\n",
    "What is happening ?\n",
    "\n",
    "-   `range(n)` does not allocate a list of `n` elements !\n",
    "-   It **generates on the fly** the list of required integers\n",
    "-   We say that such an object behaves like a **generator** in `Python`\n",
    "-   Many things in the `Python` standard library behaves like this\n",
    "\n",
    "**Warning.** Getting the real memory footprint of a `Python` object is\n",
    "difficult. Note that `sizeof` calls the `__sizeof__` method of `r`,\n",
    "which does not give in general the actual memory used by an object. But\n",
    "nevermind here.\n",
    "\n",
    "The following computation has no memory footprint:"
   ]
  },
  {
   "cell_type": "code",
   "execution_count": null,
   "id": "af1c7fb7",
   "metadata": {
    "ExecuteTime": {
     "end_time": "2021-01-15T08:36:17.535131Z",
     "start_time": "2021-01-15T08:36:16.258179Z"
    },
    "slideshow": {
     "slide_type": "-"
    }
   },
   "outputs": [],
   "source": [
    "sum(range(10**8))"
   ]
  },
  {
   "cell_type": "code",
   "execution_count": null,
   "id": "9fd0c331",
   "metadata": {
    "ExecuteTime": {
     "end_time": "2021-01-15T08:36:17.541785Z",
     "start_time": "2021-01-15T08:36:17.537229Z"
    }
   },
   "outputs": [],
   "source": [
    "map(lambda x: x**2, range(10**7))"
   ]
  },
  {
   "cell_type": "markdown",
   "id": "c9be099f-c906-4350-9a72-552a0e0b59d6",
   "metadata": {},
   "source": [
    "`map` does not return a `list` for the same reason"
   ]
  },
  {
   "cell_type": "code",
   "execution_count": null,
   "id": "6fc15f66",
   "metadata": {
    "ExecuteTime": {
     "end_time": "2021-01-15T08:36:17.817857Z",
     "start_time": "2021-01-15T08:36:17.544451Z"
    }
   },
   "outputs": [],
   "source": [
    "sum(map(lambda x: x**2, range(10**6)))"
   ]
  },
  {
   "cell_type": "markdown",
   "id": "c152fceb-8965-45e7-b0a8-3a8e07864ed9",
   "metadata": {},
   "source": [
    "## Generator expression\n",
    "\n",
    "Namely generators defined through comprehensions. Just replace `[]` by\n",
    "`()` in the comprehension.\n",
    "\n",
    "A generator can be iterated on only **once**"
   ]
  },
  {
   "cell_type": "code",
   "execution_count": null,
   "id": "76fdd4e1",
   "metadata": {},
   "outputs": [],
   "source": [
    "range(10)"
   ]
  },
  {
   "cell_type": "code",
   "execution_count": null,
   "id": "e40f76db",
   "metadata": {},
   "outputs": [],
   "source": [
    "carres = (i**2 for i in range(10))"
   ]
  },
  {
   "cell_type": "code",
   "execution_count": null,
   "id": "77e75fa1",
   "metadata": {},
   "outputs": [],
   "source": [
    "carres"
   ]
  },
  {
   "cell_type": "code",
   "execution_count": null,
   "id": "a204bd31",
   "metadata": {},
   "outputs": [],
   "source": [
    "for c in carres:\n",
    "    print(c)"
   ]
  },
  {
   "cell_type": "code",
   "execution_count": null,
   "id": "e913267c",
   "metadata": {},
   "outputs": [],
   "source": [
    "for i in range(4):\n",
    "    for j in range(3):\n",
    "        print(i, j)"
   ]
  },
  {
   "cell_type": "code",
   "execution_count": null,
   "id": "2d2a3339",
   "metadata": {},
   "outputs": [],
   "source": [
    "from itertools import product\n",
    "\n",
    "for t in product(range(4), range(3)):\n",
    "    print(t)"
   ]
  },
  {
   "cell_type": "code",
   "execution_count": null,
   "id": "c69ea0e5",
   "metadata": {
    "ExecuteTime": {
     "end_time": "2021-01-15T08:36:19.688387Z",
     "start_time": "2021-01-15T08:36:19.683024Z"
    }
   },
   "outputs": [],
   "source": [
    "from itertools import product\n",
    "\n",
    "gene = (i + j for i, j in product(range(3), range(3)))\n",
    "gene"
   ]
  },
  {
   "cell_type": "code",
   "execution_count": null,
   "id": "ba2a6943",
   "metadata": {
    "ExecuteTime": {
     "end_time": "2021-01-15T08:36:19.886398Z",
     "start_time": "2021-01-15T08:36:19.879904Z"
    }
   },
   "outputs": [],
   "source": [
    "print(list(gene))\n",
    "print(list(gene))"
   ]
  },
  {
   "cell_type": "markdown",
   "id": "c2dcd15f-97fa-4b4c-82b4-156ce7a834da",
   "metadata": {},
   "source": [
    "## `yield`\n",
    "\n",
    "Something very powerful"
   ]
  },
  {
   "cell_type": "code",
   "execution_count": null,
   "id": "0df6c37c",
   "metadata": {
    "ExecuteTime": {
     "end_time": "2021-01-15T08:36:21.518680Z",
     "start_time": "2021-01-15T08:36:21.514939Z"
    }
   },
   "outputs": [],
   "source": [
    "def startswith(words, letter):\n",
    "    for word in words:\n",
    "        if word.startswith(letter):\n",
    "            yield word"
   ]
  },
  {
   "cell_type": "code",
   "execution_count": null,
   "id": "5cc34f01",
   "metadata": {
    "ExecuteTime": {
     "end_time": "2021-01-15T08:36:21.681758Z",
     "start_time": "2021-01-15T08:36:21.676154Z"
    }
   },
   "outputs": [],
   "source": [
    "words = [\n",
    "    'Python', \"is\", 'awesome', 'in', 'particular', 'generators', \n",
    "    'are', 'really', 'cool'\n",
    "]"
   ]
  },
  {
   "cell_type": "code",
   "execution_count": null,
   "id": "534d839e",
   "metadata": {},
   "outputs": [],
   "source": [
    "list(word for word in words if word.startswith(\"a\"))"
   ]
  },
  {
   "cell_type": "code",
   "execution_count": null,
   "id": "f324c7ac",
   "metadata": {},
   "outputs": [],
   "source": [
    "a = 2"
   ]
  },
  {
   "cell_type": "code",
   "execution_count": null,
   "id": "f9f8fb5d",
   "metadata": {},
   "outputs": [],
   "source": [
    "float(a)"
   ]
  },
  {
   "cell_type": "markdown",
   "id": "71011328-8b50-496f-9e80-96cf86e6eb01",
   "metadata": {},
   "source": [
    "But also with a `for` loop"
   ]
  },
  {
   "cell_type": "code",
   "execution_count": null,
   "id": "ad63120b",
   "metadata": {
    "ExecuteTime": {
     "end_time": "2021-01-15T08:36:25.112354Z",
     "start_time": "2021-01-15T08:36:25.107107Z"
    }
   },
   "outputs": [],
   "source": [
    "for word in startswith(words, letter='a'):\n",
    "    print(word)"
   ]
  },
  {
   "cell_type": "code",
   "execution_count": null,
   "id": "92b909a5",
   "metadata": {},
   "outputs": [],
   "source": [
    "it = startswith(words, letter='a')"
   ]
  },
  {
   "cell_type": "code",
   "execution_count": null,
   "id": "b9b393d0",
   "metadata": {},
   "outputs": [],
   "source": [
    "type(it)"
   ]
  },
  {
   "cell_type": "code",
   "execution_count": null,
   "id": "4e8abb97",
   "metadata": {},
   "outputs": [],
   "source": [
    "next(it)"
   ]
  },
  {
   "cell_type": "code",
   "execution_count": null,
   "id": "d8b6f10d",
   "metadata": {},
   "outputs": [],
   "source": [
    "next(it)"
   ]
  },
  {
   "cell_type": "code",
   "execution_count": null,
   "id": "e33bc80e",
   "metadata": {},
   "outputs": [],
   "source": [
    "try:\n",
    "    next(it)\n",
    "except StopIteration:\n",
    "    print(\"StopIteration exception!\")"
   ]
  },
  {
   "cell_type": "markdown",
   "id": "ebcef93b-12b6-482d-b2f4-7525c652a234",
   "metadata": {},
   "source": [
    "# A glimpse at the `collections` module\n",
    "\n",
    "(This is where the good stuff hides)"
   ]
  },
  {
   "cell_type": "code",
   "execution_count": null,
   "id": "3f4490b9",
   "metadata": {
    "ExecuteTime": {
     "end_time": "2021-01-15T08:36:26.046700Z",
     "start_time": "2021-01-15T08:36:26.041712Z"
    },
    "slideshow": {
     "slide_type": "subslide"
    }
   },
   "outputs": [],
   "source": [
    "texte = \"\"\"             \n",
    "Bonjour,\n",
    "Python c'est super.\n",
    "Python ca a l'air quand même un peu compliqué.\n",
    "Mais bon, ca a l'air pratique.\n",
    "Peut-être que je pourrais m'en servir pour faire des trucs super.\n",
    "\"\"\"\n",
    "texte"
   ]
  },
  {
   "cell_type": "code",
   "execution_count": null,
   "id": "55efde30",
   "metadata": {
    "ExecuteTime": {
     "end_time": "2021-01-15T08:36:28.485696Z",
     "start_time": "2021-01-15T08:36:28.481795Z"
    }
   },
   "outputs": [],
   "source": [
    "print(texte)"
   ]
  },
  {
   "cell_type": "code",
   "execution_count": null,
   "id": "dd669471",
   "metadata": {
    "ExecuteTime": {
     "end_time": "2021-01-15T08:36:28.891498Z",
     "start_time": "2021-01-15T08:36:28.886862Z"
    },
    "slideshow": {
     "slide_type": "subslide"
    }
   },
   "outputs": [],
   "source": [
    "# Some basic text preprocessing \n",
    "new_text = (\n",
    "    texte\n",
    "    .strip()\n",
    "    .replace('\\n', ' ')\n",
    "    .replace(',', ' ')\n",
    "    .replace('.', ' ')\n",
    "    .replace(\"'\", ' ')\n",
    ")\n",
    "\n",
    "print(new_text)\n",
    "print('-' * 8)\n",
    "\n",
    "words = new_text.split()\n",
    "print(words)"
   ]
  },
  {
   "cell_type": "markdown",
   "id": "1892f796-272b-4113-92e9-54782922bb9e",
   "metadata": {},
   "source": [
    "## Exercise\n",
    "\n",
    "Count the number of occurences of all the words in `words`.\n",
    "\n",
    "Output must be a dictionary containg `word: count`"
   ]
  },
  {
   "cell_type": "code",
   "execution_count": null,
   "id": "c75b6c6a",
   "metadata": {
    "ExecuteTime": {
     "end_time": "2021-01-15T08:36:30.579563Z",
     "start_time": "2021-01-15T08:36:30.573645Z"
    }
   },
   "outputs": [],
   "source": [
    "print(words)"
   ]
  },
  {
   "cell_type": "markdown",
   "id": "4c8e6139-e162-4748-98cf-2b951db76875",
   "metadata": {},
   "source": [
    "## Exercise\n",
    "\n",
    "Compute the number of occurences AND the length of each word in `words`.\n",
    "\n",
    "Output must be a dictionary containing `word: (count, length)`\n",
    "\n",
    "# I/O, reading and writing files\n",
    "\n",
    "Next, put a text file `miserables.txt` in the folder containing this\n",
    "notebook. If it is not there, the next cell downloads it, if is it\n",
    "there, then we do nothing."
   ]
  },
  {
   "cell_type": "code",
   "execution_count": null,
   "id": "0982a045",
   "metadata": {
    "ExecuteTime": {
     "end_time": "2021-01-15T09:18:44.977524Z",
     "start_time": "2021-01-15T09:18:44.691253Z"
    }
   },
   "outputs": [],
   "source": [
    "import requests\n",
    "import os\n",
    "\n",
    "# The path containing your notebook\n",
    "path_data = './'\n",
    "# The name of the file\n",
    "filename = 'miserables.txt'\n",
    "\n",
    "if os.path.exists(os.path.join(path_data, filename)):\n",
    "    print('The file %s already exists.' % os.path.join(path_data, filename))\n",
    "else:\n",
    "    url = 'https://stephanegaiffas.github.io/big_data_course/data/miserables.txt'\n",
    "    r = requests.get(url)\n",
    "    with open(os.path.join(path_data, filename), 'wb') as f:\n",
    "        f.write(r.content)\n",
    "    print('Downloaded file %s.' % os.path.join(path_data, filename))"
   ]
  },
  {
   "cell_type": "code",
   "execution_count": null,
   "id": "2b753361",
   "metadata": {},
   "outputs": [],
   "source": [
    "ls -alh"
   ]
  },
  {
   "cell_type": "code",
   "execution_count": null,
   "id": "b201d28e",
   "metadata": {},
   "outputs": [],
   "source": [
    "# !rm -f miserables.txt"
   ]
  },
  {
   "cell_type": "code",
   "execution_count": null,
   "id": "014cb7b6",
   "metadata": {},
   "outputs": [],
   "source": [
    "os.path.join(path_data, filename)"
   ]
  },
  {
   "cell_type": "markdown",
   "id": "a203d878-c3d5-43cd-8c7f-b73bbf6d65d4",
   "metadata": {},
   "source": [
    "In `jupyter` and `ipython` you can run terminal command lines using `!`\n",
    "\n",
    "Let’s count number of lines and number of words with the `wc`\n",
    "command-line tool (linux or mac only, don’t ask me how on windows)"
   ]
  },
  {
   "cell_type": "code",
   "execution_count": null,
   "id": "340921d3",
   "metadata": {
    "ExecuteTime": {
     "end_time": "2021-01-15T08:39:34.789525Z",
     "start_time": "2021-01-15T08:39:34.498167Z"
    },
    "slideshow": {
     "slide_type": "-"
    }
   },
   "outputs": [],
   "source": [
    "# Lines count\n",
    "!wc -l miserables.txt"
   ]
  },
  {
   "cell_type": "code",
   "execution_count": null,
   "id": "0e4f1e3b",
   "metadata": {
    "ExecuteTime": {
     "end_time": "2021-01-15T08:39:35.525235Z",
     "start_time": "2021-01-15T08:39:35.244691Z"
    }
   },
   "outputs": [],
   "source": [
    "# Word count\n",
    "!wc -w miserables.txt"
   ]
  },
  {
   "cell_type": "markdown",
   "id": "667370fd-b24c-4c28-97cd-0d3f38566144",
   "metadata": {},
   "source": [
    "## Exercise\n",
    "\n",
    "Count the number of occurences of each word in the text file\n",
    "`miserables.txt`. We use a `open` *context* and the `Counter` from\n",
    "before.\n",
    "\n",
    "## Contexts\n",
    "\n",
    "-   A *context* in Python is something that we use with the `with`\n",
    "    keyword.\n",
    "\n",
    "-   It allows to deal automatically with the opening and the closing of\n",
    "    the file.\n",
    "\n",
    "Note the for loop:\n",
    "\n",
    "``` python\n",
    "for line in f:\n",
    "    ...\n",
    "```\n",
    "\n",
    "You loop directly over the lines of the open file from **within** the\n",
    "`open` context\n",
    "\n",
    "## About `pickle`\n",
    "\n",
    "You can save your computation with `pickle`.\n",
    "\n",
    "-   `pickle` is a way of saving **almost anything** with Python.\n",
    "-   It serializes the object in a binary format, and is usually the\n",
    "    simplest and fastest way to go."
   ]
  },
  {
   "cell_type": "code",
   "execution_count": null,
   "id": "c6f44c3a",
   "metadata": {
    "ExecuteTime": {
     "end_time": "2021-01-15T08:40:19.146250Z",
     "start_time": "2021-01-15T08:40:19.105800Z"
    }
   },
   "outputs": [],
   "source": [
    "import pickle as pkl\n",
    "\n",
    "# Let's save it\n",
    "with open('miserable_word_counts.pkl', 'wb') as f:\n",
    "    pkl.dump(counter, f)\n",
    "\n",
    "# And read it again\n",
    "with open('miserable_word_counts.pkl', 'rb') as f:\n",
    "    counter = pkl.load(f)"
   ]
  },
  {
   "cell_type": "code",
   "execution_count": null,
   "id": "70f47175",
   "metadata": {
    "ExecuteTime": {
     "end_time": "2021-01-15T08:40:20.330093Z",
     "start_time": "2021-01-15T08:40:20.320482Z"
    }
   },
   "outputs": [],
   "source": [
    "counter.most_common(10)"
   ]
  },
  {
   "cell_type": "markdown",
   "id": "346f5071-1e68-4e63-a758-19119bb38129",
   "metadata": {},
   "source": [
    "# Defining functions\n",
    "\n",
    "You **must** use function to order and reuse code\n",
    "\n",
    "## Function definition\n",
    "\n",
    "Function blocks must be indented as other control-flow blocks."
   ]
  },
  {
   "cell_type": "code",
   "execution_count": null,
   "id": "ad15e7a7",
   "metadata": {
    "ExecuteTime": {
     "end_time": "2021-01-15T08:40:22.581564Z",
     "start_time": "2021-01-15T08:40:22.574422Z"
    }
   },
   "outputs": [],
   "source": [
    "def test():\n",
    "    return 'in test function'\n",
    "\n",
    "test()"
   ]
  },
  {
   "cell_type": "markdown",
   "id": "963dc154-5712-4ff6-a823-6c50395e5683",
   "metadata": {},
   "source": [
    "## Return statement\n",
    "\n",
    "Functions can *optionally* return values. By default, functions return\n",
    "`None`.\n",
    "\n",
    "The syntax to define a function:\n",
    "\n",
    "-   the `def` keyword;\n",
    "-   is followed by the function’s **name**, then\n",
    "-   the arguments of the function are given between parentheses followed\n",
    "    by a colon\n",
    "-   the function body;\n",
    "-   and `return object` for optionally returning values."
   ]
  },
  {
   "cell_type": "code",
   "execution_count": null,
   "id": "201414f4",
   "metadata": {},
   "outputs": [],
   "source": [
    "None is None"
   ]
  },
  {
   "cell_type": "code",
   "execution_count": null,
   "id": "73582e17",
   "metadata": {
    "ExecuteTime": {
     "end_time": "2021-01-15T08:40:25.396369Z",
     "start_time": "2021-01-15T08:40:25.389580Z"
    }
   },
   "outputs": [],
   "source": [
    "def f(x):\n",
    "    return x + 10\n",
    "f(20)"
   ]
  },
  {
   "cell_type": "markdown",
   "id": "dd1a730f-4188-4c8c-b905-8be7849b0dcd",
   "metadata": {},
   "source": [
    "A function that returns several elements returns a `tuple`"
   ]
  },
  {
   "cell_type": "code",
   "execution_count": null,
   "id": "1965f249",
   "metadata": {
    "ExecuteTime": {
     "end_time": "2021-01-15T08:40:25.827300Z",
     "start_time": "2021-01-15T08:40:25.821162Z"
    }
   },
   "outputs": [],
   "source": [
    "def f(x):\n",
    "    return x + 1, x + 4\n",
    "\n",
    "f(5)"
   ]
  },
  {
   "cell_type": "code",
   "execution_count": null,
   "id": "f7610ce5",
   "metadata": {},
   "outputs": [],
   "source": [
    "type(f)"
   ]
  },
  {
   "cell_type": "code",
   "execution_count": null,
   "id": "1ddcdf71",
   "metadata": {},
   "outputs": [],
   "source": [
    "f.truc = \"bonjour\""
   ]
  },
  {
   "cell_type": "code",
   "execution_count": null,
   "id": "bc9e526b",
   "metadata": {
    "ExecuteTime": {
     "end_time": "2021-01-15T08:40:26.056197Z",
     "start_time": "2021-01-15T08:40:26.050039Z"
    }
   },
   "outputs": [],
   "source": [
    "type(f(5))"
   ]
  },
  {
   "cell_type": "markdown",
   "id": "f0bce79d-915a-4009-b742-97d96c731336",
   "metadata": {},
   "source": [
    "## Parameters\n",
    "\n",
    "Mandatory parameters (positional arguments)"
   ]
  },
  {
   "cell_type": "code",
   "execution_count": null,
   "id": "c76ce819",
   "metadata": {
    "ExecuteTime": {
     "end_time": "2021-01-15T08:40:26.897893Z",
     "start_time": "2021-01-15T08:40:26.891052Z"
    }
   },
   "outputs": [],
   "source": [
    "def double_it(x):\n",
    "    return x * 2\n",
    "\n",
    "double_it(2)"
   ]
  },
  {
   "cell_type": "code",
   "execution_count": null,
   "id": "bb359617",
   "metadata": {
    "ExecuteTime": {
     "end_time": "2021-01-15T08:40:27.154900Z",
     "start_time": "2021-01-15T08:40:27.127912Z"
    }
   },
   "outputs": [],
   "source": [
    "try:\n",
    "    double_it()\n",
    "except TypeError:\n",
    "    print(\"TypeError: double_it() missing 1 required positional argument: 'x'\")"
   ]
  },
  {
   "cell_type": "markdown",
   "id": "69ee04ca-4cc7-4419-9a5d-bc31a21f74a8",
   "metadata": {},
   "source": [
    "Optimal parameters"
   ]
  },
  {
   "cell_type": "code",
   "execution_count": null,
   "id": "299abdb5",
   "metadata": {
    "ExecuteTime": {
     "end_time": "2021-01-15T08:40:28.071546Z",
     "start_time": "2021-01-15T08:40:28.065551Z"
    },
    "slideshow": {
     "slide_type": "-"
    }
   },
   "outputs": [],
   "source": [
    "def double_it(x=2):\n",
    "    return x * 2\n",
    "\n",
    "double_it()"
   ]
  },
  {
   "cell_type": "code",
   "execution_count": null,
   "id": "8f0336db",
   "metadata": {
    "ExecuteTime": {
     "end_time": "2021-01-15T08:40:30.162845Z",
     "start_time": "2021-01-15T08:40:30.155840Z"
    }
   },
   "outputs": [],
   "source": [
    "double_it(3)"
   ]
  },
  {
   "cell_type": "code",
   "execution_count": null,
   "id": "2515513b",
   "metadata": {
    "ExecuteTime": {
     "end_time": "2021-01-15T08:40:30.451386Z",
     "start_time": "2021-01-15T08:40:30.446933Z"
    },
    "slideshow": {
     "slide_type": "subslide"
    }
   },
   "outputs": [],
   "source": [
    "def f(x, y=2, z=10):\n",
    "    print(x, '+', y, '+', z, '=', x + y + z)"
   ]
  },
  {
   "cell_type": "code",
   "execution_count": null,
   "id": "7f6f77b3",
   "metadata": {
    "ExecuteTime": {
     "end_time": "2021-01-15T08:40:30.696765Z",
     "start_time": "2021-01-15T08:40:30.691179Z"
    }
   },
   "outputs": [],
   "source": [
    "f(5)"
   ]
  },
  {
   "cell_type": "code",
   "execution_count": null,
   "id": "9242c2e6",
   "metadata": {
    "ExecuteTime": {
     "end_time": "2021-01-15T08:40:31.857293Z",
     "start_time": "2021-01-15T08:40:31.851956Z"
    }
   },
   "outputs": [],
   "source": [
    "f(5, -2)"
   ]
  },
  {
   "cell_type": "code",
   "execution_count": null,
   "id": "56d6e095",
   "metadata": {
    "ExecuteTime": {
     "end_time": "2021-01-15T08:40:32.095421Z",
     "start_time": "2021-01-15T08:40:32.089684Z"
    }
   },
   "outputs": [],
   "source": [
    "f(5, -2, 8)"
   ]
  },
  {
   "cell_type": "code",
   "execution_count": null,
   "id": "6e713d06",
   "metadata": {
    "ExecuteTime": {
     "end_time": "2021-01-15T08:40:32.310466Z",
     "start_time": "2021-01-15T08:40:32.304981Z"
    }
   },
   "outputs": [],
   "source": [
    "f(z=5, x=-2, y=8)"
   ]
  },
  {
   "cell_type": "markdown",
   "id": "22b95720-9780-42b8-a996-c580861a931a",
   "metadata": {},
   "source": [
    "## Argument unpacking and keyword argument unpacking\n",
    "\n",
    "You can do stuff like this, using unpacking `*` notation"
   ]
  },
  {
   "cell_type": "code",
   "execution_count": null,
   "id": "b21a1dbc",
   "metadata": {
    "ExecuteTime": {
     "end_time": "2021-01-15T08:40:32.767851Z",
     "start_time": "2021-01-15T08:40:32.762760Z"
    }
   },
   "outputs": [],
   "source": [
    "a, *b, c = 1, 2, 3, 4, 5\n",
    "a, b, c"
   ]
  },
  {
   "cell_type": "markdown",
   "id": "aa14de0c-5b73-4733-8f8d-e574e0420111",
   "metadata": {},
   "source": [
    "Back to function `f` you can unpack a `tuple` as positional arguments"
   ]
  },
  {
   "cell_type": "code",
   "execution_count": null,
   "id": "ec5461f5",
   "metadata": {
    "ExecuteTime": {
     "end_time": "2021-01-15T08:40:33.123879Z",
     "start_time": "2021-01-15T08:40:33.117094Z"
    },
    "slideshow": {
     "slide_type": "-"
    }
   },
   "outputs": [],
   "source": [
    "tt = (1, 2, 3)\n",
    "f(*tt)"
   ]
  },
  {
   "cell_type": "code",
   "execution_count": null,
   "id": "82ba629f",
   "metadata": {
    "ExecuteTime": {
     "end_time": "2021-01-15T08:40:33.344119Z",
     "start_time": "2021-01-15T08:40:33.339429Z"
    }
   },
   "outputs": [],
   "source": [
    "dd = {'y': 10, 'z': -5}"
   ]
  },
  {
   "cell_type": "code",
   "execution_count": null,
   "id": "a50926fc",
   "metadata": {
    "ExecuteTime": {
     "end_time": "2021-01-15T08:40:33.503933Z",
     "start_time": "2021-01-15T08:40:33.497965Z"
    }
   },
   "outputs": [],
   "source": [
    "f(3, **dd)"
   ]
  },
  {
   "cell_type": "code",
   "execution_count": null,
   "id": "c79c9381",
   "metadata": {
    "ExecuteTime": {
     "end_time": "2021-01-15T08:40:33.713710Z",
     "start_time": "2021-01-15T08:40:33.708290Z"
    },
    "slideshow": {
     "slide_type": "subslide"
    }
   },
   "outputs": [],
   "source": [
    "def g(x, z, y, t=1, u=2):\n",
    "    print(x, '+', y, '+', z, '+', t, '+', \n",
    "          u, '=', x + y + z + t + u)"
   ]
  },
  {
   "cell_type": "code",
   "execution_count": null,
   "id": "5d00bd6c",
   "metadata": {
    "ExecuteTime": {
     "end_time": "2021-01-15T08:40:33.853331Z",
     "start_time": "2021-01-15T08:40:33.847946Z"
    }
   },
   "outputs": [],
   "source": [
    "tt = (1, -4, 2)\n",
    "dd = {'t': 10, 'u': -5}\n",
    "g(*tt, **dd)"
   ]
  },
  {
   "cell_type": "markdown",
   "id": "a6c93ae3-787a-459e-9ff4-955ed24cd658",
   "metadata": {},
   "source": [
    "## The prototype of all functions in `Python`"
   ]
  },
  {
   "cell_type": "code",
   "execution_count": null,
   "id": "593b887e",
   "metadata": {
    "ExecuteTime": {
     "end_time": "2021-01-15T08:40:34.122929Z",
     "start_time": "2021-01-15T08:40:34.118269Z"
    },
    "slideshow": {
     "slide_type": "-"
    }
   },
   "outputs": [],
   "source": [
    "def f(*args, **kwargs):\n",
    "    print('args=', args)\n",
    "    print('kwargs=', kwargs)\n",
    "\n",
    "f(1, 2, 'truc', lastname='gaiffas', firstname='stephane')"
   ]
  },
  {
   "cell_type": "markdown",
   "id": "a44a6d11-ee0c-42a5-b8c6-2a432b3b5d67",
   "metadata": {},
   "source": [
    "-   Uses `*` for **argument unpacking** and `**` for **keyword argument\n",
    "    unpacking**\n",
    "-   The names `args` and `kwargs` are a convention, not mandatory\n",
    "-   (but you are fired if you name these arguments otherwise)"
   ]
  },
  {
   "cell_type": "code",
   "execution_count": null,
   "id": "fd593bab",
   "metadata": {
    "ExecuteTime": {
     "end_time": "2021-01-15T08:40:34.735447Z",
     "start_time": "2021-01-15T08:40:34.728777Z"
    },
    "slideshow": {
     "slide_type": "fragment"
    }
   },
   "outputs": [],
   "source": [
    "# How to get fired\n",
    "def f(*aaa, **bbb):\n",
    "    print('args=', aaa)\n",
    "    print('kwargs=', bbb)\n",
    "f(1, 2, 'truc', lastname='gaiffas', firstname='stephane')    "
   ]
  },
  {
   "cell_type": "markdown",
   "id": "b9cf316d-125b-4eb9-b09b-078247c2f80e",
   "metadata": {},
   "source": [
    "**Remark**. A function is a regular an object… you can add attributes on\n",
    "it !"
   ]
  },
  {
   "cell_type": "code",
   "execution_count": null,
   "id": "dd855dab",
   "metadata": {
    "ExecuteTime": {
     "end_time": "2021-01-15T08:40:34.887176Z",
     "start_time": "2021-01-15T08:40:34.884378Z"
    }
   },
   "outputs": [],
   "source": [
    "f.truc = 4"
   ]
  },
  {
   "cell_type": "code",
   "execution_count": null,
   "id": "33e893db",
   "metadata": {
    "ExecuteTime": {
     "end_time": "2021-01-15T08:40:34.968083Z",
     "start_time": "2021-01-15T08:40:34.963229Z"
    }
   },
   "outputs": [],
   "source": [
    "f(1, 3)"
   ]
  },
  {
   "cell_type": "code",
   "execution_count": null,
   "id": "eda92c87",
   "metadata": {
    "ExecuteTime": {
     "end_time": "2021-01-15T08:40:35.082074Z",
     "start_time": "2021-01-15T08:40:35.076581Z"
    }
   },
   "outputs": [],
   "source": [
    "f(3, -2, y='truc')"
   ]
  },
  {
   "cell_type": "markdown",
   "id": "ad6da9e9-30c5-4d95-aafc-af14621bef92",
   "metadata": {},
   "source": [
    "# Object-oriented programming (OOP)\n",
    "\n",
    "Python supports object-oriented programming (OOP). The goals of OOP are:\n",
    "\n",
    "-   to organize the code, and\n",
    "-   to re-use code in similar contexts.\n",
    "\n",
    "Here is a small example: we create a `Student` class, which is an object\n",
    "gathering several custom functions (called *methods*) and variables\n",
    "(called *attributes*)."
   ]
  },
  {
   "cell_type": "code",
   "execution_count": null,
   "id": "6c557dd2",
   "metadata": {
    "ExecuteTime": {
     "end_time": "2021-01-15T08:40:35.228158Z",
     "start_time": "2021-01-15T08:40:35.221388Z"
    },
    "slideshow": {
     "slide_type": "subslide"
    }
   },
   "outputs": [],
   "source": [
    "class Student(object):\n",
    "\n",
    "    def __init__(self, name, birthyear, major='computer science'):\n",
    "        self.name = name\n",
    "        self.birthyear = birthyear\n",
    "        self.major = major\n",
    "\n",
    "    def __repr__(self):\n",
    "        return \"Student(name='{name}', birthyear={birthyear}, major='{major}')\"\\\n",
    "                .format(name=self.name, birthyear=self.birthyear, major=self.major)\n",
    "\n",
    "anna = Student('anna', 1987)\n",
    "anna"
   ]
  },
  {
   "cell_type": "markdown",
   "id": "88a1491a-68bd-47e9-9a3f-dfa66c736e69",
   "metadata": {},
   "source": [
    "The `__repr__` is what we call a ‘magic method’ in Python, that allows\n",
    "to display an object as a string easily. There is a very large number of\n",
    "such magic methods. There are used to implement **interfaces**\n",
    "\n",
    "## Exercise\n",
    "\n",
    "Add a `age` method to the Student class that computes the age of the\n",
    "student. - You can (and should) use the `datetime` module. - Since we\n",
    "only know about the birth year, let’s assume that the day of the birth\n",
    "is January, 1st.\n",
    "\n",
    "## Properties\n",
    "\n",
    "We can make methods look like attributes using **properties**, as shown\n",
    "below"
   ]
  },
  {
   "cell_type": "code",
   "execution_count": null,
   "id": "16bfb446",
   "metadata": {
    "ExecuteTime": {
     "end_time": "2021-01-15T08:40:41.454538Z",
     "start_time": "2021-01-15T08:40:41.447007Z"
    }
   },
   "outputs": [],
   "source": [
    "class Student(object):\n",
    "\n",
    "    def __init__(self, name, birthyear, major='computer science'):\n",
    "        self.name = name\n",
    "        self.birthyear = birthyear\n",
    "        self.major = major\n",
    "\n",
    "    def __repr__(self):\n",
    "        return \"Student(name='{name}', birthyear={birthyear}, major='{major}')\"\\\n",
    "                .format(name=self.name, birthyear=self.birthyear, major=self.major)\n",
    "\n",
    "    @property\n",
    "    def age(self):\n",
    "        return datetime.now().year - self.birthyear\n",
    "        \n",
    "anna = Student('anna', 1987)\n",
    "anna.age"
   ]
  },
  {
   "cell_type": "markdown",
   "id": "6ef44134-8a2c-48df-aa50-b171d6bb3e1c",
   "metadata": {},
   "source": [
    "## Inheritance\n",
    "\n",
    "A `MasterStudent` is a `Student` with a new extra mandatory `internship`\n",
    "attribute"
   ]
  },
  {
   "cell_type": "code",
   "execution_count": null,
   "id": "f3afa8f4",
   "metadata": {},
   "outputs": [],
   "source": [
    "\"%d\" % 2"
   ]
  },
  {
   "cell_type": "code",
   "execution_count": null,
   "id": "c1359c4a",
   "metadata": {},
   "outputs": [],
   "source": [
    "x = 2\n",
    "\n",
    "f\"truc {x}\""
   ]
  },
  {
   "cell_type": "code",
   "execution_count": null,
   "id": "0db9e932",
   "metadata": {},
   "outputs": [],
   "source": [
    "class MasterStudent(Student):\n",
    "    \n",
    "    def __init__(self, name, age, internship, major='computer science'):\n",
    "        # Student.__init__(self, name, age, major)\n",
    "        Student.__init__(self, name, age, major)\n",
    "        self.internship = internship\n",
    "\n",
    "    def __repr__(self):\n",
    "        return f\"MasterStudent(name='{self.name}', internship={self.internship}, birthyear={self.birthyear}, major={self.major})\"\n",
    "    \n",
    "MasterStudent('djalil', 22, 'pwc')"
   ]
  },
  {
   "cell_type": "code",
   "execution_count": null,
   "id": "7073f7a8",
   "metadata": {
    "ExecuteTime": {
     "end_time": "2021-01-15T08:40:44.047633Z",
     "start_time": "2021-01-15T08:40:44.039779Z"
    }
   },
   "outputs": [],
   "source": [
    "class MasterStudent(Student):\n",
    "    \n",
    "    def __init__(self, name, age, internship, major='computer science'):\n",
    "        # Student.__init__(self, name, age, major)\n",
    "        Student.__init__(self, name, age, major)\n",
    "        self.internship = internship\n",
    "\n",
    "    def __repr__(self):\n",
    "        return \"MasterStudent(name='{name}', internship='{internship}'\" \\\n",
    "               \", birthyear={birthyear}, major='{major}')\"\\\n",
    "                .format(name=self.name, internship=self.internship,\n",
    "                        birthyear=self.birthyear, major=self.major)\n",
    "    \n",
    "djalil = MasterStudent('djalil', 1996, 'pwc')"
   ]
  },
  {
   "cell_type": "code",
   "execution_count": null,
   "id": "16fa5c9d",
   "metadata": {},
   "outputs": [],
   "source": [
    "djalil.__dict__"
   ]
  },
  {
   "cell_type": "code",
   "execution_count": null,
   "id": "daef84c9",
   "metadata": {},
   "outputs": [],
   "source": [
    "djalil.birthyear"
   ]
  },
  {
   "cell_type": "code",
   "execution_count": null,
   "id": "326f705d",
   "metadata": {},
   "outputs": [],
   "source": [
    "djalil.__dict__[\"birthyear\"]"
   ]
  },
  {
   "cell_type": "markdown",
   "id": "3501aeda-003a-4ed8-953f-908acf83cbe3",
   "metadata": {},
   "source": [
    "## Monkey patching\n",
    "\n",
    "-   Classes in `Python` are `objects` and actually `dict`s under the\n",
    "    hood…\n",
    "-   Therefore classes are objects that can be changed on the fly"
   ]
  },
  {
   "cell_type": "code",
   "execution_count": null,
   "id": "6a2b34a7",
   "metadata": {
    "ExecuteTime": {
     "end_time": "2021-01-15T08:40:44.745686Z",
     "start_time": "2021-01-15T08:40:44.739499Z"
    }
   },
   "outputs": [],
   "source": [
    "class Monkey(object):\n",
    "    \n",
    "    def __init__(self, name):\n",
    "        self.name = name\n",
    "\n",
    "    def describe(self):\n",
    "        print(\"Old monkey %s\" % self.name)\n",
    "\n",
    "def patch(self):\n",
    "    print(\"New monkey %s\" % self.name)\n",
    "\n",
    "monkey = Monkey(\"Baloo\")\n",
    "monkey.describe()\n",
    "\n",
    "Monkey.describe = patch\n",
    "monkey.describe()"
   ]
  },
  {
   "cell_type": "code",
   "execution_count": null,
   "id": "fb62745f",
   "metadata": {},
   "outputs": [],
   "source": [
    "monkeys = [Monkey(\"Baloo\"), Monkey(\"Super singe\")]\n",
    "\n",
    "\n",
    "monkey_name = monkey.name\n",
    "\n",
    "for i in range(1000):    \n",
    "    monkey_name"
   ]
  },
  {
   "cell_type": "markdown",
   "id": "b7a30f84-ef01-49e1-9165-2711f8766b47",
   "metadata": {},
   "source": [
    "## Data classes\n",
    "\n",
    "Since `Python 3.7` you can use a dataclass for this\n",
    "\n",
    "Does a lot of work for you (produces the `__repr__` among many other\n",
    "things for you)"
   ]
  },
  {
   "cell_type": "code",
   "execution_count": null,
   "id": "6dd3b7c8",
   "metadata": {
    "ExecuteTime": {
     "end_time": "2021-01-15T08:40:46.810275Z",
     "start_time": "2021-01-15T08:40:46.796524Z"
    }
   },
   "outputs": [],
   "source": [
    "from dataclasses import dataclass\n",
    "from datetime import datetime \n",
    "\n",
    "@dataclass\n",
    "class Student(object):\n",
    "    name: str\n",
    "    birthyear: int\n",
    "    major: str = 'computer science'\n",
    "\n",
    "    @property\n",
    "    def age(self):\n",
    "        return datetime.now().year - self.birthyear\n",
    "        \n",
    "anna = Student(name=\"anna\", birthyear=1987)\n",
    "anna"
   ]
  },
  {
   "cell_type": "code",
   "execution_count": null,
   "id": "3f358cd2",
   "metadata": {
    "ExecuteTime": {
     "end_time": "2021-01-15T08:40:47.251530Z",
     "start_time": "2021-01-15T08:40:47.246324Z"
    }
   },
   "outputs": [],
   "source": [
    "print(anna.age)"
   ]
  },
  {
   "cell_type": "markdown",
   "id": "e06bf275-b2a0-4b9a-92d7-2c506b9683a2",
   "metadata": {},
   "source": [
    "# Most common mistakes\n",
    "\n",
    "-   Let us wrap this up with the most common mistakes with `Python`\n",
    "\n",
    "First, best way to learn and practice:\n",
    "\n",
    "-   Start with the official tutorial\n",
    "    https://docs.python.org/fr/3/tutorial/index.html\n",
    "\n",
    "-   Look at\n",
    "    https://python-3-for-scientists.readthedocs.io/en/latest/index.html\n",
    "\n",
    "-   Continue with the documentation at\n",
    "    https://docs.python.org/fr/3/index.html and work!\n",
    "\n",
    "## Using a mutable value as a default value"
   ]
  },
  {
   "cell_type": "code",
   "execution_count": null,
   "id": "28fd172f",
   "metadata": {
    "ExecuteTime": {
     "end_time": "2021-01-15T08:40:51.446805Z",
     "start_time": "2021-01-15T08:40:51.441178Z"
    }
   },
   "outputs": [],
   "source": [
    "def foo(bar=[]):\n",
    "    bar.append('oops')\n",
    "    return bar\n",
    "\n",
    "print(foo())\n",
    "print(foo())\n",
    "print(foo())\n",
    "\n",
    "print('-' * 8)\n",
    "print(foo(['Ah ah']))\n",
    "print(foo([]))"
   ]
  },
  {
   "cell_type": "code",
   "execution_count": null,
   "id": "3f385957",
   "metadata": {},
   "outputs": [],
   "source": [
    "print(foo.__defaults__)\n",
    "foo()\n",
    "print(foo.__defaults__)"
   ]
  },
  {
   "cell_type": "markdown",
   "id": "bab1ed75-c225-4116-91aa-235435a52112",
   "metadata": {},
   "source": [
    "-   The default value for a function argument is evaluated once, when\n",
    "    the function is defined\n",
    "-   `the` bar argument is initialized to its default (i.e., an empty\n",
    "    list) only when foo() is first defined\n",
    "-   successive calls to `foo()` (with no a `bar` argument specified) use\n",
    "    the same list!\n",
    "\n",
    "One should use instead"
   ]
  },
  {
   "cell_type": "code",
   "execution_count": null,
   "id": "8fb8ac3e",
   "metadata": {
    "ExecuteTime": {
     "end_time": "2021-01-15T08:40:52.916162Z",
     "start_time": "2021-01-15T08:40:52.908617Z"
    },
    "slideshow": {
     "slide_type": "-"
    }
   },
   "outputs": [],
   "source": [
    "def foo(bar=None):\n",
    "    if bar is None:\n",
    "        bar = []\n",
    "    bar.append('oops')\n",
    "    return bar\n",
    "\n",
    "print(foo())\n",
    "print(foo())\n",
    "print(foo())\n",
    "print(foo(['OK']))"
   ]
  },
  {
   "cell_type": "code",
   "execution_count": null,
   "id": "51f3a9e3",
   "metadata": {},
   "outputs": [],
   "source": [
    "print(foo.__defaults__)\n",
    "foo()\n",
    "print(foo.__defaults__)"
   ]
  },
  {
   "cell_type": "markdown",
   "id": "b452162c-34be-417c-a240-96fae27e00cb",
   "metadata": {},
   "source": [
    "No problem with immutable types"
   ]
  },
  {
   "cell_type": "code",
   "execution_count": null,
   "id": "d5df8186",
   "metadata": {
    "ExecuteTime": {
     "end_time": "2021-01-15T08:40:53.337268Z",
     "start_time": "2021-01-15T08:40:53.330411Z"
    }
   },
   "outputs": [],
   "source": [
    "def foo(bar=()):\n",
    "    bar += ('oops',)\n",
    "    return bar\n",
    "\n",
    "print(foo())\n",
    "print(foo())\n",
    "print(foo())"
   ]
  },
  {
   "cell_type": "code",
   "execution_count": null,
   "id": "0fe77faa",
   "metadata": {},
   "outputs": [],
   "source": [
    "print(foo.__defaults__)"
   ]
  },
  {
   "cell_type": "markdown",
   "id": "3c998b94-04cd-4c72-9526-830d597764b3",
   "metadata": {},
   "source": [
    "## Class attributes VS object attributes"
   ]
  },
  {
   "cell_type": "code",
   "execution_count": null,
   "id": "bb7dda1e",
   "metadata": {
    "ExecuteTime": {
     "end_time": "2021-01-15T08:40:53.948439Z",
     "start_time": "2021-01-15T08:40:53.942319Z"
    }
   },
   "outputs": [],
   "source": [
    "class A(object):\n",
    "    x = 1\n",
    "\n",
    "    def __init__(self):\n",
    "        self.y = 2\n",
    "\n",
    "class B(A):\n",
    "    def __init__(self):\n",
    "        super().__init__()\n",
    "\n",
    "class C(A):\n",
    "    def __init__(self):\n",
    "        super().__init__()\n",
    "\n",
    "a, b, c = A(), B(), C()"
   ]
  },
  {
   "cell_type": "code",
   "execution_count": null,
   "id": "141bc944",
   "metadata": {
    "ExecuteTime": {
     "end_time": "2021-01-15T08:40:54.135498Z",
     "start_time": "2021-01-15T08:40:54.131029Z"
    }
   },
   "outputs": [],
   "source": [
    "print(a.x, b.x, c.x)\n",
    "print(a.y, b.y, c.y)"
   ]
  },
  {
   "cell_type": "code",
   "execution_count": null,
   "id": "fc686e7b",
   "metadata": {
    "ExecuteTime": {
     "end_time": "2021-01-15T08:40:54.858324Z",
     "start_time": "2021-01-15T08:40:54.853424Z"
    },
    "slideshow": {
     "slide_type": "subslide"
    }
   },
   "outputs": [],
   "source": [
    "a.y = 3\n",
    "print(a.y, b.y, c.y)"
   ]
  },
  {
   "cell_type": "code",
   "execution_count": null,
   "id": "0ca19b87",
   "metadata": {
    "ExecuteTime": {
     "end_time": "2021-01-15T08:40:55.058452Z",
     "start_time": "2021-01-15T08:40:55.050679Z"
    }
   },
   "outputs": [],
   "source": [
    "a.x = 3  # Adds a new attribute named x in object a\n",
    "print(a.x, b.x, c.x)"
   ]
  },
  {
   "cell_type": "code",
   "execution_count": null,
   "id": "d69be30f",
   "metadata": {
    "ExecuteTime": {
     "end_time": "2021-01-15T08:40:55.812247Z",
     "start_time": "2021-01-15T08:40:55.805966Z"
    }
   },
   "outputs": [],
   "source": [
    "A.x = 4 # Changes the class attribute x of class A\n",
    "print(a.x, b.x, c.x)"
   ]
  },
  {
   "cell_type": "markdown",
   "id": "4fa02f85-a170-4a75-ab51-5566a252553f",
   "metadata": {},
   "source": [
    "-   Attribute `x` is not an **attribute** of `b` nor `c`\n",
    "-   It is also not a **class attribute** of classes `B` and `C`\n",
    "-   So, it is is looked up in the base class `A`, which contains a\n",
    "    **class attribute** `x`\n",
    "\n",
    "Classes and objects contain a hidden `dict` to store their attributes,\n",
    "and are accessed following a method resolution order (MRO)"
   ]
  },
  {
   "cell_type": "code",
   "execution_count": null,
   "id": "7d3f3397",
   "metadata": {
    "ExecuteTime": {
     "end_time": "2021-01-15T08:40:56.589556Z",
     "start_time": "2021-01-15T08:40:56.583455Z"
    },
    "slideshow": {
     "slide_type": "-"
    }
   },
   "outputs": [],
   "source": [
    "a.__dict__, b.__dict__, c.__dict__"
   ]
  },
  {
   "cell_type": "code",
   "execution_count": null,
   "id": "3012133d",
   "metadata": {
    "ExecuteTime": {
     "end_time": "2021-01-15T08:40:57.372472Z",
     "start_time": "2021-01-15T08:40:57.365176Z"
    }
   },
   "outputs": [],
   "source": [
    "A.__dict__, B.__dict__, C.__dict__"
   ]
  },
  {
   "cell_type": "markdown",
   "id": "9bb568ae-0f3f-4841-b3f9-b7b5a65880eb",
   "metadata": {},
   "source": [
    "This can lead to **nasty** errors when using class attributes: learn\n",
    "more about this\n",
    "\n",
    "## Python scope rules"
   ]
  },
  {
   "cell_type": "code",
   "execution_count": null,
   "id": "f1a7b625",
   "metadata": {},
   "outputs": [],
   "source": [
    "try:\n",
    "    ints += [4]\n",
    "except NameError:\n",
    "    print(\"NameError: name 'ints' is not defined\")"
   ]
  },
  {
   "cell_type": "code",
   "execution_count": null,
   "id": "3797a117",
   "metadata": {
    "ExecuteTime": {
     "end_time": "2021-01-15T08:40:58.254394Z",
     "start_time": "2021-01-15T08:40:58.250379Z"
    }
   },
   "outputs": [],
   "source": [
    "ints = [1]\n",
    "\n",
    "def foo1():\n",
    "    ints.append(2)\n",
    "    return ints\n",
    "\n",
    "def foo2():\n",
    "    ints += [2]\n",
    "    return ints"
   ]
  },
  {
   "cell_type": "code",
   "execution_count": null,
   "id": "069bf32a",
   "metadata": {
    "ExecuteTime": {
     "end_time": "2021-01-15T08:40:58.471436Z",
     "start_time": "2021-01-15T08:40:58.464761Z"
    }
   },
   "outputs": [],
   "source": [
    "foo1()"
   ]
  },
  {
   "cell_type": "code",
   "execution_count": null,
   "id": "05c4a13e",
   "metadata": {
    "ExecuteTime": {
     "end_time": "2021-01-15T08:40:58.668154Z",
     "start_time": "2021-01-15T08:40:58.647332Z"
    },
    "slideshow": {
     "slide_type": "-"
    }
   },
   "outputs": [],
   "source": [
    "try:    \n",
    "    foo2()\n",
    "except UnboundLocalError as inst:\n",
    "    print(inst)"
   ]
  },
  {
   "cell_type": "markdown",
   "id": "452e16fb-0215-444c-b196-ee6205e841a9",
   "metadata": {},
   "source": [
    "### What the hell ?\n",
    "\n",
    "-   An assignment to a variable in a scope assumes that the variable is\n",
    "    local to that scope\n",
    "-   and shadows any similarly named variable in any outer scope\n",
    "\n",
    "``` python\n",
    "ints += [2]\n",
    "```\n",
    "\n",
    "means\n",
    "\n",
    "``` python\n",
    "ints = ints + [2]\n",
    "```\n",
    "\n",
    "which is an *assigment*: `ints` must be defined in the local scope, but\n",
    "it is not, while\n",
    "\n",
    "``` python\n",
    "ints.append(2)\n",
    "```\n",
    "\n",
    "is not an *assignemnt*\n",
    "\n",
    "## Modify a `list` while iterating over it"
   ]
  },
  {
   "cell_type": "code",
   "execution_count": null,
   "id": "8d761cc2",
   "metadata": {
    "ExecuteTime": {
     "end_time": "2021-01-15T08:41:05.902243Z",
     "start_time": "2021-01-15T08:41:05.890704Z"
    }
   },
   "outputs": [],
   "source": [
    "odd = lambda x: bool(x % 2)\n",
    "numbers = list(range(10))\n",
    "\n",
    "try:\n",
    "  for i in range(len(numbers)):\n",
    "      if odd(numbers[i]):\n",
    "          del numbers[i]\n",
    "except IndexError as inst:\n",
    "    print(inst)"
   ]
  },
  {
   "cell_type": "markdown",
   "id": "583e6772-2504-45cc-8ae7-a42e8c85d3f1",
   "metadata": {},
   "source": [
    "Typically an example where one should use a list comprehension"
   ]
  },
  {
   "cell_type": "code",
   "execution_count": null,
   "id": "d81f492f",
   "metadata": {
    "ExecuteTime": {
     "end_time": "2021-01-15T08:41:16.008696Z",
     "start_time": "2021-01-15T08:41:16.002196Z"
    }
   },
   "outputs": [],
   "source": [
    "[number for number in numbers if not odd(number)]"
   ]
  },
  {
   "cell_type": "markdown",
   "id": "570db78c-f06f-40c6-96f4-3b227f599991",
   "metadata": {},
   "source": [
    "## No docstrings\n",
    "\n",
    "Accept to spend time to write clean docstrings (look at `numpydoc`\n",
    "style)"
   ]
  },
  {
   "cell_type": "code",
   "execution_count": null,
   "id": "0fe32262",
   "metadata": {
    "ExecuteTime": {
     "end_time": "2021-01-15T08:41:17.239948Z",
     "start_time": "2021-01-15T08:41:17.236031Z"
    }
   },
   "outputs": [],
   "source": [
    "def create_student(name, age, address, major='computer science'):\n",
    "    \"\"\"Add a student in the database\n",
    "    \n",
    "    Parameters\n",
    "    ----------\n",
    "    name: `str`\n",
    "        Name of the student\n",
    "    \n",
    "    age: `int`\n",
    "        Age of the student\n",
    "    \n",
    "    address: `str`\n",
    "        Address of the student\n",
    "    \n",
    "    major: `str`, default='computer science'\n",
    "        The major chosen by the student\n",
    "    \n",
    "    Returns\n",
    "    -------\n",
    "    output: `Student`\n",
    "        A fresh student\n",
    "    \"\"\"\n",
    "    pass"
   ]
  },
  {
   "cell_type": "code",
   "execution_count": null,
   "id": "5cf4d70e",
   "metadata": {},
   "outputs": [],
   "source": [
    "create_student('Duduche', 28, 'Chalons')"
   ]
  },
  {
   "cell_type": "markdown",
   "id": "5c8c9c6c-266d-43a5-b9b9-6ae6b6e0749f",
   "metadata": {},
   "source": [
    "## Not using available methods and/or the simplest solution"
   ]
  },
  {
   "cell_type": "code",
   "execution_count": null,
   "id": "21619303",
   "metadata": {
    "ExecuteTime": {
     "end_time": "2021-01-15T08:41:19.794009Z",
     "start_time": "2021-01-15T08:41:19.785191Z"
    }
   },
   "outputs": [],
   "source": [
    "dd = {'stephane': 1234, 'gael': 4567, 'gontran': 891011}\n",
    "\n",
    "# Bad\n",
    "for key in dd.keys():\n",
    "    print(key, dd[key])\n",
    "\n",
    "print('-' * 8)\n",
    "\n",
    "# Good\n",
    "for key, value in dd.items():\n",
    "    print(key, value)"
   ]
  },
  {
   "cell_type": "code",
   "execution_count": null,
   "id": "f33d60c4",
   "metadata": {
    "ExecuteTime": {
     "end_time": "2021-01-15T08:41:20.116770Z",
     "start_time": "2021-01-15T08:41:20.104428Z"
    },
    "slideshow": {
     "slide_type": "subslide"
    }
   },
   "outputs": [],
   "source": [
    "colors = ['black', 'yellow', 'brown', 'red', 'pink']\n",
    "\n",
    "# Bad\n",
    "for i in range(len(colors)):\n",
    "    print(i, colors[i])\n",
    "\n",
    "print('-' * 8)\n",
    "\n",
    "# Good\n",
    "for i, color in enumerate(colors):\n",
    "    print(i, color)"
   ]
  },
  {
   "cell_type": "markdown",
   "id": "f000e9ef-209a-4659-b631-5f06d19aae0c",
   "metadata": {},
   "source": [
    "## Not using the standard library\n",
    "\n",
    "While it’s **always** better than a hand-made solution"
   ]
  },
  {
   "cell_type": "code",
   "execution_count": null,
   "id": "60f8a6a6",
   "metadata": {
    "ExecuteTime": {
     "end_time": "2021-01-15T08:41:21.109134Z",
     "start_time": "2021-01-15T08:41:21.101392Z"
    }
   },
   "outputs": [],
   "source": [
    "list1 = [1, 2]\n",
    "list2 = [3, 4]\n",
    "list3 = [5, 6, 7]\n",
    "\n",
    "for a in list1:\n",
    "    for b in list2:\n",
    "        for c in list3:\n",
    "            print(a, b, c)"
   ]
  },
  {
   "cell_type": "code",
   "execution_count": null,
   "id": "313a688b",
   "metadata": {
    "ExecuteTime": {
     "end_time": "2021-01-15T08:41:22.827474Z",
     "start_time": "2021-01-15T08:41:22.819519Z"
    },
    "slideshow": {
     "slide_type": "subslide"
    }
   },
   "outputs": [],
   "source": [
    "from itertools import product\n",
    "\n",
    "for a, b, c in product(list1, list2, list3):\n",
    "    print(a, b, c)"
   ]
  },
  {
   "cell_type": "markdown",
   "id": "d2e10e4b-fbf6-467f-ad0c-5008fb8923ce",
   "metadata": {},
   "source": [
    "# That’s it for now !"
   ]
  }
 ],
 "metadata": {
  "kernelspec": {
   "display_name": "Python 3 (ipykernel)",
   "language": "python",
   "name": "python3"
  },
  "language_info": {
   "codemirror_mode": {
    "name": "ipython",
    "version": 3
   },
   "file_extension": ".py",
   "mimetype": "text/x-python",
   "name": "python",
   "nbconvert_exporter": "python",
   "pygments_lexer": "ipython3",
   "version": "3.12.3"
  }
 },
 "nbformat": 4,
 "nbformat_minor": 5
}
