{
  "cells": [
    {
      "cell_type": "markdown",
      "metadata": {},
      "source": [
        "# Introduction to Python\n",
        "\n",
        "We introduce here the `python` language. Only the bare minimum necessary\n",
        "for getting started with the data-science stack (a bunch of libraries\n",
        "for data science). Python is a **programming language**, as are `C++`,\n",
        "`java`, `fortran`, `javascript`, etc.\n",
        "\n",
        "## Specific features of Python\n",
        "\n",
        "-   an **interpreted** (as opposed to *compiled*) language. Contrary to\n",
        "    e.g. `C++` or `fortran`, one does not compile Python code before\n",
        "    executing it.\n",
        "\n",
        "-   Used as a scripting language, by python `python script.py` in a\n",
        "    terminal\n",
        "\n",
        "-   But can be used also **interactively**: the jupyter notebook,\n",
        "    iPython, etc.\n",
        "\n",
        "-   A free software released under an **open-source** license: Python\n",
        "    can be used and distributed free of charge, even for building\n",
        "    commercial software.\n",
        "\n",
        "-   **multi-platform**: Python is available for all major operating\n",
        "    systems, Windows, Linux/Unix, MacOS X, most likely your mobile phone\n",
        "    OS, etc.\n",
        "\n",
        "-   A very readable language with clear non-verbose syntax\n",
        "\n",
        "-   A language for which a **large amount of high-quality** packages are\n",
        "    available for various applications, including web-frameworks and\n",
        "    scientific computing\n",
        "\n",
        "-   It has been one of the top **languages for data science** and\n",
        "    **machine learning** for several years, because it is expressive and\n",
        "    and easy to deploy\n",
        "\n",
        "-   An object-oriented language\n",
        "\n",
        "See https://www.python.org/about/ for more information about\n",
        "distinguishing features of Python.\n",
        "\n",
        "> **Python 2 or Python 3?**\n",
        ">\n",
        "> -   Simple answer: *don’t use Python 2, use Python 3*\n",
        "> -   Python 2 is *mostly deprecated* and *has not been maintained* for\n",
        ">     years\n",
        "> -   You’ll end up hanged if you use Python 2\n",
        "> -   If Python 2 is mandatory at your workplace, find another work\n",
        "\n",
        "> **Jupyter or Quarto notebooks?**\n",
        ">\n",
        "> -   `quarto` is more git friendly than `jupyter`\n",
        ">\n",
        "> -   Enjoy authentic editors\n",
        ">\n",
        "> -   Go for `quarto`\n",
        "\n",
        "# Hello world\n",
        "\n",
        "-   In a `jupyter`/`quarto` notebook, you have an interactive\n",
        "    interpreter.\n",
        "\n",
        "-   You type in the cells, execute commands"
      ],
      "id": "e5ae76de-62db-4bfa-9f19-6803df510e7e"
    },
    {
      "cell_type": "code",
      "execution_count": 1,
      "metadata": {
        "ExecuteTime": {
          "end_time": "2021-01-26T10:21:39.584103Z",
          "start_time": "2021-01-26T10:21:39.577509Z"
        },
        "slideshow": {
          "slide_type": "fragment"
        }
      },
      "outputs": [],
      "source": [
        "print(\"Hi everybody!\")"
      ],
      "id": "c840a485"
    },
    {
      "cell_type": "markdown",
      "metadata": {},
      "source": [
        "# Basic types\n",
        "\n",
        "## Integers"
      ],
      "id": "3501f2d3-f611-4162-9e4e-5257468698c6"
    },
    {
      "cell_type": "code",
      "execution_count": 2,
      "metadata": {
        "ExecuteTime": {
          "end_time": "2021-01-26T10:21:48.191166Z",
          "start_time": "2021-01-26T10:21:48.181921Z"
        },
        "slideshow": {
          "slide_type": "fragment"
        }
      },
      "outputs": [],
      "source": [
        "1 + 42"
      ],
      "id": "e7771dca"
    },
    {
      "cell_type": "code",
      "execution_count": 3,
      "metadata": {
        "ExecuteTime": {
          "end_time": "2021-01-26T10:21:50.119817Z",
          "start_time": "2021-01-26T10:21:50.115692Z"
        },
        "slideshow": {
          "slide_type": "-"
        }
      },
      "outputs": [],
      "source": [
        "type(1+1)"
      ],
      "id": "11fcf6f9"
    },
    {
      "cell_type": "markdown",
      "metadata": {},
      "source": [
        "We can assign values to variables with `=`"
      ],
      "id": "18906a08-7b64-4590-b499-ab2c3e5043c1"
    },
    {
      "cell_type": "code",
      "execution_count": 4,
      "metadata": {
        "ExecuteTime": {
          "end_time": "2021-01-26T10:22:09.152051Z",
          "start_time": "2021-01-26T10:22:09.148135Z"
        },
        "slideshow": {
          "slide_type": "-"
        }
      },
      "outputs": [],
      "source": [
        "a = (3 + 5 ** 2) % 4\n",
        "a"
      ],
      "id": "8ff2177d"
    },
    {
      "cell_type": "markdown",
      "metadata": {},
      "source": [
        "## Remark\n",
        "\n",
        "We don’t declare the type of a variable before assigning its value. In\n",
        "C, conversely, one should write\n",
        "\n",
        "``` c\n",
        "int a = 4;\n",
        "```\n",
        "\n",
        "## Something cool\n",
        "\n",
        "-   **Arbitrary large** integer arithmetics"
      ],
      "id": "4a6a2d3d-41e7-4396-8b86-4046b9d5639c"
    },
    {
      "cell_type": "code",
      "execution_count": 5,
      "metadata": {
        "ExecuteTime": {
          "end_time": "2021-01-26T10:22:20.017016Z",
          "start_time": "2021-01-26T10:22:20.012996Z"
        },
        "slideshow": {
          "slide_type": "fragment"
        }
      },
      "outputs": [],
      "source": [
        "17 ** 542"
      ],
      "id": "b9c6259c"
    },
    {
      "cell_type": "markdown",
      "metadata": {},
      "source": [
        "## Floats\n",
        "\n",
        "There exists a floating point type that is created when the variable has\n",
        "decimal values"
      ],
      "id": "8f3e3e19-c79f-4e14-9de1-53b70c9f09f5"
    },
    {
      "cell_type": "code",
      "execution_count": 6,
      "metadata": {
        "ExecuteTime": {
          "end_time": "2021-01-26T10:22:48.180478Z",
          "start_time": "2021-01-26T10:22:48.177424Z"
        },
        "slideshow": {
          "slide_type": "-"
        }
      },
      "outputs": [],
      "source": [
        "c = 2."
      ],
      "id": "95065b4f"
    },
    {
      "cell_type": "code",
      "execution_count": 7,
      "metadata": {
        "ExecuteTime": {
          "end_time": "2021-01-26T10:22:48.386461Z",
          "start_time": "2021-01-26T10:22:48.381009Z"
        },
        "slideshow": {
          "slide_type": "-"
        }
      },
      "outputs": [],
      "source": [
        "type(c)"
      ],
      "id": "a29f9dd0"
    },
    {
      "cell_type": "code",
      "execution_count": 8,
      "metadata": {
        "ExecuteTime": {
          "end_time": "2021-01-26T10:22:53.303241Z",
          "start_time": "2021-01-26T10:22:53.298876Z"
        },
        "slideshow": {
          "slide_type": "fragment"
        }
      },
      "outputs": [],
      "source": [
        "c = 2\n",
        "type(c)"
      ],
      "id": "cd484889"
    },
    {
      "cell_type": "code",
      "execution_count": 9,
      "metadata": {
        "ExecuteTime": {
          "end_time": "2021-01-26T10:23:15.640321Z",
          "start_time": "2021-01-26T10:23:15.636205Z"
        },
        "slideshow": {
          "slide_type": "fragment"
        }
      },
      "outputs": [],
      "source": [
        "truc = 1 / 2\n",
        "truc"
      ],
      "id": "e10394f0"
    },
    {
      "cell_type": "code",
      "execution_count": 10,
      "metadata": {
        "ExecuteTime": {
          "end_time": "2021-01-26T10:23:36.468643Z",
          "start_time": "2021-01-26T10:23:36.464148Z"
        }
      },
      "outputs": [],
      "source": [
        "1 // 2 + 1 % 2"
      ],
      "id": "9e3c1d33"
    },
    {
      "cell_type": "code",
      "execution_count": 11,
      "metadata": {
        "ExecuteTime": {
          "end_time": "2021-01-26T10:23:41.839969Z",
          "start_time": "2021-01-26T10:23:41.835363Z"
        },
        "slideshow": {
          "slide_type": "-"
        }
      },
      "outputs": [],
      "source": [
        "type(truc)"
      ],
      "id": "1a248ecb"
    },
    {
      "cell_type": "markdown",
      "metadata": {},
      "source": [
        "## Boolean\n",
        "\n",
        "Similarly, boolean types are created from a comparison"
      ],
      "id": "59890470-21f9-4810-8afc-6eeff7e8c019"
    },
    {
      "cell_type": "code",
      "execution_count": 12,
      "metadata": {
        "ExecuteTime": {
          "end_time": "2021-01-26T10:23:43.765175Z",
          "start_time": "2021-01-26T10:23:43.761701Z"
        },
        "slideshow": {
          "slide_type": "fragment"
        }
      },
      "outputs": [],
      "source": [
        "test = 3 > 4\n",
        "test"
      ],
      "id": "86a21c18"
    },
    {
      "cell_type": "code",
      "execution_count": 13,
      "metadata": {
        "ExecuteTime": {
          "end_time": "2021-01-26T10:23:47.310818Z",
          "start_time": "2021-01-26T10:23:47.306145Z"
        },
        "slideshow": {
          "slide_type": "-"
        }
      },
      "outputs": [],
      "source": [
        "type(test)"
      ],
      "id": "33f3ea82"
    },
    {
      "cell_type": "code",
      "execution_count": 14,
      "metadata": {
        "ExecuteTime": {
          "end_time": "2021-01-26T10:23:48.899891Z",
          "start_time": "2021-01-26T10:23:48.895700Z"
        },
        "slideshow": {
          "slide_type": "fragment"
        }
      },
      "outputs": [],
      "source": [
        "False == (not True)"
      ],
      "id": "6c57978a"
    },
    {
      "cell_type": "code",
      "execution_count": 15,
      "metadata": {
        "ExecuteTime": {
          "end_time": "2021-01-26T10:23:56.264231Z",
          "start_time": "2021-01-26T10:23:56.259609Z"
        },
        "slideshow": {
          "slide_type": "fragment"
        }
      },
      "outputs": [],
      "source": [
        "1.41 < 2.71 and 2.71 < 3.14"
      ],
      "id": "1205d7e5"
    },
    {
      "cell_type": "code",
      "execution_count": 16,
      "metadata": {
        "ExecuteTime": {
          "end_time": "2021-01-26T10:24:06.450423Z",
          "start_time": "2021-01-26T10:24:06.446054Z"
        },
        "slideshow": {
          "slide_type": "-"
        }
      },
      "outputs": [],
      "source": [
        "# It's equivalent to\n",
        "1.41 < 2.71 < 3.14"
      ],
      "id": "fdf465e3"
    },
    {
      "cell_type": "markdown",
      "metadata": {},
      "source": [
        "## Type conversion (casting)"
      ],
      "id": "8fe97719-ebc1-4bf0-a4a1-51391579ca0b"
    },
    {
      "cell_type": "code",
      "execution_count": 17,
      "metadata": {
        "ExecuteTime": {
          "end_time": "2021-01-26T10:24:23.846051Z",
          "start_time": "2021-01-26T10:24:23.841709Z"
        },
        "slideshow": {
          "slide_type": "fragment"
        }
      },
      "outputs": [],
      "source": [
        "a = 1\n",
        "type(a)"
      ],
      "id": "3fa92c10"
    },
    {
      "cell_type": "code",
      "execution_count": 18,
      "metadata": {
        "ExecuteTime": {
          "end_time": "2021-01-26T10:24:24.566291Z",
          "start_time": "2021-01-26T10:24:24.561510Z"
        },
        "slideshow": {
          "slide_type": "-"
        }
      },
      "outputs": [],
      "source": [
        "b = float(a)\n",
        "type(b)"
      ],
      "id": "53df4ae8"
    },
    {
      "cell_type": "code",
      "execution_count": 19,
      "metadata": {
        "ExecuteTime": {
          "end_time": "2021-01-26T10:24:44.986299Z",
          "start_time": "2021-01-26T10:24:44.981939Z"
        },
        "slideshow": {
          "slide_type": "-"
        }
      },
      "outputs": [],
      "source": [
        "str(b)"
      ],
      "id": "a7f7ef99"
    },
    {
      "cell_type": "code",
      "execution_count": 20,
      "metadata": {
        "ExecuteTime": {
          "end_time": "2021-01-26T10:24:52.865090Z",
          "start_time": "2021-01-26T10:24:52.860248Z"
        },
        "slideshow": {
          "slide_type": "fragment"
        }
      },
      "outputs": [],
      "source": [
        "bool(b)\n",
        "# All non-zero, non empty objects are casted to boolean as True (more later)"
      ],
      "id": "771f1bbe"
    },
    {
      "cell_type": "code",
      "execution_count": 21,
      "metadata": {
        "ExecuteTime": {
          "end_time": "2021-01-26T10:24:59.506191Z",
          "start_time": "2021-01-26T10:24:59.502013Z"
        },
        "slideshow": {
          "slide_type": "-"
        }
      },
      "outputs": [],
      "source": [
        "bool(1-1)"
      ],
      "id": "4714e75f"
    },
    {
      "cell_type": "markdown",
      "metadata": {},
      "source": [
        "# Containers\n",
        "\n",
        "Python provides many efficient types of *containers* or *sequences*, in\n",
        "which collections of objects can be stored.\n",
        "\n",
        "The main ones are `list`, `tuple`, `set` and `dict` (but there are many\n",
        "others…)\n",
        "\n",
        "## Tuples"
      ],
      "id": "75770da0-b8d0-45ce-bb17-03fa2efe3161"
    },
    {
      "cell_type": "code",
      "execution_count": 22,
      "metadata": {
        "ExecuteTime": {
          "end_time": "2021-01-26T10:27:14.513637Z",
          "start_time": "2021-01-26T10:27:14.509638Z"
        },
        "slideshow": {
          "slide_type": "fragment"
        }
      },
      "outputs": [],
      "source": [
        "tt = 'truc', 3.14, \"truc\"\n",
        "tt"
      ],
      "id": "3b7c7a82"
    },
    {
      "cell_type": "code",
      "execution_count": 23,
      "metadata": {
        "ExecuteTime": {
          "end_time": "2021-01-26T10:27:18.172578Z",
          "start_time": "2021-01-26T10:27:18.168425Z"
        },
        "slideshow": {
          "slide_type": "-"
        }
      },
      "outputs": [],
      "source": [
        "tt[0]"
      ],
      "id": "0ed27137"
    },
    {
      "cell_type": "markdown",
      "metadata": {},
      "source": [
        "You can’t change a tuple, we say that it’s *immutable*"
      ],
      "id": "5eb51e0b-6f0c-46fd-a247-83726a9a254b"
    },
    {
      "cell_type": "code",
      "execution_count": 24,
      "metadata": {
        "ExecuteTime": {
          "end_time": "2021-01-26T10:28:02.315034Z",
          "start_time": "2021-01-26T10:28:02.306507Z"
        },
        "slideshow": {
          "slide_type": "-"
        }
      },
      "outputs": [],
      "source": [
        "try:\n",
        "    tt[0] = 1\n",
        "except TypeError:\n",
        "    print(f\"TypeError: 'tuple' object does not support item assignment\")"
      ],
      "id": "45aed375"
    },
    {
      "cell_type": "markdown",
      "metadata": {},
      "source": [
        "Three ways of doing the same thing"
      ],
      "id": "dd1fb52d-2c7c-40d9-9c0c-f4ca4b6c4880"
    },
    {
      "cell_type": "code",
      "execution_count": 25,
      "metadata": {
        "ExecuteTime": {
          "end_time": "2021-01-26T10:28:15.173558Z",
          "start_time": "2021-01-26T10:28:15.169603Z"
        },
        "slideshow": {
          "slide_type": "-"
        }
      },
      "outputs": [],
      "source": [
        "# Method 1\n",
        "tuple([1, 2, 3])"
      ],
      "id": "b15d3a10"
    },
    {
      "cell_type": "code",
      "execution_count": 26,
      "metadata": {
        "ExecuteTime": {
          "end_time": "2021-01-26T10:28:18.262396Z",
          "start_time": "2021-01-26T10:28:18.257807Z"
        },
        "slideshow": {
          "slide_type": "-"
        }
      },
      "outputs": [],
      "source": [
        "# Method 2\n",
        "1, 2, 3"
      ],
      "id": "a92d53a1"
    },
    {
      "cell_type": "code",
      "execution_count": 27,
      "metadata": {
        "ExecuteTime": {
          "end_time": "2021-01-26T10:28:32.225077Z",
          "start_time": "2021-01-26T10:28:32.219931Z"
        },
        "slideshow": {
          "slide_type": "-"
        }
      },
      "outputs": [],
      "source": [
        "# Method 3\n",
        "(1, 2, 3)"
      ],
      "id": "de61b73b"
    },
    {
      "cell_type": "markdown",
      "metadata": {},
      "source": [
        "**Simpler is better in Python**, so usually you want to use Method 2."
      ],
      "id": "810e6f53-a45c-406e-8d66-d481a8508ab8"
    },
    {
      "cell_type": "code",
      "execution_count": 28,
      "metadata": {
        "ExecuteTime": {
          "end_time": "2021-01-26T10:28:35.028409Z",
          "start_time": "2021-01-26T10:28:35.023677Z"
        },
        "slideshow": {
          "slide_type": "fragment"
        }
      },
      "outputs": [],
      "source": [
        "toto = 1, 2, 3\n",
        "toto"
      ],
      "id": "657ebb7a"
    },
    {
      "cell_type": "markdown",
      "metadata": {},
      "source": [
        "-   This is serious !\n",
        "\n",
        "## The Zen of Python easter’s egg"
      ],
      "id": "b51ebaad-d9c3-4995-ae83-1e5173491f81"
    },
    {
      "cell_type": "code",
      "execution_count": 29,
      "metadata": {
        "ExecuteTime": {
          "end_time": "2021-01-26T10:28:41.814008Z",
          "start_time": "2021-01-26T10:28:41.805313Z"
        },
        "slideshow": {
          "slide_type": "-"
        }
      },
      "outputs": [],
      "source": [
        "import this"
      ],
      "id": "3a9f4f69"
    },
    {
      "cell_type": "markdown",
      "metadata": {},
      "source": [
        "## Lists\n",
        "\n",
        "A list is an ordered collection of objects. These objects may have\n",
        "different types. For example:"
      ],
      "id": "d3c3931f-bda2-47a5-99cb-fdf8fb56db54"
    },
    {
      "cell_type": "code",
      "execution_count": 30,
      "metadata": {
        "ExecuteTime": {
          "end_time": "2021-01-26T10:28:56.683616Z",
          "start_time": "2021-01-26T10:28:56.680383Z"
        },
        "slideshow": {
          "slide_type": "-"
        }
      },
      "outputs": [],
      "source": [
        "colors = ['red', 'blue', 'green', 'black', 'white']"
      ],
      "id": "87bbbb27"
    },
    {
      "cell_type": "code",
      "execution_count": 31,
      "metadata": {
        "ExecuteTime": {
          "end_time": "2021-01-26T10:29:21.606351Z",
          "start_time": "2021-01-26T10:29:21.601561Z"
        }
      },
      "outputs": [],
      "source": [
        "colors[0]"
      ],
      "id": "fb106624"
    },
    {
      "cell_type": "code",
      "execution_count": 32,
      "metadata": {
        "ExecuteTime": {
          "end_time": "2021-01-26T10:29:07.632451Z",
          "start_time": "2021-01-26T10:29:07.627681Z"
        },
        "slideshow": {
          "slide_type": "-"
        }
      },
      "outputs": [],
      "source": [
        "type(colors)"
      ],
      "id": "8c494fa1"
    },
    {
      "cell_type": "markdown",
      "metadata": {},
      "source": [
        "*Indexing:* accessing individual objects contained in the list by their\n",
        "position"
      ],
      "id": "bf5f8532-f6b5-4a7f-a88b-b562814692da"
    },
    {
      "cell_type": "code",
      "execution_count": 33,
      "metadata": {
        "ExecuteTime": {
          "end_time": "2021-01-26T10:29:24.838416Z",
          "start_time": "2021-01-26T10:29:24.833616Z"
        },
        "slideshow": {
          "slide_type": "-"
        }
      },
      "outputs": [],
      "source": [
        "colors[2]"
      ],
      "id": "74fd7378"
    },
    {
      "cell_type": "code",
      "execution_count": 34,
      "metadata": {
        "ExecuteTime": {
          "end_time": "2021-01-26T10:29:25.132251Z",
          "start_time": "2021-01-26T10:29:25.124359Z"
        },
        "slideshow": {
          "slide_type": "-"
        }
      },
      "outputs": [],
      "source": [
        "colors[2] = 3.14\n",
        "colors"
      ],
      "id": "5a6af618"
    },
    {
      "cell_type": "markdown",
      "metadata": {},
      "source": [
        "> **Warning**\n",
        ">\n",
        "> For any *iterable* object in Python, indexing *starts at 0* (as in C),\n",
        "> not at 1 (as in Fortran, R, or Matlab).\n",
        "\n",
        "Counting from the end with negative indices:"
      ],
      "id": "d1f81c4e-e946-4f23-9d85-3f63335ff606"
    },
    {
      "cell_type": "code",
      "execution_count": 35,
      "metadata": {
        "ExecuteTime": {
          "end_time": "2021-01-26T10:29:44.258856Z",
          "start_time": "2021-01-26T10:29:44.254238Z"
        },
        "slideshow": {
          "slide_type": "-"
        }
      },
      "outputs": [],
      "source": [
        "colors[-1]"
      ],
      "id": "30528535"
    },
    {
      "cell_type": "markdown",
      "metadata": {},
      "source": [
        "Index must remain in the range of the list"
      ],
      "id": "7ab29b2f-65db-4930-9531-1128e59ac062"
    },
    {
      "cell_type": "code",
      "execution_count": 36,
      "metadata": {
        "ExecuteTime": {
          "end_time": "2021-01-26T10:29:47.674912Z",
          "start_time": "2021-01-26T10:29:47.666346Z"
        },
        "slideshow": {
          "slide_type": "-"
        }
      },
      "outputs": [],
      "source": [
        "try:\n",
        "    colors[10]\n",
        "except IndexError:\n",
        "    print(f\"IndexError: 10 >= {len(colors)} ==len(colors), index out of range \")"
      ],
      "id": "2a869f2c"
    },
    {
      "cell_type": "code",
      "execution_count": 37,
      "metadata": {
        "ExecuteTime": {
          "end_time": "2021-01-26T10:30:01.912160Z",
          "start_time": "2021-01-26T10:30:01.907265Z"
        },
        "slideshow": {
          "slide_type": "subslide"
        }
      },
      "outputs": [],
      "source": [
        "colors"
      ],
      "id": "6e642a5f"
    },
    {
      "cell_type": "code",
      "execution_count": 38,
      "metadata": {
        "ExecuteTime": {
          "end_time": "2021-01-26T10:30:02.143331Z",
          "start_time": "2021-01-26T10:30:02.137270Z"
        }
      },
      "outputs": [],
      "source": [
        "tt"
      ],
      "id": "a8580803"
    },
    {
      "cell_type": "code",
      "execution_count": 39,
      "metadata": {
        "ExecuteTime": {
          "end_time": "2021-01-26T10:30:34.000220Z",
          "start_time": "2021-01-26T10:30:33.995039Z"
        },
        "slideshow": {
          "slide_type": "-"
        }
      },
      "outputs": [],
      "source": [
        "colors.append(tt)\n",
        "colors"
      ],
      "id": "ab2a3826"
    },
    {
      "cell_type": "code",
      "execution_count": 40,
      "metadata": {
        "ExecuteTime": {
          "end_time": "2021-01-26T10:30:47.434827Z",
          "start_time": "2021-01-26T10:30:47.429744Z"
        },
        "slideshow": {
          "slide_type": "-"
        }
      },
      "outputs": [],
      "source": [
        "len(colors)"
      ],
      "id": "ed12f585"
    },
    {
      "cell_type": "code",
      "execution_count": 41,
      "metadata": {
        "ExecuteTime": {
          "end_time": "2021-01-26T10:30:52.949200Z",
          "start_time": "2021-01-26T10:30:52.944225Z"
        }
      },
      "outputs": [],
      "source": [
        "len(tt)"
      ],
      "id": "ba3323d8"
    },
    {
      "cell_type": "markdown",
      "metadata": {},
      "source": [
        "## Slicing: obtaining sublists of regularly-spaced elements\n",
        "\n",
        "This work with anything iterable whenever it makes sense (`list`, `str`,\n",
        "`tuple`, etc.)"
      ],
      "id": "6e492e3c-70f9-48c9-a400-fc294bc60f4d"
    },
    {
      "cell_type": "code",
      "execution_count": 42,
      "metadata": {
        "ExecuteTime": {
          "end_time": "2021-01-26T10:30:59.895713Z",
          "start_time": "2021-01-26T10:30:59.890434Z"
        },
        "slideshow": {
          "slide_type": "fragment"
        }
      },
      "outputs": [],
      "source": [
        "colors"
      ],
      "id": "fc955cc2"
    },
    {
      "cell_type": "code",
      "execution_count": 43,
      "metadata": {
        "ExecuteTime": {
          "end_time": "2021-01-26T10:31:26.118892Z",
          "start_time": "2021-01-26T10:31:26.113811Z"
        },
        "slideshow": {
          "slide_type": "-"
        }
      },
      "outputs": [],
      "source": [
        "list(reversed(colors))"
      ],
      "id": "e71370fe"
    },
    {
      "cell_type": "code",
      "execution_count": 44,
      "metadata": {
        "ExecuteTime": {
          "end_time": "2021-01-26T10:32:55.756965Z",
          "start_time": "2021-01-26T10:32:55.752090Z"
        },
        "slideshow": {
          "slide_type": "-"
        }
      },
      "outputs": [],
      "source": [
        "colors[::-1]"
      ],
      "id": "f4247e98"
    },
    {
      "cell_type": "markdown",
      "metadata": {},
      "source": [
        "> **Slicing syntax:**\n",
        ">\n",
        "> `colors[start:stop:stride]`\n",
        ">\n",
        "> `start, stop, stride` are optional, with default values\n",
        "> `0, len(sequence), 1`\n",
        "\n",
        "l"
      ],
      "id": "409c10c0-b0ba-4a0a-a1dd-64ca278ece96"
    },
    {
      "cell_type": "code",
      "execution_count": 45,
      "metadata": {},
      "outputs": [],
      "source": [
        "print(slice(4))\n",
        "print(slice(1,5))\n",
        "print(slice(None,13,3))"
      ],
      "id": "0f454e2b"
    },
    {
      "cell_type": "code",
      "execution_count": 46,
      "metadata": {},
      "outputs": [],
      "source": [
        "sl = slice(1,5,2)\n",
        "colors[sl]"
      ],
      "id": "9afbf525"
    },
    {
      "cell_type": "code",
      "execution_count": 47,
      "metadata": {
        "ExecuteTime": {
          "end_time": "2021-01-15T08:34:10.985959Z",
          "start_time": "2021-01-15T08:34:10.980519Z"
        },
        "slideshow": {
          "slide_type": "subslide"
        }
      },
      "outputs": [],
      "source": [
        "colors"
      ],
      "id": "2fcba7c1"
    },
    {
      "cell_type": "code",
      "execution_count": 48,
      "metadata": {
        "ExecuteTime": {
          "end_time": "2021-01-15T08:34:11.188011Z",
          "start_time": "2021-01-15T08:34:11.182382Z"
        },
        "slideshow": {
          "slide_type": "-"
        }
      },
      "outputs": [],
      "source": [
        "colors[3:]"
      ],
      "id": "507e5958"
    },
    {
      "cell_type": "code",
      "execution_count": 49,
      "metadata": {
        "ExecuteTime": {
          "end_time": "2021-01-15T08:34:11.462017Z",
          "start_time": "2021-01-15T08:34:11.457005Z"
        },
        "slideshow": {
          "slide_type": "-"
        }
      },
      "outputs": [],
      "source": [
        "colors[:3]"
      ],
      "id": "8754d8d3"
    },
    {
      "cell_type": "code",
      "execution_count": 50,
      "metadata": {
        "ExecuteTime": {
          "end_time": "2021-01-15T08:34:11.666073Z",
          "start_time": "2021-01-15T08:34:11.661006Z"
        },
        "slideshow": {
          "slide_type": "-"
        }
      },
      "outputs": [],
      "source": [
        "colors[1::2]"
      ],
      "id": "af9232ef"
    },
    {
      "cell_type": "code",
      "execution_count": 51,
      "metadata": {
        "ExecuteTime": {
          "end_time": "2021-01-15T08:34:11.892685Z",
          "start_time": "2021-01-15T08:34:11.886394Z"
        },
        "slideshow": {
          "slide_type": "-"
        }
      },
      "outputs": [],
      "source": [
        "colors[::-1]"
      ],
      "id": "5f7d5a06"
    },
    {
      "cell_type": "markdown",
      "metadata": {},
      "source": [
        "## Strings\n",
        "\n",
        "Different string syntaxes (simple, double or triple quotes):"
      ],
      "id": "b564a62b-1ff5-4e05-8b72-6c04b4b93dc9"
    },
    {
      "cell_type": "code",
      "execution_count": 52,
      "metadata": {
        "ExecuteTime": {
          "end_time": "2021-01-15T08:34:12.527044Z",
          "start_time": "2021-01-15T08:34:12.522242Z"
        },
        "slideshow": {
          "slide_type": "fragment"
        }
      },
      "outputs": [],
      "source": [
        "s = 'tintin'\n",
        "type(s)"
      ],
      "id": "739a7cc2"
    },
    {
      "cell_type": "code",
      "execution_count": 53,
      "metadata": {
        "ExecuteTime": {
          "end_time": "2021-01-15T08:34:12.741025Z",
          "start_time": "2021-01-15T08:34:12.735783Z"
        },
        "slideshow": {
          "slide_type": "-"
        }
      },
      "outputs": [],
      "source": [
        "s"
      ],
      "id": "850fa69e"
    },
    {
      "cell_type": "code",
      "execution_count": 54,
      "metadata": {
        "ExecuteTime": {
          "end_time": "2021-01-15T08:34:12.954647Z",
          "start_time": "2021-01-15T08:34:12.948403Z"
        },
        "slideshow": {
          "slide_type": "fragment"
        }
      },
      "outputs": [],
      "source": [
        "s = \"\"\"         Bonjour,\n",
        "Je m'appelle Stephane.\n",
        "Je vous souhaite une bonne journée.\n",
        "Salut.       \n",
        "\"\"\"\n",
        "s"
      ],
      "id": "b61674e8"
    },
    {
      "cell_type": "code",
      "execution_count": 55,
      "metadata": {
        "ExecuteTime": {
          "end_time": "2021-01-15T08:34:13.096374Z",
          "start_time": "2021-01-15T08:34:13.091122Z"
        },
        "slideshow": {
          "slide_type": "-"
        }
      },
      "outputs": [],
      "source": [
        "s.strip()"
      ],
      "id": "a98daf90"
    },
    {
      "cell_type": "code",
      "execution_count": 56,
      "metadata": {
        "ExecuteTime": {
          "end_time": "2021-01-15T08:34:13.378652Z",
          "start_time": "2021-01-15T08:34:13.372858Z"
        },
        "slideshow": {
          "slide_type": "subslide"
        }
      },
      "outputs": [],
      "source": [
        "print(s.strip())"
      ],
      "id": "9d3590a2"
    },
    {
      "cell_type": "code",
      "execution_count": 57,
      "metadata": {
        "ExecuteTime": {
          "end_time": "2021-01-15T08:34:13.455410Z",
          "start_time": "2021-01-15T08:34:13.449943Z"
        },
        "slideshow": {
          "slide_type": "-"
        }
      },
      "outputs": [],
      "source": [
        "len(s)"
      ],
      "id": "752f82ee"
    },
    {
      "cell_type": "code",
      "execution_count": 58,
      "metadata": {
        "ExecuteTime": {
          "end_time": "2021-01-15T08:34:14.309647Z",
          "start_time": "2021-01-15T08:34:14.304154Z"
        },
        "slideshow": {
          "slide_type": "fragment"
        }
      },
      "outputs": [],
      "source": [
        "# Casting to a list\n",
        "list(s.strip()[:15])"
      ],
      "id": "d086a11a"
    },
    {
      "cell_type": "code",
      "execution_count": 59,
      "metadata": {
        "ExecuteTime": {
          "end_time": "2021-01-15T08:34:14.523496Z",
          "start_time": "2021-01-15T08:34:14.518586Z"
        },
        "slideshow": {
          "slide_type": "fragment"
        }
      },
      "outputs": [],
      "source": [
        "# Arithmetics\n",
        "print('Bonjour' * 2)\n",
        "print('Hello' + ' all')"
      ],
      "id": "bd25894e"
    },
    {
      "cell_type": "code",
      "execution_count": 60,
      "metadata": {
        "ExecuteTime": {
          "end_time": "2021-01-15T08:34:15.160961Z",
          "start_time": "2021-01-15T08:34:15.155909Z"
        },
        "slideshow": {
          "slide_type": "-"
        }
      },
      "outputs": [],
      "source": [
        "sss = 'A'\n",
        "sss += 'bc'\n",
        "sss += 'dE'\n",
        "sss.lower()"
      ],
      "id": "ff130d19"
    },
    {
      "cell_type": "code",
      "execution_count": 61,
      "metadata": {
        "ExecuteTime": {
          "end_time": "2021-01-15T08:34:15.363145Z",
          "start_time": "2021-01-15T08:34:15.357847Z"
        },
        "slideshow": {
          "slide_type": "subslide"
        }
      },
      "outputs": [],
      "source": [
        "ss = s.strip()\n",
        "print(ss[:10] + ss[24:28])"
      ],
      "id": "9317c23f"
    },
    {
      "cell_type": "code",
      "execution_count": 62,
      "metadata": {},
      "outputs": [],
      "source": [
        "s.strip()"
      ],
      "id": "b4643160"
    },
    {
      "cell_type": "code",
      "execution_count": 63,
      "metadata": {
        "ExecuteTime": {
          "end_time": "2021-01-15T08:34:15.594172Z",
          "start_time": "2021-01-15T08:34:15.588495Z"
        },
        "slideshow": {
          "slide_type": "-"
        }
      },
      "outputs": [],
      "source": [
        "s.strip().split('\\n')"
      ],
      "id": "ad7ee0c5"
    },
    {
      "cell_type": "code",
      "execution_count": 64,
      "metadata": {
        "ExecuteTime": {
          "end_time": "2021-01-15T08:34:17.689813Z",
          "start_time": "2021-01-15T08:34:17.684346Z"
        },
        "slideshow": {
          "slide_type": "-"
        }
      },
      "outputs": [],
      "source": [
        "s[::3]"
      ],
      "id": "3083b861"
    },
    {
      "cell_type": "code",
      "execution_count": 65,
      "metadata": {
        "ExecuteTime": {
          "end_time": "2021-01-15T08:34:23.785045Z",
          "start_time": "2021-01-15T08:34:23.779973Z"
        },
        "slideshow": {
          "slide_type": "-"
        }
      },
      "outputs": [],
      "source": [
        "s[3:10]"
      ],
      "id": "cf3e9fac"
    },
    {
      "cell_type": "code",
      "execution_count": 66,
      "metadata": {
        "ExecuteTime": {
          "end_time": "2021-01-15T08:34:23.993089Z",
          "start_time": "2021-01-15T08:34:23.987450Z"
        },
        "slideshow": {
          "slide_type": "fragment"
        }
      },
      "outputs": [],
      "source": [
        "\" \".join(['Il', 'fait', 'super', 'beau', \"aujourd'hui\"])"
      ],
      "id": "f76ae3f0"
    },
    {
      "cell_type": "markdown",
      "metadata": {},
      "source": [
        "Chaining method calls is the basic of pipeline building."
      ],
      "id": "9ea7da36-568a-4173-a4fc-5f00846a37e2"
    },
    {
      "cell_type": "code",
      "execution_count": 67,
      "metadata": {},
      "outputs": [],
      "source": [
        "( \n",
        "    \" \".join(['Il', 'fait', 'super', 'beau', \"aujourd'hui\"])\n",
        "       .title()\n",
        "       .replace(' ', '')\n",
        "       .replace(\"'\",\"\")\n",
        ")"
      ],
      "id": "214777f6"
    },
    {
      "cell_type": "markdown",
      "metadata": {},
      "source": [
        "### Important\n",
        "\n",
        "A string is *immutable* !!"
      ],
      "id": "7d7f1af1-2cc6-41b3-bbb0-3de1c23f59fc"
    },
    {
      "cell_type": "code",
      "execution_count": 68,
      "metadata": {
        "ExecuteTime": {
          "end_time": "2021-01-15T08:34:24.332754Z",
          "start_time": "2021-01-15T08:34:24.329558Z"
        },
        "slideshow": {
          "slide_type": "-"
        }
      },
      "outputs": [],
      "source": [
        "s = 'I am an immutable guy'"
      ],
      "id": "b3bf7746"
    },
    {
      "cell_type": "code",
      "execution_count": 69,
      "metadata": {
        "ExecuteTime": {
          "end_time": "2021-01-15T08:34:24.511029Z",
          "start_time": "2021-01-15T08:34:24.499601Z"
        },
        "slideshow": {
          "slide_type": "-"
        }
      },
      "outputs": [],
      "source": [
        "try:  \n",
        "    s[2] = 's'\n",
        "except TypeError:\n",
        "    print(f\"Strings are immutable! s is still '{s}'\")"
      ],
      "id": "438f2100"
    },
    {
      "cell_type": "code",
      "execution_count": 70,
      "metadata": {
        "ExecuteTime": {
          "end_time": "2021-01-15T08:34:24.732120Z",
          "start_time": "2021-01-15T08:34:24.725628Z"
        },
        "slideshow": {
          "slide_type": "fragment"
        }
      },
      "outputs": [],
      "source": [
        "id(s)"
      ],
      "id": "b2087b62"
    },
    {
      "cell_type": "code",
      "execution_count": 71,
      "metadata": {
        "ExecuteTime": {
          "end_time": "2021-01-15T08:34:25.275379Z",
          "start_time": "2021-01-15T08:34:25.269724Z"
        }
      },
      "outputs": [],
      "source": [
        "print(s + ', for sure')\n",
        "id(s), id(s + ' for sure')"
      ],
      "id": "e7d93103"
    },
    {
      "cell_type": "markdown",
      "metadata": {},
      "source": [
        "### Extra stuff with strings"
      ],
      "id": "96258d28-d030-411c-8be3-88bfd5f33f2f"
    },
    {
      "cell_type": "code",
      "execution_count": 72,
      "metadata": {
        "ExecuteTime": {
          "end_time": "2021-01-15T08:34:25.685455Z",
          "start_time": "2021-01-15T08:34:25.679575Z"
        },
        "slideshow": {
          "slide_type": "-"
        }
      },
      "outputs": [],
      "source": [
        "'square of 2 is ' + str(2 ** 2)"
      ],
      "id": "15b9488e"
    },
    {
      "cell_type": "code",
      "execution_count": 73,
      "metadata": {
        "ExecuteTime": {
          "end_time": "2021-01-15T08:34:26.075613Z",
          "start_time": "2021-01-15T08:34:26.070551Z"
        },
        "slideshow": {
          "slide_type": "-"
        }
      },
      "outputs": [],
      "source": [
        "'square of 2 is %d' % 2 ** 2"
      ],
      "id": "2a3d0c21"
    },
    {
      "cell_type": "code",
      "execution_count": 74,
      "metadata": {
        "ExecuteTime": {
          "end_time": "2021-01-15T08:34:28.906445Z",
          "start_time": "2021-01-15T08:34:28.900777Z"
        },
        "slideshow": {
          "slide_type": "-"
        }
      },
      "outputs": [],
      "source": [
        "'square of 2 is {}'.format(2 ** 2)"
      ],
      "id": "1294a278"
    },
    {
      "cell_type": "code",
      "execution_count": 75,
      "metadata": {
        "ExecuteTime": {
          "end_time": "2021-01-15T08:34:29.230345Z",
          "start_time": "2021-01-15T08:34:29.225362Z"
        },
        "slideshow": {
          "slide_type": "-"
        }
      },
      "outputs": [],
      "source": [
        "'square of 2 is {square}'.format(square=2 ** 2)"
      ],
      "id": "c358f492"
    },
    {
      "cell_type": "code",
      "execution_count": 76,
      "metadata": {
        "ExecuteTime": {
          "end_time": "2021-01-15T08:34:29.464228Z",
          "start_time": "2021-01-15T08:34:29.457777Z"
        },
        "slideshow": {
          "slide_type": "fragment"
        }
      },
      "outputs": [],
      "source": [
        "# And since Python 3.6 you can use an `f-string`\n",
        "number = 2\n",
        "square = number ** 2\n",
        "\n",
        "f'square of {number} is {square}'"
      ],
      "id": "739bf5a6"
    },
    {
      "cell_type": "markdown",
      "metadata": {},
      "source": [
        "### The `in` keyword\n",
        "\n",
        "You can use the `in` keyword with any container, whenever it makes sense"
      ],
      "id": "36899287-c9e0-422f-801f-59aabd4269af"
    },
    {
      "cell_type": "code",
      "execution_count": 77,
      "metadata": {
        "ExecuteTime": {
          "end_time": "2021-01-15T08:34:29.779042Z",
          "start_time": "2021-01-15T08:34:29.774313Z"
        },
        "slideshow": {
          "slide_type": "fragment"
        }
      },
      "outputs": [],
      "source": [
        "print(s)\n",
        "print('Salut' in s)"
      ],
      "id": "eb53f4db"
    },
    {
      "cell_type": "code",
      "execution_count": 78,
      "metadata": {
        "ExecuteTime": {
          "end_time": "2021-01-15T08:34:30.599065Z",
          "start_time": "2021-01-15T08:34:30.595645Z"
        },
        "slideshow": {
          "slide_type": "-"
        }
      },
      "outputs": [],
      "source": [
        "print(tt)\n",
        "print('truc' in tt)"
      ],
      "id": "598e26da"
    },
    {
      "cell_type": "code",
      "execution_count": 79,
      "metadata": {
        "ExecuteTime": {
          "end_time": "2021-01-15T08:34:30.819735Z",
          "start_time": "2021-01-15T08:34:30.813275Z"
        },
        "slideshow": {
          "slide_type": "fragment"
        }
      },
      "outputs": [],
      "source": [
        "print(colors)\n",
        "print('truc' in colors)"
      ],
      "id": "d2475d88"
    },
    {
      "cell_type": "code",
      "execution_count": 80,
      "metadata": {
        "ExecuteTime": {
          "end_time": "2021-01-15T08:34:31.035913Z",
          "start_time": "2021-01-15T08:34:31.030502Z"
        }
      },
      "outputs": [],
      "source": [
        "('truc', 3.14, 'truc') in colors"
      ],
      "id": "c1ef3bec"
    },
    {
      "cell_type": "markdown",
      "metadata": {},
      "source": [
        "> **Warning**\n",
        ">\n",
        "> Strings are not bytes. Have a look at chapter 4 *Unicode Text versus\n",
        "> Bytes* in [Fluent\n",
        "> Python](https://www.oreilly.com/library/view/fluent-python-2nd/9781492056348/)\n",
        "\n",
        "### Brain-teasing\n",
        "\n",
        "Explain this weird behaviour:"
      ],
      "id": "4710bb2e-e4cf-4146-ade3-8ac630efe7a3"
    },
    {
      "cell_type": "code",
      "execution_count": 81,
      "metadata": {},
      "outputs": [],
      "source": [
        "5 in [1, 2, 3, 4] == False"
      ],
      "id": "ae945b54"
    },
    {
      "cell_type": "code",
      "execution_count": 82,
      "metadata": {
        "ExecuteTime": {
          "end_time": "2021-01-15T08:34:31.612963Z",
          "start_time": "2021-01-15T08:34:31.607708Z"
        },
        "slideshow": {
          "slide_type": "-"
        }
      },
      "outputs": [],
      "source": [
        "[1, 2, 3, 4] == False"
      ],
      "id": "30fed492"
    },
    {
      "cell_type": "code",
      "execution_count": 83,
      "metadata": {
        "ExecuteTime": {
          "end_time": "2021-01-15T08:34:31.825068Z",
          "start_time": "2021-01-15T08:34:31.819205Z"
        },
        "slideshow": {
          "slide_type": "-"
        }
      },
      "outputs": [],
      "source": [
        "5 not in [1, 2, 3, 4]"
      ],
      "id": "8c2be6cc"
    },
    {
      "cell_type": "code",
      "execution_count": 84,
      "metadata": {
        "ExecuteTime": {
          "end_time": "2021-01-15T08:34:32.299157Z",
          "start_time": "2021-01-15T08:34:32.293640Z"
        },
        "slideshow": {
          "slide_type": "-"
        }
      },
      "outputs": [],
      "source": [
        "(5 in [1, 2, 3, 4]) == False"
      ],
      "id": "f1fe3aa2"
    },
    {
      "cell_type": "code",
      "execution_count": 85,
      "metadata": {
        "ExecuteTime": {
          "end_time": "2021-01-15T08:34:32.524705Z",
          "start_time": "2021-01-15T08:34:32.518440Z"
        },
        "slideshow": {
          "slide_type": "fragment"
        }
      },
      "outputs": [],
      "source": [
        "# ANSWER.\n",
        "# This is a chained comparison. We have seen that \n",
        "1 < 2 < 3\n",
        "# is equivalent to\n",
        "(1 < 2) and (2 < 3)\n",
        "# so that\n",
        "5 in [1, 2, 3, 4] == False\n",
        "# is equivalent to\n",
        "(5 in [1, 2, 3, 4]) and ([1, 2, 3, 4] == False)"
      ],
      "id": "181f18a0"
    },
    {
      "cell_type": "code",
      "execution_count": 86,
      "metadata": {},
      "outputs": [],
      "source": [
        "(5 in [1, 2, 3, 4])"
      ],
      "id": "1994f6df"
    },
    {
      "cell_type": "code",
      "execution_count": 87,
      "metadata": {},
      "outputs": [],
      "source": [
        "([1, 2, 3, 4] == False)"
      ],
      "id": "6500a5ea"
    },
    {
      "cell_type": "markdown",
      "metadata": {},
      "source": [
        "## Dictionaries\n",
        "\n",
        "-   A dictionary is basically an efficient table that **maps keys to\n",
        "    values**.\n",
        "-   The **MOST** important container in Python.\n",
        "-   Many things are actually a `dict` under the hood in `Python`"
      ],
      "id": "1996eb2d-bfa5-4413-bd1a-c5cd1fc34ac0"
    },
    {
      "cell_type": "code",
      "execution_count": 88,
      "metadata": {
        "ExecuteTime": {
          "end_time": "2021-01-15T08:34:33.375226Z",
          "start_time": "2021-01-15T08:34:33.371037Z"
        },
        "slideshow": {
          "slide_type": "fragment"
        }
      },
      "outputs": [],
      "source": [
        "tel = {'emmanuelle': 5752, 'sebastian': 5578}\n",
        "print(tel)\n",
        "print(type(tel))"
      ],
      "id": "ea447184"
    },
    {
      "cell_type": "code",
      "execution_count": 89,
      "metadata": {
        "ExecuteTime": {
          "end_time": "2021-01-15T08:34:33.572354Z",
          "start_time": "2021-01-15T08:34:33.566227Z"
        },
        "slideshow": {
          "slide_type": "fragment"
        }
      },
      "outputs": [],
      "source": [
        "tel['emmanuelle'], tel['sebastian']"
      ],
      "id": "1b9aeec2"
    },
    {
      "cell_type": "code",
      "execution_count": 90,
      "metadata": {
        "ExecuteTime": {
          "end_time": "2021-01-15T08:34:33.711591Z",
          "start_time": "2021-01-15T08:34:33.705748Z"
        }
      },
      "outputs": [],
      "source": [
        "tel['francis'] = '5919'\n",
        "tel"
      ],
      "id": "792bc3a6"
    },
    {
      "cell_type": "code",
      "execution_count": 91,
      "metadata": {
        "ExecuteTime": {
          "end_time": "2021-01-15T08:34:33.889041Z",
          "start_time": "2021-01-15T08:34:33.883802Z"
        }
      },
      "outputs": [],
      "source": [
        "len(tel)"
      ],
      "id": "bb3270c5"
    },
    {
      "cell_type": "markdown",
      "metadata": {},
      "source": [
        "### Important remarks\n",
        "\n",
        "-   Keys can be of different types\n",
        "-   A key must be of **immutable** type"
      ],
      "id": "edd38480-5ef8-4892-ad2e-13795bb20d7b"
    },
    {
      "cell_type": "code",
      "execution_count": 92,
      "metadata": {
        "ExecuteTime": {
          "end_time": "2021-01-15T08:34:35.180227Z",
          "start_time": "2021-01-15T08:34:35.172919Z"
        }
      },
      "outputs": [],
      "source": [
        "tel[7162453] = [1, 3, 2]\n",
        "tel[3.14] = 'bidule'\n",
        "tel[('jaouad', 2)] = 1234\n",
        "tel"
      ],
      "id": "321446ee"
    },
    {
      "cell_type": "code",
      "execution_count": 93,
      "metadata": {},
      "outputs": [],
      "source": [
        "try:\n",
        "    sorted(tel)\n",
        "except TypeError:\n",
        "    print(\"TypeError: '<' not supported between instances of 'int' and 'str'\")    "
      ],
      "id": "f4e3df9f"
    },
    {
      "cell_type": "code",
      "execution_count": 94,
      "metadata": {
        "ExecuteTime": {
          "end_time": "2021-01-15T08:34:35.781423Z",
          "start_time": "2021-01-15T08:34:35.770370Z"
        }
      },
      "outputs": [],
      "source": [
        "# A list is mutable and not hashable\n",
        "try:\n",
        "    tel[['jaouad']] = '5678'\n",
        "except TypeError:\n",
        "    print(\"TypeError: unhashable type: 'list'\")"
      ],
      "id": "1b0a41db"
    },
    {
      "cell_type": "code",
      "execution_count": 95,
      "metadata": {},
      "outputs": [],
      "source": [
        "try:\n",
        "    tel[2]\n",
        "except KeyError:\n",
        "    print(\"KeyError: 2\")"
      ],
      "id": "216fe476"
    },
    {
      "cell_type": "code",
      "execution_count": 96,
      "metadata": {
        "ExecuteTime": {
          "end_time": "2021-01-15T08:34:35.984417Z",
          "start_time": "2021-01-15T08:34:35.978289Z"
        },
        "slideshow": {
          "slide_type": "subslide"
        }
      },
      "outputs": [],
      "source": [
        "tel = {'emmanuelle': 5752, 'sebastian' : 5578, 'jaouad' : 1234}\n",
        "print(tel.keys())\n",
        "print(tel.values())\n",
        "print(tel.items())"
      ],
      "id": "b1a2cd4a"
    },
    {
      "cell_type": "code",
      "execution_count": 97,
      "metadata": {},
      "outputs": [],
      "source": [
        "list(tel.keys())[2]"
      ],
      "id": "b5a42514"
    },
    {
      "cell_type": "code",
      "execution_count": 98,
      "metadata": {},
      "outputs": [],
      "source": [
        "tel.values().mapping"
      ],
      "id": "41ffdfec"
    },
    {
      "cell_type": "code",
      "execution_count": 99,
      "metadata": {},
      "outputs": [],
      "source": [
        "type(tel.keys())"
      ],
      "id": "a9b7d9a6"
    },
    {
      "cell_type": "code",
      "execution_count": 100,
      "metadata": {
        "ExecuteTime": {
          "end_time": "2021-01-15T08:34:36.135136Z",
          "start_time": "2021-01-15T08:34:36.129801Z"
        },
        "slideshow": {
          "slide_type": "fragment"
        }
      },
      "outputs": [],
      "source": [
        "'rémi' in tel"
      ],
      "id": "6124ba88"
    },
    {
      "cell_type": "code",
      "execution_count": 101,
      "metadata": {
        "ExecuteTime": {
          "end_time": "2021-01-15T08:34:36.649224Z",
          "start_time": "2021-01-15T08:34:36.643788Z"
        }
      },
      "outputs": [],
      "source": [
        "list(tel)"
      ],
      "id": "c140b896"
    },
    {
      "cell_type": "code",
      "execution_count": 102,
      "metadata": {},
      "outputs": [],
      "source": [
        "'rémi' in tel.keys()"
      ],
      "id": "b3f0d378"
    },
    {
      "cell_type": "markdown",
      "metadata": {},
      "source": [
        "You can swap values like this"
      ],
      "id": "5f72bfe0-40a7-4947-966c-dde5c83f8f24"
    },
    {
      "cell_type": "code",
      "execution_count": 103,
      "metadata": {
        "ExecuteTime": {
          "end_time": "2021-01-15T08:34:37.036245Z",
          "start_time": "2021-01-15T08:34:37.032296Z"
        }
      },
      "outputs": [],
      "source": [
        "print(tel)\n",
        "tel['emmanuelle'], tel['sebastian'] = tel['sebastian'], tel['emmanuelle']\n",
        "print(tel)"
      ],
      "id": "c28bd022"
    },
    {
      "cell_type": "code",
      "execution_count": 104,
      "metadata": {
        "ExecuteTime": {
          "end_time": "2021-01-15T08:34:37.755117Z",
          "start_time": "2021-01-15T08:34:37.750155Z"
        }
      },
      "outputs": [],
      "source": [
        "# It works, since\n",
        "a, b = 2.71, 3.14\n",
        "a, b = b, a\n",
        "a, b"
      ],
      "id": "5b1bb032"
    },
    {
      "cell_type": "markdown",
      "metadata": {},
      "source": [
        "### Exercise 1\n",
        "\n",
        "Get keys of `tel` sorted by decreasing order"
      ],
      "id": "512f6fd7-6a9f-4d2b-90e7-b0e08def7255"
    },
    {
      "cell_type": "code",
      "execution_count": 105,
      "metadata": {
        "ExecuteTime": {
          "end_time": "2021-01-15T08:34:38.375787Z",
          "start_time": "2021-01-15T08:34:38.372593Z"
        },
        "slideshow": {
          "slide_type": "-"
        }
      },
      "outputs": [],
      "source": [
        "tel = {'emmanuelle': 5752, 'sebastian' : 5578, 'jaouad' : 1234}"
      ],
      "id": "000b7bf4"
    },
    {
      "cell_type": "markdown",
      "metadata": {},
      "source": [
        "### Exercise 2\n",
        "\n",
        "Get keys of `tel` sorted by increasing *values*"
      ],
      "id": "c8ed19c1-2ebd-4bef-a748-88e4023981fe"
    },
    {
      "cell_type": "code",
      "execution_count": 108,
      "metadata": {
        "ExecuteTime": {
          "end_time": "2021-01-15T08:34:39.295210Z",
          "start_time": "2021-01-15T08:34:39.291759Z"
        }
      },
      "outputs": [],
      "source": [
        "tel = {'emmanuelle': 5752, 'sebastian' : 5578, 'jaouad' : 1234}"
      ],
      "id": "a5431e00"
    },
    {
      "cell_type": "markdown",
      "metadata": {},
      "source": [
        "### Exercise 3\n",
        "\n",
        "Obtain a sorted-by-key version of `tel`"
      ],
      "id": "fb8a5f35-4cda-4692-b732-e553d2f72d13"
    },
    {
      "cell_type": "code",
      "execution_count": 112,
      "metadata": {
        "ExecuteTime": {
          "end_time": "2021-01-15T08:34:40.064213Z",
          "start_time": "2021-01-15T08:34:40.060078Z"
        }
      },
      "outputs": [],
      "source": [
        "tel = {'emmanuelle': 5752, 'sebastian' : 5578, 'jaouad' : 1234}"
      ],
      "id": "6bf1c6e9"
    },
    {
      "cell_type": "markdown",
      "metadata": {},
      "source": [
        "## Sets\n",
        "\n",
        "A set is an unordered container, containing unique elements"
      ],
      "id": "2aca3426-efe3-4de5-a29c-49002f64a409"
    },
    {
      "cell_type": "code",
      "execution_count": 116,
      "metadata": {
        "ExecuteTime": {
          "end_time": "2021-01-15T08:34:43.408375Z",
          "start_time": "2021-01-15T08:34:43.402917Z"
        }
      },
      "outputs": [],
      "source": [
        "ss = {1, 2, 2, 2, 3, 3, 'tintin', 'tintin', 'toto'}\n",
        "ss"
      ],
      "id": "c7111ba1"
    },
    {
      "cell_type": "code",
      "execution_count": 117,
      "metadata": {
        "ExecuteTime": {
          "end_time": "2021-01-15T08:34:43.689264Z",
          "start_time": "2021-01-15T08:34:43.683234Z"
        }
      },
      "outputs": [],
      "source": [
        "s = 'truc truc bidule truc'\n",
        "set(s)"
      ],
      "id": "f1aea175"
    },
    {
      "cell_type": "code",
      "execution_count": 118,
      "metadata": {},
      "outputs": [],
      "source": [
        "set(list(s))"
      ],
      "id": "e8afde1d"
    },
    {
      "cell_type": "code",
      "execution_count": 119,
      "metadata": {
        "ExecuteTime": {
          "end_time": "2021-01-15T08:34:43.900734Z",
          "start_time": "2021-01-15T08:34:43.894591Z"
        },
        "slideshow": {
          "slide_type": "fragment"
        }
      },
      "outputs": [],
      "source": [
        "{1, 5, 2, 1, 1}.union({1, 2, 3})"
      ],
      "id": "f4abde62"
    },
    {
      "cell_type": "code",
      "execution_count": 120,
      "metadata": {},
      "outputs": [],
      "source": [
        "set((1, 5, 3, 2))"
      ],
      "id": "93b018b1"
    },
    {
      "cell_type": "code",
      "execution_count": 121,
      "metadata": {
        "ExecuteTime": {
          "end_time": "2021-01-15T08:34:44.236053Z",
          "start_time": "2021-01-15T08:34:44.230406Z"
        }
      },
      "outputs": [],
      "source": [
        "set([1, 5, 2, 1, 1]).intersection(set([1, 2, 3]))"
      ],
      "id": "8bfaa4ab"
    },
    {
      "cell_type": "code",
      "execution_count": 122,
      "metadata": {
        "ExecuteTime": {
          "end_time": "2021-01-15T08:34:44.521051Z",
          "start_time": "2021-01-15T08:34:44.515051Z"
        }
      },
      "outputs": [],
      "source": [
        "ss.add('tintin')\n",
        "ss"
      ],
      "id": "acb49a59"
    },
    {
      "cell_type": "code",
      "execution_count": 123,
      "metadata": {},
      "outputs": [],
      "source": [
        "ss.difference(range(6))"
      ],
      "id": "b671bdb5"
    },
    {
      "cell_type": "markdown",
      "metadata": {},
      "source": [
        "You can combine all containers together"
      ],
      "id": "6782269e-787e-4e95-9e2f-8854d892818d"
    },
    {
      "cell_type": "code",
      "execution_count": 124,
      "metadata": {
        "ExecuteTime": {
          "end_time": "2021-01-15T08:34:45.317823Z",
          "start_time": "2021-01-15T08:34:45.310957Z"
        }
      },
      "outputs": [],
      "source": [
        "dd = {\n",
        "    'truc': [1, 2, 3], \n",
        "    5: (1, 4, 2),\n",
        "    (1, 3): {'hello', 'world'}\n",
        "}\n",
        "dd"
      ],
      "id": "009cbbf4"
    },
    {
      "cell_type": "markdown",
      "metadata": {},
      "source": [
        "# Assigments in `Python` is name binding\n",
        "\n",
        "## Everything is either mutable or immutable"
      ],
      "id": "97f816f4-87c2-4cb2-8764-84c0c27006cd"
    },
    {
      "cell_type": "code",
      "execution_count": 125,
      "metadata": {
        "ExecuteTime": {
          "end_time": "2021-01-15T08:34:46.250900Z",
          "start_time": "2021-01-15T08:34:46.245797Z"
        },
        "slideshow": {
          "slide_type": "subslide"
        }
      },
      "outputs": [],
      "source": [
        "ss = {1, 2, 3}\n",
        "sss = ss\n",
        "sss, ss"
      ],
      "id": "e4189330"
    },
    {
      "cell_type": "code",
      "execution_count": 126,
      "metadata": {},
      "outputs": [],
      "source": [
        "id(ss), id(sss)"
      ],
      "id": "29482c5d"
    },
    {
      "cell_type": "code",
      "execution_count": 127,
      "metadata": {
        "ExecuteTime": {
          "end_time": "2021-01-15T08:34:46.487601Z",
          "start_time": "2021-01-15T08:34:46.484299Z"
        },
        "slideshow": {
          "slide_type": "-"
        }
      },
      "outputs": [],
      "source": [
        "sss.add(\"Truc\")"
      ],
      "id": "a541f841"
    },
    {
      "cell_type": "markdown",
      "metadata": {},
      "source": [
        "**Question.** What is in `ss` ?"
      ],
      "id": "7f0453d0-d06b-44df-bf2d-90e5aabe2721"
    },
    {
      "cell_type": "code",
      "execution_count": 128,
      "metadata": {
        "ExecuteTime": {
          "end_time": "2021-01-15T08:34:47.555940Z",
          "start_time": "2021-01-15T08:34:47.549993Z"
        },
        "slideshow": {
          "slide_type": "fragment"
        }
      },
      "outputs": [],
      "source": [
        "ss, sss"
      ],
      "id": "ff05128c"
    },
    {
      "cell_type": "markdown",
      "metadata": {},
      "source": [
        "`ss` and `sss` are names for the same object"
      ],
      "id": "432f3744-b912-4d04-8008-b5020feea825"
    },
    {
      "cell_type": "code",
      "execution_count": 129,
      "metadata": {
        "ExecuteTime": {
          "end_time": "2021-01-15T08:34:47.889439Z",
          "start_time": "2021-01-15T08:34:47.883802Z"
        },
        "slideshow": {
          "slide_type": "-"
        }
      },
      "outputs": [],
      "source": [
        "id(ss), id(sss)"
      ],
      "id": "c9fc8d70"
    },
    {
      "cell_type": "code",
      "execution_count": 130,
      "metadata": {
        "ExecuteTime": {
          "end_time": "2021-01-15T08:34:48.385040Z",
          "start_time": "2021-01-15T08:34:48.380259Z"
        },
        "slideshow": {
          "slide_type": "-"
        }
      },
      "outputs": [],
      "source": [
        "ss is sss"
      ],
      "id": "5f3627b0"
    },
    {
      "cell_type": "code",
      "execution_count": 131,
      "metadata": {},
      "outputs": [],
      "source": [
        "help('is')"
      ],
      "id": "f1864197"
    },
    {
      "cell_type": "markdown",
      "metadata": {},
      "source": [
        "## About assigments\n",
        "\n",
        "-   Python never copies an object\n",
        "-   Unless you ask him to\n",
        "\n",
        "When you code\n",
        "\n",
        "``` python\n",
        "x = [1, 2, 3]\n",
        "y = x\n",
        "```\n",
        "\n",
        "you just - **bind** the variable name `x` to a list `[1, 2, 3]` - give\n",
        "another name `y` to the same object\n",
        "\n",
        "**Important remarks**\n",
        "\n",
        "-   **Everything** is an object in Python\n",
        "-   Either **immutable** or **mutable**"
      ],
      "id": "57665223-1710-4176-a5e8-547aaa612a0e"
    },
    {
      "cell_type": "code",
      "execution_count": 132,
      "metadata": {
        "ExecuteTime": {
          "end_time": "2021-01-15T08:34:48.640520Z",
          "start_time": "2021-01-15T08:34:48.635298Z"
        }
      },
      "outputs": [],
      "source": [
        "id(1), id(1+1), id(2)"
      ],
      "id": "3166fe9b"
    },
    {
      "cell_type": "markdown",
      "metadata": {},
      "source": [
        "**A `list` is mutable**"
      ],
      "id": "256d404a-a96d-4eb5-9256-141e16f3ba7b"
    },
    {
      "cell_type": "code",
      "execution_count": 133,
      "metadata": {
        "ExecuteTime": {
          "end_time": "2021-01-15T08:34:48.849673Z",
          "start_time": "2021-01-15T08:34:48.845469Z"
        },
        "slideshow": {
          "slide_type": "-"
        }
      },
      "outputs": [],
      "source": [
        "x = [1, 2, 3]\n",
        "print(id(x), x)\n",
        "x[0] += 42; x.append(3.14)\n",
        "print(id(x), x)"
      ],
      "id": "a5220b15"
    },
    {
      "cell_type": "markdown",
      "metadata": {},
      "source": [
        "**A `str` is immutable**\n",
        "\n",
        "In order to “change” an **immutable** object, Python creates a new one"
      ],
      "id": "d02df334-093b-440c-837f-3f6794b8c4cc"
    },
    {
      "cell_type": "code",
      "execution_count": 134,
      "metadata": {
        "ExecuteTime": {
          "end_time": "2021-01-15T08:34:48.989090Z",
          "start_time": "2021-01-15T08:34:48.984655Z"
        }
      },
      "outputs": [],
      "source": [
        "s = 'to'\n",
        "print(id(s), s)\n",
        "s += 'to'\n",
        "print(id(s), s)"
      ],
      "id": "3f8dc279"
    },
    {
      "cell_type": "markdown",
      "metadata": {},
      "source": [
        "**Once again, a `list` is mutable**"
      ],
      "id": "5e70c15e-b405-4c9d-89b4-20fb9f6b8b24"
    },
    {
      "cell_type": "code",
      "execution_count": 135,
      "metadata": {
        "ExecuteTime": {
          "end_time": "2021-01-15T08:34:49.185045Z",
          "start_time": "2021-01-15T08:34:49.179743Z"
        },
        "slideshow": {
          "slide_type": "-"
        }
      },
      "outputs": [],
      "source": [
        "super_list = [3.14, (1, 2, 3), 'tintin']\n",
        "other_list = super_list\n",
        "id(other_list), id(super_list)"
      ],
      "id": "ec5d5427"
    },
    {
      "cell_type": "markdown",
      "metadata": {},
      "source": [
        "-   `other_list` and `super_list` are the same list\n",
        "-   If you change one, you change the other.\n",
        "-   `id` returns the identity of an object. Two objects with the same\n",
        "    idendity are the same (not only the same type, but the same\n",
        "    instance)"
      ],
      "id": "d3837a70-7586-4fcc-97e9-dd4c7c285849"
    },
    {
      "cell_type": "code",
      "execution_count": 136,
      "metadata": {
        "ExecuteTime": {
          "end_time": "2021-01-15T08:34:49.490066Z",
          "start_time": "2021-01-15T08:34:49.483598Z"
        }
      },
      "outputs": [],
      "source": [
        "other_list[1] = 'youps'\n",
        "other_list, super_list"
      ],
      "id": "4634a406"
    },
    {
      "cell_type": "code",
      "execution_count": 137,
      "metadata": {},
      "outputs": [],
      "source": [
        "id(super_list), id(other_list)"
      ],
      "id": "7c526063"
    },
    {
      "cell_type": "markdown",
      "metadata": {},
      "source": [
        "## If you want a copy, to need to ask for one"
      ],
      "id": "59487509-c299-41f3-b9b0-3e1bb9116756"
    },
    {
      "cell_type": "code",
      "execution_count": 138,
      "metadata": {
        "ExecuteTime": {
          "end_time": "2021-01-15T08:34:49.810775Z",
          "start_time": "2021-01-15T08:34:49.804825Z"
        }
      },
      "outputs": [],
      "source": [
        "other_list = super_list.copy()\n",
        "id(other_list), id(super_list)"
      ],
      "id": "bfae58b7"
    },
    {
      "cell_type": "code",
      "execution_count": 139,
      "metadata": {
        "ExecuteTime": {
          "end_time": "2021-01-15T08:34:50.044319Z",
          "start_time": "2021-01-15T08:34:50.038631Z"
        }
      },
      "outputs": [],
      "source": [
        "other_list[1] = 'copy'\n",
        "other_list, super_list"
      ],
      "id": "892d3db8"
    },
    {
      "cell_type": "markdown",
      "metadata": {},
      "source": [
        "Only `other_list` is modified.\n",
        "\n",
        "But… what if you have a `list` of `list` ? (or a mutable object\n",
        "containing mutable objects)"
      ],
      "id": "9588e936-4341-4764-9799-daa39dc7e031"
    },
    {
      "cell_type": "code",
      "execution_count": 140,
      "metadata": {
        "ExecuteTime": {
          "end_time": "2021-01-15T08:34:50.522523Z",
          "start_time": "2021-01-15T08:34:50.515916Z"
        },
        "slideshow": {
          "slide_type": "fragment"
        }
      },
      "outputs": [],
      "source": [
        "l1, l2 = [1, 2, 3], [4, 5, 6]\n",
        "list_list = [l1, l2]\n",
        "list_list"
      ],
      "id": "714618b3"
    },
    {
      "cell_type": "code",
      "execution_count": 141,
      "metadata": {},
      "outputs": [],
      "source": [
        "id(list_list), id(list_list[0]), id(l1), list_list[0] is l1"
      ],
      "id": "1e799e2d"
    },
    {
      "cell_type": "markdown",
      "metadata": {},
      "source": [
        "Let’s make a copy of `list_list`"
      ],
      "id": "3fa01d45-8a0d-48fd-8aec-f8af878d1937"
    },
    {
      "cell_type": "code",
      "execution_count": 142,
      "metadata": {
        "ExecuteTime": {
          "end_time": "2021-01-15T08:34:50.900506Z",
          "start_time": "2021-01-15T08:34:50.894593Z"
        }
      },
      "outputs": [],
      "source": [
        "copy_list = list_list.copy()\n",
        "copy_list.append('super')\n",
        "list_list, copy_list"
      ],
      "id": "534ebd44"
    },
    {
      "cell_type": "code",
      "execution_count": 143,
      "metadata": {},
      "outputs": [],
      "source": [
        "id(list_list[0]), id(copy_list[0])"
      ],
      "id": "edc2499b"
    },
    {
      "cell_type": "markdown",
      "metadata": {},
      "source": [
        "OK, only `copy_list` is modified, as expected\n",
        "\n",
        "But now…"
      ],
      "id": "00402aa6-454e-4fb7-ac39-fee1071f2dd1"
    },
    {
      "cell_type": "code",
      "execution_count": 144,
      "metadata": {
        "ExecuteTime": {
          "end_time": "2021-01-15T08:34:51.550226Z",
          "start_time": "2021-01-15T08:34:51.545049Z"
        }
      },
      "outputs": [],
      "source": [
        "copy_list[0][1] = 'oups'\n",
        "copy_list, list_list"
      ],
      "id": "93720b8d"
    },
    {
      "cell_type": "markdown",
      "metadata": {},
      "source": [
        "**Question.** What happened ?!?\n",
        "\n",
        "-   The `list_list` object is copied\n",
        "-   But NOT what it’s containing !\n",
        "-   By default `copy` does a *shallow* copy, not a *deep* copy\n",
        "-   It does not build copies of what is contained\n",
        "-   If you want to copy an object and all that is contained in it, you\n",
        "    need to use `deepcopy`."
      ],
      "id": "f32f3aa4-df4b-4cf0-b9c8-446adaa479b8"
    },
    {
      "cell_type": "code",
      "execution_count": 145,
      "metadata": {
        "ExecuteTime": {
          "end_time": "2021-01-15T08:34:52.242785Z",
          "start_time": "2021-01-15T08:34:52.236814Z"
        }
      },
      "outputs": [],
      "source": [
        "from copy import deepcopy\n",
        "\n",
        "copy_list = deepcopy(list_list)\n",
        "copy_list[0][1] = 'incredible !'\n",
        "list_list, copy_list"
      ],
      "id": "3247cefa"
    },
    {
      "cell_type": "markdown",
      "metadata": {},
      "source": [
        "## Final remarks"
      ],
      "id": "ea7f1e97-45db-4309-8cfb-25920132ab09"
    },
    {
      "cell_type": "code",
      "execution_count": 146,
      "metadata": {
        "ExecuteTime": {
          "end_time": "2021-01-15T08:34:52.389405Z",
          "start_time": "2021-01-15T08:34:52.384515Z"
        }
      },
      "outputs": [],
      "source": [
        "tt = ([1, 2, 3], [4, 5, 6])\n",
        "print(id(tt), tt)\n",
        "print(list(map(id, tt)))"
      ],
      "id": "c063439a"
    },
    {
      "cell_type": "code",
      "execution_count": 147,
      "metadata": {
        "ExecuteTime": {
          "end_time": "2021-01-15T08:34:52.490073Z",
          "start_time": "2021-01-15T08:34:52.483857Z"
        }
      },
      "outputs": [],
      "source": [
        "tt[0][1] = '42'\n",
        "print(id(tt), tt)\n",
        "print(list(map(id, tt)))"
      ],
      "id": "41a2e03a"
    },
    {
      "cell_type": "code",
      "execution_count": 148,
      "metadata": {},
      "outputs": [],
      "source": [
        "s = [1, 2, 3]"
      ],
      "id": "01c198b7"
    },
    {
      "cell_type": "code",
      "execution_count": 149,
      "metadata": {},
      "outputs": [],
      "source": [
        "s2 = s"
      ],
      "id": "db083061"
    },
    {
      "cell_type": "code",
      "execution_count": 150,
      "metadata": {},
      "outputs": [],
      "source": [
        "s2 is s"
      ],
      "id": "e7457896"
    },
    {
      "cell_type": "code",
      "execution_count": 151,
      "metadata": {},
      "outputs": [],
      "source": [
        "id(s2), id(s)"
      ],
      "id": "a46d038f"
    },
    {
      "cell_type": "markdown",
      "metadata": {},
      "source": [
        "# Control flow and other stuff…\n",
        "\n",
        "Namely tests, loops, again booleans, etc."
      ],
      "id": "df12436e-514d-4fb9-ae62-9e1835f738b9"
    },
    {
      "cell_type": "code",
      "execution_count": 152,
      "metadata": {
        "ExecuteTime": {
          "end_time": "2021-01-15T08:34:52.822274Z",
          "start_time": "2021-01-15T08:34:52.818018Z"
        },
        "slideshow": {
          "slide_type": "subslide"
        }
      },
      "outputs": [],
      "source": [
        "if 2 ** 2 == 5:\n",
        "    print('Obvious')\n",
        "else:\n",
        "    print('YES')\n",
        "print('toujours')"
      ],
      "id": "bdc16256"
    },
    {
      "cell_type": "markdown",
      "metadata": {},
      "source": [
        "## Blocks are delimited by indentation!"
      ],
      "id": "119871e2-d460-4f94-9d34-6a79e0a34795"
    },
    {
      "cell_type": "code",
      "execution_count": 153,
      "metadata": {
        "ExecuteTime": {
          "end_time": "2021-01-15T08:34:53.244482Z",
          "start_time": "2021-01-15T08:34:53.240054Z"
        }
      },
      "outputs": [],
      "source": [
        "a = 3\n",
        "if a > 0:\n",
        "    if a == 1:\n",
        "        print(1)\n",
        "    elif a == 2:\n",
        "        print(2)\n",
        "elif a == 2:\n",
        "    print(2)\n",
        "elif a == 3:\n",
        "    print(3)\n",
        "else:\n",
        "    print(a)"
      ],
      "id": "0691ec67"
    },
    {
      "cell_type": "markdown",
      "metadata": {},
      "source": [
        "## Anything can be understood as a boolean\n",
        "\n",
        "For example, don’t do this to test if a list is empty"
      ],
      "id": "1714b19d-c37f-42b4-92db-1db6d7ab9bfc"
    },
    {
      "cell_type": "code",
      "execution_count": 154,
      "metadata": {
        "ExecuteTime": {
          "end_time": "2021-01-15T08:34:53.660533Z",
          "start_time": "2021-01-15T08:34:53.655820Z"
        }
      },
      "outputs": [],
      "source": [
        "l2 = ['hello', 'everybody']\n",
        "\n",
        "if len(l2) > 0:\n",
        "    print(l2[0])"
      ],
      "id": "271208a7"
    },
    {
      "cell_type": "markdown",
      "metadata": {},
      "source": [
        "but this"
      ],
      "id": "6a522410-6f3c-4b4b-9212-4a86749e0c76"
    },
    {
      "cell_type": "code",
      "execution_count": 155,
      "metadata": {
        "ExecuteTime": {
          "end_time": "2021-01-15T08:34:54.244191Z",
          "start_time": "2021-01-15T08:34:54.239801Z"
        }
      },
      "outputs": [],
      "source": [
        "if l2:\n",
        "    print(l2[0])"
      ],
      "id": "5159d6e7"
    },
    {
      "cell_type": "markdown",
      "metadata": {},
      "source": [
        "**Some poetry**\n",
        "\n",
        "-   An empty `dict` is `False`\n",
        "-   An empty `string` is `False`\n",
        "-   An empty `list` is `False`\n",
        "-   An empty `tuple` is `False`\n",
        "-   An empty `set` is `False`\n",
        "-   `0` is `False`\n",
        "-   `.0` is `False`\n",
        "-   etc…\n",
        "-   everything else is `True`\n",
        "\n",
        "## While loops"
      ],
      "id": "25577753-fe02-4452-9147-64068007ea29"
    },
    {
      "cell_type": "code",
      "execution_count": 156,
      "metadata": {
        "ExecuteTime": {
          "end_time": "2021-01-15T08:34:55.427330Z",
          "start_time": "2021-01-15T08:34:55.422079Z"
        }
      },
      "outputs": [],
      "source": [
        "a = 10\n",
        "b = 1\n",
        "while b < a:\n",
        "    b = b + 1\n",
        "    print(b)"
      ],
      "id": "4e029c28"
    },
    {
      "cell_type": "markdown",
      "metadata": {},
      "source": [
        "Compute the decimals of Pi using the Wallis formula\n",
        "\n",
        "$$\n",
        "\\pi = 2 \\prod_{i=1}^{100} \\frac{4i^2}{4i^2 - 1}\n",
        "$$"
      ],
      "id": "dc50d352-0aed-4539-9f1f-abcc55cb08d0"
    },
    {
      "cell_type": "code",
      "execution_count": 157,
      "metadata": {
        "ExecuteTime": {
          "end_time": "2021-01-15T08:34:55.901297Z",
          "start_time": "2021-01-15T08:34:55.815952Z"
        }
      },
      "outputs": [],
      "source": [
        "pi = 2\n",
        "eps = 1e-10\n",
        "dif = 2 * eps\n",
        "i = 1\n",
        "while dif > eps:\n",
        "    pi, i, old_pi = pi * 4 * i ** 2 / (4 * i ** 2 - 1), i + 1, pi\n",
        "    dif = pi - old_pi"
      ],
      "id": "8a0e0380"
    },
    {
      "cell_type": "code",
      "execution_count": 158,
      "metadata": {
        "ExecuteTime": {
          "end_time": "2021-01-15T08:34:55.998039Z",
          "start_time": "2021-01-15T08:34:55.993033Z"
        }
      },
      "outputs": [],
      "source": [
        "pi"
      ],
      "id": "9737a41e"
    },
    {
      "cell_type": "code",
      "execution_count": 159,
      "metadata": {
        "ExecuteTime": {
          "end_time": "2021-01-15T08:34:56.672400Z",
          "start_time": "2021-01-15T08:34:56.667181Z"
        }
      },
      "outputs": [],
      "source": [
        "from math import pi\n",
        "\n",
        "pi"
      ],
      "id": "11791aa0"
    },
    {
      "cell_type": "markdown",
      "metadata": {},
      "source": [
        "## `for` loop with `range`\n",
        "\n",
        "-   Iteration with an index, with a list, with many things !\n",
        "-   `range` has the same parameters as with slicing `start:end:stride`,\n",
        "    all parameters being optional"
      ],
      "id": "719ff4fb-30a0-4d45-80b2-5887d8aaca7e"
    },
    {
      "cell_type": "code",
      "execution_count": 160,
      "metadata": {
        "ExecuteTime": {
          "end_time": "2021-01-15T08:34:57.074626Z",
          "start_time": "2021-01-15T08:34:57.068953Z"
        }
      },
      "outputs": [],
      "source": [
        "for i in range(10):\n",
        "    print(i)"
      ],
      "id": "0da2378c"
    },
    {
      "cell_type": "code",
      "execution_count": 161,
      "metadata": {
        "ExecuteTime": {
          "end_time": "2021-01-15T08:34:57.288732Z",
          "start_time": "2021-01-15T08:34:57.283152Z"
        },
        "slideshow": {
          "slide_type": "subslide"
        }
      },
      "outputs": [],
      "source": [
        "for i in range(4):\n",
        "    print(i + 1)\n",
        "print('-')\n",
        "\n",
        "for i in range(1, 5):\n",
        "    print(i)\n",
        "print('-')\n",
        "\n",
        "for i in range(1, 10, 3):\n",
        "    print(i)"
      ],
      "id": "9db2ad8d"
    },
    {
      "cell_type": "markdown",
      "metadata": {},
      "source": [
        "**Something for nerds**. You can use `else` in a `for` loop"
      ],
      "id": "b1ffa618-7afd-47a9-ba09-165d87a33a17"
    },
    {
      "cell_type": "code",
      "execution_count": 162,
      "metadata": {
        "ExecuteTime": {
          "end_time": "2021-01-15T08:35:03.792632Z",
          "start_time": "2021-01-15T08:35:03.788211Z"
        }
      },
      "outputs": [],
      "source": [
        "names = ['stephane', 'mokhtar', 'jaouad', 'simon', 'yiyang']\n",
        "\n",
        "for name in names:\n",
        "    if name.startswith('u'):\n",
        "        print(name)\n",
        "        break\n",
        "else:\n",
        "    print('Not found.')"
      ],
      "id": "79902789"
    },
    {
      "cell_type": "code",
      "execution_count": 163,
      "metadata": {
        "ExecuteTime": {
          "end_time": "2021-01-15T08:35:11.089072Z",
          "start_time": "2021-01-15T08:35:11.084070Z"
        }
      },
      "outputs": [],
      "source": [
        "names = ['stephane', 'mokhtar', 'jaouad', 'ulysse', 'simon', 'yiyang']\n",
        "\n",
        "for name in names:\n",
        "    if name.startswith('u'):\n",
        "        print(name)\n",
        "        break\n",
        "else:\n",
        "    print('Not found.')"
      ],
      "id": "87f809da"
    },
    {
      "cell_type": "markdown",
      "metadata": {},
      "source": [
        "## For loops over iterable objects\n",
        "\n",
        "You can iterate using `for` over any container: `list`, `tuple`, `dict`,\n",
        "`str`, `set` among others…"
      ],
      "id": "ca0e2363-045f-43b8-9916-dd60a89326d8"
    },
    {
      "cell_type": "code",
      "execution_count": 164,
      "metadata": {
        "ExecuteTime": {
          "end_time": "2021-01-15T08:35:14.358404Z",
          "start_time": "2021-01-15T08:35:14.354354Z"
        }
      },
      "outputs": [],
      "source": [
        "colors = ['red', 'blue', 'black', 'white']\n",
        "peoples = ['stephane', 'jaouad', 'mokhtar', 'yiyang', 'rémi']"
      ],
      "id": "650de163"
    },
    {
      "cell_type": "code",
      "execution_count": 165,
      "metadata": {
        "ExecuteTime": {
          "end_time": "2021-01-15T08:35:14.546348Z",
          "start_time": "2021-01-15T08:35:14.541964Z"
        }
      },
      "outputs": [],
      "source": [
        "# This is stupid\n",
        "for i in range(len(colors)):\n",
        "    print(colors[i])\n",
        "    \n",
        "# This is better\n",
        "for color in colors:\n",
        "    print(color)"
      ],
      "id": "d54d4db8"
    },
    {
      "cell_type": "markdown",
      "metadata": {},
      "source": [
        "To iterate over several sequences at the same time, use `zip`"
      ],
      "id": "c66e9775-f4c5-42be-ad3a-dd338eb443f7"
    },
    {
      "cell_type": "code",
      "execution_count": 166,
      "metadata": {
        "ExecuteTime": {
          "end_time": "2021-01-15T08:35:15.578703Z",
          "start_time": "2021-01-15T08:35:15.574575Z"
        }
      },
      "outputs": [],
      "source": [
        "for color, people in zip(colors, peoples):\n",
        "    print(color, people)"
      ],
      "id": "36c4b7fd"
    },
    {
      "cell_type": "code",
      "execution_count": 167,
      "metadata": {
        "ExecuteTime": {
          "end_time": "2021-01-15T08:35:15.787784Z",
          "start_time": "2021-01-15T08:35:15.781691Z"
        },
        "slideshow": {
          "slide_type": "fragment"
        }
      },
      "outputs": [],
      "source": [
        "l = [\"Bonjour\", {'francis': 5214, 'stephane': 5123}, ('truc', 3)]\n",
        "for e in l:\n",
        "    print(e, len(e))"
      ],
      "id": "62420a10"
    },
    {
      "cell_type": "markdown",
      "metadata": {},
      "source": [
        "**Loop over a `str`**"
      ],
      "id": "3fb073dc-b750-43ca-836c-0ba18fa5fc20"
    },
    {
      "cell_type": "code",
      "execution_count": 168,
      "metadata": {
        "ExecuteTime": {
          "end_time": "2021-01-15T08:35:16.284944Z",
          "start_time": "2021-01-15T08:35:16.279583Z"
        }
      },
      "outputs": [],
      "source": [
        "s = 'Bonjour'\n",
        "for c in s:\n",
        "    print(c)"
      ],
      "id": "8a1acfc1"
    },
    {
      "cell_type": "markdown",
      "metadata": {},
      "source": [
        "**Loop over a `dict`**"
      ],
      "id": "930fb02b-ea5d-4e36-8fa8-60faa135a3c5"
    },
    {
      "cell_type": "code",
      "execution_count": 169,
      "metadata": {
        "ExecuteTime": {
          "end_time": "2021-01-15T08:35:24.915816Z",
          "start_time": "2021-01-15T08:35:24.910552Z"
        }
      },
      "outputs": [],
      "source": [
        "dd = {(1, 3): {'hello', 'world'}, 'truc': [1, 2, 3], 5: (1, 4, 2)}\n",
        "\n",
        "# Default is to loop over keys\n",
        "for key in dd:\n",
        "    print(key)"
      ],
      "id": "d98400d0"
    },
    {
      "cell_type": "code",
      "execution_count": 170,
      "metadata": {
        "ExecuteTime": {
          "end_time": "2021-01-15T08:35:25.116664Z",
          "start_time": "2021-01-15T08:35:25.112459Z"
        }
      },
      "outputs": [],
      "source": [
        "# Loop over values\n",
        "for e in dd.values():\n",
        "    print(e)"
      ],
      "id": "d8bb1aae"
    },
    {
      "cell_type": "code",
      "execution_count": 171,
      "metadata": {
        "ExecuteTime": {
          "end_time": "2021-01-15T08:35:25.253625Z",
          "start_time": "2021-01-15T08:35:25.248561Z"
        }
      },
      "outputs": [],
      "source": [
        "# Loop over items (key, value) pairs\n",
        "for key, val in dd.items():\n",
        "    print(key, val)"
      ],
      "id": "e0931d30"
    },
    {
      "cell_type": "code",
      "execution_count": 172,
      "metadata": {},
      "outputs": [],
      "source": [
        "for t in dd.items():\n",
        "    print(t)"
      ],
      "id": "3b93ae7e"
    },
    {
      "cell_type": "markdown",
      "metadata": {},
      "source": [
        "## Comprehensions\n",
        "\n",
        "You can construct a `list`, `dict`, `set` and others using the\n",
        "**comprehension** syntax\n",
        "\n",
        "**`list` comprehension**"
      ],
      "id": "f6858a67-3dfb-40f2-8d4c-6a055b75c790"
    },
    {
      "cell_type": "code",
      "execution_count": 173,
      "metadata": {
        "ExecuteTime": {
          "end_time": "2021-01-15T08:35:27.023136Z",
          "start_time": "2021-01-15T08:35:27.016816Z"
        }
      },
      "outputs": [],
      "source": [
        "print(colors)\n",
        "print(peoples)"
      ],
      "id": "cc5012a3"
    },
    {
      "cell_type": "code",
      "execution_count": 174,
      "metadata": {},
      "outputs": [],
      "source": [
        "l = []\n",
        "for p, c in zip(peoples, colors):\n",
        "    if len(c)<=4 :\n",
        "        l.append(p)\n",
        "print(l)"
      ],
      "id": "b2654e99"
    },
    {
      "cell_type": "code",
      "execution_count": 175,
      "metadata": {},
      "outputs": [],
      "source": [
        "# The list of people with favorite color that has no more than 4 characters\n",
        "\n",
        "[people for color, people in zip(colors, peoples) if len(color) <= 4]"
      ],
      "id": "3206c3ea"
    },
    {
      "cell_type": "markdown",
      "metadata": {},
      "source": [
        "**`dict` comprehension**"
      ],
      "id": "94ca64a4-80c9-4199-8cc6-fc9ea1bed4c3"
    },
    {
      "cell_type": "code",
      "execution_count": 176,
      "metadata": {
        "ExecuteTime": {
          "end_time": "2021-01-15T08:35:29.425720Z",
          "start_time": "2021-01-15T08:35:29.418729Z"
        }
      },
      "outputs": [],
      "source": [
        "{people: color for color, people in zip(colors, peoples) if len(color) <= 4}"
      ],
      "id": "a8256d93"
    },
    {
      "cell_type": "code",
      "execution_count": 177,
      "metadata": {
        "ExecuteTime": {
          "end_time": "2021-01-15T08:35:29.650791Z",
          "start_time": "2021-01-15T08:35:29.645099Z"
        },
        "slideshow": {
          "slide_type": "fragment"
        }
      },
      "outputs": [],
      "source": [
        "# Allows to build a dict from two lists (for keys and values)\n",
        "{key: value for (key, value) in zip(peoples, colors)}"
      ],
      "id": "cc18fa88"
    },
    {
      "cell_type": "code",
      "execution_count": 178,
      "metadata": {
        "ExecuteTime": {
          "end_time": "2021-01-15T08:35:29.733037Z",
          "start_time": "2021-01-15T08:35:29.728275Z"
        }
      },
      "outputs": [],
      "source": [
        "# But it's simpler (so better) to use\n",
        "dict(zip(peoples, colors))"
      ],
      "id": "78b496d1"
    },
    {
      "cell_type": "markdown",
      "metadata": {},
      "source": [
        "Something very convenient is `enumerate`"
      ],
      "id": "77151ed2-46c4-4014-8e6b-e5a0f4a9dad1"
    },
    {
      "cell_type": "code",
      "execution_count": 179,
      "metadata": {
        "ExecuteTime": {
          "end_time": "2021-01-15T08:35:34.108535Z",
          "start_time": "2021-01-15T08:35:34.101660Z"
        }
      },
      "outputs": [],
      "source": [
        "for i, color in enumerate(colors):\n",
        "    print(i, color)"
      ],
      "id": "c7a807c7"
    },
    {
      "cell_type": "code",
      "execution_count": 180,
      "metadata": {
        "ExecuteTime": {
          "end_time": "2021-01-15T08:35:34.308091Z",
          "start_time": "2021-01-15T08:35:34.302386Z"
        }
      },
      "outputs": [],
      "source": [
        "list(enumerate(colors))"
      ],
      "id": "95c66733"
    },
    {
      "cell_type": "code",
      "execution_count": 181,
      "metadata": {},
      "outputs": [],
      "source": [
        "dict(enumerate(s))"
      ],
      "id": "26f482f9"
    },
    {
      "cell_type": "code",
      "execution_count": 182,
      "metadata": {
        "ExecuteTime": {
          "end_time": "2021-01-15T08:35:34.436719Z",
          "start_time": "2021-01-15T08:35:34.432315Z"
        },
        "slideshow": {
          "slide_type": "fragment"
        }
      },
      "outputs": [],
      "source": [
        "print(dict(enumerate(s)))"
      ],
      "id": "dad55f8e"
    },
    {
      "cell_type": "code",
      "execution_count": 183,
      "metadata": {
        "ExecuteTime": {
          "end_time": "2021-01-15T08:35:35.307514Z",
          "start_time": "2021-01-15T08:35:35.302402Z"
        }
      },
      "outputs": [],
      "source": [
        "s = 'Hey everyone'\n",
        "{c: i for i, c in enumerate(s)}"
      ],
      "id": "cd59f27f"
    },
    {
      "cell_type": "markdown",
      "metadata": {},
      "source": [
        "## About functional programming\n",
        "\n",
        "We can use `lambda` to define **anonymous** functions, and use them in\n",
        "the `map` and `reduce` functions"
      ],
      "id": "eb20b26c-93bd-4bfc-bfad-1991a9f1a7f9"
    },
    {
      "cell_type": "code",
      "execution_count": 184,
      "metadata": {
        "ExecuteTime": {
          "end_time": "2021-01-15T08:35:37.077273Z",
          "start_time": "2021-01-15T08:35:37.071704Z"
        }
      },
      "outputs": [],
      "source": [
        "square = lambda x: x ** 2\n",
        "square(2)"
      ],
      "id": "8f014f06"
    },
    {
      "cell_type": "code",
      "execution_count": 185,
      "metadata": {},
      "outputs": [],
      "source": [
        "type(square)"
      ],
      "id": "8cbe389f"
    },
    {
      "cell_type": "code",
      "execution_count": 186,
      "metadata": {},
      "outputs": [],
      "source": [
        "dir(square)"
      ],
      "id": "839c04c5"
    },
    {
      "cell_type": "code",
      "execution_count": 187,
      "metadata": {},
      "outputs": [],
      "source": [
        "s = \"a\""
      ],
      "id": "a34d5c31"
    },
    {
      "cell_type": "code",
      "execution_count": 188,
      "metadata": {},
      "outputs": [],
      "source": [
        "try:\n",
        "    square(\"a\")\n",
        "except TypeError:\n",
        "    print(\"TypeError: unsupported operand type(s) for ** or pow(): 'str' and 'int'\")"
      ],
      "id": "9233a951"
    },
    {
      "cell_type": "code",
      "execution_count": 189,
      "metadata": {
        "ExecuteTime": {
          "end_time": "2021-01-15T08:35:37.269771Z",
          "start_time": "2021-01-15T08:35:37.265389Z"
        }
      },
      "outputs": [],
      "source": [
        "sum2 = lambda a, b: a + b\n",
        "print(sum2('Hello', ' world'))\n",
        "print(sum2(1, 2))"
      ],
      "id": "adcb4936"
    },
    {
      "cell_type": "markdown",
      "metadata": {},
      "source": [
        "Intended for short and one-line function.\n",
        "\n",
        "More complex functions use `def` (see below)\n",
        "\n",
        "## Exercise\n",
        "\n",
        "Print the squares of even numbers between 0 et 15\n",
        "\n",
        "1.  Using a list comprehension as before\n",
        "2.  Using `map`\n",
        "\n",
        "## Brain-teasing\n",
        "\n",
        "What is the output of"
      ],
      "id": "94609104-f2b2-4172-8f65-89183c901192"
    },
    {
      "cell_type": "code",
      "execution_count": 196,
      "metadata": {},
      "outputs": [],
      "source": [
        "reduce(lambda a, b: a + b[0] * b[1], enumerate('abcde'), 'A')"
      ],
      "id": "19b33d6f"
    },
    {
      "cell_type": "markdown",
      "metadata": {},
      "source": [
        "# Generators"
      ],
      "id": "ec3f0388-d9fb-4e0a-becc-db171768cfb7"
    },
    {
      "cell_type": "code",
      "execution_count": 200,
      "metadata": {
        "ExecuteTime": {
          "end_time": "2021-01-15T08:36:00.984160Z",
          "start_time": "2021-01-15T08:36:00.402833Z"
        },
        "slideshow": {
          "slide_type": "subslide"
        }
      },
      "outputs": [],
      "source": [
        "import sys\n",
        "import matplotlib.pyplot as plt\n",
        "%matplotlib inline"
      ],
      "id": "e5a463b7"
    },
    {
      "cell_type": "code",
      "execution_count": 201,
      "metadata": {},
      "outputs": [],
      "source": [
        "plt.figure(figsize=(6, 6))\n",
        "plt.plot([sys.getsizeof(list(range(i))) for i in range(10000)], lw=3)\n",
        "plt.plot([sys.getsizeof(range(i)) for i in range(10000)], lw=3)\n",
        "plt.xlabel('Number of elements (value of i)', fontsize=14)\n",
        "plt.ylabel('Size (in bytes)', fontsize=14)\n",
        "_ = plt.legend(['list(range(i))', 'range(i)'], fontsize=16)"
      ],
      "id": "63bbb8cf"
    },
    {
      "cell_type": "markdown",
      "metadata": {},
      "source": [
        "## Why generators ?\n",
        "\n",
        "The memory used by `range(i)` does not scale linearly with `i`\n",
        "\n",
        "What is happening ?\n",
        "\n",
        "-   `range(n)` does not allocate a list of `n` elements !\n",
        "-   It **generates on the fly** the list of required integers\n",
        "-   We say that such an object behaves like a **generator** in `Python`\n",
        "-   Many things in the `Python` standard library behaves like this\n",
        "\n",
        "**Warning.** Getting the real memory footprint of a `Python` object is\n",
        "difficult. Note that `sizeof` calls the `__sizeof__` method of `r`,\n",
        "which does not give in general the actual memory used by an object. But\n",
        "nevermind here.\n",
        "\n",
        "The following computation has no memory footprint:"
      ],
      "id": "aa6c4237-2f08-4467-bf86-137a2c693c14"
    },
    {
      "cell_type": "code",
      "execution_count": 202,
      "metadata": {
        "ExecuteTime": {
          "end_time": "2021-01-15T08:36:17.535131Z",
          "start_time": "2021-01-15T08:36:16.258179Z"
        },
        "slideshow": {
          "slide_type": "-"
        }
      },
      "outputs": [],
      "source": [
        "sum(range(10**8))"
      ],
      "id": "dd0bffb9"
    },
    {
      "cell_type": "code",
      "execution_count": 203,
      "metadata": {
        "ExecuteTime": {
          "end_time": "2021-01-15T08:36:17.541785Z",
          "start_time": "2021-01-15T08:36:17.537229Z"
        }
      },
      "outputs": [],
      "source": [
        "map(lambda x: x**2, range(10**7))"
      ],
      "id": "42cb487d"
    },
    {
      "cell_type": "markdown",
      "metadata": {},
      "source": [
        "`map` does not return a `list` for the same reason"
      ],
      "id": "e0c5cc6d-a5b9-4cd5-9e05-93f9b640ba39"
    },
    {
      "cell_type": "code",
      "execution_count": 204,
      "metadata": {
        "ExecuteTime": {
          "end_time": "2021-01-15T08:36:17.817857Z",
          "start_time": "2021-01-15T08:36:17.544451Z"
        }
      },
      "outputs": [],
      "source": [
        "sum(map(lambda x: x**2, range(10**6)))"
      ],
      "id": "db1aae9b"
    },
    {
      "cell_type": "markdown",
      "metadata": {},
      "source": [
        "## Generator expression\n",
        "\n",
        "Namely generators defined through comprehensions. Just replace `[]` by\n",
        "`()` in the comprehension.\n",
        "\n",
        "A generator can be iterated on only **once**"
      ],
      "id": "f942af01-c4db-4f58-93d7-49db405b07f2"
    },
    {
      "cell_type": "code",
      "execution_count": 205,
      "metadata": {},
      "outputs": [],
      "source": [
        "range(10)"
      ],
      "id": "28bc76f9"
    },
    {
      "cell_type": "code",
      "execution_count": 206,
      "metadata": {},
      "outputs": [],
      "source": [
        "carres = (i**2 for i in range(10))"
      ],
      "id": "e4b1f39b"
    },
    {
      "cell_type": "code",
      "execution_count": 207,
      "metadata": {},
      "outputs": [],
      "source": [
        "carres"
      ],
      "id": "1272517d"
    },
    {
      "cell_type": "code",
      "execution_count": 208,
      "metadata": {},
      "outputs": [],
      "source": [
        "for c in carres:\n",
        "    print(c)"
      ],
      "id": "c7c7b667"
    },
    {
      "cell_type": "code",
      "execution_count": 209,
      "metadata": {},
      "outputs": [],
      "source": [
        "for i in range(4):\n",
        "    for j in range(3):\n",
        "        print(i, j)"
      ],
      "id": "7f67cf2d"
    },
    {
      "cell_type": "code",
      "execution_count": 210,
      "metadata": {},
      "outputs": [],
      "source": [
        "from itertools import product\n",
        "\n",
        "for t in product(range(4), range(3)):\n",
        "    print(t)"
      ],
      "id": "c6c01dd6"
    },
    {
      "cell_type": "code",
      "execution_count": 211,
      "metadata": {
        "ExecuteTime": {
          "end_time": "2021-01-15T08:36:19.688387Z",
          "start_time": "2021-01-15T08:36:19.683024Z"
        }
      },
      "outputs": [],
      "source": [
        "from itertools import product\n",
        "\n",
        "gene = (i + j for i, j in product(range(3), range(3)))\n",
        "gene"
      ],
      "id": "0c535e73"
    },
    {
      "cell_type": "code",
      "execution_count": 212,
      "metadata": {
        "ExecuteTime": {
          "end_time": "2021-01-15T08:36:19.886398Z",
          "start_time": "2021-01-15T08:36:19.879904Z"
        }
      },
      "outputs": [],
      "source": [
        "print(list(gene))\n",
        "print(list(gene))"
      ],
      "id": "58897f74"
    },
    {
      "cell_type": "markdown",
      "metadata": {},
      "source": [
        "## `yield`\n",
        "\n",
        "Something very powerful"
      ],
      "id": "8580b8a2-63ef-4ab5-a98c-592b0fb6a28e"
    },
    {
      "cell_type": "code",
      "execution_count": 213,
      "metadata": {
        "ExecuteTime": {
          "end_time": "2021-01-15T08:36:21.518680Z",
          "start_time": "2021-01-15T08:36:21.514939Z"
        }
      },
      "outputs": [],
      "source": [
        "def startswith(words, letter):\n",
        "    for word in words:\n",
        "        if word.startswith(letter):\n",
        "            yield word"
      ],
      "id": "86fbe334"
    },
    {
      "cell_type": "code",
      "execution_count": 214,
      "metadata": {
        "ExecuteTime": {
          "end_time": "2021-01-15T08:36:21.681758Z",
          "start_time": "2021-01-15T08:36:21.676154Z"
        }
      },
      "outputs": [],
      "source": [
        "words = [\n",
        "    'Python', \"is\", 'awesome', 'in', 'particular', 'generators', \n",
        "    'are', 'really', 'cool'\n",
        "]"
      ],
      "id": "4b03f5ea"
    },
    {
      "cell_type": "code",
      "execution_count": 215,
      "metadata": {},
      "outputs": [],
      "source": [
        "list(word for word in words if word.startswith(\"a\"))"
      ],
      "id": "6a5093d0"
    },
    {
      "cell_type": "code",
      "execution_count": 216,
      "metadata": {},
      "outputs": [],
      "source": [
        "a = 2"
      ],
      "id": "cf9ae1a6"
    },
    {
      "cell_type": "code",
      "execution_count": 217,
      "metadata": {},
      "outputs": [],
      "source": [
        "float(a)"
      ],
      "id": "4036eeec"
    },
    {
      "cell_type": "markdown",
      "metadata": {},
      "source": [
        "But also with a `for` loop"
      ],
      "id": "5523c833-5810-46ec-adff-5fa3c71bb33a"
    },
    {
      "cell_type": "code",
      "execution_count": 218,
      "metadata": {
        "ExecuteTime": {
          "end_time": "2021-01-15T08:36:25.112354Z",
          "start_time": "2021-01-15T08:36:25.107107Z"
        }
      },
      "outputs": [],
      "source": [
        "for word in startswith(words, letter='a'):\n",
        "    print(word)"
      ],
      "id": "df3ee4f3"
    },
    {
      "cell_type": "code",
      "execution_count": 219,
      "metadata": {},
      "outputs": [],
      "source": [
        "it = startswith(words, letter='a')"
      ],
      "id": "c2f59fd8"
    },
    {
      "cell_type": "code",
      "execution_count": 220,
      "metadata": {},
      "outputs": [],
      "source": [
        "type(it)"
      ],
      "id": "6598228f"
    },
    {
      "cell_type": "code",
      "execution_count": 221,
      "metadata": {},
      "outputs": [],
      "source": [
        "next(it)"
      ],
      "id": "7dc1dfb0"
    },
    {
      "cell_type": "code",
      "execution_count": 222,
      "metadata": {},
      "outputs": [],
      "source": [
        "next(it)"
      ],
      "id": "92054a89"
    },
    {
      "cell_type": "code",
      "execution_count": 223,
      "metadata": {},
      "outputs": [],
      "source": [
        "try:\n",
        "    next(it)\n",
        "except StopIteration:\n",
        "    print(\"StopIteration exception!\")"
      ],
      "id": "25267cfe"
    },
    {
      "cell_type": "markdown",
      "metadata": {},
      "source": [
        "# A glimpse at the `collections` module\n",
        "\n",
        "(This is where the good stuff hides)"
      ],
      "id": "66bf8530-059d-4016-8bb1-8964db8ca410"
    },
    {
      "cell_type": "code",
      "execution_count": 224,
      "metadata": {
        "ExecuteTime": {
          "end_time": "2021-01-15T08:36:26.046700Z",
          "start_time": "2021-01-15T08:36:26.041712Z"
        },
        "slideshow": {
          "slide_type": "subslide"
        }
      },
      "outputs": [],
      "source": [
        "texte = \"\"\"             \n",
        "Bonjour,\n",
        "Python c'est super.\n",
        "Python ca a l'air quand même un peu compliqué.\n",
        "Mais bon, ca a l'air pratique.\n",
        "Peut-être que je pourrais m'en servir pour faire des trucs super.\n",
        "\"\"\"\n",
        "texte"
      ],
      "id": "05ae4680"
    },
    {
      "cell_type": "code",
      "execution_count": 225,
      "metadata": {
        "ExecuteTime": {
          "end_time": "2021-01-15T08:36:28.485696Z",
          "start_time": "2021-01-15T08:36:28.481795Z"
        }
      },
      "outputs": [],
      "source": [
        "print(texte)"
      ],
      "id": "785ccd8b"
    },
    {
      "cell_type": "code",
      "execution_count": 226,
      "metadata": {
        "ExecuteTime": {
          "end_time": "2021-01-15T08:36:28.891498Z",
          "start_time": "2021-01-15T08:36:28.886862Z"
        },
        "slideshow": {
          "slide_type": "subslide"
        }
      },
      "outputs": [],
      "source": [
        "# Some basic text preprocessing \n",
        "new_text = (\n",
        "    texte\n",
        "    .strip()\n",
        "    .replace('\\n', ' ')\n",
        "    .replace(',', ' ')\n",
        "    .replace('.', ' ')\n",
        "    .replace(\"'\", ' ')\n",
        ")\n",
        "\n",
        "print(new_text)\n",
        "print('-' * 8)\n",
        "\n",
        "words = new_text.split()\n",
        "print(words)"
      ],
      "id": "1de3715b"
    },
    {
      "cell_type": "markdown",
      "metadata": {},
      "source": [
        "## Exercise\n",
        "\n",
        "Count the number of occurences of all the words in `words`.\n",
        "\n",
        "Output must be a dictionary containg `word: count`"
      ],
      "id": "0f81e750-e1d7-47be-b7a3-5ebe37f8acbe"
    },
    {
      "cell_type": "code",
      "execution_count": 227,
      "metadata": {
        "ExecuteTime": {
          "end_time": "2021-01-15T08:36:30.579563Z",
          "start_time": "2021-01-15T08:36:30.573645Z"
        }
      },
      "outputs": [],
      "source": [
        "print(words)"
      ],
      "id": "1fba92f1"
    },
    {
      "cell_type": "markdown",
      "metadata": {},
      "source": [
        "## Exercise\n",
        "\n",
        "Compute the number of occurences AND the length of each word in `words`.\n",
        "\n",
        "Output must be a dictionary containing `word: (count, length)`\n",
        "\n",
        "# I/O, reading and writing files\n",
        "\n",
        "Next, put a text file `miserables.txt` in the folder containing this\n",
        "notebook. If it is not there, the next cell downloads it, if is it\n",
        "there, then we do nothing."
      ],
      "id": "37a6f9d9-7594-4577-9faf-13da0e9d3d34"
    },
    {
      "cell_type": "code",
      "execution_count": 238,
      "metadata": {
        "ExecuteTime": {
          "end_time": "2021-01-15T09:18:44.977524Z",
          "start_time": "2021-01-15T09:18:44.691253Z"
        }
      },
      "outputs": [],
      "source": [
        "import requests\n",
        "import os\n",
        "\n",
        "# The path containing your notebook\n",
        "path_data = './'\n",
        "# The name of the file\n",
        "filename = 'miserables.txt'\n",
        "\n",
        "if os.path.exists(os.path.join(path_data, filename)):\n",
        "    print('The file %s already exists.' % os.path.join(path_data, filename))\n",
        "else:\n",
        "    url = 'https://stephanegaiffas.github.io/big_data_course/data/miserables.txt'\n",
        "    r = requests.get(url)\n",
        "    with open(os.path.join(path_data, filename), 'wb') as f:\n",
        "        f.write(r.content)\n",
        "    print('Downloaded file %s.' % os.path.join(path_data, filename))"
      ],
      "id": "ca894e16"
    },
    {
      "cell_type": "code",
      "execution_count": 239,
      "metadata": {},
      "outputs": [],
      "source": [
        "ls -alh"
      ],
      "id": "fb6ab63b"
    },
    {
      "cell_type": "code",
      "execution_count": 240,
      "metadata": {},
      "outputs": [],
      "source": [
        "# !rm -f miserables.txt"
      ],
      "id": "435b0291"
    },
    {
      "cell_type": "code",
      "execution_count": 241,
      "metadata": {},
      "outputs": [],
      "source": [
        "os.path.join(path_data, filename)"
      ],
      "id": "00bf8349"
    },
    {
      "cell_type": "markdown",
      "metadata": {},
      "source": [
        "In `jupyter` and `ipython` you can run terminal command lines using `!`\n",
        "\n",
        "Let’s count number of lines and number of words with the `wc`\n",
        "command-line tool (linux or mac only, don’t ask me how on windows)"
      ],
      "id": "f1d82b14-2e2f-444d-b0da-5bfd5dead7b0"
    },
    {
      "cell_type": "code",
      "execution_count": 242,
      "metadata": {
        "ExecuteTime": {
          "end_time": "2021-01-15T08:39:34.789525Z",
          "start_time": "2021-01-15T08:39:34.498167Z"
        },
        "slideshow": {
          "slide_type": "-"
        }
      },
      "outputs": [],
      "source": [
        "# Lines count\n",
        "!wc -l miserables.txt"
      ],
      "id": "88246b81"
    },
    {
      "cell_type": "code",
      "execution_count": 243,
      "metadata": {
        "ExecuteTime": {
          "end_time": "2021-01-15T08:39:35.525235Z",
          "start_time": "2021-01-15T08:39:35.244691Z"
        }
      },
      "outputs": [],
      "source": [
        "# Word count\n",
        "!wc -w miserables.txt"
      ],
      "id": "d1df2ccb"
    },
    {
      "cell_type": "markdown",
      "metadata": {},
      "source": [
        "## Exercise\n",
        "\n",
        "Count the number of occurences of each word in the text file\n",
        "`miserables.txt`. We use a `open` *context* and the `Counter` from\n",
        "before.\n",
        "\n",
        "## Contexts\n",
        "\n",
        "-   A *context* in Python is something that we use with the `with`\n",
        "    keyword.\n",
        "\n",
        "-   It allows to deal automatically with the opening and the closing of\n",
        "    the file.\n",
        "\n",
        "Note the for loop:\n",
        "\n",
        "``` python\n",
        "for line in f:\n",
        "    ...\n",
        "```\n",
        "\n",
        "You loop directly over the lines of the open file from **within** the\n",
        "`open` context\n",
        "\n",
        "## About `pickle`\n",
        "\n",
        "You can save your computation with `pickle`.\n",
        "\n",
        "-   `pickle` is a way of saving **almost anything** with Python.\n",
        "-   It serializes the object in a binary format, and is usually the\n",
        "    simplest and fastest way to go."
      ],
      "id": "17268e55-2318-4e30-b69b-8b194794142f"
    },
    {
      "cell_type": "code",
      "execution_count": 247,
      "metadata": {
        "ExecuteTime": {
          "end_time": "2021-01-15T08:40:19.146250Z",
          "start_time": "2021-01-15T08:40:19.105800Z"
        }
      },
      "outputs": [],
      "source": [
        "import pickle as pkl\n",
        "\n",
        "# Let's save it\n",
        "with open('miserable_word_counts.pkl', 'wb') as f:\n",
        "    pkl.dump(counter, f)\n",
        "\n",
        "# And read it again\n",
        "with open('miserable_word_counts.pkl', 'rb') as f:\n",
        "    counter = pkl.load(f)"
      ],
      "id": "fe3b5a9f"
    },
    {
      "cell_type": "code",
      "execution_count": 248,
      "metadata": {
        "ExecuteTime": {
          "end_time": "2021-01-15T08:40:20.330093Z",
          "start_time": "2021-01-15T08:40:20.320482Z"
        }
      },
      "outputs": [],
      "source": [
        "counter.most_common(10)"
      ],
      "id": "21698745"
    },
    {
      "cell_type": "markdown",
      "metadata": {},
      "source": [
        "# Defining functions\n",
        "\n",
        "You **must** use function to order and reuse code\n",
        "\n",
        "## Function definition\n",
        "\n",
        "Function blocks must be indented as other control-flow blocks."
      ],
      "id": "6a433a3c-34ec-4815-84d9-108319132cf1"
    },
    {
      "cell_type": "code",
      "execution_count": 249,
      "metadata": {
        "ExecuteTime": {
          "end_time": "2021-01-15T08:40:22.581564Z",
          "start_time": "2021-01-15T08:40:22.574422Z"
        }
      },
      "outputs": [],
      "source": [
        "def test():\n",
        "    return 'in test function'\n",
        "\n",
        "test()"
      ],
      "id": "00b7b72a"
    },
    {
      "cell_type": "markdown",
      "metadata": {},
      "source": [
        "## Return statement\n",
        "\n",
        "Functions can *optionally* return values. By default, functions return\n",
        "`None`.\n",
        "\n",
        "The syntax to define a function:\n",
        "\n",
        "-   the `def` keyword;\n",
        "-   is followed by the function’s **name**, then\n",
        "-   the arguments of the function are given between parentheses followed\n",
        "    by a colon\n",
        "-   the function body;\n",
        "-   and `return object` for optionally returning values."
      ],
      "id": "d4e901e7-dd4e-4cf2-9976-d3925a8d7a06"
    },
    {
      "cell_type": "code",
      "execution_count": 250,
      "metadata": {},
      "outputs": [],
      "source": [
        "None is None"
      ],
      "id": "cd664282"
    },
    {
      "cell_type": "code",
      "execution_count": 251,
      "metadata": {
        "ExecuteTime": {
          "end_time": "2021-01-15T08:40:25.396369Z",
          "start_time": "2021-01-15T08:40:25.389580Z"
        }
      },
      "outputs": [],
      "source": [
        "def f(x):\n",
        "    return x + 10\n",
        "f(20)"
      ],
      "id": "ade2f012"
    },
    {
      "cell_type": "markdown",
      "metadata": {},
      "source": [
        "A function that returns several elements returns a `tuple`"
      ],
      "id": "aa8f9b6c-c899-4334-a4fb-8af12b6e21d1"
    },
    {
      "cell_type": "code",
      "execution_count": 252,
      "metadata": {
        "ExecuteTime": {
          "end_time": "2021-01-15T08:40:25.827300Z",
          "start_time": "2021-01-15T08:40:25.821162Z"
        }
      },
      "outputs": [],
      "source": [
        "def f(x):\n",
        "    return x + 1, x + 4\n",
        "\n",
        "f(5)"
      ],
      "id": "53181aaa"
    },
    {
      "cell_type": "code",
      "execution_count": 253,
      "metadata": {},
      "outputs": [],
      "source": [
        "type(f)"
      ],
      "id": "a850eec5"
    },
    {
      "cell_type": "code",
      "execution_count": 254,
      "metadata": {},
      "outputs": [],
      "source": [
        "f.truc = \"bonjour\""
      ],
      "id": "b85ed05c"
    },
    {
      "cell_type": "code",
      "execution_count": 255,
      "metadata": {
        "ExecuteTime": {
          "end_time": "2021-01-15T08:40:26.056197Z",
          "start_time": "2021-01-15T08:40:26.050039Z"
        }
      },
      "outputs": [],
      "source": [
        "type(f(5))"
      ],
      "id": "1b37fb4b"
    },
    {
      "cell_type": "markdown",
      "metadata": {},
      "source": [
        "## Parameters\n",
        "\n",
        "Mandatory parameters (positional arguments)"
      ],
      "id": "054598de-659a-4e4d-928a-feeeeac12b76"
    },
    {
      "cell_type": "code",
      "execution_count": 256,
      "metadata": {
        "ExecuteTime": {
          "end_time": "2021-01-15T08:40:26.897893Z",
          "start_time": "2021-01-15T08:40:26.891052Z"
        }
      },
      "outputs": [],
      "source": [
        "def double_it(x):\n",
        "    return x * 2\n",
        "\n",
        "double_it(2)"
      ],
      "id": "a9dab78a"
    },
    {
      "cell_type": "code",
      "execution_count": 257,
      "metadata": {
        "ExecuteTime": {
          "end_time": "2021-01-15T08:40:27.154900Z",
          "start_time": "2021-01-15T08:40:27.127912Z"
        }
      },
      "outputs": [],
      "source": [
        "try:\n",
        "    double_it()\n",
        "except TypeError:\n",
        "    print(\"TypeError: double_it() missing 1 required positional argument: 'x'\")"
      ],
      "id": "75f06c99"
    },
    {
      "cell_type": "markdown",
      "metadata": {},
      "source": [
        "Optimal parameters"
      ],
      "id": "aa9e00ac-8e01-4bb0-9c58-9f83c6b2da32"
    },
    {
      "cell_type": "code",
      "execution_count": 258,
      "metadata": {
        "ExecuteTime": {
          "end_time": "2021-01-15T08:40:28.071546Z",
          "start_time": "2021-01-15T08:40:28.065551Z"
        },
        "slideshow": {
          "slide_type": "-"
        }
      },
      "outputs": [],
      "source": [
        "def double_it(x=2):\n",
        "    return x * 2\n",
        "\n",
        "double_it()"
      ],
      "id": "ed6aa689"
    },
    {
      "cell_type": "code",
      "execution_count": 259,
      "metadata": {
        "ExecuteTime": {
          "end_time": "2021-01-15T08:40:30.162845Z",
          "start_time": "2021-01-15T08:40:30.155840Z"
        }
      },
      "outputs": [],
      "source": [
        "double_it(3)"
      ],
      "id": "9439d8ea"
    },
    {
      "cell_type": "code",
      "execution_count": 260,
      "metadata": {
        "ExecuteTime": {
          "end_time": "2021-01-15T08:40:30.451386Z",
          "start_time": "2021-01-15T08:40:30.446933Z"
        },
        "slideshow": {
          "slide_type": "subslide"
        }
      },
      "outputs": [],
      "source": [
        "def f(x, y=2, z=10):\n",
        "    print(x, '+', y, '+', z, '=', x + y + z)"
      ],
      "id": "ad414707"
    },
    {
      "cell_type": "code",
      "execution_count": 261,
      "metadata": {
        "ExecuteTime": {
          "end_time": "2021-01-15T08:40:30.696765Z",
          "start_time": "2021-01-15T08:40:30.691179Z"
        }
      },
      "outputs": [],
      "source": [
        "f(5)"
      ],
      "id": "11926a17"
    },
    {
      "cell_type": "code",
      "execution_count": 262,
      "metadata": {
        "ExecuteTime": {
          "end_time": "2021-01-15T08:40:31.857293Z",
          "start_time": "2021-01-15T08:40:31.851956Z"
        }
      },
      "outputs": [],
      "source": [
        "f(5, -2)"
      ],
      "id": "fb6bd6bc"
    },
    {
      "cell_type": "code",
      "execution_count": 263,
      "metadata": {
        "ExecuteTime": {
          "end_time": "2021-01-15T08:40:32.095421Z",
          "start_time": "2021-01-15T08:40:32.089684Z"
        }
      },
      "outputs": [],
      "source": [
        "f(5, -2, 8)"
      ],
      "id": "fc4af6ec"
    },
    {
      "cell_type": "code",
      "execution_count": 264,
      "metadata": {
        "ExecuteTime": {
          "end_time": "2021-01-15T08:40:32.310466Z",
          "start_time": "2021-01-15T08:40:32.304981Z"
        }
      },
      "outputs": [],
      "source": [
        "f(z=5, x=-2, y=8)"
      ],
      "id": "8fc8967f"
    },
    {
      "cell_type": "markdown",
      "metadata": {},
      "source": [
        "## Argument unpacking and keyword argument unpacking\n",
        "\n",
        "You can do stuff like this, using unpacking `*` notation"
      ],
      "id": "80e04ed3-fb23-4967-babe-e723c4b9df26"
    },
    {
      "cell_type": "code",
      "execution_count": 265,
      "metadata": {
        "ExecuteTime": {
          "end_time": "2021-01-15T08:40:32.767851Z",
          "start_time": "2021-01-15T08:40:32.762760Z"
        }
      },
      "outputs": [],
      "source": [
        "a, *b, c = 1, 2, 3, 4, 5\n",
        "a, b, c"
      ],
      "id": "0433366b"
    },
    {
      "cell_type": "markdown",
      "metadata": {},
      "source": [
        "Back to function `f` you can unpack a `tuple` as positional arguments"
      ],
      "id": "f6959f1d-ffe0-4034-94e1-c472fd4b00c6"
    },
    {
      "cell_type": "code",
      "execution_count": 266,
      "metadata": {
        "ExecuteTime": {
          "end_time": "2021-01-15T08:40:33.123879Z",
          "start_time": "2021-01-15T08:40:33.117094Z"
        },
        "slideshow": {
          "slide_type": "-"
        }
      },
      "outputs": [],
      "source": [
        "tt = (1, 2, 3)\n",
        "f(*tt)"
      ],
      "id": "a11eece4"
    },
    {
      "cell_type": "code",
      "execution_count": 267,
      "metadata": {
        "ExecuteTime": {
          "end_time": "2021-01-15T08:40:33.344119Z",
          "start_time": "2021-01-15T08:40:33.339429Z"
        }
      },
      "outputs": [],
      "source": [
        "dd = {'y': 10, 'z': -5}"
      ],
      "id": "c71ad051"
    },
    {
      "cell_type": "code",
      "execution_count": 268,
      "metadata": {
        "ExecuteTime": {
          "end_time": "2021-01-15T08:40:33.503933Z",
          "start_time": "2021-01-15T08:40:33.497965Z"
        }
      },
      "outputs": [],
      "source": [
        "f(3, **dd)"
      ],
      "id": "e025b006"
    },
    {
      "cell_type": "code",
      "execution_count": 269,
      "metadata": {
        "ExecuteTime": {
          "end_time": "2021-01-15T08:40:33.713710Z",
          "start_time": "2021-01-15T08:40:33.708290Z"
        },
        "slideshow": {
          "slide_type": "subslide"
        }
      },
      "outputs": [],
      "source": [
        "def g(x, z, y, t=1, u=2):\n",
        "    print(x, '+', y, '+', z, '+', t, '+', \n",
        "          u, '=', x + y + z + t + u)"
      ],
      "id": "e338c303"
    },
    {
      "cell_type": "code",
      "execution_count": 270,
      "metadata": {
        "ExecuteTime": {
          "end_time": "2021-01-15T08:40:33.853331Z",
          "start_time": "2021-01-15T08:40:33.847946Z"
        }
      },
      "outputs": [],
      "source": [
        "tt = (1, -4, 2)\n",
        "dd = {'t': 10, 'u': -5}\n",
        "g(*tt, **dd)"
      ],
      "id": "4ada1759"
    },
    {
      "cell_type": "markdown",
      "metadata": {},
      "source": [
        "## The prototype of all functions in `Python`"
      ],
      "id": "0e9f7ded-b66a-4485-8fd4-c87fc6d1d682"
    },
    {
      "cell_type": "code",
      "execution_count": 271,
      "metadata": {
        "ExecuteTime": {
          "end_time": "2021-01-15T08:40:34.122929Z",
          "start_time": "2021-01-15T08:40:34.118269Z"
        },
        "slideshow": {
          "slide_type": "-"
        }
      },
      "outputs": [],
      "source": [
        "def f(*args, **kwargs):\n",
        "    print('args=', args)\n",
        "    print('kwargs=', kwargs)\n",
        "\n",
        "f(1, 2, 'truc', lastname='gaiffas', firstname='stephane')"
      ],
      "id": "00fd0a29"
    },
    {
      "cell_type": "markdown",
      "metadata": {},
      "source": [
        "-   Uses `*` for **argument unpacking** and `**` for **keyword argument\n",
        "    unpacking**\n",
        "-   The names `args` and `kwargs` are a convention, not mandatory\n",
        "-   (but you are fired if you name these arguments otherwise)"
      ],
      "id": "3d4d2ab6-9de5-4321-b22e-3256e9f6d4cf"
    },
    {
      "cell_type": "code",
      "execution_count": 272,
      "metadata": {
        "ExecuteTime": {
          "end_time": "2021-01-15T08:40:34.735447Z",
          "start_time": "2021-01-15T08:40:34.728777Z"
        },
        "slideshow": {
          "slide_type": "fragment"
        }
      },
      "outputs": [],
      "source": [
        "# How to get fired\n",
        "def f(*aaa, **bbb):\n",
        "    print('args=', aaa)\n",
        "    print('kwargs=', bbb)\n",
        "f(1, 2, 'truc', lastname='gaiffas', firstname='stephane')    "
      ],
      "id": "54fb8c85"
    },
    {
      "cell_type": "markdown",
      "metadata": {},
      "source": [
        "**Remark**. A function is a regular an object… you can add attributes on\n",
        "it !"
      ],
      "id": "29ef931b-7af0-49e4-843a-e601356edf20"
    },
    {
      "cell_type": "code",
      "execution_count": 273,
      "metadata": {
        "ExecuteTime": {
          "end_time": "2021-01-15T08:40:34.887176Z",
          "start_time": "2021-01-15T08:40:34.884378Z"
        }
      },
      "outputs": [],
      "source": [
        "f.truc = 4"
      ],
      "id": "627131e6"
    },
    {
      "cell_type": "code",
      "execution_count": 274,
      "metadata": {
        "ExecuteTime": {
          "end_time": "2021-01-15T08:40:34.968083Z",
          "start_time": "2021-01-15T08:40:34.963229Z"
        }
      },
      "outputs": [],
      "source": [
        "f(1, 3)"
      ],
      "id": "3fe1f01f"
    },
    {
      "cell_type": "code",
      "execution_count": 275,
      "metadata": {
        "ExecuteTime": {
          "end_time": "2021-01-15T08:40:35.082074Z",
          "start_time": "2021-01-15T08:40:35.076581Z"
        }
      },
      "outputs": [],
      "source": [
        "f(3, -2, y='truc')"
      ],
      "id": "9838bf93"
    },
    {
      "cell_type": "markdown",
      "metadata": {},
      "source": [
        "# Object-oriented programming (OOP)\n",
        "\n",
        "Python supports object-oriented programming (OOP). The goals of OOP are:\n",
        "\n",
        "-   to organize the code, and\n",
        "-   to re-use code in similar contexts.\n",
        "\n",
        "Here is a small example: we create a `Student` class, which is an object\n",
        "gathering several custom functions (called *methods*) and variables\n",
        "(called *attributes*)."
      ],
      "id": "9b61f9a7-5b23-4c71-828b-cb446d5f31ea"
    },
    {
      "cell_type": "code",
      "execution_count": 276,
      "metadata": {
        "ExecuteTime": {
          "end_time": "2021-01-15T08:40:35.228158Z",
          "start_time": "2021-01-15T08:40:35.221388Z"
        },
        "slideshow": {
          "slide_type": "subslide"
        }
      },
      "outputs": [],
      "source": [
        "class Student(object):\n",
        "\n",
        "    def __init__(self, name, birthyear, major='computer science'):\n",
        "        self.name = name\n",
        "        self.birthyear = birthyear\n",
        "        self.major = major\n",
        "\n",
        "    def __repr__(self):\n",
        "        return \"Student(name='{name}', birthyear={birthyear}, major='{major}')\"\\\n",
        "                .format(name=self.name, birthyear=self.birthyear, major=self.major)\n",
        "\n",
        "anna = Student('anna', 1987)\n",
        "anna"
      ],
      "id": "5c9f0439"
    },
    {
      "cell_type": "markdown",
      "metadata": {},
      "source": [
        "The `__repr__` is what we call a ‘magic method’ in Python, that allows\n",
        "to display an object as a string easily. There is a very large number of\n",
        "such magic methods. There are used to implement **interfaces**\n",
        "\n",
        "## Exercise\n",
        "\n",
        "Add a `age` method to the Student class that computes the age of the\n",
        "student. - You can (and should) use the `datetime` module. - Since we\n",
        "only know about the birth year, let’s assume that the day of the birth\n",
        "is January, 1st.\n",
        "\n",
        "## Properties\n",
        "\n",
        "We can make methods look like attributes using **properties**, as shown\n",
        "below"
      ],
      "id": "b273f394-5335-45eb-b27d-6a42faed97ca"
    },
    {
      "cell_type": "code",
      "execution_count": 278,
      "metadata": {
        "ExecuteTime": {
          "end_time": "2021-01-15T08:40:41.454538Z",
          "start_time": "2021-01-15T08:40:41.447007Z"
        }
      },
      "outputs": [],
      "source": [
        "class Student(object):\n",
        "\n",
        "    def __init__(self, name, birthyear, major='computer science'):\n",
        "        self.name = name\n",
        "        self.birthyear = birthyear\n",
        "        self.major = major\n",
        "\n",
        "    def __repr__(self):\n",
        "        return \"Student(name='{name}', birthyear={birthyear}, major='{major}')\"\\\n",
        "                .format(name=self.name, birthyear=self.birthyear, major=self.major)\n",
        "\n",
        "    @property\n",
        "    def age(self):\n",
        "        return datetime.now().year - self.birthyear\n",
        "        \n",
        "anna = Student('anna', 1987)\n",
        "anna.age"
      ],
      "id": "5653c600"
    },
    {
      "cell_type": "markdown",
      "metadata": {},
      "source": [
        "## Inheritance\n",
        "\n",
        "A `MasterStudent` is a `Student` with a new extra mandatory `internship`\n",
        "attribute"
      ],
      "id": "8b6cced3-7516-463a-979a-2440db0a9556"
    },
    {
      "cell_type": "code",
      "execution_count": 279,
      "metadata": {},
      "outputs": [],
      "source": [
        "\"%d\" % 2"
      ],
      "id": "fc9b657d"
    },
    {
      "cell_type": "code",
      "execution_count": 280,
      "metadata": {},
      "outputs": [],
      "source": [
        "x = 2\n",
        "\n",
        "f\"truc {x}\""
      ],
      "id": "dda86659"
    },
    {
      "cell_type": "code",
      "execution_count": 281,
      "metadata": {},
      "outputs": [],
      "source": [
        "class MasterStudent(Student):\n",
        "    \n",
        "    def __init__(self, name, age, internship, major='computer science'):\n",
        "        # Student.__init__(self, name, age, major)\n",
        "        Student.__init__(self, name, age, major)\n",
        "        self.internship = internship\n",
        "\n",
        "    def __repr__(self):\n",
        "        return f\"MasterStudent(name='{self.name}', internship={self.internship}, birthyear={self.birthyear}, major={self.major})\"\n",
        "    \n",
        "MasterStudent('djalil', 22, 'pwc')"
      ],
      "id": "76b090de"
    },
    {
      "cell_type": "code",
      "execution_count": 282,
      "metadata": {
        "ExecuteTime": {
          "end_time": "2021-01-15T08:40:44.047633Z",
          "start_time": "2021-01-15T08:40:44.039779Z"
        }
      },
      "outputs": [],
      "source": [
        "class MasterStudent(Student):\n",
        "    \n",
        "    def __init__(self, name, age, internship, major='computer science'):\n",
        "        # Student.__init__(self, name, age, major)\n",
        "        Student.__init__(self, name, age, major)\n",
        "        self.internship = internship\n",
        "\n",
        "    def __repr__(self):\n",
        "        return \"MasterStudent(name='{name}', internship='{internship}'\" \\\n",
        "               \", birthyear={birthyear}, major='{major}')\"\\\n",
        "                .format(name=self.name, internship=self.internship,\n",
        "                        birthyear=self.birthyear, major=self.major)\n",
        "    \n",
        "djalil = MasterStudent('djalil', 1996, 'pwc')"
      ],
      "id": "7d22057d"
    },
    {
      "cell_type": "code",
      "execution_count": 283,
      "metadata": {},
      "outputs": [],
      "source": [
        "djalil.__dict__"
      ],
      "id": "8da530c5"
    },
    {
      "cell_type": "code",
      "execution_count": 284,
      "metadata": {},
      "outputs": [],
      "source": [
        "djalil.birthyear"
      ],
      "id": "390c14b6"
    },
    {
      "cell_type": "code",
      "execution_count": 285,
      "metadata": {},
      "outputs": [],
      "source": [
        "djalil.__dict__[\"birthyear\"]"
      ],
      "id": "807e30e2"
    },
    {
      "cell_type": "markdown",
      "metadata": {},
      "source": [
        "## Monkey patching\n",
        "\n",
        "-   Classes in `Python` are `objects` and actually `dict`s under the\n",
        "    hood…\n",
        "-   Therefore classes are objects that can be changed on the fly"
      ],
      "id": "da17e65a-bb45-4ab2-8ec6-a33823957c1b"
    },
    {
      "cell_type": "code",
      "execution_count": 286,
      "metadata": {
        "ExecuteTime": {
          "end_time": "2021-01-15T08:40:44.745686Z",
          "start_time": "2021-01-15T08:40:44.739499Z"
        }
      },
      "outputs": [],
      "source": [
        "class Monkey(object):\n",
        "    \n",
        "    def __init__(self, name):\n",
        "        self.name = name\n",
        "\n",
        "    def describe(self):\n",
        "        print(\"Old monkey %s\" % self.name)\n",
        "\n",
        "def patch(self):\n",
        "    print(\"New monkey %s\" % self.name)\n",
        "\n",
        "monkey = Monkey(\"Baloo\")\n",
        "monkey.describe()\n",
        "\n",
        "Monkey.describe = patch\n",
        "monkey.describe()"
      ],
      "id": "ae7772f6"
    },
    {
      "cell_type": "code",
      "execution_count": 287,
      "metadata": {},
      "outputs": [],
      "source": [
        "monkeys = [Monkey(\"Baloo\"), Monkey(\"Super singe\")]\n",
        "\n",
        "\n",
        "monkey_name = monkey.name\n",
        "\n",
        "for i in range(1000):    \n",
        "    monkey_name"
      ],
      "id": "4c22d985"
    },
    {
      "cell_type": "markdown",
      "metadata": {},
      "source": [
        "## Data classes\n",
        "\n",
        "Since `Python 3.7` you can use a dataclass for this\n",
        "\n",
        "Does a lot of work for you (produces the `__repr__` among many other\n",
        "things for you)"
      ],
      "id": "5322c001-a960-45d8-bd17-abf765657989"
    },
    {
      "cell_type": "code",
      "execution_count": 288,
      "metadata": {
        "ExecuteTime": {
          "end_time": "2021-01-15T08:40:46.810275Z",
          "start_time": "2021-01-15T08:40:46.796524Z"
        }
      },
      "outputs": [],
      "source": [
        "from dataclasses import dataclass\n",
        "from datetime import datetime \n",
        "\n",
        "@dataclass\n",
        "class Student(object):\n",
        "    name: str\n",
        "    birthyear: int\n",
        "    major: str = 'computer science'\n",
        "\n",
        "    @property\n",
        "    def age(self):\n",
        "        return datetime.now().year - self.birthyear\n",
        "        \n",
        "anna = Student(name=\"anna\", birthyear=1987)\n",
        "anna"
      ],
      "id": "4225929a"
    },
    {
      "cell_type": "code",
      "execution_count": 289,
      "metadata": {
        "ExecuteTime": {
          "end_time": "2021-01-15T08:40:47.251530Z",
          "start_time": "2021-01-15T08:40:47.246324Z"
        }
      },
      "outputs": [],
      "source": [
        "print(anna.age)"
      ],
      "id": "a0c00491"
    },
    {
      "cell_type": "markdown",
      "metadata": {},
      "source": [
        "# Most common mistakes\n",
        "\n",
        "-   Let us wrap this up with the most common mistakes with `Python`\n",
        "\n",
        "First, best way to learn and practice:\n",
        "\n",
        "-   Start with the official tutorial\n",
        "    https://docs.python.org/fr/3/tutorial/index.html\n",
        "\n",
        "-   Look at\n",
        "    https://python-3-for-scientists.readthedocs.io/en/latest/index.html\n",
        "\n",
        "-   Continue with the documentation at\n",
        "    https://docs.python.org/fr/3/index.html and work!\n",
        "\n",
        "## Using a mutable value as a default value"
      ],
      "id": "28c2b19f-dee4-49ba-8cf0-08049f7f2276"
    },
    {
      "cell_type": "code",
      "execution_count": 290,
      "metadata": {
        "ExecuteTime": {
          "end_time": "2021-01-15T08:40:51.446805Z",
          "start_time": "2021-01-15T08:40:51.441178Z"
        }
      },
      "outputs": [],
      "source": [
        "def foo(bar=[]):\n",
        "    bar.append('oops')\n",
        "    return bar\n",
        "\n",
        "print(foo())\n",
        "print(foo())\n",
        "print(foo())\n",
        "\n",
        "print('-' * 8)\n",
        "print(foo(['Ah ah']))\n",
        "print(foo([]))"
      ],
      "id": "b085d0ff"
    },
    {
      "cell_type": "code",
      "execution_count": 291,
      "metadata": {},
      "outputs": [],
      "source": [
        "print(foo.__defaults__)\n",
        "foo()\n",
        "print(foo.__defaults__)"
      ],
      "id": "1109e862"
    },
    {
      "cell_type": "markdown",
      "metadata": {},
      "source": [
        "-   The default value for a function argument is evaluated once, when\n",
        "    the function is defined\n",
        "-   `the` bar argument is initialized to its default (i.e., an empty\n",
        "    list) only when foo() is first defined\n",
        "-   successive calls to `foo()` (with no a `bar` argument specified) use\n",
        "    the same list!\n",
        "\n",
        "One should use instead"
      ],
      "id": "e4b64b48-4e58-4d64-9e27-9dafdfe2d1db"
    },
    {
      "cell_type": "code",
      "execution_count": 292,
      "metadata": {
        "ExecuteTime": {
          "end_time": "2021-01-15T08:40:52.916162Z",
          "start_time": "2021-01-15T08:40:52.908617Z"
        },
        "slideshow": {
          "slide_type": "-"
        }
      },
      "outputs": [],
      "source": [
        "def foo(bar=None):\n",
        "    if bar is None:\n",
        "        bar = []\n",
        "    bar.append('oops')\n",
        "    return bar\n",
        "\n",
        "print(foo())\n",
        "print(foo())\n",
        "print(foo())\n",
        "print(foo(['OK']))"
      ],
      "id": "665c66d1"
    },
    {
      "cell_type": "code",
      "execution_count": 293,
      "metadata": {},
      "outputs": [],
      "source": [
        "print(foo.__defaults__)\n",
        "foo()\n",
        "print(foo.__defaults__)"
      ],
      "id": "a268df77"
    },
    {
      "cell_type": "markdown",
      "metadata": {},
      "source": [
        "No problem with immutable types"
      ],
      "id": "86bec381-4f66-4db4-ba48-cb4371ff715d"
    },
    {
      "cell_type": "code",
      "execution_count": 294,
      "metadata": {
        "ExecuteTime": {
          "end_time": "2021-01-15T08:40:53.337268Z",
          "start_time": "2021-01-15T08:40:53.330411Z"
        }
      },
      "outputs": [],
      "source": [
        "def foo(bar=()):\n",
        "    bar += ('oops',)\n",
        "    return bar\n",
        "\n",
        "print(foo())\n",
        "print(foo())\n",
        "print(foo())"
      ],
      "id": "bfef4cc0"
    },
    {
      "cell_type": "code",
      "execution_count": 295,
      "metadata": {},
      "outputs": [],
      "source": [
        "print(foo.__defaults__)"
      ],
      "id": "01895a92"
    },
    {
      "cell_type": "markdown",
      "metadata": {},
      "source": [
        "## Class attributes VS object attributes"
      ],
      "id": "b1b5ebe4-471a-4442-991c-5f466ae51229"
    },
    {
      "cell_type": "code",
      "execution_count": 296,
      "metadata": {
        "ExecuteTime": {
          "end_time": "2021-01-15T08:40:53.948439Z",
          "start_time": "2021-01-15T08:40:53.942319Z"
        }
      },
      "outputs": [],
      "source": [
        "class A(object):\n",
        "    x = 1\n",
        "\n",
        "    def __init__(self):\n",
        "        self.y = 2\n",
        "\n",
        "class B(A):\n",
        "    def __init__(self):\n",
        "        super().__init__()\n",
        "\n",
        "class C(A):\n",
        "    def __init__(self):\n",
        "        super().__init__()\n",
        "\n",
        "a, b, c = A(), B(), C()"
      ],
      "id": "3565295b"
    },
    {
      "cell_type": "code",
      "execution_count": 297,
      "metadata": {
        "ExecuteTime": {
          "end_time": "2021-01-15T08:40:54.135498Z",
          "start_time": "2021-01-15T08:40:54.131029Z"
        }
      },
      "outputs": [],
      "source": [
        "print(a.x, b.x, c.x)\n",
        "print(a.y, b.y, c.y)"
      ],
      "id": "851c3624"
    },
    {
      "cell_type": "code",
      "execution_count": 298,
      "metadata": {
        "ExecuteTime": {
          "end_time": "2021-01-15T08:40:54.858324Z",
          "start_time": "2021-01-15T08:40:54.853424Z"
        },
        "slideshow": {
          "slide_type": "subslide"
        }
      },
      "outputs": [],
      "source": [
        "a.y = 3\n",
        "print(a.y, b.y, c.y)"
      ],
      "id": "bda970a1"
    },
    {
      "cell_type": "code",
      "execution_count": 299,
      "metadata": {
        "ExecuteTime": {
          "end_time": "2021-01-15T08:40:55.058452Z",
          "start_time": "2021-01-15T08:40:55.050679Z"
        }
      },
      "outputs": [],
      "source": [
        "a.x = 3  # Adds a new attribute named x in object a\n",
        "print(a.x, b.x, c.x)"
      ],
      "id": "84b0170d"
    },
    {
      "cell_type": "code",
      "execution_count": 300,
      "metadata": {
        "ExecuteTime": {
          "end_time": "2021-01-15T08:40:55.812247Z",
          "start_time": "2021-01-15T08:40:55.805966Z"
        }
      },
      "outputs": [],
      "source": [
        "A.x = 4 # Changes the class attribute x of class A\n",
        "print(a.x, b.x, c.x)"
      ],
      "id": "29e0dad2"
    },
    {
      "cell_type": "markdown",
      "metadata": {},
      "source": [
        "-   Attribute `x` is not an **attribute** of `b` nor `c`\n",
        "-   It is also not a **class attribute** of classes `B` and `C`\n",
        "-   So, it is is looked up in the base class `A`, which contains a\n",
        "    **class attribute** `x`\n",
        "\n",
        "Classes and objects contain a hidden `dict` to store their attributes,\n",
        "and are accessed following a method resolution order (MRO)"
      ],
      "id": "a09dc508-0d18-434b-9ddb-23714e5f580a"
    },
    {
      "cell_type": "code",
      "execution_count": 301,
      "metadata": {
        "ExecuteTime": {
          "end_time": "2021-01-15T08:40:56.589556Z",
          "start_time": "2021-01-15T08:40:56.583455Z"
        },
        "slideshow": {
          "slide_type": "-"
        }
      },
      "outputs": [],
      "source": [
        "a.__dict__, b.__dict__, c.__dict__"
      ],
      "id": "cc943bf3"
    },
    {
      "cell_type": "code",
      "execution_count": 302,
      "metadata": {
        "ExecuteTime": {
          "end_time": "2021-01-15T08:40:57.372472Z",
          "start_time": "2021-01-15T08:40:57.365176Z"
        }
      },
      "outputs": [],
      "source": [
        "A.__dict__, B.__dict__, C.__dict__"
      ],
      "id": "ca378518"
    },
    {
      "cell_type": "markdown",
      "metadata": {},
      "source": [
        "This can lead to **nasty** errors when using class attributes: learn\n",
        "more about this\n",
        "\n",
        "## Python scope rules"
      ],
      "id": "229fae78-1a8a-46e2-8a0e-261e9386823a"
    },
    {
      "cell_type": "code",
      "execution_count": 303,
      "metadata": {},
      "outputs": [],
      "source": [
        "try:\n",
        "    ints += [4]\n",
        "except NameError:\n",
        "    print(\"NameError: name 'ints' is not defined\")"
      ],
      "id": "9fb02924"
    },
    {
      "cell_type": "code",
      "execution_count": 304,
      "metadata": {
        "ExecuteTime": {
          "end_time": "2021-01-15T08:40:58.254394Z",
          "start_time": "2021-01-15T08:40:58.250379Z"
        }
      },
      "outputs": [],
      "source": [
        "ints = [1]\n",
        "\n",
        "def foo1():\n",
        "    ints.append(2)\n",
        "    return ints\n",
        "\n",
        "def foo2():\n",
        "    ints += [2]\n",
        "    return ints"
      ],
      "id": "2d56c7d8"
    },
    {
      "cell_type": "code",
      "execution_count": 305,
      "metadata": {
        "ExecuteTime": {
          "end_time": "2021-01-15T08:40:58.471436Z",
          "start_time": "2021-01-15T08:40:58.464761Z"
        }
      },
      "outputs": [],
      "source": [
        "foo1()"
      ],
      "id": "cb6570b7"
    },
    {
      "cell_type": "code",
      "execution_count": 306,
      "metadata": {
        "ExecuteTime": {
          "end_time": "2021-01-15T08:40:58.668154Z",
          "start_time": "2021-01-15T08:40:58.647332Z"
        },
        "slideshow": {
          "slide_type": "-"
        }
      },
      "outputs": [],
      "source": [
        "try:    \n",
        "    foo2()\n",
        "except UnboundLocalError as inst:\n",
        "    print(inst)"
      ],
      "id": "df1035b9"
    },
    {
      "cell_type": "markdown",
      "metadata": {},
      "source": [
        "### What the hell ?\n",
        "\n",
        "-   An assignment to a variable in a scope assumes that the variable is\n",
        "    local to that scope\n",
        "-   and shadows any similarly named variable in any outer scope\n",
        "\n",
        "``` python\n",
        "ints += [2]\n",
        "```\n",
        "\n",
        "means\n",
        "\n",
        "``` python\n",
        "ints = ints + [2]\n",
        "```\n",
        "\n",
        "which is an *assigment*: `ints` must be defined in the local scope, but\n",
        "it is not, while\n",
        "\n",
        "``` python\n",
        "ints.append(2)\n",
        "```\n",
        "\n",
        "is not an *assignemnt*\n",
        "\n",
        "## Modify a `list` while iterating over it"
      ],
      "id": "d12d4590-cf1a-4de8-ad34-3c36ed5d9227"
    },
    {
      "cell_type": "code",
      "execution_count": 307,
      "metadata": {
        "ExecuteTime": {
          "end_time": "2021-01-15T08:41:05.902243Z",
          "start_time": "2021-01-15T08:41:05.890704Z"
        }
      },
      "outputs": [],
      "source": [
        "odd = lambda x: bool(x % 2)\n",
        "numbers = list(range(10))\n",
        "\n",
        "try:\n",
        "  for i in range(len(numbers)):\n",
        "      if odd(numbers[i]):\n",
        "          del numbers[i]\n",
        "except IndexError as inst:\n",
        "    print(inst)"
      ],
      "id": "a2c0556a"
    },
    {
      "cell_type": "markdown",
      "metadata": {},
      "source": [
        "Typically an example where one should use a list comprehension"
      ],
      "id": "5a37f1fd-0ba1-4cdb-8a98-264dd1addeed"
    },
    {
      "cell_type": "code",
      "execution_count": 308,
      "metadata": {
        "ExecuteTime": {
          "end_time": "2021-01-15T08:41:16.008696Z",
          "start_time": "2021-01-15T08:41:16.002196Z"
        }
      },
      "outputs": [],
      "source": [
        "[number for number in numbers if not odd(number)]"
      ],
      "id": "97bdd3f2"
    },
    {
      "cell_type": "markdown",
      "metadata": {},
      "source": [
        "## No docstrings\n",
        "\n",
        "Accept to spend time to write clean docstrings (look at `numpydoc`\n",
        "style)"
      ],
      "id": "cec4f521-87bb-4b12-9f7c-69b8eff86457"
    },
    {
      "cell_type": "code",
      "execution_count": 309,
      "metadata": {
        "ExecuteTime": {
          "end_time": "2021-01-15T08:41:17.239948Z",
          "start_time": "2021-01-15T08:41:17.236031Z"
        }
      },
      "outputs": [],
      "source": [
        "def create_student(name, age, address, major='computer science'):\n",
        "    \"\"\"Add a student in the database\n",
        "    \n",
        "    Parameters\n",
        "    ----------\n",
        "    name: `str`\n",
        "        Name of the student\n",
        "    \n",
        "    age: `int`\n",
        "        Age of the student\n",
        "    \n",
        "    address: `str`\n",
        "        Address of the student\n",
        "    \n",
        "    major: `str`, default='computer science'\n",
        "        The major chosen by the student\n",
        "    \n",
        "    Returns\n",
        "    -------\n",
        "    output: `Student`\n",
        "        A fresh student\n",
        "    \"\"\"\n",
        "    pass"
      ],
      "id": "b2415f58"
    },
    {
      "cell_type": "code",
      "execution_count": 310,
      "metadata": {},
      "outputs": [],
      "source": [
        "create_student('Duduche', 28, 'Chalons')"
      ],
      "id": "2b5960a5"
    },
    {
      "cell_type": "markdown",
      "metadata": {},
      "source": [
        "## Not using available methods and/or the simplest solution"
      ],
      "id": "e1b108c2-841e-4e55-8591-e24895fe1bdd"
    },
    {
      "cell_type": "code",
      "execution_count": 311,
      "metadata": {
        "ExecuteTime": {
          "end_time": "2021-01-15T08:41:19.794009Z",
          "start_time": "2021-01-15T08:41:19.785191Z"
        }
      },
      "outputs": [],
      "source": [
        "dd = {'stephane': 1234, 'gael': 4567, 'gontran': 891011}\n",
        "\n",
        "# Bad\n",
        "for key in dd.keys():\n",
        "    print(key, dd[key])\n",
        "\n",
        "print('-' * 8)\n",
        "\n",
        "# Good\n",
        "for key, value in dd.items():\n",
        "    print(key, value)"
      ],
      "id": "92e697d8"
    },
    {
      "cell_type": "code",
      "execution_count": 312,
      "metadata": {
        "ExecuteTime": {
          "end_time": "2021-01-15T08:41:20.116770Z",
          "start_time": "2021-01-15T08:41:20.104428Z"
        },
        "slideshow": {
          "slide_type": "subslide"
        }
      },
      "outputs": [],
      "source": [
        "colors = ['black', 'yellow', 'brown', 'red', 'pink']\n",
        "\n",
        "# Bad\n",
        "for i in range(len(colors)):\n",
        "    print(i, colors[i])\n",
        "\n",
        "print('-' * 8)\n",
        "\n",
        "# Good\n",
        "for i, color in enumerate(colors):\n",
        "    print(i, color)"
      ],
      "id": "37444715"
    },
    {
      "cell_type": "markdown",
      "metadata": {},
      "source": [
        "## Not using the standard library\n",
        "\n",
        "While it’s **always** better than a hand-made solution"
      ],
      "id": "05c0df5f-d6d9-42ba-9030-6606ac587a58"
    },
    {
      "cell_type": "code",
      "execution_count": 313,
      "metadata": {
        "ExecuteTime": {
          "end_time": "2021-01-15T08:41:21.109134Z",
          "start_time": "2021-01-15T08:41:21.101392Z"
        }
      },
      "outputs": [],
      "source": [
        "list1 = [1, 2]\n",
        "list2 = [3, 4]\n",
        "list3 = [5, 6, 7]\n",
        "\n",
        "for a in list1:\n",
        "    for b in list2:\n",
        "        for c in list3:\n",
        "            print(a, b, c)"
      ],
      "id": "634077b0"
    },
    {
      "cell_type": "code",
      "execution_count": 314,
      "metadata": {
        "ExecuteTime": {
          "end_time": "2021-01-15T08:41:22.827474Z",
          "start_time": "2021-01-15T08:41:22.819519Z"
        },
        "slideshow": {
          "slide_type": "subslide"
        }
      },
      "outputs": [],
      "source": [
        "from itertools import product\n",
        "\n",
        "for a, b, c in product(list1, list2, list3):\n",
        "    print(a, b, c)"
      ],
      "id": "2b87c1ce"
    },
    {
      "cell_type": "markdown",
      "metadata": {},
      "source": [
        "# That’s it for now !"
      ],
      "id": "93ad9b76-0371-41a6-917f-166147bab143"
    }
  ],
  "nbformat": 4,
  "nbformat_minor": 5,
  "metadata": {
    "kernelspec": {
      "name": "python3",
      "display_name": "Python 3 (ipykernel)",
      "language": "python",
      "path": "/usr/share/jupyter/kernels/python3"
    },
    "language_info": {
      "name": "python",
      "codemirror_mode": {
        "name": "ipython",
        "version": "3"
      },
      "file_extension": ".py",
      "mimetype": "text/x-python",
      "nbconvert_exporter": "python",
      "pygments_lexer": "ipython3",
      "version": "3.12.3"
    }
  }
}