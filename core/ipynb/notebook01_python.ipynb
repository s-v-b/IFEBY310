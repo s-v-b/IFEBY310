{
  "cells": [
    {
      "cell_type": "markdown",
      "metadata": {},
      "source": [
        "# Introduction to Python\n",
        "\n",
        "We introduce here the `python` language. Only the bare minimum necessary\n",
        "for getting started with the data-science stack (a bunch of libraries\n",
        "for data science). Python is a **programming language**, as are `C++`,\n",
        "`java`, `fortran`, `javascript`, etc.\n",
        "\n",
        "## Specific features of Python\n",
        "\n",
        "-   an **interpreted** (as opposed to *compiled*) language. Contrary to\n",
        "    e.g. `C++` or `fortran`, one does not compile Python code before\n",
        "    executing it.\n",
        "\n",
        "-   Used as a scripting language, by python `python script.py` in a\n",
        "    terminal\n",
        "\n",
        "-   But can be used also **interactively**: the jupyter notebook,\n",
        "    iPython, etc.\n",
        "\n",
        "-   A free software released under an **open-source** license: Python\n",
        "    can be used and distributed free of charge, even for building\n",
        "    commercial software.\n",
        "\n",
        "-   **multi-platform**: Python is available for all major operating\n",
        "    systems, Windows, Linux/Unix, MacOS X, most likely your mobile phone\n",
        "    OS, etc.\n",
        "\n",
        "-   A very readable language with clear non-verbose syntax\n",
        "\n",
        "-   A language for which a **large amount of high-quality** packages are\n",
        "    available for various applications, including web-frameworks and\n",
        "    scientific computing\n",
        "\n",
        "-   It has been one of the top **languages for data science** and\n",
        "    **machine learning** for several years, because it is expressive and\n",
        "    and easy to deploy\n",
        "\n",
        "-   An object-oriented language\n",
        "\n",
        "See https://www.python.org/about/ for more information about\n",
        "distinguishing features of Python.\n",
        "\n",
        "> **Python 2 or Python 3?**\n",
        ">\n",
        "> -   Simple answer: *don’t use Python 2, use Python 3*\n",
        "> -   Python 2 is *mostly deprecated* and *has not been maintained* for\n",
        ">     years\n",
        "> -   You’ll end up hanged if you use Python 2\n",
        "> -   If Python 2 is mandatory at your workplace, find another work\n",
        "\n",
        "> **Jupyter or Quarto notebooks?**\n",
        ">\n",
        "> -   `quarto` is more git friendly than `jupyter`\n",
        ">\n",
        "> -   Enjoy authentic editors\n",
        ">\n",
        "> -   Go for `quarto`\n",
        "\n",
        "# Hello world\n",
        "\n",
        "-   In a `jupyter`/`quarto` notebook, you have an interactive\n",
        "    interpreter.\n",
        "\n",
        "-   You type in the cells, execute commands"
      ],
      "id": "0fda3d6b-cb22-419a-a590-aece29fe3b86"
    },
    {
      "cell_type": "code",
      "execution_count": 1,
      "metadata": {
        "ExecuteTime": {
          "end_time": "2021-01-26T10:21:39.584103Z",
          "start_time": "2021-01-26T10:21:39.577509Z"
        },
        "slideshow": {
          "slide_type": "fragment"
        }
      },
      "outputs": [],
      "source": [
        "print(\"Hi everybody!\")"
      ],
      "id": "112bc094"
    },
    {
      "cell_type": "markdown",
      "metadata": {},
      "source": [
        "# Basic types\n",
        "\n",
        "## Integers"
      ],
      "id": "6083e570-1e94-4b2e-85e9-d4e3711129c2"
    },
    {
      "cell_type": "code",
      "execution_count": 2,
      "metadata": {
        "ExecuteTime": {
          "end_time": "2021-01-26T10:21:48.191166Z",
          "start_time": "2021-01-26T10:21:48.181921Z"
        },
        "slideshow": {
          "slide_type": "fragment"
        }
      },
      "outputs": [],
      "source": [
        "1 + 42"
      ],
      "id": "b4447e53"
    },
    {
      "cell_type": "code",
      "execution_count": 3,
      "metadata": {
        "ExecuteTime": {
          "end_time": "2021-01-26T10:21:50.119817Z",
          "start_time": "2021-01-26T10:21:50.115692Z"
        },
        "slideshow": {
          "slide_type": "-"
        }
      },
      "outputs": [],
      "source": [
        "type(1+1)"
      ],
      "id": "319565c1"
    },
    {
      "cell_type": "markdown",
      "metadata": {},
      "source": [
        "We can assign values to variables with `=`"
      ],
      "id": "847e5b1d-b86a-410d-94e1-a5ac0fd8e07d"
    },
    {
      "cell_type": "code",
      "execution_count": 4,
      "metadata": {
        "ExecuteTime": {
          "end_time": "2021-01-26T10:22:09.152051Z",
          "start_time": "2021-01-26T10:22:09.148135Z"
        },
        "slideshow": {
          "slide_type": "-"
        }
      },
      "outputs": [],
      "source": [
        "a = (3 + 5 ** 2) % 4\n",
        "a"
      ],
      "id": "7e3b6ff1"
    },
    {
      "cell_type": "markdown",
      "metadata": {},
      "source": [
        "## Remark\n",
        "\n",
        "We don’t declare the type of a variable before assigning its value. In\n",
        "C, conversely, one should write\n",
        "\n",
        "``` c\n",
        "int a = 4;\n",
        "```\n",
        "\n",
        "## Something cool\n",
        "\n",
        "-   **Arbitrary large** integer arithmetics"
      ],
      "id": "fe71e1a3-833c-42a8-b7a2-c4c2427fc652"
    },
    {
      "cell_type": "code",
      "execution_count": 5,
      "metadata": {
        "ExecuteTime": {
          "end_time": "2021-01-26T10:22:20.017016Z",
          "start_time": "2021-01-26T10:22:20.012996Z"
        },
        "slideshow": {
          "slide_type": "fragment"
        }
      },
      "outputs": [],
      "source": [
        "17 ** 542"
      ],
      "id": "dee09be3"
    },
    {
      "cell_type": "markdown",
      "metadata": {},
      "source": [
        "## Floats\n",
        "\n",
        "There exists a floating point type that is created when the variable has\n",
        "decimal values"
      ],
      "id": "1cc73c83-0641-4657-966a-a7628a1a1e69"
    },
    {
      "cell_type": "code",
      "execution_count": 6,
      "metadata": {
        "ExecuteTime": {
          "end_time": "2021-01-26T10:22:48.180478Z",
          "start_time": "2021-01-26T10:22:48.177424Z"
        },
        "slideshow": {
          "slide_type": "-"
        }
      },
      "outputs": [],
      "source": [
        "c = 2."
      ],
      "id": "265b3599"
    },
    {
      "cell_type": "code",
      "execution_count": 7,
      "metadata": {
        "ExecuteTime": {
          "end_time": "2021-01-26T10:22:48.386461Z",
          "start_time": "2021-01-26T10:22:48.381009Z"
        },
        "slideshow": {
          "slide_type": "-"
        }
      },
      "outputs": [],
      "source": [
        "type(c)"
      ],
      "id": "7964869c"
    },
    {
      "cell_type": "code",
      "execution_count": 8,
      "metadata": {
        "ExecuteTime": {
          "end_time": "2021-01-26T10:22:53.303241Z",
          "start_time": "2021-01-26T10:22:53.298876Z"
        },
        "slideshow": {
          "slide_type": "fragment"
        }
      },
      "outputs": [],
      "source": [
        "c = 2\n",
        "type(c)"
      ],
      "id": "533f8fdf"
    },
    {
      "cell_type": "code",
      "execution_count": 9,
      "metadata": {
        "ExecuteTime": {
          "end_time": "2021-01-26T10:23:15.640321Z",
          "start_time": "2021-01-26T10:23:15.636205Z"
        },
        "slideshow": {
          "slide_type": "fragment"
        }
      },
      "outputs": [],
      "source": [
        "truc = 1 / 2\n",
        "truc"
      ],
      "id": "2e58c24e"
    },
    {
      "cell_type": "code",
      "execution_count": 10,
      "metadata": {
        "ExecuteTime": {
          "end_time": "2021-01-26T10:23:36.468643Z",
          "start_time": "2021-01-26T10:23:36.464148Z"
        }
      },
      "outputs": [],
      "source": [
        "1 // 2 + 1 % 2"
      ],
      "id": "dd831ed7"
    },
    {
      "cell_type": "code",
      "execution_count": 11,
      "metadata": {
        "ExecuteTime": {
          "end_time": "2021-01-26T10:23:41.839969Z",
          "start_time": "2021-01-26T10:23:41.835363Z"
        },
        "slideshow": {
          "slide_type": "-"
        }
      },
      "outputs": [],
      "source": [
        "type(truc)"
      ],
      "id": "8484b8f1"
    },
    {
      "cell_type": "markdown",
      "metadata": {},
      "source": [
        "## Boolean\n",
        "\n",
        "Similarly, boolean types are created from a comparison"
      ],
      "id": "16aba954-74d9-4764-be52-fab9607c6481"
    },
    {
      "cell_type": "code",
      "execution_count": 12,
      "metadata": {
        "ExecuteTime": {
          "end_time": "2021-01-26T10:23:43.765175Z",
          "start_time": "2021-01-26T10:23:43.761701Z"
        },
        "slideshow": {
          "slide_type": "fragment"
        }
      },
      "outputs": [],
      "source": [
        "test = 3 > 4\n",
        "test"
      ],
      "id": "7a3338ab"
    },
    {
      "cell_type": "code",
      "execution_count": 13,
      "metadata": {
        "ExecuteTime": {
          "end_time": "2021-01-26T10:23:47.310818Z",
          "start_time": "2021-01-26T10:23:47.306145Z"
        },
        "slideshow": {
          "slide_type": "-"
        }
      },
      "outputs": [],
      "source": [
        "type(test)"
      ],
      "id": "096bab77"
    },
    {
      "cell_type": "code",
      "execution_count": 14,
      "metadata": {
        "ExecuteTime": {
          "end_time": "2021-01-26T10:23:48.899891Z",
          "start_time": "2021-01-26T10:23:48.895700Z"
        },
        "slideshow": {
          "slide_type": "fragment"
        }
      },
      "outputs": [],
      "source": [
        "False == (not True)"
      ],
      "id": "666ff677"
    },
    {
      "cell_type": "code",
      "execution_count": 15,
      "metadata": {
        "ExecuteTime": {
          "end_time": "2021-01-26T10:23:56.264231Z",
          "start_time": "2021-01-26T10:23:56.259609Z"
        },
        "slideshow": {
          "slide_type": "fragment"
        }
      },
      "outputs": [],
      "source": [
        "1.41 < 2.71 and 2.71 < 3.14"
      ],
      "id": "4cb3f167"
    },
    {
      "cell_type": "code",
      "execution_count": 16,
      "metadata": {
        "ExecuteTime": {
          "end_time": "2021-01-26T10:24:06.450423Z",
          "start_time": "2021-01-26T10:24:06.446054Z"
        },
        "slideshow": {
          "slide_type": "-"
        }
      },
      "outputs": [],
      "source": [
        "# It's equivalent to\n",
        "1.41 < 2.71 < 3.14"
      ],
      "id": "3f3ca5e7"
    },
    {
      "cell_type": "markdown",
      "metadata": {},
      "source": [
        "## Type conversion (casting)"
      ],
      "id": "2eb0b630-d3c3-4da1-b678-694b993167c3"
    },
    {
      "cell_type": "code",
      "execution_count": 17,
      "metadata": {
        "ExecuteTime": {
          "end_time": "2021-01-26T10:24:23.846051Z",
          "start_time": "2021-01-26T10:24:23.841709Z"
        },
        "slideshow": {
          "slide_type": "fragment"
        }
      },
      "outputs": [],
      "source": [
        "a = 1\n",
        "type(a)"
      ],
      "id": "2c2a5d9c"
    },
    {
      "cell_type": "code",
      "execution_count": 18,
      "metadata": {
        "ExecuteTime": {
          "end_time": "2021-01-26T10:24:24.566291Z",
          "start_time": "2021-01-26T10:24:24.561510Z"
        },
        "slideshow": {
          "slide_type": "-"
        }
      },
      "outputs": [],
      "source": [
        "b = float(a)\n",
        "type(b)"
      ],
      "id": "2dec299e"
    },
    {
      "cell_type": "code",
      "execution_count": 19,
      "metadata": {
        "ExecuteTime": {
          "end_time": "2021-01-26T10:24:44.986299Z",
          "start_time": "2021-01-26T10:24:44.981939Z"
        },
        "slideshow": {
          "slide_type": "-"
        }
      },
      "outputs": [],
      "source": [
        "str(b)"
      ],
      "id": "be4855b0"
    },
    {
      "cell_type": "code",
      "execution_count": 20,
      "metadata": {
        "ExecuteTime": {
          "end_time": "2021-01-26T10:24:52.865090Z",
          "start_time": "2021-01-26T10:24:52.860248Z"
        },
        "slideshow": {
          "slide_type": "fragment"
        }
      },
      "outputs": [],
      "source": [
        "bool(b)\n",
        "# All non-zero, non empty objects are casted to boolean as True (more later)"
      ],
      "id": "07e96b9e"
    },
    {
      "cell_type": "code",
      "execution_count": 21,
      "metadata": {
        "ExecuteTime": {
          "end_time": "2021-01-26T10:24:59.506191Z",
          "start_time": "2021-01-26T10:24:59.502013Z"
        },
        "slideshow": {
          "slide_type": "-"
        }
      },
      "outputs": [],
      "source": [
        "bool(1-1)"
      ],
      "id": "cc48baf1"
    },
    {
      "cell_type": "markdown",
      "metadata": {},
      "source": [
        "# Containers\n",
        "\n",
        "Python provides many efficient types of *containers* or *sequences*, in\n",
        "which collections of objects can be stored.\n",
        "\n",
        "The main ones are `list`, `tuple`, `set` and `dict` (but there are many\n",
        "others…)\n",
        "\n",
        "## Tuples"
      ],
      "id": "5ac94040-4346-4794-bcc2-1c4a504e36d5"
    },
    {
      "cell_type": "code",
      "execution_count": 22,
      "metadata": {
        "ExecuteTime": {
          "end_time": "2021-01-26T10:27:14.513637Z",
          "start_time": "2021-01-26T10:27:14.509638Z"
        },
        "slideshow": {
          "slide_type": "fragment"
        }
      },
      "outputs": [],
      "source": [
        "tt = 'truc', 3.14, \"truc\"\n",
        "tt"
      ],
      "id": "04ee6fc9"
    },
    {
      "cell_type": "code",
      "execution_count": 23,
      "metadata": {
        "ExecuteTime": {
          "end_time": "2021-01-26T10:27:18.172578Z",
          "start_time": "2021-01-26T10:27:18.168425Z"
        },
        "slideshow": {
          "slide_type": "-"
        }
      },
      "outputs": [],
      "source": [
        "tt[0]"
      ],
      "id": "16127efd"
    },
    {
      "cell_type": "markdown",
      "metadata": {},
      "source": [
        "You can’t change a tuple, we say that it’s *immutable*"
      ],
      "id": "120dea6f-adfa-49d4-80cb-55a868520be1"
    },
    {
      "cell_type": "code",
      "execution_count": 24,
      "metadata": {
        "ExecuteTime": {
          "end_time": "2021-01-26T10:28:02.315034Z",
          "start_time": "2021-01-26T10:28:02.306507Z"
        },
        "slideshow": {
          "slide_type": "-"
        }
      },
      "outputs": [],
      "source": [
        "try:\n",
        "    tt[0] = 1\n",
        "except TypeError:\n",
        "    print(f\"TypeError: 'tuple' object does not support item assignment\")"
      ],
      "id": "399072cd"
    },
    {
      "cell_type": "markdown",
      "metadata": {},
      "source": [
        "Three ways of doing the same thing"
      ],
      "id": "f361a6a2-b164-4c83-978f-c754608ab353"
    },
    {
      "cell_type": "code",
      "execution_count": 25,
      "metadata": {
        "ExecuteTime": {
          "end_time": "2021-01-26T10:28:15.173558Z",
          "start_time": "2021-01-26T10:28:15.169603Z"
        },
        "slideshow": {
          "slide_type": "-"
        }
      },
      "outputs": [],
      "source": [
        "# Method 1\n",
        "tuple([1, 2, 3])"
      ],
      "id": "27d0c099"
    },
    {
      "cell_type": "code",
      "execution_count": 26,
      "metadata": {
        "ExecuteTime": {
          "end_time": "2021-01-26T10:28:18.262396Z",
          "start_time": "2021-01-26T10:28:18.257807Z"
        },
        "slideshow": {
          "slide_type": "-"
        }
      },
      "outputs": [],
      "source": [
        "# Method 2\n",
        "1, 2, 3"
      ],
      "id": "f87a5c6d"
    },
    {
      "cell_type": "code",
      "execution_count": 27,
      "metadata": {
        "ExecuteTime": {
          "end_time": "2021-01-26T10:28:32.225077Z",
          "start_time": "2021-01-26T10:28:32.219931Z"
        },
        "slideshow": {
          "slide_type": "-"
        }
      },
      "outputs": [],
      "source": [
        "# Method 3\n",
        "(1, 2, 3)"
      ],
      "id": "41d231f2"
    },
    {
      "cell_type": "markdown",
      "metadata": {},
      "source": [
        "**Simpler is better in Python**, so usually you want to use Method 2."
      ],
      "id": "4b421d19-27fe-4c45-bb7a-ed950b8a858e"
    },
    {
      "cell_type": "code",
      "execution_count": 28,
      "metadata": {
        "ExecuteTime": {
          "end_time": "2021-01-26T10:28:35.028409Z",
          "start_time": "2021-01-26T10:28:35.023677Z"
        },
        "slideshow": {
          "slide_type": "fragment"
        }
      },
      "outputs": [],
      "source": [
        "toto = 1, 2, 3\n",
        "toto"
      ],
      "id": "655ed85f"
    },
    {
      "cell_type": "markdown",
      "metadata": {},
      "source": [
        "-   This is serious !\n",
        "\n",
        "## The Zen of Python easter’s egg"
      ],
      "id": "a0da4344-b307-4bab-a481-5ff314c79fa9"
    },
    {
      "cell_type": "code",
      "execution_count": 29,
      "metadata": {
        "ExecuteTime": {
          "end_time": "2021-01-26T10:28:41.814008Z",
          "start_time": "2021-01-26T10:28:41.805313Z"
        },
        "slideshow": {
          "slide_type": "-"
        }
      },
      "outputs": [],
      "source": [
        "import this"
      ],
      "id": "269614c4"
    },
    {
      "cell_type": "markdown",
      "metadata": {},
      "source": [
        "## Lists\n",
        "\n",
        "A list is an ordered collection of objects. These objects may have\n",
        "different types. For example:"
      ],
      "id": "5a4ee8e0-752a-48ac-b339-17b0fb76787e"
    },
    {
      "cell_type": "code",
      "execution_count": 30,
      "metadata": {
        "ExecuteTime": {
          "end_time": "2021-01-26T10:28:56.683616Z",
          "start_time": "2021-01-26T10:28:56.680383Z"
        },
        "slideshow": {
          "slide_type": "-"
        }
      },
      "outputs": [],
      "source": [
        "colors = ['red', 'blue', 'green', 'black', 'white']"
      ],
      "id": "0497138b"
    },
    {
      "cell_type": "code",
      "execution_count": 31,
      "metadata": {
        "ExecuteTime": {
          "end_time": "2021-01-26T10:29:21.606351Z",
          "start_time": "2021-01-26T10:29:21.601561Z"
        }
      },
      "outputs": [],
      "source": [
        "colors[0]"
      ],
      "id": "a928e677"
    },
    {
      "cell_type": "code",
      "execution_count": 32,
      "metadata": {
        "ExecuteTime": {
          "end_time": "2021-01-26T10:29:07.632451Z",
          "start_time": "2021-01-26T10:29:07.627681Z"
        },
        "slideshow": {
          "slide_type": "-"
        }
      },
      "outputs": [],
      "source": [
        "type(colors)"
      ],
      "id": "08510781"
    },
    {
      "cell_type": "markdown",
      "metadata": {},
      "source": [
        "*Indexing:* accessing individual objects contained in the list by their\n",
        "position"
      ],
      "id": "6b5d2127-7002-4038-9542-2ace44f5521a"
    },
    {
      "cell_type": "code",
      "execution_count": 33,
      "metadata": {
        "ExecuteTime": {
          "end_time": "2021-01-26T10:29:24.838416Z",
          "start_time": "2021-01-26T10:29:24.833616Z"
        },
        "slideshow": {
          "slide_type": "-"
        }
      },
      "outputs": [],
      "source": [
        "colors[2]"
      ],
      "id": "ab7b8076"
    },
    {
      "cell_type": "code",
      "execution_count": 34,
      "metadata": {
        "ExecuteTime": {
          "end_time": "2021-01-26T10:29:25.132251Z",
          "start_time": "2021-01-26T10:29:25.124359Z"
        },
        "slideshow": {
          "slide_type": "-"
        }
      },
      "outputs": [],
      "source": [
        "colors[2] = 3.14\n",
        "colors"
      ],
      "id": "89a6e19d"
    },
    {
      "cell_type": "markdown",
      "metadata": {},
      "source": [
        "> **Warning**\n",
        ">\n",
        "> For any *iterable* object in Python, indexing *starts at 0* (as in C),\n",
        "> not at 1 (as in Fortran, R, or Matlab).\n",
        "\n",
        "Counting from the end with negative indices:"
      ],
      "id": "cfa03771-5687-4f28-9934-cfb96df8a352"
    },
    {
      "cell_type": "code",
      "execution_count": 35,
      "metadata": {
        "ExecuteTime": {
          "end_time": "2021-01-26T10:29:44.258856Z",
          "start_time": "2021-01-26T10:29:44.254238Z"
        },
        "slideshow": {
          "slide_type": "-"
        }
      },
      "outputs": [],
      "source": [
        "colors[-1]"
      ],
      "id": "b90690f6"
    },
    {
      "cell_type": "markdown",
      "metadata": {},
      "source": [
        "Index must remain in the range of the list"
      ],
      "id": "a559ad22-f7c6-4559-afed-b4007552d7f9"
    },
    {
      "cell_type": "code",
      "execution_count": 36,
      "metadata": {
        "ExecuteTime": {
          "end_time": "2021-01-26T10:29:47.674912Z",
          "start_time": "2021-01-26T10:29:47.666346Z"
        },
        "slideshow": {
          "slide_type": "-"
        }
      },
      "outputs": [],
      "source": [
        "try:\n",
        "    colors[10]\n",
        "except IndexError:\n",
        "    print(f\"IndexError: 10 >= {len(colors)} ==len(colors), index out of range \")"
      ],
      "id": "d9cbfa67"
    },
    {
      "cell_type": "code",
      "execution_count": 37,
      "metadata": {
        "ExecuteTime": {
          "end_time": "2021-01-26T10:30:01.912160Z",
          "start_time": "2021-01-26T10:30:01.907265Z"
        },
        "slideshow": {
          "slide_type": "subslide"
        }
      },
      "outputs": [],
      "source": [
        "colors"
      ],
      "id": "b96c9964"
    },
    {
      "cell_type": "code",
      "execution_count": 38,
      "metadata": {
        "ExecuteTime": {
          "end_time": "2021-01-26T10:30:02.143331Z",
          "start_time": "2021-01-26T10:30:02.137270Z"
        }
      },
      "outputs": [],
      "source": [
        "tt"
      ],
      "id": "098a9f6d"
    },
    {
      "cell_type": "code",
      "execution_count": 39,
      "metadata": {
        "ExecuteTime": {
          "end_time": "2021-01-26T10:30:34.000220Z",
          "start_time": "2021-01-26T10:30:33.995039Z"
        },
        "slideshow": {
          "slide_type": "-"
        }
      },
      "outputs": [],
      "source": [
        "colors.append(tt)\n",
        "colors"
      ],
      "id": "ff35f78b"
    },
    {
      "cell_type": "code",
      "execution_count": 40,
      "metadata": {
        "ExecuteTime": {
          "end_time": "2021-01-26T10:30:47.434827Z",
          "start_time": "2021-01-26T10:30:47.429744Z"
        },
        "slideshow": {
          "slide_type": "-"
        }
      },
      "outputs": [],
      "source": [
        "len(colors)"
      ],
      "id": "1151594e"
    },
    {
      "cell_type": "code",
      "execution_count": 41,
      "metadata": {
        "ExecuteTime": {
          "end_time": "2021-01-26T10:30:52.949200Z",
          "start_time": "2021-01-26T10:30:52.944225Z"
        }
      },
      "outputs": [],
      "source": [
        "len(tt)"
      ],
      "id": "9b77c487"
    },
    {
      "cell_type": "markdown",
      "metadata": {},
      "source": [
        "## Slicing: obtaining sublists of regularly-spaced elements\n",
        "\n",
        "This work with anything iterable whenever it makes sense (`list`, `str`,\n",
        "`tuple`, etc.)"
      ],
      "id": "e7c49574-c044-4454-99f9-41e7c012094e"
    },
    {
      "cell_type": "code",
      "execution_count": 42,
      "metadata": {
        "ExecuteTime": {
          "end_time": "2021-01-26T10:30:59.895713Z",
          "start_time": "2021-01-26T10:30:59.890434Z"
        },
        "slideshow": {
          "slide_type": "fragment"
        }
      },
      "outputs": [],
      "source": [
        "colors"
      ],
      "id": "de585730"
    },
    {
      "cell_type": "code",
      "execution_count": 43,
      "metadata": {
        "ExecuteTime": {
          "end_time": "2021-01-26T10:31:26.118892Z",
          "start_time": "2021-01-26T10:31:26.113811Z"
        },
        "slideshow": {
          "slide_type": "-"
        }
      },
      "outputs": [],
      "source": [
        "list(reversed(colors))"
      ],
      "id": "85d5399a"
    },
    {
      "cell_type": "code",
      "execution_count": 44,
      "metadata": {
        "ExecuteTime": {
          "end_time": "2021-01-26T10:32:55.756965Z",
          "start_time": "2021-01-26T10:32:55.752090Z"
        },
        "slideshow": {
          "slide_type": "-"
        }
      },
      "outputs": [],
      "source": [
        "colors[::-1]"
      ],
      "id": "0c84e4ac"
    },
    {
      "cell_type": "markdown",
      "metadata": {},
      "source": [
        "> **Slicing syntax:**\n",
        ">\n",
        "> `colors[start:stop:stride]`\n",
        ">\n",
        "> `start, stop, stride` are optional, with default values\n",
        "> `0, len(sequence), 1`\n",
        "\n",
        "l"
      ],
      "id": "e82dff27-4441-4243-91e8-492b22f83415"
    },
    {
      "cell_type": "code",
      "execution_count": 45,
      "metadata": {},
      "outputs": [],
      "source": [
        "print(slice(4))\n",
        "print(slice(1,5))\n",
        "print(slice(None,13,3))"
      ],
      "id": "c2a67be3"
    },
    {
      "cell_type": "code",
      "execution_count": 46,
      "metadata": {},
      "outputs": [],
      "source": [
        "sl = slice(1,5,2)\n",
        "colors[sl]"
      ],
      "id": "e93b1eba"
    },
    {
      "cell_type": "code",
      "execution_count": 47,
      "metadata": {
        "ExecuteTime": {
          "end_time": "2021-01-15T08:34:10.985959Z",
          "start_time": "2021-01-15T08:34:10.980519Z"
        },
        "slideshow": {
          "slide_type": "subslide"
        }
      },
      "outputs": [],
      "source": [
        "colors"
      ],
      "id": "4498d419"
    },
    {
      "cell_type": "code",
      "execution_count": 48,
      "metadata": {
        "ExecuteTime": {
          "end_time": "2021-01-15T08:34:11.188011Z",
          "start_time": "2021-01-15T08:34:11.182382Z"
        },
        "slideshow": {
          "slide_type": "-"
        }
      },
      "outputs": [],
      "source": [
        "colors[3:]"
      ],
      "id": "5b7eaadf"
    },
    {
      "cell_type": "code",
      "execution_count": 49,
      "metadata": {
        "ExecuteTime": {
          "end_time": "2021-01-15T08:34:11.462017Z",
          "start_time": "2021-01-15T08:34:11.457005Z"
        },
        "slideshow": {
          "slide_type": "-"
        }
      },
      "outputs": [],
      "source": [
        "colors[:3]"
      ],
      "id": "3dc3a6af"
    },
    {
      "cell_type": "code",
      "execution_count": 50,
      "metadata": {
        "ExecuteTime": {
          "end_time": "2021-01-15T08:34:11.666073Z",
          "start_time": "2021-01-15T08:34:11.661006Z"
        },
        "slideshow": {
          "slide_type": "-"
        }
      },
      "outputs": [],
      "source": [
        "colors[1::2]"
      ],
      "id": "7ac9625a"
    },
    {
      "cell_type": "code",
      "execution_count": 51,
      "metadata": {
        "ExecuteTime": {
          "end_time": "2021-01-15T08:34:11.892685Z",
          "start_time": "2021-01-15T08:34:11.886394Z"
        },
        "slideshow": {
          "slide_type": "-"
        }
      },
      "outputs": [],
      "source": [
        "colors[::-1]"
      ],
      "id": "9a9bb206"
    },
    {
      "cell_type": "markdown",
      "metadata": {},
      "source": [
        "## Strings\n",
        "\n",
        "Different string syntaxes (simple, double or triple quotes):"
      ],
      "id": "3ed6a26b-8e05-4902-b03b-c73e058df2db"
    },
    {
      "cell_type": "code",
      "execution_count": 52,
      "metadata": {
        "ExecuteTime": {
          "end_time": "2021-01-15T08:34:12.527044Z",
          "start_time": "2021-01-15T08:34:12.522242Z"
        },
        "slideshow": {
          "slide_type": "fragment"
        }
      },
      "outputs": [],
      "source": [
        "s = 'tintin'\n",
        "type(s)"
      ],
      "id": "64761c25"
    },
    {
      "cell_type": "code",
      "execution_count": 53,
      "metadata": {
        "ExecuteTime": {
          "end_time": "2021-01-15T08:34:12.741025Z",
          "start_time": "2021-01-15T08:34:12.735783Z"
        },
        "slideshow": {
          "slide_type": "-"
        }
      },
      "outputs": [],
      "source": [
        "s"
      ],
      "id": "58154bf7"
    },
    {
      "cell_type": "code",
      "execution_count": 54,
      "metadata": {
        "ExecuteTime": {
          "end_time": "2021-01-15T08:34:12.954647Z",
          "start_time": "2021-01-15T08:34:12.948403Z"
        },
        "slideshow": {
          "slide_type": "fragment"
        }
      },
      "outputs": [],
      "source": [
        "s = \"\"\"         Bonjour,\n",
        "Je m'appelle Stephane.\n",
        "Je vous souhaite une bonne journée.\n",
        "Salut.       \n",
        "\"\"\"\n",
        "s"
      ],
      "id": "1186233f"
    },
    {
      "cell_type": "code",
      "execution_count": 55,
      "metadata": {
        "ExecuteTime": {
          "end_time": "2021-01-15T08:34:13.096374Z",
          "start_time": "2021-01-15T08:34:13.091122Z"
        },
        "slideshow": {
          "slide_type": "-"
        }
      },
      "outputs": [],
      "source": [
        "s.strip()"
      ],
      "id": "1564bbb7"
    },
    {
      "cell_type": "code",
      "execution_count": 56,
      "metadata": {
        "ExecuteTime": {
          "end_time": "2021-01-15T08:34:13.378652Z",
          "start_time": "2021-01-15T08:34:13.372858Z"
        },
        "slideshow": {
          "slide_type": "subslide"
        }
      },
      "outputs": [],
      "source": [
        "print(s.strip())"
      ],
      "id": "b32522d6"
    },
    {
      "cell_type": "code",
      "execution_count": 57,
      "metadata": {
        "ExecuteTime": {
          "end_time": "2021-01-15T08:34:13.455410Z",
          "start_time": "2021-01-15T08:34:13.449943Z"
        },
        "slideshow": {
          "slide_type": "-"
        }
      },
      "outputs": [],
      "source": [
        "len(s)"
      ],
      "id": "4cf1cd28"
    },
    {
      "cell_type": "code",
      "execution_count": 58,
      "metadata": {
        "ExecuteTime": {
          "end_time": "2021-01-15T08:34:14.309647Z",
          "start_time": "2021-01-15T08:34:14.304154Z"
        },
        "slideshow": {
          "slide_type": "fragment"
        }
      },
      "outputs": [],
      "source": [
        "# Casting to a list\n",
        "list(s.strip()[:15])"
      ],
      "id": "07b3ac9e"
    },
    {
      "cell_type": "code",
      "execution_count": 59,
      "metadata": {
        "ExecuteTime": {
          "end_time": "2021-01-15T08:34:14.523496Z",
          "start_time": "2021-01-15T08:34:14.518586Z"
        },
        "slideshow": {
          "slide_type": "fragment"
        }
      },
      "outputs": [],
      "source": [
        "# Arithmetics\n",
        "print('Bonjour' * 2)\n",
        "print('Hello' + ' all')"
      ],
      "id": "eeacda6d"
    },
    {
      "cell_type": "code",
      "execution_count": 60,
      "metadata": {
        "ExecuteTime": {
          "end_time": "2021-01-15T08:34:15.160961Z",
          "start_time": "2021-01-15T08:34:15.155909Z"
        },
        "slideshow": {
          "slide_type": "-"
        }
      },
      "outputs": [],
      "source": [
        "sss = 'A'\n",
        "sss += 'bc'\n",
        "sss += 'dE'\n",
        "sss.lower()"
      ],
      "id": "0d650b24"
    },
    {
      "cell_type": "code",
      "execution_count": 61,
      "metadata": {
        "ExecuteTime": {
          "end_time": "2021-01-15T08:34:15.363145Z",
          "start_time": "2021-01-15T08:34:15.357847Z"
        },
        "slideshow": {
          "slide_type": "subslide"
        }
      },
      "outputs": [],
      "source": [
        "ss = s.strip()\n",
        "print(ss[:10] + ss[24:28])"
      ],
      "id": "42611539"
    },
    {
      "cell_type": "code",
      "execution_count": 62,
      "metadata": {},
      "outputs": [],
      "source": [
        "s.strip()"
      ],
      "id": "011f068a"
    },
    {
      "cell_type": "code",
      "execution_count": 63,
      "metadata": {
        "ExecuteTime": {
          "end_time": "2021-01-15T08:34:15.594172Z",
          "start_time": "2021-01-15T08:34:15.588495Z"
        },
        "slideshow": {
          "slide_type": "-"
        }
      },
      "outputs": [],
      "source": [
        "s.strip().split('\\n')"
      ],
      "id": "4898f95f"
    },
    {
      "cell_type": "code",
      "execution_count": 64,
      "metadata": {
        "ExecuteTime": {
          "end_time": "2021-01-15T08:34:17.689813Z",
          "start_time": "2021-01-15T08:34:17.684346Z"
        },
        "slideshow": {
          "slide_type": "-"
        }
      },
      "outputs": [],
      "source": [
        "s[::3]"
      ],
      "id": "3739c49c"
    },
    {
      "cell_type": "code",
      "execution_count": 65,
      "metadata": {
        "ExecuteTime": {
          "end_time": "2021-01-15T08:34:23.785045Z",
          "start_time": "2021-01-15T08:34:23.779973Z"
        },
        "slideshow": {
          "slide_type": "-"
        }
      },
      "outputs": [],
      "source": [
        "s[3:10]"
      ],
      "id": "a337ae46"
    },
    {
      "cell_type": "code",
      "execution_count": 66,
      "metadata": {
        "ExecuteTime": {
          "end_time": "2021-01-15T08:34:23.993089Z",
          "start_time": "2021-01-15T08:34:23.987450Z"
        },
        "slideshow": {
          "slide_type": "fragment"
        }
      },
      "outputs": [],
      "source": [
        "\" \".join(['Il', 'fait', 'super', 'beau', \"aujourd'hui\"])"
      ],
      "id": "f6b179b3"
    },
    {
      "cell_type": "markdown",
      "metadata": {},
      "source": [
        "Chaining method calls is the basic of pipeline building."
      ],
      "id": "969f7056-a35a-41fe-90e8-8d45eec75c99"
    },
    {
      "cell_type": "code",
      "execution_count": 67,
      "metadata": {},
      "outputs": [],
      "source": [
        "( \n",
        "    \" \".join(['Il', 'fait', 'super', 'beau', \"aujourd'hui\"])\n",
        "       .title()\n",
        "       .replace(' ', '')\n",
        "       .replace(\"'\",\"\")\n",
        ")"
      ],
      "id": "24cadf7a"
    },
    {
      "cell_type": "markdown",
      "metadata": {},
      "source": [
        "### Important\n",
        "\n",
        "A string is *immutable* !!"
      ],
      "id": "1ed4f42f-f21a-440c-99e3-eb23269c4202"
    },
    {
      "cell_type": "code",
      "execution_count": 68,
      "metadata": {
        "ExecuteTime": {
          "end_time": "2021-01-15T08:34:24.332754Z",
          "start_time": "2021-01-15T08:34:24.329558Z"
        },
        "slideshow": {
          "slide_type": "-"
        }
      },
      "outputs": [],
      "source": [
        "s = 'I am an immutable guy'"
      ],
      "id": "af5e340a"
    },
    {
      "cell_type": "code",
      "execution_count": 69,
      "metadata": {
        "ExecuteTime": {
          "end_time": "2021-01-15T08:34:24.511029Z",
          "start_time": "2021-01-15T08:34:24.499601Z"
        },
        "slideshow": {
          "slide_type": "-"
        }
      },
      "outputs": [],
      "source": [
        "try:  \n",
        "    s[2] = 's'\n",
        "except TypeError:\n",
        "    print(f\"Strings are immutable! s is still '{s}'\")"
      ],
      "id": "e3d8afdd"
    },
    {
      "cell_type": "code",
      "execution_count": 70,
      "metadata": {
        "ExecuteTime": {
          "end_time": "2021-01-15T08:34:24.732120Z",
          "start_time": "2021-01-15T08:34:24.725628Z"
        },
        "slideshow": {
          "slide_type": "fragment"
        }
      },
      "outputs": [],
      "source": [
        "id(s)"
      ],
      "id": "7ab767e8"
    },
    {
      "cell_type": "code",
      "execution_count": 71,
      "metadata": {
        "ExecuteTime": {
          "end_time": "2021-01-15T08:34:25.275379Z",
          "start_time": "2021-01-15T08:34:25.269724Z"
        }
      },
      "outputs": [],
      "source": [
        "print(s + ', for sure')\n",
        "id(s), id(s + ' for sure')"
      ],
      "id": "e145bb03"
    },
    {
      "cell_type": "markdown",
      "metadata": {},
      "source": [
        "### Extra stuff with strings"
      ],
      "id": "8e686d25-274d-41d6-ba6c-1547a0eda31a"
    },
    {
      "cell_type": "code",
      "execution_count": 72,
      "metadata": {
        "ExecuteTime": {
          "end_time": "2021-01-15T08:34:25.685455Z",
          "start_time": "2021-01-15T08:34:25.679575Z"
        },
        "slideshow": {
          "slide_type": "-"
        }
      },
      "outputs": [],
      "source": [
        "'square of 2 is ' + str(2 ** 2)"
      ],
      "id": "25253406"
    },
    {
      "cell_type": "code",
      "execution_count": 73,
      "metadata": {
        "ExecuteTime": {
          "end_time": "2021-01-15T08:34:26.075613Z",
          "start_time": "2021-01-15T08:34:26.070551Z"
        },
        "slideshow": {
          "slide_type": "-"
        }
      },
      "outputs": [],
      "source": [
        "'square of 2 is %d' % 2 ** 2"
      ],
      "id": "b7f31c21"
    },
    {
      "cell_type": "code",
      "execution_count": 74,
      "metadata": {
        "ExecuteTime": {
          "end_time": "2021-01-15T08:34:28.906445Z",
          "start_time": "2021-01-15T08:34:28.900777Z"
        },
        "slideshow": {
          "slide_type": "-"
        }
      },
      "outputs": [],
      "source": [
        "'square of 2 is {}'.format(2 ** 2)"
      ],
      "id": "694b523f"
    },
    {
      "cell_type": "code",
      "execution_count": 75,
      "metadata": {
        "ExecuteTime": {
          "end_time": "2021-01-15T08:34:29.230345Z",
          "start_time": "2021-01-15T08:34:29.225362Z"
        },
        "slideshow": {
          "slide_type": "-"
        }
      },
      "outputs": [],
      "source": [
        "'square of 2 is {square}'.format(square=2 ** 2)"
      ],
      "id": "b062776b"
    },
    {
      "cell_type": "code",
      "execution_count": 76,
      "metadata": {
        "ExecuteTime": {
          "end_time": "2021-01-15T08:34:29.464228Z",
          "start_time": "2021-01-15T08:34:29.457777Z"
        },
        "slideshow": {
          "slide_type": "fragment"
        }
      },
      "outputs": [],
      "source": [
        "# And since Python 3.6 you can use an `f-string`\n",
        "number = 2\n",
        "square = number ** 2\n",
        "\n",
        "f'square of {number} is {square}'"
      ],
      "id": "944a6f83"
    },
    {
      "cell_type": "markdown",
      "metadata": {},
      "source": [
        "### The `in` keyword\n",
        "\n",
        "You can use the `in` keyword with any container, whenever it makes sense"
      ],
      "id": "045e8628-0ac8-473f-a652-3bc6d0fbbadc"
    },
    {
      "cell_type": "code",
      "execution_count": 77,
      "metadata": {
        "ExecuteTime": {
          "end_time": "2021-01-15T08:34:29.779042Z",
          "start_time": "2021-01-15T08:34:29.774313Z"
        },
        "slideshow": {
          "slide_type": "fragment"
        }
      },
      "outputs": [],
      "source": [
        "print(s)\n",
        "print('Salut' in s)"
      ],
      "id": "7cbbc71f"
    },
    {
      "cell_type": "code",
      "execution_count": 78,
      "metadata": {
        "ExecuteTime": {
          "end_time": "2021-01-15T08:34:30.599065Z",
          "start_time": "2021-01-15T08:34:30.595645Z"
        },
        "slideshow": {
          "slide_type": "-"
        }
      },
      "outputs": [],
      "source": [
        "print(tt)\n",
        "print('truc' in tt)"
      ],
      "id": "c9ecb085"
    },
    {
      "cell_type": "code",
      "execution_count": 79,
      "metadata": {
        "ExecuteTime": {
          "end_time": "2021-01-15T08:34:30.819735Z",
          "start_time": "2021-01-15T08:34:30.813275Z"
        },
        "slideshow": {
          "slide_type": "fragment"
        }
      },
      "outputs": [],
      "source": [
        "print(colors)\n",
        "print('truc' in colors)"
      ],
      "id": "8e440f43"
    },
    {
      "cell_type": "code",
      "execution_count": 80,
      "metadata": {
        "ExecuteTime": {
          "end_time": "2021-01-15T08:34:31.035913Z",
          "start_time": "2021-01-15T08:34:31.030502Z"
        }
      },
      "outputs": [],
      "source": [
        "('truc', 3.14, 'truc') in colors"
      ],
      "id": "81b6cf73"
    },
    {
      "cell_type": "markdown",
      "metadata": {},
      "source": [
        "> **Warning**\n",
        ">\n",
        "> Strings are not bytes. Have a look at chapter 4 *Unicode Text versus\n",
        "> Bytes* in [Fluent\n",
        "> Python](https://www.oreilly.com/library/view/fluent-python-2nd/9781492056348/)\n",
        "\n",
        "### Brain-teasing\n",
        "\n",
        "Explain this weird behaviour:"
      ],
      "id": "3e34f646-7ae5-45b6-975f-d3f0eeb2e9e2"
    },
    {
      "cell_type": "code",
      "execution_count": 81,
      "metadata": {},
      "outputs": [],
      "source": [
        "5 in [1, 2, 3, 4] == False"
      ],
      "id": "b20b8f9a"
    },
    {
      "cell_type": "code",
      "execution_count": 82,
      "metadata": {
        "ExecuteTime": {
          "end_time": "2021-01-15T08:34:31.612963Z",
          "start_time": "2021-01-15T08:34:31.607708Z"
        },
        "slideshow": {
          "slide_type": "-"
        }
      },
      "outputs": [],
      "source": [
        "[1, 2, 3, 4] == False"
      ],
      "id": "a70cc489"
    },
    {
      "cell_type": "code",
      "execution_count": 83,
      "metadata": {
        "ExecuteTime": {
          "end_time": "2021-01-15T08:34:31.825068Z",
          "start_time": "2021-01-15T08:34:31.819205Z"
        },
        "slideshow": {
          "slide_type": "-"
        }
      },
      "outputs": [],
      "source": [
        "5 not in [1, 2, 3, 4]"
      ],
      "id": "90732abc"
    },
    {
      "cell_type": "code",
      "execution_count": 84,
      "metadata": {
        "ExecuteTime": {
          "end_time": "2021-01-15T08:34:32.299157Z",
          "start_time": "2021-01-15T08:34:32.293640Z"
        },
        "slideshow": {
          "slide_type": "-"
        }
      },
      "outputs": [],
      "source": [
        "(5 in [1, 2, 3, 4]) == False"
      ],
      "id": "b9f65a85"
    },
    {
      "cell_type": "code",
      "execution_count": 85,
      "metadata": {
        "ExecuteTime": {
          "end_time": "2021-01-15T08:34:32.524705Z",
          "start_time": "2021-01-15T08:34:32.518440Z"
        },
        "slideshow": {
          "slide_type": "fragment"
        }
      },
      "outputs": [],
      "source": [
        "# ANSWER.\n",
        "# This is a chained comparison. We have seen that \n",
        "1 < 2 < 3\n",
        "# is equivalent to\n",
        "(1 < 2) and (2 < 3)\n",
        "# so that\n",
        "5 in [1, 2, 3, 4] == False\n",
        "# is equivalent to\n",
        "(5 in [1, 2, 3, 4]) and ([1, 2, 3, 4] == False)"
      ],
      "id": "01f29c0b"
    },
    {
      "cell_type": "code",
      "execution_count": 86,
      "metadata": {},
      "outputs": [],
      "source": [
        "(5 in [1, 2, 3, 4])"
      ],
      "id": "5c8f3824"
    },
    {
      "cell_type": "code",
      "execution_count": 87,
      "metadata": {},
      "outputs": [],
      "source": [
        "([1, 2, 3, 4] == False)"
      ],
      "id": "b167ba9b"
    },
    {
      "cell_type": "markdown",
      "metadata": {},
      "source": [
        "## Dictionaries\n",
        "\n",
        "-   A dictionary is basically an efficient table that **maps keys to\n",
        "    values**.\n",
        "-   The **MOST** important container in Python.\n",
        "-   Many things are actually a `dict` under the hood in `Python`"
      ],
      "id": "11de80e9-513d-424d-a78b-da98b4601680"
    },
    {
      "cell_type": "code",
      "execution_count": 88,
      "metadata": {
        "ExecuteTime": {
          "end_time": "2021-01-15T08:34:33.375226Z",
          "start_time": "2021-01-15T08:34:33.371037Z"
        },
        "slideshow": {
          "slide_type": "fragment"
        }
      },
      "outputs": [],
      "source": [
        "tel = {'emmanuelle': 5752, 'sebastian': 5578}\n",
        "print(tel)\n",
        "print(type(tel))"
      ],
      "id": "3fc84261"
    },
    {
      "cell_type": "code",
      "execution_count": 89,
      "metadata": {
        "ExecuteTime": {
          "end_time": "2021-01-15T08:34:33.572354Z",
          "start_time": "2021-01-15T08:34:33.566227Z"
        },
        "slideshow": {
          "slide_type": "fragment"
        }
      },
      "outputs": [],
      "source": [
        "tel['emmanuelle'], tel['sebastian']"
      ],
      "id": "7ae46c29"
    },
    {
      "cell_type": "code",
      "execution_count": 90,
      "metadata": {
        "ExecuteTime": {
          "end_time": "2021-01-15T08:34:33.711591Z",
          "start_time": "2021-01-15T08:34:33.705748Z"
        }
      },
      "outputs": [],
      "source": [
        "tel['francis'] = '5919'\n",
        "tel"
      ],
      "id": "33a6a475"
    },
    {
      "cell_type": "code",
      "execution_count": 91,
      "metadata": {
        "ExecuteTime": {
          "end_time": "2021-01-15T08:34:33.889041Z",
          "start_time": "2021-01-15T08:34:33.883802Z"
        }
      },
      "outputs": [],
      "source": [
        "len(tel)"
      ],
      "id": "5df8cc2d"
    },
    {
      "cell_type": "markdown",
      "metadata": {},
      "source": [
        "### Important remarks\n",
        "\n",
        "-   Keys can be of different types\n",
        "-   A key must be of **immutable** type"
      ],
      "id": "2c4f8890-9d7c-4cee-944e-8984666aee21"
    },
    {
      "cell_type": "code",
      "execution_count": 92,
      "metadata": {
        "ExecuteTime": {
          "end_time": "2021-01-15T08:34:35.180227Z",
          "start_time": "2021-01-15T08:34:35.172919Z"
        }
      },
      "outputs": [],
      "source": [
        "tel[7162453] = [1, 3, 2]\n",
        "tel[3.14] = 'bidule'\n",
        "tel[('jaouad', 2)] = 1234\n",
        "tel"
      ],
      "id": "fb5c7eeb"
    },
    {
      "cell_type": "code",
      "execution_count": 93,
      "metadata": {},
      "outputs": [],
      "source": [
        "try:\n",
        "    sorted(tel)\n",
        "except TypeError:\n",
        "    print(\"TypeError: '<' not supported between instances of 'int' and 'str'\")    "
      ],
      "id": "142aaf59"
    },
    {
      "cell_type": "code",
      "execution_count": 94,
      "metadata": {
        "ExecuteTime": {
          "end_time": "2021-01-15T08:34:35.781423Z",
          "start_time": "2021-01-15T08:34:35.770370Z"
        }
      },
      "outputs": [],
      "source": [
        "# A list is mutable and not hashable\n",
        "try:\n",
        "    tel[['jaouad']] = '5678'\n",
        "except TypeError:\n",
        "    print(\"TypeError: unhashable type: 'list'\")"
      ],
      "id": "f808dbf4"
    },
    {
      "cell_type": "code",
      "execution_count": 95,
      "metadata": {},
      "outputs": [],
      "source": [
        "try:\n",
        "    tel[2]\n",
        "except KeyError:\n",
        "    print(\"KeyError: 2\")"
      ],
      "id": "143247ce"
    },
    {
      "cell_type": "code",
      "execution_count": 96,
      "metadata": {
        "ExecuteTime": {
          "end_time": "2021-01-15T08:34:35.984417Z",
          "start_time": "2021-01-15T08:34:35.978289Z"
        },
        "slideshow": {
          "slide_type": "subslide"
        }
      },
      "outputs": [],
      "source": [
        "tel = {'emmanuelle': 5752, 'sebastian' : 5578, 'jaouad' : 1234}\n",
        "print(tel.keys())\n",
        "print(tel.values())\n",
        "print(tel.items())"
      ],
      "id": "1faab783"
    },
    {
      "cell_type": "code",
      "execution_count": 97,
      "metadata": {},
      "outputs": [],
      "source": [
        "list(tel.keys())[2]"
      ],
      "id": "fb9c0efa"
    },
    {
      "cell_type": "code",
      "execution_count": 98,
      "metadata": {},
      "outputs": [],
      "source": [
        "tel.values().mapping"
      ],
      "id": "3264a137"
    },
    {
      "cell_type": "code",
      "execution_count": 99,
      "metadata": {},
      "outputs": [],
      "source": [
        "type(tel.keys())"
      ],
      "id": "32240fbe"
    },
    {
      "cell_type": "code",
      "execution_count": 100,
      "metadata": {
        "ExecuteTime": {
          "end_time": "2021-01-15T08:34:36.135136Z",
          "start_time": "2021-01-15T08:34:36.129801Z"
        },
        "slideshow": {
          "slide_type": "fragment"
        }
      },
      "outputs": [],
      "source": [
        "'rémi' in tel"
      ],
      "id": "0866df23"
    },
    {
      "cell_type": "code",
      "execution_count": 101,
      "metadata": {
        "ExecuteTime": {
          "end_time": "2021-01-15T08:34:36.649224Z",
          "start_time": "2021-01-15T08:34:36.643788Z"
        }
      },
      "outputs": [],
      "source": [
        "list(tel)"
      ],
      "id": "d9bb12fd"
    },
    {
      "cell_type": "code",
      "execution_count": 102,
      "metadata": {},
      "outputs": [],
      "source": [
        "'rémi' in tel.keys()"
      ],
      "id": "8d99bec3"
    },
    {
      "cell_type": "markdown",
      "metadata": {},
      "source": [
        "You can swap values like this"
      ],
      "id": "3cebcfe6-8687-4538-92c7-1932cc64cf59"
    },
    {
      "cell_type": "code",
      "execution_count": 103,
      "metadata": {
        "ExecuteTime": {
          "end_time": "2021-01-15T08:34:37.036245Z",
          "start_time": "2021-01-15T08:34:37.032296Z"
        }
      },
      "outputs": [],
      "source": [
        "print(tel)\n",
        "tel['emmanuelle'], tel['sebastian'] = tel['sebastian'], tel['emmanuelle']\n",
        "print(tel)"
      ],
      "id": "3f6a871f"
    },
    {
      "cell_type": "code",
      "execution_count": 104,
      "metadata": {
        "ExecuteTime": {
          "end_time": "2021-01-15T08:34:37.755117Z",
          "start_time": "2021-01-15T08:34:37.750155Z"
        }
      },
      "outputs": [],
      "source": [
        "# It works, since\n",
        "a, b = 2.71, 3.14\n",
        "a, b = b, a\n",
        "a, b"
      ],
      "id": "84122ae6"
    },
    {
      "cell_type": "markdown",
      "metadata": {},
      "source": [
        "### Exercise 1\n",
        "\n",
        "Get keys of `tel` sorted by decreasing order"
      ],
      "id": "60024176-c13f-4feb-a1fc-d070356be68b"
    },
    {
      "cell_type": "code",
      "execution_count": 105,
      "metadata": {
        "ExecuteTime": {
          "end_time": "2021-01-15T08:34:38.375787Z",
          "start_time": "2021-01-15T08:34:38.372593Z"
        },
        "slideshow": {
          "slide_type": "-"
        }
      },
      "outputs": [],
      "source": [
        "tel = {'emmanuelle': 5752, 'sebastian' : 5578, 'jaouad' : 1234}"
      ],
      "id": "f0656090"
    },
    {
      "cell_type": "markdown",
      "metadata": {},
      "source": [
        "### Exercise 2\n",
        "\n",
        "Get keys of `tel` sorted by increasing *values*"
      ],
      "id": "0dc0c609-2d57-4dd0-b576-9feda479c0e1"
    },
    {
      "cell_type": "code",
      "execution_count": 108,
      "metadata": {
        "ExecuteTime": {
          "end_time": "2021-01-15T08:34:39.295210Z",
          "start_time": "2021-01-15T08:34:39.291759Z"
        }
      },
      "outputs": [],
      "source": [
        "tel = {'emmanuelle': 5752, 'sebastian' : 5578, 'jaouad' : 1234}"
      ],
      "id": "70da2baa"
    },
    {
      "cell_type": "markdown",
      "metadata": {},
      "source": [
        "### Exercise 3\n",
        "\n",
        "Obtain a sorted-by-key version of `tel`"
      ],
      "id": "5838a14f-ae59-471b-b4c5-cadf8242a2ea"
    },
    {
      "cell_type": "code",
      "execution_count": 112,
      "metadata": {
        "ExecuteTime": {
          "end_time": "2021-01-15T08:34:40.064213Z",
          "start_time": "2021-01-15T08:34:40.060078Z"
        }
      },
      "outputs": [],
      "source": [
        "tel = {'emmanuelle': 5752, 'sebastian' : 5578, 'jaouad' : 1234}"
      ],
      "id": "2741f5eb"
    },
    {
      "cell_type": "markdown",
      "metadata": {},
      "source": [
        "## Sets\n",
        "\n",
        "A set is an unordered container, containing unique elements"
      ],
      "id": "a699672f-56ad-497f-aff2-2fb7524e88ad"
    },
    {
      "cell_type": "code",
      "execution_count": 116,
      "metadata": {
        "ExecuteTime": {
          "end_time": "2021-01-15T08:34:43.408375Z",
          "start_time": "2021-01-15T08:34:43.402917Z"
        }
      },
      "outputs": [],
      "source": [
        "ss = {1, 2, 2, 2, 3, 3, 'tintin', 'tintin', 'toto'}\n",
        "ss"
      ],
      "id": "d66576f6"
    },
    {
      "cell_type": "code",
      "execution_count": 117,
      "metadata": {
        "ExecuteTime": {
          "end_time": "2021-01-15T08:34:43.689264Z",
          "start_time": "2021-01-15T08:34:43.683234Z"
        }
      },
      "outputs": [],
      "source": [
        "s = 'truc truc bidule truc'\n",
        "set(s)"
      ],
      "id": "a52013e5"
    },
    {
      "cell_type": "code",
      "execution_count": 118,
      "metadata": {},
      "outputs": [],
      "source": [
        "set(list(s))"
      ],
      "id": "d9c96586"
    },
    {
      "cell_type": "code",
      "execution_count": 119,
      "metadata": {
        "ExecuteTime": {
          "end_time": "2021-01-15T08:34:43.900734Z",
          "start_time": "2021-01-15T08:34:43.894591Z"
        },
        "slideshow": {
          "slide_type": "fragment"
        }
      },
      "outputs": [],
      "source": [
        "{1, 5, 2, 1, 1}.union({1, 2, 3})"
      ],
      "id": "bdee80f9"
    },
    {
      "cell_type": "code",
      "execution_count": 120,
      "metadata": {},
      "outputs": [],
      "source": [
        "set((1, 5, 3, 2))"
      ],
      "id": "f90f37d4"
    },
    {
      "cell_type": "code",
      "execution_count": 121,
      "metadata": {
        "ExecuteTime": {
          "end_time": "2021-01-15T08:34:44.236053Z",
          "start_time": "2021-01-15T08:34:44.230406Z"
        }
      },
      "outputs": [],
      "source": [
        "set([1, 5, 2, 1, 1]).intersection(set([1, 2, 3]))"
      ],
      "id": "54e0e1c0"
    },
    {
      "cell_type": "code",
      "execution_count": 122,
      "metadata": {
        "ExecuteTime": {
          "end_time": "2021-01-15T08:34:44.521051Z",
          "start_time": "2021-01-15T08:34:44.515051Z"
        }
      },
      "outputs": [],
      "source": [
        "ss.add('tintin')\n",
        "ss"
      ],
      "id": "1d9f19f3"
    },
    {
      "cell_type": "code",
      "execution_count": 123,
      "metadata": {},
      "outputs": [],
      "source": [
        "ss.difference(range(6))"
      ],
      "id": "6d5d5592"
    },
    {
      "cell_type": "markdown",
      "metadata": {},
      "source": [
        "You can combine all containers together"
      ],
      "id": "652e634d-d9d8-4505-8817-a294c83b15b5"
    },
    {
      "cell_type": "code",
      "execution_count": 124,
      "metadata": {
        "ExecuteTime": {
          "end_time": "2021-01-15T08:34:45.317823Z",
          "start_time": "2021-01-15T08:34:45.310957Z"
        }
      },
      "outputs": [],
      "source": [
        "dd = {\n",
        "    'truc': [1, 2, 3], \n",
        "    5: (1, 4, 2),\n",
        "    (1, 3): {'hello', 'world'}\n",
        "}\n",
        "dd"
      ],
      "id": "808a113f"
    },
    {
      "cell_type": "markdown",
      "metadata": {},
      "source": [
        "# Assigments in `Python` is name binding\n",
        "\n",
        "## Everything is either mutable or immutable"
      ],
      "id": "9d21bc5d-178e-41f8-88ba-d06382564cdd"
    },
    {
      "cell_type": "code",
      "execution_count": 125,
      "metadata": {
        "ExecuteTime": {
          "end_time": "2021-01-15T08:34:46.250900Z",
          "start_time": "2021-01-15T08:34:46.245797Z"
        },
        "slideshow": {
          "slide_type": "subslide"
        }
      },
      "outputs": [],
      "source": [
        "ss = {1, 2, 3}\n",
        "sss = ss\n",
        "sss, ss"
      ],
      "id": "3bc0e658"
    },
    {
      "cell_type": "code",
      "execution_count": 126,
      "metadata": {},
      "outputs": [],
      "source": [
        "id(ss), id(sss)"
      ],
      "id": "2c6f0ba1"
    },
    {
      "cell_type": "code",
      "execution_count": 127,
      "metadata": {
        "ExecuteTime": {
          "end_time": "2021-01-15T08:34:46.487601Z",
          "start_time": "2021-01-15T08:34:46.484299Z"
        },
        "slideshow": {
          "slide_type": "-"
        }
      },
      "outputs": [],
      "source": [
        "sss.add(\"Truc\")"
      ],
      "id": "0edc426b"
    },
    {
      "cell_type": "markdown",
      "metadata": {},
      "source": [
        "**Question.** What is in `ss` ?"
      ],
      "id": "c5efba83-48c9-40d8-8c08-9b22da4264fe"
    },
    {
      "cell_type": "code",
      "execution_count": 128,
      "metadata": {
        "ExecuteTime": {
          "end_time": "2021-01-15T08:34:47.555940Z",
          "start_time": "2021-01-15T08:34:47.549993Z"
        },
        "slideshow": {
          "slide_type": "fragment"
        }
      },
      "outputs": [],
      "source": [
        "ss, sss"
      ],
      "id": "3bda6644"
    },
    {
      "cell_type": "markdown",
      "metadata": {},
      "source": [
        "`ss` and `sss` are names for the same object"
      ],
      "id": "c50c034d-f167-4192-90c8-695c483727d3"
    },
    {
      "cell_type": "code",
      "execution_count": 129,
      "metadata": {
        "ExecuteTime": {
          "end_time": "2021-01-15T08:34:47.889439Z",
          "start_time": "2021-01-15T08:34:47.883802Z"
        },
        "slideshow": {
          "slide_type": "-"
        }
      },
      "outputs": [],
      "source": [
        "id(ss), id(sss)"
      ],
      "id": "9fc6e947"
    },
    {
      "cell_type": "code",
      "execution_count": 130,
      "metadata": {
        "ExecuteTime": {
          "end_time": "2021-01-15T08:34:48.385040Z",
          "start_time": "2021-01-15T08:34:48.380259Z"
        },
        "slideshow": {
          "slide_type": "-"
        }
      },
      "outputs": [],
      "source": [
        "ss is sss"
      ],
      "id": "e5048f9d"
    },
    {
      "cell_type": "code",
      "execution_count": 131,
      "metadata": {},
      "outputs": [],
      "source": [
        "help('is')"
      ],
      "id": "31400b42"
    },
    {
      "cell_type": "markdown",
      "metadata": {},
      "source": [
        "## About assigments\n",
        "\n",
        "-   Python never copies an object\n",
        "-   Unless you ask him to\n",
        "\n",
        "When you code\n",
        "\n",
        "``` python\n",
        "x = [1, 2, 3]\n",
        "y = x\n",
        "```\n",
        "\n",
        "you just - **bind** the variable name `x` to a list `[1, 2, 3]` - give\n",
        "another name `y` to the same object\n",
        "\n",
        "**Important remarks**\n",
        "\n",
        "-   **Everything** is an object in Python\n",
        "-   Either **immutable** or **mutable**"
      ],
      "id": "430f2585-916a-48b7-81f8-25539accb8db"
    },
    {
      "cell_type": "code",
      "execution_count": 132,
      "metadata": {
        "ExecuteTime": {
          "end_time": "2021-01-15T08:34:48.640520Z",
          "start_time": "2021-01-15T08:34:48.635298Z"
        }
      },
      "outputs": [],
      "source": [
        "id(1), id(1+1), id(2)"
      ],
      "id": "68dd942f"
    },
    {
      "cell_type": "markdown",
      "metadata": {},
      "source": [
        "**A `list` is mutable**"
      ],
      "id": "734d9ede-9e8b-4955-a709-ce6e769eb626"
    },
    {
      "cell_type": "code",
      "execution_count": 133,
      "metadata": {
        "ExecuteTime": {
          "end_time": "2021-01-15T08:34:48.849673Z",
          "start_time": "2021-01-15T08:34:48.845469Z"
        },
        "slideshow": {
          "slide_type": "-"
        }
      },
      "outputs": [],
      "source": [
        "x = [1, 2, 3]\n",
        "print(id(x), x)\n",
        "x[0] += 42; x.append(3.14)\n",
        "print(id(x), x)"
      ],
      "id": "ccf2c8eb"
    },
    {
      "cell_type": "markdown",
      "metadata": {},
      "source": [
        "**A `str` is immutable**\n",
        "\n",
        "In order to “change” an **immutable** object, Python creates a new one"
      ],
      "id": "feefd816-bef5-4a82-a6db-5f9a6d168272"
    },
    {
      "cell_type": "code",
      "execution_count": 134,
      "metadata": {
        "ExecuteTime": {
          "end_time": "2021-01-15T08:34:48.989090Z",
          "start_time": "2021-01-15T08:34:48.984655Z"
        }
      },
      "outputs": [],
      "source": [
        "s = 'to'\n",
        "print(id(s), s)\n",
        "s += 'to'\n",
        "print(id(s), s)"
      ],
      "id": "4e402248"
    },
    {
      "cell_type": "markdown",
      "metadata": {},
      "source": [
        "**Once again, a `list` is mutable**"
      ],
      "id": "70df526d-1d71-428e-94b7-3a426c5f245c"
    },
    {
      "cell_type": "code",
      "execution_count": 135,
      "metadata": {
        "ExecuteTime": {
          "end_time": "2021-01-15T08:34:49.185045Z",
          "start_time": "2021-01-15T08:34:49.179743Z"
        },
        "slideshow": {
          "slide_type": "-"
        }
      },
      "outputs": [],
      "source": [
        "super_list = [3.14, (1, 2, 3), 'tintin']\n",
        "other_list = super_list\n",
        "id(other_list), id(super_list)"
      ],
      "id": "9cba9f40"
    },
    {
      "cell_type": "markdown",
      "metadata": {},
      "source": [
        "-   `other_list` and `super_list` are the same list\n",
        "-   If you change one, you change the other.\n",
        "-   `id` returns the identity of an object. Two objects with the same\n",
        "    idendity are the same (not only the same type, but the same\n",
        "    instance)"
      ],
      "id": "3c6ba174-0903-474e-98f8-c02955d9e6c3"
    },
    {
      "cell_type": "code",
      "execution_count": 136,
      "metadata": {
        "ExecuteTime": {
          "end_time": "2021-01-15T08:34:49.490066Z",
          "start_time": "2021-01-15T08:34:49.483598Z"
        }
      },
      "outputs": [],
      "source": [
        "other_list[1] = 'youps'\n",
        "other_list, super_list"
      ],
      "id": "4f8f85ff"
    },
    {
      "cell_type": "code",
      "execution_count": 137,
      "metadata": {},
      "outputs": [],
      "source": [
        "id(super_list), id(other_list)"
      ],
      "id": "98f8a887"
    },
    {
      "cell_type": "markdown",
      "metadata": {},
      "source": [
        "## If you want a copy, to need to ask for one"
      ],
      "id": "1963616f-5390-4d1f-a349-279302ce0437"
    },
    {
      "cell_type": "code",
      "execution_count": 138,
      "metadata": {
        "ExecuteTime": {
          "end_time": "2021-01-15T08:34:49.810775Z",
          "start_time": "2021-01-15T08:34:49.804825Z"
        }
      },
      "outputs": [],
      "source": [
        "other_list = super_list.copy()\n",
        "id(other_list), id(super_list)"
      ],
      "id": "10ea26d2"
    },
    {
      "cell_type": "code",
      "execution_count": 139,
      "metadata": {
        "ExecuteTime": {
          "end_time": "2021-01-15T08:34:50.044319Z",
          "start_time": "2021-01-15T08:34:50.038631Z"
        }
      },
      "outputs": [],
      "source": [
        "other_list[1] = 'copy'\n",
        "other_list, super_list"
      ],
      "id": "0f865292"
    },
    {
      "cell_type": "markdown",
      "metadata": {},
      "source": [
        "Only `other_list` is modified.\n",
        "\n",
        "But… what if you have a `list` of `list` ? (or a mutable object\n",
        "containing mutable objects)"
      ],
      "id": "1566dcaf-deae-4d07-a4b1-ec621a408ff6"
    },
    {
      "cell_type": "code",
      "execution_count": 140,
      "metadata": {
        "ExecuteTime": {
          "end_time": "2021-01-15T08:34:50.522523Z",
          "start_time": "2021-01-15T08:34:50.515916Z"
        },
        "slideshow": {
          "slide_type": "fragment"
        }
      },
      "outputs": [],
      "source": [
        "l1, l2 = [1, 2, 3], [4, 5, 6]\n",
        "list_list = [l1, l2]\n",
        "list_list"
      ],
      "id": "e7db3462"
    },
    {
      "cell_type": "code",
      "execution_count": 141,
      "metadata": {},
      "outputs": [],
      "source": [
        "id(list_list), id(list_list[0]), id(l1), list_list[0] is l1"
      ],
      "id": "5acb96d8"
    },
    {
      "cell_type": "markdown",
      "metadata": {},
      "source": [
        "Let’s make a copy of `list_list`"
      ],
      "id": "344bf120-a6e8-4adb-8151-4ea86371852e"
    },
    {
      "cell_type": "code",
      "execution_count": 142,
      "metadata": {
        "ExecuteTime": {
          "end_time": "2021-01-15T08:34:50.900506Z",
          "start_time": "2021-01-15T08:34:50.894593Z"
        }
      },
      "outputs": [],
      "source": [
        "copy_list = list_list.copy()\n",
        "copy_list.append('super')\n",
        "list_list, copy_list"
      ],
      "id": "c93ec662"
    },
    {
      "cell_type": "code",
      "execution_count": 143,
      "metadata": {},
      "outputs": [],
      "source": [
        "id(list_list[0]), id(copy_list[0])"
      ],
      "id": "a78819c2"
    },
    {
      "cell_type": "markdown",
      "metadata": {},
      "source": [
        "OK, only `copy_list` is modified, as expected\n",
        "\n",
        "But now…"
      ],
      "id": "1b5ac06f-5f9f-487c-ae02-ccc5c2014cfd"
    },
    {
      "cell_type": "code",
      "execution_count": 144,
      "metadata": {
        "ExecuteTime": {
          "end_time": "2021-01-15T08:34:51.550226Z",
          "start_time": "2021-01-15T08:34:51.545049Z"
        }
      },
      "outputs": [],
      "source": [
        "copy_list[0][1] = 'oups'\n",
        "copy_list, list_list"
      ],
      "id": "f3641fff"
    },
    {
      "cell_type": "markdown",
      "metadata": {},
      "source": [
        "**Question.** What happened ?!?\n",
        "\n",
        "-   The `list_list` object is copied\n",
        "-   But NOT what it’s containing !\n",
        "-   By default `copy` does a *shallow* copy, not a *deep* copy\n",
        "-   It does not build copies of what is contained\n",
        "-   If you want to copy an object and all that is contained in it, you\n",
        "    need to use `deepcopy`."
      ],
      "id": "214ba13e-9dde-4f67-b99d-0e613878fc3c"
    },
    {
      "cell_type": "code",
      "execution_count": 145,
      "metadata": {
        "ExecuteTime": {
          "end_time": "2021-01-15T08:34:52.242785Z",
          "start_time": "2021-01-15T08:34:52.236814Z"
        }
      },
      "outputs": [],
      "source": [
        "from copy import deepcopy\n",
        "\n",
        "copy_list = deepcopy(list_list)\n",
        "copy_list[0][1] = 'incredible !'\n",
        "list_list, copy_list"
      ],
      "id": "51edf754"
    },
    {
      "cell_type": "markdown",
      "metadata": {},
      "source": [
        "## Final remarks"
      ],
      "id": "c09e347f-0581-4073-97a2-a463d7b37ae8"
    },
    {
      "cell_type": "code",
      "execution_count": 146,
      "metadata": {
        "ExecuteTime": {
          "end_time": "2021-01-15T08:34:52.389405Z",
          "start_time": "2021-01-15T08:34:52.384515Z"
        }
      },
      "outputs": [],
      "source": [
        "tt = ([1, 2, 3], [4, 5, 6])\n",
        "print(id(tt), tt)\n",
        "print(list(map(id, tt)))"
      ],
      "id": "d88e7252"
    },
    {
      "cell_type": "code",
      "execution_count": 147,
      "metadata": {
        "ExecuteTime": {
          "end_time": "2021-01-15T08:34:52.490073Z",
          "start_time": "2021-01-15T08:34:52.483857Z"
        }
      },
      "outputs": [],
      "source": [
        "tt[0][1] = '42'\n",
        "print(id(tt), tt)\n",
        "print(list(map(id, tt)))"
      ],
      "id": "8ed1ae03"
    },
    {
      "cell_type": "code",
      "execution_count": 148,
      "metadata": {},
      "outputs": [],
      "source": [
        "s = [1, 2, 3]"
      ],
      "id": "c4d43f13"
    },
    {
      "cell_type": "code",
      "execution_count": 149,
      "metadata": {},
      "outputs": [],
      "source": [
        "s2 = s"
      ],
      "id": "9535ac6b"
    },
    {
      "cell_type": "code",
      "execution_count": 150,
      "metadata": {},
      "outputs": [],
      "source": [
        "s2 is s"
      ],
      "id": "e96fce85"
    },
    {
      "cell_type": "code",
      "execution_count": 151,
      "metadata": {},
      "outputs": [],
      "source": [
        "id(s2), id(s)"
      ],
      "id": "abec78a1"
    },
    {
      "cell_type": "markdown",
      "metadata": {},
      "source": [
        "# Control flow and other stuff…\n",
        "\n",
        "Namely tests, loops, again booleans, etc."
      ],
      "id": "de8e04ec-dcd6-491a-9687-0b571f9352e0"
    },
    {
      "cell_type": "code",
      "execution_count": 152,
      "metadata": {
        "ExecuteTime": {
          "end_time": "2021-01-15T08:34:52.822274Z",
          "start_time": "2021-01-15T08:34:52.818018Z"
        },
        "slideshow": {
          "slide_type": "subslide"
        }
      },
      "outputs": [],
      "source": [
        "if 2 ** 2 == 5:\n",
        "    print('Obvious')\n",
        "else:\n",
        "    print('YES')\n",
        "print('toujours')"
      ],
      "id": "6f668230"
    },
    {
      "cell_type": "markdown",
      "metadata": {},
      "source": [
        "## Blocks are delimited by indentation!"
      ],
      "id": "1f4481fb-a0a1-4b5b-acc6-f2fc40b76f15"
    },
    {
      "cell_type": "code",
      "execution_count": 153,
      "metadata": {
        "ExecuteTime": {
          "end_time": "2021-01-15T08:34:53.244482Z",
          "start_time": "2021-01-15T08:34:53.240054Z"
        }
      },
      "outputs": [],
      "source": [
        "a = 3\n",
        "if a > 0:\n",
        "    if a == 1:\n",
        "        print(1)\n",
        "    elif a == 2:\n",
        "        print(2)\n",
        "elif a == 2:\n",
        "    print(2)\n",
        "elif a == 3:\n",
        "    print(3)\n",
        "else:\n",
        "    print(a)"
      ],
      "id": "0385e79b"
    },
    {
      "cell_type": "markdown",
      "metadata": {},
      "source": [
        "## Anything can be understood as a boolean\n",
        "\n",
        "For example, don’t do this to test if a list is empty"
      ],
      "id": "441d2022-320e-49b2-b68a-c289e6b658fb"
    },
    {
      "cell_type": "code",
      "execution_count": 154,
      "metadata": {
        "ExecuteTime": {
          "end_time": "2021-01-15T08:34:53.660533Z",
          "start_time": "2021-01-15T08:34:53.655820Z"
        }
      },
      "outputs": [],
      "source": [
        "l2 = ['hello', 'everybody']\n",
        "\n",
        "if len(l2) > 0:\n",
        "    print(l2[0])"
      ],
      "id": "de8aeea8"
    },
    {
      "cell_type": "markdown",
      "metadata": {},
      "source": [
        "but this"
      ],
      "id": "ec586434-1937-4927-9ddb-8e854054ea28"
    },
    {
      "cell_type": "code",
      "execution_count": 155,
      "metadata": {
        "ExecuteTime": {
          "end_time": "2021-01-15T08:34:54.244191Z",
          "start_time": "2021-01-15T08:34:54.239801Z"
        }
      },
      "outputs": [],
      "source": [
        "if l2:\n",
        "    print(l2[0])"
      ],
      "id": "c4d8a512"
    },
    {
      "cell_type": "markdown",
      "metadata": {},
      "source": [
        "**Some poetry**\n",
        "\n",
        "-   An empty `dict` is `False`\n",
        "-   An empty `string` is `False`\n",
        "-   An empty `list` is `False`\n",
        "-   An empty `tuple` is `False`\n",
        "-   An empty `set` is `False`\n",
        "-   `0` is `False`\n",
        "-   `.0` is `False`\n",
        "-   etc…\n",
        "-   everything else is `True`\n",
        "\n",
        "## While loops"
      ],
      "id": "769c21b8-c5e7-46fe-9402-79f0780863b6"
    },
    {
      "cell_type": "code",
      "execution_count": 156,
      "metadata": {
        "ExecuteTime": {
          "end_time": "2021-01-15T08:34:55.427330Z",
          "start_time": "2021-01-15T08:34:55.422079Z"
        }
      },
      "outputs": [],
      "source": [
        "a = 10\n",
        "b = 1\n",
        "while b < a:\n",
        "    b = b + 1\n",
        "    print(b)"
      ],
      "id": "e24a9964"
    },
    {
      "cell_type": "markdown",
      "metadata": {},
      "source": [
        "Compute the decimals of Pi using the Wallis formula\n",
        "\n",
        "$$\n",
        "\\pi = 2 \\prod_{i=1}^{100} \\frac{4i^2}{4i^2 - 1}\n",
        "$$"
      ],
      "id": "11a7ba1a-8b3d-4cdb-8fb2-8d99ab299df1"
    },
    {
      "cell_type": "code",
      "execution_count": 157,
      "metadata": {
        "ExecuteTime": {
          "end_time": "2021-01-15T08:34:55.901297Z",
          "start_time": "2021-01-15T08:34:55.815952Z"
        }
      },
      "outputs": [],
      "source": [
        "pi = 2\n",
        "eps = 1e-10\n",
        "dif = 2 * eps\n",
        "i = 1\n",
        "while dif > eps:\n",
        "    pi, i, old_pi = pi * 4 * i ** 2 / (4 * i ** 2 - 1), i + 1, pi\n",
        "    dif = pi - old_pi"
      ],
      "id": "f8553f9a"
    },
    {
      "cell_type": "code",
      "execution_count": 158,
      "metadata": {
        "ExecuteTime": {
          "end_time": "2021-01-15T08:34:55.998039Z",
          "start_time": "2021-01-15T08:34:55.993033Z"
        }
      },
      "outputs": [],
      "source": [
        "pi"
      ],
      "id": "5ab7c6df"
    },
    {
      "cell_type": "code",
      "execution_count": 159,
      "metadata": {
        "ExecuteTime": {
          "end_time": "2021-01-15T08:34:56.672400Z",
          "start_time": "2021-01-15T08:34:56.667181Z"
        }
      },
      "outputs": [],
      "source": [
        "from math import pi\n",
        "\n",
        "pi"
      ],
      "id": "c89c6689"
    },
    {
      "cell_type": "markdown",
      "metadata": {},
      "source": [
        "## `for` loop with `range`\n",
        "\n",
        "-   Iteration with an index, with a list, with many things !\n",
        "-   `range` has the same parameters as with slicing `start:end:stride`,\n",
        "    all parameters being optional"
      ],
      "id": "d7efa42d-0fb8-4a0c-a0b7-1902f3a49a4f"
    },
    {
      "cell_type": "code",
      "execution_count": 160,
      "metadata": {
        "ExecuteTime": {
          "end_time": "2021-01-15T08:34:57.074626Z",
          "start_time": "2021-01-15T08:34:57.068953Z"
        }
      },
      "outputs": [],
      "source": [
        "for i in range(10):\n",
        "    print(i)"
      ],
      "id": "5650047a"
    },
    {
      "cell_type": "code",
      "execution_count": 161,
      "metadata": {
        "ExecuteTime": {
          "end_time": "2021-01-15T08:34:57.288732Z",
          "start_time": "2021-01-15T08:34:57.283152Z"
        },
        "slideshow": {
          "slide_type": "subslide"
        }
      },
      "outputs": [],
      "source": [
        "for i in range(4):\n",
        "    print(i + 1)\n",
        "print('-')\n",
        "\n",
        "for i in range(1, 5):\n",
        "    print(i)\n",
        "print('-')\n",
        "\n",
        "for i in range(1, 10, 3):\n",
        "    print(i)"
      ],
      "id": "10f979bb"
    },
    {
      "cell_type": "markdown",
      "metadata": {},
      "source": [
        "**Something for nerds**. You can use `else` in a `for` loop"
      ],
      "id": "3533e024-9871-4339-827c-ea259bb05fed"
    },
    {
      "cell_type": "code",
      "execution_count": 162,
      "metadata": {
        "ExecuteTime": {
          "end_time": "2021-01-15T08:35:03.792632Z",
          "start_time": "2021-01-15T08:35:03.788211Z"
        }
      },
      "outputs": [],
      "source": [
        "names = ['stephane', 'mokhtar', 'jaouad', 'simon', 'yiyang']\n",
        "\n",
        "for name in names:\n",
        "    if name.startswith('u'):\n",
        "        print(name)\n",
        "        break\n",
        "else:\n",
        "    print('Not found.')"
      ],
      "id": "9e239f28"
    },
    {
      "cell_type": "code",
      "execution_count": 163,
      "metadata": {
        "ExecuteTime": {
          "end_time": "2021-01-15T08:35:11.089072Z",
          "start_time": "2021-01-15T08:35:11.084070Z"
        }
      },
      "outputs": [],
      "source": [
        "names = ['stephane', 'mokhtar', 'jaouad', 'ulysse', 'simon', 'yiyang']\n",
        "\n",
        "for name in names:\n",
        "    if name.startswith('u'):\n",
        "        print(name)\n",
        "        break\n",
        "else:\n",
        "    print('Not found.')"
      ],
      "id": "0d303640"
    },
    {
      "cell_type": "markdown",
      "metadata": {},
      "source": [
        "## For loops over iterable objects\n",
        "\n",
        "You can iterate using `for` over any container: `list`, `tuple`, `dict`,\n",
        "`str`, `set` among others…"
      ],
      "id": "2985fdab-db9a-4d69-be91-c0a471e7814a"
    },
    {
      "cell_type": "code",
      "execution_count": 164,
      "metadata": {
        "ExecuteTime": {
          "end_time": "2021-01-15T08:35:14.358404Z",
          "start_time": "2021-01-15T08:35:14.354354Z"
        }
      },
      "outputs": [],
      "source": [
        "colors = ['red', 'blue', 'black', 'white']\n",
        "peoples = ['stephane', 'jaouad', 'mokhtar', 'yiyang', 'rémi']"
      ],
      "id": "3a682dbb"
    },
    {
      "cell_type": "code",
      "execution_count": 165,
      "metadata": {
        "ExecuteTime": {
          "end_time": "2021-01-15T08:35:14.546348Z",
          "start_time": "2021-01-15T08:35:14.541964Z"
        }
      },
      "outputs": [],
      "source": [
        "# This is stupid\n",
        "for i in range(len(colors)):\n",
        "    print(colors[i])\n",
        "    \n",
        "# This is better\n",
        "for color in colors:\n",
        "    print(color)"
      ],
      "id": "fcd75709"
    },
    {
      "cell_type": "markdown",
      "metadata": {},
      "source": [
        "To iterate over several sequences at the same time, use `zip`"
      ],
      "id": "dca809ca-8b69-4ac7-b13e-6cd6bf259a7d"
    },
    {
      "cell_type": "code",
      "execution_count": 166,
      "metadata": {
        "ExecuteTime": {
          "end_time": "2021-01-15T08:35:15.578703Z",
          "start_time": "2021-01-15T08:35:15.574575Z"
        }
      },
      "outputs": [],
      "source": [
        "for color, people in zip(colors, peoples):\n",
        "    print(color, people)"
      ],
      "id": "e235314c"
    },
    {
      "cell_type": "code",
      "execution_count": 167,
      "metadata": {
        "ExecuteTime": {
          "end_time": "2021-01-15T08:35:15.787784Z",
          "start_time": "2021-01-15T08:35:15.781691Z"
        },
        "slideshow": {
          "slide_type": "fragment"
        }
      },
      "outputs": [],
      "source": [
        "l = [\"Bonjour\", {'francis': 5214, 'stephane': 5123}, ('truc', 3)]\n",
        "for e in l:\n",
        "    print(e, len(e))"
      ],
      "id": "22f00cf1"
    },
    {
      "cell_type": "markdown",
      "metadata": {},
      "source": [
        "**Loop over a `str`**"
      ],
      "id": "dcc7781c-0763-4c8c-af9e-da417656cc64"
    },
    {
      "cell_type": "code",
      "execution_count": 168,
      "metadata": {
        "ExecuteTime": {
          "end_time": "2021-01-15T08:35:16.284944Z",
          "start_time": "2021-01-15T08:35:16.279583Z"
        }
      },
      "outputs": [],
      "source": [
        "s = 'Bonjour'\n",
        "for c in s:\n",
        "    print(c)"
      ],
      "id": "0dd4438d"
    },
    {
      "cell_type": "markdown",
      "metadata": {},
      "source": [
        "**Loop over a `dict`**"
      ],
      "id": "ac2bffdb-29fe-4ddd-9e18-858d87fe3b13"
    },
    {
      "cell_type": "code",
      "execution_count": 169,
      "metadata": {
        "ExecuteTime": {
          "end_time": "2021-01-15T08:35:24.915816Z",
          "start_time": "2021-01-15T08:35:24.910552Z"
        }
      },
      "outputs": [],
      "source": [
        "dd = {(1, 3): {'hello', 'world'}, 'truc': [1, 2, 3], 5: (1, 4, 2)}\n",
        "\n",
        "# Default is to loop over keys\n",
        "for key in dd:\n",
        "    print(key)"
      ],
      "id": "80bc0d89"
    },
    {
      "cell_type": "code",
      "execution_count": 170,
      "metadata": {
        "ExecuteTime": {
          "end_time": "2021-01-15T08:35:25.116664Z",
          "start_time": "2021-01-15T08:35:25.112459Z"
        }
      },
      "outputs": [],
      "source": [
        "# Loop over values\n",
        "for e in dd.values():\n",
        "    print(e)"
      ],
      "id": "f882ac3a"
    },
    {
      "cell_type": "code",
      "execution_count": 171,
      "metadata": {
        "ExecuteTime": {
          "end_time": "2021-01-15T08:35:25.253625Z",
          "start_time": "2021-01-15T08:35:25.248561Z"
        }
      },
      "outputs": [],
      "source": [
        "# Loop over items (key, value) pairs\n",
        "for key, val in dd.items():\n",
        "    print(key, val)"
      ],
      "id": "679d7909"
    },
    {
      "cell_type": "code",
      "execution_count": 172,
      "metadata": {},
      "outputs": [],
      "source": [
        "for t in dd.items():\n",
        "    print(t)"
      ],
      "id": "458f0a07"
    },
    {
      "cell_type": "markdown",
      "metadata": {},
      "source": [
        "## Comprehensions\n",
        "\n",
        "You can construct a `list`, `dict`, `set` and others using the\n",
        "**comprehension** syntax\n",
        "\n",
        "**`list` comprehension**"
      ],
      "id": "88538dba-e010-4b5d-b59c-34f71cb62c45"
    },
    {
      "cell_type": "code",
      "execution_count": 173,
      "metadata": {
        "ExecuteTime": {
          "end_time": "2021-01-15T08:35:27.023136Z",
          "start_time": "2021-01-15T08:35:27.016816Z"
        }
      },
      "outputs": [],
      "source": [
        "print(colors)\n",
        "print(peoples)"
      ],
      "id": "13bd7f40"
    },
    {
      "cell_type": "code",
      "execution_count": 174,
      "metadata": {},
      "outputs": [],
      "source": [
        "l = []\n",
        "for p, c in zip(peoples, colors):\n",
        "    if len(c)<=4 :\n",
        "        l.append(p)\n",
        "print(l)"
      ],
      "id": "05196b31"
    },
    {
      "cell_type": "code",
      "execution_count": 175,
      "metadata": {},
      "outputs": [],
      "source": [
        "# The list of people with favorite color that has no more than 4 characters\n",
        "\n",
        "[people for color, people in zip(colors, peoples) if len(color) <= 4]"
      ],
      "id": "5c5b5976"
    },
    {
      "cell_type": "markdown",
      "metadata": {},
      "source": [
        "**`dict` comprehension**"
      ],
      "id": "3eb4f424-52e7-4748-afc6-ccba7adaced6"
    },
    {
      "cell_type": "code",
      "execution_count": 176,
      "metadata": {
        "ExecuteTime": {
          "end_time": "2021-01-15T08:35:29.425720Z",
          "start_time": "2021-01-15T08:35:29.418729Z"
        }
      },
      "outputs": [],
      "source": [
        "{people: color for color, people in zip(colors, peoples) if len(color) <= 4}"
      ],
      "id": "fb5bd240"
    },
    {
      "cell_type": "code",
      "execution_count": 177,
      "metadata": {
        "ExecuteTime": {
          "end_time": "2021-01-15T08:35:29.650791Z",
          "start_time": "2021-01-15T08:35:29.645099Z"
        },
        "slideshow": {
          "slide_type": "fragment"
        }
      },
      "outputs": [],
      "source": [
        "# Allows to build a dict from two lists (for keys and values)\n",
        "{key: value for (key, value) in zip(peoples, colors)}"
      ],
      "id": "775e9ee7"
    },
    {
      "cell_type": "code",
      "execution_count": 178,
      "metadata": {
        "ExecuteTime": {
          "end_time": "2021-01-15T08:35:29.733037Z",
          "start_time": "2021-01-15T08:35:29.728275Z"
        }
      },
      "outputs": [],
      "source": [
        "# But it's simpler (so better) to use\n",
        "dict(zip(peoples, colors))"
      ],
      "id": "0395ac16"
    },
    {
      "cell_type": "markdown",
      "metadata": {},
      "source": [
        "Something very convenient is `enumerate`"
      ],
      "id": "ccc990be-c531-4740-bd41-cb50210c1973"
    },
    {
      "cell_type": "code",
      "execution_count": 179,
      "metadata": {
        "ExecuteTime": {
          "end_time": "2021-01-15T08:35:34.108535Z",
          "start_time": "2021-01-15T08:35:34.101660Z"
        }
      },
      "outputs": [],
      "source": [
        "for i, color in enumerate(colors):\n",
        "    print(i, color)"
      ],
      "id": "21bc80b2"
    },
    {
      "cell_type": "code",
      "execution_count": 180,
      "metadata": {
        "ExecuteTime": {
          "end_time": "2021-01-15T08:35:34.308091Z",
          "start_time": "2021-01-15T08:35:34.302386Z"
        }
      },
      "outputs": [],
      "source": [
        "list(enumerate(colors))"
      ],
      "id": "8f1c2d62"
    },
    {
      "cell_type": "code",
      "execution_count": 181,
      "metadata": {},
      "outputs": [],
      "source": [
        "dict(enumerate(s))"
      ],
      "id": "70cbdab1"
    },
    {
      "cell_type": "code",
      "execution_count": 182,
      "metadata": {
        "ExecuteTime": {
          "end_time": "2021-01-15T08:35:34.436719Z",
          "start_time": "2021-01-15T08:35:34.432315Z"
        },
        "slideshow": {
          "slide_type": "fragment"
        }
      },
      "outputs": [],
      "source": [
        "print(dict(enumerate(s)))"
      ],
      "id": "e9dbdccc"
    },
    {
      "cell_type": "code",
      "execution_count": 183,
      "metadata": {
        "ExecuteTime": {
          "end_time": "2021-01-15T08:35:35.307514Z",
          "start_time": "2021-01-15T08:35:35.302402Z"
        }
      },
      "outputs": [],
      "source": [
        "s = 'Hey everyone'\n",
        "{c: i for i, c in enumerate(s)}"
      ],
      "id": "81fa77d7"
    },
    {
      "cell_type": "markdown",
      "metadata": {},
      "source": [
        "## About functional programming\n",
        "\n",
        "We can use `lambda` to define **anonymous** functions, and use them in\n",
        "the `map` and `reduce` functions"
      ],
      "id": "2c8d3bb8-c8d6-4981-a4bc-fc18b3c51bc8"
    },
    {
      "cell_type": "code",
      "execution_count": 184,
      "metadata": {
        "ExecuteTime": {
          "end_time": "2021-01-15T08:35:37.077273Z",
          "start_time": "2021-01-15T08:35:37.071704Z"
        }
      },
      "outputs": [],
      "source": [
        "square = lambda x: x ** 2\n",
        "square(2)"
      ],
      "id": "ce6b2124"
    },
    {
      "cell_type": "code",
      "execution_count": 185,
      "metadata": {},
      "outputs": [],
      "source": [
        "type(square)"
      ],
      "id": "78d7f849"
    },
    {
      "cell_type": "code",
      "execution_count": 186,
      "metadata": {},
      "outputs": [],
      "source": [
        "dir(square)"
      ],
      "id": "71b62e98"
    },
    {
      "cell_type": "code",
      "execution_count": 187,
      "metadata": {},
      "outputs": [],
      "source": [
        "s = \"a\""
      ],
      "id": "e2f3dd76"
    },
    {
      "cell_type": "code",
      "execution_count": 188,
      "metadata": {},
      "outputs": [],
      "source": [
        "try:\n",
        "    square(\"a\")\n",
        "except TypeError:\n",
        "    print(\"TypeError: unsupported operand type(s) for ** or pow(): 'str' and 'int'\")"
      ],
      "id": "c91a1102"
    },
    {
      "cell_type": "code",
      "execution_count": 189,
      "metadata": {
        "ExecuteTime": {
          "end_time": "2021-01-15T08:35:37.269771Z",
          "start_time": "2021-01-15T08:35:37.265389Z"
        }
      },
      "outputs": [],
      "source": [
        "sum2 = lambda a, b: a + b\n",
        "print(sum2('Hello', ' world'))\n",
        "print(sum2(1, 2))"
      ],
      "id": "866695a9"
    },
    {
      "cell_type": "markdown",
      "metadata": {},
      "source": [
        "Intended for short and one-line function.\n",
        "\n",
        "More complex functions use `def` (see below)\n",
        "\n",
        "## Exercise\n",
        "\n",
        "Print the squares of even numbers between 0 et 15\n",
        "\n",
        "1.  Using a list comprehension as before\n",
        "2.  Using `map`\n",
        "\n",
        "## Brain-teasing\n",
        "\n",
        "What is the output of"
      ],
      "id": "36432e69-8cdf-4c52-aa40-87b0b239b6b4"
    },
    {
      "cell_type": "code",
      "execution_count": 196,
      "metadata": {},
      "outputs": [],
      "source": [
        "reduce(lambda a, b: a + b[0] * b[1], enumerate('abcde'), 'A')"
      ],
      "id": "95bb556b"
    },
    {
      "cell_type": "markdown",
      "metadata": {},
      "source": [
        "# Generators"
      ],
      "id": "059aaab1-3633-4035-82a0-56f4944aa444"
    },
    {
      "cell_type": "code",
      "execution_count": 200,
      "metadata": {
        "ExecuteTime": {
          "end_time": "2021-01-15T08:36:00.984160Z",
          "start_time": "2021-01-15T08:36:00.402833Z"
        },
        "slideshow": {
          "slide_type": "subslide"
        }
      },
      "outputs": [],
      "source": [
        "import sys\n",
        "import matplotlib.pyplot as plt\n",
        "%matplotlib inline"
      ],
      "id": "5e9f64f7"
    },
    {
      "cell_type": "code",
      "execution_count": 201,
      "metadata": {},
      "outputs": [],
      "source": [
        "plt.figure(figsize=(6, 6))\n",
        "plt.plot([sys.getsizeof(list(range(i))) for i in range(10000)], lw=3)\n",
        "plt.plot([sys.getsizeof(range(i)) for i in range(10000)], lw=3)\n",
        "plt.xlabel('Number of elements (value of i)', fontsize=14)\n",
        "plt.ylabel('Size (in bytes)', fontsize=14)\n",
        "_ = plt.legend(['list(range(i))', 'range(i)'], fontsize=16)"
      ],
      "id": "2395de4f"
    },
    {
      "cell_type": "markdown",
      "metadata": {},
      "source": [
        "## Why generators ?\n",
        "\n",
        "The memory used by `range(i)` does not scale linearly with `i`\n",
        "\n",
        "What is happening ?\n",
        "\n",
        "-   `range(n)` does not allocate a list of `n` elements !\n",
        "-   It **generates on the fly** the list of required integers\n",
        "-   We say that such an object behaves like a **generator** in `Python`\n",
        "-   Many things in the `Python` standard library behaves like this\n",
        "\n",
        "**Warning.** Getting the real memory footprint of a `Python` object is\n",
        "difficult. Note that `sizeof` calls the `__sizeof__` method of `r`,\n",
        "which does not give in general the actual memory used by an object. But\n",
        "nevermind here.\n",
        "\n",
        "The following computation has no memory footprint:"
      ],
      "id": "d6d34ce1-3885-445c-8d81-c4418cb571ca"
    },
    {
      "cell_type": "code",
      "execution_count": 202,
      "metadata": {
        "ExecuteTime": {
          "end_time": "2021-01-15T08:36:17.535131Z",
          "start_time": "2021-01-15T08:36:16.258179Z"
        },
        "slideshow": {
          "slide_type": "-"
        }
      },
      "outputs": [],
      "source": [
        "sum(range(10**8))"
      ],
      "id": "0d390a56"
    },
    {
      "cell_type": "code",
      "execution_count": 203,
      "metadata": {
        "ExecuteTime": {
          "end_time": "2021-01-15T08:36:17.541785Z",
          "start_time": "2021-01-15T08:36:17.537229Z"
        }
      },
      "outputs": [],
      "source": [
        "map(lambda x: x**2, range(10**7))"
      ],
      "id": "000de0ef"
    },
    {
      "cell_type": "markdown",
      "metadata": {},
      "source": [
        "`map` does not return a `list` for the same reason"
      ],
      "id": "9e124684-c0b0-4fbd-969c-f64865d3004a"
    },
    {
      "cell_type": "code",
      "execution_count": 204,
      "metadata": {
        "ExecuteTime": {
          "end_time": "2021-01-15T08:36:17.817857Z",
          "start_time": "2021-01-15T08:36:17.544451Z"
        }
      },
      "outputs": [],
      "source": [
        "sum(map(lambda x: x**2, range(10**6)))"
      ],
      "id": "ef780394"
    },
    {
      "cell_type": "markdown",
      "metadata": {},
      "source": [
        "## Generator expression\n",
        "\n",
        "Namely generators defined through comprehensions. Just replace `[]` by\n",
        "`()` in the comprehension.\n",
        "\n",
        "A generator can be iterated on only **once**"
      ],
      "id": "6c7014c1-6703-4103-be68-c5220523af50"
    },
    {
      "cell_type": "code",
      "execution_count": 205,
      "metadata": {},
      "outputs": [],
      "source": [
        "range(10)"
      ],
      "id": "4034cfc6"
    },
    {
      "cell_type": "code",
      "execution_count": 206,
      "metadata": {},
      "outputs": [],
      "source": [
        "carres = (i**2 for i in range(10))"
      ],
      "id": "c247759b"
    },
    {
      "cell_type": "code",
      "execution_count": 207,
      "metadata": {},
      "outputs": [],
      "source": [
        "carres"
      ],
      "id": "e70df56e"
    },
    {
      "cell_type": "code",
      "execution_count": 208,
      "metadata": {},
      "outputs": [],
      "source": [
        "for c in carres:\n",
        "    print(c)"
      ],
      "id": "a431c555"
    },
    {
      "cell_type": "code",
      "execution_count": 209,
      "metadata": {},
      "outputs": [],
      "source": [
        "for i in range(4):\n",
        "    for j in range(3):\n",
        "        print(i, j)"
      ],
      "id": "927e5329"
    },
    {
      "cell_type": "code",
      "execution_count": 210,
      "metadata": {},
      "outputs": [],
      "source": [
        "from itertools import product\n",
        "\n",
        "for t in product(range(4), range(3)):\n",
        "    print(t)"
      ],
      "id": "c4be4f9d"
    },
    {
      "cell_type": "code",
      "execution_count": 211,
      "metadata": {
        "ExecuteTime": {
          "end_time": "2021-01-15T08:36:19.688387Z",
          "start_time": "2021-01-15T08:36:19.683024Z"
        }
      },
      "outputs": [],
      "source": [
        "from itertools import product\n",
        "\n",
        "gene = (i + j for i, j in product(range(3), range(3)))\n",
        "gene"
      ],
      "id": "fd321b39"
    },
    {
      "cell_type": "code",
      "execution_count": 212,
      "metadata": {
        "ExecuteTime": {
          "end_time": "2021-01-15T08:36:19.886398Z",
          "start_time": "2021-01-15T08:36:19.879904Z"
        }
      },
      "outputs": [],
      "source": [
        "print(list(gene))\n",
        "print(list(gene))"
      ],
      "id": "40760c35"
    },
    {
      "cell_type": "markdown",
      "metadata": {},
      "source": [
        "## `yield`\n",
        "\n",
        "Something very powerful"
      ],
      "id": "222c7682-11a0-4b12-946f-eb348acbde9d"
    },
    {
      "cell_type": "code",
      "execution_count": 213,
      "metadata": {
        "ExecuteTime": {
          "end_time": "2021-01-15T08:36:21.518680Z",
          "start_time": "2021-01-15T08:36:21.514939Z"
        }
      },
      "outputs": [],
      "source": [
        "def startswith(words, letter):\n",
        "    for word in words:\n",
        "        if word.startswith(letter):\n",
        "            yield word"
      ],
      "id": "4d2397d2"
    },
    {
      "cell_type": "code",
      "execution_count": 214,
      "metadata": {
        "ExecuteTime": {
          "end_time": "2021-01-15T08:36:21.681758Z",
          "start_time": "2021-01-15T08:36:21.676154Z"
        }
      },
      "outputs": [],
      "source": [
        "words = [\n",
        "    'Python', \"is\", 'awesome', 'in', 'particular', 'generators', \n",
        "    'are', 'really', 'cool'\n",
        "]"
      ],
      "id": "a6eecbc8"
    },
    {
      "cell_type": "code",
      "execution_count": 215,
      "metadata": {},
      "outputs": [],
      "source": [
        "list(word for word in words if word.startswith(\"a\"))"
      ],
      "id": "74463067"
    },
    {
      "cell_type": "code",
      "execution_count": 216,
      "metadata": {},
      "outputs": [],
      "source": [
        "a = 2"
      ],
      "id": "e76a4b98"
    },
    {
      "cell_type": "code",
      "execution_count": 217,
      "metadata": {},
      "outputs": [],
      "source": [
        "float(a)"
      ],
      "id": "c4c8d109"
    },
    {
      "cell_type": "markdown",
      "metadata": {},
      "source": [
        "But also with a `for` loop"
      ],
      "id": "8fa7a8d4-17fc-45a8-87a7-4ce1706d4bde"
    },
    {
      "cell_type": "code",
      "execution_count": 218,
      "metadata": {
        "ExecuteTime": {
          "end_time": "2021-01-15T08:36:25.112354Z",
          "start_time": "2021-01-15T08:36:25.107107Z"
        }
      },
      "outputs": [],
      "source": [
        "for word in startswith(words, letter='a'):\n",
        "    print(word)"
      ],
      "id": "38119eba"
    },
    {
      "cell_type": "code",
      "execution_count": 219,
      "metadata": {},
      "outputs": [],
      "source": [
        "it = startswith(words, letter='a')"
      ],
      "id": "50cb5339"
    },
    {
      "cell_type": "code",
      "execution_count": 220,
      "metadata": {},
      "outputs": [],
      "source": [
        "type(it)"
      ],
      "id": "41a8dbfb"
    },
    {
      "cell_type": "code",
      "execution_count": 221,
      "metadata": {},
      "outputs": [],
      "source": [
        "next(it)"
      ],
      "id": "3ec05a23"
    },
    {
      "cell_type": "code",
      "execution_count": 222,
      "metadata": {},
      "outputs": [],
      "source": [
        "next(it)"
      ],
      "id": "a65e8f72"
    },
    {
      "cell_type": "code",
      "execution_count": 223,
      "metadata": {},
      "outputs": [],
      "source": [
        "try:\n",
        "    next(it)\n",
        "except StopIteration:\n",
        "    print(\"StopIteration exception!\")"
      ],
      "id": "ff21b9ee"
    },
    {
      "cell_type": "markdown",
      "metadata": {},
      "source": [
        "# A glimpse at the `collections` module\n",
        "\n",
        "(This is where the good stuff hides)"
      ],
      "id": "bb1f8dd3-05dc-4539-91c9-049c810897a6"
    },
    {
      "cell_type": "code",
      "execution_count": 224,
      "metadata": {
        "ExecuteTime": {
          "end_time": "2021-01-15T08:36:26.046700Z",
          "start_time": "2021-01-15T08:36:26.041712Z"
        },
        "slideshow": {
          "slide_type": "subslide"
        }
      },
      "outputs": [],
      "source": [
        "texte = \"\"\"             \n",
        "Bonjour,\n",
        "Python c'est super.\n",
        "Python ca a l'air quand même un peu compliqué.\n",
        "Mais bon, ca a l'air pratique.\n",
        "Peut-être que je pourrais m'en servir pour faire des trucs super.\n",
        "\"\"\"\n",
        "texte"
      ],
      "id": "8004d841"
    },
    {
      "cell_type": "code",
      "execution_count": 225,
      "metadata": {
        "ExecuteTime": {
          "end_time": "2021-01-15T08:36:28.485696Z",
          "start_time": "2021-01-15T08:36:28.481795Z"
        }
      },
      "outputs": [],
      "source": [
        "print(texte)"
      ],
      "id": "a6731be4"
    },
    {
      "cell_type": "code",
      "execution_count": 226,
      "metadata": {
        "ExecuteTime": {
          "end_time": "2021-01-15T08:36:28.891498Z",
          "start_time": "2021-01-15T08:36:28.886862Z"
        },
        "slideshow": {
          "slide_type": "subslide"
        }
      },
      "outputs": [],
      "source": [
        "# Some basic text preprocessing \n",
        "new_text = (\n",
        "    texte\n",
        "    .strip()\n",
        "    .replace('\\n', ' ')\n",
        "    .replace(',', ' ')\n",
        "    .replace('.', ' ')\n",
        "    .replace(\"'\", ' ')\n",
        ")\n",
        "\n",
        "print(new_text)\n",
        "print('-' * 8)\n",
        "\n",
        "words = new_text.split()\n",
        "print(words)"
      ],
      "id": "d91bc86b"
    },
    {
      "cell_type": "markdown",
      "metadata": {},
      "source": [
        "## Exercise\n",
        "\n",
        "Count the number of occurences of all the words in `words`.\n",
        "\n",
        "Output must be a dictionary containg `word: count`"
      ],
      "id": "856cf336-627e-427c-810a-cd1644ea11ed"
    },
    {
      "cell_type": "code",
      "execution_count": 227,
      "metadata": {
        "ExecuteTime": {
          "end_time": "2021-01-15T08:36:30.579563Z",
          "start_time": "2021-01-15T08:36:30.573645Z"
        }
      },
      "outputs": [],
      "source": [
        "print(words)"
      ],
      "id": "fcb464cb"
    },
    {
      "cell_type": "markdown",
      "metadata": {},
      "source": [
        "## Exercise\n",
        "\n",
        "Compute the number of occurences AND the length of each word in `words`.\n",
        "\n",
        "Output must be a dictionary containing `word: (count, length)`\n",
        "\n",
        "# I/O, reading and writing files\n",
        "\n",
        "Next, put a text file `miserables.txt` in the folder containing this\n",
        "notebook. If it is not there, the next cell downloads it, if is it\n",
        "there, then we do nothing."
      ],
      "id": "230ba442-28a1-4000-b68d-36b244d3985c"
    },
    {
      "cell_type": "code",
      "execution_count": 238,
      "metadata": {
        "ExecuteTime": {
          "end_time": "2021-01-15T09:18:44.977524Z",
          "start_time": "2021-01-15T09:18:44.691253Z"
        }
      },
      "outputs": [],
      "source": [
        "import requests\n",
        "import os\n",
        "\n",
        "# The path containing your notebook\n",
        "path_data = './'\n",
        "# The name of the file\n",
        "filename = 'miserables.txt'\n",
        "\n",
        "if os.path.exists(os.path.join(path_data, filename)):\n",
        "    print('The file %s already exists.' % os.path.join(path_data, filename))\n",
        "else:\n",
        "    url = 'https://stephanegaiffas.github.io/big_data_course/data/miserables.txt'\n",
        "    r = requests.get(url)\n",
        "    with open(os.path.join(path_data, filename), 'wb') as f:\n",
        "        f.write(r.content)\n",
        "    print('Downloaded file %s.' % os.path.join(path_data, filename))"
      ],
      "id": "f2d8a2f5"
    },
    {
      "cell_type": "code",
      "execution_count": 239,
      "metadata": {},
      "outputs": [],
      "source": [
        "ls -alh"
      ],
      "id": "739e84d2"
    },
    {
      "cell_type": "code",
      "execution_count": 240,
      "metadata": {},
      "outputs": [],
      "source": [
        "# !rm -f miserables.txt"
      ],
      "id": "0ded9005"
    },
    {
      "cell_type": "code",
      "execution_count": 241,
      "metadata": {},
      "outputs": [],
      "source": [
        "os.path.join(path_data, filename)"
      ],
      "id": "0abb7562"
    },
    {
      "cell_type": "markdown",
      "metadata": {},
      "source": [
        "In `jupyter` and `ipython` you can run terminal command lines using `!`\n",
        "\n",
        "Let’s count number of lines and number of words with the `wc`\n",
        "command-line tool (linux or mac only, don’t ask me how on windows)"
      ],
      "id": "063cf783-1ecd-4666-ae1b-062302ed70a4"
    },
    {
      "cell_type": "code",
      "execution_count": 242,
      "metadata": {
        "ExecuteTime": {
          "end_time": "2021-01-15T08:39:34.789525Z",
          "start_time": "2021-01-15T08:39:34.498167Z"
        },
        "slideshow": {
          "slide_type": "-"
        }
      },
      "outputs": [],
      "source": [
        "# Lines count\n",
        "!wc -l miserables.txt"
      ],
      "id": "5f8b48c5"
    },
    {
      "cell_type": "code",
      "execution_count": 243,
      "metadata": {
        "ExecuteTime": {
          "end_time": "2021-01-15T08:39:35.525235Z",
          "start_time": "2021-01-15T08:39:35.244691Z"
        }
      },
      "outputs": [],
      "source": [
        "# Word count\n",
        "!wc -w miserables.txt"
      ],
      "id": "d113fbf9"
    },
    {
      "cell_type": "markdown",
      "metadata": {},
      "source": [
        "## Exercise\n",
        "\n",
        "Count the number of occurences of each word in the text file\n",
        "`miserables.txt`. We use a `open` *context* and the `Counter` from\n",
        "before.\n",
        "\n",
        "## Contexts\n",
        "\n",
        "-   A *context* in Python is something that we use with the `with`\n",
        "    keyword.\n",
        "\n",
        "-   It allows to deal automatically with the opening and the closing of\n",
        "    the file.\n",
        "\n",
        "Note the for loop:\n",
        "\n",
        "``` python\n",
        "for line in f:\n",
        "    ...\n",
        "```\n",
        "\n",
        "You loop directly over the lines of the open file from **within** the\n",
        "`open` context\n",
        "\n",
        "## About `pickle`\n",
        "\n",
        "You can save your computation with `pickle`.\n",
        "\n",
        "-   `pickle` is a way of saving **almost anything** with Python.\n",
        "-   It serializes the object in a binary format, and is usually the\n",
        "    simplest and fastest way to go."
      ],
      "id": "3990f26e-2fbb-48f0-84be-fae6e5fb5bce"
    },
    {
      "cell_type": "code",
      "execution_count": 247,
      "metadata": {
        "ExecuteTime": {
          "end_time": "2021-01-15T08:40:19.146250Z",
          "start_time": "2021-01-15T08:40:19.105800Z"
        }
      },
      "outputs": [],
      "source": [
        "import pickle as pkl\n",
        "\n",
        "# Let's save it\n",
        "with open('miserable_word_counts.pkl', 'wb') as f:\n",
        "    pkl.dump(counter, f)\n",
        "\n",
        "# And read it again\n",
        "with open('miserable_word_counts.pkl', 'rb') as f:\n",
        "    counter = pkl.load(f)"
      ],
      "id": "e83fd4e0"
    },
    {
      "cell_type": "code",
      "execution_count": 248,
      "metadata": {
        "ExecuteTime": {
          "end_time": "2021-01-15T08:40:20.330093Z",
          "start_time": "2021-01-15T08:40:20.320482Z"
        }
      },
      "outputs": [],
      "source": [
        "counter.most_common(10)"
      ],
      "id": "8b98f298"
    },
    {
      "cell_type": "markdown",
      "metadata": {},
      "source": [
        "# Defining functions\n",
        "\n",
        "You **must** use function to order and reuse code\n",
        "\n",
        "## Function definition\n",
        "\n",
        "Function blocks must be indented as other control-flow blocks."
      ],
      "id": "b942073e-f2d7-4e42-818c-25ebde537d13"
    },
    {
      "cell_type": "code",
      "execution_count": 249,
      "metadata": {
        "ExecuteTime": {
          "end_time": "2021-01-15T08:40:22.581564Z",
          "start_time": "2021-01-15T08:40:22.574422Z"
        }
      },
      "outputs": [],
      "source": [
        "def test():\n",
        "    return 'in test function'\n",
        "\n",
        "test()"
      ],
      "id": "9be26dec"
    },
    {
      "cell_type": "markdown",
      "metadata": {},
      "source": [
        "## Return statement\n",
        "\n",
        "Functions can *optionally* return values. By default, functions return\n",
        "`None`.\n",
        "\n",
        "The syntax to define a function:\n",
        "\n",
        "-   the `def` keyword;\n",
        "-   is followed by the function’s **name**, then\n",
        "-   the arguments of the function are given between parentheses followed\n",
        "    by a colon\n",
        "-   the function body;\n",
        "-   and `return object` for optionally returning values."
      ],
      "id": "e74b050f-82a2-4f7f-a338-b72144717ef5"
    },
    {
      "cell_type": "code",
      "execution_count": 250,
      "metadata": {},
      "outputs": [],
      "source": [
        "None is None"
      ],
      "id": "1c948323"
    },
    {
      "cell_type": "code",
      "execution_count": 251,
      "metadata": {
        "ExecuteTime": {
          "end_time": "2021-01-15T08:40:25.396369Z",
          "start_time": "2021-01-15T08:40:25.389580Z"
        }
      },
      "outputs": [],
      "source": [
        "def f(x):\n",
        "    return x + 10\n",
        "f(20)"
      ],
      "id": "71ec025f"
    },
    {
      "cell_type": "markdown",
      "metadata": {},
      "source": [
        "A function that returns several elements returns a `tuple`"
      ],
      "id": "993aa661-1217-435e-8b51-48fb95b49d4f"
    },
    {
      "cell_type": "code",
      "execution_count": 252,
      "metadata": {
        "ExecuteTime": {
          "end_time": "2021-01-15T08:40:25.827300Z",
          "start_time": "2021-01-15T08:40:25.821162Z"
        }
      },
      "outputs": [],
      "source": [
        "def f(x):\n",
        "    return x + 1, x + 4\n",
        "\n",
        "f(5)"
      ],
      "id": "8184cb4b"
    },
    {
      "cell_type": "code",
      "execution_count": 253,
      "metadata": {},
      "outputs": [],
      "source": [
        "type(f)"
      ],
      "id": "c35315cb"
    },
    {
      "cell_type": "code",
      "execution_count": 254,
      "metadata": {},
      "outputs": [],
      "source": [
        "f.truc = \"bonjour\""
      ],
      "id": "32c619bb"
    },
    {
      "cell_type": "code",
      "execution_count": 255,
      "metadata": {
        "ExecuteTime": {
          "end_time": "2021-01-15T08:40:26.056197Z",
          "start_time": "2021-01-15T08:40:26.050039Z"
        }
      },
      "outputs": [],
      "source": [
        "type(f(5))"
      ],
      "id": "e9090469"
    },
    {
      "cell_type": "markdown",
      "metadata": {},
      "source": [
        "## Parameters\n",
        "\n",
        "Mandatory parameters (positional arguments)"
      ],
      "id": "a7aeb4fc-c8d6-40dc-a640-0642c47d9cf7"
    },
    {
      "cell_type": "code",
      "execution_count": 256,
      "metadata": {
        "ExecuteTime": {
          "end_time": "2021-01-15T08:40:26.897893Z",
          "start_time": "2021-01-15T08:40:26.891052Z"
        }
      },
      "outputs": [],
      "source": [
        "def double_it(x):\n",
        "    return x * 2\n",
        "\n",
        "double_it(2)"
      ],
      "id": "1670559d"
    },
    {
      "cell_type": "code",
      "execution_count": 257,
      "metadata": {
        "ExecuteTime": {
          "end_time": "2021-01-15T08:40:27.154900Z",
          "start_time": "2021-01-15T08:40:27.127912Z"
        }
      },
      "outputs": [],
      "source": [
        "try:\n",
        "    double_it()\n",
        "except TypeError:\n",
        "    print(\"TypeError: double_it() missing 1 required positional argument: 'x'\")"
      ],
      "id": "d5c3539f"
    },
    {
      "cell_type": "markdown",
      "metadata": {},
      "source": [
        "Optimal parameters"
      ],
      "id": "65ddb27a-3a3c-40b0-bbd7-5968797a2411"
    },
    {
      "cell_type": "code",
      "execution_count": 258,
      "metadata": {
        "ExecuteTime": {
          "end_time": "2021-01-15T08:40:28.071546Z",
          "start_time": "2021-01-15T08:40:28.065551Z"
        },
        "slideshow": {
          "slide_type": "-"
        }
      },
      "outputs": [],
      "source": [
        "def double_it(x=2):\n",
        "    return x * 2\n",
        "\n",
        "double_it()"
      ],
      "id": "d10e3d53"
    },
    {
      "cell_type": "code",
      "execution_count": 259,
      "metadata": {
        "ExecuteTime": {
          "end_time": "2021-01-15T08:40:30.162845Z",
          "start_time": "2021-01-15T08:40:30.155840Z"
        }
      },
      "outputs": [],
      "source": [
        "double_it(3)"
      ],
      "id": "32e90a5e"
    },
    {
      "cell_type": "code",
      "execution_count": 260,
      "metadata": {
        "ExecuteTime": {
          "end_time": "2021-01-15T08:40:30.451386Z",
          "start_time": "2021-01-15T08:40:30.446933Z"
        },
        "slideshow": {
          "slide_type": "subslide"
        }
      },
      "outputs": [],
      "source": [
        "def f(x, y=2, z=10):\n",
        "    print(x, '+', y, '+', z, '=', x + y + z)"
      ],
      "id": "3d3213e0"
    },
    {
      "cell_type": "code",
      "execution_count": 261,
      "metadata": {
        "ExecuteTime": {
          "end_time": "2021-01-15T08:40:30.696765Z",
          "start_time": "2021-01-15T08:40:30.691179Z"
        }
      },
      "outputs": [],
      "source": [
        "f(5)"
      ],
      "id": "a61dd57b"
    },
    {
      "cell_type": "code",
      "execution_count": 262,
      "metadata": {
        "ExecuteTime": {
          "end_time": "2021-01-15T08:40:31.857293Z",
          "start_time": "2021-01-15T08:40:31.851956Z"
        }
      },
      "outputs": [],
      "source": [
        "f(5, -2)"
      ],
      "id": "2e5b5012"
    },
    {
      "cell_type": "code",
      "execution_count": 263,
      "metadata": {
        "ExecuteTime": {
          "end_time": "2021-01-15T08:40:32.095421Z",
          "start_time": "2021-01-15T08:40:32.089684Z"
        }
      },
      "outputs": [],
      "source": [
        "f(5, -2, 8)"
      ],
      "id": "781f84c9"
    },
    {
      "cell_type": "code",
      "execution_count": 264,
      "metadata": {
        "ExecuteTime": {
          "end_time": "2021-01-15T08:40:32.310466Z",
          "start_time": "2021-01-15T08:40:32.304981Z"
        }
      },
      "outputs": [],
      "source": [
        "f(z=5, x=-2, y=8)"
      ],
      "id": "027108af"
    },
    {
      "cell_type": "markdown",
      "metadata": {},
      "source": [
        "## Argument unpacking and keyword argument unpacking\n",
        "\n",
        "You can do stuff like this, using unpacking `*` notation"
      ],
      "id": "d901dad8-ab6d-45a4-9332-ecc6695d13cc"
    },
    {
      "cell_type": "code",
      "execution_count": 265,
      "metadata": {
        "ExecuteTime": {
          "end_time": "2021-01-15T08:40:32.767851Z",
          "start_time": "2021-01-15T08:40:32.762760Z"
        }
      },
      "outputs": [],
      "source": [
        "a, *b, c = 1, 2, 3, 4, 5\n",
        "a, b, c"
      ],
      "id": "d6122a8b"
    },
    {
      "cell_type": "markdown",
      "metadata": {},
      "source": [
        "Back to function `f` you can unpack a `tuple` as positional arguments"
      ],
      "id": "d76516e1-8d31-46df-bf2a-d504c6d0afb0"
    },
    {
      "cell_type": "code",
      "execution_count": 266,
      "metadata": {
        "ExecuteTime": {
          "end_time": "2021-01-15T08:40:33.123879Z",
          "start_time": "2021-01-15T08:40:33.117094Z"
        },
        "slideshow": {
          "slide_type": "-"
        }
      },
      "outputs": [],
      "source": [
        "tt = (1, 2, 3)\n",
        "f(*tt)"
      ],
      "id": "44aa2838"
    },
    {
      "cell_type": "code",
      "execution_count": 267,
      "metadata": {
        "ExecuteTime": {
          "end_time": "2021-01-15T08:40:33.344119Z",
          "start_time": "2021-01-15T08:40:33.339429Z"
        }
      },
      "outputs": [],
      "source": [
        "dd = {'y': 10, 'z': -5}"
      ],
      "id": "b31e1ac1"
    },
    {
      "cell_type": "code",
      "execution_count": 268,
      "metadata": {
        "ExecuteTime": {
          "end_time": "2021-01-15T08:40:33.503933Z",
          "start_time": "2021-01-15T08:40:33.497965Z"
        }
      },
      "outputs": [],
      "source": [
        "f(3, **dd)"
      ],
      "id": "c8967f96"
    },
    {
      "cell_type": "code",
      "execution_count": 269,
      "metadata": {
        "ExecuteTime": {
          "end_time": "2021-01-15T08:40:33.713710Z",
          "start_time": "2021-01-15T08:40:33.708290Z"
        },
        "slideshow": {
          "slide_type": "subslide"
        }
      },
      "outputs": [],
      "source": [
        "def g(x, z, y, t=1, u=2):\n",
        "    print(x, '+', y, '+', z, '+', t, '+', \n",
        "          u, '=', x + y + z + t + u)"
      ],
      "id": "dbedc3fb"
    },
    {
      "cell_type": "code",
      "execution_count": 270,
      "metadata": {
        "ExecuteTime": {
          "end_time": "2021-01-15T08:40:33.853331Z",
          "start_time": "2021-01-15T08:40:33.847946Z"
        }
      },
      "outputs": [],
      "source": [
        "tt = (1, -4, 2)\n",
        "dd = {'t': 10, 'u': -5}\n",
        "g(*tt, **dd)"
      ],
      "id": "615a31d7"
    },
    {
      "cell_type": "markdown",
      "metadata": {},
      "source": [
        "## The prototype of all functions in `Python`"
      ],
      "id": "c81b7af5-56cc-4f9b-8e86-324204153d70"
    },
    {
      "cell_type": "code",
      "execution_count": 271,
      "metadata": {
        "ExecuteTime": {
          "end_time": "2021-01-15T08:40:34.122929Z",
          "start_time": "2021-01-15T08:40:34.118269Z"
        },
        "slideshow": {
          "slide_type": "-"
        }
      },
      "outputs": [],
      "source": [
        "def f(*args, **kwargs):\n",
        "    print('args=', args)\n",
        "    print('kwargs=', kwargs)\n",
        "\n",
        "f(1, 2, 'truc', lastname='gaiffas', firstname='stephane')"
      ],
      "id": "18f8f7f8"
    },
    {
      "cell_type": "markdown",
      "metadata": {},
      "source": [
        "-   Uses `*` for **argument unpacking** and `**` for **keyword argument\n",
        "    unpacking**\n",
        "-   The names `args` and `kwargs` are a convention, not mandatory\n",
        "-   (but you are fired if you name these arguments otherwise)"
      ],
      "id": "8ffdcd75-1a0c-4809-9359-c59e8c93d676"
    },
    {
      "cell_type": "code",
      "execution_count": 272,
      "metadata": {
        "ExecuteTime": {
          "end_time": "2021-01-15T08:40:34.735447Z",
          "start_time": "2021-01-15T08:40:34.728777Z"
        },
        "slideshow": {
          "slide_type": "fragment"
        }
      },
      "outputs": [],
      "source": [
        "# How to get fired\n",
        "def f(*aaa, **bbb):\n",
        "    print('args=', aaa)\n",
        "    print('kwargs=', bbb)\n",
        "f(1, 2, 'truc', lastname='gaiffas', firstname='stephane')    "
      ],
      "id": "5a088e76"
    },
    {
      "cell_type": "markdown",
      "metadata": {},
      "source": [
        "**Remark**. A function is a regular an object… you can add attributes on\n",
        "it !"
      ],
      "id": "5fb4ad1b-5551-4835-8564-271827e51b86"
    },
    {
      "cell_type": "code",
      "execution_count": 273,
      "metadata": {
        "ExecuteTime": {
          "end_time": "2021-01-15T08:40:34.887176Z",
          "start_time": "2021-01-15T08:40:34.884378Z"
        }
      },
      "outputs": [],
      "source": [
        "f.truc = 4"
      ],
      "id": "4973924d"
    },
    {
      "cell_type": "code",
      "execution_count": 274,
      "metadata": {
        "ExecuteTime": {
          "end_time": "2021-01-15T08:40:34.968083Z",
          "start_time": "2021-01-15T08:40:34.963229Z"
        }
      },
      "outputs": [],
      "source": [
        "f(1, 3)"
      ],
      "id": "ea89bd1c"
    },
    {
      "cell_type": "code",
      "execution_count": 275,
      "metadata": {
        "ExecuteTime": {
          "end_time": "2021-01-15T08:40:35.082074Z",
          "start_time": "2021-01-15T08:40:35.076581Z"
        }
      },
      "outputs": [],
      "source": [
        "f(3, -2, y='truc')"
      ],
      "id": "25b35909"
    },
    {
      "cell_type": "markdown",
      "metadata": {},
      "source": [
        "# Object-oriented programming (OOP)\n",
        "\n",
        "Python supports object-oriented programming (OOP). The goals of OOP are:\n",
        "\n",
        "-   to organize the code, and\n",
        "-   to re-use code in similar contexts.\n",
        "\n",
        "Here is a small example: we create a `Student` class, which is an object\n",
        "gathering several custom functions (called *methods*) and variables\n",
        "(called *attributes*)."
      ],
      "id": "8b0ab56b-c2de-4639-aac7-d681918cedb8"
    },
    {
      "cell_type": "code",
      "execution_count": 276,
      "metadata": {
        "ExecuteTime": {
          "end_time": "2021-01-15T08:40:35.228158Z",
          "start_time": "2021-01-15T08:40:35.221388Z"
        },
        "slideshow": {
          "slide_type": "subslide"
        }
      },
      "outputs": [],
      "source": [
        "class Student(object):\n",
        "\n",
        "    def __init__(self, name, birthyear, major='computer science'):\n",
        "        self.name = name\n",
        "        self.birthyear = birthyear\n",
        "        self.major = major\n",
        "\n",
        "    def __repr__(self):\n",
        "        return \"Student(name='{name}', birthyear={birthyear}, major='{major}')\"\\\n",
        "                .format(name=self.name, birthyear=self.birthyear, major=self.major)\n",
        "\n",
        "anna = Student('anna', 1987)\n",
        "anna"
      ],
      "id": "e1edb677"
    },
    {
      "cell_type": "markdown",
      "metadata": {},
      "source": [
        "The `__repr__` is what we call a ‘magic method’ in Python, that allows\n",
        "to display an object as a string easily. There is a very large number of\n",
        "such magic methods. There are used to implement **interfaces**\n",
        "\n",
        "## Exercise\n",
        "\n",
        "Add a `age` method to the Student class that computes the age of the\n",
        "student. - You can (and should) use the `datetime` module. - Since we\n",
        "only know about the birth year, let’s assume that the day of the birth\n",
        "is January, 1st.\n",
        "\n",
        "## Properties\n",
        "\n",
        "We can make methods look like attributes using **properties**, as shown\n",
        "below"
      ],
      "id": "dca92670-c97a-46af-be7d-5d820acacd2a"
    },
    {
      "cell_type": "code",
      "execution_count": 278,
      "metadata": {
        "ExecuteTime": {
          "end_time": "2021-01-15T08:40:41.454538Z",
          "start_time": "2021-01-15T08:40:41.447007Z"
        }
      },
      "outputs": [],
      "source": [
        "class Student(object):\n",
        "\n",
        "    def __init__(self, name, birthyear, major='computer science'):\n",
        "        self.name = name\n",
        "        self.birthyear = birthyear\n",
        "        self.major = major\n",
        "\n",
        "    def __repr__(self):\n",
        "        return \"Student(name='{name}', birthyear={birthyear}, major='{major}')\"\\\n",
        "                .format(name=self.name, birthyear=self.birthyear, major=self.major)\n",
        "\n",
        "    @property\n",
        "    def age(self):\n",
        "        return datetime.now().year - self.birthyear\n",
        "        \n",
        "anna = Student('anna', 1987)\n",
        "anna.age"
      ],
      "id": "4f396160"
    },
    {
      "cell_type": "markdown",
      "metadata": {},
      "source": [
        "## Inheritance\n",
        "\n",
        "A `MasterStudent` is a `Student` with a new extra mandatory `internship`\n",
        "attribute"
      ],
      "id": "93a848ca-df0a-4935-a929-6b5762d085e4"
    },
    {
      "cell_type": "code",
      "execution_count": 279,
      "metadata": {},
      "outputs": [],
      "source": [
        "\"%d\" % 2"
      ],
      "id": "ecccebc1"
    },
    {
      "cell_type": "code",
      "execution_count": 280,
      "metadata": {},
      "outputs": [],
      "source": [
        "x = 2\n",
        "\n",
        "f\"truc {x}\""
      ],
      "id": "de97e60e"
    },
    {
      "cell_type": "code",
      "execution_count": 281,
      "metadata": {},
      "outputs": [],
      "source": [
        "class MasterStudent(Student):\n",
        "    \n",
        "    def __init__(self, name, age, internship, major='computer science'):\n",
        "        # Student.__init__(self, name, age, major)\n",
        "        Student.__init__(self, name, age, major)\n",
        "        self.internship = internship\n",
        "\n",
        "    def __repr__(self):\n",
        "        return f\"MasterStudent(name='{self.name}', internship={self.internship}, birthyear={self.birthyear}, major={self.major})\"\n",
        "    \n",
        "MasterStudent('djalil', 22, 'pwc')"
      ],
      "id": "5bc2ecb3"
    },
    {
      "cell_type": "code",
      "execution_count": 282,
      "metadata": {
        "ExecuteTime": {
          "end_time": "2021-01-15T08:40:44.047633Z",
          "start_time": "2021-01-15T08:40:44.039779Z"
        }
      },
      "outputs": [],
      "source": [
        "class MasterStudent(Student):\n",
        "    \n",
        "    def __init__(self, name, age, internship, major='computer science'):\n",
        "        # Student.__init__(self, name, age, major)\n",
        "        Student.__init__(self, name, age, major)\n",
        "        self.internship = internship\n",
        "\n",
        "    def __repr__(self):\n",
        "        return \"MasterStudent(name='{name}', internship='{internship}'\" \\\n",
        "               \", birthyear={birthyear}, major='{major}')\"\\\n",
        "                .format(name=self.name, internship=self.internship,\n",
        "                        birthyear=self.birthyear, major=self.major)\n",
        "    \n",
        "djalil = MasterStudent('djalil', 1996, 'pwc')"
      ],
      "id": "b5a8052f"
    },
    {
      "cell_type": "code",
      "execution_count": 283,
      "metadata": {},
      "outputs": [],
      "source": [
        "djalil.__dict__"
      ],
      "id": "7bee8522"
    },
    {
      "cell_type": "code",
      "execution_count": 284,
      "metadata": {},
      "outputs": [],
      "source": [
        "djalil.birthyear"
      ],
      "id": "02d6510c"
    },
    {
      "cell_type": "code",
      "execution_count": 285,
      "metadata": {},
      "outputs": [],
      "source": [
        "djalil.__dict__[\"birthyear\"]"
      ],
      "id": "71c3d7fc"
    },
    {
      "cell_type": "markdown",
      "metadata": {},
      "source": [
        "## Monkey patching\n",
        "\n",
        "-   Classes in `Python` are `objects` and actually `dict`s under the\n",
        "    hood…\n",
        "-   Therefore classes are objects that can be changed on the fly"
      ],
      "id": "faff032d-b39d-4e7a-b6af-f0ad4c8bc4fe"
    },
    {
      "cell_type": "code",
      "execution_count": 286,
      "metadata": {
        "ExecuteTime": {
          "end_time": "2021-01-15T08:40:44.745686Z",
          "start_time": "2021-01-15T08:40:44.739499Z"
        }
      },
      "outputs": [],
      "source": [
        "class Monkey(object):\n",
        "    \n",
        "    def __init__(self, name):\n",
        "        self.name = name\n",
        "\n",
        "    def describe(self):\n",
        "        print(\"Old monkey %s\" % self.name)\n",
        "\n",
        "def patch(self):\n",
        "    print(\"New monkey %s\" % self.name)\n",
        "\n",
        "monkey = Monkey(\"Baloo\")\n",
        "monkey.describe()\n",
        "\n",
        "Monkey.describe = patch\n",
        "monkey.describe()"
      ],
      "id": "1a646e8d"
    },
    {
      "cell_type": "code",
      "execution_count": 287,
      "metadata": {},
      "outputs": [],
      "source": [
        "monkeys = [Monkey(\"Baloo\"), Monkey(\"Super singe\")]\n",
        "\n",
        "\n",
        "monkey_name = monkey.name\n",
        "\n",
        "for i in range(1000):    \n",
        "    monkey_name"
      ],
      "id": "c4bcfe1a"
    },
    {
      "cell_type": "markdown",
      "metadata": {},
      "source": [
        "## Data classes\n",
        "\n",
        "Since `Python 3.7` you can use a dataclass for this\n",
        "\n",
        "Does a lot of work for you (produces the `__repr__` among many other\n",
        "things for you)"
      ],
      "id": "8573d46e-3c5c-4882-8a76-166f161ad5eb"
    },
    {
      "cell_type": "code",
      "execution_count": 288,
      "metadata": {
        "ExecuteTime": {
          "end_time": "2021-01-15T08:40:46.810275Z",
          "start_time": "2021-01-15T08:40:46.796524Z"
        }
      },
      "outputs": [],
      "source": [
        "from dataclasses import dataclass\n",
        "from datetime import datetime \n",
        "\n",
        "@dataclass\n",
        "class Student(object):\n",
        "    name: str\n",
        "    birthyear: int\n",
        "    major: str = 'computer science'\n",
        "\n",
        "    @property\n",
        "    def age(self):\n",
        "        return datetime.now().year - self.birthyear\n",
        "        \n",
        "anna = Student(name=\"anna\", birthyear=1987)\n",
        "anna"
      ],
      "id": "910c1c15"
    },
    {
      "cell_type": "code",
      "execution_count": 289,
      "metadata": {
        "ExecuteTime": {
          "end_time": "2021-01-15T08:40:47.251530Z",
          "start_time": "2021-01-15T08:40:47.246324Z"
        }
      },
      "outputs": [],
      "source": [
        "print(anna.age)"
      ],
      "id": "5d309455"
    },
    {
      "cell_type": "markdown",
      "metadata": {},
      "source": [
        "# Most common mistakes\n",
        "\n",
        "-   Let us wrap this up with the most common mistakes with `Python`\n",
        "\n",
        "First, best way to learn and practice:\n",
        "\n",
        "-   Start with the official tutorial\n",
        "    https://docs.python.org/fr/3/tutorial/index.html\n",
        "\n",
        "-   Look at\n",
        "    https://python-3-for-scientists.readthedocs.io/en/latest/index.html\n",
        "\n",
        "-   Continue with the documentation at\n",
        "    https://docs.python.org/fr/3/index.html and work!\n",
        "\n",
        "## Using a mutable value as a default value"
      ],
      "id": "05a6f3bd-8957-4be0-9484-9ce1663f3400"
    },
    {
      "cell_type": "code",
      "execution_count": 290,
      "metadata": {
        "ExecuteTime": {
          "end_time": "2021-01-15T08:40:51.446805Z",
          "start_time": "2021-01-15T08:40:51.441178Z"
        }
      },
      "outputs": [],
      "source": [
        "def foo(bar=[]):\n",
        "    bar.append('oops')\n",
        "    return bar\n",
        "\n",
        "print(foo())\n",
        "print(foo())\n",
        "print(foo())\n",
        "\n",
        "print('-' * 8)\n",
        "print(foo(['Ah ah']))\n",
        "print(foo([]))"
      ],
      "id": "3c16f3aa"
    },
    {
      "cell_type": "code",
      "execution_count": 291,
      "metadata": {},
      "outputs": [],
      "source": [
        "print(foo.__defaults__)\n",
        "foo()\n",
        "print(foo.__defaults__)"
      ],
      "id": "230a5a2f"
    },
    {
      "cell_type": "markdown",
      "metadata": {},
      "source": [
        "-   The default value for a function argument is evaluated once, when\n",
        "    the function is defined\n",
        "-   `the` bar argument is initialized to its default (i.e., an empty\n",
        "    list) only when foo() is first defined\n",
        "-   successive calls to `foo()` (with no a `bar` argument specified) use\n",
        "    the same list!\n",
        "\n",
        "One should use instead"
      ],
      "id": "1a9dad8c-e40f-4e16-8013-a4544db5d2a4"
    },
    {
      "cell_type": "code",
      "execution_count": 292,
      "metadata": {
        "ExecuteTime": {
          "end_time": "2021-01-15T08:40:52.916162Z",
          "start_time": "2021-01-15T08:40:52.908617Z"
        },
        "slideshow": {
          "slide_type": "-"
        }
      },
      "outputs": [],
      "source": [
        "def foo(bar=None):\n",
        "    if bar is None:\n",
        "        bar = []\n",
        "    bar.append('oops')\n",
        "    return bar\n",
        "\n",
        "print(foo())\n",
        "print(foo())\n",
        "print(foo())\n",
        "print(foo(['OK']))"
      ],
      "id": "2a64fec6"
    },
    {
      "cell_type": "code",
      "execution_count": 293,
      "metadata": {},
      "outputs": [],
      "source": [
        "print(foo.__defaults__)\n",
        "foo()\n",
        "print(foo.__defaults__)"
      ],
      "id": "f47e7885"
    },
    {
      "cell_type": "markdown",
      "metadata": {},
      "source": [
        "No problem with immutable types"
      ],
      "id": "d16a4da1-69ed-4a8a-aee0-1c8fe0d30b30"
    },
    {
      "cell_type": "code",
      "execution_count": 294,
      "metadata": {
        "ExecuteTime": {
          "end_time": "2021-01-15T08:40:53.337268Z",
          "start_time": "2021-01-15T08:40:53.330411Z"
        }
      },
      "outputs": [],
      "source": [
        "def foo(bar=()):\n",
        "    bar += ('oops',)\n",
        "    return bar\n",
        "\n",
        "print(foo())\n",
        "print(foo())\n",
        "print(foo())"
      ],
      "id": "2a30af34"
    },
    {
      "cell_type": "code",
      "execution_count": 295,
      "metadata": {},
      "outputs": [],
      "source": [
        "print(foo.__defaults__)"
      ],
      "id": "04c4a05f"
    },
    {
      "cell_type": "markdown",
      "metadata": {},
      "source": [
        "## Class attributes VS object attributes"
      ],
      "id": "2b6f8cb2-ae94-47f5-b23c-523173707546"
    },
    {
      "cell_type": "code",
      "execution_count": 296,
      "metadata": {
        "ExecuteTime": {
          "end_time": "2021-01-15T08:40:53.948439Z",
          "start_time": "2021-01-15T08:40:53.942319Z"
        }
      },
      "outputs": [],
      "source": [
        "class A(object):\n",
        "    x = 1\n",
        "\n",
        "    def __init__(self):\n",
        "        self.y = 2\n",
        "\n",
        "class B(A):\n",
        "    def __init__(self):\n",
        "        super().__init__()\n",
        "\n",
        "class C(A):\n",
        "    def __init__(self):\n",
        "        super().__init__()\n",
        "\n",
        "a, b, c = A(), B(), C()"
      ],
      "id": "cc6152f0"
    },
    {
      "cell_type": "code",
      "execution_count": 297,
      "metadata": {
        "ExecuteTime": {
          "end_time": "2021-01-15T08:40:54.135498Z",
          "start_time": "2021-01-15T08:40:54.131029Z"
        }
      },
      "outputs": [],
      "source": [
        "print(a.x, b.x, c.x)\n",
        "print(a.y, b.y, c.y)"
      ],
      "id": "ebcbbf3f"
    },
    {
      "cell_type": "code",
      "execution_count": 298,
      "metadata": {
        "ExecuteTime": {
          "end_time": "2021-01-15T08:40:54.858324Z",
          "start_time": "2021-01-15T08:40:54.853424Z"
        },
        "slideshow": {
          "slide_type": "subslide"
        }
      },
      "outputs": [],
      "source": [
        "a.y = 3\n",
        "print(a.y, b.y, c.y)"
      ],
      "id": "42e8ff93"
    },
    {
      "cell_type": "code",
      "execution_count": 299,
      "metadata": {
        "ExecuteTime": {
          "end_time": "2021-01-15T08:40:55.058452Z",
          "start_time": "2021-01-15T08:40:55.050679Z"
        }
      },
      "outputs": [],
      "source": [
        "a.x = 3  # Adds a new attribute named x in object a\n",
        "print(a.x, b.x, c.x)"
      ],
      "id": "1c181f70"
    },
    {
      "cell_type": "code",
      "execution_count": 300,
      "metadata": {
        "ExecuteTime": {
          "end_time": "2021-01-15T08:40:55.812247Z",
          "start_time": "2021-01-15T08:40:55.805966Z"
        }
      },
      "outputs": [],
      "source": [
        "A.x = 4 # Changes the class attribute x of class A\n",
        "print(a.x, b.x, c.x)"
      ],
      "id": "c57104c7"
    },
    {
      "cell_type": "markdown",
      "metadata": {},
      "source": [
        "-   Attribute `x` is not an **attribute** of `b` nor `c`\n",
        "-   It is also not a **class attribute** of classes `B` and `C`\n",
        "-   So, it is is looked up in the base class `A`, which contains a\n",
        "    **class attribute** `x`\n",
        "\n",
        "Classes and objects contain a hidden `dict` to store their attributes,\n",
        "and are accessed following a method resolution order (MRO)"
      ],
      "id": "a1e92bf7-7b16-4696-9167-d8b05ae39e57"
    },
    {
      "cell_type": "code",
      "execution_count": 301,
      "metadata": {
        "ExecuteTime": {
          "end_time": "2021-01-15T08:40:56.589556Z",
          "start_time": "2021-01-15T08:40:56.583455Z"
        },
        "slideshow": {
          "slide_type": "-"
        }
      },
      "outputs": [],
      "source": [
        "a.__dict__, b.__dict__, c.__dict__"
      ],
      "id": "0ad61eae"
    },
    {
      "cell_type": "code",
      "execution_count": 302,
      "metadata": {
        "ExecuteTime": {
          "end_time": "2021-01-15T08:40:57.372472Z",
          "start_time": "2021-01-15T08:40:57.365176Z"
        }
      },
      "outputs": [],
      "source": [
        "A.__dict__, B.__dict__, C.__dict__"
      ],
      "id": "c93d66ec"
    },
    {
      "cell_type": "markdown",
      "metadata": {},
      "source": [
        "This can lead to **nasty** errors when using class attributes: learn\n",
        "more about this\n",
        "\n",
        "## Python scope rules"
      ],
      "id": "bcb1e483-a7b8-4f2a-b98a-913e9711d9c3"
    },
    {
      "cell_type": "code",
      "execution_count": 303,
      "metadata": {},
      "outputs": [],
      "source": [
        "try:\n",
        "    ints += [4]\n",
        "except NameError:\n",
        "    print(\"NameError: name 'ints' is not defined\")"
      ],
      "id": "32aee83f"
    },
    {
      "cell_type": "code",
      "execution_count": 304,
      "metadata": {
        "ExecuteTime": {
          "end_time": "2021-01-15T08:40:58.254394Z",
          "start_time": "2021-01-15T08:40:58.250379Z"
        }
      },
      "outputs": [],
      "source": [
        "ints = [1]\n",
        "\n",
        "def foo1():\n",
        "    ints.append(2)\n",
        "    return ints\n",
        "\n",
        "def foo2():\n",
        "    ints += [2]\n",
        "    return ints"
      ],
      "id": "74a974a1"
    },
    {
      "cell_type": "code",
      "execution_count": 305,
      "metadata": {
        "ExecuteTime": {
          "end_time": "2021-01-15T08:40:58.471436Z",
          "start_time": "2021-01-15T08:40:58.464761Z"
        }
      },
      "outputs": [],
      "source": [
        "foo1()"
      ],
      "id": "d9e51ae0"
    },
    {
      "cell_type": "code",
      "execution_count": 306,
      "metadata": {
        "ExecuteTime": {
          "end_time": "2021-01-15T08:40:58.668154Z",
          "start_time": "2021-01-15T08:40:58.647332Z"
        },
        "slideshow": {
          "slide_type": "-"
        }
      },
      "outputs": [],
      "source": [
        "try:    \n",
        "    foo2()\n",
        "except UnboundLocalError as inst:\n",
        "    print(inst)"
      ],
      "id": "adb654d6"
    },
    {
      "cell_type": "markdown",
      "metadata": {},
      "source": [
        "### What the hell ?\n",
        "\n",
        "-   An assignment to a variable in a scope assumes that the variable is\n",
        "    local to that scope\n",
        "-   and shadows any similarly named variable in any outer scope\n",
        "\n",
        "``` python\n",
        "ints += [2]\n",
        "```\n",
        "\n",
        "means\n",
        "\n",
        "``` python\n",
        "ints = ints + [2]\n",
        "```\n",
        "\n",
        "which is an *assigment*: `ints` must be defined in the local scope, but\n",
        "it is not, while\n",
        "\n",
        "``` python\n",
        "ints.append(2)\n",
        "```\n",
        "\n",
        "is not an *assignemnt*\n",
        "\n",
        "## Modify a `list` while iterating over it"
      ],
      "id": "0703f4aa-f7d1-4d9b-9737-8cdeda15283a"
    },
    {
      "cell_type": "code",
      "execution_count": 307,
      "metadata": {
        "ExecuteTime": {
          "end_time": "2021-01-15T08:41:05.902243Z",
          "start_time": "2021-01-15T08:41:05.890704Z"
        }
      },
      "outputs": [],
      "source": [
        "odd = lambda x: bool(x % 2)\n",
        "numbers = list(range(10))\n",
        "\n",
        "try:\n",
        "  for i in range(len(numbers)):\n",
        "      if odd(numbers[i]):\n",
        "          del numbers[i]\n",
        "except IndexError as inst:\n",
        "    print(inst)"
      ],
      "id": "5f1b1552"
    },
    {
      "cell_type": "markdown",
      "metadata": {},
      "source": [
        "Typically an example where one should use a list comprehension"
      ],
      "id": "23c11607-8cb6-42ad-8feb-4cad8ced7030"
    },
    {
      "cell_type": "code",
      "execution_count": 308,
      "metadata": {
        "ExecuteTime": {
          "end_time": "2021-01-15T08:41:16.008696Z",
          "start_time": "2021-01-15T08:41:16.002196Z"
        }
      },
      "outputs": [],
      "source": [
        "[number for number in numbers if not odd(number)]"
      ],
      "id": "05465564"
    },
    {
      "cell_type": "markdown",
      "metadata": {},
      "source": [
        "## No docstrings\n",
        "\n",
        "Accept to spend time to write clean docstrings (look at `numpydoc`\n",
        "style)"
      ],
      "id": "e1b39827-61b6-487b-9087-5952e4a64a72"
    },
    {
      "cell_type": "code",
      "execution_count": 309,
      "metadata": {
        "ExecuteTime": {
          "end_time": "2021-01-15T08:41:17.239948Z",
          "start_time": "2021-01-15T08:41:17.236031Z"
        }
      },
      "outputs": [],
      "source": [
        "def create_student(name, age, address, major='computer science'):\n",
        "    \"\"\"Add a student in the database\n",
        "    \n",
        "    Parameters\n",
        "    ----------\n",
        "    name: `str`\n",
        "        Name of the student\n",
        "    \n",
        "    age: `int`\n",
        "        Age of the student\n",
        "    \n",
        "    address: `str`\n",
        "        Address of the student\n",
        "    \n",
        "    major: `str`, default='computer science'\n",
        "        The major chosen by the student\n",
        "    \n",
        "    Returns\n",
        "    -------\n",
        "    output: `Student`\n",
        "        A fresh student\n",
        "    \"\"\"\n",
        "    pass"
      ],
      "id": "9dbb87d7"
    },
    {
      "cell_type": "code",
      "execution_count": 310,
      "metadata": {},
      "outputs": [],
      "source": [
        "create_student('Duduche', 28, 'Chalons')"
      ],
      "id": "e9b32662"
    },
    {
      "cell_type": "markdown",
      "metadata": {},
      "source": [
        "## Not using available methods and/or the simplest solution"
      ],
      "id": "653c234e-de6e-4a45-9661-e312f8521514"
    },
    {
      "cell_type": "code",
      "execution_count": 311,
      "metadata": {
        "ExecuteTime": {
          "end_time": "2021-01-15T08:41:19.794009Z",
          "start_time": "2021-01-15T08:41:19.785191Z"
        }
      },
      "outputs": [],
      "source": [
        "dd = {'stephane': 1234, 'gael': 4567, 'gontran': 891011}\n",
        "\n",
        "# Bad\n",
        "for key in dd.keys():\n",
        "    print(key, dd[key])\n",
        "\n",
        "print('-' * 8)\n",
        "\n",
        "# Good\n",
        "for key, value in dd.items():\n",
        "    print(key, value)"
      ],
      "id": "614864aa"
    },
    {
      "cell_type": "code",
      "execution_count": 312,
      "metadata": {
        "ExecuteTime": {
          "end_time": "2021-01-15T08:41:20.116770Z",
          "start_time": "2021-01-15T08:41:20.104428Z"
        },
        "slideshow": {
          "slide_type": "subslide"
        }
      },
      "outputs": [],
      "source": [
        "colors = ['black', 'yellow', 'brown', 'red', 'pink']\n",
        "\n",
        "# Bad\n",
        "for i in range(len(colors)):\n",
        "    print(i, colors[i])\n",
        "\n",
        "print('-' * 8)\n",
        "\n",
        "# Good\n",
        "for i, color in enumerate(colors):\n",
        "    print(i, color)"
      ],
      "id": "3e6a8779"
    },
    {
      "cell_type": "markdown",
      "metadata": {},
      "source": [
        "## Not using the standard library\n",
        "\n",
        "While it’s **always** better than a hand-made solution"
      ],
      "id": "f0b88d09-be08-467c-82f3-342d02f3917b"
    },
    {
      "cell_type": "code",
      "execution_count": 313,
      "metadata": {
        "ExecuteTime": {
          "end_time": "2021-01-15T08:41:21.109134Z",
          "start_time": "2021-01-15T08:41:21.101392Z"
        }
      },
      "outputs": [],
      "source": [
        "list1 = [1, 2]\n",
        "list2 = [3, 4]\n",
        "list3 = [5, 6, 7]\n",
        "\n",
        "for a in list1:\n",
        "    for b in list2:\n",
        "        for c in list3:\n",
        "            print(a, b, c)"
      ],
      "id": "900b8aa2"
    },
    {
      "cell_type": "code",
      "execution_count": 314,
      "metadata": {
        "ExecuteTime": {
          "end_time": "2021-01-15T08:41:22.827474Z",
          "start_time": "2021-01-15T08:41:22.819519Z"
        },
        "slideshow": {
          "slide_type": "subslide"
        }
      },
      "outputs": [],
      "source": [
        "from itertools import product\n",
        "\n",
        "for a, b, c in product(list1, list2, list3):\n",
        "    print(a, b, c)"
      ],
      "id": "1e9fe3c2"
    },
    {
      "cell_type": "markdown",
      "metadata": {},
      "source": [
        "# That’s it for now !"
      ],
      "id": "e0e4b23e-ca1f-47b7-aea3-9fc46115b69a"
    }
  ],
  "nbformat": 4,
  "nbformat_minor": 5,
  "metadata": {
    "kernelspec": {
      "name": "python3",
      "display_name": "Python 3 (ipykernel)",
      "language": "python",
      "path": "/usr/share/jupyter/kernels/python3"
    },
    "language_info": {
      "name": "python",
      "codemirror_mode": {
        "name": "ipython",
        "version": "3"
      },
      "file_extension": ".py",
      "mimetype": "text/x-python",
      "nbconvert_exporter": "python",
      "pygments_lexer": "ipython3",
      "version": "3.12.3"
    }
  }
}