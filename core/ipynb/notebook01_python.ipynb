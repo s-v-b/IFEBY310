{
  "cells": [
    {
      "cell_type": "markdown",
      "metadata": {},
      "source": [
        "# Introduction to Python\n",
        "\n",
        "We introduce here the `python` language. Only the bare minimum necessary\n",
        "for getting started with the data-science stack (a bunch of libraries\n",
        "for data science). Python is a **programming language**, as are `C++`,\n",
        "`java`, `fortran`, `javascript`, etc.\n",
        "\n",
        "## Specific features of Python\n",
        "\n",
        "-   an **interpreted** (as opposed to *compiled*) language. Contrary to\n",
        "    e.g. `C++` or `fortran`, one does not compile Python code before\n",
        "    executing it.\n",
        "\n",
        "-   Used as a scripting language, by python `python script.py` in a\n",
        "    terminal\n",
        "\n",
        "-   But can be used also **interactively**: the jupyter notebook,\n",
        "    iPython, etc.\n",
        "\n",
        "-   A free software released under an **open-source** license: Python\n",
        "    can be used and distributed free of charge, even for building\n",
        "    commercial software.\n",
        "\n",
        "-   **multi-platform**: Python is available for all major operating\n",
        "    systems, Windows, Linux/Unix, MacOS X, most likely your mobile phone\n",
        "    OS, etc.\n",
        "\n",
        "-   A very readable language with clear non-verbose syntax\n",
        "\n",
        "-   A language for which a **large amount of high-quality** packages are\n",
        "    available for various applications, including web-frameworks and\n",
        "    scientific computing\n",
        "\n",
        "-   It has been one of the top **languages for data science** and\n",
        "    **machine learning** for several years, because it is expressive and\n",
        "    and easy to deploy\n",
        "\n",
        "-   An object-oriented language\n",
        "\n",
        "See https://www.python.org/about/ for more information about\n",
        "distinguishing features of Python.\n",
        "\n",
        "> **Python 2 or Python 3?**\n",
        ">\n",
        "> -   Simple answer: *don’t use Python 2, use Python 3*\n",
        "> -   Python 2 is *mostly deprecated* and *has not been maintained* for\n",
        ">     years\n",
        "> -   You’ll end up hanged if you use Python 2\n",
        "> -   If Python 2 is mandatory at your workplace, find another work\n",
        "\n",
        "> **Jupyter or Quarto notebooks?**\n",
        ">\n",
        "> -   `quarto` is more git friendly than `jupyter`\n",
        ">\n",
        "> -   Enjoy authentic editors\n",
        ">\n",
        "> -   Go for `quarto`\n",
        "\n",
        "# Hello world\n",
        "\n",
        "-   In a `jupyter`/`quarto` notebook, you have an interactive\n",
        "    interpreter.\n",
        "\n",
        "-   You type in the cells, execute commands"
      ],
      "id": "74c5a916-bdc5-4fc8-bd90-b981d8cac089"
    },
    {
      "cell_type": "code",
      "execution_count": 1,
      "metadata": {
        "ExecuteTime": {
          "end_time": "2021-01-26T10:21:39.584103Z",
          "start_time": "2021-01-26T10:21:39.577509Z"
        },
        "slideshow": {
          "slide_type": "fragment"
        }
      },
      "outputs": [],
      "source": [
        "print(\"Hi everybody!\")"
      ],
      "id": "66ec0761"
    },
    {
      "cell_type": "markdown",
      "metadata": {},
      "source": [
        "# Basic types\n",
        "\n",
        "## Integers"
      ],
      "id": "4f6e8c75-0b46-46bb-9b1f-fc0a99af436a"
    },
    {
      "cell_type": "code",
      "execution_count": 2,
      "metadata": {
        "ExecuteTime": {
          "end_time": "2021-01-26T10:21:48.191166Z",
          "start_time": "2021-01-26T10:21:48.181921Z"
        },
        "slideshow": {
          "slide_type": "fragment"
        }
      },
      "outputs": [],
      "source": [
        "1 + 42"
      ],
      "id": "03dc9d4b"
    },
    {
      "cell_type": "code",
      "execution_count": 3,
      "metadata": {
        "ExecuteTime": {
          "end_time": "2021-01-26T10:21:50.119817Z",
          "start_time": "2021-01-26T10:21:50.115692Z"
        },
        "slideshow": {
          "slide_type": "-"
        }
      },
      "outputs": [],
      "source": [
        "type(1+1)"
      ],
      "id": "e1c98978"
    },
    {
      "cell_type": "markdown",
      "metadata": {},
      "source": [
        "We can assign values to variables with `=`"
      ],
      "id": "fd47762d-25d7-4d2c-ade9-b66f84ec0fda"
    },
    {
      "cell_type": "code",
      "execution_count": 4,
      "metadata": {
        "ExecuteTime": {
          "end_time": "2021-01-26T10:22:09.152051Z",
          "start_time": "2021-01-26T10:22:09.148135Z"
        },
        "slideshow": {
          "slide_type": "-"
        }
      },
      "outputs": [],
      "source": [
        "a = (3 + 5 ** 2) % 4\n",
        "a"
      ],
      "id": "fa6f6401"
    },
    {
      "cell_type": "markdown",
      "metadata": {},
      "source": [
        "## Remark\n",
        "\n",
        "We don’t declare the type of a variable before assigning its value. In\n",
        "C, conversely, one should write\n",
        "\n",
        "``` c\n",
        "int a = 4;\n",
        "```\n",
        "\n",
        "## Something cool\n",
        "\n",
        "-   **Arbitrary large** integer arithmetics"
      ],
      "id": "9f567f22-dd08-4d90-85ae-a85899fa316d"
    },
    {
      "cell_type": "code",
      "execution_count": 5,
      "metadata": {
        "ExecuteTime": {
          "end_time": "2021-01-26T10:22:20.017016Z",
          "start_time": "2021-01-26T10:22:20.012996Z"
        },
        "slideshow": {
          "slide_type": "fragment"
        }
      },
      "outputs": [],
      "source": [
        "17 ** 542"
      ],
      "id": "03cea005"
    },
    {
      "cell_type": "markdown",
      "metadata": {},
      "source": [
        "## Floats\n",
        "\n",
        "There exists a floating point type that is created when the variable has\n",
        "decimal values"
      ],
      "id": "f36086cf-8cd7-4e32-a572-03feee92c724"
    },
    {
      "cell_type": "code",
      "execution_count": 6,
      "metadata": {
        "ExecuteTime": {
          "end_time": "2021-01-26T10:22:48.180478Z",
          "start_time": "2021-01-26T10:22:48.177424Z"
        },
        "slideshow": {
          "slide_type": "-"
        }
      },
      "outputs": [],
      "source": [
        "c = 2."
      ],
      "id": "9314b493"
    },
    {
      "cell_type": "code",
      "execution_count": 7,
      "metadata": {
        "ExecuteTime": {
          "end_time": "2021-01-26T10:22:48.386461Z",
          "start_time": "2021-01-26T10:22:48.381009Z"
        },
        "slideshow": {
          "slide_type": "-"
        }
      },
      "outputs": [],
      "source": [
        "type(c)"
      ],
      "id": "88824f0f"
    },
    {
      "cell_type": "code",
      "execution_count": 8,
      "metadata": {
        "ExecuteTime": {
          "end_time": "2021-01-26T10:22:53.303241Z",
          "start_time": "2021-01-26T10:22:53.298876Z"
        },
        "slideshow": {
          "slide_type": "fragment"
        }
      },
      "outputs": [],
      "source": [
        "c = 2\n",
        "type(c)"
      ],
      "id": "3ae9b77f"
    },
    {
      "cell_type": "code",
      "execution_count": 9,
      "metadata": {
        "ExecuteTime": {
          "end_time": "2021-01-26T10:23:15.640321Z",
          "start_time": "2021-01-26T10:23:15.636205Z"
        },
        "slideshow": {
          "slide_type": "fragment"
        }
      },
      "outputs": [],
      "source": [
        "truc = 1 / 2\n",
        "truc"
      ],
      "id": "881f75ce"
    },
    {
      "cell_type": "code",
      "execution_count": 10,
      "metadata": {
        "ExecuteTime": {
          "end_time": "2021-01-26T10:23:36.468643Z",
          "start_time": "2021-01-26T10:23:36.464148Z"
        }
      },
      "outputs": [],
      "source": [
        "1 // 2 + 1 % 2"
      ],
      "id": "7c5816f0"
    },
    {
      "cell_type": "code",
      "execution_count": 11,
      "metadata": {
        "ExecuteTime": {
          "end_time": "2021-01-26T10:23:41.839969Z",
          "start_time": "2021-01-26T10:23:41.835363Z"
        },
        "slideshow": {
          "slide_type": "-"
        }
      },
      "outputs": [],
      "source": [
        "type(truc)"
      ],
      "id": "6b84b4dd"
    },
    {
      "cell_type": "markdown",
      "metadata": {},
      "source": [
        "## Boolean\n",
        "\n",
        "Similarly, boolean types are created from a comparison"
      ],
      "id": "fa64251b-828e-4b4f-a691-0e77f465da25"
    },
    {
      "cell_type": "code",
      "execution_count": 12,
      "metadata": {
        "ExecuteTime": {
          "end_time": "2021-01-26T10:23:43.765175Z",
          "start_time": "2021-01-26T10:23:43.761701Z"
        },
        "slideshow": {
          "slide_type": "fragment"
        }
      },
      "outputs": [],
      "source": [
        "test = 3 > 4\n",
        "test"
      ],
      "id": "21cc982f"
    },
    {
      "cell_type": "code",
      "execution_count": 13,
      "metadata": {
        "ExecuteTime": {
          "end_time": "2021-01-26T10:23:47.310818Z",
          "start_time": "2021-01-26T10:23:47.306145Z"
        },
        "slideshow": {
          "slide_type": "-"
        }
      },
      "outputs": [],
      "source": [
        "type(test)"
      ],
      "id": "ce4a0f18"
    },
    {
      "cell_type": "code",
      "execution_count": 14,
      "metadata": {
        "ExecuteTime": {
          "end_time": "2021-01-26T10:23:48.899891Z",
          "start_time": "2021-01-26T10:23:48.895700Z"
        },
        "slideshow": {
          "slide_type": "fragment"
        }
      },
      "outputs": [],
      "source": [
        "False == (not True)"
      ],
      "id": "2fa0e722"
    },
    {
      "cell_type": "code",
      "execution_count": 15,
      "metadata": {
        "ExecuteTime": {
          "end_time": "2021-01-26T10:23:56.264231Z",
          "start_time": "2021-01-26T10:23:56.259609Z"
        },
        "slideshow": {
          "slide_type": "fragment"
        }
      },
      "outputs": [],
      "source": [
        "1.41 < 2.71 and 2.71 < 3.14"
      ],
      "id": "205111d8"
    },
    {
      "cell_type": "code",
      "execution_count": 16,
      "metadata": {
        "ExecuteTime": {
          "end_time": "2021-01-26T10:24:06.450423Z",
          "start_time": "2021-01-26T10:24:06.446054Z"
        },
        "slideshow": {
          "slide_type": "-"
        }
      },
      "outputs": [],
      "source": [
        "# It's equivalent to\n",
        "1.41 < 2.71 < 3.14"
      ],
      "id": "f77f6730"
    },
    {
      "cell_type": "markdown",
      "metadata": {},
      "source": [
        "## Type conversion (casting)"
      ],
      "id": "fc29d745-bcbb-4bc4-9a92-689724108693"
    },
    {
      "cell_type": "code",
      "execution_count": 17,
      "metadata": {
        "ExecuteTime": {
          "end_time": "2021-01-26T10:24:23.846051Z",
          "start_time": "2021-01-26T10:24:23.841709Z"
        },
        "slideshow": {
          "slide_type": "fragment"
        }
      },
      "outputs": [],
      "source": [
        "a = 1\n",
        "type(a)"
      ],
      "id": "7d9fa4e9"
    },
    {
      "cell_type": "code",
      "execution_count": 18,
      "metadata": {
        "ExecuteTime": {
          "end_time": "2021-01-26T10:24:24.566291Z",
          "start_time": "2021-01-26T10:24:24.561510Z"
        },
        "slideshow": {
          "slide_type": "-"
        }
      },
      "outputs": [],
      "source": [
        "b = float(a)\n",
        "type(b)"
      ],
      "id": "36fc485e"
    },
    {
      "cell_type": "code",
      "execution_count": 19,
      "metadata": {
        "ExecuteTime": {
          "end_time": "2021-01-26T10:24:44.986299Z",
          "start_time": "2021-01-26T10:24:44.981939Z"
        },
        "slideshow": {
          "slide_type": "-"
        }
      },
      "outputs": [],
      "source": [
        "str(b)"
      ],
      "id": "9776fd3c"
    },
    {
      "cell_type": "code",
      "execution_count": 20,
      "metadata": {
        "ExecuteTime": {
          "end_time": "2021-01-26T10:24:52.865090Z",
          "start_time": "2021-01-26T10:24:52.860248Z"
        },
        "slideshow": {
          "slide_type": "fragment"
        }
      },
      "outputs": [],
      "source": [
        "bool(b)\n",
        "# All non-zero, non empty objects are casted to boolean as True (more later)"
      ],
      "id": "2613bdfe"
    },
    {
      "cell_type": "code",
      "execution_count": 21,
      "metadata": {
        "ExecuteTime": {
          "end_time": "2021-01-26T10:24:59.506191Z",
          "start_time": "2021-01-26T10:24:59.502013Z"
        },
        "slideshow": {
          "slide_type": "-"
        }
      },
      "outputs": [],
      "source": [
        "bool(1-1)"
      ],
      "id": "f1b3318f"
    },
    {
      "cell_type": "markdown",
      "metadata": {},
      "source": [
        "# Containers\n",
        "\n",
        "Python provides many efficient types of *containers* or *sequences*, in\n",
        "which collections of objects can be stored.\n",
        "\n",
        "The main ones are `list`, `tuple`, `set` and `dict` (but there are many\n",
        "others…)\n",
        "\n",
        "## Tuples"
      ],
      "id": "b3e4c8d2-228e-4e7e-9222-de3775de2082"
    },
    {
      "cell_type": "code",
      "execution_count": 22,
      "metadata": {
        "ExecuteTime": {
          "end_time": "2021-01-26T10:27:14.513637Z",
          "start_time": "2021-01-26T10:27:14.509638Z"
        },
        "slideshow": {
          "slide_type": "fragment"
        }
      },
      "outputs": [],
      "source": [
        "tt = 'truc', 3.14, \"truc\"\n",
        "tt"
      ],
      "id": "35eb1458"
    },
    {
      "cell_type": "code",
      "execution_count": 23,
      "metadata": {
        "ExecuteTime": {
          "end_time": "2021-01-26T10:27:18.172578Z",
          "start_time": "2021-01-26T10:27:18.168425Z"
        },
        "slideshow": {
          "slide_type": "-"
        }
      },
      "outputs": [],
      "source": [
        "tt[0]"
      ],
      "id": "98c0d676"
    },
    {
      "cell_type": "markdown",
      "metadata": {},
      "source": [
        "You can’t change a tuple, we say that it’s *immutable*"
      ],
      "id": "255ca6cd-03d5-4d5d-96a7-9e950d5f6610"
    },
    {
      "cell_type": "code",
      "execution_count": 24,
      "metadata": {
        "ExecuteTime": {
          "end_time": "2021-01-26T10:28:02.315034Z",
          "start_time": "2021-01-26T10:28:02.306507Z"
        },
        "slideshow": {
          "slide_type": "-"
        }
      },
      "outputs": [],
      "source": [
        "try:\n",
        "    tt[0] = 1\n",
        "except TypeError:\n",
        "    print(f\"TypeError: 'tuple' object does not support item assignment\")"
      ],
      "id": "0da9c90f"
    },
    {
      "cell_type": "markdown",
      "metadata": {},
      "source": [
        "Three ways of doing the same thing"
      ],
      "id": "1ab3ad4d-6555-4cad-a560-43eefd7085cc"
    },
    {
      "cell_type": "code",
      "execution_count": 25,
      "metadata": {
        "ExecuteTime": {
          "end_time": "2021-01-26T10:28:15.173558Z",
          "start_time": "2021-01-26T10:28:15.169603Z"
        },
        "slideshow": {
          "slide_type": "-"
        }
      },
      "outputs": [],
      "source": [
        "# Method 1\n",
        "tuple([1, 2, 3])"
      ],
      "id": "aa19d760"
    },
    {
      "cell_type": "code",
      "execution_count": 26,
      "metadata": {
        "ExecuteTime": {
          "end_time": "2021-01-26T10:28:18.262396Z",
          "start_time": "2021-01-26T10:28:18.257807Z"
        },
        "slideshow": {
          "slide_type": "-"
        }
      },
      "outputs": [],
      "source": [
        "# Method 2\n",
        "1, 2, 3"
      ],
      "id": "c490b158"
    },
    {
      "cell_type": "code",
      "execution_count": 27,
      "metadata": {
        "ExecuteTime": {
          "end_time": "2021-01-26T10:28:32.225077Z",
          "start_time": "2021-01-26T10:28:32.219931Z"
        },
        "slideshow": {
          "slide_type": "-"
        }
      },
      "outputs": [],
      "source": [
        "# Method 3\n",
        "(1, 2, 3)"
      ],
      "id": "97c8a075"
    },
    {
      "cell_type": "markdown",
      "metadata": {},
      "source": [
        "**Simpler is better in Python**, so usually you want to use Method 2."
      ],
      "id": "e2417813-f89d-47d1-ae59-10c034f52b97"
    },
    {
      "cell_type": "code",
      "execution_count": 28,
      "metadata": {
        "ExecuteTime": {
          "end_time": "2021-01-26T10:28:35.028409Z",
          "start_time": "2021-01-26T10:28:35.023677Z"
        },
        "slideshow": {
          "slide_type": "fragment"
        }
      },
      "outputs": [],
      "source": [
        "toto = 1, 2, 3\n",
        "toto"
      ],
      "id": "fa0406e7"
    },
    {
      "cell_type": "markdown",
      "metadata": {},
      "source": [
        "-   This is serious !\n",
        "\n",
        "## The Zen of Python easter’s egg"
      ],
      "id": "7f64cfe7-69dd-4813-acd3-d12ef3e20d4e"
    },
    {
      "cell_type": "code",
      "execution_count": 29,
      "metadata": {
        "ExecuteTime": {
          "end_time": "2021-01-26T10:28:41.814008Z",
          "start_time": "2021-01-26T10:28:41.805313Z"
        },
        "slideshow": {
          "slide_type": "-"
        }
      },
      "outputs": [],
      "source": [
        "import this"
      ],
      "id": "e5dd2fe0"
    },
    {
      "cell_type": "markdown",
      "metadata": {},
      "source": [
        "## Lists\n",
        "\n",
        "A list is an ordered collection of objects. These objects may have\n",
        "different types. For example:"
      ],
      "id": "78f4370a-c58b-48c2-a035-213557fe4a62"
    },
    {
      "cell_type": "code",
      "execution_count": 30,
      "metadata": {
        "ExecuteTime": {
          "end_time": "2021-01-26T10:28:56.683616Z",
          "start_time": "2021-01-26T10:28:56.680383Z"
        },
        "slideshow": {
          "slide_type": "-"
        }
      },
      "outputs": [],
      "source": [
        "colors = ['red', 'blue', 'green', 'black', 'white']"
      ],
      "id": "623042a3"
    },
    {
      "cell_type": "code",
      "execution_count": 31,
      "metadata": {
        "ExecuteTime": {
          "end_time": "2021-01-26T10:29:21.606351Z",
          "start_time": "2021-01-26T10:29:21.601561Z"
        }
      },
      "outputs": [],
      "source": [
        "colors[0]"
      ],
      "id": "bc2d9a05"
    },
    {
      "cell_type": "code",
      "execution_count": 32,
      "metadata": {
        "ExecuteTime": {
          "end_time": "2021-01-26T10:29:07.632451Z",
          "start_time": "2021-01-26T10:29:07.627681Z"
        },
        "slideshow": {
          "slide_type": "-"
        }
      },
      "outputs": [],
      "source": [
        "type(colors)"
      ],
      "id": "7f4325de"
    },
    {
      "cell_type": "markdown",
      "metadata": {},
      "source": [
        "*Indexing:* accessing individual objects contained in the list by their\n",
        "position"
      ],
      "id": "75faf228-c4a6-4746-a6b8-7e0900e8567c"
    },
    {
      "cell_type": "code",
      "execution_count": 33,
      "metadata": {
        "ExecuteTime": {
          "end_time": "2021-01-26T10:29:24.838416Z",
          "start_time": "2021-01-26T10:29:24.833616Z"
        },
        "slideshow": {
          "slide_type": "-"
        }
      },
      "outputs": [],
      "source": [
        "colors[2]"
      ],
      "id": "f2869fe7"
    },
    {
      "cell_type": "code",
      "execution_count": 34,
      "metadata": {
        "ExecuteTime": {
          "end_time": "2021-01-26T10:29:25.132251Z",
          "start_time": "2021-01-26T10:29:25.124359Z"
        },
        "slideshow": {
          "slide_type": "-"
        }
      },
      "outputs": [],
      "source": [
        "colors[2] = 3.14\n",
        "colors"
      ],
      "id": "f9848f83"
    },
    {
      "cell_type": "markdown",
      "metadata": {},
      "source": [
        "> **Warning**\n",
        ">\n",
        "> For any *iterable* object in Python, indexing *starts at 0* (as in C),\n",
        "> not at 1 (as in Fortran, R, or Matlab).\n",
        "\n",
        "Counting from the end with negative indices:"
      ],
      "id": "a486d59d-4b42-45fa-adf5-f90eb2a3e847"
    },
    {
      "cell_type": "code",
      "execution_count": 35,
      "metadata": {
        "ExecuteTime": {
          "end_time": "2021-01-26T10:29:44.258856Z",
          "start_time": "2021-01-26T10:29:44.254238Z"
        },
        "slideshow": {
          "slide_type": "-"
        }
      },
      "outputs": [],
      "source": [
        "colors[-1]"
      ],
      "id": "35e1b287"
    },
    {
      "cell_type": "markdown",
      "metadata": {},
      "source": [
        "Index must remain in the range of the list"
      ],
      "id": "5b8b999b-2dc2-44bc-a4f6-635845b4a3b3"
    },
    {
      "cell_type": "code",
      "execution_count": 36,
      "metadata": {
        "ExecuteTime": {
          "end_time": "2021-01-26T10:29:47.674912Z",
          "start_time": "2021-01-26T10:29:47.666346Z"
        },
        "slideshow": {
          "slide_type": "-"
        }
      },
      "outputs": [],
      "source": [
        "try:\n",
        "    colors[10]\n",
        "except IndexError:\n",
        "    print(f\"IndexError: 10 >= {len(colors)} ==len(colors), index out of range \")"
      ],
      "id": "c773e55b"
    },
    {
      "cell_type": "code",
      "execution_count": 37,
      "metadata": {
        "ExecuteTime": {
          "end_time": "2021-01-26T10:30:01.912160Z",
          "start_time": "2021-01-26T10:30:01.907265Z"
        },
        "slideshow": {
          "slide_type": "subslide"
        }
      },
      "outputs": [],
      "source": [
        "colors"
      ],
      "id": "41401578"
    },
    {
      "cell_type": "code",
      "execution_count": 38,
      "metadata": {
        "ExecuteTime": {
          "end_time": "2021-01-26T10:30:02.143331Z",
          "start_time": "2021-01-26T10:30:02.137270Z"
        }
      },
      "outputs": [],
      "source": [
        "tt"
      ],
      "id": "8825fedd"
    },
    {
      "cell_type": "code",
      "execution_count": 39,
      "metadata": {
        "ExecuteTime": {
          "end_time": "2021-01-26T10:30:34.000220Z",
          "start_time": "2021-01-26T10:30:33.995039Z"
        },
        "slideshow": {
          "slide_type": "-"
        }
      },
      "outputs": [],
      "source": [
        "colors.append(tt)\n",
        "colors"
      ],
      "id": "21e25291"
    },
    {
      "cell_type": "code",
      "execution_count": 40,
      "metadata": {
        "ExecuteTime": {
          "end_time": "2021-01-26T10:30:47.434827Z",
          "start_time": "2021-01-26T10:30:47.429744Z"
        },
        "slideshow": {
          "slide_type": "-"
        }
      },
      "outputs": [],
      "source": [
        "len(colors)"
      ],
      "id": "26d61221"
    },
    {
      "cell_type": "code",
      "execution_count": 41,
      "metadata": {
        "ExecuteTime": {
          "end_time": "2021-01-26T10:30:52.949200Z",
          "start_time": "2021-01-26T10:30:52.944225Z"
        }
      },
      "outputs": [],
      "source": [
        "len(tt)"
      ],
      "id": "d2751166"
    },
    {
      "cell_type": "markdown",
      "metadata": {},
      "source": [
        "## Slicing: obtaining sublists of regularly-spaced elements\n",
        "\n",
        "This work with anything iterable whenever it makes sense (`list`, `str`,\n",
        "`tuple`, etc.)"
      ],
      "id": "f76734c8-9f73-4f9f-81cd-b9851c09e255"
    },
    {
      "cell_type": "code",
      "execution_count": 42,
      "metadata": {
        "ExecuteTime": {
          "end_time": "2021-01-26T10:30:59.895713Z",
          "start_time": "2021-01-26T10:30:59.890434Z"
        },
        "slideshow": {
          "slide_type": "fragment"
        }
      },
      "outputs": [],
      "source": [
        "colors"
      ],
      "id": "d7721813"
    },
    {
      "cell_type": "code",
      "execution_count": 43,
      "metadata": {
        "ExecuteTime": {
          "end_time": "2021-01-26T10:31:26.118892Z",
          "start_time": "2021-01-26T10:31:26.113811Z"
        },
        "slideshow": {
          "slide_type": "-"
        }
      },
      "outputs": [],
      "source": [
        "list(reversed(colors))"
      ],
      "id": "f5fe3343"
    },
    {
      "cell_type": "code",
      "execution_count": 44,
      "metadata": {
        "ExecuteTime": {
          "end_time": "2021-01-26T10:32:55.756965Z",
          "start_time": "2021-01-26T10:32:55.752090Z"
        },
        "slideshow": {
          "slide_type": "-"
        }
      },
      "outputs": [],
      "source": [
        "colors[::-1]"
      ],
      "id": "a6b497ee"
    },
    {
      "cell_type": "markdown",
      "metadata": {},
      "source": [
        "> **Slicing syntax:**\n",
        ">\n",
        "> `colors[start:stop:stride]`\n",
        ">\n",
        "> `start, stop, stride` are optional, with default values\n",
        "> `0, len(sequence), 1`\n",
        "\n",
        "l"
      ],
      "id": "c14f6214-1c7b-4bf6-85a7-5ec242d86617"
    },
    {
      "cell_type": "code",
      "execution_count": 45,
      "metadata": {},
      "outputs": [],
      "source": [
        "print(slice(4))\n",
        "print(slice(1,5))\n",
        "print(slice(None,13,3))"
      ],
      "id": "76c5bd61"
    },
    {
      "cell_type": "code",
      "execution_count": 46,
      "metadata": {},
      "outputs": [],
      "source": [
        "sl = slice(1,5,2)\n",
        "colors[sl]"
      ],
      "id": "d8c4dad1"
    },
    {
      "cell_type": "code",
      "execution_count": 47,
      "metadata": {
        "ExecuteTime": {
          "end_time": "2021-01-15T08:34:10.985959Z",
          "start_time": "2021-01-15T08:34:10.980519Z"
        },
        "slideshow": {
          "slide_type": "subslide"
        }
      },
      "outputs": [],
      "source": [
        "colors"
      ],
      "id": "d69a4721"
    },
    {
      "cell_type": "code",
      "execution_count": 48,
      "metadata": {
        "ExecuteTime": {
          "end_time": "2021-01-15T08:34:11.188011Z",
          "start_time": "2021-01-15T08:34:11.182382Z"
        },
        "slideshow": {
          "slide_type": "-"
        }
      },
      "outputs": [],
      "source": [
        "colors[3:]"
      ],
      "id": "7d436ac1"
    },
    {
      "cell_type": "code",
      "execution_count": 49,
      "metadata": {
        "ExecuteTime": {
          "end_time": "2021-01-15T08:34:11.462017Z",
          "start_time": "2021-01-15T08:34:11.457005Z"
        },
        "slideshow": {
          "slide_type": "-"
        }
      },
      "outputs": [],
      "source": [
        "colors[:3]"
      ],
      "id": "664f6fd0"
    },
    {
      "cell_type": "code",
      "execution_count": 50,
      "metadata": {
        "ExecuteTime": {
          "end_time": "2021-01-15T08:34:11.666073Z",
          "start_time": "2021-01-15T08:34:11.661006Z"
        },
        "slideshow": {
          "slide_type": "-"
        }
      },
      "outputs": [],
      "source": [
        "colors[1::2]"
      ],
      "id": "3943f6aa"
    },
    {
      "cell_type": "code",
      "execution_count": 51,
      "metadata": {
        "ExecuteTime": {
          "end_time": "2021-01-15T08:34:11.892685Z",
          "start_time": "2021-01-15T08:34:11.886394Z"
        },
        "slideshow": {
          "slide_type": "-"
        }
      },
      "outputs": [],
      "source": [
        "colors[::-1]"
      ],
      "id": "b5f52857"
    },
    {
      "cell_type": "markdown",
      "metadata": {},
      "source": [
        "## Strings\n",
        "\n",
        "Different string syntaxes (simple, double or triple quotes):"
      ],
      "id": "f08b8b6e-b07a-4b59-ac8e-fc32e956a0b9"
    },
    {
      "cell_type": "code",
      "execution_count": 52,
      "metadata": {
        "ExecuteTime": {
          "end_time": "2021-01-15T08:34:12.527044Z",
          "start_time": "2021-01-15T08:34:12.522242Z"
        },
        "slideshow": {
          "slide_type": "fragment"
        }
      },
      "outputs": [],
      "source": [
        "s = 'tintin'\n",
        "type(s)"
      ],
      "id": "9eb85f9b"
    },
    {
      "cell_type": "code",
      "execution_count": 53,
      "metadata": {
        "ExecuteTime": {
          "end_time": "2021-01-15T08:34:12.741025Z",
          "start_time": "2021-01-15T08:34:12.735783Z"
        },
        "slideshow": {
          "slide_type": "-"
        }
      },
      "outputs": [],
      "source": [
        "s"
      ],
      "id": "c2c9ecb4"
    },
    {
      "cell_type": "code",
      "execution_count": 54,
      "metadata": {
        "ExecuteTime": {
          "end_time": "2021-01-15T08:34:12.954647Z",
          "start_time": "2021-01-15T08:34:12.948403Z"
        },
        "slideshow": {
          "slide_type": "fragment"
        }
      },
      "outputs": [],
      "source": [
        "s = \"\"\"         Bonjour,\n",
        "Je m'appelle Stephane.\n",
        "Je vous souhaite une bonne journée.\n",
        "Salut.       \n",
        "\"\"\"\n",
        "s"
      ],
      "id": "a74e04bf"
    },
    {
      "cell_type": "code",
      "execution_count": 55,
      "metadata": {
        "ExecuteTime": {
          "end_time": "2021-01-15T08:34:13.096374Z",
          "start_time": "2021-01-15T08:34:13.091122Z"
        },
        "slideshow": {
          "slide_type": "-"
        }
      },
      "outputs": [],
      "source": [
        "s.strip()"
      ],
      "id": "a1e02961"
    },
    {
      "cell_type": "code",
      "execution_count": 56,
      "metadata": {
        "ExecuteTime": {
          "end_time": "2021-01-15T08:34:13.378652Z",
          "start_time": "2021-01-15T08:34:13.372858Z"
        },
        "slideshow": {
          "slide_type": "subslide"
        }
      },
      "outputs": [],
      "source": [
        "print(s.strip())"
      ],
      "id": "5960fbcc"
    },
    {
      "cell_type": "code",
      "execution_count": 57,
      "metadata": {
        "ExecuteTime": {
          "end_time": "2021-01-15T08:34:13.455410Z",
          "start_time": "2021-01-15T08:34:13.449943Z"
        },
        "slideshow": {
          "slide_type": "-"
        }
      },
      "outputs": [],
      "source": [
        "len(s)"
      ],
      "id": "e23f2439"
    },
    {
      "cell_type": "code",
      "execution_count": 58,
      "metadata": {
        "ExecuteTime": {
          "end_time": "2021-01-15T08:34:14.309647Z",
          "start_time": "2021-01-15T08:34:14.304154Z"
        },
        "slideshow": {
          "slide_type": "fragment"
        }
      },
      "outputs": [],
      "source": [
        "# Casting to a list\n",
        "list(s.strip()[:15])"
      ],
      "id": "70ff14ba"
    },
    {
      "cell_type": "code",
      "execution_count": 59,
      "metadata": {
        "ExecuteTime": {
          "end_time": "2021-01-15T08:34:14.523496Z",
          "start_time": "2021-01-15T08:34:14.518586Z"
        },
        "slideshow": {
          "slide_type": "fragment"
        }
      },
      "outputs": [],
      "source": [
        "# Arithmetics\n",
        "print('Bonjour' * 2)\n",
        "print('Hello' + ' all')"
      ],
      "id": "e1ea2943"
    },
    {
      "cell_type": "code",
      "execution_count": 60,
      "metadata": {
        "ExecuteTime": {
          "end_time": "2021-01-15T08:34:15.160961Z",
          "start_time": "2021-01-15T08:34:15.155909Z"
        },
        "slideshow": {
          "slide_type": "-"
        }
      },
      "outputs": [],
      "source": [
        "sss = 'A'\n",
        "sss += 'bc'\n",
        "sss += 'dE'\n",
        "sss.lower()"
      ],
      "id": "e8dab3ab"
    },
    {
      "cell_type": "code",
      "execution_count": 61,
      "metadata": {
        "ExecuteTime": {
          "end_time": "2021-01-15T08:34:15.363145Z",
          "start_time": "2021-01-15T08:34:15.357847Z"
        },
        "slideshow": {
          "slide_type": "subslide"
        }
      },
      "outputs": [],
      "source": [
        "ss = s.strip()\n",
        "print(ss[:10] + ss[24:28])"
      ],
      "id": "334bfd69"
    },
    {
      "cell_type": "code",
      "execution_count": 62,
      "metadata": {},
      "outputs": [],
      "source": [
        "s.strip()"
      ],
      "id": "fa8f1eb8"
    },
    {
      "cell_type": "code",
      "execution_count": 63,
      "metadata": {
        "ExecuteTime": {
          "end_time": "2021-01-15T08:34:15.594172Z",
          "start_time": "2021-01-15T08:34:15.588495Z"
        },
        "slideshow": {
          "slide_type": "-"
        }
      },
      "outputs": [],
      "source": [
        "s.strip().split('\\n')"
      ],
      "id": "d2c6b2f5"
    },
    {
      "cell_type": "code",
      "execution_count": 64,
      "metadata": {
        "ExecuteTime": {
          "end_time": "2021-01-15T08:34:17.689813Z",
          "start_time": "2021-01-15T08:34:17.684346Z"
        },
        "slideshow": {
          "slide_type": "-"
        }
      },
      "outputs": [],
      "source": [
        "s[::3]"
      ],
      "id": "37dae744"
    },
    {
      "cell_type": "code",
      "execution_count": 65,
      "metadata": {
        "ExecuteTime": {
          "end_time": "2021-01-15T08:34:23.785045Z",
          "start_time": "2021-01-15T08:34:23.779973Z"
        },
        "slideshow": {
          "slide_type": "-"
        }
      },
      "outputs": [],
      "source": [
        "s[3:10]"
      ],
      "id": "12b881fd"
    },
    {
      "cell_type": "code",
      "execution_count": 66,
      "metadata": {
        "ExecuteTime": {
          "end_time": "2021-01-15T08:34:23.993089Z",
          "start_time": "2021-01-15T08:34:23.987450Z"
        },
        "slideshow": {
          "slide_type": "fragment"
        }
      },
      "outputs": [],
      "source": [
        "\" \".join(['Il', 'fait', 'super', 'beau', \"aujourd'hui\"])"
      ],
      "id": "199e67be"
    },
    {
      "cell_type": "markdown",
      "metadata": {},
      "source": [
        "Chaining method calls is the basic of pipeline building."
      ],
      "id": "ee47094d-d8db-47f7-be54-1c90563c380d"
    },
    {
      "cell_type": "code",
      "execution_count": 67,
      "metadata": {},
      "outputs": [],
      "source": [
        "( \n",
        "    \" \".join(['Il', 'fait', 'super', 'beau', \"aujourd'hui\"])\n",
        "       .title()\n",
        "       .replace(' ', '')\n",
        "       .replace(\"'\",\"\")\n",
        ")"
      ],
      "id": "973bc103"
    },
    {
      "cell_type": "markdown",
      "metadata": {},
      "source": [
        "### Important\n",
        "\n",
        "A string is *immutable* !!"
      ],
      "id": "cfd9d958-ffd4-448b-8896-cfda38154696"
    },
    {
      "cell_type": "code",
      "execution_count": 68,
      "metadata": {
        "ExecuteTime": {
          "end_time": "2021-01-15T08:34:24.332754Z",
          "start_time": "2021-01-15T08:34:24.329558Z"
        },
        "slideshow": {
          "slide_type": "-"
        }
      },
      "outputs": [],
      "source": [
        "s = 'I am an immutable guy'"
      ],
      "id": "1aa68aea"
    },
    {
      "cell_type": "code",
      "execution_count": 69,
      "metadata": {
        "ExecuteTime": {
          "end_time": "2021-01-15T08:34:24.511029Z",
          "start_time": "2021-01-15T08:34:24.499601Z"
        },
        "slideshow": {
          "slide_type": "-"
        }
      },
      "outputs": [],
      "source": [
        "try:  \n",
        "    s[2] = 's'\n",
        "except TypeError:\n",
        "    print(f\"Strings are immutable! s is still '{s}'\")"
      ],
      "id": "78581d97"
    },
    {
      "cell_type": "code",
      "execution_count": 70,
      "metadata": {
        "ExecuteTime": {
          "end_time": "2021-01-15T08:34:24.732120Z",
          "start_time": "2021-01-15T08:34:24.725628Z"
        },
        "slideshow": {
          "slide_type": "fragment"
        }
      },
      "outputs": [],
      "source": [
        "id(s)"
      ],
      "id": "6aaed65c"
    },
    {
      "cell_type": "code",
      "execution_count": 71,
      "metadata": {
        "ExecuteTime": {
          "end_time": "2021-01-15T08:34:25.275379Z",
          "start_time": "2021-01-15T08:34:25.269724Z"
        }
      },
      "outputs": [],
      "source": [
        "print(s + ', for sure')\n",
        "id(s), id(s + ' for sure')"
      ],
      "id": "c3ee0a3f"
    },
    {
      "cell_type": "markdown",
      "metadata": {},
      "source": [
        "### Extra stuff with strings"
      ],
      "id": "5f600456-bff8-431b-b969-2efad6e26e15"
    },
    {
      "cell_type": "code",
      "execution_count": 72,
      "metadata": {
        "ExecuteTime": {
          "end_time": "2021-01-15T08:34:25.685455Z",
          "start_time": "2021-01-15T08:34:25.679575Z"
        },
        "slideshow": {
          "slide_type": "-"
        }
      },
      "outputs": [],
      "source": [
        "'square of 2 is ' + str(2 ** 2)"
      ],
      "id": "61333af4"
    },
    {
      "cell_type": "code",
      "execution_count": 73,
      "metadata": {
        "ExecuteTime": {
          "end_time": "2021-01-15T08:34:26.075613Z",
          "start_time": "2021-01-15T08:34:26.070551Z"
        },
        "slideshow": {
          "slide_type": "-"
        }
      },
      "outputs": [],
      "source": [
        "'square of 2 is %d' % 2 ** 2"
      ],
      "id": "add6a72a"
    },
    {
      "cell_type": "code",
      "execution_count": 74,
      "metadata": {
        "ExecuteTime": {
          "end_time": "2021-01-15T08:34:28.906445Z",
          "start_time": "2021-01-15T08:34:28.900777Z"
        },
        "slideshow": {
          "slide_type": "-"
        }
      },
      "outputs": [],
      "source": [
        "'square of 2 is {}'.format(2 ** 2)"
      ],
      "id": "5ee3fe8f"
    },
    {
      "cell_type": "code",
      "execution_count": 75,
      "metadata": {
        "ExecuteTime": {
          "end_time": "2021-01-15T08:34:29.230345Z",
          "start_time": "2021-01-15T08:34:29.225362Z"
        },
        "slideshow": {
          "slide_type": "-"
        }
      },
      "outputs": [],
      "source": [
        "'square of 2 is {square}'.format(square=2 ** 2)"
      ],
      "id": "e14894c8"
    },
    {
      "cell_type": "code",
      "execution_count": 76,
      "metadata": {
        "ExecuteTime": {
          "end_time": "2021-01-15T08:34:29.464228Z",
          "start_time": "2021-01-15T08:34:29.457777Z"
        },
        "slideshow": {
          "slide_type": "fragment"
        }
      },
      "outputs": [],
      "source": [
        "# And since Python 3.6 you can use an `f-string`\n",
        "number = 2\n",
        "square = number ** 2\n",
        "\n",
        "f'square of {number} is {square}'"
      ],
      "id": "fa46cb14"
    },
    {
      "cell_type": "markdown",
      "metadata": {},
      "source": [
        "### The `in` keyword\n",
        "\n",
        "You can use the `in` keyword with any container, whenever it makes sense"
      ],
      "id": "fc87dcd0-fc4c-4796-903d-7a3683ae0361"
    },
    {
      "cell_type": "code",
      "execution_count": 77,
      "metadata": {
        "ExecuteTime": {
          "end_time": "2021-01-15T08:34:29.779042Z",
          "start_time": "2021-01-15T08:34:29.774313Z"
        },
        "slideshow": {
          "slide_type": "fragment"
        }
      },
      "outputs": [],
      "source": [
        "print(s)\n",
        "print('Salut' in s)"
      ],
      "id": "fc974a99"
    },
    {
      "cell_type": "code",
      "execution_count": 78,
      "metadata": {
        "ExecuteTime": {
          "end_time": "2021-01-15T08:34:30.599065Z",
          "start_time": "2021-01-15T08:34:30.595645Z"
        },
        "slideshow": {
          "slide_type": "-"
        }
      },
      "outputs": [],
      "source": [
        "print(tt)\n",
        "print('truc' in tt)"
      ],
      "id": "831595f4"
    },
    {
      "cell_type": "code",
      "execution_count": 79,
      "metadata": {
        "ExecuteTime": {
          "end_time": "2021-01-15T08:34:30.819735Z",
          "start_time": "2021-01-15T08:34:30.813275Z"
        },
        "slideshow": {
          "slide_type": "fragment"
        }
      },
      "outputs": [],
      "source": [
        "print(colors)\n",
        "print('truc' in colors)"
      ],
      "id": "4748790b"
    },
    {
      "cell_type": "code",
      "execution_count": 80,
      "metadata": {
        "ExecuteTime": {
          "end_time": "2021-01-15T08:34:31.035913Z",
          "start_time": "2021-01-15T08:34:31.030502Z"
        }
      },
      "outputs": [],
      "source": [
        "('truc', 3.14, 'truc') in colors"
      ],
      "id": "6ed5a54b"
    },
    {
      "cell_type": "markdown",
      "metadata": {},
      "source": [
        "> **Warning**\n",
        ">\n",
        "> Strings are not bytes. Have a look at chapter 4 *Unicode Text versus\n",
        "> Bytes* in [Fluent\n",
        "> Python](https://www.oreilly.com/library/view/fluent-python-2nd/9781492056348/)\n",
        "\n",
        "### Brain-teasing\n",
        "\n",
        "Explain this weird behaviour:"
      ],
      "id": "b7b066fc-b922-4963-9e5b-c72618b6e576"
    },
    {
      "cell_type": "code",
      "execution_count": 81,
      "metadata": {},
      "outputs": [],
      "source": [
        "5 in [1, 2, 3, 4] == False"
      ],
      "id": "c5914832"
    },
    {
      "cell_type": "code",
      "execution_count": 82,
      "metadata": {
        "ExecuteTime": {
          "end_time": "2021-01-15T08:34:31.612963Z",
          "start_time": "2021-01-15T08:34:31.607708Z"
        },
        "slideshow": {
          "slide_type": "-"
        }
      },
      "outputs": [],
      "source": [
        "[1, 2, 3, 4] == False"
      ],
      "id": "38db0d69"
    },
    {
      "cell_type": "code",
      "execution_count": 83,
      "metadata": {
        "ExecuteTime": {
          "end_time": "2021-01-15T08:34:31.825068Z",
          "start_time": "2021-01-15T08:34:31.819205Z"
        },
        "slideshow": {
          "slide_type": "-"
        }
      },
      "outputs": [],
      "source": [
        "5 not in [1, 2, 3, 4]"
      ],
      "id": "96525e1e"
    },
    {
      "cell_type": "code",
      "execution_count": 84,
      "metadata": {
        "ExecuteTime": {
          "end_time": "2021-01-15T08:34:32.299157Z",
          "start_time": "2021-01-15T08:34:32.293640Z"
        },
        "slideshow": {
          "slide_type": "-"
        }
      },
      "outputs": [],
      "source": [
        "(5 in [1, 2, 3, 4]) == False"
      ],
      "id": "dcf24796"
    },
    {
      "cell_type": "code",
      "execution_count": 85,
      "metadata": {
        "ExecuteTime": {
          "end_time": "2021-01-15T08:34:32.524705Z",
          "start_time": "2021-01-15T08:34:32.518440Z"
        },
        "slideshow": {
          "slide_type": "fragment"
        }
      },
      "outputs": [],
      "source": [
        "# ANSWER.\n",
        "# This is a chained comparison. We have seen that \n",
        "1 < 2 < 3\n",
        "# is equivalent to\n",
        "(1 < 2) and (2 < 3)\n",
        "# so that\n",
        "5 in [1, 2, 3, 4] == False\n",
        "# is equivalent to\n",
        "(5 in [1, 2, 3, 4]) and ([1, 2, 3, 4] == False)"
      ],
      "id": "a0ee55d6"
    },
    {
      "cell_type": "code",
      "execution_count": 86,
      "metadata": {},
      "outputs": [],
      "source": [
        "(5 in [1, 2, 3, 4])"
      ],
      "id": "a135b24d"
    },
    {
      "cell_type": "code",
      "execution_count": 87,
      "metadata": {},
      "outputs": [],
      "source": [
        "([1, 2, 3, 4] == False)"
      ],
      "id": "80475ef1"
    },
    {
      "cell_type": "markdown",
      "metadata": {},
      "source": [
        "## Dictionaries\n",
        "\n",
        "-   A dictionary is basically an efficient table that **maps keys to\n",
        "    values**.\n",
        "-   The **MOST** important container in Python.\n",
        "-   Many things are actually a `dict` under the hood in `Python`"
      ],
      "id": "4da22239-db93-4c5c-a1e6-eee4f7b7ae8d"
    },
    {
      "cell_type": "code",
      "execution_count": 88,
      "metadata": {
        "ExecuteTime": {
          "end_time": "2021-01-15T08:34:33.375226Z",
          "start_time": "2021-01-15T08:34:33.371037Z"
        },
        "slideshow": {
          "slide_type": "fragment"
        }
      },
      "outputs": [],
      "source": [
        "tel = {'emmanuelle': 5752, 'sebastian': 5578}\n",
        "print(tel)\n",
        "print(type(tel))"
      ],
      "id": "5f66e6dc"
    },
    {
      "cell_type": "code",
      "execution_count": 89,
      "metadata": {
        "ExecuteTime": {
          "end_time": "2021-01-15T08:34:33.572354Z",
          "start_time": "2021-01-15T08:34:33.566227Z"
        },
        "slideshow": {
          "slide_type": "fragment"
        }
      },
      "outputs": [],
      "source": [
        "tel['emmanuelle'], tel['sebastian']"
      ],
      "id": "b1c0c567"
    },
    {
      "cell_type": "code",
      "execution_count": 90,
      "metadata": {
        "ExecuteTime": {
          "end_time": "2021-01-15T08:34:33.711591Z",
          "start_time": "2021-01-15T08:34:33.705748Z"
        }
      },
      "outputs": [],
      "source": [
        "tel['francis'] = '5919'\n",
        "tel"
      ],
      "id": "d92cc9b3"
    },
    {
      "cell_type": "code",
      "execution_count": 91,
      "metadata": {
        "ExecuteTime": {
          "end_time": "2021-01-15T08:34:33.889041Z",
          "start_time": "2021-01-15T08:34:33.883802Z"
        }
      },
      "outputs": [],
      "source": [
        "len(tel)"
      ],
      "id": "a6a65d5e"
    },
    {
      "cell_type": "markdown",
      "metadata": {},
      "source": [
        "### Important remarks\n",
        "\n",
        "-   Keys can be of different types\n",
        "-   A key must be of **immutable** type"
      ],
      "id": "c82cc103-fbec-40b8-a7d0-57514ac1f171"
    },
    {
      "cell_type": "code",
      "execution_count": 92,
      "metadata": {
        "ExecuteTime": {
          "end_time": "2021-01-15T08:34:35.180227Z",
          "start_time": "2021-01-15T08:34:35.172919Z"
        }
      },
      "outputs": [],
      "source": [
        "tel[7162453] = [1, 3, 2]\n",
        "tel[3.14] = 'bidule'\n",
        "tel[('jaouad', 2)] = 1234\n",
        "tel"
      ],
      "id": "35634d49"
    },
    {
      "cell_type": "code",
      "execution_count": 93,
      "metadata": {},
      "outputs": [],
      "source": [
        "try:\n",
        "    sorted(tel)\n",
        "except TypeError:\n",
        "    print(\"TypeError: '<' not supported between instances of 'int' and 'str'\")    "
      ],
      "id": "59b9267f"
    },
    {
      "cell_type": "code",
      "execution_count": 94,
      "metadata": {
        "ExecuteTime": {
          "end_time": "2021-01-15T08:34:35.781423Z",
          "start_time": "2021-01-15T08:34:35.770370Z"
        }
      },
      "outputs": [],
      "source": [
        "# A list is mutable and not hashable\n",
        "try:\n",
        "    tel[['jaouad']] = '5678'\n",
        "except TypeError:\n",
        "    print(\"TypeError: unhashable type: 'list'\")"
      ],
      "id": "aed888e8"
    },
    {
      "cell_type": "code",
      "execution_count": 95,
      "metadata": {},
      "outputs": [],
      "source": [
        "try:\n",
        "    tel[2]\n",
        "except KeyError:\n",
        "    print(\"KeyError: 2\")"
      ],
      "id": "43120df9"
    },
    {
      "cell_type": "code",
      "execution_count": 96,
      "metadata": {
        "ExecuteTime": {
          "end_time": "2021-01-15T08:34:35.984417Z",
          "start_time": "2021-01-15T08:34:35.978289Z"
        },
        "slideshow": {
          "slide_type": "subslide"
        }
      },
      "outputs": [],
      "source": [
        "tel = {'emmanuelle': 5752, 'sebastian' : 5578, 'jaouad' : 1234}\n",
        "print(tel.keys())\n",
        "print(tel.values())\n",
        "print(tel.items())"
      ],
      "id": "115180e6"
    },
    {
      "cell_type": "code",
      "execution_count": 97,
      "metadata": {},
      "outputs": [],
      "source": [
        "list(tel.keys())[2]"
      ],
      "id": "224576fe"
    },
    {
      "cell_type": "code",
      "execution_count": 98,
      "metadata": {},
      "outputs": [],
      "source": [
        "tel.values().mapping"
      ],
      "id": "0d629053"
    },
    {
      "cell_type": "code",
      "execution_count": 99,
      "metadata": {},
      "outputs": [],
      "source": [
        "type(tel.keys())"
      ],
      "id": "50d514ae"
    },
    {
      "cell_type": "code",
      "execution_count": 100,
      "metadata": {
        "ExecuteTime": {
          "end_time": "2021-01-15T08:34:36.135136Z",
          "start_time": "2021-01-15T08:34:36.129801Z"
        },
        "slideshow": {
          "slide_type": "fragment"
        }
      },
      "outputs": [],
      "source": [
        "'rémi' in tel"
      ],
      "id": "8803e112"
    },
    {
      "cell_type": "code",
      "execution_count": 101,
      "metadata": {
        "ExecuteTime": {
          "end_time": "2021-01-15T08:34:36.649224Z",
          "start_time": "2021-01-15T08:34:36.643788Z"
        }
      },
      "outputs": [],
      "source": [
        "list(tel)"
      ],
      "id": "83deb35a"
    },
    {
      "cell_type": "code",
      "execution_count": 102,
      "metadata": {},
      "outputs": [],
      "source": [
        "'rémi' in tel.keys()"
      ],
      "id": "8b306d80"
    },
    {
      "cell_type": "markdown",
      "metadata": {},
      "source": [
        "You can swap values like this"
      ],
      "id": "8a2c4159-50eb-412a-b55c-08e22081ae7c"
    },
    {
      "cell_type": "code",
      "execution_count": 103,
      "metadata": {
        "ExecuteTime": {
          "end_time": "2021-01-15T08:34:37.036245Z",
          "start_time": "2021-01-15T08:34:37.032296Z"
        }
      },
      "outputs": [],
      "source": [
        "print(tel)\n",
        "tel['emmanuelle'], tel['sebastian'] = tel['sebastian'], tel['emmanuelle']\n",
        "print(tel)"
      ],
      "id": "70249460"
    },
    {
      "cell_type": "code",
      "execution_count": 104,
      "metadata": {
        "ExecuteTime": {
          "end_time": "2021-01-15T08:34:37.755117Z",
          "start_time": "2021-01-15T08:34:37.750155Z"
        }
      },
      "outputs": [],
      "source": [
        "# It works, since\n",
        "a, b = 2.71, 3.14\n",
        "a, b = b, a\n",
        "a, b"
      ],
      "id": "8d913cab"
    },
    {
      "cell_type": "markdown",
      "metadata": {},
      "source": [
        "### Exercise 1\n",
        "\n",
        "Get keys of `tel` sorted by decreasing order"
      ],
      "id": "4230d421-110e-4130-b1a2-8d93e88847d8"
    },
    {
      "cell_type": "code",
      "execution_count": 105,
      "metadata": {
        "ExecuteTime": {
          "end_time": "2021-01-15T08:34:38.375787Z",
          "start_time": "2021-01-15T08:34:38.372593Z"
        },
        "slideshow": {
          "slide_type": "-"
        }
      },
      "outputs": [],
      "source": [
        "tel = {'emmanuelle': 5752, 'sebastian' : 5578, 'jaouad' : 1234}"
      ],
      "id": "8aa55a11"
    },
    {
      "cell_type": "markdown",
      "metadata": {},
      "source": [
        "### Exercise 2\n",
        "\n",
        "Get keys of `tel` sorted by increasing *values*"
      ],
      "id": "88b61649-2392-4028-89ee-a434b66d90b4"
    },
    {
      "cell_type": "code",
      "execution_count": 108,
      "metadata": {
        "ExecuteTime": {
          "end_time": "2021-01-15T08:34:39.295210Z",
          "start_time": "2021-01-15T08:34:39.291759Z"
        }
      },
      "outputs": [],
      "source": [
        "tel = {'emmanuelle': 5752, 'sebastian' : 5578, 'jaouad' : 1234}"
      ],
      "id": "0d7b4e0d"
    },
    {
      "cell_type": "markdown",
      "metadata": {},
      "source": [
        "### Exercise 3\n",
        "\n",
        "Obtain a sorted-by-key version of `tel`"
      ],
      "id": "4b488abb-ab65-472f-b4e7-79ec5bffa77e"
    },
    {
      "cell_type": "code",
      "execution_count": 112,
      "metadata": {
        "ExecuteTime": {
          "end_time": "2021-01-15T08:34:40.064213Z",
          "start_time": "2021-01-15T08:34:40.060078Z"
        }
      },
      "outputs": [],
      "source": [
        "tel = {'emmanuelle': 5752, 'sebastian' : 5578, 'jaouad' : 1234}"
      ],
      "id": "d2f32da3"
    },
    {
      "cell_type": "markdown",
      "metadata": {},
      "source": [
        "## Sets\n",
        "\n",
        "A set is an unordered container, containing unique elements"
      ],
      "id": "6c54a597-0175-4d35-84a9-bc6f40009666"
    },
    {
      "cell_type": "code",
      "execution_count": 116,
      "metadata": {
        "ExecuteTime": {
          "end_time": "2021-01-15T08:34:43.408375Z",
          "start_time": "2021-01-15T08:34:43.402917Z"
        }
      },
      "outputs": [],
      "source": [
        "ss = {1, 2, 2, 2, 3, 3, 'tintin', 'tintin', 'toto'}\n",
        "ss"
      ],
      "id": "e74c8374"
    },
    {
      "cell_type": "code",
      "execution_count": 117,
      "metadata": {
        "ExecuteTime": {
          "end_time": "2021-01-15T08:34:43.689264Z",
          "start_time": "2021-01-15T08:34:43.683234Z"
        }
      },
      "outputs": [],
      "source": [
        "s = 'truc truc bidule truc'\n",
        "set(s)"
      ],
      "id": "4754a9cc"
    },
    {
      "cell_type": "code",
      "execution_count": 118,
      "metadata": {},
      "outputs": [],
      "source": [
        "set(list(s))"
      ],
      "id": "3fe07dde"
    },
    {
      "cell_type": "code",
      "execution_count": 119,
      "metadata": {
        "ExecuteTime": {
          "end_time": "2021-01-15T08:34:43.900734Z",
          "start_time": "2021-01-15T08:34:43.894591Z"
        },
        "slideshow": {
          "slide_type": "fragment"
        }
      },
      "outputs": [],
      "source": [
        "{1, 5, 2, 1, 1}.union({1, 2, 3})"
      ],
      "id": "8757a5f5"
    },
    {
      "cell_type": "code",
      "execution_count": 120,
      "metadata": {},
      "outputs": [],
      "source": [
        "set((1, 5, 3, 2))"
      ],
      "id": "bf828ad0"
    },
    {
      "cell_type": "code",
      "execution_count": 121,
      "metadata": {
        "ExecuteTime": {
          "end_time": "2021-01-15T08:34:44.236053Z",
          "start_time": "2021-01-15T08:34:44.230406Z"
        }
      },
      "outputs": [],
      "source": [
        "set([1, 5, 2, 1, 1]).intersection(set([1, 2, 3]))"
      ],
      "id": "53f7715e"
    },
    {
      "cell_type": "code",
      "execution_count": 122,
      "metadata": {
        "ExecuteTime": {
          "end_time": "2021-01-15T08:34:44.521051Z",
          "start_time": "2021-01-15T08:34:44.515051Z"
        }
      },
      "outputs": [],
      "source": [
        "ss.add('tintin')\n",
        "ss"
      ],
      "id": "f535f2cc"
    },
    {
      "cell_type": "code",
      "execution_count": 123,
      "metadata": {},
      "outputs": [],
      "source": [
        "ss.difference(range(6))"
      ],
      "id": "09353f2a"
    },
    {
      "cell_type": "markdown",
      "metadata": {},
      "source": [
        "You can combine all containers together"
      ],
      "id": "b935f7d6-b675-4655-bd02-dddb28a862ce"
    },
    {
      "cell_type": "code",
      "execution_count": 124,
      "metadata": {
        "ExecuteTime": {
          "end_time": "2021-01-15T08:34:45.317823Z",
          "start_time": "2021-01-15T08:34:45.310957Z"
        }
      },
      "outputs": [],
      "source": [
        "dd = {\n",
        "    'truc': [1, 2, 3], \n",
        "    5: (1, 4, 2),\n",
        "    (1, 3): {'hello', 'world'}\n",
        "}\n",
        "dd"
      ],
      "id": "ead6718c"
    },
    {
      "cell_type": "markdown",
      "metadata": {},
      "source": [
        "# Assigments in `Python` is name binding\n",
        "\n",
        "## Everything is either mutable or immutable"
      ],
      "id": "a12cb500-97ad-4456-a9aa-74bcca853618"
    },
    {
      "cell_type": "code",
      "execution_count": 125,
      "metadata": {
        "ExecuteTime": {
          "end_time": "2021-01-15T08:34:46.250900Z",
          "start_time": "2021-01-15T08:34:46.245797Z"
        },
        "slideshow": {
          "slide_type": "subslide"
        }
      },
      "outputs": [],
      "source": [
        "ss = {1, 2, 3}\n",
        "sss = ss\n",
        "sss, ss"
      ],
      "id": "94f56d37"
    },
    {
      "cell_type": "code",
      "execution_count": 126,
      "metadata": {},
      "outputs": [],
      "source": [
        "id(ss), id(sss)"
      ],
      "id": "58fc87b1"
    },
    {
      "cell_type": "code",
      "execution_count": 127,
      "metadata": {
        "ExecuteTime": {
          "end_time": "2021-01-15T08:34:46.487601Z",
          "start_time": "2021-01-15T08:34:46.484299Z"
        },
        "slideshow": {
          "slide_type": "-"
        }
      },
      "outputs": [],
      "source": [
        "sss.add(\"Truc\")"
      ],
      "id": "0719194c"
    },
    {
      "cell_type": "markdown",
      "metadata": {},
      "source": [
        "**Question.** What is in `ss` ?"
      ],
      "id": "f842c2f9-e945-4a93-ad60-c7cce8b36350"
    },
    {
      "cell_type": "code",
      "execution_count": 128,
      "metadata": {
        "ExecuteTime": {
          "end_time": "2021-01-15T08:34:47.555940Z",
          "start_time": "2021-01-15T08:34:47.549993Z"
        },
        "slideshow": {
          "slide_type": "fragment"
        }
      },
      "outputs": [],
      "source": [
        "ss, sss"
      ],
      "id": "67a5fc85"
    },
    {
      "cell_type": "markdown",
      "metadata": {},
      "source": [
        "`ss` and `sss` are names for the same object"
      ],
      "id": "17d14bf3-bce8-4e1e-9c72-a359bde35ca1"
    },
    {
      "cell_type": "code",
      "execution_count": 129,
      "metadata": {
        "ExecuteTime": {
          "end_time": "2021-01-15T08:34:47.889439Z",
          "start_time": "2021-01-15T08:34:47.883802Z"
        },
        "slideshow": {
          "slide_type": "-"
        }
      },
      "outputs": [],
      "source": [
        "id(ss), id(sss)"
      ],
      "id": "92c6d80d"
    },
    {
      "cell_type": "code",
      "execution_count": 130,
      "metadata": {
        "ExecuteTime": {
          "end_time": "2021-01-15T08:34:48.385040Z",
          "start_time": "2021-01-15T08:34:48.380259Z"
        },
        "slideshow": {
          "slide_type": "-"
        }
      },
      "outputs": [],
      "source": [
        "ss is sss"
      ],
      "id": "07b9f3ed"
    },
    {
      "cell_type": "code",
      "execution_count": 131,
      "metadata": {},
      "outputs": [],
      "source": [
        "help('is')"
      ],
      "id": "6bbfa01a"
    },
    {
      "cell_type": "markdown",
      "metadata": {},
      "source": [
        "## About assigments\n",
        "\n",
        "-   Python never copies an object\n",
        "-   Unless you ask him to\n",
        "\n",
        "When you code\n",
        "\n",
        "``` python\n",
        "x = [1, 2, 3]\n",
        "y = x\n",
        "```\n",
        "\n",
        "you just - **bind** the variable name `x` to a list `[1, 2, 3]` - give\n",
        "another name `y` to the same object\n",
        "\n",
        "**Important remarks**\n",
        "\n",
        "-   **Everything** is an object in Python\n",
        "-   Either **immutable** or **mutable**"
      ],
      "id": "c320ddef-dc5d-4bf1-be29-02f678cc92ae"
    },
    {
      "cell_type": "code",
      "execution_count": 132,
      "metadata": {
        "ExecuteTime": {
          "end_time": "2021-01-15T08:34:48.640520Z",
          "start_time": "2021-01-15T08:34:48.635298Z"
        }
      },
      "outputs": [],
      "source": [
        "id(1), id(1+1), id(2)"
      ],
      "id": "3653141d"
    },
    {
      "cell_type": "markdown",
      "metadata": {},
      "source": [
        "**A `list` is mutable**"
      ],
      "id": "d79cc0ef-5220-474b-bb01-a7b04e54caec"
    },
    {
      "cell_type": "code",
      "execution_count": 133,
      "metadata": {
        "ExecuteTime": {
          "end_time": "2021-01-15T08:34:48.849673Z",
          "start_time": "2021-01-15T08:34:48.845469Z"
        },
        "slideshow": {
          "slide_type": "-"
        }
      },
      "outputs": [],
      "source": [
        "x = [1, 2, 3]\n",
        "print(id(x), x)\n",
        "x[0] += 42; x.append(3.14)\n",
        "print(id(x), x)"
      ],
      "id": "5bd666de"
    },
    {
      "cell_type": "markdown",
      "metadata": {},
      "source": [
        "**A `str` is immutable**\n",
        "\n",
        "In order to “change” an **immutable** object, Python creates a new one"
      ],
      "id": "4d22f8c9-464d-487c-8469-c8830c7217e3"
    },
    {
      "cell_type": "code",
      "execution_count": 134,
      "metadata": {
        "ExecuteTime": {
          "end_time": "2021-01-15T08:34:48.989090Z",
          "start_time": "2021-01-15T08:34:48.984655Z"
        }
      },
      "outputs": [],
      "source": [
        "s = 'to'\n",
        "print(id(s), s)\n",
        "s += 'to'\n",
        "print(id(s), s)"
      ],
      "id": "f596a2ad"
    },
    {
      "cell_type": "markdown",
      "metadata": {},
      "source": [
        "**Once again, a `list` is mutable**"
      ],
      "id": "0bb7068f-9e1a-43c7-a4f5-26603e194848"
    },
    {
      "cell_type": "code",
      "execution_count": 135,
      "metadata": {
        "ExecuteTime": {
          "end_time": "2021-01-15T08:34:49.185045Z",
          "start_time": "2021-01-15T08:34:49.179743Z"
        },
        "slideshow": {
          "slide_type": "-"
        }
      },
      "outputs": [],
      "source": [
        "super_list = [3.14, (1, 2, 3), 'tintin']\n",
        "other_list = super_list\n",
        "id(other_list), id(super_list)"
      ],
      "id": "dda71f5b"
    },
    {
      "cell_type": "markdown",
      "metadata": {},
      "source": [
        "-   `other_list` and `super_list` are the same list\n",
        "-   If you change one, you change the other.\n",
        "-   `id` returns the identity of an object. Two objects with the same\n",
        "    idendity are the same (not only the same type, but the same\n",
        "    instance)"
      ],
      "id": "a0d8221b-a696-4213-8b66-d28b7f1442fe"
    },
    {
      "cell_type": "code",
      "execution_count": 136,
      "metadata": {
        "ExecuteTime": {
          "end_time": "2021-01-15T08:34:49.490066Z",
          "start_time": "2021-01-15T08:34:49.483598Z"
        }
      },
      "outputs": [],
      "source": [
        "other_list[1] = 'youps'\n",
        "other_list, super_list"
      ],
      "id": "6d19004f"
    },
    {
      "cell_type": "code",
      "execution_count": 137,
      "metadata": {},
      "outputs": [],
      "source": [
        "id(super_list), id(other_list)"
      ],
      "id": "8d0254c3"
    },
    {
      "cell_type": "markdown",
      "metadata": {},
      "source": [
        "## If you want a copy, to need to ask for one"
      ],
      "id": "e1cef29c-2348-42c5-a4b5-35da295f01ac"
    },
    {
      "cell_type": "code",
      "execution_count": 138,
      "metadata": {
        "ExecuteTime": {
          "end_time": "2021-01-15T08:34:49.810775Z",
          "start_time": "2021-01-15T08:34:49.804825Z"
        }
      },
      "outputs": [],
      "source": [
        "other_list = super_list.copy()\n",
        "id(other_list), id(super_list)"
      ],
      "id": "6db1ce62"
    },
    {
      "cell_type": "code",
      "execution_count": 139,
      "metadata": {
        "ExecuteTime": {
          "end_time": "2021-01-15T08:34:50.044319Z",
          "start_time": "2021-01-15T08:34:50.038631Z"
        }
      },
      "outputs": [],
      "source": [
        "other_list[1] = 'copy'\n",
        "other_list, super_list"
      ],
      "id": "293dc501"
    },
    {
      "cell_type": "markdown",
      "metadata": {},
      "source": [
        "Only `other_list` is modified.\n",
        "\n",
        "But… what if you have a `list` of `list` ? (or a mutable object\n",
        "containing mutable objects)"
      ],
      "id": "d23d1845-4487-4087-9642-ed32d647e732"
    },
    {
      "cell_type": "code",
      "execution_count": 140,
      "metadata": {
        "ExecuteTime": {
          "end_time": "2021-01-15T08:34:50.522523Z",
          "start_time": "2021-01-15T08:34:50.515916Z"
        },
        "slideshow": {
          "slide_type": "fragment"
        }
      },
      "outputs": [],
      "source": [
        "l1, l2 = [1, 2, 3], [4, 5, 6]\n",
        "list_list = [l1, l2]\n",
        "list_list"
      ],
      "id": "a5bd7ad9"
    },
    {
      "cell_type": "code",
      "execution_count": 141,
      "metadata": {},
      "outputs": [],
      "source": [
        "id(list_list), id(list_list[0]), id(l1), list_list[0] is l1"
      ],
      "id": "7c251607"
    },
    {
      "cell_type": "markdown",
      "metadata": {},
      "source": [
        "Let’s make a copy of `list_list`"
      ],
      "id": "5161767f-f9d3-463e-9300-ca570d0cefdd"
    },
    {
      "cell_type": "code",
      "execution_count": 142,
      "metadata": {
        "ExecuteTime": {
          "end_time": "2021-01-15T08:34:50.900506Z",
          "start_time": "2021-01-15T08:34:50.894593Z"
        }
      },
      "outputs": [],
      "source": [
        "copy_list = list_list.copy()\n",
        "copy_list.append('super')\n",
        "list_list, copy_list"
      ],
      "id": "d97467ce"
    },
    {
      "cell_type": "code",
      "execution_count": 143,
      "metadata": {},
      "outputs": [],
      "source": [
        "id(list_list[0]), id(copy_list[0])"
      ],
      "id": "03e23423"
    },
    {
      "cell_type": "markdown",
      "metadata": {},
      "source": [
        "OK, only `copy_list` is modified, as expected\n",
        "\n",
        "But now…"
      ],
      "id": "bf7ba373-b905-435e-a9d0-055682735672"
    },
    {
      "cell_type": "code",
      "execution_count": 144,
      "metadata": {
        "ExecuteTime": {
          "end_time": "2021-01-15T08:34:51.550226Z",
          "start_time": "2021-01-15T08:34:51.545049Z"
        }
      },
      "outputs": [],
      "source": [
        "copy_list[0][1] = 'oups'\n",
        "copy_list, list_list"
      ],
      "id": "b52fea68"
    },
    {
      "cell_type": "markdown",
      "metadata": {},
      "source": [
        "**Question.** What happened ?!?\n",
        "\n",
        "-   The `list_list` object is copied\n",
        "-   But NOT what it’s containing !\n",
        "-   By default `copy` does a *shallow* copy, not a *deep* copy\n",
        "-   It does not build copies of what is contained\n",
        "-   If you want to copy an object and all that is contained in it, you\n",
        "    need to use `deepcopy`."
      ],
      "id": "a3b24ed5-fbd3-42dd-871c-9dd558914ef1"
    },
    {
      "cell_type": "code",
      "execution_count": 145,
      "metadata": {
        "ExecuteTime": {
          "end_time": "2021-01-15T08:34:52.242785Z",
          "start_time": "2021-01-15T08:34:52.236814Z"
        }
      },
      "outputs": [],
      "source": [
        "from copy import deepcopy\n",
        "\n",
        "copy_list = deepcopy(list_list)\n",
        "copy_list[0][1] = 'incredible !'\n",
        "list_list, copy_list"
      ],
      "id": "41d45199"
    },
    {
      "cell_type": "markdown",
      "metadata": {},
      "source": [
        "## Final remarks"
      ],
      "id": "61f9a0ea-93cf-4fb1-9454-ea054ad11271"
    },
    {
      "cell_type": "code",
      "execution_count": 146,
      "metadata": {
        "ExecuteTime": {
          "end_time": "2021-01-15T08:34:52.389405Z",
          "start_time": "2021-01-15T08:34:52.384515Z"
        }
      },
      "outputs": [],
      "source": [
        "tt = ([1, 2, 3], [4, 5, 6])\n",
        "print(id(tt), tt)\n",
        "print(list(map(id, tt)))"
      ],
      "id": "cc87a3d8"
    },
    {
      "cell_type": "code",
      "execution_count": 147,
      "metadata": {
        "ExecuteTime": {
          "end_time": "2021-01-15T08:34:52.490073Z",
          "start_time": "2021-01-15T08:34:52.483857Z"
        }
      },
      "outputs": [],
      "source": [
        "tt[0][1] = '42'\n",
        "print(id(tt), tt)\n",
        "print(list(map(id, tt)))"
      ],
      "id": "04ed1ad8"
    },
    {
      "cell_type": "code",
      "execution_count": 148,
      "metadata": {},
      "outputs": [],
      "source": [
        "s = [1, 2, 3]"
      ],
      "id": "d19907c1"
    },
    {
      "cell_type": "code",
      "execution_count": 149,
      "metadata": {},
      "outputs": [],
      "source": [
        "s2 = s"
      ],
      "id": "2fe642d9"
    },
    {
      "cell_type": "code",
      "execution_count": 150,
      "metadata": {},
      "outputs": [],
      "source": [
        "s2 is s"
      ],
      "id": "0968661b"
    },
    {
      "cell_type": "code",
      "execution_count": 151,
      "metadata": {},
      "outputs": [],
      "source": [
        "id(s2), id(s)"
      ],
      "id": "f9694859"
    },
    {
      "cell_type": "markdown",
      "metadata": {},
      "source": [
        "# Control flow and other stuff…\n",
        "\n",
        "Namely tests, loops, again booleans, etc."
      ],
      "id": "360a7f96-6197-4c9c-b393-706b19fc9ecf"
    },
    {
      "cell_type": "code",
      "execution_count": 152,
      "metadata": {
        "ExecuteTime": {
          "end_time": "2021-01-15T08:34:52.822274Z",
          "start_time": "2021-01-15T08:34:52.818018Z"
        },
        "slideshow": {
          "slide_type": "subslide"
        }
      },
      "outputs": [],
      "source": [
        "if 2 ** 2 == 5:\n",
        "    print('Obvious')\n",
        "else:\n",
        "    print('YES')\n",
        "print('toujours')"
      ],
      "id": "8711b819"
    },
    {
      "cell_type": "markdown",
      "metadata": {},
      "source": [
        "## Blocks are delimited by indentation!"
      ],
      "id": "24647b08-dbff-41fe-b369-f5db5c855c3c"
    },
    {
      "cell_type": "code",
      "execution_count": 153,
      "metadata": {
        "ExecuteTime": {
          "end_time": "2021-01-15T08:34:53.244482Z",
          "start_time": "2021-01-15T08:34:53.240054Z"
        }
      },
      "outputs": [],
      "source": [
        "a = 3\n",
        "if a > 0:\n",
        "    if a == 1:\n",
        "        print(1)\n",
        "    elif a == 2:\n",
        "        print(2)\n",
        "elif a == 2:\n",
        "    print(2)\n",
        "elif a == 3:\n",
        "    print(3)\n",
        "else:\n",
        "    print(a)"
      ],
      "id": "b1283407"
    },
    {
      "cell_type": "markdown",
      "metadata": {},
      "source": [
        "## Anything can be understood as a boolean\n",
        "\n",
        "For example, don’t do this to test if a list is empty"
      ],
      "id": "60716208-fe90-41a7-abb1-a736883c5a89"
    },
    {
      "cell_type": "code",
      "execution_count": 154,
      "metadata": {
        "ExecuteTime": {
          "end_time": "2021-01-15T08:34:53.660533Z",
          "start_time": "2021-01-15T08:34:53.655820Z"
        }
      },
      "outputs": [],
      "source": [
        "l2 = ['hello', 'everybody']\n",
        "\n",
        "if len(l2) > 0:\n",
        "    print(l2[0])"
      ],
      "id": "6f6f7402"
    },
    {
      "cell_type": "markdown",
      "metadata": {},
      "source": [
        "but this"
      ],
      "id": "c9ce63cf-5e5f-4656-945b-23d09b3eca47"
    },
    {
      "cell_type": "code",
      "execution_count": 155,
      "metadata": {
        "ExecuteTime": {
          "end_time": "2021-01-15T08:34:54.244191Z",
          "start_time": "2021-01-15T08:34:54.239801Z"
        }
      },
      "outputs": [],
      "source": [
        "if l2:\n",
        "    print(l2[0])"
      ],
      "id": "b5f45759"
    },
    {
      "cell_type": "markdown",
      "metadata": {},
      "source": [
        "**Some poetry**\n",
        "\n",
        "-   An empty `dict` is `False`\n",
        "-   An empty `string` is `False`\n",
        "-   An empty `list` is `False`\n",
        "-   An empty `tuple` is `False`\n",
        "-   An empty `set` is `False`\n",
        "-   `0` is `False`\n",
        "-   `.0` is `False`\n",
        "-   etc…\n",
        "-   everything else is `True`\n",
        "\n",
        "## While loops"
      ],
      "id": "69011e52-d6d5-497a-bbc5-d6a1b776f2e3"
    },
    {
      "cell_type": "code",
      "execution_count": 156,
      "metadata": {
        "ExecuteTime": {
          "end_time": "2021-01-15T08:34:55.427330Z",
          "start_time": "2021-01-15T08:34:55.422079Z"
        }
      },
      "outputs": [],
      "source": [
        "a = 10\n",
        "b = 1\n",
        "while b < a:\n",
        "    b = b + 1\n",
        "    print(b)"
      ],
      "id": "a5047d76"
    },
    {
      "cell_type": "markdown",
      "metadata": {},
      "source": [
        "Compute the decimals of Pi using the Wallis formula\n",
        "\n",
        "$$\n",
        "\\pi = 2 \\prod_{i=1}^{100} \\frac{4i^2}{4i^2 - 1}\n",
        "$$"
      ],
      "id": "4a169ef9-b22b-4549-bf62-009ec64063e2"
    },
    {
      "cell_type": "code",
      "execution_count": 157,
      "metadata": {
        "ExecuteTime": {
          "end_time": "2021-01-15T08:34:55.901297Z",
          "start_time": "2021-01-15T08:34:55.815952Z"
        }
      },
      "outputs": [],
      "source": [
        "pi = 2\n",
        "eps = 1e-10\n",
        "dif = 2 * eps\n",
        "i = 1\n",
        "while dif > eps:\n",
        "    pi, i, old_pi = pi * 4 * i ** 2 / (4 * i ** 2 - 1), i + 1, pi\n",
        "    dif = pi - old_pi"
      ],
      "id": "a3919acc"
    },
    {
      "cell_type": "code",
      "execution_count": 158,
      "metadata": {
        "ExecuteTime": {
          "end_time": "2021-01-15T08:34:55.998039Z",
          "start_time": "2021-01-15T08:34:55.993033Z"
        }
      },
      "outputs": [],
      "source": [
        "pi"
      ],
      "id": "e459787e"
    },
    {
      "cell_type": "code",
      "execution_count": 159,
      "metadata": {
        "ExecuteTime": {
          "end_time": "2021-01-15T08:34:56.672400Z",
          "start_time": "2021-01-15T08:34:56.667181Z"
        }
      },
      "outputs": [],
      "source": [
        "from math import pi\n",
        "\n",
        "pi"
      ],
      "id": "c64dcf13"
    },
    {
      "cell_type": "markdown",
      "metadata": {},
      "source": [
        "## `for` loop with `range`\n",
        "\n",
        "-   Iteration with an index, with a list, with many things !\n",
        "-   `range` has the same parameters as with slicing `start:end:stride`,\n",
        "    all parameters being optional"
      ],
      "id": "c3ae08b0-7439-4f41-911b-a63c6534084a"
    },
    {
      "cell_type": "code",
      "execution_count": 160,
      "metadata": {
        "ExecuteTime": {
          "end_time": "2021-01-15T08:34:57.074626Z",
          "start_time": "2021-01-15T08:34:57.068953Z"
        }
      },
      "outputs": [],
      "source": [
        "for i in range(10):\n",
        "    print(i)"
      ],
      "id": "96ef225b"
    },
    {
      "cell_type": "code",
      "execution_count": 161,
      "metadata": {
        "ExecuteTime": {
          "end_time": "2021-01-15T08:34:57.288732Z",
          "start_time": "2021-01-15T08:34:57.283152Z"
        },
        "slideshow": {
          "slide_type": "subslide"
        }
      },
      "outputs": [],
      "source": [
        "for i in range(4):\n",
        "    print(i + 1)\n",
        "print('-')\n",
        "\n",
        "for i in range(1, 5):\n",
        "    print(i)\n",
        "print('-')\n",
        "\n",
        "for i in range(1, 10, 3):\n",
        "    print(i)"
      ],
      "id": "d98e56cb"
    },
    {
      "cell_type": "markdown",
      "metadata": {},
      "source": [
        "**Something for nerds**. You can use `else` in a `for` loop"
      ],
      "id": "ccb46b1d-6e0d-40ae-80ad-f162520aa769"
    },
    {
      "cell_type": "code",
      "execution_count": 162,
      "metadata": {
        "ExecuteTime": {
          "end_time": "2021-01-15T08:35:03.792632Z",
          "start_time": "2021-01-15T08:35:03.788211Z"
        }
      },
      "outputs": [],
      "source": [
        "names = ['stephane', 'mokhtar', 'jaouad', 'simon', 'yiyang']\n",
        "\n",
        "for name in names:\n",
        "    if name.startswith('u'):\n",
        "        print(name)\n",
        "        break\n",
        "else:\n",
        "    print('Not found.')"
      ],
      "id": "48e6a00c"
    },
    {
      "cell_type": "code",
      "execution_count": 163,
      "metadata": {
        "ExecuteTime": {
          "end_time": "2021-01-15T08:35:11.089072Z",
          "start_time": "2021-01-15T08:35:11.084070Z"
        }
      },
      "outputs": [],
      "source": [
        "names = ['stephane', 'mokhtar', 'jaouad', 'ulysse', 'simon', 'yiyang']\n",
        "\n",
        "for name in names:\n",
        "    if name.startswith('u'):\n",
        "        print(name)\n",
        "        break\n",
        "else:\n",
        "    print('Not found.')"
      ],
      "id": "5e746f55"
    },
    {
      "cell_type": "markdown",
      "metadata": {},
      "source": [
        "## For loops over iterable objects\n",
        "\n",
        "You can iterate using `for` over any container: `list`, `tuple`, `dict`,\n",
        "`str`, `set` among others…"
      ],
      "id": "26bdcd4a-7642-408a-ae91-dcbf2b4544bb"
    },
    {
      "cell_type": "code",
      "execution_count": 164,
      "metadata": {
        "ExecuteTime": {
          "end_time": "2021-01-15T08:35:14.358404Z",
          "start_time": "2021-01-15T08:35:14.354354Z"
        }
      },
      "outputs": [],
      "source": [
        "colors = ['red', 'blue', 'black', 'white']\n",
        "peoples = ['stephane', 'jaouad', 'mokhtar', 'yiyang', 'rémi']"
      ],
      "id": "a6c2606a"
    },
    {
      "cell_type": "code",
      "execution_count": 165,
      "metadata": {
        "ExecuteTime": {
          "end_time": "2021-01-15T08:35:14.546348Z",
          "start_time": "2021-01-15T08:35:14.541964Z"
        }
      },
      "outputs": [],
      "source": [
        "# This is stupid\n",
        "for i in range(len(colors)):\n",
        "    print(colors[i])\n",
        "    \n",
        "# This is better\n",
        "for color in colors:\n",
        "    print(color)"
      ],
      "id": "0737dc6d"
    },
    {
      "cell_type": "markdown",
      "metadata": {},
      "source": [
        "To iterate over several sequences at the same time, use `zip`"
      ],
      "id": "97c94b1c-fec2-4911-8902-01aa148952a3"
    },
    {
      "cell_type": "code",
      "execution_count": 166,
      "metadata": {
        "ExecuteTime": {
          "end_time": "2021-01-15T08:35:15.578703Z",
          "start_time": "2021-01-15T08:35:15.574575Z"
        }
      },
      "outputs": [],
      "source": [
        "for color, people in zip(colors, peoples):\n",
        "    print(color, people)"
      ],
      "id": "4ee913d5"
    },
    {
      "cell_type": "code",
      "execution_count": 167,
      "metadata": {
        "ExecuteTime": {
          "end_time": "2021-01-15T08:35:15.787784Z",
          "start_time": "2021-01-15T08:35:15.781691Z"
        },
        "slideshow": {
          "slide_type": "fragment"
        }
      },
      "outputs": [],
      "source": [
        "l = [\"Bonjour\", {'francis': 5214, 'stephane': 5123}, ('truc', 3)]\n",
        "for e in l:\n",
        "    print(e, len(e))"
      ],
      "id": "08c0b112"
    },
    {
      "cell_type": "markdown",
      "metadata": {},
      "source": [
        "**Loop over a `str`**"
      ],
      "id": "c327da56-fa17-4326-be92-ef1a575a3428"
    },
    {
      "cell_type": "code",
      "execution_count": 168,
      "metadata": {
        "ExecuteTime": {
          "end_time": "2021-01-15T08:35:16.284944Z",
          "start_time": "2021-01-15T08:35:16.279583Z"
        }
      },
      "outputs": [],
      "source": [
        "s = 'Bonjour'\n",
        "for c in s:\n",
        "    print(c)"
      ],
      "id": "305e7d73"
    },
    {
      "cell_type": "markdown",
      "metadata": {},
      "source": [
        "**Loop over a `dict`**"
      ],
      "id": "c648c8cc-7a6e-4335-b25d-ef6535b969ce"
    },
    {
      "cell_type": "code",
      "execution_count": 169,
      "metadata": {
        "ExecuteTime": {
          "end_time": "2021-01-15T08:35:24.915816Z",
          "start_time": "2021-01-15T08:35:24.910552Z"
        }
      },
      "outputs": [],
      "source": [
        "dd = {(1, 3): {'hello', 'world'}, 'truc': [1, 2, 3], 5: (1, 4, 2)}\n",
        "\n",
        "# Default is to loop over keys\n",
        "for key in dd:\n",
        "    print(key)"
      ],
      "id": "dad88815"
    },
    {
      "cell_type": "code",
      "execution_count": 170,
      "metadata": {
        "ExecuteTime": {
          "end_time": "2021-01-15T08:35:25.116664Z",
          "start_time": "2021-01-15T08:35:25.112459Z"
        }
      },
      "outputs": [],
      "source": [
        "# Loop over values\n",
        "for e in dd.values():\n",
        "    print(e)"
      ],
      "id": "5055b51e"
    },
    {
      "cell_type": "code",
      "execution_count": 171,
      "metadata": {
        "ExecuteTime": {
          "end_time": "2021-01-15T08:35:25.253625Z",
          "start_time": "2021-01-15T08:35:25.248561Z"
        }
      },
      "outputs": [],
      "source": [
        "# Loop over items (key, value) pairs\n",
        "for key, val in dd.items():\n",
        "    print(key, val)"
      ],
      "id": "4d6fe911"
    },
    {
      "cell_type": "code",
      "execution_count": 172,
      "metadata": {},
      "outputs": [],
      "source": [
        "for t in dd.items():\n",
        "    print(t)"
      ],
      "id": "b416df1e"
    },
    {
      "cell_type": "markdown",
      "metadata": {},
      "source": [
        "## Comprehensions\n",
        "\n",
        "You can construct a `list`, `dict`, `set` and others using the\n",
        "**comprehension** syntax\n",
        "\n",
        "**`list` comprehension**"
      ],
      "id": "947203ad-282f-4124-ab1a-09416151682d"
    },
    {
      "cell_type": "code",
      "execution_count": 173,
      "metadata": {
        "ExecuteTime": {
          "end_time": "2021-01-15T08:35:27.023136Z",
          "start_time": "2021-01-15T08:35:27.016816Z"
        }
      },
      "outputs": [],
      "source": [
        "print(colors)\n",
        "print(peoples)"
      ],
      "id": "bdccad6e"
    },
    {
      "cell_type": "code",
      "execution_count": 174,
      "metadata": {},
      "outputs": [],
      "source": [
        "l = []\n",
        "for p, c in zip(peoples, colors):\n",
        "    if len(c)<=4 :\n",
        "        l.append(p)\n",
        "print(l)"
      ],
      "id": "e0fc770a"
    },
    {
      "cell_type": "code",
      "execution_count": 175,
      "metadata": {},
      "outputs": [],
      "source": [
        "# The list of people with favorite color that has no more than 4 characters\n",
        "\n",
        "[people for color, people in zip(colors, peoples) if len(color) <= 4]"
      ],
      "id": "5dcb8332"
    },
    {
      "cell_type": "markdown",
      "metadata": {},
      "source": [
        "**`dict` comprehension**"
      ],
      "id": "0d97d30c-ff73-437d-9ed8-c2cd772f37b3"
    },
    {
      "cell_type": "code",
      "execution_count": 176,
      "metadata": {
        "ExecuteTime": {
          "end_time": "2021-01-15T08:35:29.425720Z",
          "start_time": "2021-01-15T08:35:29.418729Z"
        }
      },
      "outputs": [],
      "source": [
        "{people: color for color, people in zip(colors, peoples) if len(color) <= 4}"
      ],
      "id": "c488452a"
    },
    {
      "cell_type": "code",
      "execution_count": 177,
      "metadata": {
        "ExecuteTime": {
          "end_time": "2021-01-15T08:35:29.650791Z",
          "start_time": "2021-01-15T08:35:29.645099Z"
        },
        "slideshow": {
          "slide_type": "fragment"
        }
      },
      "outputs": [],
      "source": [
        "# Allows to build a dict from two lists (for keys and values)\n",
        "{key: value for (key, value) in zip(peoples, colors)}"
      ],
      "id": "fbd2d48e"
    },
    {
      "cell_type": "code",
      "execution_count": 178,
      "metadata": {
        "ExecuteTime": {
          "end_time": "2021-01-15T08:35:29.733037Z",
          "start_time": "2021-01-15T08:35:29.728275Z"
        }
      },
      "outputs": [],
      "source": [
        "# But it's simpler (so better) to use\n",
        "dict(zip(peoples, colors))"
      ],
      "id": "e23bc837"
    },
    {
      "cell_type": "markdown",
      "metadata": {},
      "source": [
        "Something very convenient is `enumerate`"
      ],
      "id": "ae233b2b-c4d9-4c31-80d8-7a7bb911101f"
    },
    {
      "cell_type": "code",
      "execution_count": 179,
      "metadata": {
        "ExecuteTime": {
          "end_time": "2021-01-15T08:35:34.108535Z",
          "start_time": "2021-01-15T08:35:34.101660Z"
        }
      },
      "outputs": [],
      "source": [
        "for i, color in enumerate(colors):\n",
        "    print(i, color)"
      ],
      "id": "a670ee9b"
    },
    {
      "cell_type": "code",
      "execution_count": 180,
      "metadata": {
        "ExecuteTime": {
          "end_time": "2021-01-15T08:35:34.308091Z",
          "start_time": "2021-01-15T08:35:34.302386Z"
        }
      },
      "outputs": [],
      "source": [
        "list(enumerate(colors))"
      ],
      "id": "7c000324"
    },
    {
      "cell_type": "code",
      "execution_count": 181,
      "metadata": {},
      "outputs": [],
      "source": [
        "dict(enumerate(s))"
      ],
      "id": "877f0cd2"
    },
    {
      "cell_type": "code",
      "execution_count": 182,
      "metadata": {
        "ExecuteTime": {
          "end_time": "2021-01-15T08:35:34.436719Z",
          "start_time": "2021-01-15T08:35:34.432315Z"
        },
        "slideshow": {
          "slide_type": "fragment"
        }
      },
      "outputs": [],
      "source": [
        "print(dict(enumerate(s)))"
      ],
      "id": "e0b7a887"
    },
    {
      "cell_type": "code",
      "execution_count": 183,
      "metadata": {
        "ExecuteTime": {
          "end_time": "2021-01-15T08:35:35.307514Z",
          "start_time": "2021-01-15T08:35:35.302402Z"
        }
      },
      "outputs": [],
      "source": [
        "s = 'Hey everyone'\n",
        "{c: i for i, c in enumerate(s)}"
      ],
      "id": "5031383a"
    },
    {
      "cell_type": "markdown",
      "metadata": {},
      "source": [
        "## About functional programming\n",
        "\n",
        "We can use `lambda` to define **anonymous** functions, and use them in\n",
        "the `map` and `reduce` functions"
      ],
      "id": "ead2241c-673f-4fc1-a0ee-cdce6c1cbbf7"
    },
    {
      "cell_type": "code",
      "execution_count": 184,
      "metadata": {
        "ExecuteTime": {
          "end_time": "2021-01-15T08:35:37.077273Z",
          "start_time": "2021-01-15T08:35:37.071704Z"
        }
      },
      "outputs": [],
      "source": [
        "square = lambda x: x ** 2\n",
        "square(2)"
      ],
      "id": "f438e124"
    },
    {
      "cell_type": "code",
      "execution_count": 185,
      "metadata": {},
      "outputs": [],
      "source": [
        "type(square)"
      ],
      "id": "b809ff59"
    },
    {
      "cell_type": "code",
      "execution_count": 186,
      "metadata": {},
      "outputs": [],
      "source": [
        "dir(square)"
      ],
      "id": "ae5a3f85"
    },
    {
      "cell_type": "code",
      "execution_count": 187,
      "metadata": {},
      "outputs": [],
      "source": [
        "s = \"a\""
      ],
      "id": "a29281cd"
    },
    {
      "cell_type": "code",
      "execution_count": 188,
      "metadata": {},
      "outputs": [],
      "source": [
        "try:\n",
        "    square(\"a\")\n",
        "except TypeError:\n",
        "    print(\"TypeError: unsupported operand type(s) for ** or pow(): 'str' and 'int'\")"
      ],
      "id": "62213f18"
    },
    {
      "cell_type": "code",
      "execution_count": 189,
      "metadata": {
        "ExecuteTime": {
          "end_time": "2021-01-15T08:35:37.269771Z",
          "start_time": "2021-01-15T08:35:37.265389Z"
        }
      },
      "outputs": [],
      "source": [
        "sum2 = lambda a, b: a + b\n",
        "print(sum2('Hello', ' world'))\n",
        "print(sum2(1, 2))"
      ],
      "id": "9e4695f0"
    },
    {
      "cell_type": "markdown",
      "metadata": {},
      "source": [
        "Intended for short and one-line function.\n",
        "\n",
        "More complex functions use `def` (see below)\n",
        "\n",
        "## Exercise\n",
        "\n",
        "Print the squares of even numbers between 0 et 15\n",
        "\n",
        "1.  Using a list comprehension as before\n",
        "2.  Using `map`\n",
        "\n",
        "## Brain-teasing\n",
        "\n",
        "What is the output of"
      ],
      "id": "d13560cf-a430-418a-b91f-0daf7a323123"
    },
    {
      "cell_type": "code",
      "execution_count": 196,
      "metadata": {},
      "outputs": [],
      "source": [
        "reduce(lambda a, b: a + b[0] * b[1], enumerate('abcde'), 'A')"
      ],
      "id": "a2d64531"
    },
    {
      "cell_type": "markdown",
      "metadata": {},
      "source": [
        "# Generators"
      ],
      "id": "cec7e9f8-6126-4d32-8909-3d6442a1526b"
    },
    {
      "cell_type": "code",
      "execution_count": 200,
      "metadata": {
        "ExecuteTime": {
          "end_time": "2021-01-15T08:36:00.984160Z",
          "start_time": "2021-01-15T08:36:00.402833Z"
        },
        "slideshow": {
          "slide_type": "subslide"
        }
      },
      "outputs": [],
      "source": [
        "import sys\n",
        "import matplotlib.pyplot as plt\n",
        "%matplotlib inline"
      ],
      "id": "45229d21"
    },
    {
      "cell_type": "code",
      "execution_count": 201,
      "metadata": {},
      "outputs": [],
      "source": [
        "plt.figure(figsize=(6, 6))\n",
        "plt.plot([sys.getsizeof(list(range(i))) for i in range(10000)], lw=3)\n",
        "plt.plot([sys.getsizeof(range(i)) for i in range(10000)], lw=3)\n",
        "plt.xlabel('Number of elements (value of i)', fontsize=14)\n",
        "plt.ylabel('Size (in bytes)', fontsize=14)\n",
        "_ = plt.legend(['list(range(i))', 'range(i)'], fontsize=16)"
      ],
      "id": "89d72b2a"
    },
    {
      "cell_type": "markdown",
      "metadata": {},
      "source": [
        "## Why generators ?\n",
        "\n",
        "The memory used by `range(i)` does not scale linearly with `i`\n",
        "\n",
        "What is happening ?\n",
        "\n",
        "-   `range(n)` does not allocate a list of `n` elements !\n",
        "-   It **generates on the fly** the list of required integers\n",
        "-   We say that such an object behaves like a **generator** in `Python`\n",
        "-   Many things in the `Python` standard library behaves like this\n",
        "\n",
        "**Warning.** Getting the real memory footprint of a `Python` object is\n",
        "difficult. Note that `sizeof` calls the `__sizeof__` method of `r`,\n",
        "which does not give in general the actual memory used by an object. But\n",
        "nevermind here.\n",
        "\n",
        "The following computation has no memory footprint:"
      ],
      "id": "2ba16049-7979-4b48-a083-887800f62f4b"
    },
    {
      "cell_type": "code",
      "execution_count": 202,
      "metadata": {
        "ExecuteTime": {
          "end_time": "2021-01-15T08:36:17.535131Z",
          "start_time": "2021-01-15T08:36:16.258179Z"
        },
        "slideshow": {
          "slide_type": "-"
        }
      },
      "outputs": [],
      "source": [
        "sum(range(10**8))"
      ],
      "id": "c98bde32"
    },
    {
      "cell_type": "code",
      "execution_count": 203,
      "metadata": {
        "ExecuteTime": {
          "end_time": "2021-01-15T08:36:17.541785Z",
          "start_time": "2021-01-15T08:36:17.537229Z"
        }
      },
      "outputs": [],
      "source": [
        "map(lambda x: x**2, range(10**7))"
      ],
      "id": "a6c66243"
    },
    {
      "cell_type": "markdown",
      "metadata": {},
      "source": [
        "`map` does not return a `list` for the same reason"
      ],
      "id": "3502bf7f-3563-4a41-9efb-1f7fa011d0ba"
    },
    {
      "cell_type": "code",
      "execution_count": 204,
      "metadata": {
        "ExecuteTime": {
          "end_time": "2021-01-15T08:36:17.817857Z",
          "start_time": "2021-01-15T08:36:17.544451Z"
        }
      },
      "outputs": [],
      "source": [
        "sum(map(lambda x: x**2, range(10**6)))"
      ],
      "id": "befb7ed2"
    },
    {
      "cell_type": "markdown",
      "metadata": {},
      "source": [
        "## Generator expression\n",
        "\n",
        "Namely generators defined through comprehensions. Just replace `[]` by\n",
        "`()` in the comprehension.\n",
        "\n",
        "A generator can be iterated on only **once**"
      ],
      "id": "6bbce8d7-4ea7-485c-b015-5cf268e3ce1a"
    },
    {
      "cell_type": "code",
      "execution_count": 205,
      "metadata": {},
      "outputs": [],
      "source": [
        "range(10)"
      ],
      "id": "fc9b8995"
    },
    {
      "cell_type": "code",
      "execution_count": 206,
      "metadata": {},
      "outputs": [],
      "source": [
        "carres = (i**2 for i in range(10))"
      ],
      "id": "b6cb1e24"
    },
    {
      "cell_type": "code",
      "execution_count": 207,
      "metadata": {},
      "outputs": [],
      "source": [
        "carres"
      ],
      "id": "51aed212"
    },
    {
      "cell_type": "code",
      "execution_count": 208,
      "metadata": {},
      "outputs": [],
      "source": [
        "for c in carres:\n",
        "    print(c)"
      ],
      "id": "5fceceb3"
    },
    {
      "cell_type": "code",
      "execution_count": 209,
      "metadata": {},
      "outputs": [],
      "source": [
        "for i in range(4):\n",
        "    for j in range(3):\n",
        "        print(i, j)"
      ],
      "id": "e0ccf8ac"
    },
    {
      "cell_type": "code",
      "execution_count": 210,
      "metadata": {},
      "outputs": [],
      "source": [
        "from itertools import product\n",
        "\n",
        "for t in product(range(4), range(3)):\n",
        "    print(t)"
      ],
      "id": "5989bc4c"
    },
    {
      "cell_type": "code",
      "execution_count": 211,
      "metadata": {
        "ExecuteTime": {
          "end_time": "2021-01-15T08:36:19.688387Z",
          "start_time": "2021-01-15T08:36:19.683024Z"
        }
      },
      "outputs": [],
      "source": [
        "from itertools import product\n",
        "\n",
        "gene = (i + j for i, j in product(range(3), range(3)))\n",
        "gene"
      ],
      "id": "d6302bb5"
    },
    {
      "cell_type": "code",
      "execution_count": 212,
      "metadata": {
        "ExecuteTime": {
          "end_time": "2021-01-15T08:36:19.886398Z",
          "start_time": "2021-01-15T08:36:19.879904Z"
        }
      },
      "outputs": [],
      "source": [
        "print(list(gene))\n",
        "print(list(gene))"
      ],
      "id": "ea8f7ed8"
    },
    {
      "cell_type": "markdown",
      "metadata": {},
      "source": [
        "## `yield`\n",
        "\n",
        "Something very powerful"
      ],
      "id": "71053101-6437-42c4-b9db-c00b48457ea1"
    },
    {
      "cell_type": "code",
      "execution_count": 213,
      "metadata": {
        "ExecuteTime": {
          "end_time": "2021-01-15T08:36:21.518680Z",
          "start_time": "2021-01-15T08:36:21.514939Z"
        }
      },
      "outputs": [],
      "source": [
        "def startswith(words, letter):\n",
        "    for word in words:\n",
        "        if word.startswith(letter):\n",
        "            yield word"
      ],
      "id": "dd34edd8"
    },
    {
      "cell_type": "code",
      "execution_count": 214,
      "metadata": {
        "ExecuteTime": {
          "end_time": "2021-01-15T08:36:21.681758Z",
          "start_time": "2021-01-15T08:36:21.676154Z"
        }
      },
      "outputs": [],
      "source": [
        "words = [\n",
        "    'Python', \"is\", 'awesome', 'in', 'particular', 'generators', \n",
        "    'are', 'really', 'cool'\n",
        "]"
      ],
      "id": "c386951a"
    },
    {
      "cell_type": "code",
      "execution_count": 215,
      "metadata": {},
      "outputs": [],
      "source": [
        "list(word for word in words if word.startswith(\"a\"))"
      ],
      "id": "7c6f841d"
    },
    {
      "cell_type": "code",
      "execution_count": 216,
      "metadata": {},
      "outputs": [],
      "source": [
        "a = 2"
      ],
      "id": "faeff31d"
    },
    {
      "cell_type": "code",
      "execution_count": 217,
      "metadata": {},
      "outputs": [],
      "source": [
        "float(a)"
      ],
      "id": "bda679c5"
    },
    {
      "cell_type": "markdown",
      "metadata": {},
      "source": [
        "But also with a `for` loop"
      ],
      "id": "de9a5972-dd78-4e4f-a170-05ba001d3738"
    },
    {
      "cell_type": "code",
      "execution_count": 218,
      "metadata": {
        "ExecuteTime": {
          "end_time": "2021-01-15T08:36:25.112354Z",
          "start_time": "2021-01-15T08:36:25.107107Z"
        }
      },
      "outputs": [],
      "source": [
        "for word in startswith(words, letter='a'):\n",
        "    print(word)"
      ],
      "id": "c5413fad"
    },
    {
      "cell_type": "code",
      "execution_count": 219,
      "metadata": {},
      "outputs": [],
      "source": [
        "it = startswith(words, letter='a')"
      ],
      "id": "8cc72c20"
    },
    {
      "cell_type": "code",
      "execution_count": 220,
      "metadata": {},
      "outputs": [],
      "source": [
        "type(it)"
      ],
      "id": "e8f9d427"
    },
    {
      "cell_type": "code",
      "execution_count": 221,
      "metadata": {},
      "outputs": [],
      "source": [
        "next(it)"
      ],
      "id": "6ba1546e"
    },
    {
      "cell_type": "code",
      "execution_count": 222,
      "metadata": {},
      "outputs": [],
      "source": [
        "next(it)"
      ],
      "id": "5a5e640f"
    },
    {
      "cell_type": "code",
      "execution_count": 223,
      "metadata": {},
      "outputs": [],
      "source": [
        "try:\n",
        "    next(it)\n",
        "except StopIteration:\n",
        "    print(\"StopIteration exception!\")"
      ],
      "id": "41be2d1b"
    },
    {
      "cell_type": "markdown",
      "metadata": {},
      "source": [
        "# A glimpse at the `collections` module\n",
        "\n",
        "(This is where the good stuff hides)"
      ],
      "id": "e6b42723-aa0b-4849-99fe-dec1c134a213"
    },
    {
      "cell_type": "code",
      "execution_count": 224,
      "metadata": {
        "ExecuteTime": {
          "end_time": "2021-01-15T08:36:26.046700Z",
          "start_time": "2021-01-15T08:36:26.041712Z"
        },
        "slideshow": {
          "slide_type": "subslide"
        }
      },
      "outputs": [],
      "source": [
        "texte = \"\"\"             \n",
        "Bonjour,\n",
        "Python c'est super.\n",
        "Python ca a l'air quand même un peu compliqué.\n",
        "Mais bon, ca a l'air pratique.\n",
        "Peut-être que je pourrais m'en servir pour faire des trucs super.\n",
        "\"\"\"\n",
        "texte"
      ],
      "id": "a19bb6d9"
    },
    {
      "cell_type": "code",
      "execution_count": 225,
      "metadata": {
        "ExecuteTime": {
          "end_time": "2021-01-15T08:36:28.485696Z",
          "start_time": "2021-01-15T08:36:28.481795Z"
        }
      },
      "outputs": [],
      "source": [
        "print(texte)"
      ],
      "id": "c455d7a2"
    },
    {
      "cell_type": "code",
      "execution_count": 226,
      "metadata": {
        "ExecuteTime": {
          "end_time": "2021-01-15T08:36:28.891498Z",
          "start_time": "2021-01-15T08:36:28.886862Z"
        },
        "slideshow": {
          "slide_type": "subslide"
        }
      },
      "outputs": [],
      "source": [
        "# Some basic text preprocessing \n",
        "new_text = (\n",
        "    texte\n",
        "    .strip()\n",
        "    .replace('\\n', ' ')\n",
        "    .replace(',', ' ')\n",
        "    .replace('.', ' ')\n",
        "    .replace(\"'\", ' ')\n",
        ")\n",
        "\n",
        "print(new_text)\n",
        "print('-' * 8)\n",
        "\n",
        "words = new_text.split()\n",
        "print(words)"
      ],
      "id": "161c144b"
    },
    {
      "cell_type": "markdown",
      "metadata": {},
      "source": [
        "## Exercise\n",
        "\n",
        "Count the number of occurences of all the words in `words`.\n",
        "\n",
        "Output must be a dictionary containg `word: count`"
      ],
      "id": "24594f67-382e-4e4c-93f5-9f9fd31109dc"
    },
    {
      "cell_type": "code",
      "execution_count": 227,
      "metadata": {
        "ExecuteTime": {
          "end_time": "2021-01-15T08:36:30.579563Z",
          "start_time": "2021-01-15T08:36:30.573645Z"
        }
      },
      "outputs": [],
      "source": [
        "print(words)"
      ],
      "id": "7b47ef71"
    },
    {
      "cell_type": "markdown",
      "metadata": {},
      "source": [
        "## Exercise\n",
        "\n",
        "Compute the number of occurences AND the length of each word in `words`.\n",
        "\n",
        "Output must be a dictionary containing `word: (count, length)`\n",
        "\n",
        "# I/O, reading and writing files\n",
        "\n",
        "Next, put a text file `miserables.txt` in the folder containing this\n",
        "notebook. If it is not there, the next cell downloads it, if is it\n",
        "there, then we do nothing."
      ],
      "id": "5b80472b-258b-4b57-bb4b-e425417fb76c"
    },
    {
      "cell_type": "code",
      "execution_count": 238,
      "metadata": {
        "ExecuteTime": {
          "end_time": "2021-01-15T09:18:44.977524Z",
          "start_time": "2021-01-15T09:18:44.691253Z"
        }
      },
      "outputs": [],
      "source": [
        "import requests\n",
        "import os\n",
        "\n",
        "# The path containing your notebook\n",
        "path_data = './'\n",
        "# The name of the file\n",
        "filename = 'miserables.txt'\n",
        "\n",
        "if os.path.exists(os.path.join(path_data, filename)):\n",
        "    print('The file %s already exists.' % os.path.join(path_data, filename))\n",
        "else:\n",
        "    url = 'https://stephanegaiffas.github.io/big_data_course/data/miserables.txt'\n",
        "    r = requests.get(url)\n",
        "    with open(os.path.join(path_data, filename), 'wb') as f:\n",
        "        f.write(r.content)\n",
        "    print('Downloaded file %s.' % os.path.join(path_data, filename))"
      ],
      "id": "aa73259e"
    },
    {
      "cell_type": "code",
      "execution_count": 239,
      "metadata": {},
      "outputs": [],
      "source": [
        "ls -alh"
      ],
      "id": "ef5f1c3d"
    },
    {
      "cell_type": "code",
      "execution_count": 240,
      "metadata": {},
      "outputs": [],
      "source": [
        "# !rm -f miserables.txt"
      ],
      "id": "1e4b209b"
    },
    {
      "cell_type": "code",
      "execution_count": 241,
      "metadata": {},
      "outputs": [],
      "source": [
        "os.path.join(path_data, filename)"
      ],
      "id": "8cf99ae4"
    },
    {
      "cell_type": "markdown",
      "metadata": {},
      "source": [
        "In `jupyter` and `ipython` you can run terminal command lines using `!`\n",
        "\n",
        "Let’s count number of lines and number of words with the `wc`\n",
        "command-line tool (linux or mac only, don’t ask me how on windows)"
      ],
      "id": "04453adf-1ba0-4f83-bae5-1975dfa4beb5"
    },
    {
      "cell_type": "code",
      "execution_count": 242,
      "metadata": {
        "ExecuteTime": {
          "end_time": "2021-01-15T08:39:34.789525Z",
          "start_time": "2021-01-15T08:39:34.498167Z"
        },
        "slideshow": {
          "slide_type": "-"
        }
      },
      "outputs": [],
      "source": [
        "# Lines count\n",
        "!wc -l miserables.txt"
      ],
      "id": "6d71f5c7"
    },
    {
      "cell_type": "code",
      "execution_count": 243,
      "metadata": {
        "ExecuteTime": {
          "end_time": "2021-01-15T08:39:35.525235Z",
          "start_time": "2021-01-15T08:39:35.244691Z"
        }
      },
      "outputs": [],
      "source": [
        "# Word count\n",
        "!wc -w miserables.txt"
      ],
      "id": "dc95502d"
    },
    {
      "cell_type": "markdown",
      "metadata": {},
      "source": [
        "## Exercise\n",
        "\n",
        "Count the number of occurences of each word in the text file\n",
        "`miserables.txt`. We use a `open` *context* and the `Counter` from\n",
        "before.\n",
        "\n",
        "## Contexts\n",
        "\n",
        "-   A *context* in Python is something that we use with the `with`\n",
        "    keyword.\n",
        "\n",
        "-   It allows to deal automatically with the opening and the closing of\n",
        "    the file.\n",
        "\n",
        "Note the for loop:\n",
        "\n",
        "``` python\n",
        "for line in f:\n",
        "    ...\n",
        "```\n",
        "\n",
        "You loop directly over the lines of the open file from **within** the\n",
        "`open` context\n",
        "\n",
        "## About `pickle`\n",
        "\n",
        "You can save your computation with `pickle`.\n",
        "\n",
        "-   `pickle` is a way of saving **almost anything** with Python.\n",
        "-   It serializes the object in a binary format, and is usually the\n",
        "    simplest and fastest way to go."
      ],
      "id": "542cc9da-abe9-4af4-9204-50e85d85e385"
    },
    {
      "cell_type": "code",
      "execution_count": 247,
      "metadata": {
        "ExecuteTime": {
          "end_time": "2021-01-15T08:40:19.146250Z",
          "start_time": "2021-01-15T08:40:19.105800Z"
        }
      },
      "outputs": [],
      "source": [
        "import pickle as pkl\n",
        "\n",
        "# Let's save it\n",
        "with open('miserable_word_counts.pkl', 'wb') as f:\n",
        "    pkl.dump(counter, f)\n",
        "\n",
        "# And read it again\n",
        "with open('miserable_word_counts.pkl', 'rb') as f:\n",
        "    counter = pkl.load(f)"
      ],
      "id": "e0df54c8"
    },
    {
      "cell_type": "code",
      "execution_count": 248,
      "metadata": {
        "ExecuteTime": {
          "end_time": "2021-01-15T08:40:20.330093Z",
          "start_time": "2021-01-15T08:40:20.320482Z"
        }
      },
      "outputs": [],
      "source": [
        "counter.most_common(10)"
      ],
      "id": "9599b224"
    },
    {
      "cell_type": "markdown",
      "metadata": {},
      "source": [
        "# Defining functions\n",
        "\n",
        "You **must** use function to order and reuse code\n",
        "\n",
        "## Function definition\n",
        "\n",
        "Function blocks must be indented as other control-flow blocks."
      ],
      "id": "dc75917b-b62d-4630-8af3-579ac6c70ccd"
    },
    {
      "cell_type": "code",
      "execution_count": 249,
      "metadata": {
        "ExecuteTime": {
          "end_time": "2021-01-15T08:40:22.581564Z",
          "start_time": "2021-01-15T08:40:22.574422Z"
        }
      },
      "outputs": [],
      "source": [
        "def test():\n",
        "    return 'in test function'\n",
        "\n",
        "test()"
      ],
      "id": "90a02df3"
    },
    {
      "cell_type": "markdown",
      "metadata": {},
      "source": [
        "## Return statement\n",
        "\n",
        "Functions can *optionally* return values. By default, functions return\n",
        "`None`.\n",
        "\n",
        "The syntax to define a function:\n",
        "\n",
        "-   the `def` keyword;\n",
        "-   is followed by the function’s **name**, then\n",
        "-   the arguments of the function are given between parentheses followed\n",
        "    by a colon\n",
        "-   the function body;\n",
        "-   and `return object` for optionally returning values."
      ],
      "id": "ecbb17a5-f8f5-4f65-9c1f-6448636ba874"
    },
    {
      "cell_type": "code",
      "execution_count": 250,
      "metadata": {},
      "outputs": [],
      "source": [
        "None is None"
      ],
      "id": "2b785407"
    },
    {
      "cell_type": "code",
      "execution_count": 251,
      "metadata": {
        "ExecuteTime": {
          "end_time": "2021-01-15T08:40:25.396369Z",
          "start_time": "2021-01-15T08:40:25.389580Z"
        }
      },
      "outputs": [],
      "source": [
        "def f(x):\n",
        "    return x + 10\n",
        "f(20)"
      ],
      "id": "536cedd2"
    },
    {
      "cell_type": "markdown",
      "metadata": {},
      "source": [
        "A function that returns several elements returns a `tuple`"
      ],
      "id": "8c971274-effc-4e79-bf05-1a79d193e389"
    },
    {
      "cell_type": "code",
      "execution_count": 252,
      "metadata": {
        "ExecuteTime": {
          "end_time": "2021-01-15T08:40:25.827300Z",
          "start_time": "2021-01-15T08:40:25.821162Z"
        }
      },
      "outputs": [],
      "source": [
        "def f(x):\n",
        "    return x + 1, x + 4\n",
        "\n",
        "f(5)"
      ],
      "id": "423f026e"
    },
    {
      "cell_type": "code",
      "execution_count": 253,
      "metadata": {},
      "outputs": [],
      "source": [
        "type(f)"
      ],
      "id": "8640ff8d"
    },
    {
      "cell_type": "code",
      "execution_count": 254,
      "metadata": {},
      "outputs": [],
      "source": [
        "f.truc = \"bonjour\""
      ],
      "id": "247c8616"
    },
    {
      "cell_type": "code",
      "execution_count": 255,
      "metadata": {
        "ExecuteTime": {
          "end_time": "2021-01-15T08:40:26.056197Z",
          "start_time": "2021-01-15T08:40:26.050039Z"
        }
      },
      "outputs": [],
      "source": [
        "type(f(5))"
      ],
      "id": "aa54f826"
    },
    {
      "cell_type": "markdown",
      "metadata": {},
      "source": [
        "## Parameters\n",
        "\n",
        "Mandatory parameters (positional arguments)"
      ],
      "id": "deca84c0-7636-4603-a3ac-fa0420cbb41d"
    },
    {
      "cell_type": "code",
      "execution_count": 256,
      "metadata": {
        "ExecuteTime": {
          "end_time": "2021-01-15T08:40:26.897893Z",
          "start_time": "2021-01-15T08:40:26.891052Z"
        }
      },
      "outputs": [],
      "source": [
        "def double_it(x):\n",
        "    return x * 2\n",
        "\n",
        "double_it(2)"
      ],
      "id": "1e97b08a"
    },
    {
      "cell_type": "code",
      "execution_count": 257,
      "metadata": {
        "ExecuteTime": {
          "end_time": "2021-01-15T08:40:27.154900Z",
          "start_time": "2021-01-15T08:40:27.127912Z"
        }
      },
      "outputs": [],
      "source": [
        "try:\n",
        "    double_it()\n",
        "except TypeError:\n",
        "    print(\"TypeError: double_it() missing 1 required positional argument: 'x'\")"
      ],
      "id": "a50bd82a"
    },
    {
      "cell_type": "markdown",
      "metadata": {},
      "source": [
        "Optimal parameters"
      ],
      "id": "d6a9ee6e-2014-49b3-9b01-eaea273091f3"
    },
    {
      "cell_type": "code",
      "execution_count": 258,
      "metadata": {
        "ExecuteTime": {
          "end_time": "2021-01-15T08:40:28.071546Z",
          "start_time": "2021-01-15T08:40:28.065551Z"
        },
        "slideshow": {
          "slide_type": "-"
        }
      },
      "outputs": [],
      "source": [
        "def double_it(x=2):\n",
        "    return x * 2\n",
        "\n",
        "double_it()"
      ],
      "id": "b38db330"
    },
    {
      "cell_type": "code",
      "execution_count": 259,
      "metadata": {
        "ExecuteTime": {
          "end_time": "2021-01-15T08:40:30.162845Z",
          "start_time": "2021-01-15T08:40:30.155840Z"
        }
      },
      "outputs": [],
      "source": [
        "double_it(3)"
      ],
      "id": "c460e34e"
    },
    {
      "cell_type": "code",
      "execution_count": 260,
      "metadata": {
        "ExecuteTime": {
          "end_time": "2021-01-15T08:40:30.451386Z",
          "start_time": "2021-01-15T08:40:30.446933Z"
        },
        "slideshow": {
          "slide_type": "subslide"
        }
      },
      "outputs": [],
      "source": [
        "def f(x, y=2, z=10):\n",
        "    print(x, '+', y, '+', z, '=', x + y + z)"
      ],
      "id": "3dee69fa"
    },
    {
      "cell_type": "code",
      "execution_count": 261,
      "metadata": {
        "ExecuteTime": {
          "end_time": "2021-01-15T08:40:30.696765Z",
          "start_time": "2021-01-15T08:40:30.691179Z"
        }
      },
      "outputs": [],
      "source": [
        "f(5)"
      ],
      "id": "ac3b9fbe"
    },
    {
      "cell_type": "code",
      "execution_count": 262,
      "metadata": {
        "ExecuteTime": {
          "end_time": "2021-01-15T08:40:31.857293Z",
          "start_time": "2021-01-15T08:40:31.851956Z"
        }
      },
      "outputs": [],
      "source": [
        "f(5, -2)"
      ],
      "id": "674faba9"
    },
    {
      "cell_type": "code",
      "execution_count": 263,
      "metadata": {
        "ExecuteTime": {
          "end_time": "2021-01-15T08:40:32.095421Z",
          "start_time": "2021-01-15T08:40:32.089684Z"
        }
      },
      "outputs": [],
      "source": [
        "f(5, -2, 8)"
      ],
      "id": "710121c8"
    },
    {
      "cell_type": "code",
      "execution_count": 264,
      "metadata": {
        "ExecuteTime": {
          "end_time": "2021-01-15T08:40:32.310466Z",
          "start_time": "2021-01-15T08:40:32.304981Z"
        }
      },
      "outputs": [],
      "source": [
        "f(z=5, x=-2, y=8)"
      ],
      "id": "d195bca0"
    },
    {
      "cell_type": "markdown",
      "metadata": {},
      "source": [
        "## Argument unpacking and keyword argument unpacking\n",
        "\n",
        "You can do stuff like this, using unpacking `*` notation"
      ],
      "id": "9dce359c-5881-4017-873f-946bad450899"
    },
    {
      "cell_type": "code",
      "execution_count": 265,
      "metadata": {
        "ExecuteTime": {
          "end_time": "2021-01-15T08:40:32.767851Z",
          "start_time": "2021-01-15T08:40:32.762760Z"
        }
      },
      "outputs": [],
      "source": [
        "a, *b, c = 1, 2, 3, 4, 5\n",
        "a, b, c"
      ],
      "id": "fb87d490"
    },
    {
      "cell_type": "markdown",
      "metadata": {},
      "source": [
        "Back to function `f` you can unpack a `tuple` as positional arguments"
      ],
      "id": "ba0337eb-45ea-4b9d-98a0-a4ce5ded73d8"
    },
    {
      "cell_type": "code",
      "execution_count": 266,
      "metadata": {
        "ExecuteTime": {
          "end_time": "2021-01-15T08:40:33.123879Z",
          "start_time": "2021-01-15T08:40:33.117094Z"
        },
        "slideshow": {
          "slide_type": "-"
        }
      },
      "outputs": [],
      "source": [
        "tt = (1, 2, 3)\n",
        "f(*tt)"
      ],
      "id": "cb0000c2"
    },
    {
      "cell_type": "code",
      "execution_count": 267,
      "metadata": {
        "ExecuteTime": {
          "end_time": "2021-01-15T08:40:33.344119Z",
          "start_time": "2021-01-15T08:40:33.339429Z"
        }
      },
      "outputs": [],
      "source": [
        "dd = {'y': 10, 'z': -5}"
      ],
      "id": "69121661"
    },
    {
      "cell_type": "code",
      "execution_count": 268,
      "metadata": {
        "ExecuteTime": {
          "end_time": "2021-01-15T08:40:33.503933Z",
          "start_time": "2021-01-15T08:40:33.497965Z"
        }
      },
      "outputs": [],
      "source": [
        "f(3, **dd)"
      ],
      "id": "19c440bd"
    },
    {
      "cell_type": "code",
      "execution_count": 269,
      "metadata": {
        "ExecuteTime": {
          "end_time": "2021-01-15T08:40:33.713710Z",
          "start_time": "2021-01-15T08:40:33.708290Z"
        },
        "slideshow": {
          "slide_type": "subslide"
        }
      },
      "outputs": [],
      "source": [
        "def g(x, z, y, t=1, u=2):\n",
        "    print(x, '+', y, '+', z, '+', t, '+', \n",
        "          u, '=', x + y + z + t + u)"
      ],
      "id": "1a9a391c"
    },
    {
      "cell_type": "code",
      "execution_count": 270,
      "metadata": {
        "ExecuteTime": {
          "end_time": "2021-01-15T08:40:33.853331Z",
          "start_time": "2021-01-15T08:40:33.847946Z"
        }
      },
      "outputs": [],
      "source": [
        "tt = (1, -4, 2)\n",
        "dd = {'t': 10, 'u': -5}\n",
        "g(*tt, **dd)"
      ],
      "id": "13f825af"
    },
    {
      "cell_type": "markdown",
      "metadata": {},
      "source": [
        "## The prototype of all functions in `Python`"
      ],
      "id": "2d1d59f3-98f0-4d9d-a49a-0df5f2e2f811"
    },
    {
      "cell_type": "code",
      "execution_count": 271,
      "metadata": {
        "ExecuteTime": {
          "end_time": "2021-01-15T08:40:34.122929Z",
          "start_time": "2021-01-15T08:40:34.118269Z"
        },
        "slideshow": {
          "slide_type": "-"
        }
      },
      "outputs": [],
      "source": [
        "def f(*args, **kwargs):\n",
        "    print('args=', args)\n",
        "    print('kwargs=', kwargs)\n",
        "\n",
        "f(1, 2, 'truc', lastname='gaiffas', firstname='stephane')"
      ],
      "id": "5e33162f"
    },
    {
      "cell_type": "markdown",
      "metadata": {},
      "source": [
        "-   Uses `*` for **argument unpacking** and `**` for **keyword argument\n",
        "    unpacking**\n",
        "-   The names `args` and `kwargs` are a convention, not mandatory\n",
        "-   (but you are fired if you name these arguments otherwise)"
      ],
      "id": "1b3243d6-b8e2-4823-b6aa-2ee8e8ff0734"
    },
    {
      "cell_type": "code",
      "execution_count": 272,
      "metadata": {
        "ExecuteTime": {
          "end_time": "2021-01-15T08:40:34.735447Z",
          "start_time": "2021-01-15T08:40:34.728777Z"
        },
        "slideshow": {
          "slide_type": "fragment"
        }
      },
      "outputs": [],
      "source": [
        "# How to get fired\n",
        "def f(*aaa, **bbb):\n",
        "    print('args=', aaa)\n",
        "    print('kwargs=', bbb)\n",
        "f(1, 2, 'truc', lastname='gaiffas', firstname='stephane')    "
      ],
      "id": "bb57df56"
    },
    {
      "cell_type": "markdown",
      "metadata": {},
      "source": [
        "**Remark**. A function is a regular an object… you can add attributes on\n",
        "it !"
      ],
      "id": "8284512a-7391-4d6d-ab7c-d8756f0f94d1"
    },
    {
      "cell_type": "code",
      "execution_count": 273,
      "metadata": {
        "ExecuteTime": {
          "end_time": "2021-01-15T08:40:34.887176Z",
          "start_time": "2021-01-15T08:40:34.884378Z"
        }
      },
      "outputs": [],
      "source": [
        "f.truc = 4"
      ],
      "id": "c4d0b84f"
    },
    {
      "cell_type": "code",
      "execution_count": 274,
      "metadata": {
        "ExecuteTime": {
          "end_time": "2021-01-15T08:40:34.968083Z",
          "start_time": "2021-01-15T08:40:34.963229Z"
        }
      },
      "outputs": [],
      "source": [
        "f(1, 3)"
      ],
      "id": "f7b4d3ea"
    },
    {
      "cell_type": "code",
      "execution_count": 275,
      "metadata": {
        "ExecuteTime": {
          "end_time": "2021-01-15T08:40:35.082074Z",
          "start_time": "2021-01-15T08:40:35.076581Z"
        }
      },
      "outputs": [],
      "source": [
        "f(3, -2, y='truc')"
      ],
      "id": "a4448dc9"
    },
    {
      "cell_type": "markdown",
      "metadata": {},
      "source": [
        "# Object-oriented programming (OOP)\n",
        "\n",
        "Python supports object-oriented programming (OOP). The goals of OOP are:\n",
        "\n",
        "-   to organize the code, and\n",
        "-   to re-use code in similar contexts.\n",
        "\n",
        "Here is a small example: we create a `Student` class, which is an object\n",
        "gathering several custom functions (called *methods*) and variables\n",
        "(called *attributes*)."
      ],
      "id": "88999cd4-c451-4517-bfe4-be28a480bf0b"
    },
    {
      "cell_type": "code",
      "execution_count": 276,
      "metadata": {
        "ExecuteTime": {
          "end_time": "2021-01-15T08:40:35.228158Z",
          "start_time": "2021-01-15T08:40:35.221388Z"
        },
        "slideshow": {
          "slide_type": "subslide"
        }
      },
      "outputs": [],
      "source": [
        "class Student(object):\n",
        "\n",
        "    def __init__(self, name, birthyear, major='computer science'):\n",
        "        self.name = name\n",
        "        self.birthyear = birthyear\n",
        "        self.major = major\n",
        "\n",
        "    def __repr__(self):\n",
        "        return \"Student(name='{name}', birthyear={birthyear}, major='{major}')\"\\\n",
        "                .format(name=self.name, birthyear=self.birthyear, major=self.major)\n",
        "\n",
        "anna = Student('anna', 1987)\n",
        "anna"
      ],
      "id": "45a65af3"
    },
    {
      "cell_type": "markdown",
      "metadata": {},
      "source": [
        "The `__repr__` is what we call a ‘magic method’ in Python, that allows\n",
        "to display an object as a string easily. There is a very large number of\n",
        "such magic methods. There are used to implement **interfaces**\n",
        "\n",
        "## Exercise\n",
        "\n",
        "Add a `age` method to the Student class that computes the age of the\n",
        "student. - You can (and should) use the `datetime` module. - Since we\n",
        "only know about the birth year, let’s assume that the day of the birth\n",
        "is January, 1st.\n",
        "\n",
        "## Properties\n",
        "\n",
        "We can make methods look like attributes using **properties**, as shown\n",
        "below"
      ],
      "id": "23931ce8-e838-4a15-a664-1f78a3da02e2"
    },
    {
      "cell_type": "code",
      "execution_count": 278,
      "metadata": {
        "ExecuteTime": {
          "end_time": "2021-01-15T08:40:41.454538Z",
          "start_time": "2021-01-15T08:40:41.447007Z"
        }
      },
      "outputs": [],
      "source": [
        "class Student(object):\n",
        "\n",
        "    def __init__(self, name, birthyear, major='computer science'):\n",
        "        self.name = name\n",
        "        self.birthyear = birthyear\n",
        "        self.major = major\n",
        "\n",
        "    def __repr__(self):\n",
        "        return \"Student(name='{name}', birthyear={birthyear}, major='{major}')\"\\\n",
        "                .format(name=self.name, birthyear=self.birthyear, major=self.major)\n",
        "\n",
        "    @property\n",
        "    def age(self):\n",
        "        return datetime.now().year - self.birthyear\n",
        "        \n",
        "anna = Student('anna', 1987)\n",
        "anna.age"
      ],
      "id": "3b743eb5"
    },
    {
      "cell_type": "markdown",
      "metadata": {},
      "source": [
        "## Inheritance\n",
        "\n",
        "A `MasterStudent` is a `Student` with a new extra mandatory `internship`\n",
        "attribute"
      ],
      "id": "01ad8412-1ac0-4834-8e2d-a12d075df3d8"
    },
    {
      "cell_type": "code",
      "execution_count": 279,
      "metadata": {},
      "outputs": [],
      "source": [
        "\"%d\" % 2"
      ],
      "id": "fae0365a"
    },
    {
      "cell_type": "code",
      "execution_count": 280,
      "metadata": {},
      "outputs": [],
      "source": [
        "x = 2\n",
        "\n",
        "f\"truc {x}\""
      ],
      "id": "15857250"
    },
    {
      "cell_type": "code",
      "execution_count": 281,
      "metadata": {},
      "outputs": [],
      "source": [
        "class MasterStudent(Student):\n",
        "    \n",
        "    def __init__(self, name, age, internship, major='computer science'):\n",
        "        # Student.__init__(self, name, age, major)\n",
        "        Student.__init__(self, name, age, major)\n",
        "        self.internship = internship\n",
        "\n",
        "    def __repr__(self):\n",
        "        return f\"MasterStudent(name='{self.name}', internship={self.internship}, birthyear={self.birthyear}, major={self.major})\"\n",
        "    \n",
        "MasterStudent('djalil', 22, 'pwc')"
      ],
      "id": "e3d578cd"
    },
    {
      "cell_type": "code",
      "execution_count": 282,
      "metadata": {
        "ExecuteTime": {
          "end_time": "2021-01-15T08:40:44.047633Z",
          "start_time": "2021-01-15T08:40:44.039779Z"
        }
      },
      "outputs": [],
      "source": [
        "class MasterStudent(Student):\n",
        "    \n",
        "    def __init__(self, name, age, internship, major='computer science'):\n",
        "        # Student.__init__(self, name, age, major)\n",
        "        Student.__init__(self, name, age, major)\n",
        "        self.internship = internship\n",
        "\n",
        "    def __repr__(self):\n",
        "        return \"MasterStudent(name='{name}', internship='{internship}'\" \\\n",
        "               \", birthyear={birthyear}, major='{major}')\"\\\n",
        "                .format(name=self.name, internship=self.internship,\n",
        "                        birthyear=self.birthyear, major=self.major)\n",
        "    \n",
        "djalil = MasterStudent('djalil', 1996, 'pwc')"
      ],
      "id": "73aa4f67"
    },
    {
      "cell_type": "code",
      "execution_count": 283,
      "metadata": {},
      "outputs": [],
      "source": [
        "djalil.__dict__"
      ],
      "id": "d9d3ea15"
    },
    {
      "cell_type": "code",
      "execution_count": 284,
      "metadata": {},
      "outputs": [],
      "source": [
        "djalil.birthyear"
      ],
      "id": "a0ffb67d"
    },
    {
      "cell_type": "code",
      "execution_count": 285,
      "metadata": {},
      "outputs": [],
      "source": [
        "djalil.__dict__[\"birthyear\"]"
      ],
      "id": "c03a7a24"
    },
    {
      "cell_type": "markdown",
      "metadata": {},
      "source": [
        "## Monkey patching\n",
        "\n",
        "-   Classes in `Python` are `objects` and actually `dict`s under the\n",
        "    hood…\n",
        "-   Therefore classes are objects that can be changed on the fly"
      ],
      "id": "3809c2a4-ad32-4e87-ad1b-dc8e18d84c87"
    },
    {
      "cell_type": "code",
      "execution_count": 286,
      "metadata": {
        "ExecuteTime": {
          "end_time": "2021-01-15T08:40:44.745686Z",
          "start_time": "2021-01-15T08:40:44.739499Z"
        }
      },
      "outputs": [],
      "source": [
        "class Monkey(object):\n",
        "    \n",
        "    def __init__(self, name):\n",
        "        self.name = name\n",
        "\n",
        "    def describe(self):\n",
        "        print(\"Old monkey %s\" % self.name)\n",
        "\n",
        "def patch(self):\n",
        "    print(\"New monkey %s\" % self.name)\n",
        "\n",
        "monkey = Monkey(\"Baloo\")\n",
        "monkey.describe()\n",
        "\n",
        "Monkey.describe = patch\n",
        "monkey.describe()"
      ],
      "id": "5a912837"
    },
    {
      "cell_type": "code",
      "execution_count": 287,
      "metadata": {},
      "outputs": [],
      "source": [
        "monkeys = [Monkey(\"Baloo\"), Monkey(\"Super singe\")]\n",
        "\n",
        "\n",
        "monkey_name = monkey.name\n",
        "\n",
        "for i in range(1000):    \n",
        "    monkey_name"
      ],
      "id": "dc8e5641"
    },
    {
      "cell_type": "markdown",
      "metadata": {},
      "source": [
        "## Data classes\n",
        "\n",
        "Since `Python 3.7` you can use a dataclass for this\n",
        "\n",
        "Does a lot of work for you (produces the `__repr__` among many other\n",
        "things for you)"
      ],
      "id": "c45690aa-34bf-4637-9463-9e816733b46c"
    },
    {
      "cell_type": "code",
      "execution_count": 288,
      "metadata": {
        "ExecuteTime": {
          "end_time": "2021-01-15T08:40:46.810275Z",
          "start_time": "2021-01-15T08:40:46.796524Z"
        }
      },
      "outputs": [],
      "source": [
        "from dataclasses import dataclass\n",
        "from datetime import datetime \n",
        "\n",
        "@dataclass\n",
        "class Student(object):\n",
        "    name: str\n",
        "    birthyear: int\n",
        "    major: str = 'computer science'\n",
        "\n",
        "    @property\n",
        "    def age(self):\n",
        "        return datetime.now().year - self.birthyear\n",
        "        \n",
        "anna = Student(name=\"anna\", birthyear=1987)\n",
        "anna"
      ],
      "id": "cb15f9d0"
    },
    {
      "cell_type": "code",
      "execution_count": 289,
      "metadata": {
        "ExecuteTime": {
          "end_time": "2021-01-15T08:40:47.251530Z",
          "start_time": "2021-01-15T08:40:47.246324Z"
        }
      },
      "outputs": [],
      "source": [
        "print(anna.age)"
      ],
      "id": "d3fb7ae8"
    },
    {
      "cell_type": "markdown",
      "metadata": {},
      "source": [
        "# Most common mistakes\n",
        "\n",
        "-   Let us wrap this up with the most common mistakes with `Python`\n",
        "\n",
        "First, best way to learn and practice:\n",
        "\n",
        "-   Start with the official tutorial\n",
        "    https://docs.python.org/fr/3/tutorial/index.html\n",
        "\n",
        "-   Look at\n",
        "    https://python-3-for-scientists.readthedocs.io/en/latest/index.html\n",
        "\n",
        "-   Continue with the documentation at\n",
        "    https://docs.python.org/fr/3/index.html and work!\n",
        "\n",
        "## Using a mutable value as a default value"
      ],
      "id": "1e6a646a-94f5-4e72-9289-ab457961c54a"
    },
    {
      "cell_type": "code",
      "execution_count": 290,
      "metadata": {
        "ExecuteTime": {
          "end_time": "2021-01-15T08:40:51.446805Z",
          "start_time": "2021-01-15T08:40:51.441178Z"
        }
      },
      "outputs": [],
      "source": [
        "def foo(bar=[]):\n",
        "    bar.append('oops')\n",
        "    return bar\n",
        "\n",
        "print(foo())\n",
        "print(foo())\n",
        "print(foo())\n",
        "\n",
        "print('-' * 8)\n",
        "print(foo(['Ah ah']))\n",
        "print(foo([]))"
      ],
      "id": "e5756e33"
    },
    {
      "cell_type": "code",
      "execution_count": 291,
      "metadata": {},
      "outputs": [],
      "source": [
        "print(foo.__defaults__)\n",
        "foo()\n",
        "print(foo.__defaults__)"
      ],
      "id": "063aa98d"
    },
    {
      "cell_type": "markdown",
      "metadata": {},
      "source": [
        "-   The default value for a function argument is evaluated once, when\n",
        "    the function is defined\n",
        "-   `the` bar argument is initialized to its default (i.e., an empty\n",
        "    list) only when foo() is first defined\n",
        "-   successive calls to `foo()` (with no a `bar` argument specified) use\n",
        "    the same list!\n",
        "\n",
        "One should use instead"
      ],
      "id": "cec3101b-b9a7-45c2-8111-a8dd17a7cf41"
    },
    {
      "cell_type": "code",
      "execution_count": 292,
      "metadata": {
        "ExecuteTime": {
          "end_time": "2021-01-15T08:40:52.916162Z",
          "start_time": "2021-01-15T08:40:52.908617Z"
        },
        "slideshow": {
          "slide_type": "-"
        }
      },
      "outputs": [],
      "source": [
        "def foo(bar=None):\n",
        "    if bar is None:\n",
        "        bar = []\n",
        "    bar.append('oops')\n",
        "    return bar\n",
        "\n",
        "print(foo())\n",
        "print(foo())\n",
        "print(foo())\n",
        "print(foo(['OK']))"
      ],
      "id": "2bd51f5c"
    },
    {
      "cell_type": "code",
      "execution_count": 293,
      "metadata": {},
      "outputs": [],
      "source": [
        "print(foo.__defaults__)\n",
        "foo()\n",
        "print(foo.__defaults__)"
      ],
      "id": "55182a75"
    },
    {
      "cell_type": "markdown",
      "metadata": {},
      "source": [
        "No problem with immutable types"
      ],
      "id": "f0a6979d-4792-4580-8d0b-68834f57cccb"
    },
    {
      "cell_type": "code",
      "execution_count": 294,
      "metadata": {
        "ExecuteTime": {
          "end_time": "2021-01-15T08:40:53.337268Z",
          "start_time": "2021-01-15T08:40:53.330411Z"
        }
      },
      "outputs": [],
      "source": [
        "def foo(bar=()):\n",
        "    bar += ('oops',)\n",
        "    return bar\n",
        "\n",
        "print(foo())\n",
        "print(foo())\n",
        "print(foo())"
      ],
      "id": "f78be74e"
    },
    {
      "cell_type": "code",
      "execution_count": 295,
      "metadata": {},
      "outputs": [],
      "source": [
        "print(foo.__defaults__)"
      ],
      "id": "8806370a"
    },
    {
      "cell_type": "markdown",
      "metadata": {},
      "source": [
        "## Class attributes VS object attributes"
      ],
      "id": "cabff723-7583-4d2d-bc30-559c1bddb088"
    },
    {
      "cell_type": "code",
      "execution_count": 296,
      "metadata": {
        "ExecuteTime": {
          "end_time": "2021-01-15T08:40:53.948439Z",
          "start_time": "2021-01-15T08:40:53.942319Z"
        }
      },
      "outputs": [],
      "source": [
        "class A(object):\n",
        "    x = 1\n",
        "\n",
        "    def __init__(self):\n",
        "        self.y = 2\n",
        "\n",
        "class B(A):\n",
        "    def __init__(self):\n",
        "        super().__init__()\n",
        "\n",
        "class C(A):\n",
        "    def __init__(self):\n",
        "        super().__init__()\n",
        "\n",
        "a, b, c = A(), B(), C()"
      ],
      "id": "ce7f186b"
    },
    {
      "cell_type": "code",
      "execution_count": 297,
      "metadata": {
        "ExecuteTime": {
          "end_time": "2021-01-15T08:40:54.135498Z",
          "start_time": "2021-01-15T08:40:54.131029Z"
        }
      },
      "outputs": [],
      "source": [
        "print(a.x, b.x, c.x)\n",
        "print(a.y, b.y, c.y)"
      ],
      "id": "53e96575"
    },
    {
      "cell_type": "code",
      "execution_count": 298,
      "metadata": {
        "ExecuteTime": {
          "end_time": "2021-01-15T08:40:54.858324Z",
          "start_time": "2021-01-15T08:40:54.853424Z"
        },
        "slideshow": {
          "slide_type": "subslide"
        }
      },
      "outputs": [],
      "source": [
        "a.y = 3\n",
        "print(a.y, b.y, c.y)"
      ],
      "id": "fc69bb73"
    },
    {
      "cell_type": "code",
      "execution_count": 299,
      "metadata": {
        "ExecuteTime": {
          "end_time": "2021-01-15T08:40:55.058452Z",
          "start_time": "2021-01-15T08:40:55.050679Z"
        }
      },
      "outputs": [],
      "source": [
        "a.x = 3  # Adds a new attribute named x in object a\n",
        "print(a.x, b.x, c.x)"
      ],
      "id": "5ed0ccd3"
    },
    {
      "cell_type": "code",
      "execution_count": 300,
      "metadata": {
        "ExecuteTime": {
          "end_time": "2021-01-15T08:40:55.812247Z",
          "start_time": "2021-01-15T08:40:55.805966Z"
        }
      },
      "outputs": [],
      "source": [
        "A.x = 4 # Changes the class attribute x of class A\n",
        "print(a.x, b.x, c.x)"
      ],
      "id": "3b604d8b"
    },
    {
      "cell_type": "markdown",
      "metadata": {},
      "source": [
        "-   Attribute `x` is not an **attribute** of `b` nor `c`\n",
        "-   It is also not a **class attribute** of classes `B` and `C`\n",
        "-   So, it is is looked up in the base class `A`, which contains a\n",
        "    **class attribute** `x`\n",
        "\n",
        "Classes and objects contain a hidden `dict` to store their attributes,\n",
        "and are accessed following a method resolution order (MRO)"
      ],
      "id": "919fd3c8-c7de-424c-9ff0-9eb40c3dfc40"
    },
    {
      "cell_type": "code",
      "execution_count": 301,
      "metadata": {
        "ExecuteTime": {
          "end_time": "2021-01-15T08:40:56.589556Z",
          "start_time": "2021-01-15T08:40:56.583455Z"
        },
        "slideshow": {
          "slide_type": "-"
        }
      },
      "outputs": [],
      "source": [
        "a.__dict__, b.__dict__, c.__dict__"
      ],
      "id": "6d5658e9"
    },
    {
      "cell_type": "code",
      "execution_count": 302,
      "metadata": {
        "ExecuteTime": {
          "end_time": "2021-01-15T08:40:57.372472Z",
          "start_time": "2021-01-15T08:40:57.365176Z"
        }
      },
      "outputs": [],
      "source": [
        "A.__dict__, B.__dict__, C.__dict__"
      ],
      "id": "98aee724"
    },
    {
      "cell_type": "markdown",
      "metadata": {},
      "source": [
        "This can lead to **nasty** errors when using class attributes: learn\n",
        "more about this\n",
        "\n",
        "## Python scope rules"
      ],
      "id": "f724d908-92c7-4ea1-8ad8-e4ee3c1b13e7"
    },
    {
      "cell_type": "code",
      "execution_count": 303,
      "metadata": {},
      "outputs": [],
      "source": [
        "try:\n",
        "    ints += [4]\n",
        "except NameError:\n",
        "    print(\"NameError: name 'ints' is not defined\")"
      ],
      "id": "61a38584"
    },
    {
      "cell_type": "code",
      "execution_count": 304,
      "metadata": {
        "ExecuteTime": {
          "end_time": "2021-01-15T08:40:58.254394Z",
          "start_time": "2021-01-15T08:40:58.250379Z"
        }
      },
      "outputs": [],
      "source": [
        "ints = [1]\n",
        "\n",
        "def foo1():\n",
        "    ints.append(2)\n",
        "    return ints\n",
        "\n",
        "def foo2():\n",
        "    ints += [2]\n",
        "    return ints"
      ],
      "id": "4dbbb1e8"
    },
    {
      "cell_type": "code",
      "execution_count": 305,
      "metadata": {
        "ExecuteTime": {
          "end_time": "2021-01-15T08:40:58.471436Z",
          "start_time": "2021-01-15T08:40:58.464761Z"
        }
      },
      "outputs": [],
      "source": [
        "foo1()"
      ],
      "id": "31ad27a8"
    },
    {
      "cell_type": "code",
      "execution_count": 306,
      "metadata": {
        "ExecuteTime": {
          "end_time": "2021-01-15T08:40:58.668154Z",
          "start_time": "2021-01-15T08:40:58.647332Z"
        },
        "slideshow": {
          "slide_type": "-"
        }
      },
      "outputs": [],
      "source": [
        "try:    \n",
        "    foo2()\n",
        "except UnboundLocalError as inst:\n",
        "    print(inst)"
      ],
      "id": "fab32cb2"
    },
    {
      "cell_type": "markdown",
      "metadata": {},
      "source": [
        "### What the hell ?\n",
        "\n",
        "-   An assignment to a variable in a scope assumes that the variable is\n",
        "    local to that scope\n",
        "-   and shadows any similarly named variable in any outer scope\n",
        "\n",
        "``` python\n",
        "ints += [2]\n",
        "```\n",
        "\n",
        "means\n",
        "\n",
        "``` python\n",
        "ints = ints + [2]\n",
        "```\n",
        "\n",
        "which is an *assigment*: `ints` must be defined in the local scope, but\n",
        "it is not, while\n",
        "\n",
        "``` python\n",
        "ints.append(2)\n",
        "```\n",
        "\n",
        "is not an *assignemnt*\n",
        "\n",
        "## Modify a `list` while iterating over it"
      ],
      "id": "297556bd-5041-484a-8078-76124369591c"
    },
    {
      "cell_type": "code",
      "execution_count": 307,
      "metadata": {
        "ExecuteTime": {
          "end_time": "2021-01-15T08:41:05.902243Z",
          "start_time": "2021-01-15T08:41:05.890704Z"
        }
      },
      "outputs": [],
      "source": [
        "odd = lambda x: bool(x % 2)\n",
        "numbers = list(range(10))\n",
        "\n",
        "try:\n",
        "  for i in range(len(numbers)):\n",
        "      if odd(numbers[i]):\n",
        "          del numbers[i]\n",
        "except IndexError as inst:\n",
        "    print(inst)"
      ],
      "id": "7362b568"
    },
    {
      "cell_type": "markdown",
      "metadata": {},
      "source": [
        "Typically an example where one should use a list comprehension"
      ],
      "id": "d6b2bf90-ef10-433e-96ff-296bf7f36cb5"
    },
    {
      "cell_type": "code",
      "execution_count": 308,
      "metadata": {
        "ExecuteTime": {
          "end_time": "2021-01-15T08:41:16.008696Z",
          "start_time": "2021-01-15T08:41:16.002196Z"
        }
      },
      "outputs": [],
      "source": [
        "[number for number in numbers if not odd(number)]"
      ],
      "id": "87ecfcda"
    },
    {
      "cell_type": "markdown",
      "metadata": {},
      "source": [
        "## No docstrings\n",
        "\n",
        "Accept to spend time to write clean docstrings (look at `numpydoc`\n",
        "style)"
      ],
      "id": "44093b81-a802-401a-a88c-f0e72000d84f"
    },
    {
      "cell_type": "code",
      "execution_count": 309,
      "metadata": {
        "ExecuteTime": {
          "end_time": "2021-01-15T08:41:17.239948Z",
          "start_time": "2021-01-15T08:41:17.236031Z"
        }
      },
      "outputs": [],
      "source": [
        "def create_student(name, age, address, major='computer science'):\n",
        "    \"\"\"Add a student in the database\n",
        "    \n",
        "    Parameters\n",
        "    ----------\n",
        "    name: `str`\n",
        "        Name of the student\n",
        "    \n",
        "    age: `int`\n",
        "        Age of the student\n",
        "    \n",
        "    address: `str`\n",
        "        Address of the student\n",
        "    \n",
        "    major: `str`, default='computer science'\n",
        "        The major chosen by the student\n",
        "    \n",
        "    Returns\n",
        "    -------\n",
        "    output: `Student`\n",
        "        A fresh student\n",
        "    \"\"\"\n",
        "    pass"
      ],
      "id": "07cc2453"
    },
    {
      "cell_type": "code",
      "execution_count": 310,
      "metadata": {},
      "outputs": [],
      "source": [
        "create_student('Duduche', 28, 'Chalons')"
      ],
      "id": "07787802"
    },
    {
      "cell_type": "markdown",
      "metadata": {},
      "source": [
        "## Not using available methods and/or the simplest solution"
      ],
      "id": "84ff8981-ca0d-4d1a-af5b-996ddfc0e6a5"
    },
    {
      "cell_type": "code",
      "execution_count": 311,
      "metadata": {
        "ExecuteTime": {
          "end_time": "2021-01-15T08:41:19.794009Z",
          "start_time": "2021-01-15T08:41:19.785191Z"
        }
      },
      "outputs": [],
      "source": [
        "dd = {'stephane': 1234, 'gael': 4567, 'gontran': 891011}\n",
        "\n",
        "# Bad\n",
        "for key in dd.keys():\n",
        "    print(key, dd[key])\n",
        "\n",
        "print('-' * 8)\n",
        "\n",
        "# Good\n",
        "for key, value in dd.items():\n",
        "    print(key, value)"
      ],
      "id": "2bc1a57f"
    },
    {
      "cell_type": "code",
      "execution_count": 312,
      "metadata": {
        "ExecuteTime": {
          "end_time": "2021-01-15T08:41:20.116770Z",
          "start_time": "2021-01-15T08:41:20.104428Z"
        },
        "slideshow": {
          "slide_type": "subslide"
        }
      },
      "outputs": [],
      "source": [
        "colors = ['black', 'yellow', 'brown', 'red', 'pink']\n",
        "\n",
        "# Bad\n",
        "for i in range(len(colors)):\n",
        "    print(i, colors[i])\n",
        "\n",
        "print('-' * 8)\n",
        "\n",
        "# Good\n",
        "for i, color in enumerate(colors):\n",
        "    print(i, color)"
      ],
      "id": "7f510b9c"
    },
    {
      "cell_type": "markdown",
      "metadata": {},
      "source": [
        "## Not using the standard library\n",
        "\n",
        "While it’s **always** better than a hand-made solution"
      ],
      "id": "9bd548d3-2562-4107-a973-231894659f03"
    },
    {
      "cell_type": "code",
      "execution_count": 313,
      "metadata": {
        "ExecuteTime": {
          "end_time": "2021-01-15T08:41:21.109134Z",
          "start_time": "2021-01-15T08:41:21.101392Z"
        }
      },
      "outputs": [],
      "source": [
        "list1 = [1, 2]\n",
        "list2 = [3, 4]\n",
        "list3 = [5, 6, 7]\n",
        "\n",
        "for a in list1:\n",
        "    for b in list2:\n",
        "        for c in list3:\n",
        "            print(a, b, c)"
      ],
      "id": "cd436e22"
    },
    {
      "cell_type": "code",
      "execution_count": 314,
      "metadata": {
        "ExecuteTime": {
          "end_time": "2021-01-15T08:41:22.827474Z",
          "start_time": "2021-01-15T08:41:22.819519Z"
        },
        "slideshow": {
          "slide_type": "subslide"
        }
      },
      "outputs": [],
      "source": [
        "from itertools import product\n",
        "\n",
        "for a, b, c in product(list1, list2, list3):\n",
        "    print(a, b, c)"
      ],
      "id": "6fd91532"
    },
    {
      "cell_type": "markdown",
      "metadata": {},
      "source": [
        "# That’s it for now !"
      ],
      "id": "b3534995-bc65-4aaf-a959-6f45b8b67875"
    }
  ],
  "nbformat": 4,
  "nbformat_minor": 5,
  "metadata": {
    "kernelspec": {
      "name": "python3",
      "display_name": "Python 3 (ipykernel)",
      "language": "python",
      "path": "/usr/share/jupyter/kernels/python3"
    },
    "language_info": {
      "name": "python",
      "codemirror_mode": {
        "name": "ipython",
        "version": "3"
      },
      "file_extension": ".py",
      "mimetype": "text/x-python",
      "nbconvert_exporter": "python",
      "pygments_lexer": "ipython3",
      "version": "3.12.3"
    }
  }
}