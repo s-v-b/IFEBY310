{
  "cells": [
    {
      "cell_type": "markdown",
      "metadata": {},
      "source": [
        "# Introduction to `numpy`\n",
        "\n",
        "[`NumPy`](https://numpy.org) is the fundamental package for scientific\n",
        "computing with Python. It contains among other things:\n",
        "\n",
        "-   a powerful [N-dimensional array\n",
        "    object](https://numpy.org/doc/stable/user/basics.indexing.html)\n",
        "-   (sophisticated) [broadcasting\n",
        "    functions](https://numpy.org/doc/stable/user/basics.broadcasting.html)\n",
        "-   tools for integrating C/C++ and Fortran code\n",
        "-   useful [linear\n",
        "    algebra](https://numpy.org/doc/stable/reference/routines.linalg.html),\n",
        "    [Fourier\n",
        "    transform](https://numpy.org/doc/stable/user/basics.indexing.html),\n",
        "    and [random generation\n",
        "    capabilities](https://numpy.org/doc/stable/reference/random/index.html)\n",
        "\n",
        "Besides its obvious scientific uses, `NumPy` can also be used as an\n",
        "efficient multi-dimensional container for general data. Arbitrary\n",
        "data-types can be defined. This allows `NumPy` to seamlessly and\n",
        "speedily integrate with a wide variety of databases.\n",
        "\n",
        "Library documentation: <a>http://numpy.org/</a>\n",
        "\n",
        "## The base `numpy.array` object"
      ],
      "id": "b5d6f4bf-1879-4624-a66d-b464ba0c5f08"
    },
    {
      "cell_type": "code",
      "execution_count": 1,
      "metadata": {
        "ExecuteTime": {
          "end_time": "2022-01-19T10:03:56.772810Z",
          "start_time": "2022-01-19T10:03:56.767960Z"
        },
        "slideshow": {
          "slide_type": "subslide"
        }
      },
      "outputs": [],
      "source": [
        "import numpy as np\n",
        "\n",
        "# declare a vector using a list as the argument\n",
        "v = np.array([1, 2.0, 3, 4])\n",
        "v"
      ],
      "id": "setup"
    },
    {
      "cell_type": "code",
      "execution_count": 2,
      "metadata": {},
      "outputs": [],
      "source": [
        "list([1, 2.0, 3, 4])"
      ],
      "id": "78330ebd"
    },
    {
      "cell_type": "code",
      "execution_count": 3,
      "metadata": {},
      "outputs": [],
      "source": [
        "type(v)"
      ],
      "id": "b9d087fe"
    },
    {
      "cell_type": "code",
      "execution_count": 4,
      "metadata": {
        "ExecuteTime": {
          "end_time": "2022-01-19T10:04:14.635335Z",
          "start_time": "2022-01-19T10:04:14.631049Z"
        }
      },
      "outputs": [],
      "source": [
        "v.shape"
      ],
      "id": "3d65de76"
    },
    {
      "cell_type": "code",
      "execution_count": 5,
      "metadata": {
        "ExecuteTime": {
          "end_time": "2022-01-19T10:04:21.792284Z",
          "start_time": "2022-01-19T10:04:21.788055Z"
        }
      },
      "outputs": [],
      "source": [
        "v.ndim"
      ],
      "id": "f079cf7f"
    },
    {
      "cell_type": "code",
      "execution_count": 6,
      "metadata": {
        "ExecuteTime": {
          "end_time": "2022-01-19T10:04:25.288962Z",
          "start_time": "2022-01-19T10:04:25.284105Z"
        }
      },
      "outputs": [],
      "source": [
        "v.dtype is float"
      ],
      "id": "44642a9e"
    },
    {
      "cell_type": "code",
      "execution_count": 7,
      "metadata": {},
      "outputs": [],
      "source": [
        "v.dtype "
      ],
      "id": "8c728b9c"
    },
    {
      "cell_type": "code",
      "execution_count": 8,
      "metadata": {
        "ExecuteTime": {
          "end_time": "2022-01-19T10:04:40.960057Z",
          "start_time": "2022-01-19T10:04:40.955004Z"
        }
      },
      "outputs": [],
      "source": [
        "np.uint8 is int"
      ],
      "id": "2852ac19"
    },
    {
      "cell_type": "markdown",
      "metadata": {},
      "source": [
        "> **Tip**\n",
        ">\n",
        "> Use copilot *explain* to understand the chunks:\n",
        ">\n",
        "> > The np.uint8 is a data type in NumPy, representing an unsigned 8-bit\n",
        "> > integer, which can store values from 0 to 255. The int type is the\n",
        "> > built-in integer type in Python, which can represent any integer\n",
        "> > value without a fixed size limit."
      ],
      "id": "5c12d20d-6cad-4023-9974-4757ddcad254"
    },
    {
      "cell_type": "code",
      "execution_count": 9,
      "metadata": {},
      "outputs": [],
      "source": [
        "np.array([2**120, 2**40], dtype=np.int64)"
      ],
      "id": "0c3e7808"
    },
    {
      "cell_type": "code",
      "execution_count": 10,
      "metadata": {
        "ExecuteTime": {
          "end_time": "2022-01-19T10:04:43.844304Z",
          "start_time": "2022-01-19T10:04:43.838964Z"
        }
      },
      "outputs": [],
      "source": [
        "np.uint16 is int "
      ],
      "id": "f4b4e128"
    },
    {
      "cell_type": "code",
      "execution_count": 11,
      "metadata": {
        "ExecuteTime": {
          "end_time": "2022-01-19T10:04:45.206350Z",
          "start_time": "2022-01-19T10:04:45.201261Z"
        }
      },
      "outputs": [],
      "source": [
        "np.uint32  is int"
      ],
      "id": "abd14328"
    },
    {
      "cell_type": "code",
      "execution_count": 12,
      "metadata": {
        "ExecuteTime": {
          "end_time": "2022-01-19T10:04:48.250324Z",
          "start_time": "2022-01-19T10:04:48.244917Z"
        },
        "slideshow": {
          "slide_type": "subslide"
        }
      },
      "outputs": [],
      "source": [
        "w = np.array([1.3, 2, 3, 4], dtype=np.int64)\n",
        "w"
      ],
      "id": "05072bcc"
    },
    {
      "cell_type": "code",
      "execution_count": 13,
      "metadata": {
        "ExecuteTime": {
          "end_time": "2022-01-19T10:05:00.151747Z",
          "start_time": "2022-01-19T10:05:00.146141Z"
        }
      },
      "outputs": [],
      "source": [
        "w.dtype"
      ],
      "id": "cbbf049d"
    },
    {
      "cell_type": "code",
      "execution_count": 14,
      "metadata": {
        "ExecuteTime": {
          "end_time": "2022-01-19T10:08:25.417588Z",
          "start_time": "2022-01-19T10:08:25.414352Z"
        },
        "slideshow": {
          "slide_type": "subslide"
        }
      },
      "outputs": [],
      "source": [
        "a = np.arange(100)"
      ],
      "id": "1ea2367c"
    },
    {
      "cell_type": "code",
      "execution_count": 15,
      "metadata": {},
      "outputs": [],
      "source": [
        "type(a)"
      ],
      "id": "c6f86df4"
    },
    {
      "cell_type": "code",
      "execution_count": 16,
      "metadata": {},
      "outputs": [],
      "source": [
        "np.array(range(100))"
      ],
      "id": "681db0e0"
    },
    {
      "cell_type": "code",
      "execution_count": 17,
      "metadata": {},
      "outputs": [],
      "source": [
        "a"
      ],
      "id": "f7f77059"
    },
    {
      "cell_type": "code",
      "execution_count": 18,
      "metadata": {
        "ExecuteTime": {
          "end_time": "2022-01-19T10:08:30.650242Z",
          "start_time": "2022-01-19T10:08:30.645228Z"
        }
      },
      "outputs": [],
      "source": [
        "a.dtype"
      ],
      "id": "c11bc686"
    },
    {
      "cell_type": "code",
      "execution_count": 19,
      "metadata": {
        "ExecuteTime": {
          "end_time": "2022-01-19T10:08:34.906164Z",
          "start_time": "2022-01-19T10:08:34.899997Z"
        },
        "slideshow": {
          "slide_type": "subslide"
        }
      },
      "outputs": [],
      "source": [
        "-3 * a ** 2"
      ],
      "id": "2bfb9ab3"
    },
    {
      "cell_type": "code",
      "execution_count": 20,
      "metadata": {
        "ExecuteTime": {
          "end_time": "2022-01-19T10:08:37.560386Z",
          "start_time": "2022-01-19T10:08:37.557072Z"
        },
        "slideshow": {
          "slide_type": "subslide"
        }
      },
      "outputs": [],
      "source": [
        "a[42] = 13"
      ],
      "id": "10b8b12f"
    },
    {
      "cell_type": "code",
      "execution_count": 21,
      "metadata": {
        "ExecuteTime": {
          "end_time": "2022-01-19T10:08:38.581351Z",
          "start_time": "2022-01-19T10:08:38.578031Z"
        }
      },
      "outputs": [],
      "source": [
        "a[42] = 1025"
      ],
      "id": "aff5537a"
    },
    {
      "cell_type": "code",
      "execution_count": 22,
      "metadata": {
        "ExecuteTime": {
          "end_time": "2022-01-19T10:09:34.115461Z",
          "start_time": "2022-01-19T10:09:34.109542Z"
        }
      },
      "outputs": [],
      "source": [
        "np.info(np.int16)"
      ],
      "id": "f7852a8e"
    },
    {
      "cell_type": "code",
      "execution_count": 23,
      "metadata": {
        "ExecuteTime": {
          "end_time": "2022-01-19T10:09:20.037776Z",
          "start_time": "2022-01-19T10:09:20.031216Z"
        }
      },
      "outputs": [],
      "source": [
        "np.int16"
      ],
      "id": "0ddb6616"
    },
    {
      "cell_type": "code",
      "execution_count": 24,
      "metadata": {
        "ExecuteTime": {
          "end_time": "2022-01-19T10:08:39.686116Z",
          "start_time": "2022-01-19T10:08:39.678619Z"
        }
      },
      "outputs": [],
      "source": [
        "dict(enumerate(a))"
      ],
      "id": "38c5101c"
    },
    {
      "cell_type": "code",
      "execution_count": 25,
      "metadata": {
        "ExecuteTime": {
          "end_time": "2022-01-19T10:09:47.067438Z",
          "start_time": "2022-01-19T10:09:47.061548Z"
        }
      },
      "outputs": [],
      "source": [
        "a + 1"
      ],
      "id": "68fc0e7f"
    },
    {
      "cell_type": "code",
      "execution_count": 26,
      "metadata": {
        "ExecuteTime": {
          "end_time": "2022-01-19T10:10:02.092179Z",
          "start_time": "2022-01-19T10:10:02.086622Z"
        }
      },
      "outputs": [],
      "source": [
        "b = a + 1\n",
        "b"
      ],
      "id": "98d5e949"
    },
    {
      "cell_type": "code",
      "execution_count": 27,
      "metadata": {
        "ExecuteTime": {
          "end_time": "2022-01-19T10:10:12.761835Z",
          "start_time": "2022-01-19T10:10:12.756736Z"
        }
      },
      "outputs": [],
      "source": [
        "a is b"
      ],
      "id": "7109e79d"
    },
    {
      "cell_type": "code",
      "execution_count": 28,
      "metadata": {
        "ExecuteTime": {
          "end_time": "2022-01-19T10:10:22.189001Z",
          "start_time": "2022-01-19T10:10:22.185209Z"
        },
        "slideshow": {
          "slide_type": "subslide"
        }
      },
      "outputs": [],
      "source": [
        "f = id(a)\n",
        "a += 1\n",
        "f, id(a)"
      ],
      "id": "38463303"
    },
    {
      "cell_type": "code",
      "execution_count": 29,
      "metadata": {
        "ExecuteTime": {
          "end_time": "2022-01-19T10:10:23.392681Z",
          "start_time": "2022-01-19T10:10:23.387466Z"
        }
      },
      "outputs": [],
      "source": [
        "a"
      ],
      "id": "4ee1a4c1"
    },
    {
      "cell_type": "code",
      "execution_count": 30,
      "metadata": {
        "ExecuteTime": {
          "end_time": "2022-01-19T10:10:27.087595Z",
          "start_time": "2022-01-19T10:10:27.081763Z"
        }
      },
      "outputs": [],
      "source": [
        "b"
      ],
      "id": "56c8af30"
    },
    {
      "cell_type": "markdown",
      "metadata": {},
      "source": [
        "> **Warning**\n",
        ">\n",
        "> Beware of the dimensions: a 1D array is not the same as a 2D array\n",
        "> with 1 column"
      ],
      "id": "5869502f-5807-4df0-bd14-51d05a4527a0"
    },
    {
      "cell_type": "code",
      "execution_count": 31,
      "metadata": {
        "ExecuteTime": {
          "end_time": "2022-01-19T10:10:30.211477Z",
          "start_time": "2022-01-19T10:10:30.204724Z"
        },
        "slideshow": {
          "slide_type": "-"
        }
      },
      "outputs": [],
      "source": [
        "a1 = np.array([1, 2, 3])\n",
        "print(a1, a1.shape, a1.ndim)"
      ],
      "id": "2c21ceac"
    },
    {
      "cell_type": "code",
      "execution_count": 32,
      "metadata": {
        "ExecuteTime": {
          "end_time": "2022-01-19T10:11:39.470253Z",
          "start_time": "2022-01-19T10:11:39.465331Z"
        }
      },
      "outputs": [],
      "source": [
        "a2 = np.array([1, 2, 3])\n",
        "print(a2, a2.shape, a2.ndim)"
      ],
      "id": "b5e86def"
    },
    {
      "cell_type": "markdown",
      "metadata": {},
      "source": [
        "[More on NumPy\n",
        "quickstart](https://numpy.org/devdocs/user/quickstart.html)\n",
        "\n",
        "> **Note**\n",
        ">\n",
        "> List the attributes and methods of class `numpy.ndarray`. You may use\n",
        "> function `dir()` and filter the result using methods for objects of\n",
        "> class `string`.\n",
        "\n",
        "## Matrix multiplication"
      ],
      "id": "897af056-69d7-41d1-9c60-895ba755db9a"
    },
    {
      "cell_type": "code",
      "execution_count": 33,
      "metadata": {
        "ExecuteTime": {
          "end_time": "2022-01-19T10:11:41.023400Z",
          "start_time": "2022-01-19T10:11:41.018032Z"
        }
      },
      "outputs": [],
      "source": [
        "a2.dot(a1) # inner product "
      ],
      "id": "db01254a"
    },
    {
      "cell_type": "code",
      "execution_count": 34,
      "metadata": {},
      "outputs": [],
      "source": [
        "( \n",
        "    np.array([a2])\n",
        "        .transpose() # column vector\n",
        "        .dot(np.array([a1]))\n",
        ") # column vector multiplied by row vector"
      ],
      "id": "265a456c"
    },
    {
      "cell_type": "code",
      "execution_count": 35,
      "metadata": {},
      "outputs": [],
      "source": [
        "(\n",
        "    np.array([a2])\n",
        "    .transpose()#.shape\n",
        ")"
      ],
      "id": "ab95973c"
    },
    {
      "cell_type": "code",
      "execution_count": 36,
      "metadata": {},
      "outputs": [],
      "source": [
        "(\n",
        "    a2.reshape(3,1)  # all explicit\n",
        "      .dot(a1.reshape(1, 3))\n",
        ")"
      ],
      "id": "e36407ae"
    },
    {
      "cell_type": "code",
      "execution_count": 37,
      "metadata": {
        "ExecuteTime": {
          "end_time": "2022-01-19T10:11:55.636179Z",
          "start_time": "2022-01-19T10:11:55.630699Z"
        },
        "slideshow": {
          "slide_type": "subslide"
        }
      },
      "outputs": [],
      "source": [
        "# Declare a 2D array using a nested list as the constructor argument\n",
        "M = np.array([[1,2], \n",
        "              [3,4], \n",
        "              [3.14, -9.17]])\n",
        "M"
      ],
      "id": "bb599a0a"
    },
    {
      "cell_type": "code",
      "execution_count": 38,
      "metadata": {
        "ExecuteTime": {
          "end_time": "2022-01-19T10:11:55.792686Z",
          "start_time": "2022-01-19T10:11:55.787196Z"
        }
      },
      "outputs": [],
      "source": [
        "M.shape, M.size"
      ],
      "id": "a43dd24b"
    },
    {
      "cell_type": "code",
      "execution_count": 39,
      "metadata": {
        "ExecuteTime": {
          "end_time": "2022-01-19T10:12:05.624781Z",
          "start_time": "2022-01-19T10:12:05.619551Z"
        }
      },
      "outputs": [],
      "source": [
        "M.ravel(), M.ndim, M.ravel().shape"
      ],
      "id": "6a57bcd1"
    },
    {
      "cell_type": "code",
      "execution_count": 40,
      "metadata": {
        "ExecuteTime": {
          "end_time": "2022-01-19T10:12:32.331344Z",
          "start_time": "2022-01-19T10:12:32.325181Z"
        },
        "slideshow": {
          "slide_type": "subslide"
        }
      },
      "outputs": [],
      "source": [
        "# arguments: start, stop, step\n",
        "x = (\n",
        "     np.arange(12)\n",
        "       .reshape(4, 3)\n",
        ")\n",
        "x"
      ],
      "id": "25708354"
    },
    {
      "cell_type": "code",
      "execution_count": 41,
      "metadata": {},
      "outputs": [],
      "source": [
        "y = np.arange(3).reshape(3,1)\n",
        "\n",
        "y"
      ],
      "id": "2bd72d14"
    },
    {
      "cell_type": "code",
      "execution_count": 42,
      "metadata": {},
      "outputs": [],
      "source": [
        "x @ y, x.dot(y)"
      ],
      "id": "40fae110"
    },
    {
      "cell_type": "markdown",
      "metadata": {},
      "source": [
        "> **Note**\n",
        "\n",
        "## Generating arrays"
      ],
      "id": "b2f90557-45ec-439e-972c-e0d811795455"
    },
    {
      "cell_type": "code",
      "execution_count": 43,
      "metadata": {
        "ExecuteTime": {
          "end_time": "2022-01-19T10:12:34.268059Z",
          "start_time": "2022-01-19T10:12:34.260897Z"
        }
      },
      "outputs": [],
      "source": [
        "np.linspace(0, 10, 51)  # meaning of the 3 positional parameters ? "
      ],
      "id": "49226b1e"
    },
    {
      "cell_type": "code",
      "execution_count": 44,
      "metadata": {
        "ExecuteTime": {
          "end_time": "2022-01-19T10:13:05.893229Z",
          "start_time": "2022-01-19T10:13:05.887241Z"
        },
        "slideshow": {
          "slide_type": "-"
        }
      },
      "outputs": [],
      "source": [
        "np.logspace(0, 10, 11, base=np.e), np.e**(np.arange(11))"
      ],
      "id": "624dd446"
    },
    {
      "cell_type": "code",
      "execution_count": 45,
      "metadata": {
        "ExecuteTime": {
          "end_time": "2022-01-19T10:14:43.385320Z",
          "start_time": "2022-01-19T10:14:43.273674Z"
        },
        "slideshow": {
          "slide_type": "subslide"
        }
      },
      "outputs": [],
      "source": [
        "import matplotlib.pyplot as plt\n",
        "\n",
        "# Random standard Gaussian numbers\n",
        "fig = plt.figure(figsize=(8, 4))\n",
        "wn = np.random.randn(1000)\n",
        "bm = wn.cumsum()\n",
        "\n",
        "plt.plot(bm, lw=3)"
      ],
      "id": "0b8cb470"
    },
    {
      "cell_type": "code",
      "execution_count": 46,
      "metadata": {
        "ExecuteTime": {
          "end_time": "2022-01-19T10:14:46.379228Z",
          "start_time": "2022-01-19T10:14:46.373157Z"
        },
        "slideshow": {
          "slide_type": "subslide"
        }
      },
      "outputs": [],
      "source": [
        "np.diag(np.arange(10))"
      ],
      "id": "babe2e86"
    },
    {
      "cell_type": "code",
      "execution_count": 47,
      "metadata": {
        "ExecuteTime": {
          "end_time": "2022-01-19T10:15:19.746421Z",
          "start_time": "2022-01-19T10:15:19.740184Z"
        },
        "slideshow": {
          "slide_type": "-"
        }
      },
      "outputs": [],
      "source": [
        "zozo = np.zeros((10, 10), dtype=np.float32)\n",
        "zozo"
      ],
      "id": "8c31848b"
    },
    {
      "cell_type": "code",
      "execution_count": 48,
      "metadata": {
        "ExecuteTime": {
          "end_time": "2022-01-19T10:15:25.983891Z",
          "start_time": "2022-01-19T10:15:25.979180Z"
        },
        "slideshow": {
          "slide_type": "-"
        }
      },
      "outputs": [],
      "source": [
        "zozo.shape"
      ],
      "id": "cebd58dd"
    },
    {
      "cell_type": "code",
      "execution_count": 49,
      "metadata": {
        "ExecuteTime": {
          "end_time": "2022-01-19T10:15:28.982811Z",
          "start_time": "2022-01-19T10:15:28.978770Z"
        },
        "slideshow": {
          "slide_type": "subslide"
        }
      },
      "outputs": [],
      "source": [
        "print(M)"
      ],
      "id": "074c343b"
    },
    {
      "cell_type": "code",
      "execution_count": 50,
      "metadata": {
        "ExecuteTime": {
          "end_time": "2022-01-19T10:15:29.424077Z",
          "start_time": "2022-01-19T10:15:29.418759Z"
        }
      },
      "outputs": [],
      "source": [
        "M[1, 1]"
      ],
      "id": "5ee0abd8"
    },
    {
      "cell_type": "code",
      "execution_count": 51,
      "metadata": {
        "ExecuteTime": {
          "end_time": "2022-01-19T10:16:19.133869Z",
          "start_time": "2022-01-19T10:16:19.128542Z"
        },
        "slideshow": {
          "slide_type": "-"
        }
      },
      "outputs": [],
      "source": [
        "# assign new value\n",
        "M[0, 0] = 7\n",
        "M[:, 0] = 42\n",
        "M"
      ],
      "id": "4834737b"
    },
    {
      "cell_type": "code",
      "execution_count": 52,
      "metadata": {
        "ExecuteTime": {
          "end_time": "2022-01-19T10:16:56.907063Z",
          "start_time": "2022-01-19T10:16:56.901415Z"
        }
      },
      "outputs": [],
      "source": [
        "M"
      ],
      "id": "30a693a9"
    },
    {
      "cell_type": "code",
      "execution_count": 53,
      "metadata": {
        "ExecuteTime": {
          "end_time": "2022-01-19T10:16:44.838732Z",
          "start_time": "2022-01-19T10:16:44.832758Z"
        }
      },
      "outputs": [],
      "source": [
        "# Warning: the next m is a **view** on M. \n",
        "# One again, no copies unless you ask for one!\n",
        "m = M[0, :]\n",
        "m"
      ],
      "id": "c2765f44"
    },
    {
      "cell_type": "code",
      "execution_count": 54,
      "metadata": {
        "ExecuteTime": {
          "end_time": "2022-01-19T10:17:45.614910Z",
          "start_time": "2022-01-19T10:17:45.609735Z"
        }
      },
      "outputs": [],
      "source": [
        "m[:] = 3.14\n",
        "M"
      ],
      "id": "d732f7fd"
    },
    {
      "cell_type": "code",
      "execution_count": 55,
      "metadata": {},
      "outputs": [],
      "source": [
        "m[:] = 7\n",
        "M"
      ],
      "id": "cfac375c"
    },
    {
      "cell_type": "markdown",
      "metadata": {},
      "source": [
        "# Slicing"
      ],
      "id": "65e13134-ec38-474f-9d46-4eee62f4a4e6"
    },
    {
      "cell_type": "code",
      "execution_count": 56,
      "metadata": {
        "ExecuteTime": {
          "end_time": "2022-01-19T10:19:44.021962Z",
          "start_time": "2022-01-19T10:19:44.015749Z"
        },
        "slideshow": {
          "slide_type": "subslide"
        }
      },
      "outputs": [],
      "source": [
        "# slicing works just like with anything else (lists, etc.)\n",
        "A = np.array([1, 2, 3, 4, 5])\n",
        "print(A)\n",
        "print(A[::-1])\n",
        "print(A[::2])\n",
        "print(A[:-1:2])"
      ],
      "id": "7ae806ae"
    },
    {
      "cell_type": "code",
      "execution_count": 57,
      "metadata": {
        "ExecuteTime": {
          "end_time": "2022-01-19T10:20:08.103594Z",
          "start_time": "2022-01-19T10:20:08.097276Z"
        }
      },
      "outputs": [],
      "source": [
        "[[n + m * 10 for n in range(5)] for m in range(5)]"
      ],
      "id": "bc2607a2"
    },
    {
      "cell_type": "code",
      "execution_count": 58,
      "metadata": {
        "ExecuteTime": {
          "end_time": "2022-01-19T10:20:28.427508Z",
          "start_time": "2022-01-19T10:20:28.422319Z"
        }
      },
      "outputs": [],
      "source": [
        "A = np.array([[n + m * 10 for n in range(5)] for m in range(5)])\n",
        "A"
      ],
      "id": "26e6d65c"
    },
    {
      "cell_type": "code",
      "execution_count": 59,
      "metadata": {
        "ExecuteTime": {
          "end_time": "2022-01-19T10:20:57.347620Z",
          "start_time": "2022-01-19T10:20:57.343219Z"
        },
        "slideshow": {
          "slide_type": "subslide"
        }
      },
      "outputs": [],
      "source": [
        "print(A[1:4])"
      ],
      "id": "973556cc"
    },
    {
      "cell_type": "code",
      "execution_count": 60,
      "metadata": {
        "ExecuteTime": {
          "end_time": "2022-01-19T10:21:15.952179Z",
          "start_time": "2022-01-19T10:21:15.948641Z"
        }
      },
      "outputs": [],
      "source": [
        "m = A[:, 1:4]"
      ],
      "id": "2500859c"
    },
    {
      "cell_type": "code",
      "execution_count": 61,
      "metadata": {
        "ExecuteTime": {
          "end_time": "2022-01-19T10:21:22.878446Z",
          "start_time": "2022-01-19T10:21:22.874600Z"
        }
      },
      "outputs": [],
      "source": [
        "m[1, 1] = 123"
      ],
      "id": "efa2f026"
    },
    {
      "cell_type": "code",
      "execution_count": 62,
      "metadata": {
        "ExecuteTime": {
          "end_time": "2022-01-19T10:21:24.877152Z",
          "start_time": "2022-01-19T10:21:24.871364Z"
        }
      },
      "outputs": [],
      "source": [
        "A"
      ],
      "id": "930d52eb"
    },
    {
      "cell_type": "code",
      "execution_count": 63,
      "metadata": {
        "ExecuteTime": {
          "end_time": "2022-01-19T10:21:35.679054Z",
          "start_time": "2022-01-19T10:21:35.674159Z"
        }
      },
      "outputs": [],
      "source": [
        "A[1]"
      ],
      "id": "adc89916"
    },
    {
      "cell_type": "code",
      "execution_count": 64,
      "metadata": {
        "ExecuteTime": {
          "end_time": "2022-01-19T10:21:36.493496Z",
          "start_time": "2022-01-19T10:21:36.487589Z"
        }
      },
      "outputs": [],
      "source": [
        "A[:, 1]"
      ],
      "id": "1fe7d6f1"
    },
    {
      "cell_type": "code",
      "execution_count": 65,
      "metadata": {
        "ExecuteTime": {
          "end_time": "2022-01-19T10:22:13.690836Z",
          "start_time": "2022-01-19T10:22:13.685191Z"
        }
      },
      "outputs": [],
      "source": [
        "A[:, ::-1]"
      ],
      "id": "4ffbcf95"
    },
    {
      "cell_type": "code",
      "execution_count": 66,
      "metadata": {
        "ExecuteTime": {
          "end_time": "2022-01-19T10:22:13.893926Z",
          "start_time": "2022-01-19T10:22:13.890163Z"
        },
        "slideshow": {
          "slide_type": "subslide"
        }
      },
      "outputs": [],
      "source": [
        "print(A)"
      ],
      "id": "7ca4c6d9"
    },
    {
      "cell_type": "code",
      "execution_count": 67,
      "metadata": {
        "ExecuteTime": {
          "end_time": "2022-01-19T10:22:59.881914Z",
          "start_time": "2022-01-19T10:22:59.877820Z"
        }
      },
      "outputs": [],
      "source": [
        "row_indices = np.array([1, 2, 4])\n",
        "print(A[row_indices])"
      ],
      "id": "f3472644"
    },
    {
      "cell_type": "code",
      "execution_count": 68,
      "metadata": {
        "ExecuteTime": {
          "end_time": "2022-01-19T10:23:06.495460Z",
          "start_time": "2022-01-19T10:23:06.490235Z"
        }
      },
      "outputs": [],
      "source": [
        "A[:, row_indices]"
      ],
      "id": "5d950f29"
    },
    {
      "cell_type": "markdown",
      "metadata": {},
      "source": [
        "Another way is through masking with an array of `bool`s"
      ],
      "id": "f6ba21e0-88da-4d2e-9534-5b16193b2085"
    },
    {
      "cell_type": "code",
      "execution_count": 69,
      "metadata": {
        "ExecuteTime": {
          "end_time": "2022-01-19T10:23:28.237730Z",
          "start_time": "2022-01-19T10:23:28.230508Z"
        },
        "slideshow": {
          "slide_type": "-"
        }
      },
      "outputs": [],
      "source": [
        "# index masking\n",
        "B = np.arange(5)\n",
        "row_mask = np.array([True, False, True, False, False])\n",
        "print(B)\n",
        "print(B[row_mask])"
      ],
      "id": "6f178cd1"
    },
    {
      "cell_type": "code",
      "execution_count": 70,
      "metadata": {},
      "outputs": [],
      "source": [
        "A, A[row_mask] , A[:,row_mask]"
      ],
      "id": "5be69a5b"
    },
    {
      "cell_type": "markdown",
      "metadata": {},
      "source": [
        "## Copies\n",
        "\n",
        "Don’t forget that `python` *does not make copies unless told to do so*\n",
        "(same as with any mutable type)\n",
        "\n",
        "If you are not careful enough, this typically leads to a *lot of errors*\n",
        "and to being fired !!"
      ],
      "id": "8b390f86-5812-4a39-bdf2-253a64e9fd79"
    },
    {
      "cell_type": "code",
      "execution_count": 71,
      "metadata": {
        "ExecuteTime": {
          "end_time": "2022-01-19T10:23:51.294522Z",
          "start_time": "2022-01-19T10:23:51.288358Z"
        },
        "slideshow": {
          "slide_type": "-"
        }
      },
      "outputs": [],
      "source": [
        "y = x = np.arange(6)\n",
        "x[2] = 123\n",
        "y"
      ],
      "id": "0a544137"
    },
    {
      "cell_type": "code",
      "execution_count": 72,
      "metadata": {
        "ExecuteTime": {
          "end_time": "2022-01-19T10:24:34.145203Z",
          "start_time": "2022-01-19T10:24:34.140801Z"
        }
      },
      "outputs": [],
      "source": [
        "x is y"
      ],
      "id": "6dc97258"
    },
    {
      "cell_type": "code",
      "execution_count": 73,
      "metadata": {
        "ExecuteTime": {
          "end_time": "2022-01-19T10:24:38.815817Z",
          "start_time": "2022-01-19T10:24:38.811878Z"
        },
        "slideshow": {
          "slide_type": "subslide"
        }
      },
      "outputs": [],
      "source": [
        "# A real copy\n",
        "y = x.copy()\n",
        "x is y "
      ],
      "id": "f56f1c3b"
    },
    {
      "cell_type": "code",
      "execution_count": 74,
      "metadata": {
        "ExecuteTime": {
          "end_time": "2022-01-19T10:24:57.551439Z",
          "start_time": "2022-01-19T10:24:57.548073Z"
        }
      },
      "outputs": [],
      "source": [
        "# Or equivalently (but the one above is better...)\n",
        "y = np.copy(x)"
      ],
      "id": "b4075ec3"
    },
    {
      "cell_type": "code",
      "execution_count": 75,
      "metadata": {
        "ExecuteTime": {
          "end_time": "2022-01-19T10:24:57.733643Z",
          "start_time": "2022-01-19T10:24:57.727390Z"
        }
      },
      "outputs": [],
      "source": [
        "x[0] = -12\n",
        "print(x, y, x is y)"
      ],
      "id": "6f0d1ae4"
    },
    {
      "cell_type": "markdown",
      "metadata": {},
      "source": [
        "To put values of x in y (copy values into an **existing** array) use"
      ],
      "id": "414efac2-6c66-49c4-a874-e4f34ba258f8"
    },
    {
      "cell_type": "code",
      "execution_count": 76,
      "metadata": {
        "ExecuteTime": {
          "end_time": "2022-01-19T10:27:00.707987Z",
          "start_time": "2022-01-19T10:27:00.703474Z"
        }
      },
      "outputs": [],
      "source": [
        "x = np.random.randn(10)\n",
        "x, id(x)"
      ],
      "id": "f86d3cf4"
    },
    {
      "cell_type": "code",
      "execution_count": 77,
      "metadata": {
        "ExecuteTime": {
          "end_time": "2022-01-19T10:27:35.874585Z",
          "start_time": "2022-01-19T10:27:35.871235Z"
        }
      },
      "outputs": [],
      "source": [
        "x.fill(2.78)   # in place. \n",
        "x, id(x)"
      ],
      "id": "43d7551c"
    },
    {
      "cell_type": "code",
      "execution_count": 78,
      "metadata": {
        "ExecuteTime": {
          "end_time": "2022-01-19T10:27:39.785341Z",
          "start_time": "2022-01-19T10:27:39.782357Z"
        }
      },
      "outputs": [],
      "source": [
        "x[:] = 3.14  # x.fill(3.14)  can. be chained ...\n",
        "x, id(x)"
      ],
      "id": "fb0d6f3c"
    },
    {
      "cell_type": "code",
      "execution_count": 79,
      "metadata": {
        "ExecuteTime": {
          "end_time": "2022-01-19T10:29:03.422782Z",
          "start_time": "2022-01-19T10:29:03.418965Z"
        }
      },
      "outputs": [],
      "source": [
        "x[:] = np.random.randn(x.shape[0])\n",
        "x, id(x)"
      ],
      "id": "e52d8fdd"
    },
    {
      "cell_type": "code",
      "execution_count": 80,
      "metadata": {
        "ExecuteTime": {
          "end_time": "2022-01-19T10:29:05.933501Z",
          "start_time": "2022-01-19T10:29:05.929790Z"
        }
      },
      "outputs": [],
      "source": [
        "y = np.empty(x.shape)  # how does empty() work ?\n",
        "y, id(y)"
      ],
      "id": "4144e97c"
    },
    {
      "cell_type": "code",
      "execution_count": 81,
      "metadata": {},
      "outputs": [],
      "source": [
        "y = x\n",
        "y, id(y), id(x), y is x"
      ],
      "id": "dcd97c4e"
    },
    {
      "cell_type": "markdown",
      "metadata": {},
      "source": [
        "> **Final warning**\n",
        "\n",
        "In the next line you copy the values of `x` into an existing array `y`\n",
        "(of same size…)"
      ],
      "id": "5042bf8f-663f-46b8-bf63-fb0aed6b421a"
    },
    {
      "cell_type": "code",
      "execution_count": 82,
      "metadata": {
        "ExecuteTime": {
          "end_time": "2022-01-19T10:29:26.993302Z",
          "start_time": "2022-01-19T10:29:26.989487Z"
        },
        "slideshow": {
          "slide_type": "-"
        }
      },
      "outputs": [],
      "source": [
        "y = np.zeros(x.shape)\n",
        "y[:] = x\n",
        "y, y is x, np.all(y==x)"
      ],
      "id": "fc98f771"
    },
    {
      "cell_type": "markdown",
      "metadata": {},
      "source": [
        "While in the next line, you are aliasing, you are giving a new name `y`\n",
        "to the object named `x` (you should **never, ever** write something like\n",
        "this)"
      ],
      "id": "6a43e725-002d-4372-99e4-57ebc9827cfe"
    },
    {
      "cell_type": "code",
      "execution_count": 83,
      "metadata": {
        "ExecuteTime": {
          "end_time": "2022-01-19T10:30:11.677048Z",
          "start_time": "2022-01-19T10:30:11.673812Z"
        },
        "slideshow": {
          "slide_type": "-"
        }
      },
      "outputs": [],
      "source": [
        "y = x\n",
        "y is x"
      ],
      "id": "400e582f"
    },
    {
      "cell_type": "markdown",
      "metadata": {},
      "source": [
        "## Miscellanea\n",
        "\n",
        "### Non-numerical values\n",
        "\n",
        "A `numpy` array can contain other things than numeric types"
      ],
      "id": "69511dfd-7c1b-49ec-af8e-d3cdaa7a526c"
    },
    {
      "cell_type": "code",
      "execution_count": 84,
      "metadata": {
        "ExecuteTime": {
          "end_time": "2022-01-19T10:30:12.402445Z",
          "start_time": "2022-01-19T10:30:12.399156Z"
        },
        "slideshow": {
          "slide_type": "-"
        }
      },
      "outputs": [],
      "source": [
        "arr = np.array(['Labore', 'neque', 'ipsum', 'ut', 'non', 'quiquia', 'dolore.'])\n",
        "arr, arr.shape, arr.dtype"
      ],
      "id": "e15feb41"
    },
    {
      "cell_type": "code",
      "execution_count": 85,
      "metadata": {
        "ExecuteTime": {
          "end_time": "2022-01-19T10:30:14.073657Z",
          "start_time": "2022-01-19T10:30:14.062255Z"
        },
        "slideshow": {
          "slide_type": "subslide"
        }
      },
      "outputs": [],
      "source": [
        "# arr.sum()"
      ],
      "id": "8cb0460c"
    },
    {
      "cell_type": "code",
      "execution_count": 86,
      "metadata": {
        "slideshow": {
          "slide_type": "subslide"
        }
      },
      "outputs": [],
      "source": [
        "\"_\".join(arr)"
      ],
      "id": "44bbde18"
    },
    {
      "cell_type": "code",
      "execution_count": 87,
      "metadata": {
        "ExecuteTime": {
          "end_time": "2022-01-19T10:30:46.274448Z",
          "start_time": "2022-01-19T10:30:46.269678Z"
        },
        "slideshow": {
          "slide_type": "fragment"
        }
      },
      "outputs": [],
      "source": [
        "arr.dtype"
      ],
      "id": "fe17fd8c"
    },
    {
      "cell_type": "markdown",
      "metadata": {},
      "source": [
        "## A matrix is no 2D array in `numpy`\n",
        "\n",
        "So far, we have only used `array` or `ndarray` objects\n",
        "\n",
        "The is another type: the `matrix` type\n",
        "\n",
        "In words: **don’t use it** (IMhO) and stick with arrays"
      ],
      "id": "658b590a-dcf6-48dc-a938-f6299172b90c"
    },
    {
      "cell_type": "code",
      "execution_count": 88,
      "metadata": {
        "ExecuteTime": {
          "end_time": "2022-01-19T10:31:48.972264Z",
          "start_time": "2022-01-19T10:31:48.968244Z"
        },
        "slideshow": {
          "slide_type": "-"
        }
      },
      "outputs": [],
      "source": [
        "# Matrix VS array objects in numpy\n",
        "m1 = np.matrix(np.arange(3))\n",
        "m2 = np.matrix(np.arange(3))\n",
        "m1, m2"
      ],
      "id": "ca3f6664"
    },
    {
      "cell_type": "code",
      "execution_count": 89,
      "metadata": {
        "slideshow": {
          "slide_type": "fragment"
        }
      },
      "outputs": [],
      "source": [
        "m1.transpose() @ m2, m1.shape, m1.transpose() * m2"
      ],
      "id": "6069d36f"
    },
    {
      "cell_type": "code",
      "execution_count": 90,
      "metadata": {
        "ExecuteTime": {
          "end_time": "2022-01-19T10:31:50.070823Z",
          "start_time": "2022-01-19T10:31:50.067191Z"
        },
        "slideshow": {
          "slide_type": "fragment"
        }
      },
      "outputs": [],
      "source": [
        "a1 = np.arange(3)\n",
        "a2 = np.arange(3)\n",
        "a1, a2"
      ],
      "id": "57ff5984"
    },
    {
      "cell_type": "code",
      "execution_count": 91,
      "metadata": {
        "ExecuteTime": {
          "end_time": "2022-01-19T10:33:12.726005Z",
          "start_time": "2022-01-19T10:33:12.719514Z"
        },
        "slideshow": {
          "slide_type": "subslide"
        }
      },
      "outputs": [],
      "source": [
        "m1 * m2.T, m1.dot(m2.T)"
      ],
      "id": "7ca34687"
    },
    {
      "cell_type": "code",
      "execution_count": 92,
      "metadata": {
        "ExecuteTime": {
          "end_time": "2022-01-19T10:33:27.178091Z",
          "start_time": "2022-01-19T10:33:27.172613Z"
        }
      },
      "outputs": [],
      "source": [
        "a1 * a2"
      ],
      "id": "15a067da"
    },
    {
      "cell_type": "code",
      "execution_count": 93,
      "metadata": {
        "ExecuteTime": {
          "end_time": "2022-01-19T10:33:36.836024Z",
          "start_time": "2022-01-19T10:33:36.830383Z"
        }
      },
      "outputs": [],
      "source": [
        "a1.dot(a2)"
      ],
      "id": "1b54dfe7"
    },
    {
      "cell_type": "code",
      "execution_count": 94,
      "metadata": {
        "ExecuteTime": {
          "end_time": "2022-01-19T10:33:48.138130Z",
          "start_time": "2022-01-19T10:33:48.132664Z"
        }
      },
      "outputs": [],
      "source": [
        "np.outer(a1, a2)"
      ],
      "id": "98b809cc"
    },
    {
      "cell_type": "markdown",
      "metadata": {},
      "source": [
        "> **Note**\n",
        ">\n",
        "> Visit\n",
        "> <https://numpy.org/doc/stable/reference/arrays.ndarray.html#arrays-ndarray>\n",
        "\n",
        "## Sparse matrices"
      ],
      "id": "2bff6f17-676c-482e-a99b-d37aefb5ccb2"
    },
    {
      "cell_type": "code",
      "execution_count": 95,
      "metadata": {
        "ExecuteTime": {
          "end_time": "2022-01-19T10:37:31.887375Z",
          "start_time": "2022-01-19T10:37:31.882051Z"
        },
        "slideshow": {
          "slide_type": "-"
        }
      },
      "outputs": [],
      "source": [
        "from scipy.sparse import csc_matrix, csr_matrix, coo_matrix"
      ],
      "id": "62a1fb39"
    },
    {
      "cell_type": "code",
      "execution_count": 96,
      "metadata": {},
      "outputs": [],
      "source": [
        "probs = np.full(fill_value=1/4, shape=(4,))\n",
        "probs"
      ],
      "id": "9d36d5f0"
    },
    {
      "cell_type": "code",
      "execution_count": 97,
      "metadata": {},
      "outputs": [],
      "source": [
        "X = np.random.multinomial(n=2, pvals=probs, size=4)   # check you understand what is going on \n",
        "X"
      ],
      "id": "d3cfa4f2"
    },
    {
      "cell_type": "code",
      "execution_count": 98,
      "metadata": {
        "ExecuteTime": {
          "end_time": "2022-01-19T10:37:48.232516Z",
          "start_time": "2022-01-19T10:37:48.228484Z"
        }
      },
      "outputs": [],
      "source": [
        "probs"
      ],
      "id": "0361a523"
    },
    {
      "cell_type": "code",
      "execution_count": 99,
      "metadata": {
        "ExecuteTime": {
          "end_time": "2022-01-19T10:37:48.397749Z",
          "start_time": "2022-01-19T10:37:48.392611Z"
        }
      },
      "outputs": [],
      "source": [
        "X_coo = coo_matrix(X)  ## coordinate format"
      ],
      "id": "1c666218"
    },
    {
      "cell_type": "code",
      "execution_count": 100,
      "metadata": {},
      "outputs": [],
      "source": [
        "print(X_coo)\n",
        "X_coo"
      ],
      "id": "adadab37"
    },
    {
      "cell_type": "code",
      "execution_count": 101,
      "metadata": {
        "ExecuteTime": {
          "end_time": "2022-01-19T10:38:09.049157Z",
          "start_time": "2022-01-19T10:38:09.044598Z"
        },
        "slideshow": {
          "slide_type": "subslide"
        }
      },
      "outputs": [],
      "source": [
        "X_coo.nnz    # number pf non-zero coordinates "
      ],
      "id": "d01fbc3e"
    },
    {
      "cell_type": "code",
      "execution_count": 102,
      "metadata": {
        "ExecuteTime": {
          "end_time": "2022-01-19T10:38:14.258127Z",
          "start_time": "2022-01-19T10:38:14.251407Z"
        }
      },
      "outputs": [],
      "source": [
        "print(X, end='\\n----\\n')\n",
        "print(X_coo.data, end='\\n----\\n')\n",
        "print(X_coo.row, end='\\n----\\n')\n",
        "print(X_coo.col, end='\\n----\\n')"
      ],
      "id": "46c4c612"
    },
    {
      "cell_type": "markdown",
      "metadata": {},
      "source": [
        "There is also\n",
        "\n",
        "-   `csr_matrix`: sparse rows format\n",
        "-   `csc_matrix`: sparse columns format\n",
        "\n",
        "Sparse rows is often used for machine learning: sparse features vectors\n",
        "\n",
        "But sparse column format useful as well (e.g. coordinate gradient\n",
        "descent)\n",
        "\n",
        "## Bored with decimals?"
      ],
      "id": "83f1b969-bc61-4935-bdfb-10094c5b5ba9"
    },
    {
      "cell_type": "code",
      "execution_count": 103,
      "metadata": {
        "ExecuteTime": {
          "end_time": "2022-01-19T10:39:04.467972Z",
          "start_time": "2022-01-19T10:39:04.461304Z"
        }
      },
      "outputs": [],
      "source": [
        "X = np.random.randn(5, 5)\n",
        "X"
      ],
      "id": "b4152a5c"
    },
    {
      "cell_type": "code",
      "execution_count": 104,
      "metadata": {
        "ExecuteTime": {
          "end_time": "2022-01-19T10:39:09.241253Z",
          "start_time": "2022-01-19T10:39:09.235736Z"
        }
      },
      "outputs": [],
      "source": [
        "# All number displayed by numpy (in the current kernel) are with 3 decimals max\n",
        "np.set_printoptions(precision=3)\n",
        "print(X)\n",
        "np.set_printoptions(precision=8)"
      ],
      "id": "9b5f64c8"
    },
    {
      "cell_type": "markdown",
      "metadata": {},
      "source": [
        "## Not limited to 2D!\n",
        "\n",
        "`numpy` arrays can have any number of dimension (hence the name\n",
        "`ndarray`)"
      ],
      "id": "a4762bc0-0ecc-4089-8fba-d3c8ddb1db76"
    },
    {
      "cell_type": "code",
      "execution_count": 105,
      "metadata": {
        "ExecuteTime": {
          "end_time": "2022-01-19T10:39:46.037716Z",
          "start_time": "2022-01-19T10:39:46.032228Z"
        }
      },
      "outputs": [],
      "source": [
        "X = np.arange(18).reshape(3, 2, 3)\n",
        "X"
      ],
      "id": "f05cd3ae"
    },
    {
      "cell_type": "code",
      "execution_count": 106,
      "metadata": {
        "ExecuteTime": {
          "end_time": "2022-01-19T10:39:46.370909Z",
          "start_time": "2022-01-19T10:39:46.366101Z"
        }
      },
      "outputs": [],
      "source": [
        "X.shape"
      ],
      "id": "8560a617"
    },
    {
      "cell_type": "code",
      "execution_count": 107,
      "metadata": {
        "ExecuteTime": {
          "end_time": "2022-01-19T10:39:51.793204Z",
          "start_time": "2022-01-19T10:39:51.787910Z"
        }
      },
      "outputs": [],
      "source": [
        "X.ndim"
      ],
      "id": "7fa2efdc"
    },
    {
      "cell_type": "markdown",
      "metadata": {},
      "source": [
        "Visit\n",
        "<https://numpy.org/doc/stable/reference/arrays.ndarray.html#arrays-ndarray>\n",
        "\n",
        "# Aggregations and statistics"
      ],
      "id": "b6ceec20-3334-4201-a26c-ceadb5472ca3"
    },
    {
      "cell_type": "code",
      "execution_count": 108,
      "metadata": {
        "ExecuteTime": {
          "end_time": "2022-01-19T10:40:09.476064Z",
          "start_time": "2022-01-19T10:40:09.470504Z"
        },
        "slideshow": {
          "slide_type": "subslide"
        }
      },
      "outputs": [],
      "source": [
        "A = np.arange(42).reshape(7, 6)\n",
        "A"
      ],
      "id": "3504e9cd"
    },
    {
      "cell_type": "code",
      "execution_count": 109,
      "metadata": {
        "ExecuteTime": {
          "end_time": "2022-01-19T10:40:15.486454Z",
          "start_time": "2022-01-19T10:40:15.480429Z"
        }
      },
      "outputs": [],
      "source": [
        "A.sum(), 42 * 41 //2"
      ],
      "id": "defda8eb"
    },
    {
      "cell_type": "code",
      "execution_count": 110,
      "metadata": {
        "ExecuteTime": {
          "end_time": "2022-01-19T10:40:30.552043Z",
          "start_time": "2022-01-19T10:40:30.545833Z"
        }
      },
      "outputs": [],
      "source": [
        "A[:, 3].mean(), np.mean (3 + np.arange(0, 42, 6))"
      ],
      "id": "840d7bc2"
    },
    {
      "cell_type": "code",
      "execution_count": 111,
      "metadata": {
        "ExecuteTime": {
          "end_time": "2022-01-19T10:40:35.563769Z",
          "start_time": "2022-01-19T10:40:35.558458Z"
        }
      },
      "outputs": [],
      "source": [
        "A.mean(axis=0)"
      ],
      "id": "187b8448"
    },
    {
      "cell_type": "code",
      "execution_count": 112,
      "metadata": {
        "ExecuteTime": {
          "end_time": "2022-01-19T10:41:32.219284Z",
          "start_time": "2022-01-19T10:41:32.213546Z"
        }
      },
      "outputs": [],
      "source": [
        "A.mean(axis=1)"
      ],
      "id": "e9400d3d"
    },
    {
      "cell_type": "code",
      "execution_count": 113,
      "metadata": {
        "ExecuteTime": {
          "end_time": "2022-01-19T10:41:36.654691Z",
          "start_time": "2022-01-19T10:41:36.649712Z"
        },
        "slideshow": {
          "slide_type": "subslide"
        }
      },
      "outputs": [],
      "source": [
        "A[:,3].std(), A[:,3].var()"
      ],
      "id": "c13e3348"
    },
    {
      "cell_type": "code",
      "execution_count": 114,
      "metadata": {
        "ExecuteTime": {
          "end_time": "2022-01-19T10:41:41.843358Z",
          "start_time": "2022-01-19T10:41:41.837835Z"
        }
      },
      "outputs": [],
      "source": [
        "A[:,3].min(), A[:,3].max()"
      ],
      "id": "0849519f"
    },
    {
      "cell_type": "code",
      "execution_count": 115,
      "metadata": {
        "ExecuteTime": {
          "end_time": "2022-01-19T10:42:19.023192Z",
          "start_time": "2022-01-19T10:42:19.017379Z"
        }
      },
      "outputs": [],
      "source": [
        "A.cumsum(axis=0)"
      ],
      "id": "b96b9966"
    },
    {
      "cell_type": "code",
      "execution_count": 116,
      "metadata": {
        "ExecuteTime": {
          "end_time": "2022-01-19T10:41:49.658126Z",
          "start_time": "2022-01-19T10:41:49.652337Z"
        }
      },
      "outputs": [],
      "source": [
        "A"
      ],
      "id": "261440f1"
    },
    {
      "cell_type": "code",
      "execution_count": 117,
      "metadata": {
        "ExecuteTime": {
          "end_time": "2022-01-19T10:42:28.725423Z",
          "start_time": "2022-01-19T10:42:28.720388Z"
        }
      },
      "outputs": [],
      "source": [
        "# sum of diagonal\n",
        "A.trace()"
      ],
      "id": "aa7fed13"
    },
    {
      "cell_type": "markdown",
      "metadata": {},
      "source": [
        "# Linear Algebra"
      ],
      "id": "1e1d4b5b-d74c-4a60-a410-9d9ed3f4dd29"
    },
    {
      "cell_type": "code",
      "execution_count": 118,
      "metadata": {
        "ExecuteTime": {
          "end_time": "2022-01-19T10:43:28.663538Z",
          "start_time": "2022-01-19T10:43:28.659546Z"
        },
        "slideshow": {
          "slide_type": "subslide"
        }
      },
      "outputs": [],
      "source": [
        "A = np.arange(30).reshape(6, 5)\n",
        "v1 = np.arange(0, 5)\n",
        "v2 = np.arange(5, 10)"
      ],
      "id": "53f80b8f"
    },
    {
      "cell_type": "code",
      "execution_count": 119,
      "metadata": {
        "ExecuteTime": {
          "end_time": "2022-01-19T10:43:28.871370Z",
          "start_time": "2022-01-19T10:43:28.866058Z"
        }
      },
      "outputs": [],
      "source": [
        "A"
      ],
      "id": "6a5b72cf"
    },
    {
      "cell_type": "code",
      "execution_count": 120,
      "metadata": {
        "ExecuteTime": {
          "end_time": "2022-01-19T10:43:29.041390Z",
          "start_time": "2022-01-19T10:43:29.035397Z"
        }
      },
      "outputs": [],
      "source": [
        "v1, v2"
      ],
      "id": "d8de2a92"
    },
    {
      "cell_type": "code",
      "execution_count": 121,
      "metadata": {
        "ExecuteTime": {
          "end_time": "2022-01-19T10:43:30.302802Z",
          "start_time": "2022-01-19T10:43:30.297408Z"
        },
        "slideshow": {
          "slide_type": "-"
        }
      },
      "outputs": [],
      "source": [
        "v1 * v2"
      ],
      "id": "8b50b46f"
    },
    {
      "cell_type": "code",
      "execution_count": 122,
      "metadata": {},
      "outputs": [],
      "source": [
        "v1.dot(v2), np.sum(v1* v2)"
      ],
      "id": "dfc3a677"
    },
    {
      "cell_type": "code",
      "execution_count": 123,
      "metadata": {},
      "outputs": [],
      "source": [
        "v1.reshape(5,1) @ v2.reshape(1,5)"
      ],
      "id": "bcc5bcaa"
    },
    {
      "cell_type": "markdown",
      "metadata": {},
      "source": [
        "## Inner products"
      ],
      "id": "b146e0e2-e0e4-4226-bfff-da7899691d65"
    },
    {
      "cell_type": "code",
      "execution_count": 124,
      "metadata": {
        "ExecuteTime": {
          "end_time": "2022-01-19T10:43:39.940939Z",
          "start_time": "2022-01-19T10:43:39.935975Z"
        },
        "slideshow": {
          "slide_type": "-"
        }
      },
      "outputs": [],
      "source": [
        "# Inner product between vectors\n",
        "print(v1.dot(v2))\n",
        "\n",
        "# You can use also (but first solution is better)\n",
        "print(np.dot(v1, v2))"
      ],
      "id": "a6851603"
    },
    {
      "cell_type": "code",
      "execution_count": 125,
      "metadata": {
        "ExecuteTime": {
          "end_time": "2022-01-19T10:43:41.034492Z",
          "start_time": "2022-01-19T10:43:41.028651Z"
        },
        "slideshow": {
          "slide_type": "-"
        }
      },
      "outputs": [],
      "source": [
        "A, v1"
      ],
      "id": "88d690ac"
    },
    {
      "cell_type": "code",
      "execution_count": 126,
      "metadata": {
        "ExecuteTime": {
          "end_time": "2022-01-19T10:43:45.633853Z",
          "start_time": "2022-01-19T10:43:45.628678Z"
        }
      },
      "outputs": [],
      "source": [
        "A.shape, v1.shape"
      ],
      "id": "258d0188"
    },
    {
      "cell_type": "code",
      "execution_count": 127,
      "metadata": {
        "ExecuteTime": {
          "end_time": "2022-01-19T10:43:55.770813Z",
          "start_time": "2022-01-19T10:43:55.766693Z"
        }
      },
      "outputs": [],
      "source": [
        "# Matrix-vector inner product\n",
        "A.dot(v1)"
      ],
      "id": "253990aa"
    },
    {
      "cell_type": "code",
      "execution_count": 128,
      "metadata": {
        "ExecuteTime": {
          "end_time": "2022-01-19T10:44:01.146695Z",
          "start_time": "2022-01-19T10:44:01.138719Z"
        },
        "slideshow": {
          "slide_type": "subslide"
        }
      },
      "outputs": [],
      "source": [
        "# Transpose\n",
        "A.T"
      ],
      "id": "9c6ac243"
    },
    {
      "cell_type": "code",
      "execution_count": 129,
      "metadata": {
        "ExecuteTime": {
          "end_time": "2022-01-19T10:44:05.408599Z",
          "start_time": "2022-01-19T10:44:05.403379Z"
        },
        "slideshow": {
          "slide_type": "-"
        }
      },
      "outputs": [],
      "source": [
        "print(v1)\n",
        "# Inline operations (same for *=, /=, -=)\n",
        "v1 += 2"
      ],
      "id": "f38b28f3"
    },
    {
      "cell_type": "markdown",
      "metadata": {},
      "source": [
        "## Linear systems"
      ],
      "id": "986cd119-5154-4d42-a6b0-5f53cc88902a"
    },
    {
      "cell_type": "code",
      "execution_count": 130,
      "metadata": {
        "ExecuteTime": {
          "end_time": "2022-01-19T10:44:47.947222Z",
          "start_time": "2022-01-19T10:44:47.942465Z"
        },
        "slideshow": {
          "slide_type": "-"
        }
      },
      "outputs": [],
      "source": [
        "A = np.array([[42,2,3], [4,5,6], [7,8,9]])\n",
        "b = np.array([1,2,3])\n",
        "print(A, b, sep=2 * '\\n')"
      ],
      "id": "df673d04"
    },
    {
      "cell_type": "code",
      "execution_count": 131,
      "metadata": {
        "ExecuteTime": {
          "end_time": "2022-01-19T10:44:48.103750Z",
          "start_time": "2022-01-19T10:44:48.096615Z"
        }
      },
      "outputs": [],
      "source": [
        "# solve a system of linear equations\n",
        "x = np.linalg.solve(A, b)\n",
        "x"
      ],
      "id": "e388b940"
    },
    {
      "cell_type": "code",
      "execution_count": 132,
      "metadata": {
        "ExecuteTime": {
          "end_time": "2022-01-19T10:44:49.896958Z",
          "start_time": "2022-01-19T10:44:49.890609Z"
        },
        "slideshow": {
          "slide_type": "-"
        }
      },
      "outputs": [],
      "source": [
        "A.dot(x)"
      ],
      "id": "e625004b"
    },
    {
      "cell_type": "markdown",
      "metadata": {},
      "source": [
        "## Eigenvalues and eigenvectors"
      ],
      "id": "31963bda-1b4d-4e9c-af42-362479f3d223"
    },
    {
      "cell_type": "code",
      "execution_count": 133,
      "metadata": {
        "ExecuteTime": {
          "end_time": "2022-01-19T10:45:14.757150Z",
          "start_time": "2022-01-19T10:45:14.750149Z"
        },
        "slideshow": {
          "slide_type": "-"
        }
      },
      "outputs": [],
      "source": [
        "A = np.random.rand(3,3)\n",
        "B = np.random.rand(3,3)\n",
        "\n",
        "evals, evecs = np.linalg.eig(A)\n",
        "evals"
      ],
      "id": "05b80693"
    },
    {
      "cell_type": "code",
      "execution_count": 134,
      "metadata": {
        "ExecuteTime": {
          "end_time": "2022-01-19T10:45:16.164688Z",
          "start_time": "2022-01-19T10:45:16.159112Z"
        }
      },
      "outputs": [],
      "source": [
        "evecs"
      ],
      "id": "049df5aa"
    },
    {
      "cell_type": "markdown",
      "metadata": {},
      "source": [
        "## Singular value decomposition (SVD)\n",
        "\n",
        "Decomposes any matrix $A \\in \\mathbb R^{m \\times n}$ as follows: $$\n",
        "A = U \\times S \\times V^\\top\n",
        "$$ where - $U$ and $V$ are orthonormal matrices (meaning that\n",
        "$U^\\top \\times U = I$ and $V^\\top \\times V = I$) - $S$ is a diagonal\n",
        "matrix that contains the *singular* values in non-increasing order"
      ],
      "id": "6cfad1de-1743-4036-a6cd-4bb6ada600f2"
    },
    {
      "cell_type": "code",
      "execution_count": 135,
      "metadata": {
        "ExecuteTime": {
          "end_time": "2022-01-19T10:47:54.504658Z",
          "start_time": "2022-01-19T10:47:54.500097Z"
        }
      },
      "outputs": [],
      "source": [
        "print(A)\n",
        "U, S, V = np.linalg.svd(A)"
      ],
      "id": "82f61973"
    },
    {
      "cell_type": "code",
      "execution_count": 136,
      "metadata": {
        "ExecuteTime": {
          "end_time": "2022-01-19T10:48:52.598626Z",
          "start_time": "2022-01-19T10:48:52.592465Z"
        }
      },
      "outputs": [],
      "source": [
        "U.dot(np.diag(S)).dot(V)"
      ],
      "id": "22e50af0"
    },
    {
      "cell_type": "code",
      "execution_count": 137,
      "metadata": {},
      "outputs": [],
      "source": [
        "A - U @ np.diag(S) @ V"
      ],
      "id": "158f364f"
    },
    {
      "cell_type": "code",
      "execution_count": 138,
      "metadata": {
        "ExecuteTime": {
          "end_time": "2022-01-19T10:49:07.814713Z",
          "start_time": "2022-01-19T10:49:07.809269Z"
        },
        "slideshow": {
          "slide_type": "subslide"
        }
      },
      "outputs": [],
      "source": [
        "# U and V are indeed orthonormal\n",
        "np.set_printoptions(precision=2)\n",
        "print(U.T.dot(U), V.T.dot(V), sep=2 * '\\n')\n",
        "np.set_printoptions(precision=8)"
      ],
      "id": "58b33a0f"
    },
    {
      "cell_type": "markdown",
      "metadata": {},
      "source": [
        "## Exercice: the racoon SVD\n",
        "\n",
        "-   Load the racoon face picture using `scipy.misc.face()`\n",
        "-   Visualize the picture\n",
        "-   Write a function which reshapes the picture into a 2D array, and\n",
        "    computes the best rank-r approximation of it (the prototype of the\n",
        "    function is `compute_approx(X, r)`\n",
        "-   Display the different approximations for r between 5 and 100"
      ],
      "id": "19f5cfdb-d7a1-43e2-af0b-d280facc930a"
    },
    {
      "cell_type": "code",
      "execution_count": 139,
      "metadata": {},
      "outputs": [],
      "source": [
        "!pip3 install pooch"
      ],
      "id": "25fcd36d"
    },
    {
      "cell_type": "code",
      "execution_count": 140,
      "metadata": {
        "ExecuteTime": {
          "end_time": "2022-01-19T10:49:33.476362Z",
          "start_time": "2022-01-19T10:49:33.198685Z"
        },
        "slideshow": {
          "slide_type": "subslide"
        }
      },
      "outputs": [],
      "source": [
        "import numpy as np\n",
        "from scipy.datasets import face\n",
        "import matplotlib.pyplot as plt\n",
        "%matplotlib inline\n",
        "\n",
        "X = face()"
      ],
      "id": "743ce31a"
    },
    {
      "cell_type": "code",
      "execution_count": 141,
      "metadata": {},
      "outputs": [],
      "source": [
        "type(X)"
      ],
      "id": "f78f85bd"
    },
    {
      "cell_type": "code",
      "execution_count": 142,
      "metadata": {
        "ExecuteTime": {
          "end_time": "2022-01-19T10:49:33.476362Z",
          "start_time": "2022-01-19T10:49:33.198685Z"
        },
        "slideshow": {
          "slide_type": "subslide"
        }
      },
      "outputs": [],
      "source": [
        "plt.imshow(X)\n",
        "_ = plt.axis('off')"
      ],
      "id": "1342adab"
    },
    {
      "cell_type": "code",
      "execution_count": 143,
      "metadata": {
        "ExecuteTime": {
          "end_time": "2022-01-19T10:53:29.332090Z",
          "start_time": "2022-01-19T10:53:28.069519Z"
        }
      },
      "outputs": [],
      "source": [
        "n_rows, n_cols, n_channels = X.shape\n",
        "X_reshaped = X.reshape(n_rows, n_cols * n_channels)\n",
        "U, S, V = np.linalg.svd(X_reshaped, full_matrices=False)"
      ],
      "id": "e9311e17"
    },
    {
      "cell_type": "code",
      "execution_count": 144,
      "metadata": {
        "ExecuteTime": {
          "end_time": "2022-01-19T10:54:28.825206Z",
          "start_time": "2022-01-19T10:54:28.819913Z"
        }
      },
      "outputs": [],
      "source": [
        "X_reshaped.shape"
      ],
      "id": "0828db42"
    },
    {
      "cell_type": "code",
      "execution_count": 145,
      "metadata": {
        "ExecuteTime": {
          "end_time": "2022-01-19T10:53:58.531955Z",
          "start_time": "2022-01-19T10:53:58.526383Z"
        }
      },
      "outputs": [],
      "source": [
        "X.shape"
      ],
      "id": "a6320c5f"
    },
    {
      "cell_type": "code",
      "execution_count": 146,
      "metadata": {
        "ExecuteTime": {
          "end_time": "2022-01-19T10:53:43.697818Z",
          "start_time": "2022-01-19T10:53:43.259439Z"
        }
      },
      "outputs": [],
      "source": [
        "plt.plot(S**2)  ## a kind of screeplot\n",
        "plt.yscale(\"log\")"
      ],
      "id": "736ec357"
    },
    {
      "cell_type": "code",
      "execution_count": 147,
      "metadata": {
        "ExecuteTime": {
          "end_time": "2022-01-19T10:56:57.594009Z",
          "start_time": "2022-01-19T10:56:57.588737Z"
        },
        "slideshow": {
          "slide_type": "subslide"
        }
      },
      "outputs": [],
      "source": [
        "def compute_approx(X: np.ndarray, r: int):\n",
        "    \"\"\"Computes the best rank-r approximation of X using SVD.\n",
        "    We expect X to the 3D array corresponding to a color image, that we \n",
        "    reduce to a 2D one to apply SVD (no broadcasting).\n",
        "    \n",
        "    Parameters\n",
        "    ----------\n",
        "    X : `np.ndarray`, shape=(n_rows, n_cols, 3)\n",
        "        The input 3D ndarray\n",
        "    \n",
        "    r : `int`\n",
        "        The desired rank\n",
        "        \n",
        "    Return\n",
        "    ------\n",
        "    output : `np.ndarray`, shape=(n_rows, n_cols, 3)\n",
        "        The best rank-r approximation of X\n",
        "    \"\"\"\n",
        "    n_rows, n_cols, n_channels = X.shape\n",
        "    # Reshape X to a 2D array\n",
        "    X_reshape = X.reshape(n_rows, n_cols * n_channels)\n",
        "    # Compute SVD\n",
        "    U, S, V = np.linalg.svd(X_reshape, full_matrices=False)\n",
        "    # Keep only the top r first singular values\n",
        "    S[r:] = 0\n",
        "    # Compute the approximation\n",
        "    X_reshape_r = U.dot(np.diag(S)).dot(V)\n",
        "    # Put it between 0 and 255 again and cast to integer type\n",
        "    return X_reshape_r.clip(min=0, max=255).astype('int')\\\n",
        "        .reshape(n_rows, n_cols, n_channels)"
      ],
      "id": "6d451672"
    },
    {
      "cell_type": "code",
      "execution_count": 148,
      "metadata": {
        "ExecuteTime": {
          "end_time": "2022-01-19T10:57:57.381214Z",
          "start_time": "2022-01-19T10:57:52.533636Z"
        },
        "slideshow": {
          "slide_type": "subslide"
        }
      },
      "outputs": [],
      "source": [
        "ranks = [100, 70, 50, 30, 10, 5]\n",
        "n_ranks = len(ranks)\n",
        "for i, r in enumerate(ranks):\n",
        "    X_r = compute_approx(X, r)\n",
        "    # plt.subplot(n_ranks, 1, i + 1)\n",
        "    plt.figure(figsize=(5, 5))\n",
        "    plt.imshow(X_r)\n",
        "    _ = plt.axis('off')\n",
        "    # plt.title(f'Rank {r} approximation of the racoon' % r, fontsize=16)\n",
        "    plt.tight_layout()"
      ],
      "id": "3993ff47"
    },
    {
      "cell_type": "markdown",
      "metadata": {},
      "source": [
        "> **Variations**\n",
        ">\n",
        "> In the code above, we recompute the SVD of `X` for every element in\n",
        "> list `rank`.  \n",
        "> In the next chunk, we compute the SVD once, and define a *generator*\n",
        "> to generate the low rank approximations of matrix `X`. We take\n",
        "> advantage of the fact that the SVD defines an orthonormal basis for\n",
        "> the space of matrices. In this adapted orthonormal basis the optimal\n",
        "> low rank approximations of $X$ have a sparse expansion."
      ],
      "id": "73b823d0-8b41-4f99-9f14-c5cef37df212"
    },
    {
      "cell_type": "code",
      "execution_count": 149,
      "metadata": {},
      "outputs": [],
      "source": [
        "def gen_rank_k_approx(X):\n",
        "    \"\"\"Generator for low rank \n",
        "    approximation of a matrix X using truncated SVD.\n",
        "\n",
        "    Args:\n",
        "        X (numpy.ndarray): a numerical matrix\n",
        "\n",
        "    Yields:\n",
        "        (int,numpy.ndarray): rank k and best rank-k approximation of X using truncated SVD(according to Eckart-Young theorem).\n",
        "    \"\"\"  \n",
        "    U, S, V = np.linalg.svd(X, full_matrices=False)\n",
        "    r = 0\n",
        "    Y = np.zeros_like(X, dtype='float64')\n",
        "    while (r<len(S)):\n",
        "      Y = Y + S[r] * (U[:,r,np.newaxis] @ V[r,:, np.newaxis].T)\n",
        "      r += 1\n",
        "      yield r, Y"
      ],
      "id": "2769e2b3"
    },
    {
      "cell_type": "code",
      "execution_count": 150,
      "metadata": {},
      "outputs": [],
      "source": [
        "g = gen_rank_k_approx(X_reshaped) "
      ],
      "id": "d7bf5784"
    },
    {
      "cell_type": "code",
      "execution_count": 151,
      "metadata": {},
      "outputs": [],
      "source": [
        "for i in range(100):\n",
        "    _, Xr = next(g)\n",
        "    if i % 10 ==0:  \n",
        "      plt.figure(figsize=(5, 5))\n",
        "      plt.imshow(\n",
        "          Xr\n",
        "          .clip(min=0, max=255)\n",
        "          .astype('int')\n",
        "          .reshape(n_rows, n_cols, n_channels)\n",
        "      )\n",
        "      _ = plt.axis('off')\n",
        "      plt.tight_layout()"
      ],
      "id": "34032c81"
    },
    {
      "cell_type": "markdown",
      "metadata": {},
      "source": [
        "Visit <https://numpy.org/numpy-tutorials/content/tutorial-svd.html>"
      ],
      "id": "ddc32d07-0644-44d1-9d01-d0c910f9b91b"
    }
  ],
  "nbformat": 4,
  "nbformat_minor": 5,
  "metadata": {
    "kernelspec": {
      "name": "python3",
      "display_name": "Python 3 (ipykernel)",
      "language": "python",
      "path": "/usr/share/jupyter/kernels/python3"
    },
    "language_info": {
      "name": "python",
      "codemirror_mode": {
        "name": "ipython",
        "version": "3"
      },
      "file_extension": ".py",
      "mimetype": "text/x-python",
      "nbconvert_exporter": "python",
      "pygments_lexer": "ipython3",
      "version": "3.12.3"
    }
  }
}